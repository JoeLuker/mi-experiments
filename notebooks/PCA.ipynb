{
 "cells": [
  {
   "cell_type": "markdown",
   "metadata": {},
   "source": [
    "# Model Emphasis and Analysis Demo\n",
    "\n",
    "This notebook demonstrates the key features of the model emphasis, analysis, and generation capabilities."
   ]
  },
  {
   "cell_type": "code",
   "execution_count": 1,
   "metadata": {},
   "outputs": [
    {
     "name": "stderr",
     "output_type": "stream",
     "text": [
      "/Users/jluker/mi-experiments/.venv/lib/python3.13/site-packages/tqdm/auto.py:21: TqdmWarning: IProgress not found. Please update jupyter and ipywidgets. See https://ipywidgets.readthedocs.io/en/stable/user_install.html\n",
      "  from .autonotebook import tqdm as notebook_tqdm\n"
     ]
    }
   ],
   "source": [
    "import mlx.core as mx\n",
    "import mlx.nn as nn\n",
    "\n",
    "from mi_experiments.utils.loading import load\n",
    "\n",
    "import re\n",
    "from dataclasses import dataclass\n",
    "from typing import Dict, Optional, Union\n",
    "\n",
    "from mlx_lm.tokenizer_utils import TokenizerWrapper\n",
    "\n",
    "import pandas as pd\n",
    "import numpy as np\n",
    "from sklearn.decomposition import PCA\n",
    "\n",
    "import plotly.graph_objects as go\n",
    "\n",
    "from mi_experiments.core.cache import BatchedKVCache"
   ]
  },
  {
   "cell_type": "code",
   "execution_count": 2,
   "metadata": {},
   "outputs": [
    {
     "name": "stderr",
     "output_type": "stream",
     "text": [
      "Fetching 7 files: 100%|██████████| 7/7 [00:00<00:00, 97218.97it/s]\n"
     ]
    }
   ],
   "source": [
    "\n",
    "# Load the model\n",
    "model, tokenizer = load(\"mlx-community/Mistral-7B-Instruct-v0.3-4bit\")\n",
    "\n",
    "# Utility functions\n",
    "def create_additive_causal_mask(N: int, offset: int = 0):\n",
    "    rinds = mx.arange(offset + N)\n",
    "    linds = mx.arange(offset, offset + N) if offset else rinds\n",
    "    mask = linds[:, None] < rinds[None]\n",
    "    return mask * -1e9\n",
    "\n",
    "@dataclass\n",
    "class ModelArgs:\n",
    "    model_type: str\n",
    "    hidden_size: int\n",
    "    num_hidden_layers: int\n",
    "    intermediate_size: int\n",
    "    num_attention_heads: int\n",
    "    rms_norm_eps: float\n",
    "    vocab_size: int\n",
    "    head_dim: Optional[int] = None\n",
    "    max_position_embeddings: Optional[int] = None\n",
    "    num_key_value_heads: Optional[int] = None\n",
    "    attention_bias: bool = False\n",
    "    mlp_bias: bool = False\n",
    "    rope_theta: float = 10000\n",
    "    rope_traditional: bool = False\n",
    "    rope_scaling: Optional[Dict[str, Union[float, str]]] = None\n",
    "    tie_word_embeddings: bool = True\n",
    "\n",
    "    @classmethod\n",
    "    def from_model(cls, model: nn.Module):\n",
    "        return cls(\n",
    "            model_type=model.model_type,\n",
    "            hidden_size=model.args.hidden_size,\n",
    "            num_hidden_layers=model.args.num_hidden_layers,\n",
    "            intermediate_size=model.args.intermediate_size,\n",
    "            num_attention_heads=model.args.num_attention_heads,\n",
    "            rms_norm_eps=model.args.rms_norm_eps,\n",
    "            vocab_size=model.args.vocab_size,\n",
    "            head_dim=model.head_dim,\n",
    "            num_key_value_heads=model.n_kv_heads,\n",
    "            tie_word_embeddings=model.args.tie_word_embeddings\n",
    "        )\n",
    "\n",
    "# Extract model arguments\n",
    "model_args = ModelArgs.from_model(model)\n",
    "\n",
    "# Ensure tokenizer is wrapped\n",
    "if not isinstance(tokenizer, TokenizerWrapper):\n",
    "    tokenizer = TokenizerWrapper(tokenizer)\n",
    "\n",
    "def format_prompt(prompt: str) -> str:\n",
    "    return f\"[INST] {prompt} [/INST]\"\n",
    "\n",
    "def extract_generated_text(full_text: str) -> str:\n",
    "    match = re.search(r'\\[/INST\\]\\s*(.*)', full_text, re.DOTALL)\n",
    "    return match.group(1).strip() if match else \"\""
   ]
  },
  {
   "cell_type": "code",
   "execution_count": 3,
   "metadata": {},
   "outputs": [],
   "source": [
    "def get_pca_values_df_aligned_batched(model, tokenizer):\n",
    "\n",
    "        # Set padding token if not already set\n",
    "    if tokenizer.pad_token is None:\n",
    "        tokenizer.pad_token = tokenizer.eos_token\n",
    "        tokenizer.pad_token_id = tokenizer.eos_token_id\n",
    "        \n",
    "    entries = [\"Monday is\", \"Tuesday is\", \"Wednesday is\", \"Thursday is\", \"Friday is\", \"Saturday is\", \"Sunday is\"]\n",
    "    \n",
    "    # Prepare all prompts\n",
    "    prompts = [f\"The day is {entry}\" for entry in entries]\n",
    "    \n",
    "    # Tokenize all prompts at once\n",
    "    tokenized = tokenizer._tokenizer(prompts, padding=True, return_tensors=\"np\")\n",
    "    tokens = mx.array(tokenized['input_ids'])\n",
    "    \n",
    "    num_layers = len(model.layers)\n",
    "    batch_size = len(entries)\n",
    "    pca_values = []\n",
    "    \n",
    "    # Get token values for all entries\n",
    "    token_values = [\n",
    "        tokenizer._tokenizer.decode(tokenized['input_ids'][i][-1])\n",
    "        for i in range(batch_size)\n",
    "    ]\n",
    "    \n",
    "    # First pass to get reference from last layer\n",
    "    kv_heads = ([model.n_kv_heads] * num_layers \n",
    "                if isinstance(model.n_kv_heads, int)\n",
    "                else model.n_kv_heads)\n",
    "    \n",
    "    # Create cache for last layer\n",
    "    cache = [BatchedKVCache(model.head_dim, n, batch_size) for n in kv_heads]\n",
    "    layer_output = model.get_layer_output(num_layers-1, tokens, cache=cache)\n",
    "    \n",
    "    # Get hidden states for last tokens\n",
    "    hidden_states = layer_output[:, -1, :].tolist()\n",
    "    hidden_states = np.array(hidden_states)\n",
    "    hidden_states = (hidden_states - np.mean(hidden_states, axis=0)) / (np.std(hidden_states, axis=0) + 1e-8)\n",
    "    \n",
    "    pca = PCA(n_components=3, svd_solver='full')\n",
    "    reference_proj = pca.fit_transform(hidden_states)\n",
    "    \n",
    "    # Process all layers\n",
    "    for layer_num in range(num_layers):\n",
    "        # Create new cache for each layer\n",
    "        cache = [BatchedKVCache(model.head_dim, n, batch_size) for n in kv_heads]\n",
    "        \n",
    "        # Get layer output for all entries at once\n",
    "        layer_output = model.get_layer_output(layer_num, tokens, cache=cache)\n",
    "        \n",
    "        # Get hidden states for last tokens\n",
    "        hidden_states = layer_output[:, -1, :].tolist()\n",
    "        hidden_states = np.array(hidden_states)\n",
    "        hidden_states = (hidden_states - np.mean(hidden_states, axis=0)) / (np.std(hidden_states, axis=0) + 1e-8)\n",
    "        \n",
    "        pca = PCA(n_components=3, svd_solver='full')\n",
    "        projected = pca.fit_transform(hidden_states)\n",
    "        \n",
    "        explained_variance = pca.explained_variance_ratio_\n",
    "        cumulative_variance = np.cumsum(explained_variance)\n",
    "        \n",
    "        # Align with reference projection\n",
    "        if layer_num != num_layers-1:\n",
    "            for i in range(3):\n",
    "                corr = np.corrcoef(reference_proj[:, i], projected[:, i])[0, 1]\n",
    "                if corr < 0:\n",
    "                    projected[:, i] *= -1\n",
    "        \n",
    "        for i, entry in enumerate(entries):\n",
    "            pca_values.append({\n",
    "                'Layer': layer_num,\n",
    "                'Entry': entry,\n",
    "                'Token': token_values[i],\n",
    "                'PCA1': round(projected[i, 0], 4),\n",
    "                'PCA2': round(projected[i, 1], 4),\n",
    "                'PCA3': round(projected[i, 2], 4),\n",
    "                'PCA1_var': round(explained_variance[0] * 100, 2),\n",
    "                'PCA2_var': round(explained_variance[1] * 100, 2),\n",
    "                'PCA3_var': round(explained_variance[2] * 100, 2),\n",
    "                'Cumulative_var': round(cumulative_variance[2] * 100, 2)\n",
    "            })\n",
    "    \n",
    "    return pd.DataFrame(pca_values)"
   ]
  },
  {
   "cell_type": "code",
   "execution_count": 4,
   "metadata": {},
   "outputs": [
    {
     "name": "stdout",
     "output_type": "stream",
     "text": [
      "\n",
      "Full DataFrame:\n"
     ]
    },
    {
     "data": {
      "text/html": [
       "<style type=\"text/css\">\n",
       "#T_9064e  {\n",
       "  max-height: 400px;\n",
       "  overflow-y: scroll;\n",
       "  display: block;\n",
       "}\n",
       "</style>\n",
       "<table id=\"T_9064e\">\n",
       "  <thead>\n",
       "    <tr>\n",
       "      <th class=\"blank level0\" >&nbsp;</th>\n",
       "      <th id=\"T_9064e_level0_col0\" class=\"col_heading level0 col0\" >Layer</th>\n",
       "      <th id=\"T_9064e_level0_col1\" class=\"col_heading level0 col1\" >Entry</th>\n",
       "      <th id=\"T_9064e_level0_col2\" class=\"col_heading level0 col2\" >Token</th>\n",
       "      <th id=\"T_9064e_level0_col3\" class=\"col_heading level0 col3\" >PCA1</th>\n",
       "      <th id=\"T_9064e_level0_col4\" class=\"col_heading level0 col4\" >PCA2</th>\n",
       "      <th id=\"T_9064e_level0_col5\" class=\"col_heading level0 col5\" >PCA3</th>\n",
       "      <th id=\"T_9064e_level0_col6\" class=\"col_heading level0 col6\" >PCA1_var</th>\n",
       "      <th id=\"T_9064e_level0_col7\" class=\"col_heading level0 col7\" >PCA2_var</th>\n",
       "      <th id=\"T_9064e_level0_col8\" class=\"col_heading level0 col8\" >PCA3_var</th>\n",
       "      <th id=\"T_9064e_level0_col9\" class=\"col_heading level0 col9\" >Cumulative_var</th>\n",
       "    </tr>\n",
       "  </thead>\n",
       "  <tbody>\n",
       "    <tr>\n",
       "      <th id=\"T_9064e_level0_row0\" class=\"row_heading level0 row0\" >0</th>\n",
       "      <td id=\"T_9064e_row0_col0\" class=\"data row0 col0\" >0</td>\n",
       "      <td id=\"T_9064e_row0_col1\" class=\"data row0 col1\" >Monday is</td>\n",
       "      <td id=\"T_9064e_row0_col2\" class=\"data row0 col2\" >is</td>\n",
       "      <td id=\"T_9064e_row0_col3\" class=\"data row0 col3\" >-19.072300</td>\n",
       "      <td id=\"T_9064e_row0_col4\" class=\"data row0 col4\" >-48.108800</td>\n",
       "      <td id=\"T_9064e_row0_col5\" class=\"data row0 col5\" >-27.675300</td>\n",
       "      <td id=\"T_9064e_row0_col6\" class=\"data row0 col6\" >31.770000</td>\n",
       "      <td id=\"T_9064e_row0_col7\" class=\"data row0 col7\" >18.320000</td>\n",
       "      <td id=\"T_9064e_row0_col8\" class=\"data row0 col8\" >17.100000</td>\n",
       "      <td id=\"T_9064e_row0_col9\" class=\"data row0 col9\" >67.190000</td>\n",
       "    </tr>\n",
       "    <tr>\n",
       "      <th id=\"T_9064e_level0_row1\" class=\"row_heading level0 row1\" >1</th>\n",
       "      <td id=\"T_9064e_row1_col0\" class=\"data row1 col0\" >0</td>\n",
       "      <td id=\"T_9064e_row1_col1\" class=\"data row1 col1\" >Tuesday is</td>\n",
       "      <td id=\"T_9064e_row1_col2\" class=\"data row1 col2\" >is</td>\n",
       "      <td id=\"T_9064e_row1_col3\" class=\"data row1 col3\" >-32.295600</td>\n",
       "      <td id=\"T_9064e_row1_col4\" class=\"data row1 col4\" >5.534900</td>\n",
       "      <td id=\"T_9064e_row1_col5\" class=\"data row1 col5\" >16.751800</td>\n",
       "      <td id=\"T_9064e_row1_col6\" class=\"data row1 col6\" >31.770000</td>\n",
       "      <td id=\"T_9064e_row1_col7\" class=\"data row1 col7\" >18.320000</td>\n",
       "      <td id=\"T_9064e_row1_col8\" class=\"data row1 col8\" >17.100000</td>\n",
       "      <td id=\"T_9064e_row1_col9\" class=\"data row1 col9\" >67.190000</td>\n",
       "    </tr>\n",
       "    <tr>\n",
       "      <th id=\"T_9064e_level0_row2\" class=\"row_heading level0 row2\" >2</th>\n",
       "      <td id=\"T_9064e_row2_col0\" class=\"data row2 col0\" >0</td>\n",
       "      <td id=\"T_9064e_row2_col1\" class=\"data row2 col1\" >Wednesday is</td>\n",
       "      <td id=\"T_9064e_row2_col2\" class=\"data row2 col2\" >is</td>\n",
       "      <td id=\"T_9064e_row2_col3\" class=\"data row2 col3\" >-34.943400</td>\n",
       "      <td id=\"T_9064e_row2_col4\" class=\"data row2 col4\" >2.412100</td>\n",
       "      <td id=\"T_9064e_row2_col5\" class=\"data row2 col5\" >27.284200</td>\n",
       "      <td id=\"T_9064e_row2_col6\" class=\"data row2 col6\" >31.770000</td>\n",
       "      <td id=\"T_9064e_row2_col7\" class=\"data row2 col7\" >18.320000</td>\n",
       "      <td id=\"T_9064e_row2_col8\" class=\"data row2 col8\" >17.100000</td>\n",
       "      <td id=\"T_9064e_row2_col9\" class=\"data row2 col9\" >67.190000</td>\n",
       "    </tr>\n",
       "    <tr>\n",
       "      <th id=\"T_9064e_level0_row3\" class=\"row_heading level0 row3\" >3</th>\n",
       "      <td id=\"T_9064e_row3_col0\" class=\"data row3 col0\" >0</td>\n",
       "      <td id=\"T_9064e_row3_col1\" class=\"data row3 col1\" >Thursday is</td>\n",
       "      <td id=\"T_9064e_row3_col2\" class=\"data row3 col2\" >is</td>\n",
       "      <td id=\"T_9064e_row3_col3\" class=\"data row3 col3\" >-23.191500</td>\n",
       "      <td id=\"T_9064e_row3_col4\" class=\"data row3 col4\" >10.983500</td>\n",
       "      <td id=\"T_9064e_row3_col5\" class=\"data row3 col5\" >11.648700</td>\n",
       "      <td id=\"T_9064e_row3_col6\" class=\"data row3 col6\" >31.770000</td>\n",
       "      <td id=\"T_9064e_row3_col7\" class=\"data row3 col7\" >18.320000</td>\n",
       "      <td id=\"T_9064e_row3_col8\" class=\"data row3 col8\" >17.100000</td>\n",
       "      <td id=\"T_9064e_row3_col9\" class=\"data row3 col9\" >67.190000</td>\n",
       "    </tr>\n",
       "    <tr>\n",
       "      <th id=\"T_9064e_level0_row4\" class=\"row_heading level0 row4\" >4</th>\n",
       "      <td id=\"T_9064e_row4_col0\" class=\"data row4 col0\" >0</td>\n",
       "      <td id=\"T_9064e_row4_col1\" class=\"data row4 col1\" >Friday is</td>\n",
       "      <td id=\"T_9064e_row4_col2\" class=\"data row4 col2\" >is</td>\n",
       "      <td id=\"T_9064e_row4_col3\" class=\"data row4 col3\" >7.045500</td>\n",
       "      <td id=\"T_9064e_row4_col4\" class=\"data row4 col4\" >14.352700</td>\n",
       "      <td id=\"T_9064e_row4_col5\" class=\"data row4 col5\" >-48.004800</td>\n",
       "      <td id=\"T_9064e_row4_col6\" class=\"data row4 col6\" >31.770000</td>\n",
       "      <td id=\"T_9064e_row4_col7\" class=\"data row4 col7\" >18.320000</td>\n",
       "      <td id=\"T_9064e_row4_col8\" class=\"data row4 col8\" >17.100000</td>\n",
       "      <td id=\"T_9064e_row4_col9\" class=\"data row4 col9\" >67.190000</td>\n",
       "    </tr>\n",
       "    <tr>\n",
       "      <th id=\"T_9064e_level0_row5\" class=\"row_heading level0 row5\" >5</th>\n",
       "      <td id=\"T_9064e_row5_col0\" class=\"data row5 col0\" >0</td>\n",
       "      <td id=\"T_9064e_row5_col1\" class=\"data row5 col1\" >Saturday is</td>\n",
       "      <td id=\"T_9064e_row5_col2\" class=\"data row5 col2\" >is</td>\n",
       "      <td id=\"T_9064e_row5_col3\" class=\"data row5 col3\" >33.280100</td>\n",
       "      <td id=\"T_9064e_row5_col4\" class=\"data row5 col4\" >42.524200</td>\n",
       "      <td id=\"T_9064e_row5_col5\" class=\"data row5 col5\" >-5.341000</td>\n",
       "      <td id=\"T_9064e_row5_col6\" class=\"data row5 col6\" >31.770000</td>\n",
       "      <td id=\"T_9064e_row5_col7\" class=\"data row5 col7\" >18.320000</td>\n",
       "      <td id=\"T_9064e_row5_col8\" class=\"data row5 col8\" >17.100000</td>\n",
       "      <td id=\"T_9064e_row5_col9\" class=\"data row5 col9\" >67.190000</td>\n",
       "    </tr>\n",
       "    <tr>\n",
       "      <th id=\"T_9064e_level0_row6\" class=\"row_heading level0 row6\" >6</th>\n",
       "      <td id=\"T_9064e_row6_col0\" class=\"data row6 col0\" >0</td>\n",
       "      <td id=\"T_9064e_row6_col1\" class=\"data row6 col1\" >Sunday is</td>\n",
       "      <td id=\"T_9064e_row6_col2\" class=\"data row6 col2\" >is</td>\n",
       "      <td id=\"T_9064e_row6_col3\" class=\"data row6 col3\" >69.177300</td>\n",
       "      <td id=\"T_9064e_row6_col4\" class=\"data row6 col4\" >-27.698600</td>\n",
       "      <td id=\"T_9064e_row6_col5\" class=\"data row6 col5\" >25.336400</td>\n",
       "      <td id=\"T_9064e_row6_col6\" class=\"data row6 col6\" >31.770000</td>\n",
       "      <td id=\"T_9064e_row6_col7\" class=\"data row6 col7\" >18.320000</td>\n",
       "      <td id=\"T_9064e_row6_col8\" class=\"data row6 col8\" >17.100000</td>\n",
       "      <td id=\"T_9064e_row6_col9\" class=\"data row6 col9\" >67.190000</td>\n",
       "    </tr>\n",
       "    <tr>\n",
       "      <th id=\"T_9064e_level0_row7\" class=\"row_heading level0 row7\" >7</th>\n",
       "      <td id=\"T_9064e_row7_col0\" class=\"data row7 col0\" >1</td>\n",
       "      <td id=\"T_9064e_row7_col1\" class=\"data row7 col1\" >Monday is</td>\n",
       "      <td id=\"T_9064e_row7_col2\" class=\"data row7 col2\" >is</td>\n",
       "      <td id=\"T_9064e_row7_col3\" class=\"data row7 col3\" >-25.468800</td>\n",
       "      <td id=\"T_9064e_row7_col4\" class=\"data row7 col4\" >-39.484100</td>\n",
       "      <td id=\"T_9064e_row7_col5\" class=\"data row7 col5\" >-28.082200</td>\n",
       "      <td id=\"T_9064e_row7_col6\" class=\"data row7 col6\" >28.040000</td>\n",
       "      <td id=\"T_9064e_row7_col7\" class=\"data row7 col7\" >20.080000</td>\n",
       "      <td id=\"T_9064e_row7_col8\" class=\"data row7 col8\" >17.410000</td>\n",
       "      <td id=\"T_9064e_row7_col9\" class=\"data row7 col9\" >65.540000</td>\n",
       "    </tr>\n",
       "    <tr>\n",
       "      <th id=\"T_9064e_level0_row8\" class=\"row_heading level0 row8\" >8</th>\n",
       "      <td id=\"T_9064e_row8_col0\" class=\"data row8 col0\" >1</td>\n",
       "      <td id=\"T_9064e_row8_col1\" class=\"data row8 col1\" >Tuesday is</td>\n",
       "      <td id=\"T_9064e_row8_col2\" class=\"data row8 col2\" >is</td>\n",
       "      <td id=\"T_9064e_row8_col3\" class=\"data row8 col3\" >-25.616600</td>\n",
       "      <td id=\"T_9064e_row8_col4\" class=\"data row8 col4\" >-5.838000</td>\n",
       "      <td id=\"T_9064e_row8_col5\" class=\"data row8 col5\" >20.578300</td>\n",
       "      <td id=\"T_9064e_row8_col6\" class=\"data row8 col6\" >28.040000</td>\n",
       "      <td id=\"T_9064e_row8_col7\" class=\"data row8 col7\" >20.080000</td>\n",
       "      <td id=\"T_9064e_row8_col8\" class=\"data row8 col8\" >17.410000</td>\n",
       "      <td id=\"T_9064e_row8_col9\" class=\"data row8 col9\" >65.540000</td>\n",
       "    </tr>\n",
       "    <tr>\n",
       "      <th id=\"T_9064e_level0_row9\" class=\"row_heading level0 row9\" >9</th>\n",
       "      <td id=\"T_9064e_row9_col0\" class=\"data row9 col0\" >1</td>\n",
       "      <td id=\"T_9064e_row9_col1\" class=\"data row9 col1\" >Wednesday is</td>\n",
       "      <td id=\"T_9064e_row9_col2\" class=\"data row9 col2\" >is</td>\n",
       "      <td id=\"T_9064e_row9_col3\" class=\"data row9 col3\" >-26.429000</td>\n",
       "      <td id=\"T_9064e_row9_col4\" class=\"data row9 col4\" >-5.617000</td>\n",
       "      <td id=\"T_9064e_row9_col5\" class=\"data row9 col5\" >17.883300</td>\n",
       "      <td id=\"T_9064e_row9_col6\" class=\"data row9 col6\" >28.040000</td>\n",
       "      <td id=\"T_9064e_row9_col7\" class=\"data row9 col7\" >20.080000</td>\n",
       "      <td id=\"T_9064e_row9_col8\" class=\"data row9 col8\" >17.410000</td>\n",
       "      <td id=\"T_9064e_row9_col9\" class=\"data row9 col9\" >65.540000</td>\n",
       "    </tr>\n",
       "    <tr>\n",
       "      <th id=\"T_9064e_level0_row10\" class=\"row_heading level0 row10\" >10</th>\n",
       "      <td id=\"T_9064e_row10_col0\" class=\"data row10 col0\" >1</td>\n",
       "      <td id=\"T_9064e_row10_col1\" class=\"data row10 col1\" >Thursday is</td>\n",
       "      <td id=\"T_9064e_row10_col2\" class=\"data row10 col2\" >is</td>\n",
       "      <td id=\"T_9064e_row10_col3\" class=\"data row10 col3\" >-20.816500</td>\n",
       "      <td id=\"T_9064e_row10_col4\" class=\"data row10 col4\" >11.399000</td>\n",
       "      <td id=\"T_9064e_row10_col5\" class=\"data row10 col5\" >22.938800</td>\n",
       "      <td id=\"T_9064e_row10_col6\" class=\"data row10 col6\" >28.040000</td>\n",
       "      <td id=\"T_9064e_row10_col7\" class=\"data row10 col7\" >20.080000</td>\n",
       "      <td id=\"T_9064e_row10_col8\" class=\"data row10 col8\" >17.410000</td>\n",
       "      <td id=\"T_9064e_row10_col9\" class=\"data row10 col9\" >65.540000</td>\n",
       "    </tr>\n",
       "    <tr>\n",
       "      <th id=\"T_9064e_level0_row11\" class=\"row_heading level0 row11\" >11</th>\n",
       "      <td id=\"T_9064e_row11_col0\" class=\"data row11 col0\" >1</td>\n",
       "      <td id=\"T_9064e_row11_col1\" class=\"data row11 col1\" >Friday is</td>\n",
       "      <td id=\"T_9064e_row11_col2\" class=\"data row11 col2\" >is</td>\n",
       "      <td id=\"T_9064e_row11_col3\" class=\"data row11 col3\" >-4.605400</td>\n",
       "      <td id=\"T_9064e_row11_col4\" class=\"data row11 col4\" >40.750000</td>\n",
       "      <td id=\"T_9064e_row11_col5\" class=\"data row11 col5\" >-49.667600</td>\n",
       "      <td id=\"T_9064e_row11_col6\" class=\"data row11 col6\" >28.040000</td>\n",
       "      <td id=\"T_9064e_row11_col7\" class=\"data row11 col7\" >20.080000</td>\n",
       "      <td id=\"T_9064e_row11_col8\" class=\"data row11 col8\" >17.410000</td>\n",
       "      <td id=\"T_9064e_row11_col9\" class=\"data row11 col9\" >65.540000</td>\n",
       "    </tr>\n",
       "    <tr>\n",
       "      <th id=\"T_9064e_level0_row12\" class=\"row_heading level0 row12\" >12</th>\n",
       "      <td id=\"T_9064e_row12_col0\" class=\"data row12 col0\" >1</td>\n",
       "      <td id=\"T_9064e_row12_col1\" class=\"data row12 col1\" >Saturday is</td>\n",
       "      <td id=\"T_9064e_row12_col2\" class=\"data row12 col2\" >is</td>\n",
       "      <td id=\"T_9064e_row12_col3\" class=\"data row12 col3\" >39.540600</td>\n",
       "      <td id=\"T_9064e_row12_col4\" class=\"data row12 col4\" >33.617600</td>\n",
       "      <td id=\"T_9064e_row12_col5\" class=\"data row12 col5\" >21.092500</td>\n",
       "      <td id=\"T_9064e_row12_col6\" class=\"data row12 col6\" >28.040000</td>\n",
       "      <td id=\"T_9064e_row12_col7\" class=\"data row12 col7\" >20.080000</td>\n",
       "      <td id=\"T_9064e_row12_col8\" class=\"data row12 col8\" >17.410000</td>\n",
       "      <td id=\"T_9064e_row12_col9\" class=\"data row12 col9\" >65.540000</td>\n",
       "    </tr>\n",
       "    <tr>\n",
       "      <th id=\"T_9064e_level0_row13\" class=\"row_heading level0 row13\" >13</th>\n",
       "      <td id=\"T_9064e_row13_col0\" class=\"data row13 col0\" >1</td>\n",
       "      <td id=\"T_9064e_row13_col1\" class=\"data row13 col1\" >Sunday is</td>\n",
       "      <td id=\"T_9064e_row13_col2\" class=\"data row13 col2\" >is</td>\n",
       "      <td id=\"T_9064e_row13_col3\" class=\"data row13 col3\" >63.395800</td>\n",
       "      <td id=\"T_9064e_row13_col4\" class=\"data row13 col4\" >-34.827500</td>\n",
       "      <td id=\"T_9064e_row13_col5\" class=\"data row13 col5\" >-4.743000</td>\n",
       "      <td id=\"T_9064e_row13_col6\" class=\"data row13 col6\" >28.040000</td>\n",
       "      <td id=\"T_9064e_row13_col7\" class=\"data row13 col7\" >20.080000</td>\n",
       "      <td id=\"T_9064e_row13_col8\" class=\"data row13 col8\" >17.410000</td>\n",
       "      <td id=\"T_9064e_row13_col9\" class=\"data row13 col9\" >65.540000</td>\n",
       "    </tr>\n",
       "    <tr>\n",
       "      <th id=\"T_9064e_level0_row14\" class=\"row_heading level0 row14\" >14</th>\n",
       "      <td id=\"T_9064e_row14_col0\" class=\"data row14 col0\" >2</td>\n",
       "      <td id=\"T_9064e_row14_col1\" class=\"data row14 col1\" >Monday is</td>\n",
       "      <td id=\"T_9064e_row14_col2\" class=\"data row14 col2\" >is</td>\n",
       "      <td id=\"T_9064e_row14_col3\" class=\"data row14 col3\" >-5.486700</td>\n",
       "      <td id=\"T_9064e_row14_col4\" class=\"data row14 col4\" >-57.119700</td>\n",
       "      <td id=\"T_9064e_row14_col5\" class=\"data row14 col5\" >-10.849900</td>\n",
       "      <td id=\"T_9064e_row14_col6\" class=\"data row14 col6\" >28.420000</td>\n",
       "      <td id=\"T_9064e_row14_col7\" class=\"data row14 col7\" >21.620000</td>\n",
       "      <td id=\"T_9064e_row14_col8\" class=\"data row14 col8\" >17.110000</td>\n",
       "      <td id=\"T_9064e_row14_col9\" class=\"data row14 col9\" >67.150000</td>\n",
       "    </tr>\n",
       "    <tr>\n",
       "      <th id=\"T_9064e_level0_row15\" class=\"row_heading level0 row15\" >15</th>\n",
       "      <td id=\"T_9064e_row15_col0\" class=\"data row15 col0\" >2</td>\n",
       "      <td id=\"T_9064e_row15_col1\" class=\"data row15 col1\" >Tuesday is</td>\n",
       "      <td id=\"T_9064e_row15_col2\" class=\"data row15 col2\" >is</td>\n",
       "      <td id=\"T_9064e_row15_col3\" class=\"data row15 col3\" >-27.553800</td>\n",
       "      <td id=\"T_9064e_row15_col4\" class=\"data row15 col4\" >-4.137000</td>\n",
       "      <td id=\"T_9064e_row15_col5\" class=\"data row15 col5\" >17.234600</td>\n",
       "      <td id=\"T_9064e_row15_col6\" class=\"data row15 col6\" >28.420000</td>\n",
       "      <td id=\"T_9064e_row15_col7\" class=\"data row15 col7\" >21.620000</td>\n",
       "      <td id=\"T_9064e_row15_col8\" class=\"data row15 col8\" >17.110000</td>\n",
       "      <td id=\"T_9064e_row15_col9\" class=\"data row15 col9\" >67.150000</td>\n",
       "    </tr>\n",
       "    <tr>\n",
       "      <th id=\"T_9064e_level0_row16\" class=\"row_heading level0 row16\" >16</th>\n",
       "      <td id=\"T_9064e_row16_col0\" class=\"data row16 col0\" >2</td>\n",
       "      <td id=\"T_9064e_row16_col1\" class=\"data row16 col1\" >Wednesday is</td>\n",
       "      <td id=\"T_9064e_row16_col2\" class=\"data row16 col2\" >is</td>\n",
       "      <td id=\"T_9064e_row16_col3\" class=\"data row16 col3\" >-28.085800</td>\n",
       "      <td id=\"T_9064e_row16_col4\" class=\"data row16 col4\" >-0.199100</td>\n",
       "      <td id=\"T_9064e_row16_col5\" class=\"data row16 col5\" >17.938900</td>\n",
       "      <td id=\"T_9064e_row16_col6\" class=\"data row16 col6\" >28.420000</td>\n",
       "      <td id=\"T_9064e_row16_col7\" class=\"data row16 col7\" >21.620000</td>\n",
       "      <td id=\"T_9064e_row16_col8\" class=\"data row16 col8\" >17.110000</td>\n",
       "      <td id=\"T_9064e_row16_col9\" class=\"data row16 col9\" >67.150000</td>\n",
       "    </tr>\n",
       "    <tr>\n",
       "      <th id=\"T_9064e_level0_row17\" class=\"row_heading level0 row17\" >17</th>\n",
       "      <td id=\"T_9064e_row17_col0\" class=\"data row17 col0\" >2</td>\n",
       "      <td id=\"T_9064e_row17_col1\" class=\"data row17 col1\" >Thursday is</td>\n",
       "      <td id=\"T_9064e_row17_col2\" class=\"data row17 col2\" >is</td>\n",
       "      <td id=\"T_9064e_row17_col3\" class=\"data row17 col3\" >-28.447600</td>\n",
       "      <td id=\"T_9064e_row17_col4\" class=\"data row17 col4\" >19.646700</td>\n",
       "      <td id=\"T_9064e_row17_col5\" class=\"data row17 col5\" >21.208100</td>\n",
       "      <td id=\"T_9064e_row17_col6\" class=\"data row17 col6\" >28.420000</td>\n",
       "      <td id=\"T_9064e_row17_col7\" class=\"data row17 col7\" >21.620000</td>\n",
       "      <td id=\"T_9064e_row17_col8\" class=\"data row17 col8\" >17.110000</td>\n",
       "      <td id=\"T_9064e_row17_col9\" class=\"data row17 col9\" >67.150000</td>\n",
       "    </tr>\n",
       "    <tr>\n",
       "      <th id=\"T_9064e_level0_row18\" class=\"row_heading level0 row18\" >18</th>\n",
       "      <td id=\"T_9064e_row18_col0\" class=\"data row18 col0\" >2</td>\n",
       "      <td id=\"T_9064e_row18_col1\" class=\"data row18 col1\" >Friday is</td>\n",
       "      <td id=\"T_9064e_row18_col2\" class=\"data row18 col2\" >is</td>\n",
       "      <td id=\"T_9064e_row18_col3\" class=\"data row18 col3\" >-7.196600</td>\n",
       "      <td id=\"T_9064e_row18_col4\" class=\"data row18 col4\" >8.909000</td>\n",
       "      <td id=\"T_9064e_row18_col5\" class=\"data row18 col5\" >-58.420200</td>\n",
       "      <td id=\"T_9064e_row18_col6\" class=\"data row18 col6\" >28.420000</td>\n",
       "      <td id=\"T_9064e_row18_col7\" class=\"data row18 col7\" >21.620000</td>\n",
       "      <td id=\"T_9064e_row18_col8\" class=\"data row18 col8\" >17.110000</td>\n",
       "      <td id=\"T_9064e_row18_col9\" class=\"data row18 col9\" >67.150000</td>\n",
       "    </tr>\n",
       "    <tr>\n",
       "      <th id=\"T_9064e_level0_row19\" class=\"row_heading level0 row19\" >19</th>\n",
       "      <td id=\"T_9064e_row19_col0\" class=\"data row19 col0\" >2</td>\n",
       "      <td id=\"T_9064e_row19_col1\" class=\"data row19 col1\" >Saturday is</td>\n",
       "      <td id=\"T_9064e_row19_col2\" class=\"data row19 col2\" >is</td>\n",
       "      <td id=\"T_9064e_row19_col3\" class=\"data row19 col3\" >25.724500</td>\n",
       "      <td id=\"T_9064e_row19_col4\" class=\"data row19 col4\" >47.381300</td>\n",
       "      <td id=\"T_9064e_row19_col5\" class=\"data row19 col5\" >-4.112900</td>\n",
       "      <td id=\"T_9064e_row19_col6\" class=\"data row19 col6\" >28.420000</td>\n",
       "      <td id=\"T_9064e_row19_col7\" class=\"data row19 col7\" >21.620000</td>\n",
       "      <td id=\"T_9064e_row19_col8\" class=\"data row19 col8\" >17.110000</td>\n",
       "      <td id=\"T_9064e_row19_col9\" class=\"data row19 col9\" >67.150000</td>\n",
       "    </tr>\n",
       "    <tr>\n",
       "      <th id=\"T_9064e_level0_row20\" class=\"row_heading level0 row20\" >20</th>\n",
       "      <td id=\"T_9064e_row20_col0\" class=\"data row20 col0\" >2</td>\n",
       "      <td id=\"T_9064e_row20_col1\" class=\"data row20 col1\" >Sunday is</td>\n",
       "      <td id=\"T_9064e_row20_col2\" class=\"data row20 col2\" >is</td>\n",
       "      <td id=\"T_9064e_row20_col3\" class=\"data row20 col3\" >71.046000</td>\n",
       "      <td id=\"T_9064e_row20_col4\" class=\"data row20 col4\" >-14.481200</td>\n",
       "      <td id=\"T_9064e_row20_col5\" class=\"data row20 col5\" >17.001300</td>\n",
       "      <td id=\"T_9064e_row20_col6\" class=\"data row20 col6\" >28.420000</td>\n",
       "      <td id=\"T_9064e_row20_col7\" class=\"data row20 col7\" >21.620000</td>\n",
       "      <td id=\"T_9064e_row20_col8\" class=\"data row20 col8\" >17.110000</td>\n",
       "      <td id=\"T_9064e_row20_col9\" class=\"data row20 col9\" >67.150000</td>\n",
       "    </tr>\n",
       "    <tr>\n",
       "      <th id=\"T_9064e_level0_row21\" class=\"row_heading level0 row21\" >21</th>\n",
       "      <td id=\"T_9064e_row21_col0\" class=\"data row21 col0\" >3</td>\n",
       "      <td id=\"T_9064e_row21_col1\" class=\"data row21 col1\" >Monday is</td>\n",
       "      <td id=\"T_9064e_row21_col2\" class=\"data row21 col2\" >is</td>\n",
       "      <td id=\"T_9064e_row21_col3\" class=\"data row21 col3\" >-17.275900</td>\n",
       "      <td id=\"T_9064e_row21_col4\" class=\"data row21 col4\" >-55.686800</td>\n",
       "      <td id=\"T_9064e_row21_col5\" class=\"data row21 col5\" >-1.427700</td>\n",
       "      <td id=\"T_9064e_row21_col6\" class=\"data row21 col6\" >27.830000</td>\n",
       "      <td id=\"T_9064e_row21_col7\" class=\"data row21 col7\" >21.700000</td>\n",
       "      <td id=\"T_9064e_row21_col8\" class=\"data row21 col8\" >18.070000</td>\n",
       "      <td id=\"T_9064e_row21_col9\" class=\"data row21 col9\" >67.600000</td>\n",
       "    </tr>\n",
       "    <tr>\n",
       "      <th id=\"T_9064e_level0_row22\" class=\"row_heading level0 row22\" >22</th>\n",
       "      <td id=\"T_9064e_row22_col0\" class=\"data row22 col0\" >3</td>\n",
       "      <td id=\"T_9064e_row22_col1\" class=\"data row22 col1\" >Tuesday is</td>\n",
       "      <td id=\"T_9064e_row22_col2\" class=\"data row22 col2\" >is</td>\n",
       "      <td id=\"T_9064e_row22_col3\" class=\"data row22 col3\" >-29.611900</td>\n",
       "      <td id=\"T_9064e_row22_col4\" class=\"data row22 col4\" >2.770500</td>\n",
       "      <td id=\"T_9064e_row22_col5\" class=\"data row22 col5\" >26.293100</td>\n",
       "      <td id=\"T_9064e_row22_col6\" class=\"data row22 col6\" >27.830000</td>\n",
       "      <td id=\"T_9064e_row22_col7\" class=\"data row22 col7\" >21.700000</td>\n",
       "      <td id=\"T_9064e_row22_col8\" class=\"data row22 col8\" >18.070000</td>\n",
       "      <td id=\"T_9064e_row22_col9\" class=\"data row22 col9\" >67.600000</td>\n",
       "    </tr>\n",
       "    <tr>\n",
       "      <th id=\"T_9064e_level0_row23\" class=\"row_heading level0 row23\" >23</th>\n",
       "      <td id=\"T_9064e_row23_col0\" class=\"data row23 col0\" >3</td>\n",
       "      <td id=\"T_9064e_row23_col1\" class=\"data row23 col1\" >Wednesday is</td>\n",
       "      <td id=\"T_9064e_row23_col2\" class=\"data row23 col2\" >is</td>\n",
       "      <td id=\"T_9064e_row23_col3\" class=\"data row23 col3\" >-27.127000</td>\n",
       "      <td id=\"T_9064e_row23_col4\" class=\"data row23 col4\" >7.624600</td>\n",
       "      <td id=\"T_9064e_row23_col5\" class=\"data row23 col5\" >17.396600</td>\n",
       "      <td id=\"T_9064e_row23_col6\" class=\"data row23 col6\" >27.830000</td>\n",
       "      <td id=\"T_9064e_row23_col7\" class=\"data row23 col7\" >21.700000</td>\n",
       "      <td id=\"T_9064e_row23_col8\" class=\"data row23 col8\" >18.070000</td>\n",
       "      <td id=\"T_9064e_row23_col9\" class=\"data row23 col9\" >67.600000</td>\n",
       "    </tr>\n",
       "    <tr>\n",
       "      <th id=\"T_9064e_level0_row24\" class=\"row_heading level0 row24\" >24</th>\n",
       "      <td id=\"T_9064e_row24_col0\" class=\"data row24 col0\" >3</td>\n",
       "      <td id=\"T_9064e_row24_col1\" class=\"data row24 col1\" >Thursday is</td>\n",
       "      <td id=\"T_9064e_row24_col2\" class=\"data row24 col2\" >is</td>\n",
       "      <td id=\"T_9064e_row24_col3\" class=\"data row24 col3\" >-20.513200</td>\n",
       "      <td id=\"T_9064e_row24_col4\" class=\"data row24 col4\" >25.474400</td>\n",
       "      <td id=\"T_9064e_row24_col5\" class=\"data row24 col5\" >6.256200</td>\n",
       "      <td id=\"T_9064e_row24_col6\" class=\"data row24 col6\" >27.830000</td>\n",
       "      <td id=\"T_9064e_row24_col7\" class=\"data row24 col7\" >21.700000</td>\n",
       "      <td id=\"T_9064e_row24_col8\" class=\"data row24 col8\" >18.070000</td>\n",
       "      <td id=\"T_9064e_row24_col9\" class=\"data row24 col9\" >67.600000</td>\n",
       "    </tr>\n",
       "    <tr>\n",
       "      <th id=\"T_9064e_level0_row25\" class=\"row_heading level0 row25\" >25</th>\n",
       "      <td id=\"T_9064e_row25_col0\" class=\"data row25 col0\" >3</td>\n",
       "      <td id=\"T_9064e_row25_col1\" class=\"data row25 col1\" >Friday is</td>\n",
       "      <td id=\"T_9064e_row25_col2\" class=\"data row25 col2\" >is</td>\n",
       "      <td id=\"T_9064e_row25_col3\" class=\"data row25 col3\" >-4.313700</td>\n",
       "      <td id=\"T_9064e_row25_col4\" class=\"data row25 col4\" >-2.522000</td>\n",
       "      <td id=\"T_9064e_row25_col5\" class=\"data row25 col5\" >-61.645800</td>\n",
       "      <td id=\"T_9064e_row25_col6\" class=\"data row25 col6\" >27.830000</td>\n",
       "      <td id=\"T_9064e_row25_col7\" class=\"data row25 col7\" >21.700000</td>\n",
       "      <td id=\"T_9064e_row25_col8\" class=\"data row25 col8\" >18.070000</td>\n",
       "      <td id=\"T_9064e_row25_col9\" class=\"data row25 col9\" >67.600000</td>\n",
       "    </tr>\n",
       "    <tr>\n",
       "      <th id=\"T_9064e_level0_row26\" class=\"row_heading level0 row26\" >26</th>\n",
       "      <td id=\"T_9064e_row26_col0\" class=\"data row26 col0\" >3</td>\n",
       "      <td id=\"T_9064e_row26_col1\" class=\"data row26 col1\" >Saturday is</td>\n",
       "      <td id=\"T_9064e_row26_col2\" class=\"data row26 col2\" >is</td>\n",
       "      <td id=\"T_9064e_row26_col3\" class=\"data row26 col3\" >30.119500</td>\n",
       "      <td id=\"T_9064e_row26_col4\" class=\"data row26 col4\" >43.952700</td>\n",
       "      <td id=\"T_9064e_row26_col5\" class=\"data row26 col5\" >-4.821200</td>\n",
       "      <td id=\"T_9064e_row26_col6\" class=\"data row26 col6\" >27.830000</td>\n",
       "      <td id=\"T_9064e_row26_col7\" class=\"data row26 col7\" >21.700000</td>\n",
       "      <td id=\"T_9064e_row26_col8\" class=\"data row26 col8\" >18.070000</td>\n",
       "      <td id=\"T_9064e_row26_col9\" class=\"data row26 col9\" >67.600000</td>\n",
       "    </tr>\n",
       "    <tr>\n",
       "      <th id=\"T_9064e_level0_row27\" class=\"row_heading level0 row27\" >27</th>\n",
       "      <td id=\"T_9064e_row27_col0\" class=\"data row27 col0\" >3</td>\n",
       "      <td id=\"T_9064e_row27_col1\" class=\"data row27 col1\" >Sunday is</td>\n",
       "      <td id=\"T_9064e_row27_col2\" class=\"data row27 col2\" >is</td>\n",
       "      <td id=\"T_9064e_row27_col3\" class=\"data row27 col3\" >68.722200</td>\n",
       "      <td id=\"T_9064e_row27_col4\" class=\"data row27 col4\" >-21.613300</td>\n",
       "      <td id=\"T_9064e_row27_col5\" class=\"data row27 col5\" >17.948700</td>\n",
       "      <td id=\"T_9064e_row27_col6\" class=\"data row27 col6\" >27.830000</td>\n",
       "      <td id=\"T_9064e_row27_col7\" class=\"data row27 col7\" >21.700000</td>\n",
       "      <td id=\"T_9064e_row27_col8\" class=\"data row27 col8\" >18.070000</td>\n",
       "      <td id=\"T_9064e_row27_col9\" class=\"data row27 col9\" >67.600000</td>\n",
       "    </tr>\n",
       "    <tr>\n",
       "      <th id=\"T_9064e_level0_row28\" class=\"row_heading level0 row28\" >28</th>\n",
       "      <td id=\"T_9064e_row28_col0\" class=\"data row28 col0\" >4</td>\n",
       "      <td id=\"T_9064e_row28_col1\" class=\"data row28 col1\" >Monday is</td>\n",
       "      <td id=\"T_9064e_row28_col2\" class=\"data row28 col2\" >is</td>\n",
       "      <td id=\"T_9064e_row28_col3\" class=\"data row28 col3\" >-6.416700</td>\n",
       "      <td id=\"T_9064e_row28_col4\" class=\"data row28 col4\" >-54.928800</td>\n",
       "      <td id=\"T_9064e_row28_col5\" class=\"data row28 col5\" >-15.841500</td>\n",
       "      <td id=\"T_9064e_row28_col6\" class=\"data row28 col6\" >28.420000</td>\n",
       "      <td id=\"T_9064e_row28_col7\" class=\"data row28 col7\" >22.660000</td>\n",
       "      <td id=\"T_9064e_row28_col8\" class=\"data row28 col8\" >18.910000</td>\n",
       "      <td id=\"T_9064e_row28_col9\" class=\"data row28 col9\" >70.000000</td>\n",
       "    </tr>\n",
       "    <tr>\n",
       "      <th id=\"T_9064e_level0_row29\" class=\"row_heading level0 row29\" >29</th>\n",
       "      <td id=\"T_9064e_row29_col0\" class=\"data row29 col0\" >4</td>\n",
       "      <td id=\"T_9064e_row29_col1\" class=\"data row29 col1\" >Tuesday is</td>\n",
       "      <td id=\"T_9064e_row29_col2\" class=\"data row29 col2\" >is</td>\n",
       "      <td id=\"T_9064e_row29_col3\" class=\"data row29 col3\" >-35.238300</td>\n",
       "      <td id=\"T_9064e_row29_col4\" class=\"data row29 col4\" >-9.558300</td>\n",
       "      <td id=\"T_9064e_row29_col5\" class=\"data row29 col5\" >26.165200</td>\n",
       "      <td id=\"T_9064e_row29_col6\" class=\"data row29 col6\" >28.420000</td>\n",
       "      <td id=\"T_9064e_row29_col7\" class=\"data row29 col7\" >22.660000</td>\n",
       "      <td id=\"T_9064e_row29_col8\" class=\"data row29 col8\" >18.910000</td>\n",
       "      <td id=\"T_9064e_row29_col9\" class=\"data row29 col9\" >70.000000</td>\n",
       "    </tr>\n",
       "    <tr>\n",
       "      <th id=\"T_9064e_level0_row30\" class=\"row_heading level0 row30\" >30</th>\n",
       "      <td id=\"T_9064e_row30_col0\" class=\"data row30 col0\" >4</td>\n",
       "      <td id=\"T_9064e_row30_col1\" class=\"data row30 col1\" >Wednesday is</td>\n",
       "      <td id=\"T_9064e_row30_col2\" class=\"data row30 col2\" >is</td>\n",
       "      <td id=\"T_9064e_row30_col3\" class=\"data row30 col3\" >-33.395400</td>\n",
       "      <td id=\"T_9064e_row30_col4\" class=\"data row30 col4\" >5.640600</td>\n",
       "      <td id=\"T_9064e_row30_col5\" class=\"data row30 col5\" >16.763600</td>\n",
       "      <td id=\"T_9064e_row30_col6\" class=\"data row30 col6\" >28.420000</td>\n",
       "      <td id=\"T_9064e_row30_col7\" class=\"data row30 col7\" >22.660000</td>\n",
       "      <td id=\"T_9064e_row30_col8\" class=\"data row30 col8\" >18.910000</td>\n",
       "      <td id=\"T_9064e_row30_col9\" class=\"data row30 col9\" >70.000000</td>\n",
       "    </tr>\n",
       "    <tr>\n",
       "      <th id=\"T_9064e_level0_row31\" class=\"row_heading level0 row31\" >31</th>\n",
       "      <td id=\"T_9064e_row31_col0\" class=\"data row31 col0\" >4</td>\n",
       "      <td id=\"T_9064e_row31_col1\" class=\"data row31 col1\" >Thursday is</td>\n",
       "      <td id=\"T_9064e_row31_col2\" class=\"data row31 col2\" >is</td>\n",
       "      <td id=\"T_9064e_row31_col3\" class=\"data row31 col3\" >-22.639600</td>\n",
       "      <td id=\"T_9064e_row31_col4\" class=\"data row31 col4\" >25.448400</td>\n",
       "      <td id=\"T_9064e_row31_col5\" class=\"data row31 col5\" >7.094600</td>\n",
       "      <td id=\"T_9064e_row31_col6\" class=\"data row31 col6\" >28.420000</td>\n",
       "      <td id=\"T_9064e_row31_col7\" class=\"data row31 col7\" >22.660000</td>\n",
       "      <td id=\"T_9064e_row31_col8\" class=\"data row31 col8\" >18.910000</td>\n",
       "      <td id=\"T_9064e_row31_col9\" class=\"data row31 col9\" >70.000000</td>\n",
       "    </tr>\n",
       "    <tr>\n",
       "      <th id=\"T_9064e_level0_row32\" class=\"row_heading level0 row32\" >32</th>\n",
       "      <td id=\"T_9064e_row32_col0\" class=\"data row32 col0\" >4</td>\n",
       "      <td id=\"T_9064e_row32_col1\" class=\"data row32 col1\" >Friday is</td>\n",
       "      <td id=\"T_9064e_row32_col2\" class=\"data row32 col2\" >is</td>\n",
       "      <td id=\"T_9064e_row32_col3\" class=\"data row32 col3\" >2.194500</td>\n",
       "      <td id=\"T_9064e_row32_col4\" class=\"data row32 col4\" >6.053800</td>\n",
       "      <td id=\"T_9064e_row32_col5\" class=\"data row32 col5\" >-59.219000</td>\n",
       "      <td id=\"T_9064e_row32_col6\" class=\"data row32 col6\" >28.420000</td>\n",
       "      <td id=\"T_9064e_row32_col7\" class=\"data row32 col7\" >22.660000</td>\n",
       "      <td id=\"T_9064e_row32_col8\" class=\"data row32 col8\" >18.910000</td>\n",
       "      <td id=\"T_9064e_row32_col9\" class=\"data row32 col9\" >70.000000</td>\n",
       "    </tr>\n",
       "    <tr>\n",
       "      <th id=\"T_9064e_level0_row33\" class=\"row_heading level0 row33\" >33</th>\n",
       "      <td id=\"T_9064e_row33_col0\" class=\"data row33 col0\" >4</td>\n",
       "      <td id=\"T_9064e_row33_col1\" class=\"data row33 col1\" >Saturday is</td>\n",
       "      <td id=\"T_9064e_row33_col2\" class=\"data row33 col2\" >is</td>\n",
       "      <td id=\"T_9064e_row33_col3\" class=\"data row33 col3\" >29.410500</td>\n",
       "      <td id=\"T_9064e_row33_col4\" class=\"data row33 col4\" >47.583600</td>\n",
       "      <td id=\"T_9064e_row33_col5\" class=\"data row33 col5\" >-0.441300</td>\n",
       "      <td id=\"T_9064e_row33_col6\" class=\"data row33 col6\" >28.420000</td>\n",
       "      <td id=\"T_9064e_row33_col7\" class=\"data row33 col7\" >22.660000</td>\n",
       "      <td id=\"T_9064e_row33_col8\" class=\"data row33 col8\" >18.910000</td>\n",
       "      <td id=\"T_9064e_row33_col9\" class=\"data row33 col9\" >70.000000</td>\n",
       "    </tr>\n",
       "    <tr>\n",
       "      <th id=\"T_9064e_level0_row34\" class=\"row_heading level0 row34\" >34</th>\n",
       "      <td id=\"T_9064e_row34_col0\" class=\"data row34 col0\" >4</td>\n",
       "      <td id=\"T_9064e_row34_col1\" class=\"data row34 col1\" >Sunday is</td>\n",
       "      <td id=\"T_9064e_row34_col2\" class=\"data row34 col2\" >is</td>\n",
       "      <td id=\"T_9064e_row34_col3\" class=\"data row34 col3\" >66.085000</td>\n",
       "      <td id=\"T_9064e_row34_col4\" class=\"data row34 col4\" >-20.239300</td>\n",
       "      <td id=\"T_9064e_row34_col5\" class=\"data row34 col5\" >25.478500</td>\n",
       "      <td id=\"T_9064e_row34_col6\" class=\"data row34 col6\" >28.420000</td>\n",
       "      <td id=\"T_9064e_row34_col7\" class=\"data row34 col7\" >22.660000</td>\n",
       "      <td id=\"T_9064e_row34_col8\" class=\"data row34 col8\" >18.910000</td>\n",
       "      <td id=\"T_9064e_row34_col9\" class=\"data row34 col9\" >70.000000</td>\n",
       "    </tr>\n",
       "    <tr>\n",
       "      <th id=\"T_9064e_level0_row35\" class=\"row_heading level0 row35\" >35</th>\n",
       "      <td id=\"T_9064e_row35_col0\" class=\"data row35 col0\" >5</td>\n",
       "      <td id=\"T_9064e_row35_col1\" class=\"data row35 col1\" >Monday is</td>\n",
       "      <td id=\"T_9064e_row35_col2\" class=\"data row35 col2\" >is</td>\n",
       "      <td id=\"T_9064e_row35_col3\" class=\"data row35 col3\" >-20.356600</td>\n",
       "      <td id=\"T_9064e_row35_col4\" class=\"data row35 col4\" >-42.175400</td>\n",
       "      <td id=\"T_9064e_row35_col5\" class=\"data row35 col5\" >-28.152900</td>\n",
       "      <td id=\"T_9064e_row35_col6\" class=\"data row35 col6\" >36.150000</td>\n",
       "      <td id=\"T_9064e_row35_col7\" class=\"data row35 col7\" >23.280000</td>\n",
       "      <td id=\"T_9064e_row35_col8\" class=\"data row35 col8\" >15.930000</td>\n",
       "      <td id=\"T_9064e_row35_col9\" class=\"data row35 col9\" >75.360000</td>\n",
       "    </tr>\n",
       "    <tr>\n",
       "      <th id=\"T_9064e_level0_row36\" class=\"row_heading level0 row36\" >36</th>\n",
       "      <td id=\"T_9064e_row36_col0\" class=\"data row36 col0\" >5</td>\n",
       "      <td id=\"T_9064e_row36_col1\" class=\"data row36 col1\" >Tuesday is</td>\n",
       "      <td id=\"T_9064e_row36_col2\" class=\"data row36 col2\" >is</td>\n",
       "      <td id=\"T_9064e_row36_col3\" class=\"data row36 col3\" >-29.308900</td>\n",
       "      <td id=\"T_9064e_row36_col4\" class=\"data row36 col4\" >-26.274000</td>\n",
       "      <td id=\"T_9064e_row36_col5\" class=\"data row36 col5\" >22.158500</td>\n",
       "      <td id=\"T_9064e_row36_col6\" class=\"data row36 col6\" >36.150000</td>\n",
       "      <td id=\"T_9064e_row36_col7\" class=\"data row36 col7\" >23.280000</td>\n",
       "      <td id=\"T_9064e_row36_col8\" class=\"data row36 col8\" >15.930000</td>\n",
       "      <td id=\"T_9064e_row36_col9\" class=\"data row36 col9\" >75.360000</td>\n",
       "    </tr>\n",
       "    <tr>\n",
       "      <th id=\"T_9064e_level0_row37\" class=\"row_heading level0 row37\" >37</th>\n",
       "      <td id=\"T_9064e_row37_col0\" class=\"data row37 col0\" >5</td>\n",
       "      <td id=\"T_9064e_row37_col1\" class=\"data row37 col1\" >Wednesday is</td>\n",
       "      <td id=\"T_9064e_row37_col2\" class=\"data row37 col2\" >is</td>\n",
       "      <td id=\"T_9064e_row37_col3\" class=\"data row37 col3\" >-29.761400</td>\n",
       "      <td id=\"T_9064e_row37_col4\" class=\"data row37 col4\" >6.102500</td>\n",
       "      <td id=\"T_9064e_row37_col5\" class=\"data row37 col5\" >24.546100</td>\n",
       "      <td id=\"T_9064e_row37_col6\" class=\"data row37 col6\" >36.150000</td>\n",
       "      <td id=\"T_9064e_row37_col7\" class=\"data row37 col7\" >23.280000</td>\n",
       "      <td id=\"T_9064e_row37_col8\" class=\"data row37 col8\" >15.930000</td>\n",
       "      <td id=\"T_9064e_row37_col9\" class=\"data row37 col9\" >75.360000</td>\n",
       "    </tr>\n",
       "    <tr>\n",
       "      <th id=\"T_9064e_level0_row38\" class=\"row_heading level0 row38\" >38</th>\n",
       "      <td id=\"T_9064e_row38_col0\" class=\"data row38 col0\" >5</td>\n",
       "      <td id=\"T_9064e_row38_col1\" class=\"data row38 col1\" >Thursday is</td>\n",
       "      <td id=\"T_9064e_row38_col2\" class=\"data row38 col2\" >is</td>\n",
       "      <td id=\"T_9064e_row38_col3\" class=\"data row38 col3\" >-20.440500</td>\n",
       "      <td id=\"T_9064e_row38_col4\" class=\"data row38 col4\" >17.655400</td>\n",
       "      <td id=\"T_9064e_row38_col5\" class=\"data row38 col5\" >19.386400</td>\n",
       "      <td id=\"T_9064e_row38_col6\" class=\"data row38 col6\" >36.150000</td>\n",
       "      <td id=\"T_9064e_row38_col7\" class=\"data row38 col7\" >23.280000</td>\n",
       "      <td id=\"T_9064e_row38_col8\" class=\"data row38 col8\" >15.930000</td>\n",
       "      <td id=\"T_9064e_row38_col9\" class=\"data row38 col9\" >75.360000</td>\n",
       "    </tr>\n",
       "    <tr>\n",
       "      <th id=\"T_9064e_level0_row39\" class=\"row_heading level0 row39\" >39</th>\n",
       "      <td id=\"T_9064e_row39_col0\" class=\"data row39 col0\" >5</td>\n",
       "      <td id=\"T_9064e_row39_col1\" class=\"data row39 col1\" >Friday is</td>\n",
       "      <td id=\"T_9064e_row39_col2\" class=\"data row39 col2\" >is</td>\n",
       "      <td id=\"T_9064e_row39_col3\" class=\"data row39 col3\" >-19.704800</td>\n",
       "      <td id=\"T_9064e_row39_col4\" class=\"data row39 col4\" >37.428200</td>\n",
       "      <td id=\"T_9064e_row39_col5\" class=\"data row39 col5\" >-46.095400</td>\n",
       "      <td id=\"T_9064e_row39_col6\" class=\"data row39 col6\" >36.150000</td>\n",
       "      <td id=\"T_9064e_row39_col7\" class=\"data row39 col7\" >23.280000</td>\n",
       "      <td id=\"T_9064e_row39_col8\" class=\"data row39 col8\" >15.930000</td>\n",
       "      <td id=\"T_9064e_row39_col9\" class=\"data row39 col9\" >75.360000</td>\n",
       "    </tr>\n",
       "    <tr>\n",
       "      <th id=\"T_9064e_level0_row40\" class=\"row_heading level0 row40\" >40</th>\n",
       "      <td id=\"T_9064e_row40_col0\" class=\"data row40 col0\" >5</td>\n",
       "      <td id=\"T_9064e_row40_col1\" class=\"data row40 col1\" >Saturday is</td>\n",
       "      <td id=\"T_9064e_row40_col2\" class=\"data row40 col2\" >is</td>\n",
       "      <td id=\"T_9064e_row40_col3\" class=\"data row40 col3\" >48.554600</td>\n",
       "      <td id=\"T_9064e_row40_col4\" class=\"data row40 col4\" >38.481700</td>\n",
       "      <td id=\"T_9064e_row40_col5\" class=\"data row40 col5\" >12.664100</td>\n",
       "      <td id=\"T_9064e_row40_col6\" class=\"data row40 col6\" >36.150000</td>\n",
       "      <td id=\"T_9064e_row40_col7\" class=\"data row40 col7\" >23.280000</td>\n",
       "      <td id=\"T_9064e_row40_col8\" class=\"data row40 col8\" >15.930000</td>\n",
       "      <td id=\"T_9064e_row40_col9\" class=\"data row40 col9\" >75.360000</td>\n",
       "    </tr>\n",
       "    <tr>\n",
       "      <th id=\"T_9064e_level0_row41\" class=\"row_heading level0 row41\" >41</th>\n",
       "      <td id=\"T_9064e_row41_col0\" class=\"data row41 col0\" >5</td>\n",
       "      <td id=\"T_9064e_row41_col1\" class=\"data row41 col1\" >Sunday is</td>\n",
       "      <td id=\"T_9064e_row41_col2\" class=\"data row41 col2\" >is</td>\n",
       "      <td id=\"T_9064e_row41_col3\" class=\"data row41 col3\" >71.017600</td>\n",
       "      <td id=\"T_9064e_row41_col4\" class=\"data row41 col4\" >-31.218300</td>\n",
       "      <td id=\"T_9064e_row41_col5\" class=\"data row41 col5\" >-4.506800</td>\n",
       "      <td id=\"T_9064e_row41_col6\" class=\"data row41 col6\" >36.150000</td>\n",
       "      <td id=\"T_9064e_row41_col7\" class=\"data row41 col7\" >23.280000</td>\n",
       "      <td id=\"T_9064e_row41_col8\" class=\"data row41 col8\" >15.930000</td>\n",
       "      <td id=\"T_9064e_row41_col9\" class=\"data row41 col9\" >75.360000</td>\n",
       "    </tr>\n",
       "    <tr>\n",
       "      <th id=\"T_9064e_level0_row42\" class=\"row_heading level0 row42\" >42</th>\n",
       "      <td id=\"T_9064e_row42_col0\" class=\"data row42 col0\" >6</td>\n",
       "      <td id=\"T_9064e_row42_col1\" class=\"data row42 col1\" >Monday is</td>\n",
       "      <td id=\"T_9064e_row42_col2\" class=\"data row42 col2\" >is</td>\n",
       "      <td id=\"T_9064e_row42_col3\" class=\"data row42 col3\" >-15.044900</td>\n",
       "      <td id=\"T_9064e_row42_col4\" class=\"data row42 col4\" >-45.206500</td>\n",
       "      <td id=\"T_9064e_row42_col5\" class=\"data row42 col5\" >-26.448500</td>\n",
       "      <td id=\"T_9064e_row42_col6\" class=\"data row42 col6\" >37.030000</td>\n",
       "      <td id=\"T_9064e_row42_col7\" class=\"data row42 col7\" >22.700000</td>\n",
       "      <td id=\"T_9064e_row42_col8\" class=\"data row42 col8\" >15.500000</td>\n",
       "      <td id=\"T_9064e_row42_col9\" class=\"data row42 col9\" >75.230000</td>\n",
       "    </tr>\n",
       "    <tr>\n",
       "      <th id=\"T_9064e_level0_row43\" class=\"row_heading level0 row43\" >43</th>\n",
       "      <td id=\"T_9064e_row43_col0\" class=\"data row43 col0\" >6</td>\n",
       "      <td id=\"T_9064e_row43_col1\" class=\"data row43 col1\" >Tuesday is</td>\n",
       "      <td id=\"T_9064e_row43_col2\" class=\"data row43 col2\" >is</td>\n",
       "      <td id=\"T_9064e_row43_col3\" class=\"data row43 col3\" >-24.628200</td>\n",
       "      <td id=\"T_9064e_row43_col4\" class=\"data row43 col4\" >-29.749800</td>\n",
       "      <td id=\"T_9064e_row43_col5\" class=\"data row43 col5\" >28.103000</td>\n",
       "      <td id=\"T_9064e_row43_col6\" class=\"data row43 col6\" >37.030000</td>\n",
       "      <td id=\"T_9064e_row43_col7\" class=\"data row43 col7\" >22.700000</td>\n",
       "      <td id=\"T_9064e_row43_col8\" class=\"data row43 col8\" >15.500000</td>\n",
       "      <td id=\"T_9064e_row43_col9\" class=\"data row43 col9\" >75.230000</td>\n",
       "    </tr>\n",
       "    <tr>\n",
       "      <th id=\"T_9064e_level0_row44\" class=\"row_heading level0 row44\" >44</th>\n",
       "      <td id=\"T_9064e_row44_col0\" class=\"data row44 col0\" >6</td>\n",
       "      <td id=\"T_9064e_row44_col1\" class=\"data row44 col1\" >Wednesday is</td>\n",
       "      <td id=\"T_9064e_row44_col2\" class=\"data row44 col2\" >is</td>\n",
       "      <td id=\"T_9064e_row44_col3\" class=\"data row44 col3\" >-33.494100</td>\n",
       "      <td id=\"T_9064e_row44_col4\" class=\"data row44 col4\" >10.947300</td>\n",
       "      <td id=\"T_9064e_row44_col5\" class=\"data row44 col5\" >21.645100</td>\n",
       "      <td id=\"T_9064e_row44_col6\" class=\"data row44 col6\" >37.030000</td>\n",
       "      <td id=\"T_9064e_row44_col7\" class=\"data row44 col7\" >22.700000</td>\n",
       "      <td id=\"T_9064e_row44_col8\" class=\"data row44 col8\" >15.500000</td>\n",
       "      <td id=\"T_9064e_row44_col9\" class=\"data row44 col9\" >75.230000</td>\n",
       "    </tr>\n",
       "    <tr>\n",
       "      <th id=\"T_9064e_level0_row45\" class=\"row_heading level0 row45\" >45</th>\n",
       "      <td id=\"T_9064e_row45_col0\" class=\"data row45 col0\" >6</td>\n",
       "      <td id=\"T_9064e_row45_col1\" class=\"data row45 col1\" >Thursday is</td>\n",
       "      <td id=\"T_9064e_row45_col2\" class=\"data row45 col2\" >is</td>\n",
       "      <td id=\"T_9064e_row45_col3\" class=\"data row45 col3\" >-23.436600</td>\n",
       "      <td id=\"T_9064e_row45_col4\" class=\"data row45 col4\" >19.505800</td>\n",
       "      <td id=\"T_9064e_row45_col5\" class=\"data row45 col5\" >15.632300</td>\n",
       "      <td id=\"T_9064e_row45_col6\" class=\"data row45 col6\" >37.030000</td>\n",
       "      <td id=\"T_9064e_row45_col7\" class=\"data row45 col7\" >22.700000</td>\n",
       "      <td id=\"T_9064e_row45_col8\" class=\"data row45 col8\" >15.500000</td>\n",
       "      <td id=\"T_9064e_row45_col9\" class=\"data row45 col9\" >75.230000</td>\n",
       "    </tr>\n",
       "    <tr>\n",
       "      <th id=\"T_9064e_level0_row46\" class=\"row_heading level0 row46\" >46</th>\n",
       "      <td id=\"T_9064e_row46_col0\" class=\"data row46 col0\" >6</td>\n",
       "      <td id=\"T_9064e_row46_col1\" class=\"data row46 col1\" >Friday is</td>\n",
       "      <td id=\"T_9064e_row46_col2\" class=\"data row46 col2\" >is</td>\n",
       "      <td id=\"T_9064e_row46_col3\" class=\"data row46 col3\" >-23.295700</td>\n",
       "      <td id=\"T_9064e_row46_col4\" class=\"data row46 col4\" >28.251600</td>\n",
       "      <td id=\"T_9064e_row46_col5\" class=\"data row46 col5\" >-46.451700</td>\n",
       "      <td id=\"T_9064e_row46_col6\" class=\"data row46 col6\" >37.030000</td>\n",
       "      <td id=\"T_9064e_row46_col7\" class=\"data row46 col7\" >22.700000</td>\n",
       "      <td id=\"T_9064e_row46_col8\" class=\"data row46 col8\" >15.500000</td>\n",
       "      <td id=\"T_9064e_row46_col9\" class=\"data row46 col9\" >75.230000</td>\n",
       "    </tr>\n",
       "    <tr>\n",
       "      <th id=\"T_9064e_level0_row47\" class=\"row_heading level0 row47\" >47</th>\n",
       "      <td id=\"T_9064e_row47_col0\" class=\"data row47 col0\" >6</td>\n",
       "      <td id=\"T_9064e_row47_col1\" class=\"data row47 col1\" >Saturday is</td>\n",
       "      <td id=\"T_9064e_row47_col2\" class=\"data row47 col2\" >is</td>\n",
       "      <td id=\"T_9064e_row47_col3\" class=\"data row47 col3\" >46.140900</td>\n",
       "      <td id=\"T_9064e_row47_col4\" class=\"data row47 col4\" >40.899400</td>\n",
       "      <td id=\"T_9064e_row47_col5\" class=\"data row47 col5\" >9.096100</td>\n",
       "      <td id=\"T_9064e_row47_col6\" class=\"data row47 col6\" >37.030000</td>\n",
       "      <td id=\"T_9064e_row47_col7\" class=\"data row47 col7\" >22.700000</td>\n",
       "      <td id=\"T_9064e_row47_col8\" class=\"data row47 col8\" >15.500000</td>\n",
       "      <td id=\"T_9064e_row47_col9\" class=\"data row47 col9\" >75.230000</td>\n",
       "    </tr>\n",
       "    <tr>\n",
       "      <th id=\"T_9064e_level0_row48\" class=\"row_heading level0 row48\" >48</th>\n",
       "      <td id=\"T_9064e_row48_col0\" class=\"data row48 col0\" >6</td>\n",
       "      <td id=\"T_9064e_row48_col1\" class=\"data row48 col1\" >Sunday is</td>\n",
       "      <td id=\"T_9064e_row48_col2\" class=\"data row48 col2\" >is</td>\n",
       "      <td id=\"T_9064e_row48_col3\" class=\"data row48 col3\" >73.758600</td>\n",
       "      <td id=\"T_9064e_row48_col4\" class=\"data row48 col4\" >-24.647800</td>\n",
       "      <td id=\"T_9064e_row48_col5\" class=\"data row48 col5\" >-1.576300</td>\n",
       "      <td id=\"T_9064e_row48_col6\" class=\"data row48 col6\" >37.030000</td>\n",
       "      <td id=\"T_9064e_row48_col7\" class=\"data row48 col7\" >22.700000</td>\n",
       "      <td id=\"T_9064e_row48_col8\" class=\"data row48 col8\" >15.500000</td>\n",
       "      <td id=\"T_9064e_row48_col9\" class=\"data row48 col9\" >75.230000</td>\n",
       "    </tr>\n",
       "    <tr>\n",
       "      <th id=\"T_9064e_level0_row49\" class=\"row_heading level0 row49\" >49</th>\n",
       "      <td id=\"T_9064e_row49_col0\" class=\"data row49 col0\" >7</td>\n",
       "      <td id=\"T_9064e_row49_col1\" class=\"data row49 col1\" >Monday is</td>\n",
       "      <td id=\"T_9064e_row49_col2\" class=\"data row49 col2\" >is</td>\n",
       "      <td id=\"T_9064e_row49_col3\" class=\"data row49 col3\" >-17.018000</td>\n",
       "      <td id=\"T_9064e_row49_col4\" class=\"data row49 col4\" >-44.060200</td>\n",
       "      <td id=\"T_9064e_row49_col5\" class=\"data row49 col5\" >-25.395700</td>\n",
       "      <td id=\"T_9064e_row49_col6\" class=\"data row49 col6\" >39.250000</td>\n",
       "      <td id=\"T_9064e_row49_col7\" class=\"data row49 col7\" >21.320000</td>\n",
       "      <td id=\"T_9064e_row49_col8\" class=\"data row49 col8\" >14.680000</td>\n",
       "      <td id=\"T_9064e_row49_col9\" class=\"data row49 col9\" >75.250000</td>\n",
       "    </tr>\n",
       "    <tr>\n",
       "      <th id=\"T_9064e_level0_row50\" class=\"row_heading level0 row50\" >50</th>\n",
       "      <td id=\"T_9064e_row50_col0\" class=\"data row50 col0\" >7</td>\n",
       "      <td id=\"T_9064e_row50_col1\" class=\"data row50 col1\" >Tuesday is</td>\n",
       "      <td id=\"T_9064e_row50_col2\" class=\"data row50 col2\" >is</td>\n",
       "      <td id=\"T_9064e_row50_col3\" class=\"data row50 col3\" >-26.083800</td>\n",
       "      <td id=\"T_9064e_row50_col4\" class=\"data row50 col4\" >-30.047800</td>\n",
       "      <td id=\"T_9064e_row50_col5\" class=\"data row50 col5\" >27.876400</td>\n",
       "      <td id=\"T_9064e_row50_col6\" class=\"data row50 col6\" >39.250000</td>\n",
       "      <td id=\"T_9064e_row50_col7\" class=\"data row50 col7\" >21.320000</td>\n",
       "      <td id=\"T_9064e_row50_col8\" class=\"data row50 col8\" >14.680000</td>\n",
       "      <td id=\"T_9064e_row50_col9\" class=\"data row50 col9\" >75.250000</td>\n",
       "    </tr>\n",
       "    <tr>\n",
       "      <th id=\"T_9064e_level0_row51\" class=\"row_heading level0 row51\" >51</th>\n",
       "      <td id=\"T_9064e_row51_col0\" class=\"data row51 col0\" >7</td>\n",
       "      <td id=\"T_9064e_row51_col1\" class=\"data row51 col1\" >Wednesday is</td>\n",
       "      <td id=\"T_9064e_row51_col2\" class=\"data row51 col2\" >is</td>\n",
       "      <td id=\"T_9064e_row51_col3\" class=\"data row51 col3\" >-35.438200</td>\n",
       "      <td id=\"T_9064e_row51_col4\" class=\"data row51 col4\" >13.421500</td>\n",
       "      <td id=\"T_9064e_row51_col5\" class=\"data row51 col5\" >21.093300</td>\n",
       "      <td id=\"T_9064e_row51_col6\" class=\"data row51 col6\" >39.250000</td>\n",
       "      <td id=\"T_9064e_row51_col7\" class=\"data row51 col7\" >21.320000</td>\n",
       "      <td id=\"T_9064e_row51_col8\" class=\"data row51 col8\" >14.680000</td>\n",
       "      <td id=\"T_9064e_row51_col9\" class=\"data row51 col9\" >75.250000</td>\n",
       "    </tr>\n",
       "    <tr>\n",
       "      <th id=\"T_9064e_level0_row52\" class=\"row_heading level0 row52\" >52</th>\n",
       "      <td id=\"T_9064e_row52_col0\" class=\"data row52 col0\" >7</td>\n",
       "      <td id=\"T_9064e_row52_col1\" class=\"data row52 col1\" >Thursday is</td>\n",
       "      <td id=\"T_9064e_row52_col2\" class=\"data row52 col2\" >is</td>\n",
       "      <td id=\"T_9064e_row52_col3\" class=\"data row52 col3\" >-25.125600</td>\n",
       "      <td id=\"T_9064e_row52_col4\" class=\"data row52 col4\" >21.877200</td>\n",
       "      <td id=\"T_9064e_row52_col5\" class=\"data row52 col5\" >12.985300</td>\n",
       "      <td id=\"T_9064e_row52_col6\" class=\"data row52 col6\" >39.250000</td>\n",
       "      <td id=\"T_9064e_row52_col7\" class=\"data row52 col7\" >21.320000</td>\n",
       "      <td id=\"T_9064e_row52_col8\" class=\"data row52 col8\" >14.680000</td>\n",
       "      <td id=\"T_9064e_row52_col9\" class=\"data row52 col9\" >75.250000</td>\n",
       "    </tr>\n",
       "    <tr>\n",
       "      <th id=\"T_9064e_level0_row53\" class=\"row_heading level0 row53\" >53</th>\n",
       "      <td id=\"T_9064e_row53_col0\" class=\"data row53 col0\" >7</td>\n",
       "      <td id=\"T_9064e_row53_col1\" class=\"data row53 col1\" >Friday is</td>\n",
       "      <td id=\"T_9064e_row53_col2\" class=\"data row53 col2\" >is</td>\n",
       "      <td id=\"T_9064e_row53_col3\" class=\"data row53 col3\" >-20.259500</td>\n",
       "      <td id=\"T_9064e_row53_col4\" class=\"data row53 col4\" >26.301900</td>\n",
       "      <td id=\"T_9064e_row53_col5\" class=\"data row53 col5\" >-45.664600</td>\n",
       "      <td id=\"T_9064e_row53_col6\" class=\"data row53 col6\" >39.250000</td>\n",
       "      <td id=\"T_9064e_row53_col7\" class=\"data row53 col7\" >21.320000</td>\n",
       "      <td id=\"T_9064e_row53_col8\" class=\"data row53 col8\" >14.680000</td>\n",
       "      <td id=\"T_9064e_row53_col9\" class=\"data row53 col9\" >75.250000</td>\n",
       "    </tr>\n",
       "    <tr>\n",
       "      <th id=\"T_9064e_level0_row54\" class=\"row_heading level0 row54\" >54</th>\n",
       "      <td id=\"T_9064e_row54_col0\" class=\"data row54 col0\" >7</td>\n",
       "      <td id=\"T_9064e_row54_col1\" class=\"data row54 col1\" >Saturday is</td>\n",
       "      <td id=\"T_9064e_row54_col2\" class=\"data row54 col2\" >is</td>\n",
       "      <td id=\"T_9064e_row54_col3\" class=\"data row54 col3\" >49.589400</td>\n",
       "      <td id=\"T_9064e_row54_col4\" class=\"data row54 col4\" >36.576500</td>\n",
       "      <td id=\"T_9064e_row54_col5\" class=\"data row54 col5\" >9.427200</td>\n",
       "      <td id=\"T_9064e_row54_col6\" class=\"data row54 col6\" >39.250000</td>\n",
       "      <td id=\"T_9064e_row54_col7\" class=\"data row54 col7\" >21.320000</td>\n",
       "      <td id=\"T_9064e_row54_col8\" class=\"data row54 col8\" >14.680000</td>\n",
       "      <td id=\"T_9064e_row54_col9\" class=\"data row54 col9\" >75.250000</td>\n",
       "    </tr>\n",
       "    <tr>\n",
       "      <th id=\"T_9064e_level0_row55\" class=\"row_heading level0 row55\" >55</th>\n",
       "      <td id=\"T_9064e_row55_col0\" class=\"data row55 col0\" >7</td>\n",
       "      <td id=\"T_9064e_row55_col1\" class=\"data row55 col1\" >Sunday is</td>\n",
       "      <td id=\"T_9064e_row55_col2\" class=\"data row55 col2\" >is</td>\n",
       "      <td id=\"T_9064e_row55_col3\" class=\"data row55 col3\" >74.335700</td>\n",
       "      <td id=\"T_9064e_row55_col4\" class=\"data row55 col4\" >-24.069200</td>\n",
       "      <td id=\"T_9064e_row55_col5\" class=\"data row55 col5\" >-0.321900</td>\n",
       "      <td id=\"T_9064e_row55_col6\" class=\"data row55 col6\" >39.250000</td>\n",
       "      <td id=\"T_9064e_row55_col7\" class=\"data row55 col7\" >21.320000</td>\n",
       "      <td id=\"T_9064e_row55_col8\" class=\"data row55 col8\" >14.680000</td>\n",
       "      <td id=\"T_9064e_row55_col9\" class=\"data row55 col9\" >75.250000</td>\n",
       "    </tr>\n",
       "    <tr>\n",
       "      <th id=\"T_9064e_level0_row56\" class=\"row_heading level0 row56\" >56</th>\n",
       "      <td id=\"T_9064e_row56_col0\" class=\"data row56 col0\" >8</td>\n",
       "      <td id=\"T_9064e_row56_col1\" class=\"data row56 col1\" >Monday is</td>\n",
       "      <td id=\"T_9064e_row56_col2\" class=\"data row56 col2\" >is</td>\n",
       "      <td id=\"T_9064e_row56_col3\" class=\"data row56 col3\" >-15.159000</td>\n",
       "      <td id=\"T_9064e_row56_col4\" class=\"data row56 col4\" >-42.115700</td>\n",
       "      <td id=\"T_9064e_row56_col5\" class=\"data row56 col5\" >-30.896600</td>\n",
       "      <td id=\"T_9064e_row56_col6\" class=\"data row56 col6\" >40.420000</td>\n",
       "      <td id=\"T_9064e_row56_col7\" class=\"data row56 col7\" >21.560000</td>\n",
       "      <td id=\"T_9064e_row56_col8\" class=\"data row56 col8\" >14.370000</td>\n",
       "      <td id=\"T_9064e_row56_col9\" class=\"data row56 col9\" >76.360000</td>\n",
       "    </tr>\n",
       "    <tr>\n",
       "      <th id=\"T_9064e_level0_row57\" class=\"row_heading level0 row57\" >57</th>\n",
       "      <td id=\"T_9064e_row57_col0\" class=\"data row57 col0\" >8</td>\n",
       "      <td id=\"T_9064e_row57_col1\" class=\"data row57 col1\" >Tuesday is</td>\n",
       "      <td id=\"T_9064e_row57_col2\" class=\"data row57 col2\" >is</td>\n",
       "      <td id=\"T_9064e_row57_col3\" class=\"data row57 col3\" >-29.027100</td>\n",
       "      <td id=\"T_9064e_row57_col4\" class=\"data row57 col4\" >-33.061600</td>\n",
       "      <td id=\"T_9064e_row57_col5\" class=\"data row57 col5\" >25.957800</td>\n",
       "      <td id=\"T_9064e_row57_col6\" class=\"data row57 col6\" >40.420000</td>\n",
       "      <td id=\"T_9064e_row57_col7\" class=\"data row57 col7\" >21.560000</td>\n",
       "      <td id=\"T_9064e_row57_col8\" class=\"data row57 col8\" >14.370000</td>\n",
       "      <td id=\"T_9064e_row57_col9\" class=\"data row57 col9\" >76.360000</td>\n",
       "    </tr>\n",
       "    <tr>\n",
       "      <th id=\"T_9064e_level0_row58\" class=\"row_heading level0 row58\" >58</th>\n",
       "      <td id=\"T_9064e_row58_col0\" class=\"data row58 col0\" >8</td>\n",
       "      <td id=\"T_9064e_row58_col1\" class=\"data row58 col1\" >Wednesday is</td>\n",
       "      <td id=\"T_9064e_row58_col2\" class=\"data row58 col2\" >is</td>\n",
       "      <td id=\"T_9064e_row58_col3\" class=\"data row58 col3\" >-38.434200</td>\n",
       "      <td id=\"T_9064e_row58_col4\" class=\"data row58 col4\" >13.830700</td>\n",
       "      <td id=\"T_9064e_row58_col5\" class=\"data row58 col5\" >22.221400</td>\n",
       "      <td id=\"T_9064e_row58_col6\" class=\"data row58 col6\" >40.420000</td>\n",
       "      <td id=\"T_9064e_row58_col7\" class=\"data row58 col7\" >21.560000</td>\n",
       "      <td id=\"T_9064e_row58_col8\" class=\"data row58 col8\" >14.370000</td>\n",
       "      <td id=\"T_9064e_row58_col9\" class=\"data row58 col9\" >76.360000</td>\n",
       "    </tr>\n",
       "    <tr>\n",
       "      <th id=\"T_9064e_level0_row59\" class=\"row_heading level0 row59\" >59</th>\n",
       "      <td id=\"T_9064e_row59_col0\" class=\"data row59 col0\" >8</td>\n",
       "      <td id=\"T_9064e_row59_col1\" class=\"data row59 col1\" >Thursday is</td>\n",
       "      <td id=\"T_9064e_row59_col2\" class=\"data row59 col2\" >is</td>\n",
       "      <td id=\"T_9064e_row59_col3\" class=\"data row59 col3\" >-27.494100</td>\n",
       "      <td id=\"T_9064e_row59_col4\" class=\"data row59 col4\" >20.179000</td>\n",
       "      <td id=\"T_9064e_row59_col5\" class=\"data row59 col5\" >9.982600</td>\n",
       "      <td id=\"T_9064e_row59_col6\" class=\"data row59 col6\" >40.420000</td>\n",
       "      <td id=\"T_9064e_row59_col7\" class=\"data row59 col7\" >21.560000</td>\n",
       "      <td id=\"T_9064e_row59_col8\" class=\"data row59 col8\" >14.370000</td>\n",
       "      <td id=\"T_9064e_row59_col9\" class=\"data row59 col9\" >76.360000</td>\n",
       "    </tr>\n",
       "    <tr>\n",
       "      <th id=\"T_9064e_level0_row60\" class=\"row_heading level0 row60\" >60</th>\n",
       "      <td id=\"T_9064e_row60_col0\" class=\"data row60 col0\" >8</td>\n",
       "      <td id=\"T_9064e_row60_col1\" class=\"data row60 col1\" >Friday is</td>\n",
       "      <td id=\"T_9064e_row60_col2\" class=\"data row60 col2\" >is</td>\n",
       "      <td id=\"T_9064e_row60_col3\" class=\"data row60 col3\" >-14.999700</td>\n",
       "      <td id=\"T_9064e_row60_col4\" class=\"data row60 col4\" >31.817100</td>\n",
       "      <td id=\"T_9064e_row60_col5\" class=\"data row60 col5\" >-41.696700</td>\n",
       "      <td id=\"T_9064e_row60_col6\" class=\"data row60 col6\" >40.420000</td>\n",
       "      <td id=\"T_9064e_row60_col7\" class=\"data row60 col7\" >21.560000</td>\n",
       "      <td id=\"T_9064e_row60_col8\" class=\"data row60 col8\" >14.370000</td>\n",
       "      <td id=\"T_9064e_row60_col9\" class=\"data row60 col9\" >76.360000</td>\n",
       "    </tr>\n",
       "    <tr>\n",
       "      <th id=\"T_9064e_level0_row61\" class=\"row_heading level0 row61\" >61</th>\n",
       "      <td id=\"T_9064e_row61_col0\" class=\"data row61 col0\" >8</td>\n",
       "      <td id=\"T_9064e_row61_col1\" class=\"data row61 col1\" >Saturday is</td>\n",
       "      <td id=\"T_9064e_row61_col2\" class=\"data row61 col2\" >is</td>\n",
       "      <td id=\"T_9064e_row61_col3\" class=\"data row61 col3\" >51.812300</td>\n",
       "      <td id=\"T_9064e_row61_col4\" class=\"data row61 col4\" >33.500200</td>\n",
       "      <td id=\"T_9064e_row61_col5\" class=\"data row61 col5\" >12.547900</td>\n",
       "      <td id=\"T_9064e_row61_col6\" class=\"data row61 col6\" >40.420000</td>\n",
       "      <td id=\"T_9064e_row61_col7\" class=\"data row61 col7\" >21.560000</td>\n",
       "      <td id=\"T_9064e_row61_col8\" class=\"data row61 col8\" >14.370000</td>\n",
       "      <td id=\"T_9064e_row61_col9\" class=\"data row61 col9\" >76.360000</td>\n",
       "    </tr>\n",
       "    <tr>\n",
       "      <th id=\"T_9064e_level0_row62\" class=\"row_heading level0 row62\" >62</th>\n",
       "      <td id=\"T_9064e_row62_col0\" class=\"data row62 col0\" >8</td>\n",
       "      <td id=\"T_9064e_row62_col1\" class=\"data row62 col1\" >Sunday is</td>\n",
       "      <td id=\"T_9064e_row62_col2\" class=\"data row62 col2\" >is</td>\n",
       "      <td id=\"T_9064e_row62_col3\" class=\"data row62 col3\" >73.301800</td>\n",
       "      <td id=\"T_9064e_row62_col4\" class=\"data row62 col4\" >-24.149700</td>\n",
       "      <td id=\"T_9064e_row62_col5\" class=\"data row62 col5\" >1.883500</td>\n",
       "      <td id=\"T_9064e_row62_col6\" class=\"data row62 col6\" >40.420000</td>\n",
       "      <td id=\"T_9064e_row62_col7\" class=\"data row62 col7\" >21.560000</td>\n",
       "      <td id=\"T_9064e_row62_col8\" class=\"data row62 col8\" >14.370000</td>\n",
       "      <td id=\"T_9064e_row62_col9\" class=\"data row62 col9\" >76.360000</td>\n",
       "    </tr>\n",
       "    <tr>\n",
       "      <th id=\"T_9064e_level0_row63\" class=\"row_heading level0 row63\" >63</th>\n",
       "      <td id=\"T_9064e_row63_col0\" class=\"data row63 col0\" >9</td>\n",
       "      <td id=\"T_9064e_row63_col1\" class=\"data row63 col1\" >Monday is</td>\n",
       "      <td id=\"T_9064e_row63_col2\" class=\"data row63 col2\" >is</td>\n",
       "      <td id=\"T_9064e_row63_col3\" class=\"data row63 col3\" >-14.272300</td>\n",
       "      <td id=\"T_9064e_row63_col4\" class=\"data row63 col4\" >-41.463300</td>\n",
       "      <td id=\"T_9064e_row63_col5\" class=\"data row63 col5\" >-32.539500</td>\n",
       "      <td id=\"T_9064e_row63_col6\" class=\"data row63 col6\" >39.250000</td>\n",
       "      <td id=\"T_9064e_row63_col7\" class=\"data row63 col7\" >21.770000</td>\n",
       "      <td id=\"T_9064e_row63_col8\" class=\"data row63 col8\" >14.350000</td>\n",
       "      <td id=\"T_9064e_row63_col9\" class=\"data row63 col9\" >75.380000</td>\n",
       "    </tr>\n",
       "    <tr>\n",
       "      <th id=\"T_9064e_level0_row64\" class=\"row_heading level0 row64\" >64</th>\n",
       "      <td id=\"T_9064e_row64_col0\" class=\"data row64 col0\" >9</td>\n",
       "      <td id=\"T_9064e_row64_col1\" class=\"data row64 col1\" >Tuesday is</td>\n",
       "      <td id=\"T_9064e_row64_col2\" class=\"data row64 col2\" >is</td>\n",
       "      <td id=\"T_9064e_row64_col3\" class=\"data row64 col3\" >-27.810300</td>\n",
       "      <td id=\"T_9064e_row64_col4\" class=\"data row64 col4\" >-36.365000</td>\n",
       "      <td id=\"T_9064e_row64_col5\" class=\"data row64 col5\" >29.773200</td>\n",
       "      <td id=\"T_9064e_row64_col6\" class=\"data row64 col6\" >39.250000</td>\n",
       "      <td id=\"T_9064e_row64_col7\" class=\"data row64 col7\" >21.770000</td>\n",
       "      <td id=\"T_9064e_row64_col8\" class=\"data row64 col8\" >14.350000</td>\n",
       "      <td id=\"T_9064e_row64_col9\" class=\"data row64 col9\" >75.380000</td>\n",
       "    </tr>\n",
       "    <tr>\n",
       "      <th id=\"T_9064e_level0_row65\" class=\"row_heading level0 row65\" >65</th>\n",
       "      <td id=\"T_9064e_row65_col0\" class=\"data row65 col0\" >9</td>\n",
       "      <td id=\"T_9064e_row65_col1\" class=\"data row65 col1\" >Wednesday is</td>\n",
       "      <td id=\"T_9064e_row65_col2\" class=\"data row65 col2\" >is</td>\n",
       "      <td id=\"T_9064e_row65_col3\" class=\"data row65 col3\" >-37.867600</td>\n",
       "      <td id=\"T_9064e_row65_col4\" class=\"data row65 col4\" >14.634000</td>\n",
       "      <td id=\"T_9064e_row65_col5\" class=\"data row65 col5\" >21.475400</td>\n",
       "      <td id=\"T_9064e_row65_col6\" class=\"data row65 col6\" >39.250000</td>\n",
       "      <td id=\"T_9064e_row65_col7\" class=\"data row65 col7\" >21.770000</td>\n",
       "      <td id=\"T_9064e_row65_col8\" class=\"data row65 col8\" >14.350000</td>\n",
       "      <td id=\"T_9064e_row65_col9\" class=\"data row65 col9\" >75.380000</td>\n",
       "    </tr>\n",
       "    <tr>\n",
       "      <th id=\"T_9064e_level0_row66\" class=\"row_heading level0 row66\" >66</th>\n",
       "      <td id=\"T_9064e_row66_col0\" class=\"data row66 col0\" >9</td>\n",
       "      <td id=\"T_9064e_row66_col1\" class=\"data row66 col1\" >Thursday is</td>\n",
       "      <td id=\"T_9064e_row66_col2\" class=\"data row66 col2\" >is</td>\n",
       "      <td id=\"T_9064e_row66_col3\" class=\"data row66 col3\" >-26.845100</td>\n",
       "      <td id=\"T_9064e_row66_col4\" class=\"data row66 col4\" >21.334700</td>\n",
       "      <td id=\"T_9064e_row66_col5\" class=\"data row66 col5\" >5.453600</td>\n",
       "      <td id=\"T_9064e_row66_col6\" class=\"data row66 col6\" >39.250000</td>\n",
       "      <td id=\"T_9064e_row66_col7\" class=\"data row66 col7\" >21.770000</td>\n",
       "      <td id=\"T_9064e_row66_col8\" class=\"data row66 col8\" >14.350000</td>\n",
       "      <td id=\"T_9064e_row66_col9\" class=\"data row66 col9\" >75.380000</td>\n",
       "    </tr>\n",
       "    <tr>\n",
       "      <th id=\"T_9064e_level0_row67\" class=\"row_heading level0 row67\" >67</th>\n",
       "      <td id=\"T_9064e_row67_col0\" class=\"data row67 col0\" >9</td>\n",
       "      <td id=\"T_9064e_row67_col1\" class=\"data row67 col1\" >Friday is</td>\n",
       "      <td id=\"T_9064e_row67_col2\" class=\"data row67 col2\" >is</td>\n",
       "      <td id=\"T_9064e_row67_col3\" class=\"data row67 col3\" >-16.324200</td>\n",
       "      <td id=\"T_9064e_row67_col4\" class=\"data row67 col4\" >30.877600</td>\n",
       "      <td id=\"T_9064e_row67_col5\" class=\"data row67 col5\" >-38.328300</td>\n",
       "      <td id=\"T_9064e_row67_col6\" class=\"data row67 col6\" >39.250000</td>\n",
       "      <td id=\"T_9064e_row67_col7\" class=\"data row67 col7\" >21.770000</td>\n",
       "      <td id=\"T_9064e_row67_col8\" class=\"data row67 col8\" >14.350000</td>\n",
       "      <td id=\"T_9064e_row67_col9\" class=\"data row67 col9\" >75.380000</td>\n",
       "    </tr>\n",
       "    <tr>\n",
       "      <th id=\"T_9064e_level0_row68\" class=\"row_heading level0 row68\" >68</th>\n",
       "      <td id=\"T_9064e_row68_col0\" class=\"data row68 col0\" >9</td>\n",
       "      <td id=\"T_9064e_row68_col1\" class=\"data row68 col1\" >Saturday is</td>\n",
       "      <td id=\"T_9064e_row68_col2\" class=\"data row68 col2\" >is</td>\n",
       "      <td id=\"T_9064e_row68_col3\" class=\"data row68 col3\" >49.794400</td>\n",
       "      <td id=\"T_9064e_row68_col4\" class=\"data row68 col4\" >33.038500</td>\n",
       "      <td id=\"T_9064e_row68_col5\" class=\"data row68 col5\" >14.498800</td>\n",
       "      <td id=\"T_9064e_row68_col6\" class=\"data row68 col6\" >39.250000</td>\n",
       "      <td id=\"T_9064e_row68_col7\" class=\"data row68 col7\" >21.770000</td>\n",
       "      <td id=\"T_9064e_row68_col8\" class=\"data row68 col8\" >14.350000</td>\n",
       "      <td id=\"T_9064e_row68_col9\" class=\"data row68 col9\" >75.380000</td>\n",
       "    </tr>\n",
       "    <tr>\n",
       "      <th id=\"T_9064e_level0_row69\" class=\"row_heading level0 row69\" >69</th>\n",
       "      <td id=\"T_9064e_row69_col0\" class=\"data row69 col0\" >9</td>\n",
       "      <td id=\"T_9064e_row69_col1\" class=\"data row69 col1\" >Sunday is</td>\n",
       "      <td id=\"T_9064e_row69_col2\" class=\"data row69 col2\" >is</td>\n",
       "      <td id=\"T_9064e_row69_col3\" class=\"data row69 col3\" >73.325200</td>\n",
       "      <td id=\"T_9064e_row69_col4\" class=\"data row69 col4\" >-22.056500</td>\n",
       "      <td id=\"T_9064e_row69_col5\" class=\"data row69 col5\" >-0.333200</td>\n",
       "      <td id=\"T_9064e_row69_col6\" class=\"data row69 col6\" >39.250000</td>\n",
       "      <td id=\"T_9064e_row69_col7\" class=\"data row69 col7\" >21.770000</td>\n",
       "      <td id=\"T_9064e_row69_col8\" class=\"data row69 col8\" >14.350000</td>\n",
       "      <td id=\"T_9064e_row69_col9\" class=\"data row69 col9\" >75.380000</td>\n",
       "    </tr>\n",
       "    <tr>\n",
       "      <th id=\"T_9064e_level0_row70\" class=\"row_heading level0 row70\" >70</th>\n",
       "      <td id=\"T_9064e_row70_col0\" class=\"data row70 col0\" >10</td>\n",
       "      <td id=\"T_9064e_row70_col1\" class=\"data row70 col1\" >Monday is</td>\n",
       "      <td id=\"T_9064e_row70_col2\" class=\"data row70 col2\" >is</td>\n",
       "      <td id=\"T_9064e_row70_col3\" class=\"data row70 col3\" >-10.448000</td>\n",
       "      <td id=\"T_9064e_row70_col4\" class=\"data row70 col4\" >-34.520200</td>\n",
       "      <td id=\"T_9064e_row70_col5\" class=\"data row70 col5\" >-41.696200</td>\n",
       "      <td id=\"T_9064e_row70_col6\" class=\"data row70 col6\" >37.480000</td>\n",
       "      <td id=\"T_9064e_row70_col7\" class=\"data row70 col7\" >22.910000</td>\n",
       "      <td id=\"T_9064e_row70_col8\" class=\"data row70 col8\" >14.530000</td>\n",
       "      <td id=\"T_9064e_row70_col9\" class=\"data row70 col9\" >74.910000</td>\n",
       "    </tr>\n",
       "    <tr>\n",
       "      <th id=\"T_9064e_level0_row71\" class=\"row_heading level0 row71\" >71</th>\n",
       "      <td id=\"T_9064e_row71_col0\" class=\"data row71 col0\" >10</td>\n",
       "      <td id=\"T_9064e_row71_col1\" class=\"data row71 col1\" >Tuesday is</td>\n",
       "      <td id=\"T_9064e_row71_col2\" class=\"data row71 col2\" >is</td>\n",
       "      <td id=\"T_9064e_row71_col3\" class=\"data row71 col3\" >-27.733600</td>\n",
       "      <td id=\"T_9064e_row71_col4\" class=\"data row71 col4\" >-48.554600</td>\n",
       "      <td id=\"T_9064e_row71_col5\" class=\"data row71 col5\" >30.724200</td>\n",
       "      <td id=\"T_9064e_row71_col6\" class=\"data row71 col6\" >37.480000</td>\n",
       "      <td id=\"T_9064e_row71_col7\" class=\"data row71 col7\" >22.910000</td>\n",
       "      <td id=\"T_9064e_row71_col8\" class=\"data row71 col8\" >14.530000</td>\n",
       "      <td id=\"T_9064e_row71_col9\" class=\"data row71 col9\" >74.910000</td>\n",
       "    </tr>\n",
       "    <tr>\n",
       "      <th id=\"T_9064e_level0_row72\" class=\"row_heading level0 row72\" >72</th>\n",
       "      <td id=\"T_9064e_row72_col0\" class=\"data row72 col0\" >10</td>\n",
       "      <td id=\"T_9064e_row72_col1\" class=\"data row72 col1\" >Wednesday is</td>\n",
       "      <td id=\"T_9064e_row72_col2\" class=\"data row72 col2\" >is</td>\n",
       "      <td id=\"T_9064e_row72_col3\" class=\"data row72 col3\" >-40.889300</td>\n",
       "      <td id=\"T_9064e_row72_col4\" class=\"data row72 col4\" >17.021200</td>\n",
       "      <td id=\"T_9064e_row72_col5\" class=\"data row72 col5\" >21.348500</td>\n",
       "      <td id=\"T_9064e_row72_col6\" class=\"data row72 col6\" >37.480000</td>\n",
       "      <td id=\"T_9064e_row72_col7\" class=\"data row72 col7\" >22.910000</td>\n",
       "      <td id=\"T_9064e_row72_col8\" class=\"data row72 col8\" >14.530000</td>\n",
       "      <td id=\"T_9064e_row72_col9\" class=\"data row72 col9\" >74.910000</td>\n",
       "    </tr>\n",
       "    <tr>\n",
       "      <th id=\"T_9064e_level0_row73\" class=\"row_heading level0 row73\" >73</th>\n",
       "      <td id=\"T_9064e_row73_col0\" class=\"data row73 col0\" >10</td>\n",
       "      <td id=\"T_9064e_row73_col1\" class=\"data row73 col1\" >Thursday is</td>\n",
       "      <td id=\"T_9064e_row73_col2\" class=\"data row73 col2\" >is</td>\n",
       "      <td id=\"T_9064e_row73_col3\" class=\"data row73 col3\" >-26.441700</td>\n",
       "      <td id=\"T_9064e_row73_col4\" class=\"data row73 col4\" >27.038500</td>\n",
       "      <td id=\"T_9064e_row73_col5\" class=\"data row73 col5\" >-1.832200</td>\n",
       "      <td id=\"T_9064e_row73_col6\" class=\"data row73 col6\" >37.480000</td>\n",
       "      <td id=\"T_9064e_row73_col7\" class=\"data row73 col7\" >22.910000</td>\n",
       "      <td id=\"T_9064e_row73_col8\" class=\"data row73 col8\" >14.530000</td>\n",
       "      <td id=\"T_9064e_row73_col9\" class=\"data row73 col9\" >74.910000</td>\n",
       "    </tr>\n",
       "    <tr>\n",
       "      <th id=\"T_9064e_level0_row74\" class=\"row_heading level0 row74\" >74</th>\n",
       "      <td id=\"T_9064e_row74_col0\" class=\"data row74 col0\" >10</td>\n",
       "      <td id=\"T_9064e_row74_col1\" class=\"data row74 col1\" >Friday is</td>\n",
       "      <td id=\"T_9064e_row74_col2\" class=\"data row74 col2\" >is</td>\n",
       "      <td id=\"T_9064e_row74_col3\" class=\"data row74 col3\" >-12.801000</td>\n",
       "      <td id=\"T_9064e_row74_col4\" class=\"data row74 col4\" >27.499700</td>\n",
       "      <td id=\"T_9064e_row74_col5\" class=\"data row74 col5\" >-27.049200</td>\n",
       "      <td id=\"T_9064e_row74_col6\" class=\"data row74 col6\" >37.480000</td>\n",
       "      <td id=\"T_9064e_row74_col7\" class=\"data row74 col7\" >22.910000</td>\n",
       "      <td id=\"T_9064e_row74_col8\" class=\"data row74 col8\" >14.530000</td>\n",
       "      <td id=\"T_9064e_row74_col9\" class=\"data row74 col9\" >74.910000</td>\n",
       "    </tr>\n",
       "    <tr>\n",
       "      <th id=\"T_9064e_level0_row75\" class=\"row_heading level0 row75\" >75</th>\n",
       "      <td id=\"T_9064e_row75_col0\" class=\"data row75 col0\" >10</td>\n",
       "      <td id=\"T_9064e_row75_col1\" class=\"data row75 col1\" >Saturday is</td>\n",
       "      <td id=\"T_9064e_row75_col2\" class=\"data row75 col2\" >is</td>\n",
       "      <td id=\"T_9064e_row75_col3\" class=\"data row75 col3\" >46.256200</td>\n",
       "      <td id=\"T_9064e_row75_col4\" class=\"data row75 col4\" >30.002300</td>\n",
       "      <td id=\"T_9064e_row75_col5\" class=\"data row75 col5\" >17.004800</td>\n",
       "      <td id=\"T_9064e_row75_col6\" class=\"data row75 col6\" >37.480000</td>\n",
       "      <td id=\"T_9064e_row75_col7\" class=\"data row75 col7\" >22.910000</td>\n",
       "      <td id=\"T_9064e_row75_col8\" class=\"data row75 col8\" >14.530000</td>\n",
       "      <td id=\"T_9064e_row75_col9\" class=\"data row75 col9\" >74.910000</td>\n",
       "    </tr>\n",
       "    <tr>\n",
       "      <th id=\"T_9064e_level0_row76\" class=\"row_heading level0 row76\" >76</th>\n",
       "      <td id=\"T_9064e_row76_col0\" class=\"data row76 col0\" >10</td>\n",
       "      <td id=\"T_9064e_row76_col1\" class=\"data row76 col1\" >Sunday is</td>\n",
       "      <td id=\"T_9064e_row76_col2\" class=\"data row76 col2\" >is</td>\n",
       "      <td id=\"T_9064e_row76_col3\" class=\"data row76 col3\" >72.057400</td>\n",
       "      <td id=\"T_9064e_row76_col4\" class=\"data row76 col4\" >-18.486800</td>\n",
       "      <td id=\"T_9064e_row76_col5\" class=\"data row76 col5\" >1.500100</td>\n",
       "      <td id=\"T_9064e_row76_col6\" class=\"data row76 col6\" >37.480000</td>\n",
       "      <td id=\"T_9064e_row76_col7\" class=\"data row76 col7\" >22.910000</td>\n",
       "      <td id=\"T_9064e_row76_col8\" class=\"data row76 col8\" >14.530000</td>\n",
       "      <td id=\"T_9064e_row76_col9\" class=\"data row76 col9\" >74.910000</td>\n",
       "    </tr>\n",
       "    <tr>\n",
       "      <th id=\"T_9064e_level0_row77\" class=\"row_heading level0 row77\" >77</th>\n",
       "      <td id=\"T_9064e_row77_col0\" class=\"data row77 col0\" >11</td>\n",
       "      <td id=\"T_9064e_row77_col1\" class=\"data row77 col1\" >Monday is</td>\n",
       "      <td id=\"T_9064e_row77_col2\" class=\"data row77 col2\" >is</td>\n",
       "      <td id=\"T_9064e_row77_col3\" class=\"data row77 col3\" >-6.416900</td>\n",
       "      <td id=\"T_9064e_row77_col4\" class=\"data row77 col4\" >-23.527800</td>\n",
       "      <td id=\"T_9064e_row77_col5\" class=\"data row77 col5\" >-51.681500</td>\n",
       "      <td id=\"T_9064e_row77_col6\" class=\"data row77 col6\" >35.930000</td>\n",
       "      <td id=\"T_9064e_row77_col7\" class=\"data row77 col7\" >22.580000</td>\n",
       "      <td id=\"T_9064e_row77_col8\" class=\"data row77 col8\" >14.770000</td>\n",
       "      <td id=\"T_9064e_row77_col9\" class=\"data row77 col9\" >73.280000</td>\n",
       "    </tr>\n",
       "    <tr>\n",
       "      <th id=\"T_9064e_level0_row78\" class=\"row_heading level0 row78\" >78</th>\n",
       "      <td id=\"T_9064e_row78_col0\" class=\"data row78 col0\" >11</td>\n",
       "      <td id=\"T_9064e_row78_col1\" class=\"data row78 col1\" >Tuesday is</td>\n",
       "      <td id=\"T_9064e_row78_col2\" class=\"data row78 col2\" >is</td>\n",
       "      <td id=\"T_9064e_row78_col3\" class=\"data row78 col3\" >-24.727700</td>\n",
       "      <td id=\"T_9064e_row78_col4\" class=\"data row78 col4\" >-56.717100</td>\n",
       "      <td id=\"T_9064e_row78_col5\" class=\"data row78 col5\" >26.638800</td>\n",
       "      <td id=\"T_9064e_row78_col6\" class=\"data row78 col6\" >35.930000</td>\n",
       "      <td id=\"T_9064e_row78_col7\" class=\"data row78 col7\" >22.580000</td>\n",
       "      <td id=\"T_9064e_row78_col8\" class=\"data row78 col8\" >14.770000</td>\n",
       "      <td id=\"T_9064e_row78_col9\" class=\"data row78 col9\" >73.280000</td>\n",
       "    </tr>\n",
       "    <tr>\n",
       "      <th id=\"T_9064e_level0_row79\" class=\"row_heading level0 row79\" >79</th>\n",
       "      <td id=\"T_9064e_row79_col0\" class=\"data row79 col0\" >11</td>\n",
       "      <td id=\"T_9064e_row79_col1\" class=\"data row79 col1\" >Wednesday is</td>\n",
       "      <td id=\"T_9064e_row79_col2\" class=\"data row79 col2\" >is</td>\n",
       "      <td id=\"T_9064e_row79_col3\" class=\"data row79 col3\" >-40.334300</td>\n",
       "      <td id=\"T_9064e_row79_col4\" class=\"data row79 col4\" >13.672000</td>\n",
       "      <td id=\"T_9064e_row79_col5\" class=\"data row79 col5\" >19.628700</td>\n",
       "      <td id=\"T_9064e_row79_col6\" class=\"data row79 col6\" >35.930000</td>\n",
       "      <td id=\"T_9064e_row79_col7\" class=\"data row79 col7\" >22.580000</td>\n",
       "      <td id=\"T_9064e_row79_col8\" class=\"data row79 col8\" >14.770000</td>\n",
       "      <td id=\"T_9064e_row79_col9\" class=\"data row79 col9\" >73.280000</td>\n",
       "    </tr>\n",
       "    <tr>\n",
       "      <th id=\"T_9064e_level0_row80\" class=\"row_heading level0 row80\" >80</th>\n",
       "      <td id=\"T_9064e_row80_col0\" class=\"data row80 col0\" >11</td>\n",
       "      <td id=\"T_9064e_row80_col1\" class=\"data row80 col1\" >Thursday is</td>\n",
       "      <td id=\"T_9064e_row80_col2\" class=\"data row80 col2\" >is</td>\n",
       "      <td id=\"T_9064e_row80_col3\" class=\"data row80 col3\" >-27.349600</td>\n",
       "      <td id=\"T_9064e_row80_col4\" class=\"data row80 col4\" >25.023100</td>\n",
       "      <td id=\"T_9064e_row80_col5\" class=\"data row80 col5\" >0.976200</td>\n",
       "      <td id=\"T_9064e_row80_col6\" class=\"data row80 col6\" >35.930000</td>\n",
       "      <td id=\"T_9064e_row80_col7\" class=\"data row80 col7\" >22.580000</td>\n",
       "      <td id=\"T_9064e_row80_col8\" class=\"data row80 col8\" >14.770000</td>\n",
       "      <td id=\"T_9064e_row80_col9\" class=\"data row80 col9\" >73.280000</td>\n",
       "    </tr>\n",
       "    <tr>\n",
       "      <th id=\"T_9064e_level0_row81\" class=\"row_heading level0 row81\" >81</th>\n",
       "      <td id=\"T_9064e_row81_col0\" class=\"data row81 col0\" >11</td>\n",
       "      <td id=\"T_9064e_row81_col1\" class=\"data row81 col1\" >Friday is</td>\n",
       "      <td id=\"T_9064e_row81_col2\" class=\"data row81 col2\" >is</td>\n",
       "      <td id=\"T_9064e_row81_col3\" class=\"data row81 col3\" >-16.302200</td>\n",
       "      <td id=\"T_9064e_row81_col4\" class=\"data row81 col4\" >28.329200</td>\n",
       "      <td id=\"T_9064e_row81_col5\" class=\"data row81 col5\" >-14.442900</td>\n",
       "      <td id=\"T_9064e_row81_col6\" class=\"data row81 col6\" >35.930000</td>\n",
       "      <td id=\"T_9064e_row81_col7\" class=\"data row81 col7\" >22.580000</td>\n",
       "      <td id=\"T_9064e_row81_col8\" class=\"data row81 col8\" >14.770000</td>\n",
       "      <td id=\"T_9064e_row81_col9\" class=\"data row81 col9\" >73.280000</td>\n",
       "    </tr>\n",
       "    <tr>\n",
       "      <th id=\"T_9064e_level0_row82\" class=\"row_heading level0 row82\" >82</th>\n",
       "      <td id=\"T_9064e_row82_col0\" class=\"data row82 col0\" >11</td>\n",
       "      <td id=\"T_9064e_row82_col1\" class=\"data row82 col1\" >Saturday is</td>\n",
       "      <td id=\"T_9064e_row82_col2\" class=\"data row82 col2\" >is</td>\n",
       "      <td id=\"T_9064e_row82_col3\" class=\"data row82 col3\" >43.767300</td>\n",
       "      <td id=\"T_9064e_row82_col4\" class=\"data row82 col4\" >28.963300</td>\n",
       "      <td id=\"T_9064e_row82_col5\" class=\"data row82 col5\" >15.848400</td>\n",
       "      <td id=\"T_9064e_row82_col6\" class=\"data row82 col6\" >35.930000</td>\n",
       "      <td id=\"T_9064e_row82_col7\" class=\"data row82 col7\" >22.580000</td>\n",
       "      <td id=\"T_9064e_row82_col8\" class=\"data row82 col8\" >14.770000</td>\n",
       "      <td id=\"T_9064e_row82_col9\" class=\"data row82 col9\" >73.280000</td>\n",
       "    </tr>\n",
       "    <tr>\n",
       "      <th id=\"T_9064e_level0_row83\" class=\"row_heading level0 row83\" >83</th>\n",
       "      <td id=\"T_9064e_row83_col0\" class=\"data row83 col0\" >11</td>\n",
       "      <td id=\"T_9064e_row83_col1\" class=\"data row83 col1\" >Sunday is</td>\n",
       "      <td id=\"T_9064e_row83_col2\" class=\"data row83 col2\" >is</td>\n",
       "      <td id=\"T_9064e_row83_col3\" class=\"data row83 col3\" >71.363400</td>\n",
       "      <td id=\"T_9064e_row83_col4\" class=\"data row83 col4\" >-15.742700</td>\n",
       "      <td id=\"T_9064e_row83_col5\" class=\"data row83 col5\" >3.032300</td>\n",
       "      <td id=\"T_9064e_row83_col6\" class=\"data row83 col6\" >35.930000</td>\n",
       "      <td id=\"T_9064e_row83_col7\" class=\"data row83 col7\" >22.580000</td>\n",
       "      <td id=\"T_9064e_row83_col8\" class=\"data row83 col8\" >14.770000</td>\n",
       "      <td id=\"T_9064e_row83_col9\" class=\"data row83 col9\" >73.280000</td>\n",
       "    </tr>\n",
       "    <tr>\n",
       "      <th id=\"T_9064e_level0_row84\" class=\"row_heading level0 row84\" >84</th>\n",
       "      <td id=\"T_9064e_row84_col0\" class=\"data row84 col0\" >12</td>\n",
       "      <td id=\"T_9064e_row84_col1\" class=\"data row84 col1\" >Monday is</td>\n",
       "      <td id=\"T_9064e_row84_col2\" class=\"data row84 col2\" >is</td>\n",
       "      <td id=\"T_9064e_row84_col3\" class=\"data row84 col3\" >3.246500</td>\n",
       "      <td id=\"T_9064e_row84_col4\" class=\"data row84 col4\" >-7.598500</td>\n",
       "      <td id=\"T_9064e_row84_col5\" class=\"data row84 col5\" >58.462900</td>\n",
       "      <td id=\"T_9064e_row84_col6\" class=\"data row84 col6\" >37.180000</td>\n",
       "      <td id=\"T_9064e_row84_col7\" class=\"data row84 col7\" >23.590000</td>\n",
       "      <td id=\"T_9064e_row84_col8\" class=\"data row84 col8\" >15.490000</td>\n",
       "      <td id=\"T_9064e_row84_col9\" class=\"data row84 col9\" >76.250000</td>\n",
       "    </tr>\n",
       "    <tr>\n",
       "      <th id=\"T_9064e_level0_row85\" class=\"row_heading level0 row85\" >85</th>\n",
       "      <td id=\"T_9064e_row85_col0\" class=\"data row85 col0\" >12</td>\n",
       "      <td id=\"T_9064e_row85_col1\" class=\"data row85 col1\" >Tuesday is</td>\n",
       "      <td id=\"T_9064e_row85_col2\" class=\"data row85 col2\" >is</td>\n",
       "      <td id=\"T_9064e_row85_col3\" class=\"data row85 col3\" >-28.290800</td>\n",
       "      <td id=\"T_9064e_row85_col4\" class=\"data row85 col4\" >-65.140400</td>\n",
       "      <td id=\"T_9064e_row85_col5\" class=\"data row85 col5\" >-14.556600</td>\n",
       "      <td id=\"T_9064e_row85_col6\" class=\"data row85 col6\" >37.180000</td>\n",
       "      <td id=\"T_9064e_row85_col7\" class=\"data row85 col7\" >23.590000</td>\n",
       "      <td id=\"T_9064e_row85_col8\" class=\"data row85 col8\" >15.490000</td>\n",
       "      <td id=\"T_9064e_row85_col9\" class=\"data row85 col9\" >76.250000</td>\n",
       "    </tr>\n",
       "    <tr>\n",
       "      <th id=\"T_9064e_level0_row86\" class=\"row_heading level0 row86\" >86</th>\n",
       "      <td id=\"T_9064e_row86_col0\" class=\"data row86 col0\" >12</td>\n",
       "      <td id=\"T_9064e_row86_col1\" class=\"data row86 col1\" >Wednesday is</td>\n",
       "      <td id=\"T_9064e_row86_col2\" class=\"data row86 col2\" >is</td>\n",
       "      <td id=\"T_9064e_row86_col3\" class=\"data row86 col3\" >-46.460200</td>\n",
       "      <td id=\"T_9064e_row86_col4\" class=\"data row86 col4\" >12.363500</td>\n",
       "      <td id=\"T_9064e_row86_col5\" class=\"data row86 col5\" >-18.844800</td>\n",
       "      <td id=\"T_9064e_row86_col6\" class=\"data row86 col6\" >37.180000</td>\n",
       "      <td id=\"T_9064e_row86_col7\" class=\"data row86 col7\" >23.590000</td>\n",
       "      <td id=\"T_9064e_row86_col8\" class=\"data row86 col8\" >15.490000</td>\n",
       "      <td id=\"T_9064e_row86_col9\" class=\"data row86 col9\" >76.250000</td>\n",
       "    </tr>\n",
       "    <tr>\n",
       "      <th id=\"T_9064e_level0_row87\" class=\"row_heading level0 row87\" >87</th>\n",
       "      <td id=\"T_9064e_row87_col0\" class=\"data row87 col0\" >12</td>\n",
       "      <td id=\"T_9064e_row87_col1\" class=\"data row87 col1\" >Thursday is</td>\n",
       "      <td id=\"T_9064e_row87_col2\" class=\"data row87 col2\" >is</td>\n",
       "      <td id=\"T_9064e_row87_col3\" class=\"data row87 col3\" >-23.940300</td>\n",
       "      <td id=\"T_9064e_row87_col4\" class=\"data row87 col4\" >30.736400</td>\n",
       "      <td id=\"T_9064e_row87_col5\" class=\"data row87 col5\" >2.030000</td>\n",
       "      <td id=\"T_9064e_row87_col6\" class=\"data row87 col6\" >37.180000</td>\n",
       "      <td id=\"T_9064e_row87_col7\" class=\"data row87 col7\" >23.590000</td>\n",
       "      <td id=\"T_9064e_row87_col8\" class=\"data row87 col8\" >15.490000</td>\n",
       "      <td id=\"T_9064e_row87_col9\" class=\"data row87 col9\" >76.250000</td>\n",
       "    </tr>\n",
       "    <tr>\n",
       "      <th id=\"T_9064e_level0_row88\" class=\"row_heading level0 row88\" >88</th>\n",
       "      <td id=\"T_9064e_row88_col0\" class=\"data row88 col0\" >12</td>\n",
       "      <td id=\"T_9064e_row88_col1\" class=\"data row88 col1\" >Friday is</td>\n",
       "      <td id=\"T_9064e_row88_col2\" class=\"data row88 col2\" >is</td>\n",
       "      <td id=\"T_9064e_row88_col3\" class=\"data row88 col3\" >-18.059700</td>\n",
       "      <td id=\"T_9064e_row88_col4\" class=\"data row88 col4\" >21.992500</td>\n",
       "      <td id=\"T_9064e_row88_col5\" class=\"data row88 col5\" >0.604300</td>\n",
       "      <td id=\"T_9064e_row88_col6\" class=\"data row88 col6\" >37.180000</td>\n",
       "      <td id=\"T_9064e_row88_col7\" class=\"data row88 col7\" >23.590000</td>\n",
       "      <td id=\"T_9064e_row88_col8\" class=\"data row88 col8\" >15.490000</td>\n",
       "      <td id=\"T_9064e_row88_col9\" class=\"data row88 col9\" >76.250000</td>\n",
       "    </tr>\n",
       "    <tr>\n",
       "      <th id=\"T_9064e_level0_row89\" class=\"row_heading level0 row89\" >89</th>\n",
       "      <td id=\"T_9064e_row89_col0\" class=\"data row89 col0\" >12</td>\n",
       "      <td id=\"T_9064e_row89_col1\" class=\"data row89 col1\" >Saturday is</td>\n",
       "      <td id=\"T_9064e_row89_col2\" class=\"data row89 col2\" >is</td>\n",
       "      <td id=\"T_9064e_row89_col3\" class=\"data row89 col3\" >43.547400</td>\n",
       "      <td id=\"T_9064e_row89_col4\" class=\"data row89 col4\" >24.449600</td>\n",
       "      <td id=\"T_9064e_row89_col5\" class=\"data row89 col5\" >-19.685200</td>\n",
       "      <td id=\"T_9064e_row89_col6\" class=\"data row89 col6\" >37.180000</td>\n",
       "      <td id=\"T_9064e_row89_col7\" class=\"data row89 col7\" >23.590000</td>\n",
       "      <td id=\"T_9064e_row89_col8\" class=\"data row89 col8\" >15.490000</td>\n",
       "      <td id=\"T_9064e_row89_col9\" class=\"data row89 col9\" >76.250000</td>\n",
       "    </tr>\n",
       "    <tr>\n",
       "      <th id=\"T_9064e_level0_row90\" class=\"row_heading level0 row90\" >90</th>\n",
       "      <td id=\"T_9064e_row90_col0\" class=\"data row90 col0\" >12</td>\n",
       "      <td id=\"T_9064e_row90_col1\" class=\"data row90 col1\" >Sunday is</td>\n",
       "      <td id=\"T_9064e_row90_col2\" class=\"data row90 col2\" >is</td>\n",
       "      <td id=\"T_9064e_row90_col3\" class=\"data row90 col3\" >69.957100</td>\n",
       "      <td id=\"T_9064e_row90_col4\" class=\"data row90 col4\" >-16.803100</td>\n",
       "      <td id=\"T_9064e_row90_col5\" class=\"data row90 col5\" >-8.010600</td>\n",
       "      <td id=\"T_9064e_row90_col6\" class=\"data row90 col6\" >37.180000</td>\n",
       "      <td id=\"T_9064e_row90_col7\" class=\"data row90 col7\" >23.590000</td>\n",
       "      <td id=\"T_9064e_row90_col8\" class=\"data row90 col8\" >15.490000</td>\n",
       "      <td id=\"T_9064e_row90_col9\" class=\"data row90 col9\" >76.250000</td>\n",
       "    </tr>\n",
       "    <tr>\n",
       "      <th id=\"T_9064e_level0_row91\" class=\"row_heading level0 row91\" >91</th>\n",
       "      <td id=\"T_9064e_row91_col0\" class=\"data row91 col0\" >13</td>\n",
       "      <td id=\"T_9064e_row91_col1\" class=\"data row91 col1\" >Monday is</td>\n",
       "      <td id=\"T_9064e_row91_col2\" class=\"data row91 col2\" >is</td>\n",
       "      <td id=\"T_9064e_row91_col3\" class=\"data row91 col3\" >6.028800</td>\n",
       "      <td id=\"T_9064e_row91_col4\" class=\"data row91 col4\" >-4.588200</td>\n",
       "      <td id=\"T_9064e_row91_col5\" class=\"data row91 col5\" >58.720900</td>\n",
       "      <td id=\"T_9064e_row91_col6\" class=\"data row91 col6\" >36.670000</td>\n",
       "      <td id=\"T_9064e_row91_col7\" class=\"data row91 col7\" >24.160000</td>\n",
       "      <td id=\"T_9064e_row91_col8\" class=\"data row91 col8\" >15.580000</td>\n",
       "      <td id=\"T_9064e_row91_col9\" class=\"data row91 col9\" >76.420000</td>\n",
       "    </tr>\n",
       "    <tr>\n",
       "      <th id=\"T_9064e_level0_row92\" class=\"row_heading level0 row92\" >92</th>\n",
       "      <td id=\"T_9064e_row92_col0\" class=\"data row92 col0\" >13</td>\n",
       "      <td id=\"T_9064e_row92_col1\" class=\"data row92 col1\" >Tuesday is</td>\n",
       "      <td id=\"T_9064e_row92_col2\" class=\"data row92 col2\" >is</td>\n",
       "      <td id=\"T_9064e_row92_col3\" class=\"data row92 col3\" >-34.788700</td>\n",
       "      <td id=\"T_9064e_row92_col4\" class=\"data row92 col4\" >-65.021500</td>\n",
       "      <td id=\"T_9064e_row92_col5\" class=\"data row92 col5\" >-10.966400</td>\n",
       "      <td id=\"T_9064e_row92_col6\" class=\"data row92 col6\" >36.670000</td>\n",
       "      <td id=\"T_9064e_row92_col7\" class=\"data row92 col7\" >24.160000</td>\n",
       "      <td id=\"T_9064e_row92_col8\" class=\"data row92 col8\" >15.580000</td>\n",
       "      <td id=\"T_9064e_row92_col9\" class=\"data row92 col9\" >76.420000</td>\n",
       "    </tr>\n",
       "    <tr>\n",
       "      <th id=\"T_9064e_level0_row93\" class=\"row_heading level0 row93\" >93</th>\n",
       "      <td id=\"T_9064e_row93_col0\" class=\"data row93 col0\" >13</td>\n",
       "      <td id=\"T_9064e_row93_col1\" class=\"data row93 col1\" >Wednesday is</td>\n",
       "      <td id=\"T_9064e_row93_col2\" class=\"data row93 col2\" >is</td>\n",
       "      <td id=\"T_9064e_row93_col3\" class=\"data row93 col3\" >-45.490000</td>\n",
       "      <td id=\"T_9064e_row93_col4\" class=\"data row93 col4\" >13.247400</td>\n",
       "      <td id=\"T_9064e_row93_col5\" class=\"data row93 col5\" >-18.538700</td>\n",
       "      <td id=\"T_9064e_row93_col6\" class=\"data row93 col6\" >36.670000</td>\n",
       "      <td id=\"T_9064e_row93_col7\" class=\"data row93 col7\" >24.160000</td>\n",
       "      <td id=\"T_9064e_row93_col8\" class=\"data row93 col8\" >15.580000</td>\n",
       "      <td id=\"T_9064e_row93_col9\" class=\"data row93 col9\" >76.420000</td>\n",
       "    </tr>\n",
       "    <tr>\n",
       "      <th id=\"T_9064e_level0_row94\" class=\"row_heading level0 row94\" >94</th>\n",
       "      <td id=\"T_9064e_row94_col0\" class=\"data row94 col0\" >13</td>\n",
       "      <td id=\"T_9064e_row94_col1\" class=\"data row94 col1\" >Thursday is</td>\n",
       "      <td id=\"T_9064e_row94_col2\" class=\"data row94 col2\" >is</td>\n",
       "      <td id=\"T_9064e_row94_col3\" class=\"data row94 col3\" >-20.822800</td>\n",
       "      <td id=\"T_9064e_row94_col4\" class=\"data row94 col4\" >33.805500</td>\n",
       "      <td id=\"T_9064e_row94_col5\" class=\"data row94 col5\" >1.218300</td>\n",
       "      <td id=\"T_9064e_row94_col6\" class=\"data row94 col6\" >36.670000</td>\n",
       "      <td id=\"T_9064e_row94_col7\" class=\"data row94 col7\" >24.160000</td>\n",
       "      <td id=\"T_9064e_row94_col8\" class=\"data row94 col8\" >15.580000</td>\n",
       "      <td id=\"T_9064e_row94_col9\" class=\"data row94 col9\" >76.420000</td>\n",
       "    </tr>\n",
       "    <tr>\n",
       "      <th id=\"T_9064e_level0_row95\" class=\"row_heading level0 row95\" >95</th>\n",
       "      <td id=\"T_9064e_row95_col0\" class=\"data row95 col0\" >13</td>\n",
       "      <td id=\"T_9064e_row95_col1\" class=\"data row95 col1\" >Friday is</td>\n",
       "      <td id=\"T_9064e_row95_col2\" class=\"data row95 col2\" >is</td>\n",
       "      <td id=\"T_9064e_row95_col3\" class=\"data row95 col3\" >-16.457800</td>\n",
       "      <td id=\"T_9064e_row95_col4\" class=\"data row95 col4\" >23.791400</td>\n",
       "      <td id=\"T_9064e_row95_col5\" class=\"data row95 col5\" >0.143300</td>\n",
       "      <td id=\"T_9064e_row95_col6\" class=\"data row95 col6\" >36.670000</td>\n",
       "      <td id=\"T_9064e_row95_col7\" class=\"data row95 col7\" >24.160000</td>\n",
       "      <td id=\"T_9064e_row95_col8\" class=\"data row95 col8\" >15.580000</td>\n",
       "      <td id=\"T_9064e_row95_col9\" class=\"data row95 col9\" >76.420000</td>\n",
       "    </tr>\n",
       "    <tr>\n",
       "      <th id=\"T_9064e_level0_row96\" class=\"row_heading level0 row96\" >96</th>\n",
       "      <td id=\"T_9064e_row96_col0\" class=\"data row96 col0\" >13</td>\n",
       "      <td id=\"T_9064e_row96_col1\" class=\"data row96 col1\" >Saturday is</td>\n",
       "      <td id=\"T_9064e_row96_col2\" class=\"data row96 col2\" >is</td>\n",
       "      <td id=\"T_9064e_row96_col3\" class=\"data row96 col3\" >44.032900</td>\n",
       "      <td id=\"T_9064e_row96_col4\" class=\"data row96 col4\" >19.302200</td>\n",
       "      <td id=\"T_9064e_row96_col5\" class=\"data row96 col5\" >-21.852900</td>\n",
       "      <td id=\"T_9064e_row96_col6\" class=\"data row96 col6\" >36.670000</td>\n",
       "      <td id=\"T_9064e_row96_col7\" class=\"data row96 col7\" >24.160000</td>\n",
       "      <td id=\"T_9064e_row96_col8\" class=\"data row96 col8\" >15.580000</td>\n",
       "      <td id=\"T_9064e_row96_col9\" class=\"data row96 col9\" >76.420000</td>\n",
       "    </tr>\n",
       "    <tr>\n",
       "      <th id=\"T_9064e_level0_row97\" class=\"row_heading level0 row97\" >97</th>\n",
       "      <td id=\"T_9064e_row97_col0\" class=\"data row97 col0\" >13</td>\n",
       "      <td id=\"T_9064e_row97_col1\" class=\"data row97 col1\" >Sunday is</td>\n",
       "      <td id=\"T_9064e_row97_col2\" class=\"data row97 col2\" >is</td>\n",
       "      <td id=\"T_9064e_row97_col3\" class=\"data row97 col3\" >67.497600</td>\n",
       "      <td id=\"T_9064e_row97_col4\" class=\"data row97 col4\" >-20.536800</td>\n",
       "      <td id=\"T_9064e_row97_col5\" class=\"data row97 col5\" >-8.724400</td>\n",
       "      <td id=\"T_9064e_row97_col6\" class=\"data row97 col6\" >36.670000</td>\n",
       "      <td id=\"T_9064e_row97_col7\" class=\"data row97 col7\" >24.160000</td>\n",
       "      <td id=\"T_9064e_row97_col8\" class=\"data row97 col8\" >15.580000</td>\n",
       "      <td id=\"T_9064e_row97_col9\" class=\"data row97 col9\" >76.420000</td>\n",
       "    </tr>\n",
       "    <tr>\n",
       "      <th id=\"T_9064e_level0_row98\" class=\"row_heading level0 row98\" >98</th>\n",
       "      <td id=\"T_9064e_row98_col0\" class=\"data row98 col0\" >14</td>\n",
       "      <td id=\"T_9064e_row98_col1\" class=\"data row98 col1\" >Monday is</td>\n",
       "      <td id=\"T_9064e_row98_col2\" class=\"data row98 col2\" >is</td>\n",
       "      <td id=\"T_9064e_row98_col3\" class=\"data row98 col3\" >9.601300</td>\n",
       "      <td id=\"T_9064e_row98_col4\" class=\"data row98 col4\" >3.813600</td>\n",
       "      <td id=\"T_9064e_row98_col5\" class=\"data row98 col5\" >59.297700</td>\n",
       "      <td id=\"T_9064e_row98_col6\" class=\"data row98 col6\" >36.800000</td>\n",
       "      <td id=\"T_9064e_row98_col7\" class=\"data row98 col7\" >24.360000</td>\n",
       "      <td id=\"T_9064e_row98_col8\" class=\"data row98 col8\" >16.030000</td>\n",
       "      <td id=\"T_9064e_row98_col9\" class=\"data row98 col9\" >77.190000</td>\n",
       "    </tr>\n",
       "    <tr>\n",
       "      <th id=\"T_9064e_level0_row99\" class=\"row_heading level0 row99\" >99</th>\n",
       "      <td id=\"T_9064e_row99_col0\" class=\"data row99 col0\" >14</td>\n",
       "      <td id=\"T_9064e_row99_col1\" class=\"data row99 col1\" >Tuesday is</td>\n",
       "      <td id=\"T_9064e_row99_col2\" class=\"data row99 col2\" >is</td>\n",
       "      <td id=\"T_9064e_row99_col3\" class=\"data row99 col3\" >-40.480100</td>\n",
       "      <td id=\"T_9064e_row99_col4\" class=\"data row99 col4\" >-63.265600</td>\n",
       "      <td id=\"T_9064e_row99_col5\" class=\"data row99 col5\" >-2.966400</td>\n",
       "      <td id=\"T_9064e_row99_col6\" class=\"data row99 col6\" >36.800000</td>\n",
       "      <td id=\"T_9064e_row99_col7\" class=\"data row99 col7\" >24.360000</td>\n",
       "      <td id=\"T_9064e_row99_col8\" class=\"data row99 col8\" >16.030000</td>\n",
       "      <td id=\"T_9064e_row99_col9\" class=\"data row99 col9\" >77.190000</td>\n",
       "    </tr>\n",
       "    <tr>\n",
       "      <th id=\"T_9064e_level0_row100\" class=\"row_heading level0 row100\" >100</th>\n",
       "      <td id=\"T_9064e_row100_col0\" class=\"data row100 col0\" >14</td>\n",
       "      <td id=\"T_9064e_row100_col1\" class=\"data row100 col1\" >Wednesday is</td>\n",
       "      <td id=\"T_9064e_row100_col2\" class=\"data row100 col2\" >is</td>\n",
       "      <td id=\"T_9064e_row100_col3\" class=\"data row100 col3\" >-45.609400</td>\n",
       "      <td id=\"T_9064e_row100_col4\" class=\"data row100 col4\" >11.846800</td>\n",
       "      <td id=\"T_9064e_row100_col5\" class=\"data row100 col5\" >-17.560600</td>\n",
       "      <td id=\"T_9064e_row100_col6\" class=\"data row100 col6\" >36.800000</td>\n",
       "      <td id=\"T_9064e_row100_col7\" class=\"data row100 col7\" >24.360000</td>\n",
       "      <td id=\"T_9064e_row100_col8\" class=\"data row100 col8\" >16.030000</td>\n",
       "      <td id=\"T_9064e_row100_col9\" class=\"data row100 col9\" >77.190000</td>\n",
       "    </tr>\n",
       "    <tr>\n",
       "      <th id=\"T_9064e_level0_row101\" class=\"row_heading level0 row101\" >101</th>\n",
       "      <td id=\"T_9064e_row101_col0\" class=\"data row101 col0\" >14</td>\n",
       "      <td id=\"T_9064e_row101_col1\" class=\"data row101 col1\" >Thursday is</td>\n",
       "      <td id=\"T_9064e_row101_col2\" class=\"data row101 col2\" >is</td>\n",
       "      <td id=\"T_9064e_row101_col3\" class=\"data row101 col3\" >-15.187700</td>\n",
       "      <td id=\"T_9064e_row101_col4\" class=\"data row101 col4\" >36.675100</td>\n",
       "      <td id=\"T_9064e_row101_col5\" class=\"data row101 col5\" >4.182800</td>\n",
       "      <td id=\"T_9064e_row101_col6\" class=\"data row101 col6\" >36.800000</td>\n",
       "      <td id=\"T_9064e_row101_col7\" class=\"data row101 col7\" >24.360000</td>\n",
       "      <td id=\"T_9064e_row101_col8\" class=\"data row101 col8\" >16.030000</td>\n",
       "      <td id=\"T_9064e_row101_col9\" class=\"data row101 col9\" >77.190000</td>\n",
       "    </tr>\n",
       "    <tr>\n",
       "      <th id=\"T_9064e_level0_row102\" class=\"row_heading level0 row102\" >102</th>\n",
       "      <td id=\"T_9064e_row102_col0\" class=\"data row102 col0\" >14</td>\n",
       "      <td id=\"T_9064e_row102_col1\" class=\"data row102 col1\" >Friday is</td>\n",
       "      <td id=\"T_9064e_row102_col2\" class=\"data row102 col2\" >is</td>\n",
       "      <td id=\"T_9064e_row102_col3\" class=\"data row102 col3\" >-18.290600</td>\n",
       "      <td id=\"T_9064e_row102_col4\" class=\"data row102 col4\" >24.288900</td>\n",
       "      <td id=\"T_9064e_row102_col5\" class=\"data row102 col5\" >-11.108100</td>\n",
       "      <td id=\"T_9064e_row102_col6\" class=\"data row102 col6\" >36.800000</td>\n",
       "      <td id=\"T_9064e_row102_col7\" class=\"data row102 col7\" >24.360000</td>\n",
       "      <td id=\"T_9064e_row102_col8\" class=\"data row102 col8\" >16.030000</td>\n",
       "      <td id=\"T_9064e_row102_col9\" class=\"data row102 col9\" >77.190000</td>\n",
       "    </tr>\n",
       "    <tr>\n",
       "      <th id=\"T_9064e_level0_row103\" class=\"row_heading level0 row103\" >103</th>\n",
       "      <td id=\"T_9064e_row103_col0\" class=\"data row103 col0\" >14</td>\n",
       "      <td id=\"T_9064e_row103_col1\" class=\"data row103 col1\" >Saturday is</td>\n",
       "      <td id=\"T_9064e_row103_col2\" class=\"data row103 col2\" >is</td>\n",
       "      <td id=\"T_9064e_row103_col3\" class=\"data row103 col3\" >46.959700</td>\n",
       "      <td id=\"T_9064e_row103_col4\" class=\"data row103 col4\" >13.355800</td>\n",
       "      <td id=\"T_9064e_row103_col5\" class=\"data row103 col5\" >-23.461500</td>\n",
       "      <td id=\"T_9064e_row103_col6\" class=\"data row103 col6\" >36.800000</td>\n",
       "      <td id=\"T_9064e_row103_col7\" class=\"data row103 col7\" >24.360000</td>\n",
       "      <td id=\"T_9064e_row103_col8\" class=\"data row103 col8\" >16.030000</td>\n",
       "      <td id=\"T_9064e_row103_col9\" class=\"data row103 col9\" >77.190000</td>\n",
       "    </tr>\n",
       "    <tr>\n",
       "      <th id=\"T_9064e_level0_row104\" class=\"row_heading level0 row104\" >104</th>\n",
       "      <td id=\"T_9064e_row104_col0\" class=\"data row104 col0\" >14</td>\n",
       "      <td id=\"T_9064e_row104_col1\" class=\"data row104 col1\" >Sunday is</td>\n",
       "      <td id=\"T_9064e_row104_col2\" class=\"data row104 col2\" >is</td>\n",
       "      <td id=\"T_9064e_row104_col3\" class=\"data row104 col3\" >63.006900</td>\n",
       "      <td id=\"T_9064e_row104_col4\" class=\"data row104 col4\" >-26.714600</td>\n",
       "      <td id=\"T_9064e_row104_col5\" class=\"data row104 col5\" >-8.383900</td>\n",
       "      <td id=\"T_9064e_row104_col6\" class=\"data row104 col6\" >36.800000</td>\n",
       "      <td id=\"T_9064e_row104_col7\" class=\"data row104 col7\" >24.360000</td>\n",
       "      <td id=\"T_9064e_row104_col8\" class=\"data row104 col8\" >16.030000</td>\n",
       "      <td id=\"T_9064e_row104_col9\" class=\"data row104 col9\" >77.190000</td>\n",
       "    </tr>\n",
       "    <tr>\n",
       "      <th id=\"T_9064e_level0_row105\" class=\"row_heading level0 row105\" >105</th>\n",
       "      <td id=\"T_9064e_row105_col0\" class=\"data row105 col0\" >15</td>\n",
       "      <td id=\"T_9064e_row105_col1\" class=\"data row105 col1\" >Monday is</td>\n",
       "      <td id=\"T_9064e_row105_col2\" class=\"data row105 col2\" >is</td>\n",
       "      <td id=\"T_9064e_row105_col3\" class=\"data row105 col3\" >14.916600</td>\n",
       "      <td id=\"T_9064e_row105_col4\" class=\"data row105 col4\" >10.739400</td>\n",
       "      <td id=\"T_9064e_row105_col5\" class=\"data row105 col5\" >57.736400</td>\n",
       "      <td id=\"T_9064e_row105_col6\" class=\"data row105 col6\" >36.570000</td>\n",
       "      <td id=\"T_9064e_row105_col7\" class=\"data row105 col7\" >24.090000</td>\n",
       "      <td id=\"T_9064e_row105_col8\" class=\"data row105 col8\" >16.060000</td>\n",
       "      <td id=\"T_9064e_row105_col9\" class=\"data row105 col9\" >76.720000</td>\n",
       "    </tr>\n",
       "    <tr>\n",
       "      <th id=\"T_9064e_level0_row106\" class=\"row_heading level0 row106\" >106</th>\n",
       "      <td id=\"T_9064e_row106_col0\" class=\"data row106 col0\" >15</td>\n",
       "      <td id=\"T_9064e_row106_col1\" class=\"data row106 col1\" >Tuesday is</td>\n",
       "      <td id=\"T_9064e_row106_col2\" class=\"data row106 col2\" >is</td>\n",
       "      <td id=\"T_9064e_row106_col3\" class=\"data row106 col3\" >-47.222900</td>\n",
       "      <td id=\"T_9064e_row106_col4\" class=\"data row106 col4\" >-59.049900</td>\n",
       "      <td id=\"T_9064e_row106_col5\" class=\"data row106 col5\" >4.010100</td>\n",
       "      <td id=\"T_9064e_row106_col6\" class=\"data row106 col6\" >36.570000</td>\n",
       "      <td id=\"T_9064e_row106_col7\" class=\"data row106 col7\" >24.090000</td>\n",
       "      <td id=\"T_9064e_row106_col8\" class=\"data row106 col8\" >16.060000</td>\n",
       "      <td id=\"T_9064e_row106_col9\" class=\"data row106 col9\" >76.720000</td>\n",
       "    </tr>\n",
       "    <tr>\n",
       "      <th id=\"T_9064e_level0_row107\" class=\"row_heading level0 row107\" >107</th>\n",
       "      <td id=\"T_9064e_row107_col0\" class=\"data row107 col0\" >15</td>\n",
       "      <td id=\"T_9064e_row107_col1\" class=\"data row107 col1\" >Wednesday is</td>\n",
       "      <td id=\"T_9064e_row107_col2\" class=\"data row107 col2\" >is</td>\n",
       "      <td id=\"T_9064e_row107_col3\" class=\"data row107 col3\" >-45.736800</td>\n",
       "      <td id=\"T_9064e_row107_col4\" class=\"data row107 col4\" >12.802500</td>\n",
       "      <td id=\"T_9064e_row107_col5\" class=\"data row107 col5\" >-18.496200</td>\n",
       "      <td id=\"T_9064e_row107_col6\" class=\"data row107 col6\" >36.570000</td>\n",
       "      <td id=\"T_9064e_row107_col7\" class=\"data row107 col7\" >24.090000</td>\n",
       "      <td id=\"T_9064e_row107_col8\" class=\"data row107 col8\" >16.060000</td>\n",
       "      <td id=\"T_9064e_row107_col9\" class=\"data row107 col9\" >76.720000</td>\n",
       "    </tr>\n",
       "    <tr>\n",
       "      <th id=\"T_9064e_level0_row108\" class=\"row_heading level0 row108\" >108</th>\n",
       "      <td id=\"T_9064e_row108_col0\" class=\"data row108 col0\" >15</td>\n",
       "      <td id=\"T_9064e_row108_col1\" class=\"data row108 col1\" >Thursday is</td>\n",
       "      <td id=\"T_9064e_row108_col2\" class=\"data row108 col2\" >is</td>\n",
       "      <td id=\"T_9064e_row108_col3\" class=\"data row108 col3\" >-9.505300</td>\n",
       "      <td id=\"T_9064e_row108_col4\" class=\"data row108 col4\" >38.564300</td>\n",
       "      <td id=\"T_9064e_row108_col5\" class=\"data row108 col5\" >1.287300</td>\n",
       "      <td id=\"T_9064e_row108_col6\" class=\"data row108 col6\" >36.570000</td>\n",
       "      <td id=\"T_9064e_row108_col7\" class=\"data row108 col7\" >24.090000</td>\n",
       "      <td id=\"T_9064e_row108_col8\" class=\"data row108 col8\" >16.060000</td>\n",
       "      <td id=\"T_9064e_row108_col9\" class=\"data row108 col9\" >76.720000</td>\n",
       "    </tr>\n",
       "    <tr>\n",
       "      <th id=\"T_9064e_level0_row109\" class=\"row_heading level0 row109\" >109</th>\n",
       "      <td id=\"T_9064e_row109_col0\" class=\"data row109 col0\" >15</td>\n",
       "      <td id=\"T_9064e_row109_col1\" class=\"data row109 col1\" >Friday is</td>\n",
       "      <td id=\"T_9064e_row109_col2\" class=\"data row109 col2\" >is</td>\n",
       "      <td id=\"T_9064e_row109_col3\" class=\"data row109 col3\" >-17.257400</td>\n",
       "      <td id=\"T_9064e_row109_col4\" class=\"data row109 col4\" >23.242000</td>\n",
       "      <td id=\"T_9064e_row109_col5\" class=\"data row109 col5\" >-10.223300</td>\n",
       "      <td id=\"T_9064e_row109_col6\" class=\"data row109 col6\" >36.570000</td>\n",
       "      <td id=\"T_9064e_row109_col7\" class=\"data row109 col7\" >24.090000</td>\n",
       "      <td id=\"T_9064e_row109_col8\" class=\"data row109 col8\" >16.060000</td>\n",
       "      <td id=\"T_9064e_row109_col9\" class=\"data row109 col9\" >76.720000</td>\n",
       "    </tr>\n",
       "    <tr>\n",
       "      <th id=\"T_9064e_level0_row110\" class=\"row_heading level0 row110\" >110</th>\n",
       "      <td id=\"T_9064e_row110_col0\" class=\"data row110 col0\" >15</td>\n",
       "      <td id=\"T_9064e_row110_col1\" class=\"data row110 col1\" >Saturday is</td>\n",
       "      <td id=\"T_9064e_row110_col2\" class=\"data row110 col2\" >is</td>\n",
       "      <td id=\"T_9064e_row110_col3\" class=\"data row110 col3\" >46.851400</td>\n",
       "      <td id=\"T_9064e_row110_col4\" class=\"data row110 col4\" >6.430700</td>\n",
       "      <td id=\"T_9064e_row110_col5\" class=\"data row110 col5\" >-27.619300</td>\n",
       "      <td id=\"T_9064e_row110_col6\" class=\"data row110 col6\" >36.570000</td>\n",
       "      <td id=\"T_9064e_row110_col7\" class=\"data row110 col7\" >24.090000</td>\n",
       "      <td id=\"T_9064e_row110_col8\" class=\"data row110 col8\" >16.060000</td>\n",
       "      <td id=\"T_9064e_row110_col9\" class=\"data row110 col9\" >76.720000</td>\n",
       "    </tr>\n",
       "    <tr>\n",
       "      <th id=\"T_9064e_level0_row111\" class=\"row_heading level0 row111\" >111</th>\n",
       "      <td id=\"T_9064e_row111_col0\" class=\"data row111 col0\" >15</td>\n",
       "      <td id=\"T_9064e_row111_col1\" class=\"data row111 col1\" >Sunday is</td>\n",
       "      <td id=\"T_9064e_row111_col2\" class=\"data row111 col2\" >is</td>\n",
       "      <td id=\"T_9064e_row111_col3\" class=\"data row111 col3\" >57.954400</td>\n",
       "      <td id=\"T_9064e_row111_col4\" class=\"data row111 col4\" >-32.728900</td>\n",
       "      <td id=\"T_9064e_row111_col5\" class=\"data row111 col5\" >-6.695000</td>\n",
       "      <td id=\"T_9064e_row111_col6\" class=\"data row111 col6\" >36.570000</td>\n",
       "      <td id=\"T_9064e_row111_col7\" class=\"data row111 col7\" >24.090000</td>\n",
       "      <td id=\"T_9064e_row111_col8\" class=\"data row111 col8\" >16.060000</td>\n",
       "      <td id=\"T_9064e_row111_col9\" class=\"data row111 col9\" >76.720000</td>\n",
       "    </tr>\n",
       "    <tr>\n",
       "      <th id=\"T_9064e_level0_row112\" class=\"row_heading level0 row112\" >112</th>\n",
       "      <td id=\"T_9064e_row112_col0\" class=\"data row112 col0\" >16</td>\n",
       "      <td id=\"T_9064e_row112_col1\" class=\"data row112 col1\" >Monday is</td>\n",
       "      <td id=\"T_9064e_row112_col2\" class=\"data row112 col2\" >is</td>\n",
       "      <td id=\"T_9064e_row112_col3\" class=\"data row112 col3\" >15.225300</td>\n",
       "      <td id=\"T_9064e_row112_col4\" class=\"data row112 col4\" >11.142200</td>\n",
       "      <td id=\"T_9064e_row112_col5\" class=\"data row112 col5\" >56.720200</td>\n",
       "      <td id=\"T_9064e_row112_col6\" class=\"data row112 col6\" >35.050000</td>\n",
       "      <td id=\"T_9064e_row112_col7\" class=\"data row112 col7\" >24.530000</td>\n",
       "      <td id=\"T_9064e_row112_col8\" class=\"data row112 col8\" >15.690000</td>\n",
       "      <td id=\"T_9064e_row112_col9\" class=\"data row112 col9\" >75.270000</td>\n",
       "    </tr>\n",
       "    <tr>\n",
       "      <th id=\"T_9064e_level0_row113\" class=\"row_heading level0 row113\" >113</th>\n",
       "      <td id=\"T_9064e_row113_col0\" class=\"data row113 col0\" >16</td>\n",
       "      <td id=\"T_9064e_row113_col1\" class=\"data row113 col1\" >Tuesday is</td>\n",
       "      <td id=\"T_9064e_row113_col2\" class=\"data row113 col2\" >is</td>\n",
       "      <td id=\"T_9064e_row113_col3\" class=\"data row113 col3\" >-47.794200</td>\n",
       "      <td id=\"T_9064e_row113_col4\" class=\"data row113 col4\" >-58.342800</td>\n",
       "      <td id=\"T_9064e_row113_col5\" class=\"data row113 col5\" >4.981100</td>\n",
       "      <td id=\"T_9064e_row113_col6\" class=\"data row113 col6\" >35.050000</td>\n",
       "      <td id=\"T_9064e_row113_col7\" class=\"data row113 col7\" >24.530000</td>\n",
       "      <td id=\"T_9064e_row113_col8\" class=\"data row113 col8\" >15.690000</td>\n",
       "      <td id=\"T_9064e_row113_col9\" class=\"data row113 col9\" >75.270000</td>\n",
       "    </tr>\n",
       "    <tr>\n",
       "      <th id=\"T_9064e_level0_row114\" class=\"row_heading level0 row114\" >114</th>\n",
       "      <td id=\"T_9064e_row114_col0\" class=\"data row114 col0\" >16</td>\n",
       "      <td id=\"T_9064e_row114_col1\" class=\"data row114 col1\" >Wednesday is</td>\n",
       "      <td id=\"T_9064e_row114_col2\" class=\"data row114 col2\" >is</td>\n",
       "      <td id=\"T_9064e_row114_col3\" class=\"data row114 col3\" >-44.218300</td>\n",
       "      <td id=\"T_9064e_row114_col4\" class=\"data row114 col4\" >15.331800</td>\n",
       "      <td id=\"T_9064e_row114_col5\" class=\"data row114 col5\" >-17.600600</td>\n",
       "      <td id=\"T_9064e_row114_col6\" class=\"data row114 col6\" >35.050000</td>\n",
       "      <td id=\"T_9064e_row114_col7\" class=\"data row114 col7\" >24.530000</td>\n",
       "      <td id=\"T_9064e_row114_col8\" class=\"data row114 col8\" >15.690000</td>\n",
       "      <td id=\"T_9064e_row114_col9\" class=\"data row114 col9\" >75.270000</td>\n",
       "    </tr>\n",
       "    <tr>\n",
       "      <th id=\"T_9064e_level0_row115\" class=\"row_heading level0 row115\" >115</th>\n",
       "      <td id=\"T_9064e_row115_col0\" class=\"data row115 col0\" >16</td>\n",
       "      <td id=\"T_9064e_row115_col1\" class=\"data row115 col1\" >Thursday is</td>\n",
       "      <td id=\"T_9064e_row115_col2\" class=\"data row115 col2\" >is</td>\n",
       "      <td id=\"T_9064e_row115_col3\" class=\"data row115 col3\" >-8.815500</td>\n",
       "      <td id=\"T_9064e_row115_col4\" class=\"data row115 col4\" >41.837900</td>\n",
       "      <td id=\"T_9064e_row115_col5\" class=\"data row115 col5\" >2.637300</td>\n",
       "      <td id=\"T_9064e_row115_col6\" class=\"data row115 col6\" >35.050000</td>\n",
       "      <td id=\"T_9064e_row115_col7\" class=\"data row115 col7\" >24.530000</td>\n",
       "      <td id=\"T_9064e_row115_col8\" class=\"data row115 col8\" >15.690000</td>\n",
       "      <td id=\"T_9064e_row115_col9\" class=\"data row115 col9\" >75.270000</td>\n",
       "    </tr>\n",
       "    <tr>\n",
       "      <th id=\"T_9064e_level0_row116\" class=\"row_heading level0 row116\" >116</th>\n",
       "      <td id=\"T_9064e_row116_col0\" class=\"data row116 col0\" >16</td>\n",
       "      <td id=\"T_9064e_row116_col1\" class=\"data row116 col1\" >Friday is</td>\n",
       "      <td id=\"T_9064e_row116_col2\" class=\"data row116 col2\" >is</td>\n",
       "      <td id=\"T_9064e_row116_col3\" class=\"data row116 col3\" >-16.201700</td>\n",
       "      <td id=\"T_9064e_row116_col4\" class=\"data row116 col4\" >17.705500</td>\n",
       "      <td id=\"T_9064e_row116_col5\" class=\"data row116 col5\" >-13.278800</td>\n",
       "      <td id=\"T_9064e_row116_col6\" class=\"data row116 col6\" >35.050000</td>\n",
       "      <td id=\"T_9064e_row116_col7\" class=\"data row116 col7\" >24.530000</td>\n",
       "      <td id=\"T_9064e_row116_col8\" class=\"data row116 col8\" >15.690000</td>\n",
       "      <td id=\"T_9064e_row116_col9\" class=\"data row116 col9\" >75.270000</td>\n",
       "    </tr>\n",
       "    <tr>\n",
       "      <th id=\"T_9064e_level0_row117\" class=\"row_heading level0 row117\" >117</th>\n",
       "      <td id=\"T_9064e_row117_col0\" class=\"data row117 col0\" >16</td>\n",
       "      <td id=\"T_9064e_row117_col1\" class=\"data row117 col1\" >Saturday is</td>\n",
       "      <td id=\"T_9064e_row117_col2\" class=\"data row117 col2\" >is</td>\n",
       "      <td id=\"T_9064e_row117_col3\" class=\"data row117 col3\" >45.582800</td>\n",
       "      <td id=\"T_9064e_row117_col4\" class=\"data row117 col4\" >6.444000</td>\n",
       "      <td id=\"T_9064e_row117_col5\" class=\"data row117 col5\" >-26.831200</td>\n",
       "      <td id=\"T_9064e_row117_col6\" class=\"data row117 col6\" >35.050000</td>\n",
       "      <td id=\"T_9064e_row117_col7\" class=\"data row117 col7\" >24.530000</td>\n",
       "      <td id=\"T_9064e_row117_col8\" class=\"data row117 col8\" >15.690000</td>\n",
       "      <td id=\"T_9064e_row117_col9\" class=\"data row117 col9\" >75.270000</td>\n",
       "    </tr>\n",
       "    <tr>\n",
       "      <th id=\"T_9064e_level0_row118\" class=\"row_heading level0 row118\" >118</th>\n",
       "      <td id=\"T_9064e_row118_col0\" class=\"data row118 col0\" >16</td>\n",
       "      <td id=\"T_9064e_row118_col1\" class=\"data row118 col1\" >Sunday is</td>\n",
       "      <td id=\"T_9064e_row118_col2\" class=\"data row118 col2\" >is</td>\n",
       "      <td id=\"T_9064e_row118_col3\" class=\"data row118 col3\" >56.221600</td>\n",
       "      <td id=\"T_9064e_row118_col4\" class=\"data row118 col4\" >-34.118600</td>\n",
       "      <td id=\"T_9064e_row118_col5\" class=\"data row118 col5\" >-6.628000</td>\n",
       "      <td id=\"T_9064e_row118_col6\" class=\"data row118 col6\" >35.050000</td>\n",
       "      <td id=\"T_9064e_row118_col7\" class=\"data row118 col7\" >24.530000</td>\n",
       "      <td id=\"T_9064e_row118_col8\" class=\"data row118 col8\" >15.690000</td>\n",
       "      <td id=\"T_9064e_row118_col9\" class=\"data row118 col9\" >75.270000</td>\n",
       "    </tr>\n",
       "    <tr>\n",
       "      <th id=\"T_9064e_level0_row119\" class=\"row_heading level0 row119\" >119</th>\n",
       "      <td id=\"T_9064e_row119_col0\" class=\"data row119 col0\" >17</td>\n",
       "      <td id=\"T_9064e_row119_col1\" class=\"data row119 col1\" >Monday is</td>\n",
       "      <td id=\"T_9064e_row119_col2\" class=\"data row119 col2\" >is</td>\n",
       "      <td id=\"T_9064e_row119_col3\" class=\"data row119 col3\" >15.891500</td>\n",
       "      <td id=\"T_9064e_row119_col4\" class=\"data row119 col4\" >9.006000</td>\n",
       "      <td id=\"T_9064e_row119_col5\" class=\"data row119 col5\" >54.463400</td>\n",
       "      <td id=\"T_9064e_row119_col6\" class=\"data row119 col6\" >34.250000</td>\n",
       "      <td id=\"T_9064e_row119_col7\" class=\"data row119 col7\" >24.880000</td>\n",
       "      <td id=\"T_9064e_row119_col8\" class=\"data row119 col8\" >15.240000</td>\n",
       "      <td id=\"T_9064e_row119_col9\" class=\"data row119 col9\" >74.370000</td>\n",
       "    </tr>\n",
       "    <tr>\n",
       "      <th id=\"T_9064e_level0_row120\" class=\"row_heading level0 row120\" >120</th>\n",
       "      <td id=\"T_9064e_row120_col0\" class=\"data row120 col0\" >17</td>\n",
       "      <td id=\"T_9064e_row120_col1\" class=\"data row120 col1\" >Tuesday is</td>\n",
       "      <td id=\"T_9064e_row120_col2\" class=\"data row120 col2\" >is</td>\n",
       "      <td id=\"T_9064e_row120_col3\" class=\"data row120 col3\" >-55.881300</td>\n",
       "      <td id=\"T_9064e_row120_col4\" class=\"data row120 col4\" >-52.712100</td>\n",
       "      <td id=\"T_9064e_row120_col5\" class=\"data row120 col5\" >4.666200</td>\n",
       "      <td id=\"T_9064e_row120_col6\" class=\"data row120 col6\" >34.250000</td>\n",
       "      <td id=\"T_9064e_row120_col7\" class=\"data row120 col7\" >24.880000</td>\n",
       "      <td id=\"T_9064e_row120_col8\" class=\"data row120 col8\" >15.240000</td>\n",
       "      <td id=\"T_9064e_row120_col9\" class=\"data row120 col9\" >74.370000</td>\n",
       "    </tr>\n",
       "    <tr>\n",
       "      <th id=\"T_9064e_level0_row121\" class=\"row_heading level0 row121\" >121</th>\n",
       "      <td id=\"T_9064e_row121_col0\" class=\"data row121 col0\" >17</td>\n",
       "      <td id=\"T_9064e_row121_col1\" class=\"data row121 col1\" >Wednesday is</td>\n",
       "      <td id=\"T_9064e_row121_col2\" class=\"data row121 col2\" >is</td>\n",
       "      <td id=\"T_9064e_row121_col3\" class=\"data row121 col3\" >-39.895500</td>\n",
       "      <td id=\"T_9064e_row121_col4\" class=\"data row121 col4\" >20.777300</td>\n",
       "      <td id=\"T_9064e_row121_col5\" class=\"data row121 col5\" >-14.125600</td>\n",
       "      <td id=\"T_9064e_row121_col6\" class=\"data row121 col6\" >34.250000</td>\n",
       "      <td id=\"T_9064e_row121_col7\" class=\"data row121 col7\" >24.880000</td>\n",
       "      <td id=\"T_9064e_row121_col8\" class=\"data row121 col8\" >15.240000</td>\n",
       "      <td id=\"T_9064e_row121_col9\" class=\"data row121 col9\" >74.370000</td>\n",
       "    </tr>\n",
       "    <tr>\n",
       "      <th id=\"T_9064e_level0_row122\" class=\"row_heading level0 row122\" >122</th>\n",
       "      <td id=\"T_9064e_row122_col0\" class=\"data row122 col0\" >17</td>\n",
       "      <td id=\"T_9064e_row122_col1\" class=\"data row122 col1\" >Thursday is</td>\n",
       "      <td id=\"T_9064e_row122_col2\" class=\"data row122 col2\" >is</td>\n",
       "      <td id=\"T_9064e_row122_col3\" class=\"data row122 col3\" >-2.747900</td>\n",
       "      <td id=\"T_9064e_row122_col4\" class=\"data row122 col4\" >43.229700</td>\n",
       "      <td id=\"T_9064e_row122_col5\" class=\"data row122 col5\" >6.823700</td>\n",
       "      <td id=\"T_9064e_row122_col6\" class=\"data row122 col6\" >34.250000</td>\n",
       "      <td id=\"T_9064e_row122_col7\" class=\"data row122 col7\" >24.880000</td>\n",
       "      <td id=\"T_9064e_row122_col8\" class=\"data row122 col8\" >15.240000</td>\n",
       "      <td id=\"T_9064e_row122_col9\" class=\"data row122 col9\" >74.370000</td>\n",
       "    </tr>\n",
       "    <tr>\n",
       "      <th id=\"T_9064e_level0_row123\" class=\"row_heading level0 row123\" >123</th>\n",
       "      <td id=\"T_9064e_row123_col0\" class=\"data row123 col0\" >17</td>\n",
       "      <td id=\"T_9064e_row123_col1\" class=\"data row123 col1\" >Friday is</td>\n",
       "      <td id=\"T_9064e_row123_col2\" class=\"data row123 col2\" >is</td>\n",
       "      <td id=\"T_9064e_row123_col3\" class=\"data row123 col3\" >-13.835100</td>\n",
       "      <td id=\"T_9064e_row123_col4\" class=\"data row123 col4\" >18.198300</td>\n",
       "      <td id=\"T_9064e_row123_col5\" class=\"data row123 col5\" >-21.501600</td>\n",
       "      <td id=\"T_9064e_row123_col6\" class=\"data row123 col6\" >34.250000</td>\n",
       "      <td id=\"T_9064e_row123_col7\" class=\"data row123 col7\" >24.880000</td>\n",
       "      <td id=\"T_9064e_row123_col8\" class=\"data row123 col8\" >15.240000</td>\n",
       "      <td id=\"T_9064e_row123_col9\" class=\"data row123 col9\" >74.370000</td>\n",
       "    </tr>\n",
       "    <tr>\n",
       "      <th id=\"T_9064e_level0_row124\" class=\"row_heading level0 row124\" >124</th>\n",
       "      <td id=\"T_9064e_row124_col0\" class=\"data row124 col0\" >17</td>\n",
       "      <td id=\"T_9064e_row124_col1\" class=\"data row124 col1\" >Saturday is</td>\n",
       "      <td id=\"T_9064e_row124_col2\" class=\"data row124 col2\" >is</td>\n",
       "      <td id=\"T_9064e_row124_col3\" class=\"data row124 col3\" >47.473400</td>\n",
       "      <td id=\"T_9064e_row124_col4\" class=\"data row124 col4\" >1.962800</td>\n",
       "      <td id=\"T_9064e_row124_col5\" class=\"data row124 col5\" >-25.498900</td>\n",
       "      <td id=\"T_9064e_row124_col6\" class=\"data row124 col6\" >34.250000</td>\n",
       "      <td id=\"T_9064e_row124_col7\" class=\"data row124 col7\" >24.880000</td>\n",
       "      <td id=\"T_9064e_row124_col8\" class=\"data row124 col8\" >15.240000</td>\n",
       "      <td id=\"T_9064e_row124_col9\" class=\"data row124 col9\" >74.370000</td>\n",
       "    </tr>\n",
       "    <tr>\n",
       "      <th id=\"T_9064e_level0_row125\" class=\"row_heading level0 row125\" >125</th>\n",
       "      <td id=\"T_9064e_row125_col0\" class=\"data row125 col0\" >17</td>\n",
       "      <td id=\"T_9064e_row125_col1\" class=\"data row125 col1\" >Sunday is</td>\n",
       "      <td id=\"T_9064e_row125_col2\" class=\"data row125 col2\" >is</td>\n",
       "      <td id=\"T_9064e_row125_col3\" class=\"data row125 col3\" >48.995000</td>\n",
       "      <td id=\"T_9064e_row125_col4\" class=\"data row125 col4\" >-40.462000</td>\n",
       "      <td id=\"T_9064e_row125_col5\" class=\"data row125 col5\" >-4.827200</td>\n",
       "      <td id=\"T_9064e_row125_col6\" class=\"data row125 col6\" >34.250000</td>\n",
       "      <td id=\"T_9064e_row125_col7\" class=\"data row125 col7\" >24.880000</td>\n",
       "      <td id=\"T_9064e_row125_col8\" class=\"data row125 col8\" >15.240000</td>\n",
       "      <td id=\"T_9064e_row125_col9\" class=\"data row125 col9\" >74.370000</td>\n",
       "    </tr>\n",
       "    <tr>\n",
       "      <th id=\"T_9064e_level0_row126\" class=\"row_heading level0 row126\" >126</th>\n",
       "      <td id=\"T_9064e_row126_col0\" class=\"data row126 col0\" >18</td>\n",
       "      <td id=\"T_9064e_row126_col1\" class=\"data row126 col1\" >Monday is</td>\n",
       "      <td id=\"T_9064e_row126_col2\" class=\"data row126 col2\" >is</td>\n",
       "      <td id=\"T_9064e_row126_col3\" class=\"data row126 col3\" >13.902500</td>\n",
       "      <td id=\"T_9064e_row126_col4\" class=\"data row126 col4\" >13.758700</td>\n",
       "      <td id=\"T_9064e_row126_col5\" class=\"data row126 col5\" >1.216100</td>\n",
       "      <td id=\"T_9064e_row126_col6\" class=\"data row126 col6\" >34.510000</td>\n",
       "      <td id=\"T_9064e_row126_col7\" class=\"data row126 col7\" >25.120000</td>\n",
       "      <td id=\"T_9064e_row126_col8\" class=\"data row126 col8\" >14.580000</td>\n",
       "      <td id=\"T_9064e_row126_col9\" class=\"data row126 col9\" >74.210000</td>\n",
       "    </tr>\n",
       "    <tr>\n",
       "      <th id=\"T_9064e_level0_row127\" class=\"row_heading level0 row127\" >127</th>\n",
       "      <td id=\"T_9064e_row127_col0\" class=\"data row127 col0\" >18</td>\n",
       "      <td id=\"T_9064e_row127_col1\" class=\"data row127 col1\" >Tuesday is</td>\n",
       "      <td id=\"T_9064e_row127_col2\" class=\"data row127 col2\" >is</td>\n",
       "      <td id=\"T_9064e_row127_col3\" class=\"data row127 col3\" >-54.520700</td>\n",
       "      <td id=\"T_9064e_row127_col4\" class=\"data row127 col4\" >-53.140200</td>\n",
       "      <td id=\"T_9064e_row127_col5\" class=\"data row127 col5\" >11.868000</td>\n",
       "      <td id=\"T_9064e_row127_col6\" class=\"data row127 col6\" >34.510000</td>\n",
       "      <td id=\"T_9064e_row127_col7\" class=\"data row127 col7\" >25.120000</td>\n",
       "      <td id=\"T_9064e_row127_col8\" class=\"data row127 col8\" >14.580000</td>\n",
       "      <td id=\"T_9064e_row127_col9\" class=\"data row127 col9\" >74.210000</td>\n",
       "    </tr>\n",
       "    <tr>\n",
       "      <th id=\"T_9064e_level0_row128\" class=\"row_heading level0 row128\" >128</th>\n",
       "      <td id=\"T_9064e_row128_col0\" class=\"data row128 col0\" >18</td>\n",
       "      <td id=\"T_9064e_row128_col1\" class=\"data row128 col1\" >Wednesday is</td>\n",
       "      <td id=\"T_9064e_row128_col2\" class=\"data row128 col2\" >is</td>\n",
       "      <td id=\"T_9064e_row128_col3\" class=\"data row128 col3\" >-39.308900</td>\n",
       "      <td id=\"T_9064e_row128_col4\" class=\"data row128 col4\" >20.771200</td>\n",
       "      <td id=\"T_9064e_row128_col5\" class=\"data row128 col5\" >13.465200</td>\n",
       "      <td id=\"T_9064e_row128_col6\" class=\"data row128 col6\" >34.510000</td>\n",
       "      <td id=\"T_9064e_row128_col7\" class=\"data row128 col7\" >25.120000</td>\n",
       "      <td id=\"T_9064e_row128_col8\" class=\"data row128 col8\" >14.580000</td>\n",
       "      <td id=\"T_9064e_row128_col9\" class=\"data row128 col9\" >74.210000</td>\n",
       "    </tr>\n",
       "    <tr>\n",
       "      <th id=\"T_9064e_level0_row129\" class=\"row_heading level0 row129\" >129</th>\n",
       "      <td id=\"T_9064e_row129_col0\" class=\"data row129 col0\" >18</td>\n",
       "      <td id=\"T_9064e_row129_col1\" class=\"data row129 col1\" >Thursday is</td>\n",
       "      <td id=\"T_9064e_row129_col2\" class=\"data row129 col2\" >is</td>\n",
       "      <td id=\"T_9064e_row129_col3\" class=\"data row129 col3\" >-2.202300</td>\n",
       "      <td id=\"T_9064e_row129_col4\" class=\"data row129 col4\" >43.934900</td>\n",
       "      <td id=\"T_9064e_row129_col5\" class=\"data row129 col5\" >24.803900</td>\n",
       "      <td id=\"T_9064e_row129_col6\" class=\"data row129 col6\" >34.510000</td>\n",
       "      <td id=\"T_9064e_row129_col7\" class=\"data row129 col7\" >25.120000</td>\n",
       "      <td id=\"T_9064e_row129_col8\" class=\"data row129 col8\" >14.580000</td>\n",
       "      <td id=\"T_9064e_row129_col9\" class=\"data row129 col9\" >74.210000</td>\n",
       "    </tr>\n",
       "    <tr>\n",
       "      <th id=\"T_9064e_level0_row130\" class=\"row_heading level0 row130\" >130</th>\n",
       "      <td id=\"T_9064e_row130_col0\" class=\"data row130 col0\" >18</td>\n",
       "      <td id=\"T_9064e_row130_col1\" class=\"data row130 col1\" >Friday is</td>\n",
       "      <td id=\"T_9064e_row130_col2\" class=\"data row130 col2\" >is</td>\n",
       "      <td id=\"T_9064e_row130_col3\" class=\"data row130 col3\" >-16.796100</td>\n",
       "      <td id=\"T_9064e_row130_col4\" class=\"data row130 col4\" >14.831500</td>\n",
       "      <td id=\"T_9064e_row130_col5\" class=\"data row130 col5\" >-56.450300</td>\n",
       "      <td id=\"T_9064e_row130_col6\" class=\"data row130 col6\" >34.510000</td>\n",
       "      <td id=\"T_9064e_row130_col7\" class=\"data row130 col7\" >25.120000</td>\n",
       "      <td id=\"T_9064e_row130_col8\" class=\"data row130 col8\" >14.580000</td>\n",
       "      <td id=\"T_9064e_row130_col9\" class=\"data row130 col9\" >74.210000</td>\n",
       "    </tr>\n",
       "    <tr>\n",
       "      <th id=\"T_9064e_level0_row131\" class=\"row_heading level0 row131\" >131</th>\n",
       "      <td id=\"T_9064e_row131_col0\" class=\"data row131 col0\" >18</td>\n",
       "      <td id=\"T_9064e_row131_col1\" class=\"data row131 col1\" >Saturday is</td>\n",
       "      <td id=\"T_9064e_row131_col2\" class=\"data row131 col2\" >is</td>\n",
       "      <td id=\"T_9064e_row131_col3\" class=\"data row131 col3\" >50.963800</td>\n",
       "      <td id=\"T_9064e_row131_col4\" class=\"data row131 col4\" >-0.070000</td>\n",
       "      <td id=\"T_9064e_row131_col5\" class=\"data row131 col5\" >7.148400</td>\n",
       "      <td id=\"T_9064e_row131_col6\" class=\"data row131 col6\" >34.510000</td>\n",
       "      <td id=\"T_9064e_row131_col7\" class=\"data row131 col7\" >25.120000</td>\n",
       "      <td id=\"T_9064e_row131_col8\" class=\"data row131 col8\" >14.580000</td>\n",
       "      <td id=\"T_9064e_row131_col9\" class=\"data row131 col9\" >74.210000</td>\n",
       "    </tr>\n",
       "    <tr>\n",
       "      <th id=\"T_9064e_level0_row132\" class=\"row_heading level0 row132\" >132</th>\n",
       "      <td id=\"T_9064e_row132_col0\" class=\"data row132 col0\" >18</td>\n",
       "      <td id=\"T_9064e_row132_col1\" class=\"data row132 col1\" >Sunday is</td>\n",
       "      <td id=\"T_9064e_row132_col2\" class=\"data row132 col2\" >is</td>\n",
       "      <td id=\"T_9064e_row132_col3\" class=\"data row132 col3\" >47.961600</td>\n",
       "      <td id=\"T_9064e_row132_col4\" class=\"data row132 col4\" >-40.086100</td>\n",
       "      <td id=\"T_9064e_row132_col5\" class=\"data row132 col5\" >-2.051400</td>\n",
       "      <td id=\"T_9064e_row132_col6\" class=\"data row132 col6\" >34.510000</td>\n",
       "      <td id=\"T_9064e_row132_col7\" class=\"data row132 col7\" >25.120000</td>\n",
       "      <td id=\"T_9064e_row132_col8\" class=\"data row132 col8\" >14.580000</td>\n",
       "      <td id=\"T_9064e_row132_col9\" class=\"data row132 col9\" >74.210000</td>\n",
       "    </tr>\n",
       "    <tr>\n",
       "      <th id=\"T_9064e_level0_row133\" class=\"row_heading level0 row133\" >133</th>\n",
       "      <td id=\"T_9064e_row133_col0\" class=\"data row133 col0\" >19</td>\n",
       "      <td id=\"T_9064e_row133_col1\" class=\"data row133 col1\" >Monday is</td>\n",
       "      <td id=\"T_9064e_row133_col2\" class=\"data row133 col2\" >is</td>\n",
       "      <td id=\"T_9064e_row133_col3\" class=\"data row133 col3\" >11.380500</td>\n",
       "      <td id=\"T_9064e_row133_col4\" class=\"data row133 col4\" >13.433500</td>\n",
       "      <td id=\"T_9064e_row133_col5\" class=\"data row133 col5\" >-4.351300</td>\n",
       "      <td id=\"T_9064e_row133_col6\" class=\"data row133 col6\" >34.680000</td>\n",
       "      <td id=\"T_9064e_row133_col7\" class=\"data row133 col7\" >24.570000</td>\n",
       "      <td id=\"T_9064e_row133_col8\" class=\"data row133 col8\" >15.720000</td>\n",
       "      <td id=\"T_9064e_row133_col9\" class=\"data row133 col9\" >74.960000</td>\n",
       "    </tr>\n",
       "    <tr>\n",
       "      <th id=\"T_9064e_level0_row134\" class=\"row_heading level0 row134\" >134</th>\n",
       "      <td id=\"T_9064e_row134_col0\" class=\"data row134 col0\" >19</td>\n",
       "      <td id=\"T_9064e_row134_col1\" class=\"data row134 col1\" >Tuesday is</td>\n",
       "      <td id=\"T_9064e_row134_col2\" class=\"data row134 col2\" >is</td>\n",
       "      <td id=\"T_9064e_row134_col3\" class=\"data row134 col3\" >-52.395000</td>\n",
       "      <td id=\"T_9064e_row134_col4\" class=\"data row134 col4\" >-55.674700</td>\n",
       "      <td id=\"T_9064e_row134_col5\" class=\"data row134 col5\" >10.275500</td>\n",
       "      <td id=\"T_9064e_row134_col6\" class=\"data row134 col6\" >34.680000</td>\n",
       "      <td id=\"T_9064e_row134_col7\" class=\"data row134 col7\" >24.570000</td>\n",
       "      <td id=\"T_9064e_row134_col8\" class=\"data row134 col8\" >15.720000</td>\n",
       "      <td id=\"T_9064e_row134_col9\" class=\"data row134 col9\" >74.960000</td>\n",
       "    </tr>\n",
       "    <tr>\n",
       "      <th id=\"T_9064e_level0_row135\" class=\"row_heading level0 row135\" >135</th>\n",
       "      <td id=\"T_9064e_row135_col0\" class=\"data row135 col0\" >19</td>\n",
       "      <td id=\"T_9064e_row135_col1\" class=\"data row135 col1\" >Wednesday is</td>\n",
       "      <td id=\"T_9064e_row135_col2\" class=\"data row135 col2\" >is</td>\n",
       "      <td id=\"T_9064e_row135_col3\" class=\"data row135 col3\" >-38.318000</td>\n",
       "      <td id=\"T_9064e_row135_col4\" class=\"data row135 col4\" >18.788700</td>\n",
       "      <td id=\"T_9064e_row135_col5\" class=\"data row135 col5\" >15.624200</td>\n",
       "      <td id=\"T_9064e_row135_col6\" class=\"data row135 col6\" >34.680000</td>\n",
       "      <td id=\"T_9064e_row135_col7\" class=\"data row135 col7\" >24.570000</td>\n",
       "      <td id=\"T_9064e_row135_col8\" class=\"data row135 col8\" >15.720000</td>\n",
       "      <td id=\"T_9064e_row135_col9\" class=\"data row135 col9\" >74.960000</td>\n",
       "    </tr>\n",
       "    <tr>\n",
       "      <th id=\"T_9064e_level0_row136\" class=\"row_heading level0 row136\" >136</th>\n",
       "      <td id=\"T_9064e_row136_col0\" class=\"data row136 col0\" >19</td>\n",
       "      <td id=\"T_9064e_row136_col1\" class=\"data row136 col1\" >Thursday is</td>\n",
       "      <td id=\"T_9064e_row136_col2\" class=\"data row136 col2\" >is</td>\n",
       "      <td id=\"T_9064e_row136_col3\" class=\"data row136 col3\" >-7.939200</td>\n",
       "      <td id=\"T_9064e_row136_col4\" class=\"data row136 col4\" >42.495000</td>\n",
       "      <td id=\"T_9064e_row136_col5\" class=\"data row136 col5\" >26.270800</td>\n",
       "      <td id=\"T_9064e_row136_col6\" class=\"data row136 col6\" >34.680000</td>\n",
       "      <td id=\"T_9064e_row136_col7\" class=\"data row136 col7\" >24.570000</td>\n",
       "      <td id=\"T_9064e_row136_col8\" class=\"data row136 col8\" >15.720000</td>\n",
       "      <td id=\"T_9064e_row136_col9\" class=\"data row136 col9\" >74.960000</td>\n",
       "    </tr>\n",
       "    <tr>\n",
       "      <th id=\"T_9064e_level0_row137\" class=\"row_heading level0 row137\" >137</th>\n",
       "      <td id=\"T_9064e_row137_col0\" class=\"data row137 col0\" >19</td>\n",
       "      <td id=\"T_9064e_row137_col1\" class=\"data row137 col1\" >Friday is</td>\n",
       "      <td id=\"T_9064e_row137_col2\" class=\"data row137 col2\" >is</td>\n",
       "      <td id=\"T_9064e_row137_col3\" class=\"data row137 col3\" >-15.613400</td>\n",
       "      <td id=\"T_9064e_row137_col4\" class=\"data row137 col4\" >15.308100</td>\n",
       "      <td id=\"T_9064e_row137_col5\" class=\"data row137 col5\" >-57.524400</td>\n",
       "      <td id=\"T_9064e_row137_col6\" class=\"data row137 col6\" >34.680000</td>\n",
       "      <td id=\"T_9064e_row137_col7\" class=\"data row137 col7\" >24.570000</td>\n",
       "      <td id=\"T_9064e_row137_col8\" class=\"data row137 col8\" >15.720000</td>\n",
       "      <td id=\"T_9064e_row137_col9\" class=\"data row137 col9\" >74.960000</td>\n",
       "    </tr>\n",
       "    <tr>\n",
       "      <th id=\"T_9064e_level0_row138\" class=\"row_heading level0 row138\" >138</th>\n",
       "      <td id=\"T_9064e_row138_col0\" class=\"data row138 col0\" >19</td>\n",
       "      <td id=\"T_9064e_row138_col1\" class=\"data row138 col1\" >Saturday is</td>\n",
       "      <td id=\"T_9064e_row138_col2\" class=\"data row138 col2\" >is</td>\n",
       "      <td id=\"T_9064e_row138_col3\" class=\"data row138 col3\" >51.276900</td>\n",
       "      <td id=\"T_9064e_row138_col4\" class=\"data row138 col4\" >2.577100</td>\n",
       "      <td id=\"T_9064e_row138_col5\" class=\"data row138 col5\" >11.633500</td>\n",
       "      <td id=\"T_9064e_row138_col6\" class=\"data row138 col6\" >34.680000</td>\n",
       "      <td id=\"T_9064e_row138_col7\" class=\"data row138 col7\" >24.570000</td>\n",
       "      <td id=\"T_9064e_row138_col8\" class=\"data row138 col8\" >15.720000</td>\n",
       "      <td id=\"T_9064e_row138_col9\" class=\"data row138 col9\" >74.960000</td>\n",
       "    </tr>\n",
       "    <tr>\n",
       "      <th id=\"T_9064e_level0_row139\" class=\"row_heading level0 row139\" >139</th>\n",
       "      <td id=\"T_9064e_row139_col0\" class=\"data row139 col0\" >19</td>\n",
       "      <td id=\"T_9064e_row139_col1\" class=\"data row139 col1\" >Sunday is</td>\n",
       "      <td id=\"T_9064e_row139_col2\" class=\"data row139 col2\" >is</td>\n",
       "      <td id=\"T_9064e_row139_col3\" class=\"data row139 col3\" >51.608200</td>\n",
       "      <td id=\"T_9064e_row139_col4\" class=\"data row139 col4\" >-36.927600</td>\n",
       "      <td id=\"T_9064e_row139_col5\" class=\"data row139 col5\" >-1.928400</td>\n",
       "      <td id=\"T_9064e_row139_col6\" class=\"data row139 col6\" >34.680000</td>\n",
       "      <td id=\"T_9064e_row139_col7\" class=\"data row139 col7\" >24.570000</td>\n",
       "      <td id=\"T_9064e_row139_col8\" class=\"data row139 col8\" >15.720000</td>\n",
       "      <td id=\"T_9064e_row139_col9\" class=\"data row139 col9\" >74.960000</td>\n",
       "    </tr>\n",
       "    <tr>\n",
       "      <th id=\"T_9064e_level0_row140\" class=\"row_heading level0 row140\" >140</th>\n",
       "      <td id=\"T_9064e_row140_col0\" class=\"data row140 col0\" >20</td>\n",
       "      <td id=\"T_9064e_row140_col1\" class=\"data row140 col1\" >Monday is</td>\n",
       "      <td id=\"T_9064e_row140_col2\" class=\"data row140 col2\" >is</td>\n",
       "      <td id=\"T_9064e_row140_col3\" class=\"data row140 col3\" >11.206300</td>\n",
       "      <td id=\"T_9064e_row140_col4\" class=\"data row140 col4\" >12.716900</td>\n",
       "      <td id=\"T_9064e_row140_col5\" class=\"data row140 col5\" >-2.416500</td>\n",
       "      <td id=\"T_9064e_row140_col6\" class=\"data row140 col6\" >34.910000</td>\n",
       "      <td id=\"T_9064e_row140_col7\" class=\"data row140 col7\" >22.850000</td>\n",
       "      <td id=\"T_9064e_row140_col8\" class=\"data row140 col8\" >15.900000</td>\n",
       "      <td id=\"T_9064e_row140_col9\" class=\"data row140 col9\" >73.660000</td>\n",
       "    </tr>\n",
       "    <tr>\n",
       "      <th id=\"T_9064e_level0_row141\" class=\"row_heading level0 row141\" >141</th>\n",
       "      <td id=\"T_9064e_row141_col0\" class=\"data row141 col0\" >20</td>\n",
       "      <td id=\"T_9064e_row141_col1\" class=\"data row141 col1\" >Tuesday is</td>\n",
       "      <td id=\"T_9064e_row141_col2\" class=\"data row141 col2\" >is</td>\n",
       "      <td id=\"T_9064e_row141_col3\" class=\"data row141 col3\" >-55.266700</td>\n",
       "      <td id=\"T_9064e_row141_col4\" class=\"data row141 col4\" >-52.971900</td>\n",
       "      <td id=\"T_9064e_row141_col5\" class=\"data row141 col5\" >4.681800</td>\n",
       "      <td id=\"T_9064e_row141_col6\" class=\"data row141 col6\" >34.910000</td>\n",
       "      <td id=\"T_9064e_row141_col7\" class=\"data row141 col7\" >22.850000</td>\n",
       "      <td id=\"T_9064e_row141_col8\" class=\"data row141 col8\" >15.900000</td>\n",
       "      <td id=\"T_9064e_row141_col9\" class=\"data row141 col9\" >73.660000</td>\n",
       "    </tr>\n",
       "    <tr>\n",
       "      <th id=\"T_9064e_level0_row142\" class=\"row_heading level0 row142\" >142</th>\n",
       "      <td id=\"T_9064e_row142_col0\" class=\"data row142 col0\" >20</td>\n",
       "      <td id=\"T_9064e_row142_col1\" class=\"data row142 col1\" >Wednesday is</td>\n",
       "      <td id=\"T_9064e_row142_col2\" class=\"data row142 col2\" >is</td>\n",
       "      <td id=\"T_9064e_row142_col3\" class=\"data row142 col3\" >-37.892400</td>\n",
       "      <td id=\"T_9064e_row142_col4\" class=\"data row142 col4\" >16.296900</td>\n",
       "      <td id=\"T_9064e_row142_col5\" class=\"data row142 col5\" >16.244700</td>\n",
       "      <td id=\"T_9064e_row142_col6\" class=\"data row142 col6\" >34.910000</td>\n",
       "      <td id=\"T_9064e_row142_col7\" class=\"data row142 col7\" >22.850000</td>\n",
       "      <td id=\"T_9064e_row142_col8\" class=\"data row142 col8\" >15.900000</td>\n",
       "      <td id=\"T_9064e_row142_col9\" class=\"data row142 col9\" >73.660000</td>\n",
       "    </tr>\n",
       "    <tr>\n",
       "      <th id=\"T_9064e_level0_row143\" class=\"row_heading level0 row143\" >143</th>\n",
       "      <td id=\"T_9064e_row143_col0\" class=\"data row143 col0\" >20</td>\n",
       "      <td id=\"T_9064e_row143_col1\" class=\"data row143 col1\" >Thursday is</td>\n",
       "      <td id=\"T_9064e_row143_col2\" class=\"data row143 col2\" >is</td>\n",
       "      <td id=\"T_9064e_row143_col3\" class=\"data row143 col3\" >-8.389700</td>\n",
       "      <td id=\"T_9064e_row143_col4\" class=\"data row143 col4\" >38.909000</td>\n",
       "      <td id=\"T_9064e_row143_col5\" class=\"data row143 col5\" >28.853700</td>\n",
       "      <td id=\"T_9064e_row143_col6\" class=\"data row143 col6\" >34.910000</td>\n",
       "      <td id=\"T_9064e_row143_col7\" class=\"data row143 col7\" >22.850000</td>\n",
       "      <td id=\"T_9064e_row143_col8\" class=\"data row143 col8\" >15.900000</td>\n",
       "      <td id=\"T_9064e_row143_col9\" class=\"data row143 col9\" >73.660000</td>\n",
       "    </tr>\n",
       "    <tr>\n",
       "      <th id=\"T_9064e_level0_row144\" class=\"row_heading level0 row144\" >144</th>\n",
       "      <td id=\"T_9064e_row144_col0\" class=\"data row144 col0\" >20</td>\n",
       "      <td id=\"T_9064e_row144_col1\" class=\"data row144 col1\" >Friday is</td>\n",
       "      <td id=\"T_9064e_row144_col2\" class=\"data row144 col2\" >is</td>\n",
       "      <td id=\"T_9064e_row144_col3\" class=\"data row144 col3\" >-11.525700</td>\n",
       "      <td id=\"T_9064e_row144_col4\" class=\"data row144 col4\" >21.512200</td>\n",
       "      <td id=\"T_9064e_row144_col5\" class=\"data row144 col5\" >-57.077500</td>\n",
       "      <td id=\"T_9064e_row144_col6\" class=\"data row144 col6\" >34.910000</td>\n",
       "      <td id=\"T_9064e_row144_col7\" class=\"data row144 col7\" >22.850000</td>\n",
       "      <td id=\"T_9064e_row144_col8\" class=\"data row144 col8\" >15.900000</td>\n",
       "      <td id=\"T_9064e_row144_col9\" class=\"data row144 col9\" >73.660000</td>\n",
       "    </tr>\n",
       "    <tr>\n",
       "      <th id=\"T_9064e_level0_row145\" class=\"row_heading level0 row145\" >145</th>\n",
       "      <td id=\"T_9064e_row145_col0\" class=\"data row145 col0\" >20</td>\n",
       "      <td id=\"T_9064e_row145_col1\" class=\"data row145 col1\" >Saturday is</td>\n",
       "      <td id=\"T_9064e_row145_col2\" class=\"data row145 col2\" >is</td>\n",
       "      <td id=\"T_9064e_row145_col3\" class=\"data row145 col3\" >50.364500</td>\n",
       "      <td id=\"T_9064e_row145_col4\" class=\"data row145 col4\" >0.182200</td>\n",
       "      <td id=\"T_9064e_row145_col5\" class=\"data row145 col5\" >12.902100</td>\n",
       "      <td id=\"T_9064e_row145_col6\" class=\"data row145 col6\" >34.910000</td>\n",
       "      <td id=\"T_9064e_row145_col7\" class=\"data row145 col7\" >22.850000</td>\n",
       "      <td id=\"T_9064e_row145_col8\" class=\"data row145 col8\" >15.900000</td>\n",
       "      <td id=\"T_9064e_row145_col9\" class=\"data row145 col9\" >73.660000</td>\n",
       "    </tr>\n",
       "    <tr>\n",
       "      <th id=\"T_9064e_level0_row146\" class=\"row_heading level0 row146\" >146</th>\n",
       "      <td id=\"T_9064e_row146_col0\" class=\"data row146 col0\" >20</td>\n",
       "      <td id=\"T_9064e_row146_col1\" class=\"data row146 col1\" >Sunday is</td>\n",
       "      <td id=\"T_9064e_row146_col2\" class=\"data row146 col2\" >is</td>\n",
       "      <td id=\"T_9064e_row146_col3\" class=\"data row146 col3\" >51.503800</td>\n",
       "      <td id=\"T_9064e_row146_col4\" class=\"data row146 col4\" >-36.645200</td>\n",
       "      <td id=\"T_9064e_row146_col5\" class=\"data row146 col5\" >-3.188300</td>\n",
       "      <td id=\"T_9064e_row146_col6\" class=\"data row146 col6\" >34.910000</td>\n",
       "      <td id=\"T_9064e_row146_col7\" class=\"data row146 col7\" >22.850000</td>\n",
       "      <td id=\"T_9064e_row146_col8\" class=\"data row146 col8\" >15.900000</td>\n",
       "      <td id=\"T_9064e_row146_col9\" class=\"data row146 col9\" >73.660000</td>\n",
       "    </tr>\n",
       "    <tr>\n",
       "      <th id=\"T_9064e_level0_row147\" class=\"row_heading level0 row147\" >147</th>\n",
       "      <td id=\"T_9064e_row147_col0\" class=\"data row147 col0\" >21</td>\n",
       "      <td id=\"T_9064e_row147_col1\" class=\"data row147 col1\" >Monday is</td>\n",
       "      <td id=\"T_9064e_row147_col2\" class=\"data row147 col2\" >is</td>\n",
       "      <td id=\"T_9064e_row147_col3\" class=\"data row147 col3\" >10.531100</td>\n",
       "      <td id=\"T_9064e_row147_col4\" class=\"data row147 col4\" >14.652500</td>\n",
       "      <td id=\"T_9064e_row147_col5\" class=\"data row147 col5\" >1.073400</td>\n",
       "      <td id=\"T_9064e_row147_col6\" class=\"data row147 col6\" >35.190000</td>\n",
       "      <td id=\"T_9064e_row147_col7\" class=\"data row147 col7\" >22.340000</td>\n",
       "      <td id=\"T_9064e_row147_col8\" class=\"data row147 col8\" >15.750000</td>\n",
       "      <td id=\"T_9064e_row147_col9\" class=\"data row147 col9\" >73.290000</td>\n",
       "    </tr>\n",
       "    <tr>\n",
       "      <th id=\"T_9064e_level0_row148\" class=\"row_heading level0 row148\" >148</th>\n",
       "      <td id=\"T_9064e_row148_col0\" class=\"data row148 col0\" >21</td>\n",
       "      <td id=\"T_9064e_row148_col1\" class=\"data row148 col1\" >Tuesday is</td>\n",
       "      <td id=\"T_9064e_row148_col2\" class=\"data row148 col2\" >is</td>\n",
       "      <td id=\"T_9064e_row148_col3\" class=\"data row148 col3\" >-57.282900</td>\n",
       "      <td id=\"T_9064e_row148_col4\" class=\"data row148 col4\" >-51.393700</td>\n",
       "      <td id=\"T_9064e_row148_col5\" class=\"data row148 col5\" >5.579000</td>\n",
       "      <td id=\"T_9064e_row148_col6\" class=\"data row148 col6\" >35.190000</td>\n",
       "      <td id=\"T_9064e_row148_col7\" class=\"data row148 col7\" >22.340000</td>\n",
       "      <td id=\"T_9064e_row148_col8\" class=\"data row148 col8\" >15.750000</td>\n",
       "      <td id=\"T_9064e_row148_col9\" class=\"data row148 col9\" >73.290000</td>\n",
       "    </tr>\n",
       "    <tr>\n",
       "      <th id=\"T_9064e_level0_row149\" class=\"row_heading level0 row149\" >149</th>\n",
       "      <td id=\"T_9064e_row149_col0\" class=\"data row149 col0\" >21</td>\n",
       "      <td id=\"T_9064e_row149_col1\" class=\"data row149 col1\" >Wednesday is</td>\n",
       "      <td id=\"T_9064e_row149_col2\" class=\"data row149 col2\" >is</td>\n",
       "      <td id=\"T_9064e_row149_col3\" class=\"data row149 col3\" >-37.048700</td>\n",
       "      <td id=\"T_9064e_row149_col4\" class=\"data row149 col4\" >16.217600</td>\n",
       "      <td id=\"T_9064e_row149_col5\" class=\"data row149 col5\" >12.503100</td>\n",
       "      <td id=\"T_9064e_row149_col6\" class=\"data row149 col6\" >35.190000</td>\n",
       "      <td id=\"T_9064e_row149_col7\" class=\"data row149 col7\" >22.340000</td>\n",
       "      <td id=\"T_9064e_row149_col8\" class=\"data row149 col8\" >15.750000</td>\n",
       "      <td id=\"T_9064e_row149_col9\" class=\"data row149 col9\" >73.290000</td>\n",
       "    </tr>\n",
       "    <tr>\n",
       "      <th id=\"T_9064e_level0_row150\" class=\"row_heading level0 row150\" >150</th>\n",
       "      <td id=\"T_9064e_row150_col0\" class=\"data row150 col0\" >21</td>\n",
       "      <td id=\"T_9064e_row150_col1\" class=\"data row150 col1\" >Thursday is</td>\n",
       "      <td id=\"T_9064e_row150_col2\" class=\"data row150 col2\" >is</td>\n",
       "      <td id=\"T_9064e_row150_col3\" class=\"data row150 col3\" >-8.818600</td>\n",
       "      <td id=\"T_9064e_row150_col4\" class=\"data row150 col4\" >38.855900</td>\n",
       "      <td id=\"T_9064e_row150_col5\" class=\"data row150 col5\" >28.342100</td>\n",
       "      <td id=\"T_9064e_row150_col6\" class=\"data row150 col6\" >35.190000</td>\n",
       "      <td id=\"T_9064e_row150_col7\" class=\"data row150 col7\" >22.340000</td>\n",
       "      <td id=\"T_9064e_row150_col8\" class=\"data row150 col8\" >15.750000</td>\n",
       "      <td id=\"T_9064e_row150_col9\" class=\"data row150 col9\" >73.290000</td>\n",
       "    </tr>\n",
       "    <tr>\n",
       "      <th id=\"T_9064e_level0_row151\" class=\"row_heading level0 row151\" >151</th>\n",
       "      <td id=\"T_9064e_row151_col0\" class=\"data row151 col0\" >21</td>\n",
       "      <td id=\"T_9064e_row151_col1\" class=\"data row151 col1\" >Friday is</td>\n",
       "      <td id=\"T_9064e_row151_col2\" class=\"data row151 col2\" >is</td>\n",
       "      <td id=\"T_9064e_row151_col3\" class=\"data row151 col3\" >-9.032800</td>\n",
       "      <td id=\"T_9064e_row151_col4\" class=\"data row151 col4\" >20.395300</td>\n",
       "      <td id=\"T_9064e_row151_col5\" class=\"data row151 col5\" >-57.414100</td>\n",
       "      <td id=\"T_9064e_row151_col6\" class=\"data row151 col6\" >35.190000</td>\n",
       "      <td id=\"T_9064e_row151_col7\" class=\"data row151 col7\" >22.340000</td>\n",
       "      <td id=\"T_9064e_row151_col8\" class=\"data row151 col8\" >15.750000</td>\n",
       "      <td id=\"T_9064e_row151_col9\" class=\"data row151 col9\" >73.290000</td>\n",
       "    </tr>\n",
       "    <tr>\n",
       "      <th id=\"T_9064e_level0_row152\" class=\"row_heading level0 row152\" >152</th>\n",
       "      <td id=\"T_9064e_row152_col0\" class=\"data row152 col0\" >21</td>\n",
       "      <td id=\"T_9064e_row152_col1\" class=\"data row152 col1\" >Saturday is</td>\n",
       "      <td id=\"T_9064e_row152_col2\" class=\"data row152 col2\" >is</td>\n",
       "      <td id=\"T_9064e_row152_col3\" class=\"data row152 col3\" >50.763000</td>\n",
       "      <td id=\"T_9064e_row152_col4\" class=\"data row152 col4\" >-1.873700</td>\n",
       "      <td id=\"T_9064e_row152_col5\" class=\"data row152 col5\" >14.391200</td>\n",
       "      <td id=\"T_9064e_row152_col6\" class=\"data row152 col6\" >35.190000</td>\n",
       "      <td id=\"T_9064e_row152_col7\" class=\"data row152 col7\" >22.340000</td>\n",
       "      <td id=\"T_9064e_row152_col8\" class=\"data row152 col8\" >15.750000</td>\n",
       "      <td id=\"T_9064e_row152_col9\" class=\"data row152 col9\" >73.290000</td>\n",
       "    </tr>\n",
       "    <tr>\n",
       "      <th id=\"T_9064e_level0_row153\" class=\"row_heading level0 row153\" >153</th>\n",
       "      <td id=\"T_9064e_row153_col0\" class=\"data row153 col0\" >21</td>\n",
       "      <td id=\"T_9064e_row153_col1\" class=\"data row153 col1\" >Sunday is</td>\n",
       "      <td id=\"T_9064e_row153_col2\" class=\"data row153 col2\" >is</td>\n",
       "      <td id=\"T_9064e_row153_col3\" class=\"data row153 col3\" >50.889000</td>\n",
       "      <td id=\"T_9064e_row153_col4\" class=\"data row153 col4\" >-36.853800</td>\n",
       "      <td id=\"T_9064e_row153_col5\" class=\"data row153 col5\" >-4.474700</td>\n",
       "      <td id=\"T_9064e_row153_col6\" class=\"data row153 col6\" >35.190000</td>\n",
       "      <td id=\"T_9064e_row153_col7\" class=\"data row153 col7\" >22.340000</td>\n",
       "      <td id=\"T_9064e_row153_col8\" class=\"data row153 col8\" >15.750000</td>\n",
       "      <td id=\"T_9064e_row153_col9\" class=\"data row153 col9\" >73.290000</td>\n",
       "    </tr>\n",
       "    <tr>\n",
       "      <th id=\"T_9064e_level0_row154\" class=\"row_heading level0 row154\" >154</th>\n",
       "      <td id=\"T_9064e_row154_col0\" class=\"data row154 col0\" >22</td>\n",
       "      <td id=\"T_9064e_row154_col1\" class=\"data row154 col1\" >Monday is</td>\n",
       "      <td id=\"T_9064e_row154_col2\" class=\"data row154 col2\" >is</td>\n",
       "      <td id=\"T_9064e_row154_col3\" class=\"data row154 col3\" >11.308300</td>\n",
       "      <td id=\"T_9064e_row154_col4\" class=\"data row154 col4\" >14.370600</td>\n",
       "      <td id=\"T_9064e_row154_col5\" class=\"data row154 col5\" >-4.023300</td>\n",
       "      <td id=\"T_9064e_row154_col6\" class=\"data row154 col6\" >35.240000</td>\n",
       "      <td id=\"T_9064e_row154_col7\" class=\"data row154 col7\" >22.390000</td>\n",
       "      <td id=\"T_9064e_row154_col8\" class=\"data row154 col8\" >15.880000</td>\n",
       "      <td id=\"T_9064e_row154_col9\" class=\"data row154 col9\" >73.510000</td>\n",
       "    </tr>\n",
       "    <tr>\n",
       "      <th id=\"T_9064e_level0_row155\" class=\"row_heading level0 row155\" >155</th>\n",
       "      <td id=\"T_9064e_row155_col0\" class=\"data row155 col0\" >22</td>\n",
       "      <td id=\"T_9064e_row155_col1\" class=\"data row155 col1\" >Tuesday is</td>\n",
       "      <td id=\"T_9064e_row155_col2\" class=\"data row155 col2\" >is</td>\n",
       "      <td id=\"T_9064e_row155_col3\" class=\"data row155 col3\" >-58.600000</td>\n",
       "      <td id=\"T_9064e_row155_col4\" class=\"data row155 col4\" >-50.628700</td>\n",
       "      <td id=\"T_9064e_row155_col5\" class=\"data row155 col5\" >5.635200</td>\n",
       "      <td id=\"T_9064e_row155_col6\" class=\"data row155 col6\" >35.240000</td>\n",
       "      <td id=\"T_9064e_row155_col7\" class=\"data row155 col7\" >22.390000</td>\n",
       "      <td id=\"T_9064e_row155_col8\" class=\"data row155 col8\" >15.880000</td>\n",
       "      <td id=\"T_9064e_row155_col9\" class=\"data row155 col9\" >73.510000</td>\n",
       "    </tr>\n",
       "    <tr>\n",
       "      <th id=\"T_9064e_level0_row156\" class=\"row_heading level0 row156\" >156</th>\n",
       "      <td id=\"T_9064e_row156_col0\" class=\"data row156 col0\" >22</td>\n",
       "      <td id=\"T_9064e_row156_col1\" class=\"data row156 col1\" >Wednesday is</td>\n",
       "      <td id=\"T_9064e_row156_col2\" class=\"data row156 col2\" >is</td>\n",
       "      <td id=\"T_9064e_row156_col3\" class=\"data row156 col3\" >-36.683800</td>\n",
       "      <td id=\"T_9064e_row156_col4\" class=\"data row156 col4\" >17.055300</td>\n",
       "      <td id=\"T_9064e_row156_col5\" class=\"data row156 col5\" >14.117700</td>\n",
       "      <td id=\"T_9064e_row156_col6\" class=\"data row156 col6\" >35.240000</td>\n",
       "      <td id=\"T_9064e_row156_col7\" class=\"data row156 col7\" >22.390000</td>\n",
       "      <td id=\"T_9064e_row156_col8\" class=\"data row156 col8\" >15.880000</td>\n",
       "      <td id=\"T_9064e_row156_col9\" class=\"data row156 col9\" >73.510000</td>\n",
       "    </tr>\n",
       "    <tr>\n",
       "      <th id=\"T_9064e_level0_row157\" class=\"row_heading level0 row157\" >157</th>\n",
       "      <td id=\"T_9064e_row157_col0\" class=\"data row157 col0\" >22</td>\n",
       "      <td id=\"T_9064e_row157_col1\" class=\"data row157 col1\" >Thursday is</td>\n",
       "      <td id=\"T_9064e_row157_col2\" class=\"data row157 col2\" >is</td>\n",
       "      <td id=\"T_9064e_row157_col3\" class=\"data row157 col3\" >-7.913000</td>\n",
       "      <td id=\"T_9064e_row157_col4\" class=\"data row157 col4\" >38.937200</td>\n",
       "      <td id=\"T_9064e_row157_col5\" class=\"data row157 col5\" >28.141000</td>\n",
       "      <td id=\"T_9064e_row157_col6\" class=\"data row157 col6\" >35.240000</td>\n",
       "      <td id=\"T_9064e_row157_col7\" class=\"data row157 col7\" >22.390000</td>\n",
       "      <td id=\"T_9064e_row157_col8\" class=\"data row157 col8\" >15.880000</td>\n",
       "      <td id=\"T_9064e_row157_col9\" class=\"data row157 col9\" >73.510000</td>\n",
       "    </tr>\n",
       "    <tr>\n",
       "      <th id=\"T_9064e_level0_row158\" class=\"row_heading level0 row158\" >158</th>\n",
       "      <td id=\"T_9064e_row158_col0\" class=\"data row158 col0\" >22</td>\n",
       "      <td id=\"T_9064e_row158_col1\" class=\"data row158 col1\" >Friday is</td>\n",
       "      <td id=\"T_9064e_row158_col2\" class=\"data row158 col2\" >is</td>\n",
       "      <td id=\"T_9064e_row158_col3\" class=\"data row158 col3\" >-8.697700</td>\n",
       "      <td id=\"T_9064e_row158_col4\" class=\"data row158 col4\" >20.126600</td>\n",
       "      <td id=\"T_9064e_row158_col5\" class=\"data row158 col5\" >-56.489700</td>\n",
       "      <td id=\"T_9064e_row158_col6\" class=\"data row158 col6\" >35.240000</td>\n",
       "      <td id=\"T_9064e_row158_col7\" class=\"data row158 col7\" >22.390000</td>\n",
       "      <td id=\"T_9064e_row158_col8\" class=\"data row158 col8\" >15.880000</td>\n",
       "      <td id=\"T_9064e_row158_col9\" class=\"data row158 col9\" >73.510000</td>\n",
       "    </tr>\n",
       "    <tr>\n",
       "      <th id=\"T_9064e_level0_row159\" class=\"row_heading level0 row159\" >159</th>\n",
       "      <td id=\"T_9064e_row159_col0\" class=\"data row159 col0\" >22</td>\n",
       "      <td id=\"T_9064e_row159_col1\" class=\"data row159 col1\" >Saturday is</td>\n",
       "      <td id=\"T_9064e_row159_col2\" class=\"data row159 col2\" >is</td>\n",
       "      <td id=\"T_9064e_row159_col3\" class=\"data row159 col3\" >49.853000</td>\n",
       "      <td id=\"T_9064e_row159_col4\" class=\"data row159 col4\" >-1.997800</td>\n",
       "      <td id=\"T_9064e_row159_col5\" class=\"data row159 col5\" >17.324400</td>\n",
       "      <td id=\"T_9064e_row159_col6\" class=\"data row159 col6\" >35.240000</td>\n",
       "      <td id=\"T_9064e_row159_col7\" class=\"data row159 col7\" >22.390000</td>\n",
       "      <td id=\"T_9064e_row159_col8\" class=\"data row159 col8\" >15.880000</td>\n",
       "      <td id=\"T_9064e_row159_col9\" class=\"data row159 col9\" >73.510000</td>\n",
       "    </tr>\n",
       "    <tr>\n",
       "      <th id=\"T_9064e_level0_row160\" class=\"row_heading level0 row160\" >160</th>\n",
       "      <td id=\"T_9064e_row160_col0\" class=\"data row160 col0\" >22</td>\n",
       "      <td id=\"T_9064e_row160_col1\" class=\"data row160 col1\" >Sunday is</td>\n",
       "      <td id=\"T_9064e_row160_col2\" class=\"data row160 col2\" >is</td>\n",
       "      <td id=\"T_9064e_row160_col3\" class=\"data row160 col3\" >50.733300</td>\n",
       "      <td id=\"T_9064e_row160_col4\" class=\"data row160 col4\" >-37.863300</td>\n",
       "      <td id=\"T_9064e_row160_col5\" class=\"data row160 col5\" >-4.705300</td>\n",
       "      <td id=\"T_9064e_row160_col6\" class=\"data row160 col6\" >35.240000</td>\n",
       "      <td id=\"T_9064e_row160_col7\" class=\"data row160 col7\" >22.390000</td>\n",
       "      <td id=\"T_9064e_row160_col8\" class=\"data row160 col8\" >15.880000</td>\n",
       "      <td id=\"T_9064e_row160_col9\" class=\"data row160 col9\" >73.510000</td>\n",
       "    </tr>\n",
       "    <tr>\n",
       "      <th id=\"T_9064e_level0_row161\" class=\"row_heading level0 row161\" >161</th>\n",
       "      <td id=\"T_9064e_row161_col0\" class=\"data row161 col0\" >23</td>\n",
       "      <td id=\"T_9064e_row161_col1\" class=\"data row161 col1\" >Monday is</td>\n",
       "      <td id=\"T_9064e_row161_col2\" class=\"data row161 col2\" >is</td>\n",
       "      <td id=\"T_9064e_row161_col3\" class=\"data row161 col3\" >10.404600</td>\n",
       "      <td id=\"T_9064e_row161_col4\" class=\"data row161 col4\" >13.252800</td>\n",
       "      <td id=\"T_9064e_row161_col5\" class=\"data row161 col5\" >-3.699000</td>\n",
       "      <td id=\"T_9064e_row161_col6\" class=\"data row161 col6\" >34.660000</td>\n",
       "      <td id=\"T_9064e_row161_col7\" class=\"data row161 col7\" >22.690000</td>\n",
       "      <td id=\"T_9064e_row161_col8\" class=\"data row161 col8\" >15.960000</td>\n",
       "      <td id=\"T_9064e_row161_col9\" class=\"data row161 col9\" >73.310000</td>\n",
       "    </tr>\n",
       "    <tr>\n",
       "      <th id=\"T_9064e_level0_row162\" class=\"row_heading level0 row162\" >162</th>\n",
       "      <td id=\"T_9064e_row162_col0\" class=\"data row162 col0\" >23</td>\n",
       "      <td id=\"T_9064e_row162_col1\" class=\"data row162 col1\" >Tuesday is</td>\n",
       "      <td id=\"T_9064e_row162_col2\" class=\"data row162 col2\" >is</td>\n",
       "      <td id=\"T_9064e_row162_col3\" class=\"data row162 col3\" >-56.235300</td>\n",
       "      <td id=\"T_9064e_row162_col4\" class=\"data row162 col4\" >-52.332600</td>\n",
       "      <td id=\"T_9064e_row162_col5\" class=\"data row162 col5\" >6.540700</td>\n",
       "      <td id=\"T_9064e_row162_col6\" class=\"data row162 col6\" >34.660000</td>\n",
       "      <td id=\"T_9064e_row162_col7\" class=\"data row162 col7\" >22.690000</td>\n",
       "      <td id=\"T_9064e_row162_col8\" class=\"data row162 col8\" >15.960000</td>\n",
       "      <td id=\"T_9064e_row162_col9\" class=\"data row162 col9\" >73.310000</td>\n",
       "    </tr>\n",
       "    <tr>\n",
       "      <th id=\"T_9064e_level0_row163\" class=\"row_heading level0 row163\" >163</th>\n",
       "      <td id=\"T_9064e_row163_col0\" class=\"data row163 col0\" >23</td>\n",
       "      <td id=\"T_9064e_row163_col1\" class=\"data row163 col1\" >Wednesday is</td>\n",
       "      <td id=\"T_9064e_row163_col2\" class=\"data row163 col2\" >is</td>\n",
       "      <td id=\"T_9064e_row163_col3\" class=\"data row163 col3\" >-36.976400</td>\n",
       "      <td id=\"T_9064e_row163_col4\" class=\"data row163 col4\" >17.354600</td>\n",
       "      <td id=\"T_9064e_row163_col5\" class=\"data row163 col5\" >12.664700</td>\n",
       "      <td id=\"T_9064e_row163_col6\" class=\"data row163 col6\" >34.660000</td>\n",
       "      <td id=\"T_9064e_row163_col7\" class=\"data row163 col7\" >22.690000</td>\n",
       "      <td id=\"T_9064e_row163_col8\" class=\"data row163 col8\" >15.960000</td>\n",
       "      <td id=\"T_9064e_row163_col9\" class=\"data row163 col9\" >73.310000</td>\n",
       "    </tr>\n",
       "    <tr>\n",
       "      <th id=\"T_9064e_level0_row164\" class=\"row_heading level0 row164\" >164</th>\n",
       "      <td id=\"T_9064e_row164_col0\" class=\"data row164 col0\" >23</td>\n",
       "      <td id=\"T_9064e_row164_col1\" class=\"data row164 col1\" >Thursday is</td>\n",
       "      <td id=\"T_9064e_row164_col2\" class=\"data row164 col2\" >is</td>\n",
       "      <td id=\"T_9064e_row164_col3\" class=\"data row164 col3\" >-8.705500</td>\n",
       "      <td id=\"T_9064e_row164_col4\" class=\"data row164 col4\" >37.607900</td>\n",
       "      <td id=\"T_9064e_row164_col5\" class=\"data row164 col5\" >28.670000</td>\n",
       "      <td id=\"T_9064e_row164_col6\" class=\"data row164 col6\" >34.660000</td>\n",
       "      <td id=\"T_9064e_row164_col7\" class=\"data row164 col7\" >22.690000</td>\n",
       "      <td id=\"T_9064e_row164_col8\" class=\"data row164 col8\" >15.960000</td>\n",
       "      <td id=\"T_9064e_row164_col9\" class=\"data row164 col9\" >73.310000</td>\n",
       "    </tr>\n",
       "    <tr>\n",
       "      <th id=\"T_9064e_level0_row165\" class=\"row_heading level0 row165\" >165</th>\n",
       "      <td id=\"T_9064e_row165_col0\" class=\"data row165 col0\" >23</td>\n",
       "      <td id=\"T_9064e_row165_col1\" class=\"data row165 col1\" >Friday is</td>\n",
       "      <td id=\"T_9064e_row165_col2\" class=\"data row165 col2\" >is</td>\n",
       "      <td id=\"T_9064e_row165_col3\" class=\"data row165 col3\" >-9.735300</td>\n",
       "      <td id=\"T_9064e_row165_col4\" class=\"data row165 col4\" >20.821900</td>\n",
       "      <td id=\"T_9064e_row165_col5\" class=\"data row165 col5\" >-56.207000</td>\n",
       "      <td id=\"T_9064e_row165_col6\" class=\"data row165 col6\" >34.660000</td>\n",
       "      <td id=\"T_9064e_row165_col7\" class=\"data row165 col7\" >22.690000</td>\n",
       "      <td id=\"T_9064e_row165_col8\" class=\"data row165 col8\" >15.960000</td>\n",
       "      <td id=\"T_9064e_row165_col9\" class=\"data row165 col9\" >73.310000</td>\n",
       "    </tr>\n",
       "    <tr>\n",
       "      <th id=\"T_9064e_level0_row166\" class=\"row_heading level0 row166\" >166</th>\n",
       "      <td id=\"T_9064e_row166_col0\" class=\"data row166 col0\" >23</td>\n",
       "      <td id=\"T_9064e_row166_col1\" class=\"data row166 col1\" >Saturday is</td>\n",
       "      <td id=\"T_9064e_row166_col2\" class=\"data row166 col2\" >is</td>\n",
       "      <td id=\"T_9064e_row166_col3\" class=\"data row166 col3\" >49.326800</td>\n",
       "      <td id=\"T_9064e_row166_col4\" class=\"data row166 col4\" >1.259400</td>\n",
       "      <td id=\"T_9064e_row166_col5\" class=\"data row166 col5\" >18.365800</td>\n",
       "      <td id=\"T_9064e_row166_col6\" class=\"data row166 col6\" >34.660000</td>\n",
       "      <td id=\"T_9064e_row166_col7\" class=\"data row166 col7\" >22.690000</td>\n",
       "      <td id=\"T_9064e_row166_col8\" class=\"data row166 col8\" >15.960000</td>\n",
       "      <td id=\"T_9064e_row166_col9\" class=\"data row166 col9\" >73.310000</td>\n",
       "    </tr>\n",
       "    <tr>\n",
       "      <th id=\"T_9064e_level0_row167\" class=\"row_heading level0 row167\" >167</th>\n",
       "      <td id=\"T_9064e_row167_col0\" class=\"data row167 col0\" >23</td>\n",
       "      <td id=\"T_9064e_row167_col1\" class=\"data row167 col1\" >Sunday is</td>\n",
       "      <td id=\"T_9064e_row167_col2\" class=\"data row167 col2\" >is</td>\n",
       "      <td id=\"T_9064e_row167_col3\" class=\"data row167 col3\" >51.921000</td>\n",
       "      <td id=\"T_9064e_row167_col4\" class=\"data row167 col4\" >-37.964100</td>\n",
       "      <td id=\"T_9064e_row167_col5\" class=\"data row167 col5\" >-6.335200</td>\n",
       "      <td id=\"T_9064e_row167_col6\" class=\"data row167 col6\" >34.660000</td>\n",
       "      <td id=\"T_9064e_row167_col7\" class=\"data row167 col7\" >22.690000</td>\n",
       "      <td id=\"T_9064e_row167_col8\" class=\"data row167 col8\" >15.960000</td>\n",
       "      <td id=\"T_9064e_row167_col9\" class=\"data row167 col9\" >73.310000</td>\n",
       "    </tr>\n",
       "    <tr>\n",
       "      <th id=\"T_9064e_level0_row168\" class=\"row_heading level0 row168\" >168</th>\n",
       "      <td id=\"T_9064e_row168_col0\" class=\"data row168 col0\" >24</td>\n",
       "      <td id=\"T_9064e_row168_col1\" class=\"data row168 col1\" >Monday is</td>\n",
       "      <td id=\"T_9064e_row168_col2\" class=\"data row168 col2\" >is</td>\n",
       "      <td id=\"T_9064e_row168_col3\" class=\"data row168 col3\" >9.001100</td>\n",
       "      <td id=\"T_9064e_row168_col4\" class=\"data row168 col4\" >13.096200</td>\n",
       "      <td id=\"T_9064e_row168_col5\" class=\"data row168 col5\" >4.739400</td>\n",
       "      <td id=\"T_9064e_row168_col6\" class=\"data row168 col6\" >34.560000</td>\n",
       "      <td id=\"T_9064e_row168_col7\" class=\"data row168 col7\" >22.640000</td>\n",
       "      <td id=\"T_9064e_row168_col8\" class=\"data row168 col8\" >16.090000</td>\n",
       "      <td id=\"T_9064e_row168_col9\" class=\"data row168 col9\" >73.290000</td>\n",
       "    </tr>\n",
       "    <tr>\n",
       "      <th id=\"T_9064e_level0_row169\" class=\"row_heading level0 row169\" >169</th>\n",
       "      <td id=\"T_9064e_row169_col0\" class=\"data row169 col0\" >24</td>\n",
       "      <td id=\"T_9064e_row169_col1\" class=\"data row169 col1\" >Tuesday is</td>\n",
       "      <td id=\"T_9064e_row169_col2\" class=\"data row169 col2\" >is</td>\n",
       "      <td id=\"T_9064e_row169_col3\" class=\"data row169 col3\" >-54.809700</td>\n",
       "      <td id=\"T_9064e_row169_col4\" class=\"data row169 col4\" >-54.016800</td>\n",
       "      <td id=\"T_9064e_row169_col5\" class=\"data row169 col5\" >3.862200</td>\n",
       "      <td id=\"T_9064e_row169_col6\" class=\"data row169 col6\" >34.560000</td>\n",
       "      <td id=\"T_9064e_row169_col7\" class=\"data row169 col7\" >22.640000</td>\n",
       "      <td id=\"T_9064e_row169_col8\" class=\"data row169 col8\" >16.090000</td>\n",
       "      <td id=\"T_9064e_row169_col9\" class=\"data row169 col9\" >73.290000</td>\n",
       "    </tr>\n",
       "    <tr>\n",
       "      <th id=\"T_9064e_level0_row170\" class=\"row_heading level0 row170\" >170</th>\n",
       "      <td id=\"T_9064e_row170_col0\" class=\"data row170 col0\" >24</td>\n",
       "      <td id=\"T_9064e_row170_col1\" class=\"data row170 col1\" >Wednesday is</td>\n",
       "      <td id=\"T_9064e_row170_col2\" class=\"data row170 col2\" >is</td>\n",
       "      <td id=\"T_9064e_row170_col3\" class=\"data row170 col3\" >-37.416900</td>\n",
       "      <td id=\"T_9064e_row170_col4\" class=\"data row170 col4\" >16.463700</td>\n",
       "      <td id=\"T_9064e_row170_col5\" class=\"data row170 col5\" >9.104200</td>\n",
       "      <td id=\"T_9064e_row170_col6\" class=\"data row170 col6\" >34.560000</td>\n",
       "      <td id=\"T_9064e_row170_col7\" class=\"data row170 col7\" >22.640000</td>\n",
       "      <td id=\"T_9064e_row170_col8\" class=\"data row170 col8\" >16.090000</td>\n",
       "      <td id=\"T_9064e_row170_col9\" class=\"data row170 col9\" >73.290000</td>\n",
       "    </tr>\n",
       "    <tr>\n",
       "      <th id=\"T_9064e_level0_row171\" class=\"row_heading level0 row171\" >171</th>\n",
       "      <td id=\"T_9064e_row171_col0\" class=\"data row171 col0\" >24</td>\n",
       "      <td id=\"T_9064e_row171_col1\" class=\"data row171 col1\" >Thursday is</td>\n",
       "      <td id=\"T_9064e_row171_col2\" class=\"data row171 col2\" >is</td>\n",
       "      <td id=\"T_9064e_row171_col3\" class=\"data row171 col3\" >-11.655300</td>\n",
       "      <td id=\"T_9064e_row171_col4\" class=\"data row171 col4\" >36.006500</td>\n",
       "      <td id=\"T_9064e_row171_col5\" class=\"data row171 col5\" >29.939200</td>\n",
       "      <td id=\"T_9064e_row171_col6\" class=\"data row171 col6\" >34.560000</td>\n",
       "      <td id=\"T_9064e_row171_col7\" class=\"data row171 col7\" >22.640000</td>\n",
       "      <td id=\"T_9064e_row171_col8\" class=\"data row171 col8\" >16.090000</td>\n",
       "      <td id=\"T_9064e_row171_col9\" class=\"data row171 col9\" >73.290000</td>\n",
       "    </tr>\n",
       "    <tr>\n",
       "      <th id=\"T_9064e_level0_row172\" class=\"row_heading level0 row172\" >172</th>\n",
       "      <td id=\"T_9064e_row172_col0\" class=\"data row172 col0\" >24</td>\n",
       "      <td id=\"T_9064e_row172_col1\" class=\"data row172 col1\" >Friday is</td>\n",
       "      <td id=\"T_9064e_row172_col2\" class=\"data row172 col2\" >is</td>\n",
       "      <td id=\"T_9064e_row172_col3\" class=\"data row172 col3\" >-7.318200</td>\n",
       "      <td id=\"T_9064e_row172_col4\" class=\"data row172 col4\" >23.266100</td>\n",
       "      <td id=\"T_9064e_row172_col5\" class=\"data row172 col5\" >-57.359100</td>\n",
       "      <td id=\"T_9064e_row172_col6\" class=\"data row172 col6\" >34.560000</td>\n",
       "      <td id=\"T_9064e_row172_col7\" class=\"data row172 col7\" >22.640000</td>\n",
       "      <td id=\"T_9064e_row172_col8\" class=\"data row172 col8\" >16.090000</td>\n",
       "      <td id=\"T_9064e_row172_col9\" class=\"data row172 col9\" >73.290000</td>\n",
       "    </tr>\n",
       "    <tr>\n",
       "      <th id=\"T_9064e_level0_row173\" class=\"row_heading level0 row173\" >173</th>\n",
       "      <td id=\"T_9064e_row173_col0\" class=\"data row173 col0\" >24</td>\n",
       "      <td id=\"T_9064e_row173_col1\" class=\"data row173 col1\" >Saturday is</td>\n",
       "      <td id=\"T_9064e_row173_col2\" class=\"data row173 col2\" >is</td>\n",
       "      <td id=\"T_9064e_row173_col3\" class=\"data row173 col3\" >48.575800</td>\n",
       "      <td id=\"T_9064e_row173_col4\" class=\"data row173 col4\" >1.117900</td>\n",
       "      <td id=\"T_9064e_row173_col5\" class=\"data row173 col5\" >16.254200</td>\n",
       "      <td id=\"T_9064e_row173_col6\" class=\"data row173 col6\" >34.560000</td>\n",
       "      <td id=\"T_9064e_row173_col7\" class=\"data row173 col7\" >22.640000</td>\n",
       "      <td id=\"T_9064e_row173_col8\" class=\"data row173 col8\" >16.090000</td>\n",
       "      <td id=\"T_9064e_row173_col9\" class=\"data row173 col9\" >73.290000</td>\n",
       "    </tr>\n",
       "    <tr>\n",
       "      <th id=\"T_9064e_level0_row174\" class=\"row_heading level0 row174\" >174</th>\n",
       "      <td id=\"T_9064e_row174_col0\" class=\"data row174 col0\" >24</td>\n",
       "      <td id=\"T_9064e_row174_col1\" class=\"data row174 col1\" >Sunday is</td>\n",
       "      <td id=\"T_9064e_row174_col2\" class=\"data row174 col2\" >is</td>\n",
       "      <td id=\"T_9064e_row174_col3\" class=\"data row174 col3\" >53.623100</td>\n",
       "      <td id=\"T_9064e_row174_col4\" class=\"data row174 col4\" >-35.933600</td>\n",
       "      <td id=\"T_9064e_row174_col5\" class=\"data row174 col5\" >-6.540100</td>\n",
       "      <td id=\"T_9064e_row174_col6\" class=\"data row174 col6\" >34.560000</td>\n",
       "      <td id=\"T_9064e_row174_col7\" class=\"data row174 col7\" >22.640000</td>\n",
       "      <td id=\"T_9064e_row174_col8\" class=\"data row174 col8\" >16.090000</td>\n",
       "      <td id=\"T_9064e_row174_col9\" class=\"data row174 col9\" >73.290000</td>\n",
       "    </tr>\n",
       "    <tr>\n",
       "      <th id=\"T_9064e_level0_row175\" class=\"row_heading level0 row175\" >175</th>\n",
       "      <td id=\"T_9064e_row175_col0\" class=\"data row175 col0\" >25</td>\n",
       "      <td id=\"T_9064e_row175_col1\" class=\"data row175 col1\" >Monday is</td>\n",
       "      <td id=\"T_9064e_row175_col2\" class=\"data row175 col2\" >is</td>\n",
       "      <td id=\"T_9064e_row175_col3\" class=\"data row175 col3\" >8.054100</td>\n",
       "      <td id=\"T_9064e_row175_col4\" class=\"data row175 col4\" >13.563500</td>\n",
       "      <td id=\"T_9064e_row175_col5\" class=\"data row175 col5\" >5.305300</td>\n",
       "      <td id=\"T_9064e_row175_col6\" class=\"data row175 col6\" >34.850000</td>\n",
       "      <td id=\"T_9064e_row175_col7\" class=\"data row175 col7\" >22.950000</td>\n",
       "      <td id=\"T_9064e_row175_col8\" class=\"data row175 col8\" >15.830000</td>\n",
       "      <td id=\"T_9064e_row175_col9\" class=\"data row175 col9\" >73.620000</td>\n",
       "    </tr>\n",
       "    <tr>\n",
       "      <th id=\"T_9064e_level0_row176\" class=\"row_heading level0 row176\" >176</th>\n",
       "      <td id=\"T_9064e_row176_col0\" class=\"data row176 col0\" >25</td>\n",
       "      <td id=\"T_9064e_row176_col1\" class=\"data row176 col1\" >Tuesday is</td>\n",
       "      <td id=\"T_9064e_row176_col2\" class=\"data row176 col2\" >is</td>\n",
       "      <td id=\"T_9064e_row176_col3\" class=\"data row176 col3\" >-51.610200</td>\n",
       "      <td id=\"T_9064e_row176_col4\" class=\"data row176 col4\" >-56.785600</td>\n",
       "      <td id=\"T_9064e_row176_col5\" class=\"data row176 col5\" >1.076300</td>\n",
       "      <td id=\"T_9064e_row176_col6\" class=\"data row176 col6\" >34.850000</td>\n",
       "      <td id=\"T_9064e_row176_col7\" class=\"data row176 col7\" >22.950000</td>\n",
       "      <td id=\"T_9064e_row176_col8\" class=\"data row176 col8\" >15.830000</td>\n",
       "      <td id=\"T_9064e_row176_col9\" class=\"data row176 col9\" >73.620000</td>\n",
       "    </tr>\n",
       "    <tr>\n",
       "      <th id=\"T_9064e_level0_row177\" class=\"row_heading level0 row177\" >177</th>\n",
       "      <td id=\"T_9064e_row177_col0\" class=\"data row177 col0\" >25</td>\n",
       "      <td id=\"T_9064e_row177_col1\" class=\"data row177 col1\" >Wednesday is</td>\n",
       "      <td id=\"T_9064e_row177_col2\" class=\"data row177 col2\" >is</td>\n",
       "      <td id=\"T_9064e_row177_col3\" class=\"data row177 col3\" >-38.840700</td>\n",
       "      <td id=\"T_9064e_row177_col4\" class=\"data row177 col4\" >14.804600</td>\n",
       "      <td id=\"T_9064e_row177_col5\" class=\"data row177 col5\" >9.635500</td>\n",
       "      <td id=\"T_9064e_row177_col6\" class=\"data row177 col6\" >34.850000</td>\n",
       "      <td id=\"T_9064e_row177_col7\" class=\"data row177 col7\" >22.950000</td>\n",
       "      <td id=\"T_9064e_row177_col8\" class=\"data row177 col8\" >15.830000</td>\n",
       "      <td id=\"T_9064e_row177_col9\" class=\"data row177 col9\" >73.620000</td>\n",
       "    </tr>\n",
       "    <tr>\n",
       "      <th id=\"T_9064e_level0_row178\" class=\"row_heading level0 row178\" >178</th>\n",
       "      <td id=\"T_9064e_row178_col0\" class=\"data row178 col0\" >25</td>\n",
       "      <td id=\"T_9064e_row178_col1\" class=\"data row178 col1\" >Thursday is</td>\n",
       "      <td id=\"T_9064e_row178_col2\" class=\"data row178 col2\" >is</td>\n",
       "      <td id=\"T_9064e_row178_col3\" class=\"data row178 col3\" >-13.619800</td>\n",
       "      <td id=\"T_9064e_row178_col4\" class=\"data row178 col4\" >33.028900</td>\n",
       "      <td id=\"T_9064e_row178_col5\" class=\"data row178 col5\" >31.373700</td>\n",
       "      <td id=\"T_9064e_row178_col6\" class=\"data row178 col6\" >34.850000</td>\n",
       "      <td id=\"T_9064e_row178_col7\" class=\"data row178 col7\" >22.950000</td>\n",
       "      <td id=\"T_9064e_row178_col8\" class=\"data row178 col8\" >15.830000</td>\n",
       "      <td id=\"T_9064e_row178_col9\" class=\"data row178 col9\" >73.620000</td>\n",
       "    </tr>\n",
       "    <tr>\n",
       "      <th id=\"T_9064e_level0_row179\" class=\"row_heading level0 row179\" >179</th>\n",
       "      <td id=\"T_9064e_row179_col0\" class=\"data row179 col0\" >25</td>\n",
       "      <td id=\"T_9064e_row179_col1\" class=\"data row179 col1\" >Friday is</td>\n",
       "      <td id=\"T_9064e_row179_col2\" class=\"data row179 col2\" >is</td>\n",
       "      <td id=\"T_9064e_row179_col3\" class=\"data row179 col3\" >-8.620800</td>\n",
       "      <td id=\"T_9064e_row179_col4\" class=\"data row179 col4\" >27.241300</td>\n",
       "      <td id=\"T_9064e_row179_col5\" class=\"data row179 col5\" >-55.417900</td>\n",
       "      <td id=\"T_9064e_row179_col6\" class=\"data row179 col6\" >34.850000</td>\n",
       "      <td id=\"T_9064e_row179_col7\" class=\"data row179 col7\" >22.950000</td>\n",
       "      <td id=\"T_9064e_row179_col8\" class=\"data row179 col8\" >15.830000</td>\n",
       "      <td id=\"T_9064e_row179_col9\" class=\"data row179 col9\" >73.620000</td>\n",
       "    </tr>\n",
       "    <tr>\n",
       "      <th id=\"T_9064e_level0_row180\" class=\"row_heading level0 row180\" >180</th>\n",
       "      <td id=\"T_9064e_row180_col0\" class=\"data row180 col0\" >25</td>\n",
       "      <td id=\"T_9064e_row180_col1\" class=\"data row180 col1\" >Saturday is</td>\n",
       "      <td id=\"T_9064e_row180_col2\" class=\"data row180 col2\" >is</td>\n",
       "      <td id=\"T_9064e_row180_col3\" class=\"data row180 col3\" >49.065100</td>\n",
       "      <td id=\"T_9064e_row180_col4\" class=\"data row180 col4\" >1.553600</td>\n",
       "      <td id=\"T_9064e_row180_col5\" class=\"data row180 col5\" >16.821700</td>\n",
       "      <td id=\"T_9064e_row180_col6\" class=\"data row180 col6\" >34.850000</td>\n",
       "      <td id=\"T_9064e_row180_col7\" class=\"data row180 col7\" >22.950000</td>\n",
       "      <td id=\"T_9064e_row180_col8\" class=\"data row180 col8\" >15.830000</td>\n",
       "      <td id=\"T_9064e_row180_col9\" class=\"data row180 col9\" >73.620000</td>\n",
       "    </tr>\n",
       "    <tr>\n",
       "      <th id=\"T_9064e_level0_row181\" class=\"row_heading level0 row181\" >181</th>\n",
       "      <td id=\"T_9064e_row181_col0\" class=\"data row181 col0\" >25</td>\n",
       "      <td id=\"T_9064e_row181_col1\" class=\"data row181 col1\" >Sunday is</td>\n",
       "      <td id=\"T_9064e_row181_col2\" class=\"data row181 col2\" >is</td>\n",
       "      <td id=\"T_9064e_row181_col3\" class=\"data row181 col3\" >55.572400</td>\n",
       "      <td id=\"T_9064e_row181_col4\" class=\"data row181 col4\" >-33.406300</td>\n",
       "      <td id=\"T_9064e_row181_col5\" class=\"data row181 col5\" >-8.794600</td>\n",
       "      <td id=\"T_9064e_row181_col6\" class=\"data row181 col6\" >34.850000</td>\n",
       "      <td id=\"T_9064e_row181_col7\" class=\"data row181 col7\" >22.950000</td>\n",
       "      <td id=\"T_9064e_row181_col8\" class=\"data row181 col8\" >15.830000</td>\n",
       "      <td id=\"T_9064e_row181_col9\" class=\"data row181 col9\" >73.620000</td>\n",
       "    </tr>\n",
       "    <tr>\n",
       "      <th id=\"T_9064e_level0_row182\" class=\"row_heading level0 row182\" >182</th>\n",
       "      <td id=\"T_9064e_row182_col0\" class=\"data row182 col0\" >26</td>\n",
       "      <td id=\"T_9064e_row182_col1\" class=\"data row182 col1\" >Monday is</td>\n",
       "      <td id=\"T_9064e_row182_col2\" class=\"data row182 col2\" >is</td>\n",
       "      <td id=\"T_9064e_row182_col3\" class=\"data row182 col3\" >8.971400</td>\n",
       "      <td id=\"T_9064e_row182_col4\" class=\"data row182 col4\" >12.984300</td>\n",
       "      <td id=\"T_9064e_row182_col5\" class=\"data row182 col5\" >8.330000</td>\n",
       "      <td id=\"T_9064e_row182_col6\" class=\"data row182 col6\" >35.580000</td>\n",
       "      <td id=\"T_9064e_row182_col7\" class=\"data row182 col7\" >23.050000</td>\n",
       "      <td id=\"T_9064e_row182_col8\" class=\"data row182 col8\" >15.570000</td>\n",
       "      <td id=\"T_9064e_row182_col9\" class=\"data row182 col9\" >74.200000</td>\n",
       "    </tr>\n",
       "    <tr>\n",
       "      <th id=\"T_9064e_level0_row183\" class=\"row_heading level0 row183\" >183</th>\n",
       "      <td id=\"T_9064e_row183_col0\" class=\"data row183 col0\" >26</td>\n",
       "      <td id=\"T_9064e_row183_col1\" class=\"data row183 col1\" >Tuesday is</td>\n",
       "      <td id=\"T_9064e_row183_col2\" class=\"data row183 col2\" >is</td>\n",
       "      <td id=\"T_9064e_row183_col3\" class=\"data row183 col3\" >-53.907100</td>\n",
       "      <td id=\"T_9064e_row183_col4\" class=\"data row183 col4\" >-56.387000</td>\n",
       "      <td id=\"T_9064e_row183_col5\" class=\"data row183 col5\" >1.620600</td>\n",
       "      <td id=\"T_9064e_row183_col6\" class=\"data row183 col6\" >35.580000</td>\n",
       "      <td id=\"T_9064e_row183_col7\" class=\"data row183 col7\" >23.050000</td>\n",
       "      <td id=\"T_9064e_row183_col8\" class=\"data row183 col8\" >15.570000</td>\n",
       "      <td id=\"T_9064e_row183_col9\" class=\"data row183 col9\" >74.200000</td>\n",
       "    </tr>\n",
       "    <tr>\n",
       "      <th id=\"T_9064e_level0_row184\" class=\"row_heading level0 row184\" >184</th>\n",
       "      <td id=\"T_9064e_row184_col0\" class=\"data row184 col0\" >26</td>\n",
       "      <td id=\"T_9064e_row184_col1\" class=\"data row184 col1\" >Wednesday is</td>\n",
       "      <td id=\"T_9064e_row184_col2\" class=\"data row184 col2\" >is</td>\n",
       "      <td id=\"T_9064e_row184_col3\" class=\"data row184 col3\" >-38.300200</td>\n",
       "      <td id=\"T_9064e_row184_col4\" class=\"data row184 col4\" >16.647700</td>\n",
       "      <td id=\"T_9064e_row184_col5\" class=\"data row184 col5\" >8.932500</td>\n",
       "      <td id=\"T_9064e_row184_col6\" class=\"data row184 col6\" >35.580000</td>\n",
       "      <td id=\"T_9064e_row184_col7\" class=\"data row184 col7\" >23.050000</td>\n",
       "      <td id=\"T_9064e_row184_col8\" class=\"data row184 col8\" >15.570000</td>\n",
       "      <td id=\"T_9064e_row184_col9\" class=\"data row184 col9\" >74.200000</td>\n",
       "    </tr>\n",
       "    <tr>\n",
       "      <th id=\"T_9064e_level0_row185\" class=\"row_heading level0 row185\" >185</th>\n",
       "      <td id=\"T_9064e_row185_col0\" class=\"data row185 col0\" >26</td>\n",
       "      <td id=\"T_9064e_row185_col1\" class=\"data row185 col1\" >Thursday is</td>\n",
       "      <td id=\"T_9064e_row185_col2\" class=\"data row185 col2\" >is</td>\n",
       "      <td id=\"T_9064e_row185_col3\" class=\"data row185 col3\" >-13.193200</td>\n",
       "      <td id=\"T_9064e_row185_col4\" class=\"data row185 col4\" >33.728700</td>\n",
       "      <td id=\"T_9064e_row185_col5\" class=\"data row185 col5\" >29.960700</td>\n",
       "      <td id=\"T_9064e_row185_col6\" class=\"data row185 col6\" >35.580000</td>\n",
       "      <td id=\"T_9064e_row185_col7\" class=\"data row185 col7\" >23.050000</td>\n",
       "      <td id=\"T_9064e_row185_col8\" class=\"data row185 col8\" >15.570000</td>\n",
       "      <td id=\"T_9064e_row185_col9\" class=\"data row185 col9\" >74.200000</td>\n",
       "    </tr>\n",
       "    <tr>\n",
       "      <th id=\"T_9064e_level0_row186\" class=\"row_heading level0 row186\" >186</th>\n",
       "      <td id=\"T_9064e_row186_col0\" class=\"data row186 col0\" >26</td>\n",
       "      <td id=\"T_9064e_row186_col1\" class=\"data row186 col1\" >Friday is</td>\n",
       "      <td id=\"T_9064e_row186_col2\" class=\"data row186 col2\" >is</td>\n",
       "      <td id=\"T_9064e_row186_col3\" class=\"data row186 col3\" >-8.334500</td>\n",
       "      <td id=\"T_9064e_row186_col4\" class=\"data row186 col4\" >26.577400</td>\n",
       "      <td id=\"T_9064e_row186_col5\" class=\"data row186 col5\" >-55.614400</td>\n",
       "      <td id=\"T_9064e_row186_col6\" class=\"data row186 col6\" >35.580000</td>\n",
       "      <td id=\"T_9064e_row186_col7\" class=\"data row186 col7\" >23.050000</td>\n",
       "      <td id=\"T_9064e_row186_col8\" class=\"data row186 col8\" >15.570000</td>\n",
       "      <td id=\"T_9064e_row186_col9\" class=\"data row186 col9\" >74.200000</td>\n",
       "    </tr>\n",
       "    <tr>\n",
       "      <th id=\"T_9064e_level0_row187\" class=\"row_heading level0 row187\" >187</th>\n",
       "      <td id=\"T_9064e_row187_col0\" class=\"data row187 col0\" >26</td>\n",
       "      <td id=\"T_9064e_row187_col1\" class=\"data row187 col1\" >Saturday is</td>\n",
       "      <td id=\"T_9064e_row187_col2\" class=\"data row187 col2\" >is</td>\n",
       "      <td id=\"T_9064e_row187_col3\" class=\"data row187 col3\" >49.597300</td>\n",
       "      <td id=\"T_9064e_row187_col4\" class=\"data row187 col4\" >0.206600</td>\n",
       "      <td id=\"T_9064e_row187_col5\" class=\"data row187 col5\" >15.623000</td>\n",
       "      <td id=\"T_9064e_row187_col6\" class=\"data row187 col6\" >35.580000</td>\n",
       "      <td id=\"T_9064e_row187_col7\" class=\"data row187 col7\" >23.050000</td>\n",
       "      <td id=\"T_9064e_row187_col8\" class=\"data row187 col8\" >15.570000</td>\n",
       "      <td id=\"T_9064e_row187_col9\" class=\"data row187 col9\" >74.200000</td>\n",
       "    </tr>\n",
       "    <tr>\n",
       "      <th id=\"T_9064e_level0_row188\" class=\"row_heading level0 row188\" >188</th>\n",
       "      <td id=\"T_9064e_row188_col0\" class=\"data row188 col0\" >26</td>\n",
       "      <td id=\"T_9064e_row188_col1\" class=\"data row188 col1\" >Sunday is</td>\n",
       "      <td id=\"T_9064e_row188_col2\" class=\"data row188 col2\" >is</td>\n",
       "      <td id=\"T_9064e_row188_col3\" class=\"data row188 col3\" >55.166200</td>\n",
       "      <td id=\"T_9064e_row188_col4\" class=\"data row188 col4\" >-33.757800</td>\n",
       "      <td id=\"T_9064e_row188_col5\" class=\"data row188 col5\" >-8.852400</td>\n",
       "      <td id=\"T_9064e_row188_col6\" class=\"data row188 col6\" >35.580000</td>\n",
       "      <td id=\"T_9064e_row188_col7\" class=\"data row188 col7\" >23.050000</td>\n",
       "      <td id=\"T_9064e_row188_col8\" class=\"data row188 col8\" >15.570000</td>\n",
       "      <td id=\"T_9064e_row188_col9\" class=\"data row188 col9\" >74.200000</td>\n",
       "    </tr>\n",
       "    <tr>\n",
       "      <th id=\"T_9064e_level0_row189\" class=\"row_heading level0 row189\" >189</th>\n",
       "      <td id=\"T_9064e_row189_col0\" class=\"data row189 col0\" >27</td>\n",
       "      <td id=\"T_9064e_row189_col1\" class=\"data row189 col1\" >Monday is</td>\n",
       "      <td id=\"T_9064e_row189_col2\" class=\"data row189 col2\" >is</td>\n",
       "      <td id=\"T_9064e_row189_col3\" class=\"data row189 col3\" >8.795400</td>\n",
       "      <td id=\"T_9064e_row189_col4\" class=\"data row189 col4\" >9.801600</td>\n",
       "      <td id=\"T_9064e_row189_col5\" class=\"data row189 col5\" >10.669900</td>\n",
       "      <td id=\"T_9064e_row189_col6\" class=\"data row189 col6\" >34.760000</td>\n",
       "      <td id=\"T_9064e_row189_col7\" class=\"data row189 col7\" >23.020000</td>\n",
       "      <td id=\"T_9064e_row189_col8\" class=\"data row189 col8\" >15.500000</td>\n",
       "      <td id=\"T_9064e_row189_col9\" class=\"data row189 col9\" >73.280000</td>\n",
       "    </tr>\n",
       "    <tr>\n",
       "      <th id=\"T_9064e_level0_row190\" class=\"row_heading level0 row190\" >190</th>\n",
       "      <td id=\"T_9064e_row190_col0\" class=\"data row190 col0\" >27</td>\n",
       "      <td id=\"T_9064e_row190_col1\" class=\"data row190 col1\" >Tuesday is</td>\n",
       "      <td id=\"T_9064e_row190_col2\" class=\"data row190 col2\" >is</td>\n",
       "      <td id=\"T_9064e_row190_col3\" class=\"data row190 col3\" >-51.020000</td>\n",
       "      <td id=\"T_9064e_row190_col4\" class=\"data row190 col4\" >-57.777200</td>\n",
       "      <td id=\"T_9064e_row190_col5\" class=\"data row190 col5\" >-0.577000</td>\n",
       "      <td id=\"T_9064e_row190_col6\" class=\"data row190 col6\" >34.760000</td>\n",
       "      <td id=\"T_9064e_row190_col7\" class=\"data row190 col7\" >23.020000</td>\n",
       "      <td id=\"T_9064e_row190_col8\" class=\"data row190 col8\" >15.500000</td>\n",
       "      <td id=\"T_9064e_row190_col9\" class=\"data row190 col9\" >73.280000</td>\n",
       "    </tr>\n",
       "    <tr>\n",
       "      <th id=\"T_9064e_level0_row191\" class=\"row_heading level0 row191\" >191</th>\n",
       "      <td id=\"T_9064e_row191_col0\" class=\"data row191 col0\" >27</td>\n",
       "      <td id=\"T_9064e_row191_col1\" class=\"data row191 col1\" >Wednesday is</td>\n",
       "      <td id=\"T_9064e_row191_col2\" class=\"data row191 col2\" >is</td>\n",
       "      <td id=\"T_9064e_row191_col3\" class=\"data row191 col3\" >-38.647000</td>\n",
       "      <td id=\"T_9064e_row191_col4\" class=\"data row191 col4\" >16.291800</td>\n",
       "      <td id=\"T_9064e_row191_col5\" class=\"data row191 col5\" >8.136300</td>\n",
       "      <td id=\"T_9064e_row191_col6\" class=\"data row191 col6\" >34.760000</td>\n",
       "      <td id=\"T_9064e_row191_col7\" class=\"data row191 col7\" >23.020000</td>\n",
       "      <td id=\"T_9064e_row191_col8\" class=\"data row191 col8\" >15.500000</td>\n",
       "      <td id=\"T_9064e_row191_col9\" class=\"data row191 col9\" >73.280000</td>\n",
       "    </tr>\n",
       "    <tr>\n",
       "      <th id=\"T_9064e_level0_row192\" class=\"row_heading level0 row192\" >192</th>\n",
       "      <td id=\"T_9064e_row192_col0\" class=\"data row192 col0\" >27</td>\n",
       "      <td id=\"T_9064e_row192_col1\" class=\"data row192 col1\" >Thursday is</td>\n",
       "      <td id=\"T_9064e_row192_col2\" class=\"data row192 col2\" >is</td>\n",
       "      <td id=\"T_9064e_row192_col3\" class=\"data row192 col3\" >-16.010400</td>\n",
       "      <td id=\"T_9064e_row192_col4\" class=\"data row192 col4\" >32.519400</td>\n",
       "      <td id=\"T_9064e_row192_col5\" class=\"data row192 col5\" >30.039800</td>\n",
       "      <td id=\"T_9064e_row192_col6\" class=\"data row192 col6\" >34.760000</td>\n",
       "      <td id=\"T_9064e_row192_col7\" class=\"data row192 col7\" >23.020000</td>\n",
       "      <td id=\"T_9064e_row192_col8\" class=\"data row192 col8\" >15.500000</td>\n",
       "      <td id=\"T_9064e_row192_col9\" class=\"data row192 col9\" >73.280000</td>\n",
       "    </tr>\n",
       "    <tr>\n",
       "      <th id=\"T_9064e_level0_row193\" class=\"row_heading level0 row193\" >193</th>\n",
       "      <td id=\"T_9064e_row193_col0\" class=\"data row193 col0\" >27</td>\n",
       "      <td id=\"T_9064e_row193_col1\" class=\"data row193 col1\" >Friday is</td>\n",
       "      <td id=\"T_9064e_row193_col2\" class=\"data row193 col2\" >is</td>\n",
       "      <td id=\"T_9064e_row193_col3\" class=\"data row193 col3\" >-7.338500</td>\n",
       "      <td id=\"T_9064e_row193_col4\" class=\"data row193 col4\" >27.897700</td>\n",
       "      <td id=\"T_9064e_row193_col5\" class=\"data row193 col5\" >-55.521600</td>\n",
       "      <td id=\"T_9064e_row193_col6\" class=\"data row193 col6\" >34.760000</td>\n",
       "      <td id=\"T_9064e_row193_col7\" class=\"data row193 col7\" >23.020000</td>\n",
       "      <td id=\"T_9064e_row193_col8\" class=\"data row193 col8\" >15.500000</td>\n",
       "      <td id=\"T_9064e_row193_col9\" class=\"data row193 col9\" >73.280000</td>\n",
       "    </tr>\n",
       "    <tr>\n",
       "      <th id=\"T_9064e_level0_row194\" class=\"row_heading level0 row194\" >194</th>\n",
       "      <td id=\"T_9064e_row194_col0\" class=\"data row194 col0\" >27</td>\n",
       "      <td id=\"T_9064e_row194_col1\" class=\"data row194 col1\" >Saturday is</td>\n",
       "      <td id=\"T_9064e_row194_col2\" class=\"data row194 col2\" >is</td>\n",
       "      <td id=\"T_9064e_row194_col3\" class=\"data row194 col3\" >47.074200</td>\n",
       "      <td id=\"T_9064e_row194_col4\" class=\"data row194 col4\" >3.674000</td>\n",
       "      <td id=\"T_9064e_row194_col5\" class=\"data row194 col5\" >14.872200</td>\n",
       "      <td id=\"T_9064e_row194_col6\" class=\"data row194 col6\" >34.760000</td>\n",
       "      <td id=\"T_9064e_row194_col7\" class=\"data row194 col7\" >23.020000</td>\n",
       "      <td id=\"T_9064e_row194_col8\" class=\"data row194 col8\" >15.500000</td>\n",
       "      <td id=\"T_9064e_row194_col9\" class=\"data row194 col9\" >73.280000</td>\n",
       "    </tr>\n",
       "    <tr>\n",
       "      <th id=\"T_9064e_level0_row195\" class=\"row_heading level0 row195\" >195</th>\n",
       "      <td id=\"T_9064e_row195_col0\" class=\"data row195 col0\" >27</td>\n",
       "      <td id=\"T_9064e_row195_col1\" class=\"data row195 col1\" >Sunday is</td>\n",
       "      <td id=\"T_9064e_row195_col2\" class=\"data row195 col2\" >is</td>\n",
       "      <td id=\"T_9064e_row195_col3\" class=\"data row195 col3\" >57.146400</td>\n",
       "      <td id=\"T_9064e_row195_col4\" class=\"data row195 col4\" >-32.407200</td>\n",
       "      <td id=\"T_9064e_row195_col5\" class=\"data row195 col5\" >-7.619600</td>\n",
       "      <td id=\"T_9064e_row195_col6\" class=\"data row195 col6\" >34.760000</td>\n",
       "      <td id=\"T_9064e_row195_col7\" class=\"data row195 col7\" >23.020000</td>\n",
       "      <td id=\"T_9064e_row195_col8\" class=\"data row195 col8\" >15.500000</td>\n",
       "      <td id=\"T_9064e_row195_col9\" class=\"data row195 col9\" >73.280000</td>\n",
       "    </tr>\n",
       "    <tr>\n",
       "      <th id=\"T_9064e_level0_row196\" class=\"row_heading level0 row196\" >196</th>\n",
       "      <td id=\"T_9064e_row196_col0\" class=\"data row196 col0\" >28</td>\n",
       "      <td id=\"T_9064e_row196_col1\" class=\"data row196 col1\" >Monday is</td>\n",
       "      <td id=\"T_9064e_row196_col2\" class=\"data row196 col2\" >is</td>\n",
       "      <td id=\"T_9064e_row196_col3\" class=\"data row196 col3\" >8.193000</td>\n",
       "      <td id=\"T_9064e_row196_col4\" class=\"data row196 col4\" >8.294800</td>\n",
       "      <td id=\"T_9064e_row196_col5\" class=\"data row196 col5\" >11.563200</td>\n",
       "      <td id=\"T_9064e_row196_col6\" class=\"data row196 col6\" >35.490000</td>\n",
       "      <td id=\"T_9064e_row196_col7\" class=\"data row196 col7\" >23.250000</td>\n",
       "      <td id=\"T_9064e_row196_col8\" class=\"data row196 col8\" >15.400000</td>\n",
       "      <td id=\"T_9064e_row196_col9\" class=\"data row196 col9\" >74.140000</td>\n",
       "    </tr>\n",
       "    <tr>\n",
       "      <th id=\"T_9064e_level0_row197\" class=\"row_heading level0 row197\" >197</th>\n",
       "      <td id=\"T_9064e_row197_col0\" class=\"data row197 col0\" >28</td>\n",
       "      <td id=\"T_9064e_row197_col1\" class=\"data row197 col1\" >Tuesday is</td>\n",
       "      <td id=\"T_9064e_row197_col2\" class=\"data row197 col2\" >is</td>\n",
       "      <td id=\"T_9064e_row197_col3\" class=\"data row197 col3\" >-55.512400</td>\n",
       "      <td id=\"T_9064e_row197_col4\" class=\"data row197 col4\" >-55.953000</td>\n",
       "      <td id=\"T_9064e_row197_col5\" class=\"data row197 col5\" >0.517500</td>\n",
       "      <td id=\"T_9064e_row197_col6\" class=\"data row197 col6\" >35.490000</td>\n",
       "      <td id=\"T_9064e_row197_col7\" class=\"data row197 col7\" >23.250000</td>\n",
       "      <td id=\"T_9064e_row197_col8\" class=\"data row197 col8\" >15.400000</td>\n",
       "      <td id=\"T_9064e_row197_col9\" class=\"data row197 col9\" >74.140000</td>\n",
       "    </tr>\n",
       "    <tr>\n",
       "      <th id=\"T_9064e_level0_row198\" class=\"row_heading level0 row198\" >198</th>\n",
       "      <td id=\"T_9064e_row198_col0\" class=\"data row198 col0\" >28</td>\n",
       "      <td id=\"T_9064e_row198_col1\" class=\"data row198 col1\" >Wednesday is</td>\n",
       "      <td id=\"T_9064e_row198_col2\" class=\"data row198 col2\" >is</td>\n",
       "      <td id=\"T_9064e_row198_col3\" class=\"data row198 col3\" >-37.159300</td>\n",
       "      <td id=\"T_9064e_row198_col4\" class=\"data row198 col4\" >19.641800</td>\n",
       "      <td id=\"T_9064e_row198_col5\" class=\"data row198 col5\" >7.650400</td>\n",
       "      <td id=\"T_9064e_row198_col6\" class=\"data row198 col6\" >35.490000</td>\n",
       "      <td id=\"T_9064e_row198_col7\" class=\"data row198 col7\" >23.250000</td>\n",
       "      <td id=\"T_9064e_row198_col8\" class=\"data row198 col8\" >15.400000</td>\n",
       "      <td id=\"T_9064e_row198_col9\" class=\"data row198 col9\" >74.140000</td>\n",
       "    </tr>\n",
       "    <tr>\n",
       "      <th id=\"T_9064e_level0_row199\" class=\"row_heading level0 row199\" >199</th>\n",
       "      <td id=\"T_9064e_row199_col0\" class=\"data row199 col0\" >28</td>\n",
       "      <td id=\"T_9064e_row199_col1\" class=\"data row199 col1\" >Thursday is</td>\n",
       "      <td id=\"T_9064e_row199_col2\" class=\"data row199 col2\" >is</td>\n",
       "      <td id=\"T_9064e_row199_col3\" class=\"data row199 col3\" >-13.178900</td>\n",
       "      <td id=\"T_9064e_row199_col4\" class=\"data row199 col4\" >33.953900</td>\n",
       "      <td id=\"T_9064e_row199_col5\" class=\"data row199 col5\" >29.831300</td>\n",
       "      <td id=\"T_9064e_row199_col6\" class=\"data row199 col6\" >35.490000</td>\n",
       "      <td id=\"T_9064e_row199_col7\" class=\"data row199 col7\" >23.250000</td>\n",
       "      <td id=\"T_9064e_row199_col8\" class=\"data row199 col8\" >15.400000</td>\n",
       "      <td id=\"T_9064e_row199_col9\" class=\"data row199 col9\" >74.140000</td>\n",
       "    </tr>\n",
       "    <tr>\n",
       "      <th id=\"T_9064e_level0_row200\" class=\"row_heading level0 row200\" >200</th>\n",
       "      <td id=\"T_9064e_row200_col0\" class=\"data row200 col0\" >28</td>\n",
       "      <td id=\"T_9064e_row200_col1\" class=\"data row200 col1\" >Friday is</td>\n",
       "      <td id=\"T_9064e_row200_col2\" class=\"data row200 col2\" >is</td>\n",
       "      <td id=\"T_9064e_row200_col3\" class=\"data row200 col3\" >-6.396600</td>\n",
       "      <td id=\"T_9064e_row200_col4\" class=\"data row200 col4\" >27.025900</td>\n",
       "      <td id=\"T_9064e_row200_col5\" class=\"data row200 col5\" >-55.667500</td>\n",
       "      <td id=\"T_9064e_row200_col6\" class=\"data row200 col6\" >35.490000</td>\n",
       "      <td id=\"T_9064e_row200_col7\" class=\"data row200 col7\" >23.250000</td>\n",
       "      <td id=\"T_9064e_row200_col8\" class=\"data row200 col8\" >15.400000</td>\n",
       "      <td id=\"T_9064e_row200_col9\" class=\"data row200 col9\" >74.140000</td>\n",
       "    </tr>\n",
       "    <tr>\n",
       "      <th id=\"T_9064e_level0_row201\" class=\"row_heading level0 row201\" >201</th>\n",
       "      <td id=\"T_9064e_row201_col0\" class=\"data row201 col0\" >28</td>\n",
       "      <td id=\"T_9064e_row201_col1\" class=\"data row201 col1\" >Saturday is</td>\n",
       "      <td id=\"T_9064e_row201_col2\" class=\"data row201 col2\" >is</td>\n",
       "      <td id=\"T_9064e_row201_col3\" class=\"data row201 col3\" >49.020100</td>\n",
       "      <td id=\"T_9064e_row201_col4\" class=\"data row201 col4\" >1.616000</td>\n",
       "      <td id=\"T_9064e_row201_col5\" class=\"data row201 col5\" >13.412500</td>\n",
       "      <td id=\"T_9064e_row201_col6\" class=\"data row201 col6\" >35.490000</td>\n",
       "      <td id=\"T_9064e_row201_col7\" class=\"data row201 col7\" >23.250000</td>\n",
       "      <td id=\"T_9064e_row201_col8\" class=\"data row201 col8\" >15.400000</td>\n",
       "      <td id=\"T_9064e_row201_col9\" class=\"data row201 col9\" >74.140000</td>\n",
       "    </tr>\n",
       "    <tr>\n",
       "      <th id=\"T_9064e_level0_row202\" class=\"row_heading level0 row202\" >202</th>\n",
       "      <td id=\"T_9064e_row202_col0\" class=\"data row202 col0\" >28</td>\n",
       "      <td id=\"T_9064e_row202_col1\" class=\"data row202 col1\" >Sunday is</td>\n",
       "      <td id=\"T_9064e_row202_col2\" class=\"data row202 col2\" >is</td>\n",
       "      <td id=\"T_9064e_row202_col3\" class=\"data row202 col3\" >55.034000</td>\n",
       "      <td id=\"T_9064e_row202_col4\" class=\"data row202 col4\" >-34.579300</td>\n",
       "      <td id=\"T_9064e_row202_col5\" class=\"data row202 col5\" >-7.307300</td>\n",
       "      <td id=\"T_9064e_row202_col6\" class=\"data row202 col6\" >35.490000</td>\n",
       "      <td id=\"T_9064e_row202_col7\" class=\"data row202 col7\" >23.250000</td>\n",
       "      <td id=\"T_9064e_row202_col8\" class=\"data row202 col8\" >15.400000</td>\n",
       "      <td id=\"T_9064e_row202_col9\" class=\"data row202 col9\" >74.140000</td>\n",
       "    </tr>\n",
       "    <tr>\n",
       "      <th id=\"T_9064e_level0_row203\" class=\"row_heading level0 row203\" >203</th>\n",
       "      <td id=\"T_9064e_row203_col0\" class=\"data row203 col0\" >29</td>\n",
       "      <td id=\"T_9064e_row203_col1\" class=\"data row203 col1\" >Monday is</td>\n",
       "      <td id=\"T_9064e_row203_col2\" class=\"data row203 col2\" >is</td>\n",
       "      <td id=\"T_9064e_row203_col3\" class=\"data row203 col3\" >8.677900</td>\n",
       "      <td id=\"T_9064e_row203_col4\" class=\"data row203 col4\" >8.382400</td>\n",
       "      <td id=\"T_9064e_row203_col5\" class=\"data row203 col5\" >14.468800</td>\n",
       "      <td id=\"T_9064e_row203_col6\" class=\"data row203 col6\" >35.150000</td>\n",
       "      <td id=\"T_9064e_row203_col7\" class=\"data row203 col7\" >23.600000</td>\n",
       "      <td id=\"T_9064e_row203_col8\" class=\"data row203 col8\" >15.210000</td>\n",
       "      <td id=\"T_9064e_row203_col9\" class=\"data row203 col9\" >73.950000</td>\n",
       "    </tr>\n",
       "    <tr>\n",
       "      <th id=\"T_9064e_level0_row204\" class=\"row_heading level0 row204\" >204</th>\n",
       "      <td id=\"T_9064e_row204_col0\" class=\"data row204 col0\" >29</td>\n",
       "      <td id=\"T_9064e_row204_col1\" class=\"data row204 col1\" >Tuesday is</td>\n",
       "      <td id=\"T_9064e_row204_col2\" class=\"data row204 col2\" >is</td>\n",
       "      <td id=\"T_9064e_row204_col3\" class=\"data row204 col3\" >-56.162800</td>\n",
       "      <td id=\"T_9064e_row204_col4\" class=\"data row204 col4\" >-55.703000</td>\n",
       "      <td id=\"T_9064e_row204_col5\" class=\"data row204 col5\" >1.406400</td>\n",
       "      <td id=\"T_9064e_row204_col6\" class=\"data row204 col6\" >35.150000</td>\n",
       "      <td id=\"T_9064e_row204_col7\" class=\"data row204 col7\" >23.600000</td>\n",
       "      <td id=\"T_9064e_row204_col8\" class=\"data row204 col8\" >15.210000</td>\n",
       "      <td id=\"T_9064e_row204_col9\" class=\"data row204 col9\" >73.950000</td>\n",
       "    </tr>\n",
       "    <tr>\n",
       "      <th id=\"T_9064e_level0_row205\" class=\"row_heading level0 row205\" >205</th>\n",
       "      <td id=\"T_9064e_row205_col0\" class=\"data row205 col0\" >29</td>\n",
       "      <td id=\"T_9064e_row205_col1\" class=\"data row205 col1\" >Wednesday is</td>\n",
       "      <td id=\"T_9064e_row205_col2\" class=\"data row205 col2\" >is</td>\n",
       "      <td id=\"T_9064e_row205_col3\" class=\"data row205 col3\" >-36.215800</td>\n",
       "      <td id=\"T_9064e_row205_col4\" class=\"data row205 col4\" >20.257600</td>\n",
       "      <td id=\"T_9064e_row205_col5\" class=\"data row205 col5\" >5.229800</td>\n",
       "      <td id=\"T_9064e_row205_col6\" class=\"data row205 col6\" >35.150000</td>\n",
       "      <td id=\"T_9064e_row205_col7\" class=\"data row205 col7\" >23.600000</td>\n",
       "      <td id=\"T_9064e_row205_col8\" class=\"data row205 col8\" >15.210000</td>\n",
       "      <td id=\"T_9064e_row205_col9\" class=\"data row205 col9\" >73.950000</td>\n",
       "    </tr>\n",
       "    <tr>\n",
       "      <th id=\"T_9064e_level0_row206\" class=\"row_heading level0 row206\" >206</th>\n",
       "      <td id=\"T_9064e_row206_col0\" class=\"data row206 col0\" >29</td>\n",
       "      <td id=\"T_9064e_row206_col1\" class=\"data row206 col1\" >Thursday is</td>\n",
       "      <td id=\"T_9064e_row206_col2\" class=\"data row206 col2\" >is</td>\n",
       "      <td id=\"T_9064e_row206_col3\" class=\"data row206 col3\" >-13.063000</td>\n",
       "      <td id=\"T_9064e_row206_col4\" class=\"data row206 col4\" >34.542800</td>\n",
       "      <td id=\"T_9064e_row206_col5\" class=\"data row206 col5\" >29.600400</td>\n",
       "      <td id=\"T_9064e_row206_col6\" class=\"data row206 col6\" >35.150000</td>\n",
       "      <td id=\"T_9064e_row206_col7\" class=\"data row206 col7\" >23.600000</td>\n",
       "      <td id=\"T_9064e_row206_col8\" class=\"data row206 col8\" >15.210000</td>\n",
       "      <td id=\"T_9064e_row206_col9\" class=\"data row206 col9\" >73.950000</td>\n",
       "    </tr>\n",
       "    <tr>\n",
       "      <th id=\"T_9064e_level0_row207\" class=\"row_heading level0 row207\" >207</th>\n",
       "      <td id=\"T_9064e_row207_col0\" class=\"data row207 col0\" >29</td>\n",
       "      <td id=\"T_9064e_row207_col1\" class=\"data row207 col1\" >Friday is</td>\n",
       "      <td id=\"T_9064e_row207_col2\" class=\"data row207 col2\" >is</td>\n",
       "      <td id=\"T_9064e_row207_col3\" class=\"data row207 col3\" >-6.344500</td>\n",
       "      <td id=\"T_9064e_row207_col4\" class=\"data row207 col4\" >26.643700</td>\n",
       "      <td id=\"T_9064e_row207_col5\" class=\"data row207 col5\" >-55.106300</td>\n",
       "      <td id=\"T_9064e_row207_col6\" class=\"data row207 col6\" >35.150000</td>\n",
       "      <td id=\"T_9064e_row207_col7\" class=\"data row207 col7\" >23.600000</td>\n",
       "      <td id=\"T_9064e_row207_col8\" class=\"data row207 col8\" >15.210000</td>\n",
       "      <td id=\"T_9064e_row207_col9\" class=\"data row207 col9\" >73.950000</td>\n",
       "    </tr>\n",
       "    <tr>\n",
       "      <th id=\"T_9064e_level0_row208\" class=\"row_heading level0 row208\" >208</th>\n",
       "      <td id=\"T_9064e_row208_col0\" class=\"data row208 col0\" >29</td>\n",
       "      <td id=\"T_9064e_row208_col1\" class=\"data row208 col1\" >Saturday is</td>\n",
       "      <td id=\"T_9064e_row208_col2\" class=\"data row208 col2\" >is</td>\n",
       "      <td id=\"T_9064e_row208_col3\" class=\"data row208 col3\" >49.195300</td>\n",
       "      <td id=\"T_9064e_row208_col4\" class=\"data row208 col4\" >1.603100</td>\n",
       "      <td id=\"T_9064e_row208_col5\" class=\"data row208 col5\" >12.164500</td>\n",
       "      <td id=\"T_9064e_row208_col6\" class=\"data row208 col6\" >35.150000</td>\n",
       "      <td id=\"T_9064e_row208_col7\" class=\"data row208 col7\" >23.600000</td>\n",
       "      <td id=\"T_9064e_row208_col8\" class=\"data row208 col8\" >15.210000</td>\n",
       "      <td id=\"T_9064e_row208_col9\" class=\"data row208 col9\" >73.950000</td>\n",
       "    </tr>\n",
       "    <tr>\n",
       "      <th id=\"T_9064e_level0_row209\" class=\"row_heading level0 row209\" >209</th>\n",
       "      <td id=\"T_9064e_row209_col0\" class=\"data row209 col0\" >29</td>\n",
       "      <td id=\"T_9064e_row209_col1\" class=\"data row209 col1\" >Sunday is</td>\n",
       "      <td id=\"T_9064e_row209_col2\" class=\"data row209 col2\" >is</td>\n",
       "      <td id=\"T_9064e_row209_col3\" class=\"data row209 col3\" >53.912900</td>\n",
       "      <td id=\"T_9064e_row209_col4\" class=\"data row209 col4\" >-35.726500</td>\n",
       "      <td id=\"T_9064e_row209_col5\" class=\"data row209 col5\" >-7.763600</td>\n",
       "      <td id=\"T_9064e_row209_col6\" class=\"data row209 col6\" >35.150000</td>\n",
       "      <td id=\"T_9064e_row209_col7\" class=\"data row209 col7\" >23.600000</td>\n",
       "      <td id=\"T_9064e_row209_col8\" class=\"data row209 col8\" >15.210000</td>\n",
       "      <td id=\"T_9064e_row209_col9\" class=\"data row209 col9\" >73.950000</td>\n",
       "    </tr>\n",
       "    <tr>\n",
       "      <th id=\"T_9064e_level0_row210\" class=\"row_heading level0 row210\" >210</th>\n",
       "      <td id=\"T_9064e_row210_col0\" class=\"data row210 col0\" >30</td>\n",
       "      <td id=\"T_9064e_row210_col1\" class=\"data row210 col1\" >Monday is</td>\n",
       "      <td id=\"T_9064e_row210_col2\" class=\"data row210 col2\" >is</td>\n",
       "      <td id=\"T_9064e_row210_col3\" class=\"data row210 col3\" >9.143000</td>\n",
       "      <td id=\"T_9064e_row210_col4\" class=\"data row210 col4\" >8.084900</td>\n",
       "      <td id=\"T_9064e_row210_col5\" class=\"data row210 col5\" >17.620000</td>\n",
       "      <td id=\"T_9064e_row210_col6\" class=\"data row210 col6\" >36.290000</td>\n",
       "      <td id=\"T_9064e_row210_col7\" class=\"data row210 col7\" >23.470000</td>\n",
       "      <td id=\"T_9064e_row210_col8\" class=\"data row210 col8\" >14.770000</td>\n",
       "      <td id=\"T_9064e_row210_col9\" class=\"data row210 col9\" >74.530000</td>\n",
       "    </tr>\n",
       "    <tr>\n",
       "      <th id=\"T_9064e_level0_row211\" class=\"row_heading level0 row211\" >211</th>\n",
       "      <td id=\"T_9064e_row211_col0\" class=\"data row211 col0\" >30</td>\n",
       "      <td id=\"T_9064e_row211_col1\" class=\"data row211 col1\" >Tuesday is</td>\n",
       "      <td id=\"T_9064e_row211_col2\" class=\"data row211 col2\" >is</td>\n",
       "      <td id=\"T_9064e_row211_col3\" class=\"data row211 col3\" >-58.586800</td>\n",
       "      <td id=\"T_9064e_row211_col4\" class=\"data row211 col4\" >-54.317300</td>\n",
       "      <td id=\"T_9064e_row211_col5\" class=\"data row211 col5\" >2.989000</td>\n",
       "      <td id=\"T_9064e_row211_col6\" class=\"data row211 col6\" >36.290000</td>\n",
       "      <td id=\"T_9064e_row211_col7\" class=\"data row211 col7\" >23.470000</td>\n",
       "      <td id=\"T_9064e_row211_col8\" class=\"data row211 col8\" >14.770000</td>\n",
       "      <td id=\"T_9064e_row211_col9\" class=\"data row211 col9\" >74.530000</td>\n",
       "    </tr>\n",
       "    <tr>\n",
       "      <th id=\"T_9064e_level0_row212\" class=\"row_heading level0 row212\" >212</th>\n",
       "      <td id=\"T_9064e_row212_col0\" class=\"data row212 col0\" >30</td>\n",
       "      <td id=\"T_9064e_row212_col1\" class=\"data row212 col1\" >Wednesday is</td>\n",
       "      <td id=\"T_9064e_row212_col2\" class=\"data row212 col2\" >is</td>\n",
       "      <td id=\"T_9064e_row212_col3\" class=\"data row212 col3\" >-35.938600</td>\n",
       "      <td id=\"T_9064e_row212_col4\" class=\"data row212 col4\" >21.172100</td>\n",
       "      <td id=\"T_9064e_row212_col5\" class=\"data row212 col5\" >5.008800</td>\n",
       "      <td id=\"T_9064e_row212_col6\" class=\"data row212 col6\" >36.290000</td>\n",
       "      <td id=\"T_9064e_row212_col7\" class=\"data row212 col7\" >23.470000</td>\n",
       "      <td id=\"T_9064e_row212_col8\" class=\"data row212 col8\" >14.770000</td>\n",
       "      <td id=\"T_9064e_row212_col9\" class=\"data row212 col9\" >74.530000</td>\n",
       "    </tr>\n",
       "    <tr>\n",
       "      <th id=\"T_9064e_level0_row213\" class=\"row_heading level0 row213\" >213</th>\n",
       "      <td id=\"T_9064e_row213_col0\" class=\"data row213 col0\" >30</td>\n",
       "      <td id=\"T_9064e_row213_col1\" class=\"data row213 col1\" >Thursday is</td>\n",
       "      <td id=\"T_9064e_row213_col2\" class=\"data row213 col2\" >is</td>\n",
       "      <td id=\"T_9064e_row213_col3\" class=\"data row213 col3\" >-11.594900</td>\n",
       "      <td id=\"T_9064e_row213_col4\" class=\"data row213 col4\" >36.703300</td>\n",
       "      <td id=\"T_9064e_row213_col5\" class=\"data row213 col5\" >26.874900</td>\n",
       "      <td id=\"T_9064e_row213_col6\" class=\"data row213 col6\" >36.290000</td>\n",
       "      <td id=\"T_9064e_row213_col7\" class=\"data row213 col7\" >23.470000</td>\n",
       "      <td id=\"T_9064e_row213_col8\" class=\"data row213 col8\" >14.770000</td>\n",
       "      <td id=\"T_9064e_row213_col9\" class=\"data row213 col9\" >74.530000</td>\n",
       "    </tr>\n",
       "    <tr>\n",
       "      <th id=\"T_9064e_level0_row214\" class=\"row_heading level0 row214\" >214</th>\n",
       "      <td id=\"T_9064e_row214_col0\" class=\"data row214 col0\" >30</td>\n",
       "      <td id=\"T_9064e_row214_col1\" class=\"data row214 col1\" >Friday is</td>\n",
       "      <td id=\"T_9064e_row214_col2\" class=\"data row214 col2\" >is</td>\n",
       "      <td id=\"T_9064e_row214_col3\" class=\"data row214 col3\" >-6.979800</td>\n",
       "      <td id=\"T_9064e_row214_col4\" class=\"data row214 col4\" >23.383200</td>\n",
       "      <td id=\"T_9064e_row214_col5\" class=\"data row214 col5\" >-55.378800</td>\n",
       "      <td id=\"T_9064e_row214_col6\" class=\"data row214 col6\" >36.290000</td>\n",
       "      <td id=\"T_9064e_row214_col7\" class=\"data row214 col7\" >23.470000</td>\n",
       "      <td id=\"T_9064e_row214_col8\" class=\"data row214 col8\" >14.770000</td>\n",
       "      <td id=\"T_9064e_row214_col9\" class=\"data row214 col9\" >74.530000</td>\n",
       "    </tr>\n",
       "    <tr>\n",
       "      <th id=\"T_9064e_level0_row215\" class=\"row_heading level0 row215\" >215</th>\n",
       "      <td id=\"T_9064e_row215_col0\" class=\"data row215 col0\" >30</td>\n",
       "      <td id=\"T_9064e_row215_col1\" class=\"data row215 col1\" >Saturday is</td>\n",
       "      <td id=\"T_9064e_row215_col2\" class=\"data row215 col2\" >is</td>\n",
       "      <td id=\"T_9064e_row215_col3\" class=\"data row215 col3\" >49.772600</td>\n",
       "      <td id=\"T_9064e_row215_col4\" class=\"data row215 col4\" >1.959400</td>\n",
       "      <td id=\"T_9064e_row215_col5\" class=\"data row215 col5\" >8.451300</td>\n",
       "      <td id=\"T_9064e_row215_col6\" class=\"data row215 col6\" >36.290000</td>\n",
       "      <td id=\"T_9064e_row215_col7\" class=\"data row215 col7\" >23.470000</td>\n",
       "      <td id=\"T_9064e_row215_col8\" class=\"data row215 col8\" >14.770000</td>\n",
       "      <td id=\"T_9064e_row215_col9\" class=\"data row215 col9\" >74.530000</td>\n",
       "    </tr>\n",
       "    <tr>\n",
       "      <th id=\"T_9064e_level0_row216\" class=\"row_heading level0 row216\" >216</th>\n",
       "      <td id=\"T_9064e_row216_col0\" class=\"data row216 col0\" >30</td>\n",
       "      <td id=\"T_9064e_row216_col1\" class=\"data row216 col1\" >Sunday is</td>\n",
       "      <td id=\"T_9064e_row216_col2\" class=\"data row216 col2\" >is</td>\n",
       "      <td id=\"T_9064e_row216_col3\" class=\"data row216 col3\" >54.184500</td>\n",
       "      <td id=\"T_9064e_row216_col4\" class=\"data row216 col4\" >-36.985600</td>\n",
       "      <td id=\"T_9064e_row216_col5\" class=\"data row216 col5\" >-5.565100</td>\n",
       "      <td id=\"T_9064e_row216_col6\" class=\"data row216 col6\" >36.290000</td>\n",
       "      <td id=\"T_9064e_row216_col7\" class=\"data row216 col7\" >23.470000</td>\n",
       "      <td id=\"T_9064e_row216_col8\" class=\"data row216 col8\" >14.770000</td>\n",
       "      <td id=\"T_9064e_row216_col9\" class=\"data row216 col9\" >74.530000</td>\n",
       "    </tr>\n",
       "    <tr>\n",
       "      <th id=\"T_9064e_level0_row217\" class=\"row_heading level0 row217\" >217</th>\n",
       "      <td id=\"T_9064e_row217_col0\" class=\"data row217 col0\" >31</td>\n",
       "      <td id=\"T_9064e_row217_col1\" class=\"data row217 col1\" >Monday is</td>\n",
       "      <td id=\"T_9064e_row217_col2\" class=\"data row217 col2\" >is</td>\n",
       "      <td id=\"T_9064e_row217_col3\" class=\"data row217 col3\" >8.001600</td>\n",
       "      <td id=\"T_9064e_row217_col4\" class=\"data row217 col4\" >7.384400</td>\n",
       "      <td id=\"T_9064e_row217_col5\" class=\"data row217 col5\" >18.456900</td>\n",
       "      <td id=\"T_9064e_row217_col6\" class=\"data row217 col6\" >36.440000</td>\n",
       "      <td id=\"T_9064e_row217_col7\" class=\"data row217 col7\" >23.200000</td>\n",
       "      <td id=\"T_9064e_row217_col8\" class=\"data row217 col8\" >14.870000</td>\n",
       "      <td id=\"T_9064e_row217_col9\" class=\"data row217 col9\" >74.510000</td>\n",
       "    </tr>\n",
       "    <tr>\n",
       "      <th id=\"T_9064e_level0_row218\" class=\"row_heading level0 row218\" >218</th>\n",
       "      <td id=\"T_9064e_row218_col0\" class=\"data row218 col0\" >31</td>\n",
       "      <td id=\"T_9064e_row218_col1\" class=\"data row218 col1\" >Tuesday is</td>\n",
       "      <td id=\"T_9064e_row218_col2\" class=\"data row218 col2\" >is</td>\n",
       "      <td id=\"T_9064e_row218_col3\" class=\"data row218 col3\" >-58.094600</td>\n",
       "      <td id=\"T_9064e_row218_col4\" class=\"data row218 col4\" >-53.870900</td>\n",
       "      <td id=\"T_9064e_row218_col5\" class=\"data row218 col5\" >2.805400</td>\n",
       "      <td id=\"T_9064e_row218_col6\" class=\"data row218 col6\" >36.440000</td>\n",
       "      <td id=\"T_9064e_row218_col7\" class=\"data row218 col7\" >23.200000</td>\n",
       "      <td id=\"T_9064e_row218_col8\" class=\"data row218 col8\" >14.870000</td>\n",
       "      <td id=\"T_9064e_row218_col9\" class=\"data row218 col9\" >74.510000</td>\n",
       "    </tr>\n",
       "    <tr>\n",
       "      <th id=\"T_9064e_level0_row219\" class=\"row_heading level0 row219\" >219</th>\n",
       "      <td id=\"T_9064e_row219_col0\" class=\"data row219 col0\" >31</td>\n",
       "      <td id=\"T_9064e_row219_col1\" class=\"data row219 col1\" >Wednesday is</td>\n",
       "      <td id=\"T_9064e_row219_col2\" class=\"data row219 col2\" >is</td>\n",
       "      <td id=\"T_9064e_row219_col3\" class=\"data row219 col3\" >-35.508500</td>\n",
       "      <td id=\"T_9064e_row219_col4\" class=\"data row219 col4\" >19.795700</td>\n",
       "      <td id=\"T_9064e_row219_col5\" class=\"data row219 col5\" >4.902000</td>\n",
       "      <td id=\"T_9064e_row219_col6\" class=\"data row219 col6\" >36.440000</td>\n",
       "      <td id=\"T_9064e_row219_col7\" class=\"data row219 col7\" >23.200000</td>\n",
       "      <td id=\"T_9064e_row219_col8\" class=\"data row219 col8\" >14.870000</td>\n",
       "      <td id=\"T_9064e_row219_col9\" class=\"data row219 col9\" >74.510000</td>\n",
       "    </tr>\n",
       "    <tr>\n",
       "      <th id=\"T_9064e_level0_row220\" class=\"row_heading level0 row220\" >220</th>\n",
       "      <td id=\"T_9064e_row220_col0\" class=\"data row220 col0\" >31</td>\n",
       "      <td id=\"T_9064e_row220_col1\" class=\"data row220 col1\" >Thursday is</td>\n",
       "      <td id=\"T_9064e_row220_col2\" class=\"data row220 col2\" >is</td>\n",
       "      <td id=\"T_9064e_row220_col3\" class=\"data row220 col3\" >-11.524000</td>\n",
       "      <td id=\"T_9064e_row220_col4\" class=\"data row220 col4\" >36.026100</td>\n",
       "      <td id=\"T_9064e_row220_col5\" class=\"data row220 col5\" >27.181900</td>\n",
       "      <td id=\"T_9064e_row220_col6\" class=\"data row220 col6\" >36.440000</td>\n",
       "      <td id=\"T_9064e_row220_col7\" class=\"data row220 col7\" >23.200000</td>\n",
       "      <td id=\"T_9064e_row220_col8\" class=\"data row220 col8\" >14.870000</td>\n",
       "      <td id=\"T_9064e_row220_col9\" class=\"data row220 col9\" >74.510000</td>\n",
       "    </tr>\n",
       "    <tr>\n",
       "      <th id=\"T_9064e_level0_row221\" class=\"row_heading level0 row221\" >221</th>\n",
       "      <td id=\"T_9064e_row221_col0\" class=\"data row221 col0\" >31</td>\n",
       "      <td id=\"T_9064e_row221_col1\" class=\"data row221 col1\" >Friday is</td>\n",
       "      <td id=\"T_9064e_row221_col2\" class=\"data row221 col2\" >is</td>\n",
       "      <td id=\"T_9064e_row221_col3\" class=\"data row221 col3\" >-8.144400</td>\n",
       "      <td id=\"T_9064e_row221_col4\" class=\"data row221 col4\" >24.615200</td>\n",
       "      <td id=\"T_9064e_row221_col5\" class=\"data row221 col5\" >-54.999300</td>\n",
       "      <td id=\"T_9064e_row221_col6\" class=\"data row221 col6\" >36.440000</td>\n",
       "      <td id=\"T_9064e_row221_col7\" class=\"data row221 col7\" >23.200000</td>\n",
       "      <td id=\"T_9064e_row221_col8\" class=\"data row221 col8\" >14.870000</td>\n",
       "      <td id=\"T_9064e_row221_col9\" class=\"data row221 col9\" >74.510000</td>\n",
       "    </tr>\n",
       "    <tr>\n",
       "      <th id=\"T_9064e_level0_row222\" class=\"row_heading level0 row222\" >222</th>\n",
       "      <td id=\"T_9064e_row222_col0\" class=\"data row222 col0\" >31</td>\n",
       "      <td id=\"T_9064e_row222_col1\" class=\"data row222 col1\" >Saturday is</td>\n",
       "      <td id=\"T_9064e_row222_col2\" class=\"data row222 col2\" >is</td>\n",
       "      <td id=\"T_9064e_row222_col3\" class=\"data row222 col3\" >50.586000</td>\n",
       "      <td id=\"T_9064e_row222_col4\" class=\"data row222 col4\" >3.318700</td>\n",
       "      <td id=\"T_9064e_row222_col5\" class=\"data row222 col5\" >8.721000</td>\n",
       "      <td id=\"T_9064e_row222_col6\" class=\"data row222 col6\" >36.440000</td>\n",
       "      <td id=\"T_9064e_row222_col7\" class=\"data row222 col7\" >23.200000</td>\n",
       "      <td id=\"T_9064e_row222_col8\" class=\"data row222 col8\" >14.870000</td>\n",
       "      <td id=\"T_9064e_row222_col9\" class=\"data row222 col9\" >74.510000</td>\n",
       "    </tr>\n",
       "    <tr>\n",
       "      <th id=\"T_9064e_level0_row223\" class=\"row_heading level0 row223\" >223</th>\n",
       "      <td id=\"T_9064e_row223_col0\" class=\"data row223 col0\" >31</td>\n",
       "      <td id=\"T_9064e_row223_col1\" class=\"data row223 col1\" >Sunday is</td>\n",
       "      <td id=\"T_9064e_row223_col2\" class=\"data row223 col2\" >is</td>\n",
       "      <td id=\"T_9064e_row223_col3\" class=\"data row223 col3\" >54.683900</td>\n",
       "      <td id=\"T_9064e_row223_col4\" class=\"data row223 col4\" >-37.269100</td>\n",
       "      <td id=\"T_9064e_row223_col5\" class=\"data row223 col5\" >-7.067900</td>\n",
       "      <td id=\"T_9064e_row223_col6\" class=\"data row223 col6\" >36.440000</td>\n",
       "      <td id=\"T_9064e_row223_col7\" class=\"data row223 col7\" >23.200000</td>\n",
       "      <td id=\"T_9064e_row223_col8\" class=\"data row223 col8\" >14.870000</td>\n",
       "      <td id=\"T_9064e_row223_col9\" class=\"data row223 col9\" >74.510000</td>\n",
       "    </tr>\n",
       "  </tbody>\n",
       "</table>\n"
      ],
      "text/plain": [
       "<pandas.io.formats.style.Styler at 0x42d604ad0>"
      ]
     },
     "metadata": {},
     "output_type": "display_data"
    }
   ],
   "source": [
    "\n",
    "# Usage\n",
    "df_aligned = get_pca_values_df_aligned_batched(model, tokenizer)\n",
    "print(\"\\nFull DataFrame:\")\n",
    "display(df_aligned.style.set_table_styles([{'selector': '', 'props': [('max-height', '400px'), ('overflow-y', 'scroll'), ('display', 'block')]}]))"
   ]
  },
  {
   "cell_type": "code",
   "execution_count": 5,
   "metadata": {},
   "outputs": [
    {
     "data": {
      "application/vnd.plotly.v1+json": {
       "config": {
        "plotlyServerURL": "https://plot.ly"
       },
       "data": [
        {
         "legendgroup": "Monday is",
         "marker": {
          "color": "hsl(0.0,70%,50%)",
          "opacity": 0.42967,
          "size": 5
         },
         "mode": "markers",
         "name": "Monday is",
         "showlegend": true,
         "type": "scatter3d",
         "x": [
          -19.0723
         ],
         "y": [
          -48.1088
         ],
         "z": [
          -27.6753
         ]
        },
        {
         "legendgroup": "Tuesday is",
         "marker": {
          "color": "hsl(51.42857142857143,70%,50%)",
          "opacity": 0.42967,
          "size": 5
         },
         "mode": "markers",
         "name": "Tuesday is",
         "showlegend": true,
         "type": "scatter3d",
         "x": [
          -32.2956
         ],
         "y": [
          5.5349
         ],
         "z": [
          16.7518
         ]
        },
        {
         "legendgroup": "Wednesday is",
         "marker": {
          "color": "hsl(102.85714285714286,70%,50%)",
          "opacity": 0.42967,
          "size": 5
         },
         "mode": "markers",
         "name": "Wednesday is",
         "showlegend": true,
         "type": "scatter3d",
         "x": [
          -34.9434
         ],
         "y": [
          2.4121
         ],
         "z": [
          27.2842
         ]
        },
        {
         "legendgroup": "Thursday is",
         "marker": {
          "color": "hsl(154.28571428571428,70%,50%)",
          "opacity": 0.42967,
          "size": 5
         },
         "mode": "markers",
         "name": "Thursday is",
         "showlegend": true,
         "type": "scatter3d",
         "x": [
          -23.1915
         ],
         "y": [
          10.9835
         ],
         "z": [
          11.6487
         ]
        },
        {
         "legendgroup": "Friday is",
         "marker": {
          "color": "hsl(205.71428571428572,70%,50%)",
          "opacity": 0.42967,
          "size": 5
         },
         "mode": "markers",
         "name": "Friday is",
         "showlegend": true,
         "type": "scatter3d",
         "x": [
          7.0455
         ],
         "y": [
          14.3527
         ],
         "z": [
          -48.0048
         ]
        },
        {
         "legendgroup": "Saturday is",
         "marker": {
          "color": "hsl(257.14285714285717,70%,50%)",
          "opacity": 0.42967,
          "size": 5
         },
         "mode": "markers",
         "name": "Saturday is",
         "showlegend": true,
         "type": "scatter3d",
         "x": [
          33.2801
         ],
         "y": [
          42.5242
         ],
         "z": [
          -5.341
         ]
        },
        {
         "legendgroup": "Sunday is",
         "marker": {
          "color": "hsl(308.57142857142856,70%,50%)",
          "opacity": 0.42967,
          "size": 5
         },
         "mode": "markers",
         "name": "Sunday is",
         "showlegend": true,
         "type": "scatter3d",
         "x": [
          69.1773
         ],
         "y": [
          -27.6986
         ],
         "z": [
          25.3364
         ]
        },
        {
         "legendgroup": "Monday is",
         "marker": {
          "color": "hsl(0.0,70%,50%)",
          "opacity": 0.44121999999999995,
          "size": 5
         },
         "mode": "markers",
         "name": "Monday is",
         "showlegend": false,
         "type": "scatter3d",
         "x": [
          -25.4688
         ],
         "y": [
          -39.4841
         ],
         "z": [
          -28.0822
         ]
        },
        {
         "legendgroup": "Tuesday is",
         "marker": {
          "color": "hsl(51.42857142857143,70%,50%)",
          "opacity": 0.44121999999999995,
          "size": 5
         },
         "mode": "markers",
         "name": "Tuesday is",
         "showlegend": false,
         "type": "scatter3d",
         "x": [
          -25.6166
         ],
         "y": [
          -5.838
         ],
         "z": [
          20.5783
         ]
        },
        {
         "legendgroup": "Wednesday is",
         "marker": {
          "color": "hsl(102.85714285714286,70%,50%)",
          "opacity": 0.44121999999999995,
          "size": 5
         },
         "mode": "markers",
         "name": "Wednesday is",
         "showlegend": false,
         "type": "scatter3d",
         "x": [
          -26.429
         ],
         "y": [
          -5.617
         ],
         "z": [
          17.8833
         ]
        },
        {
         "legendgroup": "Thursday is",
         "marker": {
          "color": "hsl(154.28571428571428,70%,50%)",
          "opacity": 0.44121999999999995,
          "size": 5
         },
         "mode": "markers",
         "name": "Thursday is",
         "showlegend": false,
         "type": "scatter3d",
         "x": [
          -20.8165
         ],
         "y": [
          11.399
         ],
         "z": [
          22.9388
         ]
        },
        {
         "legendgroup": "Friday is",
         "marker": {
          "color": "hsl(205.71428571428572,70%,50%)",
          "opacity": 0.44121999999999995,
          "size": 5
         },
         "mode": "markers",
         "name": "Friday is",
         "showlegend": false,
         "type": "scatter3d",
         "x": [
          -4.6054
         ],
         "y": [
          40.75
         ],
         "z": [
          -49.6676
         ]
        },
        {
         "legendgroup": "Saturday is",
         "marker": {
          "color": "hsl(257.14285714285717,70%,50%)",
          "opacity": 0.44121999999999995,
          "size": 5
         },
         "mode": "markers",
         "name": "Saturday is",
         "showlegend": false,
         "type": "scatter3d",
         "x": [
          39.5406
         ],
         "y": [
          33.6176
         ],
         "z": [
          21.0925
         ]
        },
        {
         "legendgroup": "Sunday is",
         "marker": {
          "color": "hsl(308.57142857142856,70%,50%)",
          "opacity": 0.44121999999999995,
          "size": 5
         },
         "mode": "markers",
         "name": "Sunday is",
         "showlegend": false,
         "type": "scatter3d",
         "x": [
          63.3958
         ],
         "y": [
          -34.8275
         ],
         "z": [
          -4.743
         ]
        },
        {
         "legendgroup": "Monday is",
         "marker": {
          "color": "hsl(0.0,70%,50%)",
          "opacity": 0.42994999999999994,
          "size": 5
         },
         "mode": "markers",
         "name": "Monday is",
         "showlegend": false,
         "type": "scatter3d",
         "x": [
          -5.4867
         ],
         "y": [
          -57.1197
         ],
         "z": [
          -10.8499
         ]
        },
        {
         "legendgroup": "Tuesday is",
         "marker": {
          "color": "hsl(51.42857142857143,70%,50%)",
          "opacity": 0.42994999999999994,
          "size": 5
         },
         "mode": "markers",
         "name": "Tuesday is",
         "showlegend": false,
         "type": "scatter3d",
         "x": [
          -27.5538
         ],
         "y": [
          -4.137
         ],
         "z": [
          17.2346
         ]
        },
        {
         "legendgroup": "Wednesday is",
         "marker": {
          "color": "hsl(102.85714285714286,70%,50%)",
          "opacity": 0.42994999999999994,
          "size": 5
         },
         "mode": "markers",
         "name": "Wednesday is",
         "showlegend": false,
         "type": "scatter3d",
         "x": [
          -28.0858
         ],
         "y": [
          -0.1991
         ],
         "z": [
          17.9389
         ]
        },
        {
         "legendgroup": "Thursday is",
         "marker": {
          "color": "hsl(154.28571428571428,70%,50%)",
          "opacity": 0.42994999999999994,
          "size": 5
         },
         "mode": "markers",
         "name": "Thursday is",
         "showlegend": false,
         "type": "scatter3d",
         "x": [
          -28.4476
         ],
         "y": [
          19.6467
         ],
         "z": [
          21.2081
         ]
        },
        {
         "legendgroup": "Friday is",
         "marker": {
          "color": "hsl(205.71428571428572,70%,50%)",
          "opacity": 0.42994999999999994,
          "size": 5
         },
         "mode": "markers",
         "name": "Friday is",
         "showlegend": false,
         "type": "scatter3d",
         "x": [
          -7.1966
         ],
         "y": [
          8.909
         ],
         "z": [
          -58.4202
         ]
        },
        {
         "legendgroup": "Saturday is",
         "marker": {
          "color": "hsl(257.14285714285717,70%,50%)",
          "opacity": 0.42994999999999994,
          "size": 5
         },
         "mode": "markers",
         "name": "Saturday is",
         "showlegend": false,
         "type": "scatter3d",
         "x": [
          25.7245
         ],
         "y": [
          47.3813
         ],
         "z": [
          -4.1129
         ]
        },
        {
         "legendgroup": "Sunday is",
         "marker": {
          "color": "hsl(308.57142857142856,70%,50%)",
          "opacity": 0.42994999999999994,
          "size": 5
         },
         "mode": "markers",
         "name": "Sunday is",
         "showlegend": false,
         "type": "scatter3d",
         "x": [
          71.046
         ],
         "y": [
          -14.4812
         ],
         "z": [
          17.0013
         ]
        },
        {
         "legendgroup": "Monday is",
         "marker": {
          "color": "hsl(0.0,70%,50%)",
          "opacity": 0.42680000000000007,
          "size": 5
         },
         "mode": "markers",
         "name": "Monday is",
         "showlegend": false,
         "type": "scatter3d",
         "x": [
          -17.2759
         ],
         "y": [
          -55.6868
         ],
         "z": [
          -1.4277
         ]
        },
        {
         "legendgroup": "Tuesday is",
         "marker": {
          "color": "hsl(51.42857142857143,70%,50%)",
          "opacity": 0.42680000000000007,
          "size": 5
         },
         "mode": "markers",
         "name": "Tuesday is",
         "showlegend": false,
         "type": "scatter3d",
         "x": [
          -29.6119
         ],
         "y": [
          2.7705
         ],
         "z": [
          26.2931
         ]
        },
        {
         "legendgroup": "Wednesday is",
         "marker": {
          "color": "hsl(102.85714285714286,70%,50%)",
          "opacity": 0.42680000000000007,
          "size": 5
         },
         "mode": "markers",
         "name": "Wednesday is",
         "showlegend": false,
         "type": "scatter3d",
         "x": [
          -27.127
         ],
         "y": [
          7.6246
         ],
         "z": [
          17.3966
         ]
        },
        {
         "legendgroup": "Thursday is",
         "marker": {
          "color": "hsl(154.28571428571428,70%,50%)",
          "opacity": 0.42680000000000007,
          "size": 5
         },
         "mode": "markers",
         "name": "Thursday is",
         "showlegend": false,
         "type": "scatter3d",
         "x": [
          -20.5132
         ],
         "y": [
          25.4744
         ],
         "z": [
          6.2562
         ]
        },
        {
         "legendgroup": "Friday is",
         "marker": {
          "color": "hsl(205.71428571428572,70%,50%)",
          "opacity": 0.42680000000000007,
          "size": 5
         },
         "mode": "markers",
         "name": "Friday is",
         "showlegend": false,
         "type": "scatter3d",
         "x": [
          -4.3137
         ],
         "y": [
          -2.522
         ],
         "z": [
          -61.6458
         ]
        },
        {
         "legendgroup": "Saturday is",
         "marker": {
          "color": "hsl(257.14285714285717,70%,50%)",
          "opacity": 0.42680000000000007,
          "size": 5
         },
         "mode": "markers",
         "name": "Saturday is",
         "showlegend": false,
         "type": "scatter3d",
         "x": [
          30.1195
         ],
         "y": [
          43.9527
         ],
         "z": [
          -4.8212
         ]
        },
        {
         "legendgroup": "Sunday is",
         "marker": {
          "color": "hsl(308.57142857142856,70%,50%)",
          "opacity": 0.42680000000000007,
          "size": 5
         },
         "mode": "markers",
         "name": "Sunday is",
         "showlegend": false,
         "type": "scatter3d",
         "x": [
          68.7222
         ],
         "y": [
          -21.6133
         ],
         "z": [
          17.9487
         ]
        },
        {
         "legendgroup": "Monday is",
         "marker": {
          "color": "hsl(0.0,70%,50%)",
          "opacity": 0.41000000000000003,
          "size": 5
         },
         "mode": "markers",
         "name": "Monday is",
         "showlegend": false,
         "type": "scatter3d",
         "x": [
          -6.4167
         ],
         "y": [
          -54.9288
         ],
         "z": [
          -15.8415
         ]
        },
        {
         "legendgroup": "Tuesday is",
         "marker": {
          "color": "hsl(51.42857142857143,70%,50%)",
          "opacity": 0.41000000000000003,
          "size": 5
         },
         "mode": "markers",
         "name": "Tuesday is",
         "showlegend": false,
         "type": "scatter3d",
         "x": [
          -35.2383
         ],
         "y": [
          -9.5583
         ],
         "z": [
          26.1652
         ]
        },
        {
         "legendgroup": "Wednesday is",
         "marker": {
          "color": "hsl(102.85714285714286,70%,50%)",
          "opacity": 0.41000000000000003,
          "size": 5
         },
         "mode": "markers",
         "name": "Wednesday is",
         "showlegend": false,
         "type": "scatter3d",
         "x": [
          -33.3954
         ],
         "y": [
          5.6406
         ],
         "z": [
          16.7636
         ]
        },
        {
         "legendgroup": "Thursday is",
         "marker": {
          "color": "hsl(154.28571428571428,70%,50%)",
          "opacity": 0.41000000000000003,
          "size": 5
         },
         "mode": "markers",
         "name": "Thursday is",
         "showlegend": false,
         "type": "scatter3d",
         "x": [
          -22.6396
         ],
         "y": [
          25.4484
         ],
         "z": [
          7.0946
         ]
        },
        {
         "legendgroup": "Friday is",
         "marker": {
          "color": "hsl(205.71428571428572,70%,50%)",
          "opacity": 0.41000000000000003,
          "size": 5
         },
         "mode": "markers",
         "name": "Friday is",
         "showlegend": false,
         "type": "scatter3d",
         "x": [
          2.1945
         ],
         "y": [
          6.0538
         ],
         "z": [
          -59.219
         ]
        },
        {
         "legendgroup": "Saturday is",
         "marker": {
          "color": "hsl(257.14285714285717,70%,50%)",
          "opacity": 0.41000000000000003,
          "size": 5
         },
         "mode": "markers",
         "name": "Saturday is",
         "showlegend": false,
         "type": "scatter3d",
         "x": [
          29.4105
         ],
         "y": [
          47.5836
         ],
         "z": [
          -0.4413
         ]
        },
        {
         "legendgroup": "Sunday is",
         "marker": {
          "color": "hsl(308.57142857142856,70%,50%)",
          "opacity": 0.41000000000000003,
          "size": 5
         },
         "mode": "markers",
         "name": "Sunday is",
         "showlegend": false,
         "type": "scatter3d",
         "x": [
          66.085
         ],
         "y": [
          -20.2393
         ],
         "z": [
          25.4785
         ]
        },
        {
         "legendgroup": "Monday is",
         "marker": {
          "color": "hsl(0.0,70%,50%)",
          "opacity": 0.37248,
          "size": 5
         },
         "mode": "markers",
         "name": "Monday is",
         "showlegend": false,
         "type": "scatter3d",
         "x": [
          -20.3566
         ],
         "y": [
          -42.1754
         ],
         "z": [
          -28.1529
         ]
        },
        {
         "legendgroup": "Tuesday is",
         "marker": {
          "color": "hsl(51.42857142857143,70%,50%)",
          "opacity": 0.37248,
          "size": 5
         },
         "mode": "markers",
         "name": "Tuesday is",
         "showlegend": false,
         "type": "scatter3d",
         "x": [
          -29.3089
         ],
         "y": [
          -26.274
         ],
         "z": [
          22.1585
         ]
        },
        {
         "legendgroup": "Wednesday is",
         "marker": {
          "color": "hsl(102.85714285714286,70%,50%)",
          "opacity": 0.37248,
          "size": 5
         },
         "mode": "markers",
         "name": "Wednesday is",
         "showlegend": false,
         "type": "scatter3d",
         "x": [
          -29.7614
         ],
         "y": [
          6.1025
         ],
         "z": [
          24.5461
         ]
        },
        {
         "legendgroup": "Thursday is",
         "marker": {
          "color": "hsl(154.28571428571428,70%,50%)",
          "opacity": 0.37248,
          "size": 5
         },
         "mode": "markers",
         "name": "Thursday is",
         "showlegend": false,
         "type": "scatter3d",
         "x": [
          -20.4405
         ],
         "y": [
          17.6554
         ],
         "z": [
          19.3864
         ]
        },
        {
         "legendgroup": "Friday is",
         "marker": {
          "color": "hsl(205.71428571428572,70%,50%)",
          "opacity": 0.37248,
          "size": 5
         },
         "mode": "markers",
         "name": "Friday is",
         "showlegend": false,
         "type": "scatter3d",
         "x": [
          -19.7048
         ],
         "y": [
          37.4282
         ],
         "z": [
          -46.0954
         ]
        },
        {
         "legendgroup": "Saturday is",
         "marker": {
          "color": "hsl(257.14285714285717,70%,50%)",
          "opacity": 0.37248,
          "size": 5
         },
         "mode": "markers",
         "name": "Saturday is",
         "showlegend": false,
         "type": "scatter3d",
         "x": [
          48.5546
         ],
         "y": [
          38.4817
         ],
         "z": [
          12.6641
         ]
        },
        {
         "legendgroup": "Sunday is",
         "marker": {
          "color": "hsl(308.57142857142856,70%,50%)",
          "opacity": 0.37248,
          "size": 5
         },
         "mode": "markers",
         "name": "Sunday is",
         "showlegend": false,
         "type": "scatter3d",
         "x": [
          71.0176
         ],
         "y": [
          -31.2183
         ],
         "z": [
          -4.5068
         ]
        },
        {
         "legendgroup": "Monday is",
         "marker": {
          "color": "hsl(0.0,70%,50%)",
          "opacity": 0.37338999999999994,
          "size": 5
         },
         "mode": "markers",
         "name": "Monday is",
         "showlegend": false,
         "type": "scatter3d",
         "x": [
          -15.0449
         ],
         "y": [
          -45.2065
         ],
         "z": [
          -26.4485
         ]
        },
        {
         "legendgroup": "Tuesday is",
         "marker": {
          "color": "hsl(51.42857142857143,70%,50%)",
          "opacity": 0.37338999999999994,
          "size": 5
         },
         "mode": "markers",
         "name": "Tuesday is",
         "showlegend": false,
         "type": "scatter3d",
         "x": [
          -24.6282
         ],
         "y": [
          -29.7498
         ],
         "z": [
          28.103
         ]
        },
        {
         "legendgroup": "Wednesday is",
         "marker": {
          "color": "hsl(102.85714285714286,70%,50%)",
          "opacity": 0.37338999999999994,
          "size": 5
         },
         "mode": "markers",
         "name": "Wednesday is",
         "showlegend": false,
         "type": "scatter3d",
         "x": [
          -33.4941
         ],
         "y": [
          10.9473
         ],
         "z": [
          21.6451
         ]
        },
        {
         "legendgroup": "Thursday is",
         "marker": {
          "color": "hsl(154.28571428571428,70%,50%)",
          "opacity": 0.37338999999999994,
          "size": 5
         },
         "mode": "markers",
         "name": "Thursday is",
         "showlegend": false,
         "type": "scatter3d",
         "x": [
          -23.4366
         ],
         "y": [
          19.5058
         ],
         "z": [
          15.6323
         ]
        },
        {
         "legendgroup": "Friday is",
         "marker": {
          "color": "hsl(205.71428571428572,70%,50%)",
          "opacity": 0.37338999999999994,
          "size": 5
         },
         "mode": "markers",
         "name": "Friday is",
         "showlegend": false,
         "type": "scatter3d",
         "x": [
          -23.2957
         ],
         "y": [
          28.2516
         ],
         "z": [
          -46.4517
         ]
        },
        {
         "legendgroup": "Saturday is",
         "marker": {
          "color": "hsl(257.14285714285717,70%,50%)",
          "opacity": 0.37338999999999994,
          "size": 5
         },
         "mode": "markers",
         "name": "Saturday is",
         "showlegend": false,
         "type": "scatter3d",
         "x": [
          46.1409
         ],
         "y": [
          40.8994
         ],
         "z": [
          9.0961
         ]
        },
        {
         "legendgroup": "Sunday is",
         "marker": {
          "color": "hsl(308.57142857142856,70%,50%)",
          "opacity": 0.37338999999999994,
          "size": 5
         },
         "mode": "markers",
         "name": "Sunday is",
         "showlegend": false,
         "type": "scatter3d",
         "x": [
          73.7586
         ],
         "y": [
          -24.6478
         ],
         "z": [
          -1.5763
         ]
        },
        {
         "legendgroup": "Monday is",
         "marker": {
          "color": "hsl(0.0,70%,50%)",
          "opacity": 0.37325,
          "size": 5
         },
         "mode": "markers",
         "name": "Monday is",
         "showlegend": false,
         "type": "scatter3d",
         "x": [
          -17.018
         ],
         "y": [
          -44.0602
         ],
         "z": [
          -25.3957
         ]
        },
        {
         "legendgroup": "Tuesday is",
         "marker": {
          "color": "hsl(51.42857142857143,70%,50%)",
          "opacity": 0.37325,
          "size": 5
         },
         "mode": "markers",
         "name": "Tuesday is",
         "showlegend": false,
         "type": "scatter3d",
         "x": [
          -26.0838
         ],
         "y": [
          -30.0478
         ],
         "z": [
          27.8764
         ]
        },
        {
         "legendgroup": "Wednesday is",
         "marker": {
          "color": "hsl(102.85714285714286,70%,50%)",
          "opacity": 0.37325,
          "size": 5
         },
         "mode": "markers",
         "name": "Wednesday is",
         "showlegend": false,
         "type": "scatter3d",
         "x": [
          -35.4382
         ],
         "y": [
          13.4215
         ],
         "z": [
          21.0933
         ]
        },
        {
         "legendgroup": "Thursday is",
         "marker": {
          "color": "hsl(154.28571428571428,70%,50%)",
          "opacity": 0.37325,
          "size": 5
         },
         "mode": "markers",
         "name": "Thursday is",
         "showlegend": false,
         "type": "scatter3d",
         "x": [
          -25.1256
         ],
         "y": [
          21.8772
         ],
         "z": [
          12.9853
         ]
        },
        {
         "legendgroup": "Friday is",
         "marker": {
          "color": "hsl(205.71428571428572,70%,50%)",
          "opacity": 0.37325,
          "size": 5
         },
         "mode": "markers",
         "name": "Friday is",
         "showlegend": false,
         "type": "scatter3d",
         "x": [
          -20.2595
         ],
         "y": [
          26.3019
         ],
         "z": [
          -45.6646
         ]
        },
        {
         "legendgroup": "Saturday is",
         "marker": {
          "color": "hsl(257.14285714285717,70%,50%)",
          "opacity": 0.37325,
          "size": 5
         },
         "mode": "markers",
         "name": "Saturday is",
         "showlegend": false,
         "type": "scatter3d",
         "x": [
          49.5894
         ],
         "y": [
          36.5765
         ],
         "z": [
          9.4272
         ]
        },
        {
         "legendgroup": "Sunday is",
         "marker": {
          "color": "hsl(308.57142857142856,70%,50%)",
          "opacity": 0.37325,
          "size": 5
         },
         "mode": "markers",
         "name": "Sunday is",
         "showlegend": false,
         "type": "scatter3d",
         "x": [
          74.3357
         ],
         "y": [
          -24.0692
         ],
         "z": [
          -0.3219
         ]
        },
        {
         "legendgroup": "Monday is",
         "marker": {
          "color": "hsl(0.0,70%,50%)",
          "opacity": 0.36548,
          "size": 5
         },
         "mode": "markers",
         "name": "Monday is",
         "showlegend": false,
         "type": "scatter3d",
         "x": [
          -15.159
         ],
         "y": [
          -42.1157
         ],
         "z": [
          -30.8966
         ]
        },
        {
         "legendgroup": "Tuesday is",
         "marker": {
          "color": "hsl(51.42857142857143,70%,50%)",
          "opacity": 0.36548,
          "size": 5
         },
         "mode": "markers",
         "name": "Tuesday is",
         "showlegend": false,
         "type": "scatter3d",
         "x": [
          -29.0271
         ],
         "y": [
          -33.0616
         ],
         "z": [
          25.9578
         ]
        },
        {
         "legendgroup": "Wednesday is",
         "marker": {
          "color": "hsl(102.85714285714286,70%,50%)",
          "opacity": 0.36548,
          "size": 5
         },
         "mode": "markers",
         "name": "Wednesday is",
         "showlegend": false,
         "type": "scatter3d",
         "x": [
          -38.4342
         ],
         "y": [
          13.8307
         ],
         "z": [
          22.2214
         ]
        },
        {
         "legendgroup": "Thursday is",
         "marker": {
          "color": "hsl(154.28571428571428,70%,50%)",
          "opacity": 0.36548,
          "size": 5
         },
         "mode": "markers",
         "name": "Thursday is",
         "showlegend": false,
         "type": "scatter3d",
         "x": [
          -27.4941
         ],
         "y": [
          20.179
         ],
         "z": [
          9.9826
         ]
        },
        {
         "legendgroup": "Friday is",
         "marker": {
          "color": "hsl(205.71428571428572,70%,50%)",
          "opacity": 0.36548,
          "size": 5
         },
         "mode": "markers",
         "name": "Friday is",
         "showlegend": false,
         "type": "scatter3d",
         "x": [
          -14.9997
         ],
         "y": [
          31.8171
         ],
         "z": [
          -41.6967
         ]
        },
        {
         "legendgroup": "Saturday is",
         "marker": {
          "color": "hsl(257.14285714285717,70%,50%)",
          "opacity": 0.36548,
          "size": 5
         },
         "mode": "markers",
         "name": "Saturday is",
         "showlegend": false,
         "type": "scatter3d",
         "x": [
          51.8123
         ],
         "y": [
          33.5002
         ],
         "z": [
          12.5479
         ]
        },
        {
         "legendgroup": "Sunday is",
         "marker": {
          "color": "hsl(308.57142857142856,70%,50%)",
          "opacity": 0.36548,
          "size": 5
         },
         "mode": "markers",
         "name": "Sunday is",
         "showlegend": false,
         "type": "scatter3d",
         "x": [
          73.3018
         ],
         "y": [
          -24.1497
         ],
         "z": [
          1.8835
         ]
        },
        {
         "legendgroup": "Monday is",
         "marker": {
          "color": "hsl(0.0,70%,50%)",
          "opacity": 0.37234000000000006,
          "size": 5
         },
         "mode": "markers",
         "name": "Monday is",
         "showlegend": false,
         "type": "scatter3d",
         "x": [
          -14.2723
         ],
         "y": [
          -41.4633
         ],
         "z": [
          -32.5395
         ]
        },
        {
         "legendgroup": "Tuesday is",
         "marker": {
          "color": "hsl(51.42857142857143,70%,50%)",
          "opacity": 0.37234000000000006,
          "size": 5
         },
         "mode": "markers",
         "name": "Tuesday is",
         "showlegend": false,
         "type": "scatter3d",
         "x": [
          -27.8103
         ],
         "y": [
          -36.365
         ],
         "z": [
          29.7732
         ]
        },
        {
         "legendgroup": "Wednesday is",
         "marker": {
          "color": "hsl(102.85714285714286,70%,50%)",
          "opacity": 0.37234000000000006,
          "size": 5
         },
         "mode": "markers",
         "name": "Wednesday is",
         "showlegend": false,
         "type": "scatter3d",
         "x": [
          -37.8676
         ],
         "y": [
          14.634
         ],
         "z": [
          21.4754
         ]
        },
        {
         "legendgroup": "Thursday is",
         "marker": {
          "color": "hsl(154.28571428571428,70%,50%)",
          "opacity": 0.37234000000000006,
          "size": 5
         },
         "mode": "markers",
         "name": "Thursday is",
         "showlegend": false,
         "type": "scatter3d",
         "x": [
          -26.8451
         ],
         "y": [
          21.3347
         ],
         "z": [
          5.4536
         ]
        },
        {
         "legendgroup": "Friday is",
         "marker": {
          "color": "hsl(205.71428571428572,70%,50%)",
          "opacity": 0.37234000000000006,
          "size": 5
         },
         "mode": "markers",
         "name": "Friday is",
         "showlegend": false,
         "type": "scatter3d",
         "x": [
          -16.3242
         ],
         "y": [
          30.8776
         ],
         "z": [
          -38.3283
         ]
        },
        {
         "legendgroup": "Saturday is",
         "marker": {
          "color": "hsl(257.14285714285717,70%,50%)",
          "opacity": 0.37234000000000006,
          "size": 5
         },
         "mode": "markers",
         "name": "Saturday is",
         "showlegend": false,
         "type": "scatter3d",
         "x": [
          49.7944
         ],
         "y": [
          33.0385
         ],
         "z": [
          14.4988
         ]
        },
        {
         "legendgroup": "Sunday is",
         "marker": {
          "color": "hsl(308.57142857142856,70%,50%)",
          "opacity": 0.37234000000000006,
          "size": 5
         },
         "mode": "markers",
         "name": "Sunday is",
         "showlegend": false,
         "type": "scatter3d",
         "x": [
          73.3252
         ],
         "y": [
          -22.0565
         ],
         "z": [
          -0.3332
         ]
        },
        {
         "legendgroup": "Monday is",
         "marker": {
          "color": "hsl(0.0,70%,50%)",
          "opacity": 0.37563,
          "size": 5
         },
         "mode": "markers",
         "name": "Monday is",
         "showlegend": false,
         "type": "scatter3d",
         "x": [
          -10.448
         ],
         "y": [
          -34.5202
         ],
         "z": [
          -41.6962
         ]
        },
        {
         "legendgroup": "Tuesday is",
         "marker": {
          "color": "hsl(51.42857142857143,70%,50%)",
          "opacity": 0.37563,
          "size": 5
         },
         "mode": "markers",
         "name": "Tuesday is",
         "showlegend": false,
         "type": "scatter3d",
         "x": [
          -27.7336
         ],
         "y": [
          -48.5546
         ],
         "z": [
          30.7242
         ]
        },
        {
         "legendgroup": "Wednesday is",
         "marker": {
          "color": "hsl(102.85714285714286,70%,50%)",
          "opacity": 0.37563,
          "size": 5
         },
         "mode": "markers",
         "name": "Wednesday is",
         "showlegend": false,
         "type": "scatter3d",
         "x": [
          -40.8893
         ],
         "y": [
          17.0212
         ],
         "z": [
          21.3485
         ]
        },
        {
         "legendgroup": "Thursday is",
         "marker": {
          "color": "hsl(154.28571428571428,70%,50%)",
          "opacity": 0.37563,
          "size": 5
         },
         "mode": "markers",
         "name": "Thursday is",
         "showlegend": false,
         "type": "scatter3d",
         "x": [
          -26.4417
         ],
         "y": [
          27.0385
         ],
         "z": [
          -1.8322
         ]
        },
        {
         "legendgroup": "Friday is",
         "marker": {
          "color": "hsl(205.71428571428572,70%,50%)",
          "opacity": 0.37563,
          "size": 5
         },
         "mode": "markers",
         "name": "Friday is",
         "showlegend": false,
         "type": "scatter3d",
         "x": [
          -12.801
         ],
         "y": [
          27.4997
         ],
         "z": [
          -27.0492
         ]
        },
        {
         "legendgroup": "Saturday is",
         "marker": {
          "color": "hsl(257.14285714285717,70%,50%)",
          "opacity": 0.37563,
          "size": 5
         },
         "mode": "markers",
         "name": "Saturday is",
         "showlegend": false,
         "type": "scatter3d",
         "x": [
          46.2562
         ],
         "y": [
          30.0023
         ],
         "z": [
          17.0048
         ]
        },
        {
         "legendgroup": "Sunday is",
         "marker": {
          "color": "hsl(308.57142857142856,70%,50%)",
          "opacity": 0.37563,
          "size": 5
         },
         "mode": "markers",
         "name": "Sunday is",
         "showlegend": false,
         "type": "scatter3d",
         "x": [
          72.0574
         ],
         "y": [
          -18.4868
         ],
         "z": [
          1.5001
         ]
        },
        {
         "legendgroup": "Monday is",
         "marker": {
          "color": "hsl(0.0,70%,50%)",
          "opacity": 0.38704,
          "size": 5
         },
         "mode": "markers",
         "name": "Monday is",
         "showlegend": false,
         "type": "scatter3d",
         "x": [
          -6.4169
         ],
         "y": [
          -23.5278
         ],
         "z": [
          -51.6815
         ]
        },
        {
         "legendgroup": "Tuesday is",
         "marker": {
          "color": "hsl(51.42857142857143,70%,50%)",
          "opacity": 0.38704,
          "size": 5
         },
         "mode": "markers",
         "name": "Tuesday is",
         "showlegend": false,
         "type": "scatter3d",
         "x": [
          -24.7277
         ],
         "y": [
          -56.7171
         ],
         "z": [
          26.6388
         ]
        },
        {
         "legendgroup": "Wednesday is",
         "marker": {
          "color": "hsl(102.85714285714286,70%,50%)",
          "opacity": 0.38704,
          "size": 5
         },
         "mode": "markers",
         "name": "Wednesday is",
         "showlegend": false,
         "type": "scatter3d",
         "x": [
          -40.3343
         ],
         "y": [
          13.672
         ],
         "z": [
          19.6287
         ]
        },
        {
         "legendgroup": "Thursday is",
         "marker": {
          "color": "hsl(154.28571428571428,70%,50%)",
          "opacity": 0.38704,
          "size": 5
         },
         "mode": "markers",
         "name": "Thursday is",
         "showlegend": false,
         "type": "scatter3d",
         "x": [
          -27.3496
         ],
         "y": [
          25.0231
         ],
         "z": [
          0.9762
         ]
        },
        {
         "legendgroup": "Friday is",
         "marker": {
          "color": "hsl(205.71428571428572,70%,50%)",
          "opacity": 0.38704,
          "size": 5
         },
         "mode": "markers",
         "name": "Friday is",
         "showlegend": false,
         "type": "scatter3d",
         "x": [
          -16.3022
         ],
         "y": [
          28.3292
         ],
         "z": [
          -14.4429
         ]
        },
        {
         "legendgroup": "Saturday is",
         "marker": {
          "color": "hsl(257.14285714285717,70%,50%)",
          "opacity": 0.38704,
          "size": 5
         },
         "mode": "markers",
         "name": "Saturday is",
         "showlegend": false,
         "type": "scatter3d",
         "x": [
          43.7673
         ],
         "y": [
          28.9633
         ],
         "z": [
          15.8484
         ]
        },
        {
         "legendgroup": "Sunday is",
         "marker": {
          "color": "hsl(308.57142857142856,70%,50%)",
          "opacity": 0.38704,
          "size": 5
         },
         "mode": "markers",
         "name": "Sunday is",
         "showlegend": false,
         "type": "scatter3d",
         "x": [
          71.3634
         ],
         "y": [
          -15.7427
         ],
         "z": [
          3.0323
         ]
        },
        {
         "legendgroup": "Monday is",
         "marker": {
          "color": "hsl(0.0,70%,50%)",
          "opacity": 0.36625,
          "size": 5
         },
         "mode": "markers",
         "name": "Monday is",
         "showlegend": false,
         "type": "scatter3d",
         "x": [
          3.2465
         ],
         "y": [
          -7.5985
         ],
         "z": [
          58.4629
         ]
        },
        {
         "legendgroup": "Tuesday is",
         "marker": {
          "color": "hsl(51.42857142857143,70%,50%)",
          "opacity": 0.36625,
          "size": 5
         },
         "mode": "markers",
         "name": "Tuesday is",
         "showlegend": false,
         "type": "scatter3d",
         "x": [
          -28.2908
         ],
         "y": [
          -65.1404
         ],
         "z": [
          -14.5566
         ]
        },
        {
         "legendgroup": "Wednesday is",
         "marker": {
          "color": "hsl(102.85714285714286,70%,50%)",
          "opacity": 0.36625,
          "size": 5
         },
         "mode": "markers",
         "name": "Wednesday is",
         "showlegend": false,
         "type": "scatter3d",
         "x": [
          -46.4602
         ],
         "y": [
          12.3635
         ],
         "z": [
          -18.8448
         ]
        },
        {
         "legendgroup": "Thursday is",
         "marker": {
          "color": "hsl(154.28571428571428,70%,50%)",
          "opacity": 0.36625,
          "size": 5
         },
         "mode": "markers",
         "name": "Thursday is",
         "showlegend": false,
         "type": "scatter3d",
         "x": [
          -23.9403
         ],
         "y": [
          30.7364
         ],
         "z": [
          2.03
         ]
        },
        {
         "legendgroup": "Friday is",
         "marker": {
          "color": "hsl(205.71428571428572,70%,50%)",
          "opacity": 0.36625,
          "size": 5
         },
         "mode": "markers",
         "name": "Friday is",
         "showlegend": false,
         "type": "scatter3d",
         "x": [
          -18.0597
         ],
         "y": [
          21.9925
         ],
         "z": [
          0.6043
         ]
        },
        {
         "legendgroup": "Saturday is",
         "marker": {
          "color": "hsl(257.14285714285717,70%,50%)",
          "opacity": 0.36625,
          "size": 5
         },
         "mode": "markers",
         "name": "Saturday is",
         "showlegend": false,
         "type": "scatter3d",
         "x": [
          43.5474
         ],
         "y": [
          24.4496
         ],
         "z": [
          -19.6852
         ]
        },
        {
         "legendgroup": "Sunday is",
         "marker": {
          "color": "hsl(308.57142857142856,70%,50%)",
          "opacity": 0.36625,
          "size": 5
         },
         "mode": "markers",
         "name": "Sunday is",
         "showlegend": false,
         "type": "scatter3d",
         "x": [
          69.9571
         ],
         "y": [
          -16.8031
         ],
         "z": [
          -8.0106
         ]
        },
        {
         "legendgroup": "Monday is",
         "marker": {
          "color": "hsl(0.0,70%,50%)",
          "opacity": 0.36506,
          "size": 5
         },
         "mode": "markers",
         "name": "Monday is",
         "showlegend": false,
         "type": "scatter3d",
         "x": [
          6.0288
         ],
         "y": [
          -4.5882
         ],
         "z": [
          58.7209
         ]
        },
        {
         "legendgroup": "Tuesday is",
         "marker": {
          "color": "hsl(51.42857142857143,70%,50%)",
          "opacity": 0.36506,
          "size": 5
         },
         "mode": "markers",
         "name": "Tuesday is",
         "showlegend": false,
         "type": "scatter3d",
         "x": [
          -34.7887
         ],
         "y": [
          -65.0215
         ],
         "z": [
          -10.9664
         ]
        },
        {
         "legendgroup": "Wednesday is",
         "marker": {
          "color": "hsl(102.85714285714286,70%,50%)",
          "opacity": 0.36506,
          "size": 5
         },
         "mode": "markers",
         "name": "Wednesday is",
         "showlegend": false,
         "type": "scatter3d",
         "x": [
          -45.49
         ],
         "y": [
          13.2474
         ],
         "z": [
          -18.5387
         ]
        },
        {
         "legendgroup": "Thursday is",
         "marker": {
          "color": "hsl(154.28571428571428,70%,50%)",
          "opacity": 0.36506,
          "size": 5
         },
         "mode": "markers",
         "name": "Thursday is",
         "showlegend": false,
         "type": "scatter3d",
         "x": [
          -20.8228
         ],
         "y": [
          33.8055
         ],
         "z": [
          1.2183
         ]
        },
        {
         "legendgroup": "Friday is",
         "marker": {
          "color": "hsl(205.71428571428572,70%,50%)",
          "opacity": 0.36506,
          "size": 5
         },
         "mode": "markers",
         "name": "Friday is",
         "showlegend": false,
         "type": "scatter3d",
         "x": [
          -16.4578
         ],
         "y": [
          23.7914
         ],
         "z": [
          0.1433
         ]
        },
        {
         "legendgroup": "Saturday is",
         "marker": {
          "color": "hsl(257.14285714285717,70%,50%)",
          "opacity": 0.36506,
          "size": 5
         },
         "mode": "markers",
         "name": "Saturday is",
         "showlegend": false,
         "type": "scatter3d",
         "x": [
          44.0329
         ],
         "y": [
          19.3022
         ],
         "z": [
          -21.8529
         ]
        },
        {
         "legendgroup": "Sunday is",
         "marker": {
          "color": "hsl(308.57142857142856,70%,50%)",
          "opacity": 0.36506,
          "size": 5
         },
         "mode": "markers",
         "name": "Sunday is",
         "showlegend": false,
         "type": "scatter3d",
         "x": [
          67.4976
         ],
         "y": [
          -20.5368
         ],
         "z": [
          -8.7244
         ]
        },
        {
         "legendgroup": "Monday is",
         "marker": {
          "color": "hsl(0.0,70%,50%)",
          "opacity": 0.35967,
          "size": 5
         },
         "mode": "markers",
         "name": "Monday is",
         "showlegend": false,
         "type": "scatter3d",
         "x": [
          9.6013
         ],
         "y": [
          3.8136
         ],
         "z": [
          59.2977
         ]
        },
        {
         "legendgroup": "Tuesday is",
         "marker": {
          "color": "hsl(51.42857142857143,70%,50%)",
          "opacity": 0.35967,
          "size": 5
         },
         "mode": "markers",
         "name": "Tuesday is",
         "showlegend": false,
         "type": "scatter3d",
         "x": [
          -40.4801
         ],
         "y": [
          -63.2656
         ],
         "z": [
          -2.9664
         ]
        },
        {
         "legendgroup": "Wednesday is",
         "marker": {
          "color": "hsl(102.85714285714286,70%,50%)",
          "opacity": 0.35967,
          "size": 5
         },
         "mode": "markers",
         "name": "Wednesday is",
         "showlegend": false,
         "type": "scatter3d",
         "x": [
          -45.6094
         ],
         "y": [
          11.8468
         ],
         "z": [
          -17.5606
         ]
        },
        {
         "legendgroup": "Thursday is",
         "marker": {
          "color": "hsl(154.28571428571428,70%,50%)",
          "opacity": 0.35967,
          "size": 5
         },
         "mode": "markers",
         "name": "Thursday is",
         "showlegend": false,
         "type": "scatter3d",
         "x": [
          -15.1877
         ],
         "y": [
          36.6751
         ],
         "z": [
          4.1828
         ]
        },
        {
         "legendgroup": "Friday is",
         "marker": {
          "color": "hsl(205.71428571428572,70%,50%)",
          "opacity": 0.35967,
          "size": 5
         },
         "mode": "markers",
         "name": "Friday is",
         "showlegend": false,
         "type": "scatter3d",
         "x": [
          -18.2906
         ],
         "y": [
          24.2889
         ],
         "z": [
          -11.1081
         ]
        },
        {
         "legendgroup": "Saturday is",
         "marker": {
          "color": "hsl(257.14285714285717,70%,50%)",
          "opacity": 0.35967,
          "size": 5
         },
         "mode": "markers",
         "name": "Saturday is",
         "showlegend": false,
         "type": "scatter3d",
         "x": [
          46.9597
         ],
         "y": [
          13.3558
         ],
         "z": [
          -23.4615
         ]
        },
        {
         "legendgroup": "Sunday is",
         "marker": {
          "color": "hsl(308.57142857142856,70%,50%)",
          "opacity": 0.35967,
          "size": 5
         },
         "mode": "markers",
         "name": "Sunday is",
         "showlegend": false,
         "type": "scatter3d",
         "x": [
          63.0069
         ],
         "y": [
          -26.7146
         ],
         "z": [
          -8.3839
         ]
        },
        {
         "legendgroup": "Monday is",
         "marker": {
          "color": "hsl(0.0,70%,50%)",
          "opacity": 0.36296,
          "size": 5
         },
         "mode": "markers",
         "name": "Monday is",
         "showlegend": false,
         "type": "scatter3d",
         "x": [
          14.9166
         ],
         "y": [
          10.7394
         ],
         "z": [
          57.7364
         ]
        },
        {
         "legendgroup": "Tuesday is",
         "marker": {
          "color": "hsl(51.42857142857143,70%,50%)",
          "opacity": 0.36296,
          "size": 5
         },
         "mode": "markers",
         "name": "Tuesday is",
         "showlegend": false,
         "type": "scatter3d",
         "x": [
          -47.2229
         ],
         "y": [
          -59.0499
         ],
         "z": [
          4.0101
         ]
        },
        {
         "legendgroup": "Wednesday is",
         "marker": {
          "color": "hsl(102.85714285714286,70%,50%)",
          "opacity": 0.36296,
          "size": 5
         },
         "mode": "markers",
         "name": "Wednesday is",
         "showlegend": false,
         "type": "scatter3d",
         "x": [
          -45.7368
         ],
         "y": [
          12.8025
         ],
         "z": [
          -18.4962
         ]
        },
        {
         "legendgroup": "Thursday is",
         "marker": {
          "color": "hsl(154.28571428571428,70%,50%)",
          "opacity": 0.36296,
          "size": 5
         },
         "mode": "markers",
         "name": "Thursday is",
         "showlegend": false,
         "type": "scatter3d",
         "x": [
          -9.5053
         ],
         "y": [
          38.5643
         ],
         "z": [
          1.2873
         ]
        },
        {
         "legendgroup": "Friday is",
         "marker": {
          "color": "hsl(205.71428571428572,70%,50%)",
          "opacity": 0.36296,
          "size": 5
         },
         "mode": "markers",
         "name": "Friday is",
         "showlegend": false,
         "type": "scatter3d",
         "x": [
          -17.2574
         ],
         "y": [
          23.242
         ],
         "z": [
          -10.2233
         ]
        },
        {
         "legendgroup": "Saturday is",
         "marker": {
          "color": "hsl(257.14285714285717,70%,50%)",
          "opacity": 0.36296,
          "size": 5
         },
         "mode": "markers",
         "name": "Saturday is",
         "showlegend": false,
         "type": "scatter3d",
         "x": [
          46.8514
         ],
         "y": [
          6.4307
         ],
         "z": [
          -27.6193
         ]
        },
        {
         "legendgroup": "Sunday is",
         "marker": {
          "color": "hsl(308.57142857142856,70%,50%)",
          "opacity": 0.36296,
          "size": 5
         },
         "mode": "markers",
         "name": "Sunday is",
         "showlegend": false,
         "type": "scatter3d",
         "x": [
          57.9544
         ],
         "y": [
          -32.7289
         ],
         "z": [
          -6.695
         ]
        },
        {
         "legendgroup": "Monday is",
         "marker": {
          "color": "hsl(0.0,70%,50%)",
          "opacity": 0.37311000000000005,
          "size": 5
         },
         "mode": "markers",
         "name": "Monday is",
         "showlegend": false,
         "type": "scatter3d",
         "x": [
          15.2253
         ],
         "y": [
          11.1422
         ],
         "z": [
          56.7202
         ]
        },
        {
         "legendgroup": "Tuesday is",
         "marker": {
          "color": "hsl(51.42857142857143,70%,50%)",
          "opacity": 0.37311000000000005,
          "size": 5
         },
         "mode": "markers",
         "name": "Tuesday is",
         "showlegend": false,
         "type": "scatter3d",
         "x": [
          -47.7942
         ],
         "y": [
          -58.3428
         ],
         "z": [
          4.9811
         ]
        },
        {
         "legendgroup": "Wednesday is",
         "marker": {
          "color": "hsl(102.85714285714286,70%,50%)",
          "opacity": 0.37311000000000005,
          "size": 5
         },
         "mode": "markers",
         "name": "Wednesday is",
         "showlegend": false,
         "type": "scatter3d",
         "x": [
          -44.2183
         ],
         "y": [
          15.3318
         ],
         "z": [
          -17.6006
         ]
        },
        {
         "legendgroup": "Thursday is",
         "marker": {
          "color": "hsl(154.28571428571428,70%,50%)",
          "opacity": 0.37311000000000005,
          "size": 5
         },
         "mode": "markers",
         "name": "Thursday is",
         "showlegend": false,
         "type": "scatter3d",
         "x": [
          -8.8155
         ],
         "y": [
          41.8379
         ],
         "z": [
          2.6373
         ]
        },
        {
         "legendgroup": "Friday is",
         "marker": {
          "color": "hsl(205.71428571428572,70%,50%)",
          "opacity": 0.37311000000000005,
          "size": 5
         },
         "mode": "markers",
         "name": "Friday is",
         "showlegend": false,
         "type": "scatter3d",
         "x": [
          -16.2017
         ],
         "y": [
          17.7055
         ],
         "z": [
          -13.2788
         ]
        },
        {
         "legendgroup": "Saturday is",
         "marker": {
          "color": "hsl(257.14285714285717,70%,50%)",
          "opacity": 0.37311000000000005,
          "size": 5
         },
         "mode": "markers",
         "name": "Saturday is",
         "showlegend": false,
         "type": "scatter3d",
         "x": [
          45.5828
         ],
         "y": [
          6.444
         ],
         "z": [
          -26.8312
         ]
        },
        {
         "legendgroup": "Sunday is",
         "marker": {
          "color": "hsl(308.57142857142856,70%,50%)",
          "opacity": 0.37311000000000005,
          "size": 5
         },
         "mode": "markers",
         "name": "Sunday is",
         "showlegend": false,
         "type": "scatter3d",
         "x": [
          56.2216
         ],
         "y": [
          -34.1186
         ],
         "z": [
          -6.628
         ]
        },
        {
         "legendgroup": "Monday is",
         "marker": {
          "color": "hsl(0.0,70%,50%)",
          "opacity": 0.37940999999999997,
          "size": 5
         },
         "mode": "markers",
         "name": "Monday is",
         "showlegend": false,
         "type": "scatter3d",
         "x": [
          15.8915
         ],
         "y": [
          9.006
         ],
         "z": [
          54.4634
         ]
        },
        {
         "legendgroup": "Tuesday is",
         "marker": {
          "color": "hsl(51.42857142857143,70%,50%)",
          "opacity": 0.37940999999999997,
          "size": 5
         },
         "mode": "markers",
         "name": "Tuesday is",
         "showlegend": false,
         "type": "scatter3d",
         "x": [
          -55.8813
         ],
         "y": [
          -52.7121
         ],
         "z": [
          4.6662
         ]
        },
        {
         "legendgroup": "Wednesday is",
         "marker": {
          "color": "hsl(102.85714285714286,70%,50%)",
          "opacity": 0.37940999999999997,
          "size": 5
         },
         "mode": "markers",
         "name": "Wednesday is",
         "showlegend": false,
         "type": "scatter3d",
         "x": [
          -39.8955
         ],
         "y": [
          20.7773
         ],
         "z": [
          -14.1256
         ]
        },
        {
         "legendgroup": "Thursday is",
         "marker": {
          "color": "hsl(154.28571428571428,70%,50%)",
          "opacity": 0.37940999999999997,
          "size": 5
         },
         "mode": "markers",
         "name": "Thursday is",
         "showlegend": false,
         "type": "scatter3d",
         "x": [
          -2.7479
         ],
         "y": [
          43.2297
         ],
         "z": [
          6.8237
         ]
        },
        {
         "legendgroup": "Friday is",
         "marker": {
          "color": "hsl(205.71428571428572,70%,50%)",
          "opacity": 0.37940999999999997,
          "size": 5
         },
         "mode": "markers",
         "name": "Friday is",
         "showlegend": false,
         "type": "scatter3d",
         "x": [
          -13.8351
         ],
         "y": [
          18.1983
         ],
         "z": [
          -21.5016
         ]
        },
        {
         "legendgroup": "Saturday is",
         "marker": {
          "color": "hsl(257.14285714285717,70%,50%)",
          "opacity": 0.37940999999999997,
          "size": 5
         },
         "mode": "markers",
         "name": "Saturday is",
         "showlegend": false,
         "type": "scatter3d",
         "x": [
          47.4734
         ],
         "y": [
          1.9628
         ],
         "z": [
          -25.4989
         ]
        },
        {
         "legendgroup": "Sunday is",
         "marker": {
          "color": "hsl(308.57142857142856,70%,50%)",
          "opacity": 0.37940999999999997,
          "size": 5
         },
         "mode": "markers",
         "name": "Sunday is",
         "showlegend": false,
         "type": "scatter3d",
         "x": [
          48.995
         ],
         "y": [
          -40.462
         ],
         "z": [
          -4.8272
         ]
        },
        {
         "legendgroup": "Monday is",
         "marker": {
          "color": "hsl(0.0,70%,50%)",
          "opacity": 0.38053000000000003,
          "size": 5
         },
         "mode": "markers",
         "name": "Monday is",
         "showlegend": false,
         "type": "scatter3d",
         "x": [
          13.9025
         ],
         "y": [
          13.7587
         ],
         "z": [
          1.2161
         ]
        },
        {
         "legendgroup": "Tuesday is",
         "marker": {
          "color": "hsl(51.42857142857143,70%,50%)",
          "opacity": 0.38053000000000003,
          "size": 5
         },
         "mode": "markers",
         "name": "Tuesday is",
         "showlegend": false,
         "type": "scatter3d",
         "x": [
          -54.5207
         ],
         "y": [
          -53.1402
         ],
         "z": [
          11.868
         ]
        },
        {
         "legendgroup": "Wednesday is",
         "marker": {
          "color": "hsl(102.85714285714286,70%,50%)",
          "opacity": 0.38053000000000003,
          "size": 5
         },
         "mode": "markers",
         "name": "Wednesday is",
         "showlegend": false,
         "type": "scatter3d",
         "x": [
          -39.3089
         ],
         "y": [
          20.7712
         ],
         "z": [
          13.4652
         ]
        },
        {
         "legendgroup": "Thursday is",
         "marker": {
          "color": "hsl(154.28571428571428,70%,50%)",
          "opacity": 0.38053000000000003,
          "size": 5
         },
         "mode": "markers",
         "name": "Thursday is",
         "showlegend": false,
         "type": "scatter3d",
         "x": [
          -2.2023
         ],
         "y": [
          43.9349
         ],
         "z": [
          24.8039
         ]
        },
        {
         "legendgroup": "Friday is",
         "marker": {
          "color": "hsl(205.71428571428572,70%,50%)",
          "opacity": 0.38053000000000003,
          "size": 5
         },
         "mode": "markers",
         "name": "Friday is",
         "showlegend": false,
         "type": "scatter3d",
         "x": [
          -16.7961
         ],
         "y": [
          14.8315
         ],
         "z": [
          -56.4503
         ]
        },
        {
         "legendgroup": "Saturday is",
         "marker": {
          "color": "hsl(257.14285714285717,70%,50%)",
          "opacity": 0.38053000000000003,
          "size": 5
         },
         "mode": "markers",
         "name": "Saturday is",
         "showlegend": false,
         "type": "scatter3d",
         "x": [
          50.9638
         ],
         "y": [
          -0.07
         ],
         "z": [
          7.1484
         ]
        },
        {
         "legendgroup": "Sunday is",
         "marker": {
          "color": "hsl(308.57142857142856,70%,50%)",
          "opacity": 0.38053000000000003,
          "size": 5
         },
         "mode": "markers",
         "name": "Sunday is",
         "showlegend": false,
         "type": "scatter3d",
         "x": [
          47.9616
         ],
         "y": [
          -40.0861
         ],
         "z": [
          -2.0514
         ]
        },
        {
         "legendgroup": "Monday is",
         "marker": {
          "color": "hsl(0.0,70%,50%)",
          "opacity": 0.37528000000000006,
          "size": 5
         },
         "mode": "markers",
         "name": "Monday is",
         "showlegend": false,
         "type": "scatter3d",
         "x": [
          11.3805
         ],
         "y": [
          13.4335
         ],
         "z": [
          -4.3513
         ]
        },
        {
         "legendgroup": "Tuesday is",
         "marker": {
          "color": "hsl(51.42857142857143,70%,50%)",
          "opacity": 0.37528000000000006,
          "size": 5
         },
         "mode": "markers",
         "name": "Tuesday is",
         "showlegend": false,
         "type": "scatter3d",
         "x": [
          -52.395
         ],
         "y": [
          -55.6747
         ],
         "z": [
          10.2755
         ]
        },
        {
         "legendgroup": "Wednesday is",
         "marker": {
          "color": "hsl(102.85714285714286,70%,50%)",
          "opacity": 0.37528000000000006,
          "size": 5
         },
         "mode": "markers",
         "name": "Wednesday is",
         "showlegend": false,
         "type": "scatter3d",
         "x": [
          -38.318
         ],
         "y": [
          18.7887
         ],
         "z": [
          15.6242
         ]
        },
        {
         "legendgroup": "Thursday is",
         "marker": {
          "color": "hsl(154.28571428571428,70%,50%)",
          "opacity": 0.37528000000000006,
          "size": 5
         },
         "mode": "markers",
         "name": "Thursday is",
         "showlegend": false,
         "type": "scatter3d",
         "x": [
          -7.9392
         ],
         "y": [
          42.495
         ],
         "z": [
          26.2708
         ]
        },
        {
         "legendgroup": "Friday is",
         "marker": {
          "color": "hsl(205.71428571428572,70%,50%)",
          "opacity": 0.37528000000000006,
          "size": 5
         },
         "mode": "markers",
         "name": "Friday is",
         "showlegend": false,
         "type": "scatter3d",
         "x": [
          -15.6134
         ],
         "y": [
          15.3081
         ],
         "z": [
          -57.5244
         ]
        },
        {
         "legendgroup": "Saturday is",
         "marker": {
          "color": "hsl(257.14285714285717,70%,50%)",
          "opacity": 0.37528000000000006,
          "size": 5
         },
         "mode": "markers",
         "name": "Saturday is",
         "showlegend": false,
         "type": "scatter3d",
         "x": [
          51.2769
         ],
         "y": [
          2.5771
         ],
         "z": [
          11.6335
         ]
        },
        {
         "legendgroup": "Sunday is",
         "marker": {
          "color": "hsl(308.57142857142856,70%,50%)",
          "opacity": 0.37528000000000006,
          "size": 5
         },
         "mode": "markers",
         "name": "Sunday is",
         "showlegend": false,
         "type": "scatter3d",
         "x": [
          51.6082
         ],
         "y": [
          -36.9276
         ],
         "z": [
          -1.9284
         ]
        },
        {
         "legendgroup": "Monday is",
         "marker": {
          "color": "hsl(0.0,70%,50%)",
          "opacity": 0.38438000000000005,
          "size": 5
         },
         "mode": "markers",
         "name": "Monday is",
         "showlegend": false,
         "type": "scatter3d",
         "x": [
          11.2063
         ],
         "y": [
          12.7169
         ],
         "z": [
          -2.4165
         ]
        },
        {
         "legendgroup": "Tuesday is",
         "marker": {
          "color": "hsl(51.42857142857143,70%,50%)",
          "opacity": 0.38438000000000005,
          "size": 5
         },
         "mode": "markers",
         "name": "Tuesday is",
         "showlegend": false,
         "type": "scatter3d",
         "x": [
          -55.2667
         ],
         "y": [
          -52.9719
         ],
         "z": [
          4.6818
         ]
        },
        {
         "legendgroup": "Wednesday is",
         "marker": {
          "color": "hsl(102.85714285714286,70%,50%)",
          "opacity": 0.38438000000000005,
          "size": 5
         },
         "mode": "markers",
         "name": "Wednesday is",
         "showlegend": false,
         "type": "scatter3d",
         "x": [
          -37.8924
         ],
         "y": [
          16.2969
         ],
         "z": [
          16.2447
         ]
        },
        {
         "legendgroup": "Thursday is",
         "marker": {
          "color": "hsl(154.28571428571428,70%,50%)",
          "opacity": 0.38438000000000005,
          "size": 5
         },
         "mode": "markers",
         "name": "Thursday is",
         "showlegend": false,
         "type": "scatter3d",
         "x": [
          -8.3897
         ],
         "y": [
          38.909
         ],
         "z": [
          28.8537
         ]
        },
        {
         "legendgroup": "Friday is",
         "marker": {
          "color": "hsl(205.71428571428572,70%,50%)",
          "opacity": 0.38438000000000005,
          "size": 5
         },
         "mode": "markers",
         "name": "Friday is",
         "showlegend": false,
         "type": "scatter3d",
         "x": [
          -11.5257
         ],
         "y": [
          21.5122
         ],
         "z": [
          -57.0775
         ]
        },
        {
         "legendgroup": "Saturday is",
         "marker": {
          "color": "hsl(257.14285714285717,70%,50%)",
          "opacity": 0.38438000000000005,
          "size": 5
         },
         "mode": "markers",
         "name": "Saturday is",
         "showlegend": false,
         "type": "scatter3d",
         "x": [
          50.3645
         ],
         "y": [
          0.1822
         ],
         "z": [
          12.9021
         ]
        },
        {
         "legendgroup": "Sunday is",
         "marker": {
          "color": "hsl(308.57142857142856,70%,50%)",
          "opacity": 0.38438000000000005,
          "size": 5
         },
         "mode": "markers",
         "name": "Sunday is",
         "showlegend": false,
         "type": "scatter3d",
         "x": [
          51.5038
         ],
         "y": [
          -36.6452
         ],
         "z": [
          -3.1883
         ]
        },
        {
         "legendgroup": "Monday is",
         "marker": {
          "color": "hsl(0.0,70%,50%)",
          "opacity": 0.3869699999999999,
          "size": 5
         },
         "mode": "markers",
         "name": "Monday is",
         "showlegend": false,
         "type": "scatter3d",
         "x": [
          10.5311
         ],
         "y": [
          14.6525
         ],
         "z": [
          1.0734
         ]
        },
        {
         "legendgroup": "Tuesday is",
         "marker": {
          "color": "hsl(51.42857142857143,70%,50%)",
          "opacity": 0.3869699999999999,
          "size": 5
         },
         "mode": "markers",
         "name": "Tuesday is",
         "showlegend": false,
         "type": "scatter3d",
         "x": [
          -57.2829
         ],
         "y": [
          -51.3937
         ],
         "z": [
          5.579
         ]
        },
        {
         "legendgroup": "Wednesday is",
         "marker": {
          "color": "hsl(102.85714285714286,70%,50%)",
          "opacity": 0.3869699999999999,
          "size": 5
         },
         "mode": "markers",
         "name": "Wednesday is",
         "showlegend": false,
         "type": "scatter3d",
         "x": [
          -37.0487
         ],
         "y": [
          16.2176
         ],
         "z": [
          12.5031
         ]
        },
        {
         "legendgroup": "Thursday is",
         "marker": {
          "color": "hsl(154.28571428571428,70%,50%)",
          "opacity": 0.3869699999999999,
          "size": 5
         },
         "mode": "markers",
         "name": "Thursday is",
         "showlegend": false,
         "type": "scatter3d",
         "x": [
          -8.8186
         ],
         "y": [
          38.8559
         ],
         "z": [
          28.3421
         ]
        },
        {
         "legendgroup": "Friday is",
         "marker": {
          "color": "hsl(205.71428571428572,70%,50%)",
          "opacity": 0.3869699999999999,
          "size": 5
         },
         "mode": "markers",
         "name": "Friday is",
         "showlegend": false,
         "type": "scatter3d",
         "x": [
          -9.0328
         ],
         "y": [
          20.3953
         ],
         "z": [
          -57.4141
         ]
        },
        {
         "legendgroup": "Saturday is",
         "marker": {
          "color": "hsl(257.14285714285717,70%,50%)",
          "opacity": 0.3869699999999999,
          "size": 5
         },
         "mode": "markers",
         "name": "Saturday is",
         "showlegend": false,
         "type": "scatter3d",
         "x": [
          50.763
         ],
         "y": [
          -1.8737
         ],
         "z": [
          14.3912
         ]
        },
        {
         "legendgroup": "Sunday is",
         "marker": {
          "color": "hsl(308.57142857142856,70%,50%)",
          "opacity": 0.3869699999999999,
          "size": 5
         },
         "mode": "markers",
         "name": "Sunday is",
         "showlegend": false,
         "type": "scatter3d",
         "x": [
          50.889
         ],
         "y": [
          -36.8538
         ],
         "z": [
          -4.4747
         ]
        },
        {
         "legendgroup": "Monday is",
         "marker": {
          "color": "hsl(0.0,70%,50%)",
          "opacity": 0.38542999999999994,
          "size": 5
         },
         "mode": "markers",
         "name": "Monday is",
         "showlegend": false,
         "type": "scatter3d",
         "x": [
          11.3083
         ],
         "y": [
          14.3706
         ],
         "z": [
          -4.0233
         ]
        },
        {
         "legendgroup": "Tuesday is",
         "marker": {
          "color": "hsl(51.42857142857143,70%,50%)",
          "opacity": 0.38542999999999994,
          "size": 5
         },
         "mode": "markers",
         "name": "Tuesday is",
         "showlegend": false,
         "type": "scatter3d",
         "x": [
          -58.6
         ],
         "y": [
          -50.6287
         ],
         "z": [
          5.6352
         ]
        },
        {
         "legendgroup": "Wednesday is",
         "marker": {
          "color": "hsl(102.85714285714286,70%,50%)",
          "opacity": 0.38542999999999994,
          "size": 5
         },
         "mode": "markers",
         "name": "Wednesday is",
         "showlegend": false,
         "type": "scatter3d",
         "x": [
          -36.6838
         ],
         "y": [
          17.0553
         ],
         "z": [
          14.1177
         ]
        },
        {
         "legendgroup": "Thursday is",
         "marker": {
          "color": "hsl(154.28571428571428,70%,50%)",
          "opacity": 0.38542999999999994,
          "size": 5
         },
         "mode": "markers",
         "name": "Thursday is",
         "showlegend": false,
         "type": "scatter3d",
         "x": [
          -7.913
         ],
         "y": [
          38.9372
         ],
         "z": [
          28.141
         ]
        },
        {
         "legendgroup": "Friday is",
         "marker": {
          "color": "hsl(205.71428571428572,70%,50%)",
          "opacity": 0.38542999999999994,
          "size": 5
         },
         "mode": "markers",
         "name": "Friday is",
         "showlegend": false,
         "type": "scatter3d",
         "x": [
          -8.6977
         ],
         "y": [
          20.1266
         ],
         "z": [
          -56.4897
         ]
        },
        {
         "legendgroup": "Saturday is",
         "marker": {
          "color": "hsl(257.14285714285717,70%,50%)",
          "opacity": 0.38542999999999994,
          "size": 5
         },
         "mode": "markers",
         "name": "Saturday is",
         "showlegend": false,
         "type": "scatter3d",
         "x": [
          49.853
         ],
         "y": [
          -1.9978
         ],
         "z": [
          17.3244
         ]
        },
        {
         "legendgroup": "Sunday is",
         "marker": {
          "color": "hsl(308.57142857142856,70%,50%)",
          "opacity": 0.38542999999999994,
          "size": 5
         },
         "mode": "markers",
         "name": "Sunday is",
         "showlegend": false,
         "type": "scatter3d",
         "x": [
          50.7333
         ],
         "y": [
          -37.8633
         ],
         "z": [
          -4.7053
         ]
        },
        {
         "legendgroup": "Monday is",
         "marker": {
          "color": "hsl(0.0,70%,50%)",
          "opacity": 0.38683,
          "size": 5
         },
         "mode": "markers",
         "name": "Monday is",
         "showlegend": false,
         "type": "scatter3d",
         "x": [
          10.4046
         ],
         "y": [
          13.2528
         ],
         "z": [
          -3.699
         ]
        },
        {
         "legendgroup": "Tuesday is",
         "marker": {
          "color": "hsl(51.42857142857143,70%,50%)",
          "opacity": 0.38683,
          "size": 5
         },
         "mode": "markers",
         "name": "Tuesday is",
         "showlegend": false,
         "type": "scatter3d",
         "x": [
          -56.2353
         ],
         "y": [
          -52.3326
         ],
         "z": [
          6.5407
         ]
        },
        {
         "legendgroup": "Wednesday is",
         "marker": {
          "color": "hsl(102.85714285714286,70%,50%)",
          "opacity": 0.38683,
          "size": 5
         },
         "mode": "markers",
         "name": "Wednesday is",
         "showlegend": false,
         "type": "scatter3d",
         "x": [
          -36.9764
         ],
         "y": [
          17.3546
         ],
         "z": [
          12.6647
         ]
        },
        {
         "legendgroup": "Thursday is",
         "marker": {
          "color": "hsl(154.28571428571428,70%,50%)",
          "opacity": 0.38683,
          "size": 5
         },
         "mode": "markers",
         "name": "Thursday is",
         "showlegend": false,
         "type": "scatter3d",
         "x": [
          -8.7055
         ],
         "y": [
          37.6079
         ],
         "z": [
          28.67
         ]
        },
        {
         "legendgroup": "Friday is",
         "marker": {
          "color": "hsl(205.71428571428572,70%,50%)",
          "opacity": 0.38683,
          "size": 5
         },
         "mode": "markers",
         "name": "Friday is",
         "showlegend": false,
         "type": "scatter3d",
         "x": [
          -9.7353
         ],
         "y": [
          20.8219
         ],
         "z": [
          -56.207
         ]
        },
        {
         "legendgroup": "Saturday is",
         "marker": {
          "color": "hsl(257.14285714285717,70%,50%)",
          "opacity": 0.38683,
          "size": 5
         },
         "mode": "markers",
         "name": "Saturday is",
         "showlegend": false,
         "type": "scatter3d",
         "x": [
          49.3268
         ],
         "y": [
          1.2594
         ],
         "z": [
          18.3658
         ]
        },
        {
         "legendgroup": "Sunday is",
         "marker": {
          "color": "hsl(308.57142857142856,70%,50%)",
          "opacity": 0.38683,
          "size": 5
         },
         "mode": "markers",
         "name": "Sunday is",
         "showlegend": false,
         "type": "scatter3d",
         "x": [
          51.921
         ],
         "y": [
          -37.9641
         ],
         "z": [
          -6.3352
         ]
        },
        {
         "legendgroup": "Monday is",
         "marker": {
          "color": "hsl(0.0,70%,50%)",
          "opacity": 0.3869699999999999,
          "size": 5
         },
         "mode": "markers",
         "name": "Monday is",
         "showlegend": false,
         "type": "scatter3d",
         "x": [
          9.0011
         ],
         "y": [
          13.0962
         ],
         "z": [
          4.7394
         ]
        },
        {
         "legendgroup": "Tuesday is",
         "marker": {
          "color": "hsl(51.42857142857143,70%,50%)",
          "opacity": 0.3869699999999999,
          "size": 5
         },
         "mode": "markers",
         "name": "Tuesday is",
         "showlegend": false,
         "type": "scatter3d",
         "x": [
          -54.8097
         ],
         "y": [
          -54.0168
         ],
         "z": [
          3.8622
         ]
        },
        {
         "legendgroup": "Wednesday is",
         "marker": {
          "color": "hsl(102.85714285714286,70%,50%)",
          "opacity": 0.3869699999999999,
          "size": 5
         },
         "mode": "markers",
         "name": "Wednesday is",
         "showlegend": false,
         "type": "scatter3d",
         "x": [
          -37.4169
         ],
         "y": [
          16.4637
         ],
         "z": [
          9.1042
         ]
        },
        {
         "legendgroup": "Thursday is",
         "marker": {
          "color": "hsl(154.28571428571428,70%,50%)",
          "opacity": 0.3869699999999999,
          "size": 5
         },
         "mode": "markers",
         "name": "Thursday is",
         "showlegend": false,
         "type": "scatter3d",
         "x": [
          -11.6553
         ],
         "y": [
          36.0065
         ],
         "z": [
          29.9392
         ]
        },
        {
         "legendgroup": "Friday is",
         "marker": {
          "color": "hsl(205.71428571428572,70%,50%)",
          "opacity": 0.3869699999999999,
          "size": 5
         },
         "mode": "markers",
         "name": "Friday is",
         "showlegend": false,
         "type": "scatter3d",
         "x": [
          -7.3182
         ],
         "y": [
          23.2661
         ],
         "z": [
          -57.3591
         ]
        },
        {
         "legendgroup": "Saturday is",
         "marker": {
          "color": "hsl(257.14285714285717,70%,50%)",
          "opacity": 0.3869699999999999,
          "size": 5
         },
         "mode": "markers",
         "name": "Saturday is",
         "showlegend": false,
         "type": "scatter3d",
         "x": [
          48.5758
         ],
         "y": [
          1.1179
         ],
         "z": [
          16.2542
         ]
        },
        {
         "legendgroup": "Sunday is",
         "marker": {
          "color": "hsl(308.57142857142856,70%,50%)",
          "opacity": 0.3869699999999999,
          "size": 5
         },
         "mode": "markers",
         "name": "Sunday is",
         "showlegend": false,
         "type": "scatter3d",
         "x": [
          53.6231
         ],
         "y": [
          -35.9336
         ],
         "z": [
          -6.5401
         ]
        },
        {
         "legendgroup": "Monday is",
         "marker": {
          "color": "hsl(0.0,70%,50%)",
          "opacity": 0.38465999999999995,
          "size": 5
         },
         "mode": "markers",
         "name": "Monday is",
         "showlegend": false,
         "type": "scatter3d",
         "x": [
          8.0541
         ],
         "y": [
          13.5635
         ],
         "z": [
          5.3053
         ]
        },
        {
         "legendgroup": "Tuesday is",
         "marker": {
          "color": "hsl(51.42857142857143,70%,50%)",
          "opacity": 0.38465999999999995,
          "size": 5
         },
         "mode": "markers",
         "name": "Tuesday is",
         "showlegend": false,
         "type": "scatter3d",
         "x": [
          -51.6102
         ],
         "y": [
          -56.7856
         ],
         "z": [
          1.0763
         ]
        },
        {
         "legendgroup": "Wednesday is",
         "marker": {
          "color": "hsl(102.85714285714286,70%,50%)",
          "opacity": 0.38465999999999995,
          "size": 5
         },
         "mode": "markers",
         "name": "Wednesday is",
         "showlegend": false,
         "type": "scatter3d",
         "x": [
          -38.8407
         ],
         "y": [
          14.8046
         ],
         "z": [
          9.6355
         ]
        },
        {
         "legendgroup": "Thursday is",
         "marker": {
          "color": "hsl(154.28571428571428,70%,50%)",
          "opacity": 0.38465999999999995,
          "size": 5
         },
         "mode": "markers",
         "name": "Thursday is",
         "showlegend": false,
         "type": "scatter3d",
         "x": [
          -13.6198
         ],
         "y": [
          33.0289
         ],
         "z": [
          31.3737
         ]
        },
        {
         "legendgroup": "Friday is",
         "marker": {
          "color": "hsl(205.71428571428572,70%,50%)",
          "opacity": 0.38465999999999995,
          "size": 5
         },
         "mode": "markers",
         "name": "Friday is",
         "showlegend": false,
         "type": "scatter3d",
         "x": [
          -8.6208
         ],
         "y": [
          27.2413
         ],
         "z": [
          -55.4179
         ]
        },
        {
         "legendgroup": "Saturday is",
         "marker": {
          "color": "hsl(257.14285714285717,70%,50%)",
          "opacity": 0.38465999999999995,
          "size": 5
         },
         "mode": "markers",
         "name": "Saturday is",
         "showlegend": false,
         "type": "scatter3d",
         "x": [
          49.0651
         ],
         "y": [
          1.5536
         ],
         "z": [
          16.8217
         ]
        },
        {
         "legendgroup": "Sunday is",
         "marker": {
          "color": "hsl(308.57142857142856,70%,50%)",
          "opacity": 0.38465999999999995,
          "size": 5
         },
         "mode": "markers",
         "name": "Sunday is",
         "showlegend": false,
         "type": "scatter3d",
         "x": [
          55.5724
         ],
         "y": [
          -33.4063
         ],
         "z": [
          -8.7946
         ]
        },
        {
         "legendgroup": "Monday is",
         "marker": {
          "color": "hsl(0.0,70%,50%)",
          "opacity": 0.3806,
          "size": 5
         },
         "mode": "markers",
         "name": "Monday is",
         "showlegend": false,
         "type": "scatter3d",
         "x": [
          8.9714
         ],
         "y": [
          12.9843
         ],
         "z": [
          8.33
         ]
        },
        {
         "legendgroup": "Tuesday is",
         "marker": {
          "color": "hsl(51.42857142857143,70%,50%)",
          "opacity": 0.3806,
          "size": 5
         },
         "mode": "markers",
         "name": "Tuesday is",
         "showlegend": false,
         "type": "scatter3d",
         "x": [
          -53.9071
         ],
         "y": [
          -56.387
         ],
         "z": [
          1.6206
         ]
        },
        {
         "legendgroup": "Wednesday is",
         "marker": {
          "color": "hsl(102.85714285714286,70%,50%)",
          "opacity": 0.3806,
          "size": 5
         },
         "mode": "markers",
         "name": "Wednesday is",
         "showlegend": false,
         "type": "scatter3d",
         "x": [
          -38.3002
         ],
         "y": [
          16.6477
         ],
         "z": [
          8.9325
         ]
        },
        {
         "legendgroup": "Thursday is",
         "marker": {
          "color": "hsl(154.28571428571428,70%,50%)",
          "opacity": 0.3806,
          "size": 5
         },
         "mode": "markers",
         "name": "Thursday is",
         "showlegend": false,
         "type": "scatter3d",
         "x": [
          -13.1932
         ],
         "y": [
          33.7287
         ],
         "z": [
          29.9607
         ]
        },
        {
         "legendgroup": "Friday is",
         "marker": {
          "color": "hsl(205.71428571428572,70%,50%)",
          "opacity": 0.3806,
          "size": 5
         },
         "mode": "markers",
         "name": "Friday is",
         "showlegend": false,
         "type": "scatter3d",
         "x": [
          -8.3345
         ],
         "y": [
          26.5774
         ],
         "z": [
          -55.6144
         ]
        },
        {
         "legendgroup": "Saturday is",
         "marker": {
          "color": "hsl(257.14285714285717,70%,50%)",
          "opacity": 0.3806,
          "size": 5
         },
         "mode": "markers",
         "name": "Saturday is",
         "showlegend": false,
         "type": "scatter3d",
         "x": [
          49.5973
         ],
         "y": [
          0.2066
         ],
         "z": [
          15.623
         ]
        },
        {
         "legendgroup": "Sunday is",
         "marker": {
          "color": "hsl(308.57142857142856,70%,50%)",
          "opacity": 0.3806,
          "size": 5
         },
         "mode": "markers",
         "name": "Sunday is",
         "showlegend": false,
         "type": "scatter3d",
         "x": [
          55.1662
         ],
         "y": [
          -33.7578
         ],
         "z": [
          -8.8524
         ]
        },
        {
         "legendgroup": "Monday is",
         "marker": {
          "color": "hsl(0.0,70%,50%)",
          "opacity": 0.38704,
          "size": 5
         },
         "mode": "markers",
         "name": "Monday is",
         "showlegend": false,
         "type": "scatter3d",
         "x": [
          8.7954
         ],
         "y": [
          9.8016
         ],
         "z": [
          10.6699
         ]
        },
        {
         "legendgroup": "Tuesday is",
         "marker": {
          "color": "hsl(51.42857142857143,70%,50%)",
          "opacity": 0.38704,
          "size": 5
         },
         "mode": "markers",
         "name": "Tuesday is",
         "showlegend": false,
         "type": "scatter3d",
         "x": [
          -51.02
         ],
         "y": [
          -57.7772
         ],
         "z": [
          -0.577
         ]
        },
        {
         "legendgroup": "Wednesday is",
         "marker": {
          "color": "hsl(102.85714285714286,70%,50%)",
          "opacity": 0.38704,
          "size": 5
         },
         "mode": "markers",
         "name": "Wednesday is",
         "showlegend": false,
         "type": "scatter3d",
         "x": [
          -38.647
         ],
         "y": [
          16.2918
         ],
         "z": [
          8.1363
         ]
        },
        {
         "legendgroup": "Thursday is",
         "marker": {
          "color": "hsl(154.28571428571428,70%,50%)",
          "opacity": 0.38704,
          "size": 5
         },
         "mode": "markers",
         "name": "Thursday is",
         "showlegend": false,
         "type": "scatter3d",
         "x": [
          -16.0104
         ],
         "y": [
          32.5194
         ],
         "z": [
          30.0398
         ]
        },
        {
         "legendgroup": "Friday is",
         "marker": {
          "color": "hsl(205.71428571428572,70%,50%)",
          "opacity": 0.38704,
          "size": 5
         },
         "mode": "markers",
         "name": "Friday is",
         "showlegend": false,
         "type": "scatter3d",
         "x": [
          -7.3385
         ],
         "y": [
          27.8977
         ],
         "z": [
          -55.5216
         ]
        },
        {
         "legendgroup": "Saturday is",
         "marker": {
          "color": "hsl(257.14285714285717,70%,50%)",
          "opacity": 0.38704,
          "size": 5
         },
         "mode": "markers",
         "name": "Saturday is",
         "showlegend": false,
         "type": "scatter3d",
         "x": [
          47.0742
         ],
         "y": [
          3.674
         ],
         "z": [
          14.8722
         ]
        },
        {
         "legendgroup": "Sunday is",
         "marker": {
          "color": "hsl(308.57142857142856,70%,50%)",
          "opacity": 0.38704,
          "size": 5
         },
         "mode": "markers",
         "name": "Sunday is",
         "showlegend": false,
         "type": "scatter3d",
         "x": [
          57.1464
         ],
         "y": [
          -32.4072
         ],
         "z": [
          -7.6196
         ]
        },
        {
         "legendgroup": "Monday is",
         "marker": {
          "color": "hsl(0.0,70%,50%)",
          "opacity": 0.38101999999999997,
          "size": 5
         },
         "mode": "markers",
         "name": "Monday is",
         "showlegend": false,
         "type": "scatter3d",
         "x": [
          8.193
         ],
         "y": [
          8.2948
         ],
         "z": [
          11.5632
         ]
        },
        {
         "legendgroup": "Tuesday is",
         "marker": {
          "color": "hsl(51.42857142857143,70%,50%)",
          "opacity": 0.38101999999999997,
          "size": 5
         },
         "mode": "markers",
         "name": "Tuesday is",
         "showlegend": false,
         "type": "scatter3d",
         "x": [
          -55.5124
         ],
         "y": [
          -55.953
         ],
         "z": [
          0.5175
         ]
        },
        {
         "legendgroup": "Wednesday is",
         "marker": {
          "color": "hsl(102.85714285714286,70%,50%)",
          "opacity": 0.38101999999999997,
          "size": 5
         },
         "mode": "markers",
         "name": "Wednesday is",
         "showlegend": false,
         "type": "scatter3d",
         "x": [
          -37.1593
         ],
         "y": [
          19.6418
         ],
         "z": [
          7.6504
         ]
        },
        {
         "legendgroup": "Thursday is",
         "marker": {
          "color": "hsl(154.28571428571428,70%,50%)",
          "opacity": 0.38101999999999997,
          "size": 5
         },
         "mode": "markers",
         "name": "Thursday is",
         "showlegend": false,
         "type": "scatter3d",
         "x": [
          -13.1789
         ],
         "y": [
          33.9539
         ],
         "z": [
          29.8313
         ]
        },
        {
         "legendgroup": "Friday is",
         "marker": {
          "color": "hsl(205.71428571428572,70%,50%)",
          "opacity": 0.38101999999999997,
          "size": 5
         },
         "mode": "markers",
         "name": "Friday is",
         "showlegend": false,
         "type": "scatter3d",
         "x": [
          -6.3966
         ],
         "y": [
          27.0259
         ],
         "z": [
          -55.6675
         ]
        },
        {
         "legendgroup": "Saturday is",
         "marker": {
          "color": "hsl(257.14285714285717,70%,50%)",
          "opacity": 0.38101999999999997,
          "size": 5
         },
         "mode": "markers",
         "name": "Saturday is",
         "showlegend": false,
         "type": "scatter3d",
         "x": [
          49.0201
         ],
         "y": [
          1.616
         ],
         "z": [
          13.4125
         ]
        },
        {
         "legendgroup": "Sunday is",
         "marker": {
          "color": "hsl(308.57142857142856,70%,50%)",
          "opacity": 0.38101999999999997,
          "size": 5
         },
         "mode": "markers",
         "name": "Sunday is",
         "showlegend": false,
         "type": "scatter3d",
         "x": [
          55.034
         ],
         "y": [
          -34.5793
         ],
         "z": [
          -7.3073
         ]
        },
        {
         "legendgroup": "Monday is",
         "marker": {
          "color": "hsl(0.0,70%,50%)",
          "opacity": 0.38234999999999997,
          "size": 5
         },
         "mode": "markers",
         "name": "Monday is",
         "showlegend": false,
         "type": "scatter3d",
         "x": [
          8.6779
         ],
         "y": [
          8.3824
         ],
         "z": [
          14.4688
         ]
        },
        {
         "legendgroup": "Tuesday is",
         "marker": {
          "color": "hsl(51.42857142857143,70%,50%)",
          "opacity": 0.38234999999999997,
          "size": 5
         },
         "mode": "markers",
         "name": "Tuesday is",
         "showlegend": false,
         "type": "scatter3d",
         "x": [
          -56.1628
         ],
         "y": [
          -55.703
         ],
         "z": [
          1.4064
         ]
        },
        {
         "legendgroup": "Wednesday is",
         "marker": {
          "color": "hsl(102.85714285714286,70%,50%)",
          "opacity": 0.38234999999999997,
          "size": 5
         },
         "mode": "markers",
         "name": "Wednesday is",
         "showlegend": false,
         "type": "scatter3d",
         "x": [
          -36.2158
         ],
         "y": [
          20.2576
         ],
         "z": [
          5.2298
         ]
        },
        {
         "legendgroup": "Thursday is",
         "marker": {
          "color": "hsl(154.28571428571428,70%,50%)",
          "opacity": 0.38234999999999997,
          "size": 5
         },
         "mode": "markers",
         "name": "Thursday is",
         "showlegend": false,
         "type": "scatter3d",
         "x": [
          -13.063
         ],
         "y": [
          34.5428
         ],
         "z": [
          29.6004
         ]
        },
        {
         "legendgroup": "Friday is",
         "marker": {
          "color": "hsl(205.71428571428572,70%,50%)",
          "opacity": 0.38234999999999997,
          "size": 5
         },
         "mode": "markers",
         "name": "Friday is",
         "showlegend": false,
         "type": "scatter3d",
         "x": [
          -6.3445
         ],
         "y": [
          26.6437
         ],
         "z": [
          -55.1063
         ]
        },
        {
         "legendgroup": "Saturday is",
         "marker": {
          "color": "hsl(257.14285714285717,70%,50%)",
          "opacity": 0.38234999999999997,
          "size": 5
         },
         "mode": "markers",
         "name": "Saturday is",
         "showlegend": false,
         "type": "scatter3d",
         "x": [
          49.1953
         ],
         "y": [
          1.6031
         ],
         "z": [
          12.1645
         ]
        },
        {
         "legendgroup": "Sunday is",
         "marker": {
          "color": "hsl(308.57142857142856,70%,50%)",
          "opacity": 0.38234999999999997,
          "size": 5
         },
         "mode": "markers",
         "name": "Sunday is",
         "showlegend": false,
         "type": "scatter3d",
         "x": [
          53.9129
         ],
         "y": [
          -35.7265
         ],
         "z": [
          -7.7636
         ]
        },
        {
         "legendgroup": "Monday is",
         "marker": {
          "color": "hsl(0.0,70%,50%)",
          "opacity": 0.37829,
          "size": 5
         },
         "mode": "markers",
         "name": "Monday is",
         "showlegend": false,
         "type": "scatter3d",
         "x": [
          9.143
         ],
         "y": [
          8.0849
         ],
         "z": [
          17.62
         ]
        },
        {
         "legendgroup": "Tuesday is",
         "marker": {
          "color": "hsl(51.42857142857143,70%,50%)",
          "opacity": 0.37829,
          "size": 5
         },
         "mode": "markers",
         "name": "Tuesday is",
         "showlegend": false,
         "type": "scatter3d",
         "x": [
          -58.5868
         ],
         "y": [
          -54.3173
         ],
         "z": [
          2.989
         ]
        },
        {
         "legendgroup": "Wednesday is",
         "marker": {
          "color": "hsl(102.85714285714286,70%,50%)",
          "opacity": 0.37829,
          "size": 5
         },
         "mode": "markers",
         "name": "Wednesday is",
         "showlegend": false,
         "type": "scatter3d",
         "x": [
          -35.9386
         ],
         "y": [
          21.1721
         ],
         "z": [
          5.0088
         ]
        },
        {
         "legendgroup": "Thursday is",
         "marker": {
          "color": "hsl(154.28571428571428,70%,50%)",
          "opacity": 0.37829,
          "size": 5
         },
         "mode": "markers",
         "name": "Thursday is",
         "showlegend": false,
         "type": "scatter3d",
         "x": [
          -11.5949
         ],
         "y": [
          36.7033
         ],
         "z": [
          26.8749
         ]
        },
        {
         "legendgroup": "Friday is",
         "marker": {
          "color": "hsl(205.71428571428572,70%,50%)",
          "opacity": 0.37829,
          "size": 5
         },
         "mode": "markers",
         "name": "Friday is",
         "showlegend": false,
         "type": "scatter3d",
         "x": [
          -6.9798
         ],
         "y": [
          23.3832
         ],
         "z": [
          -55.3788
         ]
        },
        {
         "legendgroup": "Saturday is",
         "marker": {
          "color": "hsl(257.14285714285717,70%,50%)",
          "opacity": 0.37829,
          "size": 5
         },
         "mode": "markers",
         "name": "Saturday is",
         "showlegend": false,
         "type": "scatter3d",
         "x": [
          49.7726
         ],
         "y": [
          1.9594
         ],
         "z": [
          8.4513
         ]
        },
        {
         "legendgroup": "Sunday is",
         "marker": {
          "color": "hsl(308.57142857142856,70%,50%)",
          "opacity": 0.37829,
          "size": 5
         },
         "mode": "markers",
         "name": "Sunday is",
         "showlegend": false,
         "type": "scatter3d",
         "x": [
          54.1845
         ],
         "y": [
          -36.9856
         ],
         "z": [
          -5.5651
         ]
        },
        {
         "legendgroup": "Monday is",
         "marker": {
          "color": "hsl(0.0,70%,50%)",
          "opacity": 0.37842999999999993,
          "size": 5
         },
         "mode": "markers",
         "name": "Monday is",
         "showlegend": false,
         "type": "scatter3d",
         "x": [
          8.0016
         ],
         "y": [
          7.3844
         ],
         "z": [
          18.4569
         ]
        },
        {
         "legendgroup": "Tuesday is",
         "marker": {
          "color": "hsl(51.42857142857143,70%,50%)",
          "opacity": 0.37842999999999993,
          "size": 5
         },
         "mode": "markers",
         "name": "Tuesday is",
         "showlegend": false,
         "type": "scatter3d",
         "x": [
          -58.0946
         ],
         "y": [
          -53.8709
         ],
         "z": [
          2.8054
         ]
        },
        {
         "legendgroup": "Wednesday is",
         "marker": {
          "color": "hsl(102.85714285714286,70%,50%)",
          "opacity": 0.37842999999999993,
          "size": 5
         },
         "mode": "markers",
         "name": "Wednesday is",
         "showlegend": false,
         "type": "scatter3d",
         "x": [
          -35.5085
         ],
         "y": [
          19.7957
         ],
         "z": [
          4.902
         ]
        },
        {
         "legendgroup": "Thursday is",
         "marker": {
          "color": "hsl(154.28571428571428,70%,50%)",
          "opacity": 0.37842999999999993,
          "size": 5
         },
         "mode": "markers",
         "name": "Thursday is",
         "showlegend": false,
         "type": "scatter3d",
         "x": [
          -11.524
         ],
         "y": [
          36.0261
         ],
         "z": [
          27.1819
         ]
        },
        {
         "legendgroup": "Friday is",
         "marker": {
          "color": "hsl(205.71428571428572,70%,50%)",
          "opacity": 0.37842999999999993,
          "size": 5
         },
         "mode": "markers",
         "name": "Friday is",
         "showlegend": false,
         "type": "scatter3d",
         "x": [
          -8.1444
         ],
         "y": [
          24.6152
         ],
         "z": [
          -54.9993
         ]
        },
        {
         "legendgroup": "Saturday is",
         "marker": {
          "color": "hsl(257.14285714285717,70%,50%)",
          "opacity": 0.37842999999999993,
          "size": 5
         },
         "mode": "markers",
         "name": "Saturday is",
         "showlegend": false,
         "type": "scatter3d",
         "x": [
          50.586
         ],
         "y": [
          3.3187
         ],
         "z": [
          8.721
         ]
        },
        {
         "legendgroup": "Sunday is",
         "marker": {
          "color": "hsl(308.57142857142856,70%,50%)",
          "opacity": 0.37842999999999993,
          "size": 5
         },
         "mode": "markers",
         "name": "Sunday is",
         "showlegend": false,
         "type": "scatter3d",
         "x": [
          54.6839
         ],
         "y": [
          -37.2691
         ],
         "z": [
          -7.0679
         ]
        }
       ],
       "layout": {
        "height": 800,
        "scene": {
         "aspectmode": "cube",
         "camera": {
          "center": {
           "x": 0,
           "y": 0,
           "z": 0
          },
          "eye": {
           "x": 1.5,
           "y": 1.5,
           "z": 1.5
          },
          "up": {
           "x": 0,
           "y": 0,
           "z": 1
          }
         },
         "xaxis": {
          "range": [
           -74.3357,
           74.3357
          ],
          "title": {
           "text": "PCA1"
          }
         },
         "yaxis": {
          "range": [
           -74.3357,
           74.3357
          ],
          "title": {
           "text": "PCA2"
          }
         },
         "zaxis": {
          "range": [
           -74.3357,
           74.3357
          ],
          "title": {
           "text": "PCA3"
          }
         }
        },
        "showlegend": true,
        "template": {
         "data": {
          "bar": [
           {
            "error_x": {
             "color": "#2a3f5f"
            },
            "error_y": {
             "color": "#2a3f5f"
            },
            "marker": {
             "line": {
              "color": "#E5ECF6",
              "width": 0.5
             },
             "pattern": {
              "fillmode": "overlay",
              "size": 10,
              "solidity": 0.2
             }
            },
            "type": "bar"
           }
          ],
          "barpolar": [
           {
            "marker": {
             "line": {
              "color": "#E5ECF6",
              "width": 0.5
             },
             "pattern": {
              "fillmode": "overlay",
              "size": 10,
              "solidity": 0.2
             }
            },
            "type": "barpolar"
           }
          ],
          "carpet": [
           {
            "aaxis": {
             "endlinecolor": "#2a3f5f",
             "gridcolor": "white",
             "linecolor": "white",
             "minorgridcolor": "white",
             "startlinecolor": "#2a3f5f"
            },
            "baxis": {
             "endlinecolor": "#2a3f5f",
             "gridcolor": "white",
             "linecolor": "white",
             "minorgridcolor": "white",
             "startlinecolor": "#2a3f5f"
            },
            "type": "carpet"
           }
          ],
          "choropleth": [
           {
            "colorbar": {
             "outlinewidth": 0,
             "ticks": ""
            },
            "type": "choropleth"
           }
          ],
          "contour": [
           {
            "colorbar": {
             "outlinewidth": 0,
             "ticks": ""
            },
            "colorscale": [
             [
              0,
              "#0d0887"
             ],
             [
              0.1111111111111111,
              "#46039f"
             ],
             [
              0.2222222222222222,
              "#7201a8"
             ],
             [
              0.3333333333333333,
              "#9c179e"
             ],
             [
              0.4444444444444444,
              "#bd3786"
             ],
             [
              0.5555555555555556,
              "#d8576b"
             ],
             [
              0.6666666666666666,
              "#ed7953"
             ],
             [
              0.7777777777777778,
              "#fb9f3a"
             ],
             [
              0.8888888888888888,
              "#fdca26"
             ],
             [
              1,
              "#f0f921"
             ]
            ],
            "type": "contour"
           }
          ],
          "contourcarpet": [
           {
            "colorbar": {
             "outlinewidth": 0,
             "ticks": ""
            },
            "type": "contourcarpet"
           }
          ],
          "heatmap": [
           {
            "colorbar": {
             "outlinewidth": 0,
             "ticks": ""
            },
            "colorscale": [
             [
              0,
              "#0d0887"
             ],
             [
              0.1111111111111111,
              "#46039f"
             ],
             [
              0.2222222222222222,
              "#7201a8"
             ],
             [
              0.3333333333333333,
              "#9c179e"
             ],
             [
              0.4444444444444444,
              "#bd3786"
             ],
             [
              0.5555555555555556,
              "#d8576b"
             ],
             [
              0.6666666666666666,
              "#ed7953"
             ],
             [
              0.7777777777777778,
              "#fb9f3a"
             ],
             [
              0.8888888888888888,
              "#fdca26"
             ],
             [
              1,
              "#f0f921"
             ]
            ],
            "type": "heatmap"
           }
          ],
          "heatmapgl": [
           {
            "colorbar": {
             "outlinewidth": 0,
             "ticks": ""
            },
            "colorscale": [
             [
              0,
              "#0d0887"
             ],
             [
              0.1111111111111111,
              "#46039f"
             ],
             [
              0.2222222222222222,
              "#7201a8"
             ],
             [
              0.3333333333333333,
              "#9c179e"
             ],
             [
              0.4444444444444444,
              "#bd3786"
             ],
             [
              0.5555555555555556,
              "#d8576b"
             ],
             [
              0.6666666666666666,
              "#ed7953"
             ],
             [
              0.7777777777777778,
              "#fb9f3a"
             ],
             [
              0.8888888888888888,
              "#fdca26"
             ],
             [
              1,
              "#f0f921"
             ]
            ],
            "type": "heatmapgl"
           }
          ],
          "histogram": [
           {
            "marker": {
             "pattern": {
              "fillmode": "overlay",
              "size": 10,
              "solidity": 0.2
             }
            },
            "type": "histogram"
           }
          ],
          "histogram2d": [
           {
            "colorbar": {
             "outlinewidth": 0,
             "ticks": ""
            },
            "colorscale": [
             [
              0,
              "#0d0887"
             ],
             [
              0.1111111111111111,
              "#46039f"
             ],
             [
              0.2222222222222222,
              "#7201a8"
             ],
             [
              0.3333333333333333,
              "#9c179e"
             ],
             [
              0.4444444444444444,
              "#bd3786"
             ],
             [
              0.5555555555555556,
              "#d8576b"
             ],
             [
              0.6666666666666666,
              "#ed7953"
             ],
             [
              0.7777777777777778,
              "#fb9f3a"
             ],
             [
              0.8888888888888888,
              "#fdca26"
             ],
             [
              1,
              "#f0f921"
             ]
            ],
            "type": "histogram2d"
           }
          ],
          "histogram2dcontour": [
           {
            "colorbar": {
             "outlinewidth": 0,
             "ticks": ""
            },
            "colorscale": [
             [
              0,
              "#0d0887"
             ],
             [
              0.1111111111111111,
              "#46039f"
             ],
             [
              0.2222222222222222,
              "#7201a8"
             ],
             [
              0.3333333333333333,
              "#9c179e"
             ],
             [
              0.4444444444444444,
              "#bd3786"
             ],
             [
              0.5555555555555556,
              "#d8576b"
             ],
             [
              0.6666666666666666,
              "#ed7953"
             ],
             [
              0.7777777777777778,
              "#fb9f3a"
             ],
             [
              0.8888888888888888,
              "#fdca26"
             ],
             [
              1,
              "#f0f921"
             ]
            ],
            "type": "histogram2dcontour"
           }
          ],
          "mesh3d": [
           {
            "colorbar": {
             "outlinewidth": 0,
             "ticks": ""
            },
            "type": "mesh3d"
           }
          ],
          "parcoords": [
           {
            "line": {
             "colorbar": {
              "outlinewidth": 0,
              "ticks": ""
             }
            },
            "type": "parcoords"
           }
          ],
          "pie": [
           {
            "automargin": true,
            "type": "pie"
           }
          ],
          "scatter": [
           {
            "fillpattern": {
             "fillmode": "overlay",
             "size": 10,
             "solidity": 0.2
            },
            "type": "scatter"
           }
          ],
          "scatter3d": [
           {
            "line": {
             "colorbar": {
              "outlinewidth": 0,
              "ticks": ""
             }
            },
            "marker": {
             "colorbar": {
              "outlinewidth": 0,
              "ticks": ""
             }
            },
            "type": "scatter3d"
           }
          ],
          "scattercarpet": [
           {
            "marker": {
             "colorbar": {
              "outlinewidth": 0,
              "ticks": ""
             }
            },
            "type": "scattercarpet"
           }
          ],
          "scattergeo": [
           {
            "marker": {
             "colorbar": {
              "outlinewidth": 0,
              "ticks": ""
             }
            },
            "type": "scattergeo"
           }
          ],
          "scattergl": [
           {
            "marker": {
             "colorbar": {
              "outlinewidth": 0,
              "ticks": ""
             }
            },
            "type": "scattergl"
           }
          ],
          "scattermapbox": [
           {
            "marker": {
             "colorbar": {
              "outlinewidth": 0,
              "ticks": ""
             }
            },
            "type": "scattermapbox"
           }
          ],
          "scatterpolar": [
           {
            "marker": {
             "colorbar": {
              "outlinewidth": 0,
              "ticks": ""
             }
            },
            "type": "scatterpolar"
           }
          ],
          "scatterpolargl": [
           {
            "marker": {
             "colorbar": {
              "outlinewidth": 0,
              "ticks": ""
             }
            },
            "type": "scatterpolargl"
           }
          ],
          "scatterternary": [
           {
            "marker": {
             "colorbar": {
              "outlinewidth": 0,
              "ticks": ""
             }
            },
            "type": "scatterternary"
           }
          ],
          "surface": [
           {
            "colorbar": {
             "outlinewidth": 0,
             "ticks": ""
            },
            "colorscale": [
             [
              0,
              "#0d0887"
             ],
             [
              0.1111111111111111,
              "#46039f"
             ],
             [
              0.2222222222222222,
              "#7201a8"
             ],
             [
              0.3333333333333333,
              "#9c179e"
             ],
             [
              0.4444444444444444,
              "#bd3786"
             ],
             [
              0.5555555555555556,
              "#d8576b"
             ],
             [
              0.6666666666666666,
              "#ed7953"
             ],
             [
              0.7777777777777778,
              "#fb9f3a"
             ],
             [
              0.8888888888888888,
              "#fdca26"
             ],
             [
              1,
              "#f0f921"
             ]
            ],
            "type": "surface"
           }
          ],
          "table": [
           {
            "cells": {
             "fill": {
              "color": "#EBF0F8"
             },
             "line": {
              "color": "white"
             }
            },
            "header": {
             "fill": {
              "color": "#C8D4E3"
             },
             "line": {
              "color": "white"
             }
            },
            "type": "table"
           }
          ]
         },
         "layout": {
          "annotationdefaults": {
           "arrowcolor": "#2a3f5f",
           "arrowhead": 0,
           "arrowwidth": 1
          },
          "autotypenumbers": "strict",
          "coloraxis": {
           "colorbar": {
            "outlinewidth": 0,
            "ticks": ""
           }
          },
          "colorscale": {
           "diverging": [
            [
             0,
             "#8e0152"
            ],
            [
             0.1,
             "#c51b7d"
            ],
            [
             0.2,
             "#de77ae"
            ],
            [
             0.3,
             "#f1b6da"
            ],
            [
             0.4,
             "#fde0ef"
            ],
            [
             0.5,
             "#f7f7f7"
            ],
            [
             0.6,
             "#e6f5d0"
            ],
            [
             0.7,
             "#b8e186"
            ],
            [
             0.8,
             "#7fbc41"
            ],
            [
             0.9,
             "#4d9221"
            ],
            [
             1,
             "#276419"
            ]
           ],
           "sequential": [
            [
             0,
             "#0d0887"
            ],
            [
             0.1111111111111111,
             "#46039f"
            ],
            [
             0.2222222222222222,
             "#7201a8"
            ],
            [
             0.3333333333333333,
             "#9c179e"
            ],
            [
             0.4444444444444444,
             "#bd3786"
            ],
            [
             0.5555555555555556,
             "#d8576b"
            ],
            [
             0.6666666666666666,
             "#ed7953"
            ],
            [
             0.7777777777777778,
             "#fb9f3a"
            ],
            [
             0.8888888888888888,
             "#fdca26"
            ],
            [
             1,
             "#f0f921"
            ]
           ],
           "sequentialminus": [
            [
             0,
             "#0d0887"
            ],
            [
             0.1111111111111111,
             "#46039f"
            ],
            [
             0.2222222222222222,
             "#7201a8"
            ],
            [
             0.3333333333333333,
             "#9c179e"
            ],
            [
             0.4444444444444444,
             "#bd3786"
            ],
            [
             0.5555555555555556,
             "#d8576b"
            ],
            [
             0.6666666666666666,
             "#ed7953"
            ],
            [
             0.7777777777777778,
             "#fb9f3a"
            ],
            [
             0.8888888888888888,
             "#fdca26"
            ],
            [
             1,
             "#f0f921"
            ]
           ]
          },
          "colorway": [
           "#636efa",
           "#EF553B",
           "#00cc96",
           "#ab63fa",
           "#FFA15A",
           "#19d3f3",
           "#FF6692",
           "#B6E880",
           "#FF97FF",
           "#FECB52"
          ],
          "font": {
           "color": "#2a3f5f"
          },
          "geo": {
           "bgcolor": "white",
           "lakecolor": "white",
           "landcolor": "#E5ECF6",
           "showlakes": true,
           "showland": true,
           "subunitcolor": "white"
          },
          "hoverlabel": {
           "align": "left"
          },
          "hovermode": "closest",
          "mapbox": {
           "style": "light"
          },
          "paper_bgcolor": "white",
          "plot_bgcolor": "#E5ECF6",
          "polar": {
           "angularaxis": {
            "gridcolor": "white",
            "linecolor": "white",
            "ticks": ""
           },
           "bgcolor": "#E5ECF6",
           "radialaxis": {
            "gridcolor": "white",
            "linecolor": "white",
            "ticks": ""
           }
          },
          "scene": {
           "xaxis": {
            "backgroundcolor": "#E5ECF6",
            "gridcolor": "white",
            "gridwidth": 2,
            "linecolor": "white",
            "showbackground": true,
            "ticks": "",
            "zerolinecolor": "white"
           },
           "yaxis": {
            "backgroundcolor": "#E5ECF6",
            "gridcolor": "white",
            "gridwidth": 2,
            "linecolor": "white",
            "showbackground": true,
            "ticks": "",
            "zerolinecolor": "white"
           },
           "zaxis": {
            "backgroundcolor": "#E5ECF6",
            "gridcolor": "white",
            "gridwidth": 2,
            "linecolor": "white",
            "showbackground": true,
            "ticks": "",
            "zerolinecolor": "white"
           }
          },
          "shapedefaults": {
           "line": {
            "color": "#2a3f5f"
           }
          },
          "ternary": {
           "aaxis": {
            "gridcolor": "white",
            "linecolor": "white",
            "ticks": ""
           },
           "baxis": {
            "gridcolor": "white",
            "linecolor": "white",
            "ticks": ""
           },
           "bgcolor": "#E5ECF6",
           "caxis": {
            "gridcolor": "white",
            "linecolor": "white",
            "ticks": ""
           }
          },
          "title": {
           "x": 0.05
          },
          "xaxis": {
           "automargin": true,
           "gridcolor": "white",
           "linecolor": "white",
           "ticks": "",
           "title": {
            "standoff": 15
           },
           "zerolinecolor": "white",
           "zerolinewidth": 2
          },
          "yaxis": {
           "automargin": true,
           "gridcolor": "white",
           "linecolor": "white",
           "ticks": "",
           "title": {
            "standoff": 15
           },
           "zerolinecolor": "white",
           "zerolinewidth": 2
          }
         }
        },
        "title": {
         "text": "3D PCA Projection of Day Representations Across All Layers"
        },
        "width": 800
       }
      }
     },
     "metadata": {},
     "output_type": "display_data"
    }
   ],
   "source": [
    "def plot_pca_from_df(df):\n",
    "    num_layers = df['Layer'].nunique()\n",
    "    entries = df['Entry'].unique()\n",
    "    \n",
    "    # Generate colors dynamically based on number of entries\n",
    "    n_colors = len(entries)\n",
    "    colors = [f'hsl({h},70%,50%)' for h in np.linspace(0, 360, n_colors, endpoint=False)]\n",
    "    \n",
    "    # Create single plot\n",
    "    fig = go.Figure()\n",
    "    \n",
    "    # Find the max absolute value across all PCA dimensions to set balanced axis ranges\n",
    "    max_abs_val = max(\n",
    "        abs(df['PCA1']).max(),\n",
    "        abs(df['PCA2']).max(),\n",
    "        abs(df['PCA3']).max()\n",
    "    )\n",
    "    axis_range = [-max_abs_val, max_abs_val]\n",
    "    \n",
    "    # Plot each layer\n",
    "    for layer_num in range(num_layers):\n",
    "        layer_data = df[df['Layer'] == layer_num]\n",
    "        \n",
    "        for entry, color in zip(entries, colors):\n",
    "            entry_data = layer_data[layer_data['Entry'] == entry]\n",
    "            # Scale opacity based on cumulative variance (0.2-0.9 range)\n",
    "            opacity = 0.2 + (0.7 * (1 - entry_data['Cumulative_var'].iloc[0]/100))\n",
    "            fig.add_trace(\n",
    "                go.Scatter3d(\n",
    "                    x=[entry_data['PCA1'].iloc[0]],\n",
    "                    y=[entry_data['PCA2'].iloc[0]],\n",
    "                    z=[entry_data['PCA3'].iloc[0]],\n",
    "                    mode='markers',\n",
    "                    marker=dict(color=color, size=5, opacity=opacity),\n",
    "                    name=entry,  # Use entry as the name for legend grouping\n",
    "                    legendgroup=entry,  # Group by entry for filtering\n",
    "                    showlegend=(layer_num == 0)  # Only show in legend for first layer\n",
    "                )\n",
    "            )\n",
    "\n",
    "    # Update layout\n",
    "    fig.update_layout(\n",
    "        height=800,\n",
    "        width=800,\n",
    "        title_text=\"3D PCA Projection of Day Representations Across All Layers\",\n",
    "        scene=dict(\n",
    "            xaxis=dict(range=axis_range),\n",
    "            yaxis=dict(range=axis_range),\n",
    "            zaxis=dict(range=axis_range),\n",
    "            xaxis_title=\"PCA1\",\n",
    "            yaxis_title=\"PCA2\", \n",
    "            zaxis_title=\"PCA3\",\n",
    "            aspectmode='cube',\n",
    "            camera=dict(\n",
    "                up=dict(x=0, y=0, z=1),\n",
    "                center=dict(x=0, y=0, z=0),\n",
    "                eye=dict(x=1.5, y=1.5, z=1.5)\n",
    "            )\n",
    "        ),\n",
    "        showlegend=True,\n",
    "    )\n",
    "    \n",
    "    fig.show()\n",
    "\n",
    "# Use the function\n",
    "plot_pca_from_df(df_aligned)\n"
   ]
  },
  {
   "cell_type": "code",
   "execution_count": 6,
   "metadata": {},
   "outputs": [
    {
     "data": {
      "application/vnd.plotly.v1+json": {
       "config": {
        "plotlyServerURL": "https://plot.ly"
       },
       "data": [
        {
         "marker": {
          "color": "hsl(0.0,70%,50%)",
          "opacity": 0.7,
          "size": 5
         },
         "mode": "markers",
         "name": "Monday is - Layer 0",
         "showlegend": true,
         "type": "scatter3d",
         "x": [
          -19.0723
         ],
         "y": [
          -48.1088
         ],
         "z": [
          -27.6753
         ]
        },
        {
         "marker": {
          "color": "hsl(51.42857142857143,70%,50%)",
          "opacity": 0.7,
          "size": 5
         },
         "mode": "markers",
         "name": "Tuesday is - Layer 0",
         "showlegend": true,
         "type": "scatter3d",
         "x": [
          -32.2956
         ],
         "y": [
          5.5349
         ],
         "z": [
          16.7518
         ]
        },
        {
         "marker": {
          "color": "hsl(102.85714285714286,70%,50%)",
          "opacity": 0.7,
          "size": 5
         },
         "mode": "markers",
         "name": "Wednesday is - Layer 0",
         "showlegend": true,
         "type": "scatter3d",
         "x": [
          -34.9434
         ],
         "y": [
          2.4121
         ],
         "z": [
          27.2842
         ]
        },
        {
         "marker": {
          "color": "hsl(154.28571428571428,70%,50%)",
          "opacity": 0.7,
          "size": 5
         },
         "mode": "markers",
         "name": "Thursday is - Layer 0",
         "showlegend": true,
         "type": "scatter3d",
         "x": [
          -23.1915
         ],
         "y": [
          10.9835
         ],
         "z": [
          11.6487
         ]
        },
        {
         "marker": {
          "color": "hsl(205.71428571428572,70%,50%)",
          "opacity": 0.7,
          "size": 5
         },
         "mode": "markers",
         "name": "Friday is - Layer 0",
         "showlegend": true,
         "type": "scatter3d",
         "x": [
          7.0455
         ],
         "y": [
          14.3527
         ],
         "z": [
          -48.0048
         ]
        },
        {
         "marker": {
          "color": "hsl(257.14285714285717,70%,50%)",
          "opacity": 0.7,
          "size": 5
         },
         "mode": "markers",
         "name": "Saturday is - Layer 0",
         "showlegend": true,
         "type": "scatter3d",
         "x": [
          33.2801
         ],
         "y": [
          42.5242
         ],
         "z": [
          -5.341
         ]
        },
        {
         "marker": {
          "color": "hsl(308.57142857142856,70%,50%)",
          "opacity": 0.7,
          "size": 5
         },
         "mode": "markers",
         "name": "Sunday is - Layer 0",
         "showlegend": true,
         "type": "scatter3d",
         "x": [
          69.1773
         ],
         "y": [
          -27.6986
         ],
         "z": [
          25.3364
         ]
        }
       ],
       "frames": [
        {
         "data": [
          {
           "marker": {
            "color": "hsl(0.0,70%,50%)",
            "opacity": 0.7,
            "size": 5
           },
           "mode": "markers",
           "name": "Monday is - Layer 0",
           "showlegend": true,
           "type": "scatter3d",
           "x": [
            -19.0723
           ],
           "y": [
            -48.1088
           ],
           "z": [
            -27.6753
           ]
          },
          {
           "marker": {
            "color": "hsl(51.42857142857143,70%,50%)",
            "opacity": 0.7,
            "size": 5
           },
           "mode": "markers",
           "name": "Tuesday is - Layer 0",
           "showlegend": true,
           "type": "scatter3d",
           "x": [
            -32.2956
           ],
           "y": [
            5.5349
           ],
           "z": [
            16.7518
           ]
          },
          {
           "marker": {
            "color": "hsl(102.85714285714286,70%,50%)",
            "opacity": 0.7,
            "size": 5
           },
           "mode": "markers",
           "name": "Wednesday is - Layer 0",
           "showlegend": true,
           "type": "scatter3d",
           "x": [
            -34.9434
           ],
           "y": [
            2.4121
           ],
           "z": [
            27.2842
           ]
          },
          {
           "marker": {
            "color": "hsl(154.28571428571428,70%,50%)",
            "opacity": 0.7,
            "size": 5
           },
           "mode": "markers",
           "name": "Thursday is - Layer 0",
           "showlegend": true,
           "type": "scatter3d",
           "x": [
            -23.1915
           ],
           "y": [
            10.9835
           ],
           "z": [
            11.6487
           ]
          },
          {
           "marker": {
            "color": "hsl(205.71428571428572,70%,50%)",
            "opacity": 0.7,
            "size": 5
           },
           "mode": "markers",
           "name": "Friday is - Layer 0",
           "showlegend": true,
           "type": "scatter3d",
           "x": [
            7.0455
           ],
           "y": [
            14.3527
           ],
           "z": [
            -48.0048
           ]
          },
          {
           "marker": {
            "color": "hsl(257.14285714285717,70%,50%)",
            "opacity": 0.7,
            "size": 5
           },
           "mode": "markers",
           "name": "Saturday is - Layer 0",
           "showlegend": true,
           "type": "scatter3d",
           "x": [
            33.2801
           ],
           "y": [
            42.5242
           ],
           "z": [
            -5.341
           ]
          },
          {
           "marker": {
            "color": "hsl(308.57142857142856,70%,50%)",
            "opacity": 0.7,
            "size": 5
           },
           "mode": "markers",
           "name": "Sunday is - Layer 0",
           "showlegend": true,
           "type": "scatter3d",
           "x": [
            69.1773
           ],
           "y": [
            -27.6986
           ],
           "z": [
            25.3364
           ]
          }
         ],
         "name": "0"
        },
        {
         "data": [
          {
           "marker": {
            "color": "hsl(0.0,70%,50%)",
            "opacity": 0.7,
            "size": 5
           },
           "mode": "markers",
           "name": "Monday is - Layer 1",
           "showlegend": true,
           "type": "scatter3d",
           "x": [
            -25.4688
           ],
           "y": [
            -39.4841
           ],
           "z": [
            -28.0822
           ]
          },
          {
           "marker": {
            "color": "hsl(51.42857142857143,70%,50%)",
            "opacity": 0.7,
            "size": 5
           },
           "mode": "markers",
           "name": "Tuesday is - Layer 1",
           "showlegend": true,
           "type": "scatter3d",
           "x": [
            -25.6166
           ],
           "y": [
            -5.838
           ],
           "z": [
            20.5783
           ]
          },
          {
           "marker": {
            "color": "hsl(102.85714285714286,70%,50%)",
            "opacity": 0.7,
            "size": 5
           },
           "mode": "markers",
           "name": "Wednesday is - Layer 1",
           "showlegend": true,
           "type": "scatter3d",
           "x": [
            -26.429
           ],
           "y": [
            -5.617
           ],
           "z": [
            17.8833
           ]
          },
          {
           "marker": {
            "color": "hsl(154.28571428571428,70%,50%)",
            "opacity": 0.7,
            "size": 5
           },
           "mode": "markers",
           "name": "Thursday is - Layer 1",
           "showlegend": true,
           "type": "scatter3d",
           "x": [
            -20.8165
           ],
           "y": [
            11.399
           ],
           "z": [
            22.9388
           ]
          },
          {
           "marker": {
            "color": "hsl(205.71428571428572,70%,50%)",
            "opacity": 0.7,
            "size": 5
           },
           "mode": "markers",
           "name": "Friday is - Layer 1",
           "showlegend": true,
           "type": "scatter3d",
           "x": [
            -4.6054
           ],
           "y": [
            40.75
           ],
           "z": [
            -49.6676
           ]
          },
          {
           "marker": {
            "color": "hsl(257.14285714285717,70%,50%)",
            "opacity": 0.7,
            "size": 5
           },
           "mode": "markers",
           "name": "Saturday is - Layer 1",
           "showlegend": true,
           "type": "scatter3d",
           "x": [
            39.5406
           ],
           "y": [
            33.6176
           ],
           "z": [
            21.0925
           ]
          },
          {
           "marker": {
            "color": "hsl(308.57142857142856,70%,50%)",
            "opacity": 0.7,
            "size": 5
           },
           "mode": "markers",
           "name": "Sunday is - Layer 1",
           "showlegend": true,
           "type": "scatter3d",
           "x": [
            63.3958
           ],
           "y": [
            -34.8275
           ],
           "z": [
            -4.743
           ]
          }
         ],
         "name": "1"
        },
        {
         "data": [
          {
           "marker": {
            "color": "hsl(0.0,70%,50%)",
            "opacity": 0.7,
            "size": 5
           },
           "mode": "markers",
           "name": "Monday is - Layer 2",
           "showlegend": true,
           "type": "scatter3d",
           "x": [
            -5.4867
           ],
           "y": [
            -57.1197
           ],
           "z": [
            -10.8499
           ]
          },
          {
           "marker": {
            "color": "hsl(51.42857142857143,70%,50%)",
            "opacity": 0.7,
            "size": 5
           },
           "mode": "markers",
           "name": "Tuesday is - Layer 2",
           "showlegend": true,
           "type": "scatter3d",
           "x": [
            -27.5538
           ],
           "y": [
            -4.137
           ],
           "z": [
            17.2346
           ]
          },
          {
           "marker": {
            "color": "hsl(102.85714285714286,70%,50%)",
            "opacity": 0.7,
            "size": 5
           },
           "mode": "markers",
           "name": "Wednesday is - Layer 2",
           "showlegend": true,
           "type": "scatter3d",
           "x": [
            -28.0858
           ],
           "y": [
            -0.1991
           ],
           "z": [
            17.9389
           ]
          },
          {
           "marker": {
            "color": "hsl(154.28571428571428,70%,50%)",
            "opacity": 0.7,
            "size": 5
           },
           "mode": "markers",
           "name": "Thursday is - Layer 2",
           "showlegend": true,
           "type": "scatter3d",
           "x": [
            -28.4476
           ],
           "y": [
            19.6467
           ],
           "z": [
            21.2081
           ]
          },
          {
           "marker": {
            "color": "hsl(205.71428571428572,70%,50%)",
            "opacity": 0.7,
            "size": 5
           },
           "mode": "markers",
           "name": "Friday is - Layer 2",
           "showlegend": true,
           "type": "scatter3d",
           "x": [
            -7.1966
           ],
           "y": [
            8.909
           ],
           "z": [
            -58.4202
           ]
          },
          {
           "marker": {
            "color": "hsl(257.14285714285717,70%,50%)",
            "opacity": 0.7,
            "size": 5
           },
           "mode": "markers",
           "name": "Saturday is - Layer 2",
           "showlegend": true,
           "type": "scatter3d",
           "x": [
            25.7245
           ],
           "y": [
            47.3813
           ],
           "z": [
            -4.1129
           ]
          },
          {
           "marker": {
            "color": "hsl(308.57142857142856,70%,50%)",
            "opacity": 0.7,
            "size": 5
           },
           "mode": "markers",
           "name": "Sunday is - Layer 2",
           "showlegend": true,
           "type": "scatter3d",
           "x": [
            71.046
           ],
           "y": [
            -14.4812
           ],
           "z": [
            17.0013
           ]
          }
         ],
         "name": "2"
        },
        {
         "data": [
          {
           "marker": {
            "color": "hsl(0.0,70%,50%)",
            "opacity": 0.7,
            "size": 5
           },
           "mode": "markers",
           "name": "Monday is - Layer 3",
           "showlegend": true,
           "type": "scatter3d",
           "x": [
            -17.2759
           ],
           "y": [
            -55.6868
           ],
           "z": [
            -1.4277
           ]
          },
          {
           "marker": {
            "color": "hsl(51.42857142857143,70%,50%)",
            "opacity": 0.7,
            "size": 5
           },
           "mode": "markers",
           "name": "Tuesday is - Layer 3",
           "showlegend": true,
           "type": "scatter3d",
           "x": [
            -29.6119
           ],
           "y": [
            2.7705
           ],
           "z": [
            26.2931
           ]
          },
          {
           "marker": {
            "color": "hsl(102.85714285714286,70%,50%)",
            "opacity": 0.7,
            "size": 5
           },
           "mode": "markers",
           "name": "Wednesday is - Layer 3",
           "showlegend": true,
           "type": "scatter3d",
           "x": [
            -27.127
           ],
           "y": [
            7.6246
           ],
           "z": [
            17.3966
           ]
          },
          {
           "marker": {
            "color": "hsl(154.28571428571428,70%,50%)",
            "opacity": 0.7,
            "size": 5
           },
           "mode": "markers",
           "name": "Thursday is - Layer 3",
           "showlegend": true,
           "type": "scatter3d",
           "x": [
            -20.5132
           ],
           "y": [
            25.4744
           ],
           "z": [
            6.2562
           ]
          },
          {
           "marker": {
            "color": "hsl(205.71428571428572,70%,50%)",
            "opacity": 0.7,
            "size": 5
           },
           "mode": "markers",
           "name": "Friday is - Layer 3",
           "showlegend": true,
           "type": "scatter3d",
           "x": [
            -4.3137
           ],
           "y": [
            -2.522
           ],
           "z": [
            -61.6458
           ]
          },
          {
           "marker": {
            "color": "hsl(257.14285714285717,70%,50%)",
            "opacity": 0.7,
            "size": 5
           },
           "mode": "markers",
           "name": "Saturday is - Layer 3",
           "showlegend": true,
           "type": "scatter3d",
           "x": [
            30.1195
           ],
           "y": [
            43.9527
           ],
           "z": [
            -4.8212
           ]
          },
          {
           "marker": {
            "color": "hsl(308.57142857142856,70%,50%)",
            "opacity": 0.7,
            "size": 5
           },
           "mode": "markers",
           "name": "Sunday is - Layer 3",
           "showlegend": true,
           "type": "scatter3d",
           "x": [
            68.7222
           ],
           "y": [
            -21.6133
           ],
           "z": [
            17.9487
           ]
          }
         ],
         "name": "3"
        },
        {
         "data": [
          {
           "marker": {
            "color": "hsl(0.0,70%,50%)",
            "opacity": 0.7,
            "size": 5
           },
           "mode": "markers",
           "name": "Monday is - Layer 4",
           "showlegend": true,
           "type": "scatter3d",
           "x": [
            -6.4167
           ],
           "y": [
            -54.9288
           ],
           "z": [
            -15.8415
           ]
          },
          {
           "marker": {
            "color": "hsl(51.42857142857143,70%,50%)",
            "opacity": 0.7,
            "size": 5
           },
           "mode": "markers",
           "name": "Tuesday is - Layer 4",
           "showlegend": true,
           "type": "scatter3d",
           "x": [
            -35.2383
           ],
           "y": [
            -9.5583
           ],
           "z": [
            26.1652
           ]
          },
          {
           "marker": {
            "color": "hsl(102.85714285714286,70%,50%)",
            "opacity": 0.7,
            "size": 5
           },
           "mode": "markers",
           "name": "Wednesday is - Layer 4",
           "showlegend": true,
           "type": "scatter3d",
           "x": [
            -33.3954
           ],
           "y": [
            5.6406
           ],
           "z": [
            16.7636
           ]
          },
          {
           "marker": {
            "color": "hsl(154.28571428571428,70%,50%)",
            "opacity": 0.7,
            "size": 5
           },
           "mode": "markers",
           "name": "Thursday is - Layer 4",
           "showlegend": true,
           "type": "scatter3d",
           "x": [
            -22.6396
           ],
           "y": [
            25.4484
           ],
           "z": [
            7.0946
           ]
          },
          {
           "marker": {
            "color": "hsl(205.71428571428572,70%,50%)",
            "opacity": 0.7,
            "size": 5
           },
           "mode": "markers",
           "name": "Friday is - Layer 4",
           "showlegend": true,
           "type": "scatter3d",
           "x": [
            2.1945
           ],
           "y": [
            6.0538
           ],
           "z": [
            -59.219
           ]
          },
          {
           "marker": {
            "color": "hsl(257.14285714285717,70%,50%)",
            "opacity": 0.7,
            "size": 5
           },
           "mode": "markers",
           "name": "Saturday is - Layer 4",
           "showlegend": true,
           "type": "scatter3d",
           "x": [
            29.4105
           ],
           "y": [
            47.5836
           ],
           "z": [
            -0.4413
           ]
          },
          {
           "marker": {
            "color": "hsl(308.57142857142856,70%,50%)",
            "opacity": 0.7,
            "size": 5
           },
           "mode": "markers",
           "name": "Sunday is - Layer 4",
           "showlegend": true,
           "type": "scatter3d",
           "x": [
            66.085
           ],
           "y": [
            -20.2393
           ],
           "z": [
            25.4785
           ]
          }
         ],
         "name": "4"
        },
        {
         "data": [
          {
           "marker": {
            "color": "hsl(0.0,70%,50%)",
            "opacity": 0.7,
            "size": 5
           },
           "mode": "markers",
           "name": "Monday is - Layer 5",
           "showlegend": true,
           "type": "scatter3d",
           "x": [
            -20.3566
           ],
           "y": [
            -42.1754
           ],
           "z": [
            -28.1529
           ]
          },
          {
           "marker": {
            "color": "hsl(51.42857142857143,70%,50%)",
            "opacity": 0.7,
            "size": 5
           },
           "mode": "markers",
           "name": "Tuesday is - Layer 5",
           "showlegend": true,
           "type": "scatter3d",
           "x": [
            -29.3089
           ],
           "y": [
            -26.274
           ],
           "z": [
            22.1585
           ]
          },
          {
           "marker": {
            "color": "hsl(102.85714285714286,70%,50%)",
            "opacity": 0.7,
            "size": 5
           },
           "mode": "markers",
           "name": "Wednesday is - Layer 5",
           "showlegend": true,
           "type": "scatter3d",
           "x": [
            -29.7614
           ],
           "y": [
            6.1025
           ],
           "z": [
            24.5461
           ]
          },
          {
           "marker": {
            "color": "hsl(154.28571428571428,70%,50%)",
            "opacity": 0.7,
            "size": 5
           },
           "mode": "markers",
           "name": "Thursday is - Layer 5",
           "showlegend": true,
           "type": "scatter3d",
           "x": [
            -20.4405
           ],
           "y": [
            17.6554
           ],
           "z": [
            19.3864
           ]
          },
          {
           "marker": {
            "color": "hsl(205.71428571428572,70%,50%)",
            "opacity": 0.7,
            "size": 5
           },
           "mode": "markers",
           "name": "Friday is - Layer 5",
           "showlegend": true,
           "type": "scatter3d",
           "x": [
            -19.7048
           ],
           "y": [
            37.4282
           ],
           "z": [
            -46.0954
           ]
          },
          {
           "marker": {
            "color": "hsl(257.14285714285717,70%,50%)",
            "opacity": 0.7,
            "size": 5
           },
           "mode": "markers",
           "name": "Saturday is - Layer 5",
           "showlegend": true,
           "type": "scatter3d",
           "x": [
            48.5546
           ],
           "y": [
            38.4817
           ],
           "z": [
            12.6641
           ]
          },
          {
           "marker": {
            "color": "hsl(308.57142857142856,70%,50%)",
            "opacity": 0.7,
            "size": 5
           },
           "mode": "markers",
           "name": "Sunday is - Layer 5",
           "showlegend": true,
           "type": "scatter3d",
           "x": [
            71.0176
           ],
           "y": [
            -31.2183
           ],
           "z": [
            -4.5068
           ]
          }
         ],
         "name": "5"
        },
        {
         "data": [
          {
           "marker": {
            "color": "hsl(0.0,70%,50%)",
            "opacity": 0.7,
            "size": 5
           },
           "mode": "markers",
           "name": "Monday is - Layer 6",
           "showlegend": true,
           "type": "scatter3d",
           "x": [
            -15.0449
           ],
           "y": [
            -45.2065
           ],
           "z": [
            -26.4485
           ]
          },
          {
           "marker": {
            "color": "hsl(51.42857142857143,70%,50%)",
            "opacity": 0.7,
            "size": 5
           },
           "mode": "markers",
           "name": "Tuesday is - Layer 6",
           "showlegend": true,
           "type": "scatter3d",
           "x": [
            -24.6282
           ],
           "y": [
            -29.7498
           ],
           "z": [
            28.103
           ]
          },
          {
           "marker": {
            "color": "hsl(102.85714285714286,70%,50%)",
            "opacity": 0.7,
            "size": 5
           },
           "mode": "markers",
           "name": "Wednesday is - Layer 6",
           "showlegend": true,
           "type": "scatter3d",
           "x": [
            -33.4941
           ],
           "y": [
            10.9473
           ],
           "z": [
            21.6451
           ]
          },
          {
           "marker": {
            "color": "hsl(154.28571428571428,70%,50%)",
            "opacity": 0.7,
            "size": 5
           },
           "mode": "markers",
           "name": "Thursday is - Layer 6",
           "showlegend": true,
           "type": "scatter3d",
           "x": [
            -23.4366
           ],
           "y": [
            19.5058
           ],
           "z": [
            15.6323
           ]
          },
          {
           "marker": {
            "color": "hsl(205.71428571428572,70%,50%)",
            "opacity": 0.7,
            "size": 5
           },
           "mode": "markers",
           "name": "Friday is - Layer 6",
           "showlegend": true,
           "type": "scatter3d",
           "x": [
            -23.2957
           ],
           "y": [
            28.2516
           ],
           "z": [
            -46.4517
           ]
          },
          {
           "marker": {
            "color": "hsl(257.14285714285717,70%,50%)",
            "opacity": 0.7,
            "size": 5
           },
           "mode": "markers",
           "name": "Saturday is - Layer 6",
           "showlegend": true,
           "type": "scatter3d",
           "x": [
            46.1409
           ],
           "y": [
            40.8994
           ],
           "z": [
            9.0961
           ]
          },
          {
           "marker": {
            "color": "hsl(308.57142857142856,70%,50%)",
            "opacity": 0.7,
            "size": 5
           },
           "mode": "markers",
           "name": "Sunday is - Layer 6",
           "showlegend": true,
           "type": "scatter3d",
           "x": [
            73.7586
           ],
           "y": [
            -24.6478
           ],
           "z": [
            -1.5763
           ]
          }
         ],
         "name": "6"
        },
        {
         "data": [
          {
           "marker": {
            "color": "hsl(0.0,70%,50%)",
            "opacity": 0.7,
            "size": 5
           },
           "mode": "markers",
           "name": "Monday is - Layer 7",
           "showlegend": true,
           "type": "scatter3d",
           "x": [
            -17.018
           ],
           "y": [
            -44.0602
           ],
           "z": [
            -25.3957
           ]
          },
          {
           "marker": {
            "color": "hsl(51.42857142857143,70%,50%)",
            "opacity": 0.7,
            "size": 5
           },
           "mode": "markers",
           "name": "Tuesday is - Layer 7",
           "showlegend": true,
           "type": "scatter3d",
           "x": [
            -26.0838
           ],
           "y": [
            -30.0478
           ],
           "z": [
            27.8764
           ]
          },
          {
           "marker": {
            "color": "hsl(102.85714285714286,70%,50%)",
            "opacity": 0.7,
            "size": 5
           },
           "mode": "markers",
           "name": "Wednesday is - Layer 7",
           "showlegend": true,
           "type": "scatter3d",
           "x": [
            -35.4382
           ],
           "y": [
            13.4215
           ],
           "z": [
            21.0933
           ]
          },
          {
           "marker": {
            "color": "hsl(154.28571428571428,70%,50%)",
            "opacity": 0.7,
            "size": 5
           },
           "mode": "markers",
           "name": "Thursday is - Layer 7",
           "showlegend": true,
           "type": "scatter3d",
           "x": [
            -25.1256
           ],
           "y": [
            21.8772
           ],
           "z": [
            12.9853
           ]
          },
          {
           "marker": {
            "color": "hsl(205.71428571428572,70%,50%)",
            "opacity": 0.7,
            "size": 5
           },
           "mode": "markers",
           "name": "Friday is - Layer 7",
           "showlegend": true,
           "type": "scatter3d",
           "x": [
            -20.2595
           ],
           "y": [
            26.3019
           ],
           "z": [
            -45.6646
           ]
          },
          {
           "marker": {
            "color": "hsl(257.14285714285717,70%,50%)",
            "opacity": 0.7,
            "size": 5
           },
           "mode": "markers",
           "name": "Saturday is - Layer 7",
           "showlegend": true,
           "type": "scatter3d",
           "x": [
            49.5894
           ],
           "y": [
            36.5765
           ],
           "z": [
            9.4272
           ]
          },
          {
           "marker": {
            "color": "hsl(308.57142857142856,70%,50%)",
            "opacity": 0.7,
            "size": 5
           },
           "mode": "markers",
           "name": "Sunday is - Layer 7",
           "showlegend": true,
           "type": "scatter3d",
           "x": [
            74.3357
           ],
           "y": [
            -24.0692
           ],
           "z": [
            -0.3219
           ]
          }
         ],
         "name": "7"
        },
        {
         "data": [
          {
           "marker": {
            "color": "hsl(0.0,70%,50%)",
            "opacity": 0.7,
            "size": 5
           },
           "mode": "markers",
           "name": "Monday is - Layer 8",
           "showlegend": true,
           "type": "scatter3d",
           "x": [
            -15.159
           ],
           "y": [
            -42.1157
           ],
           "z": [
            -30.8966
           ]
          },
          {
           "marker": {
            "color": "hsl(51.42857142857143,70%,50%)",
            "opacity": 0.7,
            "size": 5
           },
           "mode": "markers",
           "name": "Tuesday is - Layer 8",
           "showlegend": true,
           "type": "scatter3d",
           "x": [
            -29.0271
           ],
           "y": [
            -33.0616
           ],
           "z": [
            25.9578
           ]
          },
          {
           "marker": {
            "color": "hsl(102.85714285714286,70%,50%)",
            "opacity": 0.7,
            "size": 5
           },
           "mode": "markers",
           "name": "Wednesday is - Layer 8",
           "showlegend": true,
           "type": "scatter3d",
           "x": [
            -38.4342
           ],
           "y": [
            13.8307
           ],
           "z": [
            22.2214
           ]
          },
          {
           "marker": {
            "color": "hsl(154.28571428571428,70%,50%)",
            "opacity": 0.7,
            "size": 5
           },
           "mode": "markers",
           "name": "Thursday is - Layer 8",
           "showlegend": true,
           "type": "scatter3d",
           "x": [
            -27.4941
           ],
           "y": [
            20.179
           ],
           "z": [
            9.9826
           ]
          },
          {
           "marker": {
            "color": "hsl(205.71428571428572,70%,50%)",
            "opacity": 0.7,
            "size": 5
           },
           "mode": "markers",
           "name": "Friday is - Layer 8",
           "showlegend": true,
           "type": "scatter3d",
           "x": [
            -14.9997
           ],
           "y": [
            31.8171
           ],
           "z": [
            -41.6967
           ]
          },
          {
           "marker": {
            "color": "hsl(257.14285714285717,70%,50%)",
            "opacity": 0.7,
            "size": 5
           },
           "mode": "markers",
           "name": "Saturday is - Layer 8",
           "showlegend": true,
           "type": "scatter3d",
           "x": [
            51.8123
           ],
           "y": [
            33.5002
           ],
           "z": [
            12.5479
           ]
          },
          {
           "marker": {
            "color": "hsl(308.57142857142856,70%,50%)",
            "opacity": 0.7,
            "size": 5
           },
           "mode": "markers",
           "name": "Sunday is - Layer 8",
           "showlegend": true,
           "type": "scatter3d",
           "x": [
            73.3018
           ],
           "y": [
            -24.1497
           ],
           "z": [
            1.8835
           ]
          }
         ],
         "name": "8"
        },
        {
         "data": [
          {
           "marker": {
            "color": "hsl(0.0,70%,50%)",
            "opacity": 0.7,
            "size": 5
           },
           "mode": "markers",
           "name": "Monday is - Layer 9",
           "showlegend": true,
           "type": "scatter3d",
           "x": [
            -14.2723
           ],
           "y": [
            -41.4633
           ],
           "z": [
            -32.5395
           ]
          },
          {
           "marker": {
            "color": "hsl(51.42857142857143,70%,50%)",
            "opacity": 0.7,
            "size": 5
           },
           "mode": "markers",
           "name": "Tuesday is - Layer 9",
           "showlegend": true,
           "type": "scatter3d",
           "x": [
            -27.8103
           ],
           "y": [
            -36.365
           ],
           "z": [
            29.7732
           ]
          },
          {
           "marker": {
            "color": "hsl(102.85714285714286,70%,50%)",
            "opacity": 0.7,
            "size": 5
           },
           "mode": "markers",
           "name": "Wednesday is - Layer 9",
           "showlegend": true,
           "type": "scatter3d",
           "x": [
            -37.8676
           ],
           "y": [
            14.634
           ],
           "z": [
            21.4754
           ]
          },
          {
           "marker": {
            "color": "hsl(154.28571428571428,70%,50%)",
            "opacity": 0.7,
            "size": 5
           },
           "mode": "markers",
           "name": "Thursday is - Layer 9",
           "showlegend": true,
           "type": "scatter3d",
           "x": [
            -26.8451
           ],
           "y": [
            21.3347
           ],
           "z": [
            5.4536
           ]
          },
          {
           "marker": {
            "color": "hsl(205.71428571428572,70%,50%)",
            "opacity": 0.7,
            "size": 5
           },
           "mode": "markers",
           "name": "Friday is - Layer 9",
           "showlegend": true,
           "type": "scatter3d",
           "x": [
            -16.3242
           ],
           "y": [
            30.8776
           ],
           "z": [
            -38.3283
           ]
          },
          {
           "marker": {
            "color": "hsl(257.14285714285717,70%,50%)",
            "opacity": 0.7,
            "size": 5
           },
           "mode": "markers",
           "name": "Saturday is - Layer 9",
           "showlegend": true,
           "type": "scatter3d",
           "x": [
            49.7944
           ],
           "y": [
            33.0385
           ],
           "z": [
            14.4988
           ]
          },
          {
           "marker": {
            "color": "hsl(308.57142857142856,70%,50%)",
            "opacity": 0.7,
            "size": 5
           },
           "mode": "markers",
           "name": "Sunday is - Layer 9",
           "showlegend": true,
           "type": "scatter3d",
           "x": [
            73.3252
           ],
           "y": [
            -22.0565
           ],
           "z": [
            -0.3332
           ]
          }
         ],
         "name": "9"
        },
        {
         "data": [
          {
           "marker": {
            "color": "hsl(0.0,70%,50%)",
            "opacity": 0.7,
            "size": 5
           },
           "mode": "markers",
           "name": "Monday is - Layer 10",
           "showlegend": true,
           "type": "scatter3d",
           "x": [
            -10.448
           ],
           "y": [
            -34.5202
           ],
           "z": [
            -41.6962
           ]
          },
          {
           "marker": {
            "color": "hsl(51.42857142857143,70%,50%)",
            "opacity": 0.7,
            "size": 5
           },
           "mode": "markers",
           "name": "Tuesday is - Layer 10",
           "showlegend": true,
           "type": "scatter3d",
           "x": [
            -27.7336
           ],
           "y": [
            -48.5546
           ],
           "z": [
            30.7242
           ]
          },
          {
           "marker": {
            "color": "hsl(102.85714285714286,70%,50%)",
            "opacity": 0.7,
            "size": 5
           },
           "mode": "markers",
           "name": "Wednesday is - Layer 10",
           "showlegend": true,
           "type": "scatter3d",
           "x": [
            -40.8893
           ],
           "y": [
            17.0212
           ],
           "z": [
            21.3485
           ]
          },
          {
           "marker": {
            "color": "hsl(154.28571428571428,70%,50%)",
            "opacity": 0.7,
            "size": 5
           },
           "mode": "markers",
           "name": "Thursday is - Layer 10",
           "showlegend": true,
           "type": "scatter3d",
           "x": [
            -26.4417
           ],
           "y": [
            27.0385
           ],
           "z": [
            -1.8322
           ]
          },
          {
           "marker": {
            "color": "hsl(205.71428571428572,70%,50%)",
            "opacity": 0.7,
            "size": 5
           },
           "mode": "markers",
           "name": "Friday is - Layer 10",
           "showlegend": true,
           "type": "scatter3d",
           "x": [
            -12.801
           ],
           "y": [
            27.4997
           ],
           "z": [
            -27.0492
           ]
          },
          {
           "marker": {
            "color": "hsl(257.14285714285717,70%,50%)",
            "opacity": 0.7,
            "size": 5
           },
           "mode": "markers",
           "name": "Saturday is - Layer 10",
           "showlegend": true,
           "type": "scatter3d",
           "x": [
            46.2562
           ],
           "y": [
            30.0023
           ],
           "z": [
            17.0048
           ]
          },
          {
           "marker": {
            "color": "hsl(308.57142857142856,70%,50%)",
            "opacity": 0.7,
            "size": 5
           },
           "mode": "markers",
           "name": "Sunday is - Layer 10",
           "showlegend": true,
           "type": "scatter3d",
           "x": [
            72.0574
           ],
           "y": [
            -18.4868
           ],
           "z": [
            1.5001
           ]
          }
         ],
         "name": "10"
        },
        {
         "data": [
          {
           "marker": {
            "color": "hsl(0.0,70%,50%)",
            "opacity": 0.7,
            "size": 5
           },
           "mode": "markers",
           "name": "Monday is - Layer 11",
           "showlegend": true,
           "type": "scatter3d",
           "x": [
            -6.4169
           ],
           "y": [
            -23.5278
           ],
           "z": [
            -51.6815
           ]
          },
          {
           "marker": {
            "color": "hsl(51.42857142857143,70%,50%)",
            "opacity": 0.7,
            "size": 5
           },
           "mode": "markers",
           "name": "Tuesday is - Layer 11",
           "showlegend": true,
           "type": "scatter3d",
           "x": [
            -24.7277
           ],
           "y": [
            -56.7171
           ],
           "z": [
            26.6388
           ]
          },
          {
           "marker": {
            "color": "hsl(102.85714285714286,70%,50%)",
            "opacity": 0.7,
            "size": 5
           },
           "mode": "markers",
           "name": "Wednesday is - Layer 11",
           "showlegend": true,
           "type": "scatter3d",
           "x": [
            -40.3343
           ],
           "y": [
            13.672
           ],
           "z": [
            19.6287
           ]
          },
          {
           "marker": {
            "color": "hsl(154.28571428571428,70%,50%)",
            "opacity": 0.7,
            "size": 5
           },
           "mode": "markers",
           "name": "Thursday is - Layer 11",
           "showlegend": true,
           "type": "scatter3d",
           "x": [
            -27.3496
           ],
           "y": [
            25.0231
           ],
           "z": [
            0.9762
           ]
          },
          {
           "marker": {
            "color": "hsl(205.71428571428572,70%,50%)",
            "opacity": 0.7,
            "size": 5
           },
           "mode": "markers",
           "name": "Friday is - Layer 11",
           "showlegend": true,
           "type": "scatter3d",
           "x": [
            -16.3022
           ],
           "y": [
            28.3292
           ],
           "z": [
            -14.4429
           ]
          },
          {
           "marker": {
            "color": "hsl(257.14285714285717,70%,50%)",
            "opacity": 0.7,
            "size": 5
           },
           "mode": "markers",
           "name": "Saturday is - Layer 11",
           "showlegend": true,
           "type": "scatter3d",
           "x": [
            43.7673
           ],
           "y": [
            28.9633
           ],
           "z": [
            15.8484
           ]
          },
          {
           "marker": {
            "color": "hsl(308.57142857142856,70%,50%)",
            "opacity": 0.7,
            "size": 5
           },
           "mode": "markers",
           "name": "Sunday is - Layer 11",
           "showlegend": true,
           "type": "scatter3d",
           "x": [
            71.3634
           ],
           "y": [
            -15.7427
           ],
           "z": [
            3.0323
           ]
          }
         ],
         "name": "11"
        },
        {
         "data": [
          {
           "marker": {
            "color": "hsl(0.0,70%,50%)",
            "opacity": 0.7,
            "size": 5
           },
           "mode": "markers",
           "name": "Monday is - Layer 12",
           "showlegend": true,
           "type": "scatter3d",
           "x": [
            3.2465
           ],
           "y": [
            -7.5985
           ],
           "z": [
            58.4629
           ]
          },
          {
           "marker": {
            "color": "hsl(51.42857142857143,70%,50%)",
            "opacity": 0.7,
            "size": 5
           },
           "mode": "markers",
           "name": "Tuesday is - Layer 12",
           "showlegend": true,
           "type": "scatter3d",
           "x": [
            -28.2908
           ],
           "y": [
            -65.1404
           ],
           "z": [
            -14.5566
           ]
          },
          {
           "marker": {
            "color": "hsl(102.85714285714286,70%,50%)",
            "opacity": 0.7,
            "size": 5
           },
           "mode": "markers",
           "name": "Wednesday is - Layer 12",
           "showlegend": true,
           "type": "scatter3d",
           "x": [
            -46.4602
           ],
           "y": [
            12.3635
           ],
           "z": [
            -18.8448
           ]
          },
          {
           "marker": {
            "color": "hsl(154.28571428571428,70%,50%)",
            "opacity": 0.7,
            "size": 5
           },
           "mode": "markers",
           "name": "Thursday is - Layer 12",
           "showlegend": true,
           "type": "scatter3d",
           "x": [
            -23.9403
           ],
           "y": [
            30.7364
           ],
           "z": [
            2.03
           ]
          },
          {
           "marker": {
            "color": "hsl(205.71428571428572,70%,50%)",
            "opacity": 0.7,
            "size": 5
           },
           "mode": "markers",
           "name": "Friday is - Layer 12",
           "showlegend": true,
           "type": "scatter3d",
           "x": [
            -18.0597
           ],
           "y": [
            21.9925
           ],
           "z": [
            0.6043
           ]
          },
          {
           "marker": {
            "color": "hsl(257.14285714285717,70%,50%)",
            "opacity": 0.7,
            "size": 5
           },
           "mode": "markers",
           "name": "Saturday is - Layer 12",
           "showlegend": true,
           "type": "scatter3d",
           "x": [
            43.5474
           ],
           "y": [
            24.4496
           ],
           "z": [
            -19.6852
           ]
          },
          {
           "marker": {
            "color": "hsl(308.57142857142856,70%,50%)",
            "opacity": 0.7,
            "size": 5
           },
           "mode": "markers",
           "name": "Sunday is - Layer 12",
           "showlegend": true,
           "type": "scatter3d",
           "x": [
            69.9571
           ],
           "y": [
            -16.8031
           ],
           "z": [
            -8.0106
           ]
          }
         ],
         "name": "12"
        },
        {
         "data": [
          {
           "marker": {
            "color": "hsl(0.0,70%,50%)",
            "opacity": 0.7,
            "size": 5
           },
           "mode": "markers",
           "name": "Monday is - Layer 13",
           "showlegend": true,
           "type": "scatter3d",
           "x": [
            6.0288
           ],
           "y": [
            -4.5882
           ],
           "z": [
            58.7209
           ]
          },
          {
           "marker": {
            "color": "hsl(51.42857142857143,70%,50%)",
            "opacity": 0.7,
            "size": 5
           },
           "mode": "markers",
           "name": "Tuesday is - Layer 13",
           "showlegend": true,
           "type": "scatter3d",
           "x": [
            -34.7887
           ],
           "y": [
            -65.0215
           ],
           "z": [
            -10.9664
           ]
          },
          {
           "marker": {
            "color": "hsl(102.85714285714286,70%,50%)",
            "opacity": 0.7,
            "size": 5
           },
           "mode": "markers",
           "name": "Wednesday is - Layer 13",
           "showlegend": true,
           "type": "scatter3d",
           "x": [
            -45.49
           ],
           "y": [
            13.2474
           ],
           "z": [
            -18.5387
           ]
          },
          {
           "marker": {
            "color": "hsl(154.28571428571428,70%,50%)",
            "opacity": 0.7,
            "size": 5
           },
           "mode": "markers",
           "name": "Thursday is - Layer 13",
           "showlegend": true,
           "type": "scatter3d",
           "x": [
            -20.8228
           ],
           "y": [
            33.8055
           ],
           "z": [
            1.2183
           ]
          },
          {
           "marker": {
            "color": "hsl(205.71428571428572,70%,50%)",
            "opacity": 0.7,
            "size": 5
           },
           "mode": "markers",
           "name": "Friday is - Layer 13",
           "showlegend": true,
           "type": "scatter3d",
           "x": [
            -16.4578
           ],
           "y": [
            23.7914
           ],
           "z": [
            0.1433
           ]
          },
          {
           "marker": {
            "color": "hsl(257.14285714285717,70%,50%)",
            "opacity": 0.7,
            "size": 5
           },
           "mode": "markers",
           "name": "Saturday is - Layer 13",
           "showlegend": true,
           "type": "scatter3d",
           "x": [
            44.0329
           ],
           "y": [
            19.3022
           ],
           "z": [
            -21.8529
           ]
          },
          {
           "marker": {
            "color": "hsl(308.57142857142856,70%,50%)",
            "opacity": 0.7,
            "size": 5
           },
           "mode": "markers",
           "name": "Sunday is - Layer 13",
           "showlegend": true,
           "type": "scatter3d",
           "x": [
            67.4976
           ],
           "y": [
            -20.5368
           ],
           "z": [
            -8.7244
           ]
          }
         ],
         "name": "13"
        },
        {
         "data": [
          {
           "marker": {
            "color": "hsl(0.0,70%,50%)",
            "opacity": 0.7,
            "size": 5
           },
           "mode": "markers",
           "name": "Monday is - Layer 14",
           "showlegend": true,
           "type": "scatter3d",
           "x": [
            9.6013
           ],
           "y": [
            3.8136
           ],
           "z": [
            59.2977
           ]
          },
          {
           "marker": {
            "color": "hsl(51.42857142857143,70%,50%)",
            "opacity": 0.7,
            "size": 5
           },
           "mode": "markers",
           "name": "Tuesday is - Layer 14",
           "showlegend": true,
           "type": "scatter3d",
           "x": [
            -40.4801
           ],
           "y": [
            -63.2656
           ],
           "z": [
            -2.9664
           ]
          },
          {
           "marker": {
            "color": "hsl(102.85714285714286,70%,50%)",
            "opacity": 0.7,
            "size": 5
           },
           "mode": "markers",
           "name": "Wednesday is - Layer 14",
           "showlegend": true,
           "type": "scatter3d",
           "x": [
            -45.6094
           ],
           "y": [
            11.8468
           ],
           "z": [
            -17.5606
           ]
          },
          {
           "marker": {
            "color": "hsl(154.28571428571428,70%,50%)",
            "opacity": 0.7,
            "size": 5
           },
           "mode": "markers",
           "name": "Thursday is - Layer 14",
           "showlegend": true,
           "type": "scatter3d",
           "x": [
            -15.1877
           ],
           "y": [
            36.6751
           ],
           "z": [
            4.1828
           ]
          },
          {
           "marker": {
            "color": "hsl(205.71428571428572,70%,50%)",
            "opacity": 0.7,
            "size": 5
           },
           "mode": "markers",
           "name": "Friday is - Layer 14",
           "showlegend": true,
           "type": "scatter3d",
           "x": [
            -18.2906
           ],
           "y": [
            24.2889
           ],
           "z": [
            -11.1081
           ]
          },
          {
           "marker": {
            "color": "hsl(257.14285714285717,70%,50%)",
            "opacity": 0.7,
            "size": 5
           },
           "mode": "markers",
           "name": "Saturday is - Layer 14",
           "showlegend": true,
           "type": "scatter3d",
           "x": [
            46.9597
           ],
           "y": [
            13.3558
           ],
           "z": [
            -23.4615
           ]
          },
          {
           "marker": {
            "color": "hsl(308.57142857142856,70%,50%)",
            "opacity": 0.7,
            "size": 5
           },
           "mode": "markers",
           "name": "Sunday is - Layer 14",
           "showlegend": true,
           "type": "scatter3d",
           "x": [
            63.0069
           ],
           "y": [
            -26.7146
           ],
           "z": [
            -8.3839
           ]
          }
         ],
         "name": "14"
        },
        {
         "data": [
          {
           "marker": {
            "color": "hsl(0.0,70%,50%)",
            "opacity": 0.7,
            "size": 5
           },
           "mode": "markers",
           "name": "Monday is - Layer 15",
           "showlegend": true,
           "type": "scatter3d",
           "x": [
            14.9166
           ],
           "y": [
            10.7394
           ],
           "z": [
            57.7364
           ]
          },
          {
           "marker": {
            "color": "hsl(51.42857142857143,70%,50%)",
            "opacity": 0.7,
            "size": 5
           },
           "mode": "markers",
           "name": "Tuesday is - Layer 15",
           "showlegend": true,
           "type": "scatter3d",
           "x": [
            -47.2229
           ],
           "y": [
            -59.0499
           ],
           "z": [
            4.0101
           ]
          },
          {
           "marker": {
            "color": "hsl(102.85714285714286,70%,50%)",
            "opacity": 0.7,
            "size": 5
           },
           "mode": "markers",
           "name": "Wednesday is - Layer 15",
           "showlegend": true,
           "type": "scatter3d",
           "x": [
            -45.7368
           ],
           "y": [
            12.8025
           ],
           "z": [
            -18.4962
           ]
          },
          {
           "marker": {
            "color": "hsl(154.28571428571428,70%,50%)",
            "opacity": 0.7,
            "size": 5
           },
           "mode": "markers",
           "name": "Thursday is - Layer 15",
           "showlegend": true,
           "type": "scatter3d",
           "x": [
            -9.5053
           ],
           "y": [
            38.5643
           ],
           "z": [
            1.2873
           ]
          },
          {
           "marker": {
            "color": "hsl(205.71428571428572,70%,50%)",
            "opacity": 0.7,
            "size": 5
           },
           "mode": "markers",
           "name": "Friday is - Layer 15",
           "showlegend": true,
           "type": "scatter3d",
           "x": [
            -17.2574
           ],
           "y": [
            23.242
           ],
           "z": [
            -10.2233
           ]
          },
          {
           "marker": {
            "color": "hsl(257.14285714285717,70%,50%)",
            "opacity": 0.7,
            "size": 5
           },
           "mode": "markers",
           "name": "Saturday is - Layer 15",
           "showlegend": true,
           "type": "scatter3d",
           "x": [
            46.8514
           ],
           "y": [
            6.4307
           ],
           "z": [
            -27.6193
           ]
          },
          {
           "marker": {
            "color": "hsl(308.57142857142856,70%,50%)",
            "opacity": 0.7,
            "size": 5
           },
           "mode": "markers",
           "name": "Sunday is - Layer 15",
           "showlegend": true,
           "type": "scatter3d",
           "x": [
            57.9544
           ],
           "y": [
            -32.7289
           ],
           "z": [
            -6.695
           ]
          }
         ],
         "name": "15"
        },
        {
         "data": [
          {
           "marker": {
            "color": "hsl(0.0,70%,50%)",
            "opacity": 0.7,
            "size": 5
           },
           "mode": "markers",
           "name": "Monday is - Layer 16",
           "showlegend": true,
           "type": "scatter3d",
           "x": [
            15.2253
           ],
           "y": [
            11.1422
           ],
           "z": [
            56.7202
           ]
          },
          {
           "marker": {
            "color": "hsl(51.42857142857143,70%,50%)",
            "opacity": 0.7,
            "size": 5
           },
           "mode": "markers",
           "name": "Tuesday is - Layer 16",
           "showlegend": true,
           "type": "scatter3d",
           "x": [
            -47.7942
           ],
           "y": [
            -58.3428
           ],
           "z": [
            4.9811
           ]
          },
          {
           "marker": {
            "color": "hsl(102.85714285714286,70%,50%)",
            "opacity": 0.7,
            "size": 5
           },
           "mode": "markers",
           "name": "Wednesday is - Layer 16",
           "showlegend": true,
           "type": "scatter3d",
           "x": [
            -44.2183
           ],
           "y": [
            15.3318
           ],
           "z": [
            -17.6006
           ]
          },
          {
           "marker": {
            "color": "hsl(154.28571428571428,70%,50%)",
            "opacity": 0.7,
            "size": 5
           },
           "mode": "markers",
           "name": "Thursday is - Layer 16",
           "showlegend": true,
           "type": "scatter3d",
           "x": [
            -8.8155
           ],
           "y": [
            41.8379
           ],
           "z": [
            2.6373
           ]
          },
          {
           "marker": {
            "color": "hsl(205.71428571428572,70%,50%)",
            "opacity": 0.7,
            "size": 5
           },
           "mode": "markers",
           "name": "Friday is - Layer 16",
           "showlegend": true,
           "type": "scatter3d",
           "x": [
            -16.2017
           ],
           "y": [
            17.7055
           ],
           "z": [
            -13.2788
           ]
          },
          {
           "marker": {
            "color": "hsl(257.14285714285717,70%,50%)",
            "opacity": 0.7,
            "size": 5
           },
           "mode": "markers",
           "name": "Saturday is - Layer 16",
           "showlegend": true,
           "type": "scatter3d",
           "x": [
            45.5828
           ],
           "y": [
            6.444
           ],
           "z": [
            -26.8312
           ]
          },
          {
           "marker": {
            "color": "hsl(308.57142857142856,70%,50%)",
            "opacity": 0.7,
            "size": 5
           },
           "mode": "markers",
           "name": "Sunday is - Layer 16",
           "showlegend": true,
           "type": "scatter3d",
           "x": [
            56.2216
           ],
           "y": [
            -34.1186
           ],
           "z": [
            -6.628
           ]
          }
         ],
         "name": "16"
        },
        {
         "data": [
          {
           "marker": {
            "color": "hsl(0.0,70%,50%)",
            "opacity": 0.7,
            "size": 5
           },
           "mode": "markers",
           "name": "Monday is - Layer 17",
           "showlegend": true,
           "type": "scatter3d",
           "x": [
            15.8915
           ],
           "y": [
            9.006
           ],
           "z": [
            54.4634
           ]
          },
          {
           "marker": {
            "color": "hsl(51.42857142857143,70%,50%)",
            "opacity": 0.7,
            "size": 5
           },
           "mode": "markers",
           "name": "Tuesday is - Layer 17",
           "showlegend": true,
           "type": "scatter3d",
           "x": [
            -55.8813
           ],
           "y": [
            -52.7121
           ],
           "z": [
            4.6662
           ]
          },
          {
           "marker": {
            "color": "hsl(102.85714285714286,70%,50%)",
            "opacity": 0.7,
            "size": 5
           },
           "mode": "markers",
           "name": "Wednesday is - Layer 17",
           "showlegend": true,
           "type": "scatter3d",
           "x": [
            -39.8955
           ],
           "y": [
            20.7773
           ],
           "z": [
            -14.1256
           ]
          },
          {
           "marker": {
            "color": "hsl(154.28571428571428,70%,50%)",
            "opacity": 0.7,
            "size": 5
           },
           "mode": "markers",
           "name": "Thursday is - Layer 17",
           "showlegend": true,
           "type": "scatter3d",
           "x": [
            -2.7479
           ],
           "y": [
            43.2297
           ],
           "z": [
            6.8237
           ]
          },
          {
           "marker": {
            "color": "hsl(205.71428571428572,70%,50%)",
            "opacity": 0.7,
            "size": 5
           },
           "mode": "markers",
           "name": "Friday is - Layer 17",
           "showlegend": true,
           "type": "scatter3d",
           "x": [
            -13.8351
           ],
           "y": [
            18.1983
           ],
           "z": [
            -21.5016
           ]
          },
          {
           "marker": {
            "color": "hsl(257.14285714285717,70%,50%)",
            "opacity": 0.7,
            "size": 5
           },
           "mode": "markers",
           "name": "Saturday is - Layer 17",
           "showlegend": true,
           "type": "scatter3d",
           "x": [
            47.4734
           ],
           "y": [
            1.9628
           ],
           "z": [
            -25.4989
           ]
          },
          {
           "marker": {
            "color": "hsl(308.57142857142856,70%,50%)",
            "opacity": 0.7,
            "size": 5
           },
           "mode": "markers",
           "name": "Sunday is - Layer 17",
           "showlegend": true,
           "type": "scatter3d",
           "x": [
            48.995
           ],
           "y": [
            -40.462
           ],
           "z": [
            -4.8272
           ]
          }
         ],
         "name": "17"
        },
        {
         "data": [
          {
           "marker": {
            "color": "hsl(0.0,70%,50%)",
            "opacity": 0.7,
            "size": 5
           },
           "mode": "markers",
           "name": "Monday is - Layer 18",
           "showlegend": true,
           "type": "scatter3d",
           "x": [
            13.9025
           ],
           "y": [
            13.7587
           ],
           "z": [
            1.2161
           ]
          },
          {
           "marker": {
            "color": "hsl(51.42857142857143,70%,50%)",
            "opacity": 0.7,
            "size": 5
           },
           "mode": "markers",
           "name": "Tuesday is - Layer 18",
           "showlegend": true,
           "type": "scatter3d",
           "x": [
            -54.5207
           ],
           "y": [
            -53.1402
           ],
           "z": [
            11.868
           ]
          },
          {
           "marker": {
            "color": "hsl(102.85714285714286,70%,50%)",
            "opacity": 0.7,
            "size": 5
           },
           "mode": "markers",
           "name": "Wednesday is - Layer 18",
           "showlegend": true,
           "type": "scatter3d",
           "x": [
            -39.3089
           ],
           "y": [
            20.7712
           ],
           "z": [
            13.4652
           ]
          },
          {
           "marker": {
            "color": "hsl(154.28571428571428,70%,50%)",
            "opacity": 0.7,
            "size": 5
           },
           "mode": "markers",
           "name": "Thursday is - Layer 18",
           "showlegend": true,
           "type": "scatter3d",
           "x": [
            -2.2023
           ],
           "y": [
            43.9349
           ],
           "z": [
            24.8039
           ]
          },
          {
           "marker": {
            "color": "hsl(205.71428571428572,70%,50%)",
            "opacity": 0.7,
            "size": 5
           },
           "mode": "markers",
           "name": "Friday is - Layer 18",
           "showlegend": true,
           "type": "scatter3d",
           "x": [
            -16.7961
           ],
           "y": [
            14.8315
           ],
           "z": [
            -56.4503
           ]
          },
          {
           "marker": {
            "color": "hsl(257.14285714285717,70%,50%)",
            "opacity": 0.7,
            "size": 5
           },
           "mode": "markers",
           "name": "Saturday is - Layer 18",
           "showlegend": true,
           "type": "scatter3d",
           "x": [
            50.9638
           ],
           "y": [
            -0.07
           ],
           "z": [
            7.1484
           ]
          },
          {
           "marker": {
            "color": "hsl(308.57142857142856,70%,50%)",
            "opacity": 0.7,
            "size": 5
           },
           "mode": "markers",
           "name": "Sunday is - Layer 18",
           "showlegend": true,
           "type": "scatter3d",
           "x": [
            47.9616
           ],
           "y": [
            -40.0861
           ],
           "z": [
            -2.0514
           ]
          }
         ],
         "name": "18"
        },
        {
         "data": [
          {
           "marker": {
            "color": "hsl(0.0,70%,50%)",
            "opacity": 0.7,
            "size": 5
           },
           "mode": "markers",
           "name": "Monday is - Layer 19",
           "showlegend": true,
           "type": "scatter3d",
           "x": [
            11.3805
           ],
           "y": [
            13.4335
           ],
           "z": [
            -4.3513
           ]
          },
          {
           "marker": {
            "color": "hsl(51.42857142857143,70%,50%)",
            "opacity": 0.7,
            "size": 5
           },
           "mode": "markers",
           "name": "Tuesday is - Layer 19",
           "showlegend": true,
           "type": "scatter3d",
           "x": [
            -52.395
           ],
           "y": [
            -55.6747
           ],
           "z": [
            10.2755
           ]
          },
          {
           "marker": {
            "color": "hsl(102.85714285714286,70%,50%)",
            "opacity": 0.7,
            "size": 5
           },
           "mode": "markers",
           "name": "Wednesday is - Layer 19",
           "showlegend": true,
           "type": "scatter3d",
           "x": [
            -38.318
           ],
           "y": [
            18.7887
           ],
           "z": [
            15.6242
           ]
          },
          {
           "marker": {
            "color": "hsl(154.28571428571428,70%,50%)",
            "opacity": 0.7,
            "size": 5
           },
           "mode": "markers",
           "name": "Thursday is - Layer 19",
           "showlegend": true,
           "type": "scatter3d",
           "x": [
            -7.9392
           ],
           "y": [
            42.495
           ],
           "z": [
            26.2708
           ]
          },
          {
           "marker": {
            "color": "hsl(205.71428571428572,70%,50%)",
            "opacity": 0.7,
            "size": 5
           },
           "mode": "markers",
           "name": "Friday is - Layer 19",
           "showlegend": true,
           "type": "scatter3d",
           "x": [
            -15.6134
           ],
           "y": [
            15.3081
           ],
           "z": [
            -57.5244
           ]
          },
          {
           "marker": {
            "color": "hsl(257.14285714285717,70%,50%)",
            "opacity": 0.7,
            "size": 5
           },
           "mode": "markers",
           "name": "Saturday is - Layer 19",
           "showlegend": true,
           "type": "scatter3d",
           "x": [
            51.2769
           ],
           "y": [
            2.5771
           ],
           "z": [
            11.6335
           ]
          },
          {
           "marker": {
            "color": "hsl(308.57142857142856,70%,50%)",
            "opacity": 0.7,
            "size": 5
           },
           "mode": "markers",
           "name": "Sunday is - Layer 19",
           "showlegend": true,
           "type": "scatter3d",
           "x": [
            51.6082
           ],
           "y": [
            -36.9276
           ],
           "z": [
            -1.9284
           ]
          }
         ],
         "name": "19"
        },
        {
         "data": [
          {
           "marker": {
            "color": "hsl(0.0,70%,50%)",
            "opacity": 0.7,
            "size": 5
           },
           "mode": "markers",
           "name": "Monday is - Layer 20",
           "showlegend": true,
           "type": "scatter3d",
           "x": [
            11.2063
           ],
           "y": [
            12.7169
           ],
           "z": [
            -2.4165
           ]
          },
          {
           "marker": {
            "color": "hsl(51.42857142857143,70%,50%)",
            "opacity": 0.7,
            "size": 5
           },
           "mode": "markers",
           "name": "Tuesday is - Layer 20",
           "showlegend": true,
           "type": "scatter3d",
           "x": [
            -55.2667
           ],
           "y": [
            -52.9719
           ],
           "z": [
            4.6818
           ]
          },
          {
           "marker": {
            "color": "hsl(102.85714285714286,70%,50%)",
            "opacity": 0.7,
            "size": 5
           },
           "mode": "markers",
           "name": "Wednesday is - Layer 20",
           "showlegend": true,
           "type": "scatter3d",
           "x": [
            -37.8924
           ],
           "y": [
            16.2969
           ],
           "z": [
            16.2447
           ]
          },
          {
           "marker": {
            "color": "hsl(154.28571428571428,70%,50%)",
            "opacity": 0.7,
            "size": 5
           },
           "mode": "markers",
           "name": "Thursday is - Layer 20",
           "showlegend": true,
           "type": "scatter3d",
           "x": [
            -8.3897
           ],
           "y": [
            38.909
           ],
           "z": [
            28.8537
           ]
          },
          {
           "marker": {
            "color": "hsl(205.71428571428572,70%,50%)",
            "opacity": 0.7,
            "size": 5
           },
           "mode": "markers",
           "name": "Friday is - Layer 20",
           "showlegend": true,
           "type": "scatter3d",
           "x": [
            -11.5257
           ],
           "y": [
            21.5122
           ],
           "z": [
            -57.0775
           ]
          },
          {
           "marker": {
            "color": "hsl(257.14285714285717,70%,50%)",
            "opacity": 0.7,
            "size": 5
           },
           "mode": "markers",
           "name": "Saturday is - Layer 20",
           "showlegend": true,
           "type": "scatter3d",
           "x": [
            50.3645
           ],
           "y": [
            0.1822
           ],
           "z": [
            12.9021
           ]
          },
          {
           "marker": {
            "color": "hsl(308.57142857142856,70%,50%)",
            "opacity": 0.7,
            "size": 5
           },
           "mode": "markers",
           "name": "Sunday is - Layer 20",
           "showlegend": true,
           "type": "scatter3d",
           "x": [
            51.5038
           ],
           "y": [
            -36.6452
           ],
           "z": [
            -3.1883
           ]
          }
         ],
         "name": "20"
        },
        {
         "data": [
          {
           "marker": {
            "color": "hsl(0.0,70%,50%)",
            "opacity": 0.7,
            "size": 5
           },
           "mode": "markers",
           "name": "Monday is - Layer 21",
           "showlegend": true,
           "type": "scatter3d",
           "x": [
            10.5311
           ],
           "y": [
            14.6525
           ],
           "z": [
            1.0734
           ]
          },
          {
           "marker": {
            "color": "hsl(51.42857142857143,70%,50%)",
            "opacity": 0.7,
            "size": 5
           },
           "mode": "markers",
           "name": "Tuesday is - Layer 21",
           "showlegend": true,
           "type": "scatter3d",
           "x": [
            -57.2829
           ],
           "y": [
            -51.3937
           ],
           "z": [
            5.579
           ]
          },
          {
           "marker": {
            "color": "hsl(102.85714285714286,70%,50%)",
            "opacity": 0.7,
            "size": 5
           },
           "mode": "markers",
           "name": "Wednesday is - Layer 21",
           "showlegend": true,
           "type": "scatter3d",
           "x": [
            -37.0487
           ],
           "y": [
            16.2176
           ],
           "z": [
            12.5031
           ]
          },
          {
           "marker": {
            "color": "hsl(154.28571428571428,70%,50%)",
            "opacity": 0.7,
            "size": 5
           },
           "mode": "markers",
           "name": "Thursday is - Layer 21",
           "showlegend": true,
           "type": "scatter3d",
           "x": [
            -8.8186
           ],
           "y": [
            38.8559
           ],
           "z": [
            28.3421
           ]
          },
          {
           "marker": {
            "color": "hsl(205.71428571428572,70%,50%)",
            "opacity": 0.7,
            "size": 5
           },
           "mode": "markers",
           "name": "Friday is - Layer 21",
           "showlegend": true,
           "type": "scatter3d",
           "x": [
            -9.0328
           ],
           "y": [
            20.3953
           ],
           "z": [
            -57.4141
           ]
          },
          {
           "marker": {
            "color": "hsl(257.14285714285717,70%,50%)",
            "opacity": 0.7,
            "size": 5
           },
           "mode": "markers",
           "name": "Saturday is - Layer 21",
           "showlegend": true,
           "type": "scatter3d",
           "x": [
            50.763
           ],
           "y": [
            -1.8737
           ],
           "z": [
            14.3912
           ]
          },
          {
           "marker": {
            "color": "hsl(308.57142857142856,70%,50%)",
            "opacity": 0.7,
            "size": 5
           },
           "mode": "markers",
           "name": "Sunday is - Layer 21",
           "showlegend": true,
           "type": "scatter3d",
           "x": [
            50.889
           ],
           "y": [
            -36.8538
           ],
           "z": [
            -4.4747
           ]
          }
         ],
         "name": "21"
        },
        {
         "data": [
          {
           "marker": {
            "color": "hsl(0.0,70%,50%)",
            "opacity": 0.7,
            "size": 5
           },
           "mode": "markers",
           "name": "Monday is - Layer 22",
           "showlegend": true,
           "type": "scatter3d",
           "x": [
            11.3083
           ],
           "y": [
            14.3706
           ],
           "z": [
            -4.0233
           ]
          },
          {
           "marker": {
            "color": "hsl(51.42857142857143,70%,50%)",
            "opacity": 0.7,
            "size": 5
           },
           "mode": "markers",
           "name": "Tuesday is - Layer 22",
           "showlegend": true,
           "type": "scatter3d",
           "x": [
            -58.6
           ],
           "y": [
            -50.6287
           ],
           "z": [
            5.6352
           ]
          },
          {
           "marker": {
            "color": "hsl(102.85714285714286,70%,50%)",
            "opacity": 0.7,
            "size": 5
           },
           "mode": "markers",
           "name": "Wednesday is - Layer 22",
           "showlegend": true,
           "type": "scatter3d",
           "x": [
            -36.6838
           ],
           "y": [
            17.0553
           ],
           "z": [
            14.1177
           ]
          },
          {
           "marker": {
            "color": "hsl(154.28571428571428,70%,50%)",
            "opacity": 0.7,
            "size": 5
           },
           "mode": "markers",
           "name": "Thursday is - Layer 22",
           "showlegend": true,
           "type": "scatter3d",
           "x": [
            -7.913
           ],
           "y": [
            38.9372
           ],
           "z": [
            28.141
           ]
          },
          {
           "marker": {
            "color": "hsl(205.71428571428572,70%,50%)",
            "opacity": 0.7,
            "size": 5
           },
           "mode": "markers",
           "name": "Friday is - Layer 22",
           "showlegend": true,
           "type": "scatter3d",
           "x": [
            -8.6977
           ],
           "y": [
            20.1266
           ],
           "z": [
            -56.4897
           ]
          },
          {
           "marker": {
            "color": "hsl(257.14285714285717,70%,50%)",
            "opacity": 0.7,
            "size": 5
           },
           "mode": "markers",
           "name": "Saturday is - Layer 22",
           "showlegend": true,
           "type": "scatter3d",
           "x": [
            49.853
           ],
           "y": [
            -1.9978
           ],
           "z": [
            17.3244
           ]
          },
          {
           "marker": {
            "color": "hsl(308.57142857142856,70%,50%)",
            "opacity": 0.7,
            "size": 5
           },
           "mode": "markers",
           "name": "Sunday is - Layer 22",
           "showlegend": true,
           "type": "scatter3d",
           "x": [
            50.7333
           ],
           "y": [
            -37.8633
           ],
           "z": [
            -4.7053
           ]
          }
         ],
         "name": "22"
        },
        {
         "data": [
          {
           "marker": {
            "color": "hsl(0.0,70%,50%)",
            "opacity": 0.7,
            "size": 5
           },
           "mode": "markers",
           "name": "Monday is - Layer 23",
           "showlegend": true,
           "type": "scatter3d",
           "x": [
            10.4046
           ],
           "y": [
            13.2528
           ],
           "z": [
            -3.699
           ]
          },
          {
           "marker": {
            "color": "hsl(51.42857142857143,70%,50%)",
            "opacity": 0.7,
            "size": 5
           },
           "mode": "markers",
           "name": "Tuesday is - Layer 23",
           "showlegend": true,
           "type": "scatter3d",
           "x": [
            -56.2353
           ],
           "y": [
            -52.3326
           ],
           "z": [
            6.5407
           ]
          },
          {
           "marker": {
            "color": "hsl(102.85714285714286,70%,50%)",
            "opacity": 0.7,
            "size": 5
           },
           "mode": "markers",
           "name": "Wednesday is - Layer 23",
           "showlegend": true,
           "type": "scatter3d",
           "x": [
            -36.9764
           ],
           "y": [
            17.3546
           ],
           "z": [
            12.6647
           ]
          },
          {
           "marker": {
            "color": "hsl(154.28571428571428,70%,50%)",
            "opacity": 0.7,
            "size": 5
           },
           "mode": "markers",
           "name": "Thursday is - Layer 23",
           "showlegend": true,
           "type": "scatter3d",
           "x": [
            -8.7055
           ],
           "y": [
            37.6079
           ],
           "z": [
            28.67
           ]
          },
          {
           "marker": {
            "color": "hsl(205.71428571428572,70%,50%)",
            "opacity": 0.7,
            "size": 5
           },
           "mode": "markers",
           "name": "Friday is - Layer 23",
           "showlegend": true,
           "type": "scatter3d",
           "x": [
            -9.7353
           ],
           "y": [
            20.8219
           ],
           "z": [
            -56.207
           ]
          },
          {
           "marker": {
            "color": "hsl(257.14285714285717,70%,50%)",
            "opacity": 0.7,
            "size": 5
           },
           "mode": "markers",
           "name": "Saturday is - Layer 23",
           "showlegend": true,
           "type": "scatter3d",
           "x": [
            49.3268
           ],
           "y": [
            1.2594
           ],
           "z": [
            18.3658
           ]
          },
          {
           "marker": {
            "color": "hsl(308.57142857142856,70%,50%)",
            "opacity": 0.7,
            "size": 5
           },
           "mode": "markers",
           "name": "Sunday is - Layer 23",
           "showlegend": true,
           "type": "scatter3d",
           "x": [
            51.921
           ],
           "y": [
            -37.9641
           ],
           "z": [
            -6.3352
           ]
          }
         ],
         "name": "23"
        },
        {
         "data": [
          {
           "marker": {
            "color": "hsl(0.0,70%,50%)",
            "opacity": 0.7,
            "size": 5
           },
           "mode": "markers",
           "name": "Monday is - Layer 24",
           "showlegend": true,
           "type": "scatter3d",
           "x": [
            9.0011
           ],
           "y": [
            13.0962
           ],
           "z": [
            4.7394
           ]
          },
          {
           "marker": {
            "color": "hsl(51.42857142857143,70%,50%)",
            "opacity": 0.7,
            "size": 5
           },
           "mode": "markers",
           "name": "Tuesday is - Layer 24",
           "showlegend": true,
           "type": "scatter3d",
           "x": [
            -54.8097
           ],
           "y": [
            -54.0168
           ],
           "z": [
            3.8622
           ]
          },
          {
           "marker": {
            "color": "hsl(102.85714285714286,70%,50%)",
            "opacity": 0.7,
            "size": 5
           },
           "mode": "markers",
           "name": "Wednesday is - Layer 24",
           "showlegend": true,
           "type": "scatter3d",
           "x": [
            -37.4169
           ],
           "y": [
            16.4637
           ],
           "z": [
            9.1042
           ]
          },
          {
           "marker": {
            "color": "hsl(154.28571428571428,70%,50%)",
            "opacity": 0.7,
            "size": 5
           },
           "mode": "markers",
           "name": "Thursday is - Layer 24",
           "showlegend": true,
           "type": "scatter3d",
           "x": [
            -11.6553
           ],
           "y": [
            36.0065
           ],
           "z": [
            29.9392
           ]
          },
          {
           "marker": {
            "color": "hsl(205.71428571428572,70%,50%)",
            "opacity": 0.7,
            "size": 5
           },
           "mode": "markers",
           "name": "Friday is - Layer 24",
           "showlegend": true,
           "type": "scatter3d",
           "x": [
            -7.3182
           ],
           "y": [
            23.2661
           ],
           "z": [
            -57.3591
           ]
          },
          {
           "marker": {
            "color": "hsl(257.14285714285717,70%,50%)",
            "opacity": 0.7,
            "size": 5
           },
           "mode": "markers",
           "name": "Saturday is - Layer 24",
           "showlegend": true,
           "type": "scatter3d",
           "x": [
            48.5758
           ],
           "y": [
            1.1179
           ],
           "z": [
            16.2542
           ]
          },
          {
           "marker": {
            "color": "hsl(308.57142857142856,70%,50%)",
            "opacity": 0.7,
            "size": 5
           },
           "mode": "markers",
           "name": "Sunday is - Layer 24",
           "showlegend": true,
           "type": "scatter3d",
           "x": [
            53.6231
           ],
           "y": [
            -35.9336
           ],
           "z": [
            -6.5401
           ]
          }
         ],
         "name": "24"
        },
        {
         "data": [
          {
           "marker": {
            "color": "hsl(0.0,70%,50%)",
            "opacity": 0.7,
            "size": 5
           },
           "mode": "markers",
           "name": "Monday is - Layer 25",
           "showlegend": true,
           "type": "scatter3d",
           "x": [
            8.0541
           ],
           "y": [
            13.5635
           ],
           "z": [
            5.3053
           ]
          },
          {
           "marker": {
            "color": "hsl(51.42857142857143,70%,50%)",
            "opacity": 0.7,
            "size": 5
           },
           "mode": "markers",
           "name": "Tuesday is - Layer 25",
           "showlegend": true,
           "type": "scatter3d",
           "x": [
            -51.6102
           ],
           "y": [
            -56.7856
           ],
           "z": [
            1.0763
           ]
          },
          {
           "marker": {
            "color": "hsl(102.85714285714286,70%,50%)",
            "opacity": 0.7,
            "size": 5
           },
           "mode": "markers",
           "name": "Wednesday is - Layer 25",
           "showlegend": true,
           "type": "scatter3d",
           "x": [
            -38.8407
           ],
           "y": [
            14.8046
           ],
           "z": [
            9.6355
           ]
          },
          {
           "marker": {
            "color": "hsl(154.28571428571428,70%,50%)",
            "opacity": 0.7,
            "size": 5
           },
           "mode": "markers",
           "name": "Thursday is - Layer 25",
           "showlegend": true,
           "type": "scatter3d",
           "x": [
            -13.6198
           ],
           "y": [
            33.0289
           ],
           "z": [
            31.3737
           ]
          },
          {
           "marker": {
            "color": "hsl(205.71428571428572,70%,50%)",
            "opacity": 0.7,
            "size": 5
           },
           "mode": "markers",
           "name": "Friday is - Layer 25",
           "showlegend": true,
           "type": "scatter3d",
           "x": [
            -8.6208
           ],
           "y": [
            27.2413
           ],
           "z": [
            -55.4179
           ]
          },
          {
           "marker": {
            "color": "hsl(257.14285714285717,70%,50%)",
            "opacity": 0.7,
            "size": 5
           },
           "mode": "markers",
           "name": "Saturday is - Layer 25",
           "showlegend": true,
           "type": "scatter3d",
           "x": [
            49.0651
           ],
           "y": [
            1.5536
           ],
           "z": [
            16.8217
           ]
          },
          {
           "marker": {
            "color": "hsl(308.57142857142856,70%,50%)",
            "opacity": 0.7,
            "size": 5
           },
           "mode": "markers",
           "name": "Sunday is - Layer 25",
           "showlegend": true,
           "type": "scatter3d",
           "x": [
            55.5724
           ],
           "y": [
            -33.4063
           ],
           "z": [
            -8.7946
           ]
          }
         ],
         "name": "25"
        },
        {
         "data": [
          {
           "marker": {
            "color": "hsl(0.0,70%,50%)",
            "opacity": 0.7,
            "size": 5
           },
           "mode": "markers",
           "name": "Monday is - Layer 26",
           "showlegend": true,
           "type": "scatter3d",
           "x": [
            8.9714
           ],
           "y": [
            12.9843
           ],
           "z": [
            8.33
           ]
          },
          {
           "marker": {
            "color": "hsl(51.42857142857143,70%,50%)",
            "opacity": 0.7,
            "size": 5
           },
           "mode": "markers",
           "name": "Tuesday is - Layer 26",
           "showlegend": true,
           "type": "scatter3d",
           "x": [
            -53.9071
           ],
           "y": [
            -56.387
           ],
           "z": [
            1.6206
           ]
          },
          {
           "marker": {
            "color": "hsl(102.85714285714286,70%,50%)",
            "opacity": 0.7,
            "size": 5
           },
           "mode": "markers",
           "name": "Wednesday is - Layer 26",
           "showlegend": true,
           "type": "scatter3d",
           "x": [
            -38.3002
           ],
           "y": [
            16.6477
           ],
           "z": [
            8.9325
           ]
          },
          {
           "marker": {
            "color": "hsl(154.28571428571428,70%,50%)",
            "opacity": 0.7,
            "size": 5
           },
           "mode": "markers",
           "name": "Thursday is - Layer 26",
           "showlegend": true,
           "type": "scatter3d",
           "x": [
            -13.1932
           ],
           "y": [
            33.7287
           ],
           "z": [
            29.9607
           ]
          },
          {
           "marker": {
            "color": "hsl(205.71428571428572,70%,50%)",
            "opacity": 0.7,
            "size": 5
           },
           "mode": "markers",
           "name": "Friday is - Layer 26",
           "showlegend": true,
           "type": "scatter3d",
           "x": [
            -8.3345
           ],
           "y": [
            26.5774
           ],
           "z": [
            -55.6144
           ]
          },
          {
           "marker": {
            "color": "hsl(257.14285714285717,70%,50%)",
            "opacity": 0.7,
            "size": 5
           },
           "mode": "markers",
           "name": "Saturday is - Layer 26",
           "showlegend": true,
           "type": "scatter3d",
           "x": [
            49.5973
           ],
           "y": [
            0.2066
           ],
           "z": [
            15.623
           ]
          },
          {
           "marker": {
            "color": "hsl(308.57142857142856,70%,50%)",
            "opacity": 0.7,
            "size": 5
           },
           "mode": "markers",
           "name": "Sunday is - Layer 26",
           "showlegend": true,
           "type": "scatter3d",
           "x": [
            55.1662
           ],
           "y": [
            -33.7578
           ],
           "z": [
            -8.8524
           ]
          }
         ],
         "name": "26"
        },
        {
         "data": [
          {
           "marker": {
            "color": "hsl(0.0,70%,50%)",
            "opacity": 0.7,
            "size": 5
           },
           "mode": "markers",
           "name": "Monday is - Layer 27",
           "showlegend": true,
           "type": "scatter3d",
           "x": [
            8.7954
           ],
           "y": [
            9.8016
           ],
           "z": [
            10.6699
           ]
          },
          {
           "marker": {
            "color": "hsl(51.42857142857143,70%,50%)",
            "opacity": 0.7,
            "size": 5
           },
           "mode": "markers",
           "name": "Tuesday is - Layer 27",
           "showlegend": true,
           "type": "scatter3d",
           "x": [
            -51.02
           ],
           "y": [
            -57.7772
           ],
           "z": [
            -0.577
           ]
          },
          {
           "marker": {
            "color": "hsl(102.85714285714286,70%,50%)",
            "opacity": 0.7,
            "size": 5
           },
           "mode": "markers",
           "name": "Wednesday is - Layer 27",
           "showlegend": true,
           "type": "scatter3d",
           "x": [
            -38.647
           ],
           "y": [
            16.2918
           ],
           "z": [
            8.1363
           ]
          },
          {
           "marker": {
            "color": "hsl(154.28571428571428,70%,50%)",
            "opacity": 0.7,
            "size": 5
           },
           "mode": "markers",
           "name": "Thursday is - Layer 27",
           "showlegend": true,
           "type": "scatter3d",
           "x": [
            -16.0104
           ],
           "y": [
            32.5194
           ],
           "z": [
            30.0398
           ]
          },
          {
           "marker": {
            "color": "hsl(205.71428571428572,70%,50%)",
            "opacity": 0.7,
            "size": 5
           },
           "mode": "markers",
           "name": "Friday is - Layer 27",
           "showlegend": true,
           "type": "scatter3d",
           "x": [
            -7.3385
           ],
           "y": [
            27.8977
           ],
           "z": [
            -55.5216
           ]
          },
          {
           "marker": {
            "color": "hsl(257.14285714285717,70%,50%)",
            "opacity": 0.7,
            "size": 5
           },
           "mode": "markers",
           "name": "Saturday is - Layer 27",
           "showlegend": true,
           "type": "scatter3d",
           "x": [
            47.0742
           ],
           "y": [
            3.674
           ],
           "z": [
            14.8722
           ]
          },
          {
           "marker": {
            "color": "hsl(308.57142857142856,70%,50%)",
            "opacity": 0.7,
            "size": 5
           },
           "mode": "markers",
           "name": "Sunday is - Layer 27",
           "showlegend": true,
           "type": "scatter3d",
           "x": [
            57.1464
           ],
           "y": [
            -32.4072
           ],
           "z": [
            -7.6196
           ]
          }
         ],
         "name": "27"
        },
        {
         "data": [
          {
           "marker": {
            "color": "hsl(0.0,70%,50%)",
            "opacity": 0.7,
            "size": 5
           },
           "mode": "markers",
           "name": "Monday is - Layer 28",
           "showlegend": true,
           "type": "scatter3d",
           "x": [
            8.193
           ],
           "y": [
            8.2948
           ],
           "z": [
            11.5632
           ]
          },
          {
           "marker": {
            "color": "hsl(51.42857142857143,70%,50%)",
            "opacity": 0.7,
            "size": 5
           },
           "mode": "markers",
           "name": "Tuesday is - Layer 28",
           "showlegend": true,
           "type": "scatter3d",
           "x": [
            -55.5124
           ],
           "y": [
            -55.953
           ],
           "z": [
            0.5175
           ]
          },
          {
           "marker": {
            "color": "hsl(102.85714285714286,70%,50%)",
            "opacity": 0.7,
            "size": 5
           },
           "mode": "markers",
           "name": "Wednesday is - Layer 28",
           "showlegend": true,
           "type": "scatter3d",
           "x": [
            -37.1593
           ],
           "y": [
            19.6418
           ],
           "z": [
            7.6504
           ]
          },
          {
           "marker": {
            "color": "hsl(154.28571428571428,70%,50%)",
            "opacity": 0.7,
            "size": 5
           },
           "mode": "markers",
           "name": "Thursday is - Layer 28",
           "showlegend": true,
           "type": "scatter3d",
           "x": [
            -13.1789
           ],
           "y": [
            33.9539
           ],
           "z": [
            29.8313
           ]
          },
          {
           "marker": {
            "color": "hsl(205.71428571428572,70%,50%)",
            "opacity": 0.7,
            "size": 5
           },
           "mode": "markers",
           "name": "Friday is - Layer 28",
           "showlegend": true,
           "type": "scatter3d",
           "x": [
            -6.3966
           ],
           "y": [
            27.0259
           ],
           "z": [
            -55.6675
           ]
          },
          {
           "marker": {
            "color": "hsl(257.14285714285717,70%,50%)",
            "opacity": 0.7,
            "size": 5
           },
           "mode": "markers",
           "name": "Saturday is - Layer 28",
           "showlegend": true,
           "type": "scatter3d",
           "x": [
            49.0201
           ],
           "y": [
            1.616
           ],
           "z": [
            13.4125
           ]
          },
          {
           "marker": {
            "color": "hsl(308.57142857142856,70%,50%)",
            "opacity": 0.7,
            "size": 5
           },
           "mode": "markers",
           "name": "Sunday is - Layer 28",
           "showlegend": true,
           "type": "scatter3d",
           "x": [
            55.034
           ],
           "y": [
            -34.5793
           ],
           "z": [
            -7.3073
           ]
          }
         ],
         "name": "28"
        },
        {
         "data": [
          {
           "marker": {
            "color": "hsl(0.0,70%,50%)",
            "opacity": 0.7,
            "size": 5
           },
           "mode": "markers",
           "name": "Monday is - Layer 29",
           "showlegend": true,
           "type": "scatter3d",
           "x": [
            8.6779
           ],
           "y": [
            8.3824
           ],
           "z": [
            14.4688
           ]
          },
          {
           "marker": {
            "color": "hsl(51.42857142857143,70%,50%)",
            "opacity": 0.7,
            "size": 5
           },
           "mode": "markers",
           "name": "Tuesday is - Layer 29",
           "showlegend": true,
           "type": "scatter3d",
           "x": [
            -56.1628
           ],
           "y": [
            -55.703
           ],
           "z": [
            1.4064
           ]
          },
          {
           "marker": {
            "color": "hsl(102.85714285714286,70%,50%)",
            "opacity": 0.7,
            "size": 5
           },
           "mode": "markers",
           "name": "Wednesday is - Layer 29",
           "showlegend": true,
           "type": "scatter3d",
           "x": [
            -36.2158
           ],
           "y": [
            20.2576
           ],
           "z": [
            5.2298
           ]
          },
          {
           "marker": {
            "color": "hsl(154.28571428571428,70%,50%)",
            "opacity": 0.7,
            "size": 5
           },
           "mode": "markers",
           "name": "Thursday is - Layer 29",
           "showlegend": true,
           "type": "scatter3d",
           "x": [
            -13.063
           ],
           "y": [
            34.5428
           ],
           "z": [
            29.6004
           ]
          },
          {
           "marker": {
            "color": "hsl(205.71428571428572,70%,50%)",
            "opacity": 0.7,
            "size": 5
           },
           "mode": "markers",
           "name": "Friday is - Layer 29",
           "showlegend": true,
           "type": "scatter3d",
           "x": [
            -6.3445
           ],
           "y": [
            26.6437
           ],
           "z": [
            -55.1063
           ]
          },
          {
           "marker": {
            "color": "hsl(257.14285714285717,70%,50%)",
            "opacity": 0.7,
            "size": 5
           },
           "mode": "markers",
           "name": "Saturday is - Layer 29",
           "showlegend": true,
           "type": "scatter3d",
           "x": [
            49.1953
           ],
           "y": [
            1.6031
           ],
           "z": [
            12.1645
           ]
          },
          {
           "marker": {
            "color": "hsl(308.57142857142856,70%,50%)",
            "opacity": 0.7,
            "size": 5
           },
           "mode": "markers",
           "name": "Sunday is - Layer 29",
           "showlegend": true,
           "type": "scatter3d",
           "x": [
            53.9129
           ],
           "y": [
            -35.7265
           ],
           "z": [
            -7.7636
           ]
          }
         ],
         "name": "29"
        },
        {
         "data": [
          {
           "marker": {
            "color": "hsl(0.0,70%,50%)",
            "opacity": 0.7,
            "size": 5
           },
           "mode": "markers",
           "name": "Monday is - Layer 30",
           "showlegend": true,
           "type": "scatter3d",
           "x": [
            9.143
           ],
           "y": [
            8.0849
           ],
           "z": [
            17.62
           ]
          },
          {
           "marker": {
            "color": "hsl(51.42857142857143,70%,50%)",
            "opacity": 0.7,
            "size": 5
           },
           "mode": "markers",
           "name": "Tuesday is - Layer 30",
           "showlegend": true,
           "type": "scatter3d",
           "x": [
            -58.5868
           ],
           "y": [
            -54.3173
           ],
           "z": [
            2.989
           ]
          },
          {
           "marker": {
            "color": "hsl(102.85714285714286,70%,50%)",
            "opacity": 0.7,
            "size": 5
           },
           "mode": "markers",
           "name": "Wednesday is - Layer 30",
           "showlegend": true,
           "type": "scatter3d",
           "x": [
            -35.9386
           ],
           "y": [
            21.1721
           ],
           "z": [
            5.0088
           ]
          },
          {
           "marker": {
            "color": "hsl(154.28571428571428,70%,50%)",
            "opacity": 0.7,
            "size": 5
           },
           "mode": "markers",
           "name": "Thursday is - Layer 30",
           "showlegend": true,
           "type": "scatter3d",
           "x": [
            -11.5949
           ],
           "y": [
            36.7033
           ],
           "z": [
            26.8749
           ]
          },
          {
           "marker": {
            "color": "hsl(205.71428571428572,70%,50%)",
            "opacity": 0.7,
            "size": 5
           },
           "mode": "markers",
           "name": "Friday is - Layer 30",
           "showlegend": true,
           "type": "scatter3d",
           "x": [
            -6.9798
           ],
           "y": [
            23.3832
           ],
           "z": [
            -55.3788
           ]
          },
          {
           "marker": {
            "color": "hsl(257.14285714285717,70%,50%)",
            "opacity": 0.7,
            "size": 5
           },
           "mode": "markers",
           "name": "Saturday is - Layer 30",
           "showlegend": true,
           "type": "scatter3d",
           "x": [
            49.7726
           ],
           "y": [
            1.9594
           ],
           "z": [
            8.4513
           ]
          },
          {
           "marker": {
            "color": "hsl(308.57142857142856,70%,50%)",
            "opacity": 0.7,
            "size": 5
           },
           "mode": "markers",
           "name": "Sunday is - Layer 30",
           "showlegend": true,
           "type": "scatter3d",
           "x": [
            54.1845
           ],
           "y": [
            -36.9856
           ],
           "z": [
            -5.5651
           ]
          }
         ],
         "name": "30"
        },
        {
         "data": [
          {
           "marker": {
            "color": "hsl(0.0,70%,50%)",
            "opacity": 0.7,
            "size": 5
           },
           "mode": "markers",
           "name": "Monday is - Layer 31",
           "showlegend": true,
           "type": "scatter3d",
           "x": [
            8.0016
           ],
           "y": [
            7.3844
           ],
           "z": [
            18.4569
           ]
          },
          {
           "marker": {
            "color": "hsl(51.42857142857143,70%,50%)",
            "opacity": 0.7,
            "size": 5
           },
           "mode": "markers",
           "name": "Tuesday is - Layer 31",
           "showlegend": true,
           "type": "scatter3d",
           "x": [
            -58.0946
           ],
           "y": [
            -53.8709
           ],
           "z": [
            2.8054
           ]
          },
          {
           "marker": {
            "color": "hsl(102.85714285714286,70%,50%)",
            "opacity": 0.7,
            "size": 5
           },
           "mode": "markers",
           "name": "Wednesday is - Layer 31",
           "showlegend": true,
           "type": "scatter3d",
           "x": [
            -35.5085
           ],
           "y": [
            19.7957
           ],
           "z": [
            4.902
           ]
          },
          {
           "marker": {
            "color": "hsl(154.28571428571428,70%,50%)",
            "opacity": 0.7,
            "size": 5
           },
           "mode": "markers",
           "name": "Thursday is - Layer 31",
           "showlegend": true,
           "type": "scatter3d",
           "x": [
            -11.524
           ],
           "y": [
            36.0261
           ],
           "z": [
            27.1819
           ]
          },
          {
           "marker": {
            "color": "hsl(205.71428571428572,70%,50%)",
            "opacity": 0.7,
            "size": 5
           },
           "mode": "markers",
           "name": "Friday is - Layer 31",
           "showlegend": true,
           "type": "scatter3d",
           "x": [
            -8.1444
           ],
           "y": [
            24.6152
           ],
           "z": [
            -54.9993
           ]
          },
          {
           "marker": {
            "color": "hsl(257.14285714285717,70%,50%)",
            "opacity": 0.7,
            "size": 5
           },
           "mode": "markers",
           "name": "Saturday is - Layer 31",
           "showlegend": true,
           "type": "scatter3d",
           "x": [
            50.586
           ],
           "y": [
            3.3187
           ],
           "z": [
            8.721
           ]
          },
          {
           "marker": {
            "color": "hsl(308.57142857142856,70%,50%)",
            "opacity": 0.7,
            "size": 5
           },
           "mode": "markers",
           "name": "Sunday is - Layer 31",
           "showlegend": true,
           "type": "scatter3d",
           "x": [
            54.6839
           ],
           "y": [
            -37.2691
           ],
           "z": [
            -7.0679
           ]
          }
         ],
         "name": "31"
        }
       ],
       "layout": {
        "height": 800,
        "scene": {
         "aspectmode": "cube",
         "camera": {
          "center": {
           "x": 0,
           "y": 0,
           "z": 0
          },
          "eye": {
           "x": 1.5,
           "y": 1.5,
           "z": 1.5
          },
          "up": {
           "x": 0,
           "y": 0,
           "z": 1
          }
         },
         "xaxis": {
          "range": [
           -58.6,
           74.3357
          ],
          "title": {
           "text": "PCA1"
          }
         },
         "yaxis": {
          "range": [
           -65.1404,
           47.5836
          ],
          "title": {
           "text": "PCA2"
          }
         },
         "zaxis": {
          "range": [
           -61.6458,
           59.2977
          ],
          "title": {
           "text": "PCA3"
          }
         }
        },
        "showlegend": true,
        "sliders": [
         {
          "currentvalue": {
           "prefix": "Layer: "
          },
          "steps": [
           {
            "args": [
             [
              "0"
             ],
             {
              "frame": {
               "duration": 0,
               "redraw": true
              },
              "mode": "immediate",
              "transition": {
               "duration": 0
              }
             }
            ],
            "label": "0",
            "method": "animate"
           },
           {
            "args": [
             [
              "1"
             ],
             {
              "frame": {
               "duration": 0,
               "redraw": true
              },
              "mode": "immediate",
              "transition": {
               "duration": 0
              }
             }
            ],
            "label": "1",
            "method": "animate"
           },
           {
            "args": [
             [
              "2"
             ],
             {
              "frame": {
               "duration": 0,
               "redraw": true
              },
              "mode": "immediate",
              "transition": {
               "duration": 0
              }
             }
            ],
            "label": "2",
            "method": "animate"
           },
           {
            "args": [
             [
              "3"
             ],
             {
              "frame": {
               "duration": 0,
               "redraw": true
              },
              "mode": "immediate",
              "transition": {
               "duration": 0
              }
             }
            ],
            "label": "3",
            "method": "animate"
           },
           {
            "args": [
             [
              "4"
             ],
             {
              "frame": {
               "duration": 0,
               "redraw": true
              },
              "mode": "immediate",
              "transition": {
               "duration": 0
              }
             }
            ],
            "label": "4",
            "method": "animate"
           },
           {
            "args": [
             [
              "5"
             ],
             {
              "frame": {
               "duration": 0,
               "redraw": true
              },
              "mode": "immediate",
              "transition": {
               "duration": 0
              }
             }
            ],
            "label": "5",
            "method": "animate"
           },
           {
            "args": [
             [
              "6"
             ],
             {
              "frame": {
               "duration": 0,
               "redraw": true
              },
              "mode": "immediate",
              "transition": {
               "duration": 0
              }
             }
            ],
            "label": "6",
            "method": "animate"
           },
           {
            "args": [
             [
              "7"
             ],
             {
              "frame": {
               "duration": 0,
               "redraw": true
              },
              "mode": "immediate",
              "transition": {
               "duration": 0
              }
             }
            ],
            "label": "7",
            "method": "animate"
           },
           {
            "args": [
             [
              "8"
             ],
             {
              "frame": {
               "duration": 0,
               "redraw": true
              },
              "mode": "immediate",
              "transition": {
               "duration": 0
              }
             }
            ],
            "label": "8",
            "method": "animate"
           },
           {
            "args": [
             [
              "9"
             ],
             {
              "frame": {
               "duration": 0,
               "redraw": true
              },
              "mode": "immediate",
              "transition": {
               "duration": 0
              }
             }
            ],
            "label": "9",
            "method": "animate"
           },
           {
            "args": [
             [
              "10"
             ],
             {
              "frame": {
               "duration": 0,
               "redraw": true
              },
              "mode": "immediate",
              "transition": {
               "duration": 0
              }
             }
            ],
            "label": "10",
            "method": "animate"
           },
           {
            "args": [
             [
              "11"
             ],
             {
              "frame": {
               "duration": 0,
               "redraw": true
              },
              "mode": "immediate",
              "transition": {
               "duration": 0
              }
             }
            ],
            "label": "11",
            "method": "animate"
           },
           {
            "args": [
             [
              "12"
             ],
             {
              "frame": {
               "duration": 0,
               "redraw": true
              },
              "mode": "immediate",
              "transition": {
               "duration": 0
              }
             }
            ],
            "label": "12",
            "method": "animate"
           },
           {
            "args": [
             [
              "13"
             ],
             {
              "frame": {
               "duration": 0,
               "redraw": true
              },
              "mode": "immediate",
              "transition": {
               "duration": 0
              }
             }
            ],
            "label": "13",
            "method": "animate"
           },
           {
            "args": [
             [
              "14"
             ],
             {
              "frame": {
               "duration": 0,
               "redraw": true
              },
              "mode": "immediate",
              "transition": {
               "duration": 0
              }
             }
            ],
            "label": "14",
            "method": "animate"
           },
           {
            "args": [
             [
              "15"
             ],
             {
              "frame": {
               "duration": 0,
               "redraw": true
              },
              "mode": "immediate",
              "transition": {
               "duration": 0
              }
             }
            ],
            "label": "15",
            "method": "animate"
           },
           {
            "args": [
             [
              "16"
             ],
             {
              "frame": {
               "duration": 0,
               "redraw": true
              },
              "mode": "immediate",
              "transition": {
               "duration": 0
              }
             }
            ],
            "label": "16",
            "method": "animate"
           },
           {
            "args": [
             [
              "17"
             ],
             {
              "frame": {
               "duration": 0,
               "redraw": true
              },
              "mode": "immediate",
              "transition": {
               "duration": 0
              }
             }
            ],
            "label": "17",
            "method": "animate"
           },
           {
            "args": [
             [
              "18"
             ],
             {
              "frame": {
               "duration": 0,
               "redraw": true
              },
              "mode": "immediate",
              "transition": {
               "duration": 0
              }
             }
            ],
            "label": "18",
            "method": "animate"
           },
           {
            "args": [
             [
              "19"
             ],
             {
              "frame": {
               "duration": 0,
               "redraw": true
              },
              "mode": "immediate",
              "transition": {
               "duration": 0
              }
             }
            ],
            "label": "19",
            "method": "animate"
           },
           {
            "args": [
             [
              "20"
             ],
             {
              "frame": {
               "duration": 0,
               "redraw": true
              },
              "mode": "immediate",
              "transition": {
               "duration": 0
              }
             }
            ],
            "label": "20",
            "method": "animate"
           },
           {
            "args": [
             [
              "21"
             ],
             {
              "frame": {
               "duration": 0,
               "redraw": true
              },
              "mode": "immediate",
              "transition": {
               "duration": 0
              }
             }
            ],
            "label": "21",
            "method": "animate"
           },
           {
            "args": [
             [
              "22"
             ],
             {
              "frame": {
               "duration": 0,
               "redraw": true
              },
              "mode": "immediate",
              "transition": {
               "duration": 0
              }
             }
            ],
            "label": "22",
            "method": "animate"
           },
           {
            "args": [
             [
              "23"
             ],
             {
              "frame": {
               "duration": 0,
               "redraw": true
              },
              "mode": "immediate",
              "transition": {
               "duration": 0
              }
             }
            ],
            "label": "23",
            "method": "animate"
           },
           {
            "args": [
             [
              "24"
             ],
             {
              "frame": {
               "duration": 0,
               "redraw": true
              },
              "mode": "immediate",
              "transition": {
               "duration": 0
              }
             }
            ],
            "label": "24",
            "method": "animate"
           },
           {
            "args": [
             [
              "25"
             ],
             {
              "frame": {
               "duration": 0,
               "redraw": true
              },
              "mode": "immediate",
              "transition": {
               "duration": 0
              }
             }
            ],
            "label": "25",
            "method": "animate"
           },
           {
            "args": [
             [
              "26"
             ],
             {
              "frame": {
               "duration": 0,
               "redraw": true
              },
              "mode": "immediate",
              "transition": {
               "duration": 0
              }
             }
            ],
            "label": "26",
            "method": "animate"
           },
           {
            "args": [
             [
              "27"
             ],
             {
              "frame": {
               "duration": 0,
               "redraw": true
              },
              "mode": "immediate",
              "transition": {
               "duration": 0
              }
             }
            ],
            "label": "27",
            "method": "animate"
           },
           {
            "args": [
             [
              "28"
             ],
             {
              "frame": {
               "duration": 0,
               "redraw": true
              },
              "mode": "immediate",
              "transition": {
               "duration": 0
              }
             }
            ],
            "label": "28",
            "method": "animate"
           },
           {
            "args": [
             [
              "29"
             ],
             {
              "frame": {
               "duration": 0,
               "redraw": true
              },
              "mode": "immediate",
              "transition": {
               "duration": 0
              }
             }
            ],
            "label": "29",
            "method": "animate"
           },
           {
            "args": [
             [
              "30"
             ],
             {
              "frame": {
               "duration": 0,
               "redraw": true
              },
              "mode": "immediate",
              "transition": {
               "duration": 0
              }
             }
            ],
            "label": "30",
            "method": "animate"
           },
           {
            "args": [
             [
              "31"
             ],
             {
              "frame": {
               "duration": 0,
               "redraw": true
              },
              "mode": "immediate",
              "transition": {
               "duration": 0
              }
             }
            ],
            "label": "31",
            "method": "animate"
           }
          ]
         }
        ],
        "template": {
         "data": {
          "bar": [
           {
            "error_x": {
             "color": "#2a3f5f"
            },
            "error_y": {
             "color": "#2a3f5f"
            },
            "marker": {
             "line": {
              "color": "#E5ECF6",
              "width": 0.5
             },
             "pattern": {
              "fillmode": "overlay",
              "size": 10,
              "solidity": 0.2
             }
            },
            "type": "bar"
           }
          ],
          "barpolar": [
           {
            "marker": {
             "line": {
              "color": "#E5ECF6",
              "width": 0.5
             },
             "pattern": {
              "fillmode": "overlay",
              "size": 10,
              "solidity": 0.2
             }
            },
            "type": "barpolar"
           }
          ],
          "carpet": [
           {
            "aaxis": {
             "endlinecolor": "#2a3f5f",
             "gridcolor": "white",
             "linecolor": "white",
             "minorgridcolor": "white",
             "startlinecolor": "#2a3f5f"
            },
            "baxis": {
             "endlinecolor": "#2a3f5f",
             "gridcolor": "white",
             "linecolor": "white",
             "minorgridcolor": "white",
             "startlinecolor": "#2a3f5f"
            },
            "type": "carpet"
           }
          ],
          "choropleth": [
           {
            "colorbar": {
             "outlinewidth": 0,
             "ticks": ""
            },
            "type": "choropleth"
           }
          ],
          "contour": [
           {
            "colorbar": {
             "outlinewidth": 0,
             "ticks": ""
            },
            "colorscale": [
             [
              0,
              "#0d0887"
             ],
             [
              0.1111111111111111,
              "#46039f"
             ],
             [
              0.2222222222222222,
              "#7201a8"
             ],
             [
              0.3333333333333333,
              "#9c179e"
             ],
             [
              0.4444444444444444,
              "#bd3786"
             ],
             [
              0.5555555555555556,
              "#d8576b"
             ],
             [
              0.6666666666666666,
              "#ed7953"
             ],
             [
              0.7777777777777778,
              "#fb9f3a"
             ],
             [
              0.8888888888888888,
              "#fdca26"
             ],
             [
              1,
              "#f0f921"
             ]
            ],
            "type": "contour"
           }
          ],
          "contourcarpet": [
           {
            "colorbar": {
             "outlinewidth": 0,
             "ticks": ""
            },
            "type": "contourcarpet"
           }
          ],
          "heatmap": [
           {
            "colorbar": {
             "outlinewidth": 0,
             "ticks": ""
            },
            "colorscale": [
             [
              0,
              "#0d0887"
             ],
             [
              0.1111111111111111,
              "#46039f"
             ],
             [
              0.2222222222222222,
              "#7201a8"
             ],
             [
              0.3333333333333333,
              "#9c179e"
             ],
             [
              0.4444444444444444,
              "#bd3786"
             ],
             [
              0.5555555555555556,
              "#d8576b"
             ],
             [
              0.6666666666666666,
              "#ed7953"
             ],
             [
              0.7777777777777778,
              "#fb9f3a"
             ],
             [
              0.8888888888888888,
              "#fdca26"
             ],
             [
              1,
              "#f0f921"
             ]
            ],
            "type": "heatmap"
           }
          ],
          "heatmapgl": [
           {
            "colorbar": {
             "outlinewidth": 0,
             "ticks": ""
            },
            "colorscale": [
             [
              0,
              "#0d0887"
             ],
             [
              0.1111111111111111,
              "#46039f"
             ],
             [
              0.2222222222222222,
              "#7201a8"
             ],
             [
              0.3333333333333333,
              "#9c179e"
             ],
             [
              0.4444444444444444,
              "#bd3786"
             ],
             [
              0.5555555555555556,
              "#d8576b"
             ],
             [
              0.6666666666666666,
              "#ed7953"
             ],
             [
              0.7777777777777778,
              "#fb9f3a"
             ],
             [
              0.8888888888888888,
              "#fdca26"
             ],
             [
              1,
              "#f0f921"
             ]
            ],
            "type": "heatmapgl"
           }
          ],
          "histogram": [
           {
            "marker": {
             "pattern": {
              "fillmode": "overlay",
              "size": 10,
              "solidity": 0.2
             }
            },
            "type": "histogram"
           }
          ],
          "histogram2d": [
           {
            "colorbar": {
             "outlinewidth": 0,
             "ticks": ""
            },
            "colorscale": [
             [
              0,
              "#0d0887"
             ],
             [
              0.1111111111111111,
              "#46039f"
             ],
             [
              0.2222222222222222,
              "#7201a8"
             ],
             [
              0.3333333333333333,
              "#9c179e"
             ],
             [
              0.4444444444444444,
              "#bd3786"
             ],
             [
              0.5555555555555556,
              "#d8576b"
             ],
             [
              0.6666666666666666,
              "#ed7953"
             ],
             [
              0.7777777777777778,
              "#fb9f3a"
             ],
             [
              0.8888888888888888,
              "#fdca26"
             ],
             [
              1,
              "#f0f921"
             ]
            ],
            "type": "histogram2d"
           }
          ],
          "histogram2dcontour": [
           {
            "colorbar": {
             "outlinewidth": 0,
             "ticks": ""
            },
            "colorscale": [
             [
              0,
              "#0d0887"
             ],
             [
              0.1111111111111111,
              "#46039f"
             ],
             [
              0.2222222222222222,
              "#7201a8"
             ],
             [
              0.3333333333333333,
              "#9c179e"
             ],
             [
              0.4444444444444444,
              "#bd3786"
             ],
             [
              0.5555555555555556,
              "#d8576b"
             ],
             [
              0.6666666666666666,
              "#ed7953"
             ],
             [
              0.7777777777777778,
              "#fb9f3a"
             ],
             [
              0.8888888888888888,
              "#fdca26"
             ],
             [
              1,
              "#f0f921"
             ]
            ],
            "type": "histogram2dcontour"
           }
          ],
          "mesh3d": [
           {
            "colorbar": {
             "outlinewidth": 0,
             "ticks": ""
            },
            "type": "mesh3d"
           }
          ],
          "parcoords": [
           {
            "line": {
             "colorbar": {
              "outlinewidth": 0,
              "ticks": ""
             }
            },
            "type": "parcoords"
           }
          ],
          "pie": [
           {
            "automargin": true,
            "type": "pie"
           }
          ],
          "scatter": [
           {
            "fillpattern": {
             "fillmode": "overlay",
             "size": 10,
             "solidity": 0.2
            },
            "type": "scatter"
           }
          ],
          "scatter3d": [
           {
            "line": {
             "colorbar": {
              "outlinewidth": 0,
              "ticks": ""
             }
            },
            "marker": {
             "colorbar": {
              "outlinewidth": 0,
              "ticks": ""
             }
            },
            "type": "scatter3d"
           }
          ],
          "scattercarpet": [
           {
            "marker": {
             "colorbar": {
              "outlinewidth": 0,
              "ticks": ""
             }
            },
            "type": "scattercarpet"
           }
          ],
          "scattergeo": [
           {
            "marker": {
             "colorbar": {
              "outlinewidth": 0,
              "ticks": ""
             }
            },
            "type": "scattergeo"
           }
          ],
          "scattergl": [
           {
            "marker": {
             "colorbar": {
              "outlinewidth": 0,
              "ticks": ""
             }
            },
            "type": "scattergl"
           }
          ],
          "scattermapbox": [
           {
            "marker": {
             "colorbar": {
              "outlinewidth": 0,
              "ticks": ""
             }
            },
            "type": "scattermapbox"
           }
          ],
          "scatterpolar": [
           {
            "marker": {
             "colorbar": {
              "outlinewidth": 0,
              "ticks": ""
             }
            },
            "type": "scatterpolar"
           }
          ],
          "scatterpolargl": [
           {
            "marker": {
             "colorbar": {
              "outlinewidth": 0,
              "ticks": ""
             }
            },
            "type": "scatterpolargl"
           }
          ],
          "scatterternary": [
           {
            "marker": {
             "colorbar": {
              "outlinewidth": 0,
              "ticks": ""
             }
            },
            "type": "scatterternary"
           }
          ],
          "surface": [
           {
            "colorbar": {
             "outlinewidth": 0,
             "ticks": ""
            },
            "colorscale": [
             [
              0,
              "#0d0887"
             ],
             [
              0.1111111111111111,
              "#46039f"
             ],
             [
              0.2222222222222222,
              "#7201a8"
             ],
             [
              0.3333333333333333,
              "#9c179e"
             ],
             [
              0.4444444444444444,
              "#bd3786"
             ],
             [
              0.5555555555555556,
              "#d8576b"
             ],
             [
              0.6666666666666666,
              "#ed7953"
             ],
             [
              0.7777777777777778,
              "#fb9f3a"
             ],
             [
              0.8888888888888888,
              "#fdca26"
             ],
             [
              1,
              "#f0f921"
             ]
            ],
            "type": "surface"
           }
          ],
          "table": [
           {
            "cells": {
             "fill": {
              "color": "#EBF0F8"
             },
             "line": {
              "color": "white"
             }
            },
            "header": {
             "fill": {
              "color": "#C8D4E3"
             },
             "line": {
              "color": "white"
             }
            },
            "type": "table"
           }
          ]
         },
         "layout": {
          "annotationdefaults": {
           "arrowcolor": "#2a3f5f",
           "arrowhead": 0,
           "arrowwidth": 1
          },
          "autotypenumbers": "strict",
          "coloraxis": {
           "colorbar": {
            "outlinewidth": 0,
            "ticks": ""
           }
          },
          "colorscale": {
           "diverging": [
            [
             0,
             "#8e0152"
            ],
            [
             0.1,
             "#c51b7d"
            ],
            [
             0.2,
             "#de77ae"
            ],
            [
             0.3,
             "#f1b6da"
            ],
            [
             0.4,
             "#fde0ef"
            ],
            [
             0.5,
             "#f7f7f7"
            ],
            [
             0.6,
             "#e6f5d0"
            ],
            [
             0.7,
             "#b8e186"
            ],
            [
             0.8,
             "#7fbc41"
            ],
            [
             0.9,
             "#4d9221"
            ],
            [
             1,
             "#276419"
            ]
           ],
           "sequential": [
            [
             0,
             "#0d0887"
            ],
            [
             0.1111111111111111,
             "#46039f"
            ],
            [
             0.2222222222222222,
             "#7201a8"
            ],
            [
             0.3333333333333333,
             "#9c179e"
            ],
            [
             0.4444444444444444,
             "#bd3786"
            ],
            [
             0.5555555555555556,
             "#d8576b"
            ],
            [
             0.6666666666666666,
             "#ed7953"
            ],
            [
             0.7777777777777778,
             "#fb9f3a"
            ],
            [
             0.8888888888888888,
             "#fdca26"
            ],
            [
             1,
             "#f0f921"
            ]
           ],
           "sequentialminus": [
            [
             0,
             "#0d0887"
            ],
            [
             0.1111111111111111,
             "#46039f"
            ],
            [
             0.2222222222222222,
             "#7201a8"
            ],
            [
             0.3333333333333333,
             "#9c179e"
            ],
            [
             0.4444444444444444,
             "#bd3786"
            ],
            [
             0.5555555555555556,
             "#d8576b"
            ],
            [
             0.6666666666666666,
             "#ed7953"
            ],
            [
             0.7777777777777778,
             "#fb9f3a"
            ],
            [
             0.8888888888888888,
             "#fdca26"
            ],
            [
             1,
             "#f0f921"
            ]
           ]
          },
          "colorway": [
           "#636efa",
           "#EF553B",
           "#00cc96",
           "#ab63fa",
           "#FFA15A",
           "#19d3f3",
           "#FF6692",
           "#B6E880",
           "#FF97FF",
           "#FECB52"
          ],
          "font": {
           "color": "#2a3f5f"
          },
          "geo": {
           "bgcolor": "white",
           "lakecolor": "white",
           "landcolor": "#E5ECF6",
           "showlakes": true,
           "showland": true,
           "subunitcolor": "white"
          },
          "hoverlabel": {
           "align": "left"
          },
          "hovermode": "closest",
          "mapbox": {
           "style": "light"
          },
          "paper_bgcolor": "white",
          "plot_bgcolor": "#E5ECF6",
          "polar": {
           "angularaxis": {
            "gridcolor": "white",
            "linecolor": "white",
            "ticks": ""
           },
           "bgcolor": "#E5ECF6",
           "radialaxis": {
            "gridcolor": "white",
            "linecolor": "white",
            "ticks": ""
           }
          },
          "scene": {
           "xaxis": {
            "backgroundcolor": "#E5ECF6",
            "gridcolor": "white",
            "gridwidth": 2,
            "linecolor": "white",
            "showbackground": true,
            "ticks": "",
            "zerolinecolor": "white"
           },
           "yaxis": {
            "backgroundcolor": "#E5ECF6",
            "gridcolor": "white",
            "gridwidth": 2,
            "linecolor": "white",
            "showbackground": true,
            "ticks": "",
            "zerolinecolor": "white"
           },
           "zaxis": {
            "backgroundcolor": "#E5ECF6",
            "gridcolor": "white",
            "gridwidth": 2,
            "linecolor": "white",
            "showbackground": true,
            "ticks": "",
            "zerolinecolor": "white"
           }
          },
          "shapedefaults": {
           "line": {
            "color": "#2a3f5f"
           }
          },
          "ternary": {
           "aaxis": {
            "gridcolor": "white",
            "linecolor": "white",
            "ticks": ""
           },
           "baxis": {
            "gridcolor": "white",
            "linecolor": "white",
            "ticks": ""
           },
           "bgcolor": "#E5ECF6",
           "caxis": {
            "gridcolor": "white",
            "linecolor": "white",
            "ticks": ""
           }
          },
          "title": {
           "x": 0.05
          },
          "xaxis": {
           "automargin": true,
           "gridcolor": "white",
           "linecolor": "white",
           "ticks": "",
           "title": {
            "standoff": 15
           },
           "zerolinecolor": "white",
           "zerolinewidth": 2
          },
          "yaxis": {
           "automargin": true,
           "gridcolor": "white",
           "linecolor": "white",
           "ticks": "",
           "title": {
            "standoff": 15
           },
           "zerolinecolor": "white",
           "zerolinewidth": 2
          }
         }
        },
        "title": {
         "text": "3D PCA Projection of Day Representations Across All Layers"
        },
        "updatemenus": [
         {
          "buttons": [
           {
            "args": [
             null,
             {
              "frame": {
               "duration": 500,
               "redraw": true
              },
              "fromcurrent": true
             }
            ],
            "label": "Play",
            "method": "animate"
           }
          ],
          "showactive": false,
          "type": "buttons"
         }
        ],
        "width": 800
       }
      }
     },
     "metadata": {},
     "output_type": "display_data"
    }
   ],
   "source": [
    "def plot_pca_from_df(df):\n",
    "    num_layers = df['Layer'].nunique()\n",
    "    entries = df['Entry'].unique()\n",
    "    \n",
    "    # Generate colors dynamically based on number of entries\n",
    "    n_colors = len(entries)\n",
    "    colors = [f'hsl({h},70%,50%)' for h in np.linspace(0, 360, n_colors, endpoint=False)]\n",
    "    \n",
    "    # Create figure with slider\n",
    "    fig = go.Figure()\n",
    "    \n",
    "    # Calculate axis ranges across all layers\n",
    "    x_min, x_max = df['PCA1'].min(), df['PCA1'].max()\n",
    "    y_min, y_max = df['PCA2'].min(), df['PCA2'].max() \n",
    "    z_min, z_max = df['PCA3'].min(), df['PCA3'].max()\n",
    "    \n",
    "    # Create frames for each layer\n",
    "    frames = []\n",
    "    for layer_num in range(num_layers):\n",
    "        frame_traces = []\n",
    "        layer_data = df[df['Layer'] == layer_num]\n",
    "        \n",
    "        for entry, color in zip(entries, colors):\n",
    "            entry_data = layer_data[layer_data['Entry'] == entry]\n",
    "            frame_traces.append(\n",
    "                go.Scatter3d(\n",
    "                    x=[entry_data['PCA1'].iloc[0]],\n",
    "                    y=[entry_data['PCA2'].iloc[0]],\n",
    "                    z=[entry_data['PCA3'].iloc[0]],\n",
    "                    mode='markers',\n",
    "                    marker=dict(color=color, size=5, opacity=0.7),\n",
    "                    name=f\"{entry} - Layer {layer_num}\",\n",
    "                    showlegend=True\n",
    "                )\n",
    "            )\n",
    "        frames.append(go.Frame(data=frame_traces, name=str(layer_num)))\n",
    "    \n",
    "    # Add frames to figure\n",
    "    fig.frames = frames\n",
    "    \n",
    "    # Add first frame's traces to the figure\n",
    "    for trace in frames[0].data:\n",
    "        fig.add_trace(trace)\n",
    "\n",
    "    # Update layout\n",
    "    fig.update_layout(\n",
    "        height=800,\n",
    "        width=800,\n",
    "        title_text=\"3D PCA Projection of Day Representations Across All Layers\",\n",
    "        scene=dict(\n",
    "            xaxis=dict(range=[x_min, x_max], title=\"PCA1\"),\n",
    "            yaxis=dict(range=[y_min, y_max], title=\"PCA2\"),\n",
    "            zaxis=dict(range=[z_min, z_max], title=\"PCA3\"),\n",
    "            aspectmode='cube',\n",
    "            camera=dict(\n",
    "                up=dict(x=0, y=0, z=1),\n",
    "                center=dict(x=0, y=0, z=0),\n",
    "                eye=dict(x=1.5, y=1.5, z=1.5)\n",
    "            )\n",
    "        ),\n",
    "        showlegend=True,\n",
    "        updatemenus=[{\n",
    "            'type': 'buttons',\n",
    "            'showactive': False,\n",
    "            'buttons': [{\n",
    "                'label': 'Play',\n",
    "                'method': 'animate',\n",
    "                'args': [None, {'frame': {'duration': 500, 'redraw': True}, 'fromcurrent': True}]\n",
    "            }]\n",
    "        }],\n",
    "        sliders=[{\n",
    "            'currentvalue': {'prefix': 'Layer: '},\n",
    "            'steps': [\n",
    "                {\n",
    "                    'method': 'animate',\n",
    "                    'label': str(k),\n",
    "                    'args': [[str(k)], {\n",
    "                        'frame': {'duration': 0, 'redraw': True},\n",
    "                        'mode': 'immediate',\n",
    "                        'transition': {'duration': 0}\n",
    "                    }]\n",
    "                }\n",
    "                for k in range(num_layers)\n",
    "            ]\n",
    "        }]\n",
    "    )\n",
    "    \n",
    "    fig.show()\n",
    "\n",
    "# Use the function\n",
    "plot_pca_from_df(df_aligned)\n"
   ]
  }
 ],
 "metadata": {
  "kernelspec": {
   "display_name": "Python 3",
   "language": "python",
   "name": "python3"
  },
  "language_info": {
   "codemirror_mode": {
    "name": "ipython",
    "version": 3
   },
   "file_extension": ".py",
   "mimetype": "text/x-python",
   "name": "python",
   "nbconvert_exporter": "python",
   "pygments_lexer": "ipython3",
   "version": "3.13.0"
  }
 },
 "nbformat": 4,
 "nbformat_minor": 2
}
