{
 "cells": [
  {
   "cell_type": "markdown",
   "metadata": {},
   "source": [
    "# Model Emphasis and Analysis Demo\n",
    "\n",
    "This notebook demonstrates the key features of the model emphasis, analysis, and generation capabilities."
   ]
  },
  {
   "cell_type": "code",
   "execution_count": 1,
   "metadata": {},
   "outputs": [
    {
     "name": "stderr",
     "output_type": "stream",
     "text": [
      "/Users/jluker/mi-experiments/.venv/lib/python3.13/site-packages/tqdm/auto.py:21: TqdmWarning: IProgress not found. Please update jupyter and ipywidgets. See https://ipywidgets.readthedocs.io/en/stable/user_install.html\n",
      "  from .autonotebook import tqdm as notebook_tqdm\n"
     ]
    }
   ],
   "source": [
    "import mlx.core as mx\n",
    "import mlx.nn as nn\n",
    "\n",
    "from mi_experiments.utils.loading import load\n",
    "\n",
    "import re\n",
    "from dataclasses import dataclass\n",
    "from typing import Dict, Optional, Union\n",
    "\n",
    "from mlx_lm.tokenizer_utils import TokenizerWrapper\n",
    "\n",
    "import pandas as pd\n",
    "import numpy as np\n",
    "from sklearn.decomposition import PCA\n",
    "\n",
    "import plotly.graph_objects as go\n"
   ]
  },
  {
   "cell_type": "code",
   "execution_count": 2,
   "metadata": {},
   "outputs": [
    {
     "name": "stderr",
     "output_type": "stream",
     "text": [
      "Fetching 7 files: 100%|██████████| 7/7 [00:00<00:00, 127100.12it/s]\n"
     ]
    }
   ],
   "source": [
    "\n",
    "# Load the model\n",
    "model, tokenizer = load(\"mlx-community/Mistral-7B-Instruct-v0.3-4bit\")\n",
    "\n",
    "# Utility functions\n",
    "def create_additive_causal_mask(N: int, offset: int = 0):\n",
    "    rinds = mx.arange(offset + N)\n",
    "    linds = mx.arange(offset, offset + N) if offset else rinds\n",
    "    mask = linds[:, None] < rinds[None]\n",
    "    return mask * -1e9\n",
    "\n",
    "@dataclass\n",
    "class ModelArgs:\n",
    "    model_type: str\n",
    "    hidden_size: int\n",
    "    num_hidden_layers: int\n",
    "    intermediate_size: int\n",
    "    num_attention_heads: int\n",
    "    rms_norm_eps: float\n",
    "    vocab_size: int\n",
    "    head_dim: Optional[int] = None\n",
    "    max_position_embeddings: Optional[int] = None\n",
    "    num_key_value_heads: Optional[int] = None\n",
    "    attention_bias: bool = False\n",
    "    mlp_bias: bool = False\n",
    "    rope_theta: float = 10000\n",
    "    rope_traditional: bool = False\n",
    "    rope_scaling: Optional[Dict[str, Union[float, str]]] = None\n",
    "    tie_word_embeddings: bool = True\n",
    "\n",
    "    @classmethod\n",
    "    def from_model(cls, model: nn.Module):\n",
    "        return cls(\n",
    "            model_type=model.model_type,\n",
    "            hidden_size=model.args.hidden_size,\n",
    "            num_hidden_layers=model.args.num_hidden_layers,\n",
    "            intermediate_size=model.args.intermediate_size,\n",
    "            num_attention_heads=model.args.num_attention_heads,\n",
    "            rms_norm_eps=model.args.rms_norm_eps,\n",
    "            vocab_size=model.args.vocab_size,\n",
    "            head_dim=model.head_dim,\n",
    "            num_key_value_heads=model.n_kv_heads,\n",
    "            tie_word_embeddings=model.args.tie_word_embeddings\n",
    "        )\n",
    "\n",
    "# Extract model arguments\n",
    "model_args = ModelArgs.from_model(model)\n",
    "\n",
    "# Ensure tokenizer is wrapped\n",
    "if not isinstance(tokenizer, TokenizerWrapper):\n",
    "    tokenizer = TokenizerWrapper(tokenizer)\n",
    "\n",
    "def format_prompt(prompt: str) -> str:\n",
    "    return f\"[INST] {prompt} [/INST]\"\n",
    "\n",
    "def extract_generated_text(full_text: str) -> str:\n",
    "    match = re.search(r'\\[/INST\\]\\s*(.*)', full_text, re.DOTALL)\n",
    "    return match.group(1).strip() if match else \"\""
   ]
  },
  {
   "cell_type": "code",
   "execution_count": 3,
   "metadata": {},
   "outputs": [],
   "source": [
    "# import string\n",
    "# import random\n",
    "# from mi_experiments.inference.batch_manager import batch_generate\n",
    "\n",
    "# capital_letters = string.ascii_uppercase\n",
    "# distinct_pairs = [(a, b) for i, a in enumerate(capital_letters) for b in capital_letters[i + 1:]]\n",
    "\n",
    "# num_prompts = 10\n",
    "# prompt_template = \"Think of a real word containing both the letters {l1} and {l2}. Then, say 3 sentences which use the word.\"\n",
    "# prompts_raw = [prompt_template.format(l1=p[0], l2=p[1]) for p in random.sample(distinct_pairs, num_prompts)]\n",
    "# prompt_template_2 = \"Come up with a real English word containing both the letters {l1} and {l2}. No acronyms. Then, give 3 complete sentences which use the word.\"\n",
    "# prompts_raw_2 = [prompt_template_2.format(l1=p[0], l2=p[1]) for p in random.sample(distinct_pairs, num_prompts)]\n",
    "\n",
    "# response = batch_generate(model, tokenizer, prompts=prompts_raw[:10]+prompts_raw_2[:10], max_tokens=20, verbose=True, temp=0.0)\n",
    "# # print(response)"
   ]
  },
  {
   "cell_type": "code",
   "execution_count": 4,
   "metadata": {},
   "outputs": [],
   "source": [
    "# # Generate with emphasis on specific layers\n",
    "# emphasis_config = {\n",
    "#     'layers': {\n",
    "#         '0': 1.0,  # Boost first layer\n",
    "#         '1': 1.0,  # Reduce second layer\n",
    "#         '30': 1.0,  # Zero out thirtyith layer\n",
    "#     },\n",
    "#     'heads': {\n",
    "#         '0': {'0': 1.0, '1': 0.5},  # Modify attention heads in first layer\n",
    "#     },\n",
    "#     'neurons': {\n",
    "#         '1': {'10': 0.0, '20': 2.0}  # Modify neurons in second layer\n",
    "#     }\n",
    "# }\n",
    "\n",
    "# # Apply emphasis configuration\n",
    "# model.set_emphasis_config(emphasis_config)\n",
    "\n",
    "# # Generate with modified model\n",
    "# response_emphasized = batch_generate(\n",
    "#     model, \n",
    "#     tokenizer, \n",
    "#     prompts=prompts_raw[:10]+prompts_raw_2[:10],\n",
    "#     max_tokens=20,\n",
    "#     verbose=True,\n",
    "#     temp=0.0\n",
    "# )\n"
   ]
  },
  {
   "cell_type": "code",
   "execution_count": 5,
   "metadata": {},
   "outputs": [
    {
     "name": "stdout",
     "output_type": "stream",
     "text": [
      "\n",
      "Full DataFrame:\n"
     ]
    },
    {
     "data": {
      "text/html": [
       "<style type=\"text/css\">\n",
       "#T_167f6  {\n",
       "  max-height: 400px;\n",
       "  overflow-y: scroll;\n",
       "  display: block;\n",
       "}\n",
       "</style>\n",
       "<table id=\"T_167f6\">\n",
       "  <thead>\n",
       "    <tr>\n",
       "      <th class=\"blank level0\" >&nbsp;</th>\n",
       "      <th id=\"T_167f6_level0_col0\" class=\"col_heading level0 col0\" >Layer</th>\n",
       "      <th id=\"T_167f6_level0_col1\" class=\"col_heading level0 col1\" >Entry</th>\n",
       "      <th id=\"T_167f6_level0_col2\" class=\"col_heading level0 col2\" >PCA1</th>\n",
       "      <th id=\"T_167f6_level0_col3\" class=\"col_heading level0 col3\" >PCA2</th>\n",
       "      <th id=\"T_167f6_level0_col4\" class=\"col_heading level0 col4\" >PCA3</th>\n",
       "      <th id=\"T_167f6_level0_col5\" class=\"col_heading level0 col5\" >PCA1_var</th>\n",
       "      <th id=\"T_167f6_level0_col6\" class=\"col_heading level0 col6\" >PCA2_var</th>\n",
       "      <th id=\"T_167f6_level0_col7\" class=\"col_heading level0 col7\" >PCA3_var</th>\n",
       "      <th id=\"T_167f6_level0_col8\" class=\"col_heading level0 col8\" >Cumulative_var</th>\n",
       "    </tr>\n",
       "  </thead>\n",
       "  <tbody>\n",
       "    <tr>\n",
       "      <th id=\"T_167f6_level0_row0\" class=\"row_heading level0 row0\" >0</th>\n",
       "      <td id=\"T_167f6_row0_col0\" class=\"data row0 col0\" >0</td>\n",
       "      <td id=\"T_167f6_row0_col1\" class=\"data row0 col1\" >Monday</td>\n",
       "      <td id=\"T_167f6_row0_col2\" class=\"data row0 col2\" >-5.939100</td>\n",
       "      <td id=\"T_167f6_row0_col3\" class=\"data row0 col3\" >-29.339000</td>\n",
       "      <td id=\"T_167f6_row0_col4\" class=\"data row0 col4\" >-42.158700</td>\n",
       "      <td id=\"T_167f6_row0_col5\" class=\"data row0 col5\" >22.960000</td>\n",
       "      <td id=\"T_167f6_row0_col6\" class=\"data row0 col6\" >20.040000</td>\n",
       "      <td id=\"T_167f6_row0_col7\" class=\"data row0 col7\" >17.050000</td>\n",
       "      <td id=\"T_167f6_row0_col8\" class=\"data row0 col8\" >60.050000</td>\n",
       "    </tr>\n",
       "    <tr>\n",
       "      <th id=\"T_167f6_level0_row1\" class=\"row_heading level0 row1\" >1</th>\n",
       "      <td id=\"T_167f6_row1_col0\" class=\"data row1 col0\" >0</td>\n",
       "      <td id=\"T_167f6_row1_col1\" class=\"data row1 col1\" >Tuesday</td>\n",
       "      <td id=\"T_167f6_row1_col2\" class=\"data row1 col2\" >-24.145500</td>\n",
       "      <td id=\"T_167f6_row1_col3\" class=\"data row1 col3\" >-20.058500</td>\n",
       "      <td id=\"T_167f6_row1_col4\" class=\"data row1 col4\" >15.012100</td>\n",
       "      <td id=\"T_167f6_row1_col5\" class=\"data row1 col5\" >22.960000</td>\n",
       "      <td id=\"T_167f6_row1_col6\" class=\"data row1 col6\" >20.040000</td>\n",
       "      <td id=\"T_167f6_row1_col7\" class=\"data row1 col7\" >17.050000</td>\n",
       "      <td id=\"T_167f6_row1_col8\" class=\"data row1 col8\" >60.050000</td>\n",
       "    </tr>\n",
       "    <tr>\n",
       "      <th id=\"T_167f6_level0_row2\" class=\"row_heading level0 row2\" >2</th>\n",
       "      <td id=\"T_167f6_row2_col0\" class=\"data row2 col0\" >0</td>\n",
       "      <td id=\"T_167f6_row2_col1\" class=\"data row2 col1\" >Wednesday</td>\n",
       "      <td id=\"T_167f6_row2_col2\" class=\"data row2 col2\" >-25.268400</td>\n",
       "      <td id=\"T_167f6_row2_col3\" class=\"data row2 col3\" >-16.618500</td>\n",
       "      <td id=\"T_167f6_row2_col4\" class=\"data row2 col4\" >21.936400</td>\n",
       "      <td id=\"T_167f6_row2_col5\" class=\"data row2 col5\" >22.960000</td>\n",
       "      <td id=\"T_167f6_row2_col6\" class=\"data row2 col6\" >20.040000</td>\n",
       "      <td id=\"T_167f6_row2_col7\" class=\"data row2 col7\" >17.050000</td>\n",
       "      <td id=\"T_167f6_row2_col8\" class=\"data row2 col8\" >60.050000</td>\n",
       "    </tr>\n",
       "    <tr>\n",
       "      <th id=\"T_167f6_level0_row3\" class=\"row_heading level0 row3\" >3</th>\n",
       "      <td id=\"T_167f6_row3_col0\" class=\"data row3 col0\" >0</td>\n",
       "      <td id=\"T_167f6_row3_col1\" class=\"data row3 col1\" >Thursday</td>\n",
       "      <td id=\"T_167f6_row3_col2\" class=\"data row3 col2\" >-28.721300</td>\n",
       "      <td id=\"T_167f6_row3_col3\" class=\"data row3 col3\" >8.344400</td>\n",
       "      <td id=\"T_167f6_row3_col4\" class=\"data row3 col4\" >9.271200</td>\n",
       "      <td id=\"T_167f6_row3_col5\" class=\"data row3 col5\" >22.960000</td>\n",
       "      <td id=\"T_167f6_row3_col6\" class=\"data row3 col6\" >20.040000</td>\n",
       "      <td id=\"T_167f6_row3_col7\" class=\"data row3 col7\" >17.050000</td>\n",
       "      <td id=\"T_167f6_row3_col8\" class=\"data row3 col8\" >60.050000</td>\n",
       "    </tr>\n",
       "    <tr>\n",
       "      <th id=\"T_167f6_level0_row4\" class=\"row_heading level0 row4\" >4</th>\n",
       "      <td id=\"T_167f6_row4_col0\" class=\"data row4 col0\" >0</td>\n",
       "      <td id=\"T_167f6_row4_col1\" class=\"data row4 col1\" >Friday</td>\n",
       "      <td id=\"T_167f6_row4_col2\" class=\"data row4 col2\" >-8.351000</td>\n",
       "      <td id=\"T_167f6_row4_col3\" class=\"data row4 col3\" >57.568700</td>\n",
       "      <td id=\"T_167f6_row4_col4\" class=\"data row4 col4\" >-28.565700</td>\n",
       "      <td id=\"T_167f6_row4_col5\" class=\"data row4 col5\" >22.960000</td>\n",
       "      <td id=\"T_167f6_row4_col6\" class=\"data row4 col6\" >20.040000</td>\n",
       "      <td id=\"T_167f6_row4_col7\" class=\"data row4 col7\" >17.050000</td>\n",
       "      <td id=\"T_167f6_row4_col8\" class=\"data row4 col8\" >60.050000</td>\n",
       "    </tr>\n",
       "    <tr>\n",
       "      <th id=\"T_167f6_level0_row5\" class=\"row_heading level0 row5\" >5</th>\n",
       "      <td id=\"T_167f6_row5_col0\" class=\"data row5 col0\" >0</td>\n",
       "      <td id=\"T_167f6_row5_col1\" class=\"data row5 col1\" >Saturday</td>\n",
       "      <td id=\"T_167f6_row5_col2\" class=\"data row5 col2\" >37.271500</td>\n",
       "      <td id=\"T_167f6_row5_col3\" class=\"data row5 col3\" >20.341300</td>\n",
       "      <td id=\"T_167f6_row5_col4\" class=\"data row5 col4\" >36.763200</td>\n",
       "      <td id=\"T_167f6_row5_col5\" class=\"data row5 col5\" >22.960000</td>\n",
       "      <td id=\"T_167f6_row5_col6\" class=\"data row5 col6\" >20.040000</td>\n",
       "      <td id=\"T_167f6_row5_col7\" class=\"data row5 col7\" >17.050000</td>\n",
       "      <td id=\"T_167f6_row5_col8\" class=\"data row5 col8\" >60.050000</td>\n",
       "    </tr>\n",
       "    <tr>\n",
       "      <th id=\"T_167f6_level0_row6\" class=\"row_heading level0 row6\" >6</th>\n",
       "      <td id=\"T_167f6_row6_col0\" class=\"data row6 col0\" >0</td>\n",
       "      <td id=\"T_167f6_row6_col1\" class=\"data row6 col1\" >Sunday</td>\n",
       "      <td id=\"T_167f6_row6_col2\" class=\"data row6 col2\" >55.153700</td>\n",
       "      <td id=\"T_167f6_row6_col3\" class=\"data row6 col3\" >-20.238400</td>\n",
       "      <td id=\"T_167f6_row6_col4\" class=\"data row6 col4\" >-12.258600</td>\n",
       "      <td id=\"T_167f6_row6_col5\" class=\"data row6 col5\" >22.960000</td>\n",
       "      <td id=\"T_167f6_row6_col6\" class=\"data row6 col6\" >20.040000</td>\n",
       "      <td id=\"T_167f6_row6_col7\" class=\"data row6 col7\" >17.050000</td>\n",
       "      <td id=\"T_167f6_row6_col8\" class=\"data row6 col8\" >60.050000</td>\n",
       "    </tr>\n",
       "    <tr>\n",
       "      <th id=\"T_167f6_level0_row7\" class=\"row_heading level0 row7\" >7</th>\n",
       "      <td id=\"T_167f6_row7_col0\" class=\"data row7 col0\" >1</td>\n",
       "      <td id=\"T_167f6_row7_col1\" class=\"data row7 col1\" >Monday</td>\n",
       "      <td id=\"T_167f6_row7_col2\" class=\"data row7 col2\" >-13.975000</td>\n",
       "      <td id=\"T_167f6_row7_col3\" class=\"data row7 col3\" >-28.396700</td>\n",
       "      <td id=\"T_167f6_row7_col4\" class=\"data row7 col4\" >-28.522100</td>\n",
       "      <td id=\"T_167f6_row7_col5\" class=\"data row7 col5\" >26.540000</td>\n",
       "      <td id=\"T_167f6_row7_col6\" class=\"data row7 col6\" >19.520000</td>\n",
       "      <td id=\"T_167f6_row7_col7\" class=\"data row7 col7\" >16.420000</td>\n",
       "      <td id=\"T_167f6_row7_col8\" class=\"data row7 col8\" >62.470000</td>\n",
       "    </tr>\n",
       "    <tr>\n",
       "      <th id=\"T_167f6_level0_row8\" class=\"row_heading level0 row8\" >8</th>\n",
       "      <td id=\"T_167f6_row8_col0\" class=\"data row8 col0\" >1</td>\n",
       "      <td id=\"T_167f6_row8_col1\" class=\"data row8 col1\" >Tuesday</td>\n",
       "      <td id=\"T_167f6_row8_col2\" class=\"data row8 col2\" >-32.925600</td>\n",
       "      <td id=\"T_167f6_row8_col3\" class=\"data row8 col3\" >-14.098200</td>\n",
       "      <td id=\"T_167f6_row8_col4\" class=\"data row8 col4\" >24.847100</td>\n",
       "      <td id=\"T_167f6_row8_col5\" class=\"data row8 col5\" >26.540000</td>\n",
       "      <td id=\"T_167f6_row8_col6\" class=\"data row8 col6\" >19.520000</td>\n",
       "      <td id=\"T_167f6_row8_col7\" class=\"data row8 col7\" >16.420000</td>\n",
       "      <td id=\"T_167f6_row8_col8\" class=\"data row8 col8\" >62.470000</td>\n",
       "    </tr>\n",
       "    <tr>\n",
       "      <th id=\"T_167f6_level0_row9\" class=\"row_heading level0 row9\" >9</th>\n",
       "      <td id=\"T_167f6_row9_col0\" class=\"data row9 col0\" >1</td>\n",
       "      <td id=\"T_167f6_row9_col1\" class=\"data row9 col1\" >Wednesday</td>\n",
       "      <td id=\"T_167f6_row9_col2\" class=\"data row9 col2\" >-26.271200</td>\n",
       "      <td id=\"T_167f6_row9_col3\" class=\"data row9 col3\" >-5.133800</td>\n",
       "      <td id=\"T_167f6_row9_col4\" class=\"data row9 col4\" >21.605200</td>\n",
       "      <td id=\"T_167f6_row9_col5\" class=\"data row9 col5\" >26.540000</td>\n",
       "      <td id=\"T_167f6_row9_col6\" class=\"data row9 col6\" >19.520000</td>\n",
       "      <td id=\"T_167f6_row9_col7\" class=\"data row9 col7\" >16.420000</td>\n",
       "      <td id=\"T_167f6_row9_col8\" class=\"data row9 col8\" >62.470000</td>\n",
       "    </tr>\n",
       "    <tr>\n",
       "      <th id=\"T_167f6_level0_row10\" class=\"row_heading level0 row10\" >10</th>\n",
       "      <td id=\"T_167f6_row10_col0\" class=\"data row10 col0\" >1</td>\n",
       "      <td id=\"T_167f6_row10_col1\" class=\"data row10 col1\" >Thursday</td>\n",
       "      <td id=\"T_167f6_row10_col2\" class=\"data row10 col2\" >-25.137600</td>\n",
       "      <td id=\"T_167f6_row10_col3\" class=\"data row10 col3\" >13.685100</td>\n",
       "      <td id=\"T_167f6_row10_col4\" class=\"data row10 col4\" >2.226500</td>\n",
       "      <td id=\"T_167f6_row10_col5\" class=\"data row10 col5\" >26.540000</td>\n",
       "      <td id=\"T_167f6_row10_col6\" class=\"data row10 col6\" >19.520000</td>\n",
       "      <td id=\"T_167f6_row10_col7\" class=\"data row10 col7\" >16.420000</td>\n",
       "      <td id=\"T_167f6_row10_col8\" class=\"data row10 col8\" >62.470000</td>\n",
       "    </tr>\n",
       "    <tr>\n",
       "      <th id=\"T_167f6_level0_row11\" class=\"row_heading level0 row11\" >11</th>\n",
       "      <td id=\"T_167f6_row11_col0\" class=\"data row11 col0\" >1</td>\n",
       "      <td id=\"T_167f6_row11_col1\" class=\"data row11 col1\" >Friday</td>\n",
       "      <td id=\"T_167f6_row11_col2\" class=\"data row11 col2\" >-1.524600</td>\n",
       "      <td id=\"T_167f6_row11_col3\" class=\"data row11 col3\" >41.004800</td>\n",
       "      <td id=\"T_167f6_row11_col4\" class=\"data row11 col4\" >-42.308600</td>\n",
       "      <td id=\"T_167f6_row11_col5\" class=\"data row11 col5\" >26.540000</td>\n",
       "      <td id=\"T_167f6_row11_col6\" class=\"data row11 col6\" >19.520000</td>\n",
       "      <td id=\"T_167f6_row11_col7\" class=\"data row11 col7\" >16.420000</td>\n",
       "      <td id=\"T_167f6_row11_col8\" class=\"data row11 col8\" >62.470000</td>\n",
       "    </tr>\n",
       "    <tr>\n",
       "      <th id=\"T_167f6_level0_row12\" class=\"row_heading level0 row12\" >12</th>\n",
       "      <td id=\"T_167f6_row12_col0\" class=\"data row12 col0\" >1</td>\n",
       "      <td id=\"T_167f6_row12_col1\" class=\"data row12 col1\" >Saturday</td>\n",
       "      <td id=\"T_167f6_row12_col2\" class=\"data row12 col2\" >46.675700</td>\n",
       "      <td id=\"T_167f6_row12_col3\" class=\"data row12 col3\" >33.013700</td>\n",
       "      <td id=\"T_167f6_row12_col4\" class=\"data row12 col4\" >30.694300</td>\n",
       "      <td id=\"T_167f6_row12_col5\" class=\"data row12 col5\" >26.540000</td>\n",
       "      <td id=\"T_167f6_row12_col6\" class=\"data row12 col6\" >19.520000</td>\n",
       "      <td id=\"T_167f6_row12_col7\" class=\"data row12 col7\" >16.420000</td>\n",
       "      <td id=\"T_167f6_row12_col8\" class=\"data row12 col8\" >62.470000</td>\n",
       "    </tr>\n",
       "    <tr>\n",
       "      <th id=\"T_167f6_level0_row13\" class=\"row_heading level0 row13\" >13</th>\n",
       "      <td id=\"T_167f6_row13_col0\" class=\"data row13 col0\" >1</td>\n",
       "      <td id=\"T_167f6_row13_col1\" class=\"data row13 col1\" >Sunday</td>\n",
       "      <td id=\"T_167f6_row13_col2\" class=\"data row13 col2\" >53.158300</td>\n",
       "      <td id=\"T_167f6_row13_col3\" class=\"data row13 col3\" >-40.074900</td>\n",
       "      <td id=\"T_167f6_row13_col4\" class=\"data row13 col4\" >-8.542500</td>\n",
       "      <td id=\"T_167f6_row13_col5\" class=\"data row13 col5\" >26.540000</td>\n",
       "      <td id=\"T_167f6_row13_col6\" class=\"data row13 col6\" >19.520000</td>\n",
       "      <td id=\"T_167f6_row13_col7\" class=\"data row13 col7\" >16.420000</td>\n",
       "      <td id=\"T_167f6_row13_col8\" class=\"data row13 col8\" >62.470000</td>\n",
       "    </tr>\n",
       "    <tr>\n",
       "      <th id=\"T_167f6_level0_row14\" class=\"row_heading level0 row14\" >14</th>\n",
       "      <td id=\"T_167f6_row14_col0\" class=\"data row14 col0\" >2</td>\n",
       "      <td id=\"T_167f6_row14_col1\" class=\"data row14 col1\" >Monday</td>\n",
       "      <td id=\"T_167f6_row14_col2\" class=\"data row14 col2\" >-10.500800</td>\n",
       "      <td id=\"T_167f6_row14_col3\" class=\"data row14 col3\" >-23.011500</td>\n",
       "      <td id=\"T_167f6_row14_col4\" class=\"data row14 col4\" >-44.515500</td>\n",
       "      <td id=\"T_167f6_row14_col5\" class=\"data row14 col5\" >26.910000</td>\n",
       "      <td id=\"T_167f6_row14_col6\" class=\"data row14 col6\" >22.810000</td>\n",
       "      <td id=\"T_167f6_row14_col7\" class=\"data row14 col7\" >17.100000</td>\n",
       "      <td id=\"T_167f6_row14_col8\" class=\"data row14 col8\" >66.820000</td>\n",
       "    </tr>\n",
       "    <tr>\n",
       "      <th id=\"T_167f6_level0_row15\" class=\"row_heading level0 row15\" >15</th>\n",
       "      <td id=\"T_167f6_row15_col0\" class=\"data row15 col0\" >2</td>\n",
       "      <td id=\"T_167f6_row15_col1\" class=\"data row15 col1\" >Tuesday</td>\n",
       "      <td id=\"T_167f6_row15_col2\" class=\"data row15 col2\" >-29.471500</td>\n",
       "      <td id=\"T_167f6_row15_col3\" class=\"data row15 col3\" >-24.961400</td>\n",
       "      <td id=\"T_167f6_row15_col4\" class=\"data row15 col4\" >5.387500</td>\n",
       "      <td id=\"T_167f6_row15_col5\" class=\"data row15 col5\" >26.910000</td>\n",
       "      <td id=\"T_167f6_row15_col6\" class=\"data row15 col6\" >22.810000</td>\n",
       "      <td id=\"T_167f6_row15_col7\" class=\"data row15 col7\" >17.100000</td>\n",
       "      <td id=\"T_167f6_row15_col8\" class=\"data row15 col8\" >66.820000</td>\n",
       "    </tr>\n",
       "    <tr>\n",
       "      <th id=\"T_167f6_level0_row16\" class=\"row_heading level0 row16\" >16</th>\n",
       "      <td id=\"T_167f6_row16_col0\" class=\"data row16 col0\" >2</td>\n",
       "      <td id=\"T_167f6_row16_col1\" class=\"data row16 col1\" >Wednesday</td>\n",
       "      <td id=\"T_167f6_row16_col2\" class=\"data row16 col2\" >-30.261600</td>\n",
       "      <td id=\"T_167f6_row16_col3\" class=\"data row16 col3\" >-18.799400</td>\n",
       "      <td id=\"T_167f6_row16_col4\" class=\"data row16 col4\" >29.001000</td>\n",
       "      <td id=\"T_167f6_row16_col5\" class=\"data row16 col5\" >26.910000</td>\n",
       "      <td id=\"T_167f6_row16_col6\" class=\"data row16 col6\" >22.810000</td>\n",
       "      <td id=\"T_167f6_row16_col7\" class=\"data row16 col7\" >17.100000</td>\n",
       "      <td id=\"T_167f6_row16_col8\" class=\"data row16 col8\" >66.820000</td>\n",
       "    </tr>\n",
       "    <tr>\n",
       "      <th id=\"T_167f6_level0_row17\" class=\"row_heading level0 row17\" >17</th>\n",
       "      <td id=\"T_167f6_row17_col0\" class=\"data row17 col0\" >2</td>\n",
       "      <td id=\"T_167f6_row17_col1\" class=\"data row17 col1\" >Thursday</td>\n",
       "      <td id=\"T_167f6_row17_col2\" class=\"data row17 col2\" >-23.501100</td>\n",
       "      <td id=\"T_167f6_row17_col3\" class=\"data row17 col3\" >11.785000</td>\n",
       "      <td id=\"T_167f6_row17_col4\" class=\"data row17 col4\" >7.504700</td>\n",
       "      <td id=\"T_167f6_row17_col5\" class=\"data row17 col5\" >26.910000</td>\n",
       "      <td id=\"T_167f6_row17_col6\" class=\"data row17 col6\" >22.810000</td>\n",
       "      <td id=\"T_167f6_row17_col7\" class=\"data row17 col7\" >17.100000</td>\n",
       "      <td id=\"T_167f6_row17_col8\" class=\"data row17 col8\" >66.820000</td>\n",
       "    </tr>\n",
       "    <tr>\n",
       "      <th id=\"T_167f6_level0_row18\" class=\"row_heading level0 row18\" >18</th>\n",
       "      <td id=\"T_167f6_row18_col0\" class=\"data row18 col0\" >2</td>\n",
       "      <td id=\"T_167f6_row18_col1\" class=\"data row18 col1\" >Friday</td>\n",
       "      <td id=\"T_167f6_row18_col2\" class=\"data row18 col2\" >-5.874800</td>\n",
       "      <td id=\"T_167f6_row18_col3\" class=\"data row18 col3\" >63.297900</td>\n",
       "      <td id=\"T_167f6_row18_col4\" class=\"data row18 col4\" >-21.509400</td>\n",
       "      <td id=\"T_167f6_row18_col5\" class=\"data row18 col5\" >26.910000</td>\n",
       "      <td id=\"T_167f6_row18_col6\" class=\"data row18 col6\" >22.810000</td>\n",
       "      <td id=\"T_167f6_row18_col7\" class=\"data row18 col7\" >17.100000</td>\n",
       "      <td id=\"T_167f6_row18_col8\" class=\"data row18 col8\" >66.820000</td>\n",
       "    </tr>\n",
       "    <tr>\n",
       "      <th id=\"T_167f6_level0_row19\" class=\"row_heading level0 row19\" >19</th>\n",
       "      <td id=\"T_167f6_row19_col0\" class=\"data row19 col0\" >2</td>\n",
       "      <td id=\"T_167f6_row19_col1\" class=\"data row19 col1\" >Saturday</td>\n",
       "      <td id=\"T_167f6_row19_col2\" class=\"data row19 col2\" >38.100900</td>\n",
       "      <td id=\"T_167f6_row19_col3\" class=\"data row19 col3\" >16.498000</td>\n",
       "      <td id=\"T_167f6_row19_col4\" class=\"data row19 col4\" >36.968600</td>\n",
       "      <td id=\"T_167f6_row19_col5\" class=\"data row19 col5\" >26.910000</td>\n",
       "      <td id=\"T_167f6_row19_col6\" class=\"data row19 col6\" >22.810000</td>\n",
       "      <td id=\"T_167f6_row19_col7\" class=\"data row19 col7\" >17.100000</td>\n",
       "      <td id=\"T_167f6_row19_col8\" class=\"data row19 col8\" >66.820000</td>\n",
       "    </tr>\n",
       "    <tr>\n",
       "      <th id=\"T_167f6_level0_row20\" class=\"row_heading level0 row20\" >20</th>\n",
       "      <td id=\"T_167f6_row20_col0\" class=\"data row20 col0\" >2</td>\n",
       "      <td id=\"T_167f6_row20_col1\" class=\"data row20 col1\" >Sunday</td>\n",
       "      <td id=\"T_167f6_row20_col2\" class=\"data row20 col2\" >61.509000</td>\n",
       "      <td id=\"T_167f6_row20_col3\" class=\"data row20 col3\" >-24.808600</td>\n",
       "      <td id=\"T_167f6_row20_col4\" class=\"data row20 col4\" >-12.836900</td>\n",
       "      <td id=\"T_167f6_row20_col5\" class=\"data row20 col5\" >26.910000</td>\n",
       "      <td id=\"T_167f6_row20_col6\" class=\"data row20 col6\" >22.810000</td>\n",
       "      <td id=\"T_167f6_row20_col7\" class=\"data row20 col7\" >17.100000</td>\n",
       "      <td id=\"T_167f6_row20_col8\" class=\"data row20 col8\" >66.820000</td>\n",
       "    </tr>\n",
       "    <tr>\n",
       "      <th id=\"T_167f6_level0_row21\" class=\"row_heading level0 row21\" >21</th>\n",
       "      <td id=\"T_167f6_row21_col0\" class=\"data row21 col0\" >3</td>\n",
       "      <td id=\"T_167f6_row21_col1\" class=\"data row21 col1\" >Monday</td>\n",
       "      <td id=\"T_167f6_row21_col2\" class=\"data row21 col2\" >-12.633600</td>\n",
       "      <td id=\"T_167f6_row21_col3\" class=\"data row21 col3\" >-27.798900</td>\n",
       "      <td id=\"T_167f6_row21_col4\" class=\"data row21 col4\" >-48.098400</td>\n",
       "      <td id=\"T_167f6_row21_col5\" class=\"data row21 col5\" >28.770000</td>\n",
       "      <td id=\"T_167f6_row21_col6\" class=\"data row21 col6\" >22.280000</td>\n",
       "      <td id=\"T_167f6_row21_col7\" class=\"data row21 col7\" >16.490000</td>\n",
       "      <td id=\"T_167f6_row21_col8\" class=\"data row21 col8\" >67.540000</td>\n",
       "    </tr>\n",
       "    <tr>\n",
       "      <th id=\"T_167f6_level0_row22\" class=\"row_heading level0 row22\" >22</th>\n",
       "      <td id=\"T_167f6_row22_col0\" class=\"data row22 col0\" >3</td>\n",
       "      <td id=\"T_167f6_row22_col1\" class=\"data row22 col1\" >Tuesday</td>\n",
       "      <td id=\"T_167f6_row22_col2\" class=\"data row22 col2\" >-34.524600</td>\n",
       "      <td id=\"T_167f6_row22_col3\" class=\"data row22 col3\" >-21.579000</td>\n",
       "      <td id=\"T_167f6_row22_col4\" class=\"data row22 col4\" >1.102400</td>\n",
       "      <td id=\"T_167f6_row22_col5\" class=\"data row22 col5\" >28.770000</td>\n",
       "      <td id=\"T_167f6_row22_col6\" class=\"data row22 col6\" >22.280000</td>\n",
       "      <td id=\"T_167f6_row22_col7\" class=\"data row22 col7\" >16.490000</td>\n",
       "      <td id=\"T_167f6_row22_col8\" class=\"data row22 col8\" >67.540000</td>\n",
       "    </tr>\n",
       "    <tr>\n",
       "      <th id=\"T_167f6_level0_row23\" class=\"row_heading level0 row23\" >23</th>\n",
       "      <td id=\"T_167f6_row23_col0\" class=\"data row23 col0\" >3</td>\n",
       "      <td id=\"T_167f6_row23_col1\" class=\"data row23 col1\" >Wednesday</td>\n",
       "      <td id=\"T_167f6_row23_col2\" class=\"data row23 col2\" >-33.335400</td>\n",
       "      <td id=\"T_167f6_row23_col3\" class=\"data row23 col3\" >-9.122100</td>\n",
       "      <td id=\"T_167f6_row23_col4\" class=\"data row23 col4\" >25.224900</td>\n",
       "      <td id=\"T_167f6_row23_col5\" class=\"data row23 col5\" >28.770000</td>\n",
       "      <td id=\"T_167f6_row23_col6\" class=\"data row23 col6\" >22.280000</td>\n",
       "      <td id=\"T_167f6_row23_col7\" class=\"data row23 col7\" >16.490000</td>\n",
       "      <td id=\"T_167f6_row23_col8\" class=\"data row23 col8\" >67.540000</td>\n",
       "    </tr>\n",
       "    <tr>\n",
       "      <th id=\"T_167f6_level0_row24\" class=\"row_heading level0 row24\" >24</th>\n",
       "      <td id=\"T_167f6_row24_col0\" class=\"data row24 col0\" >3</td>\n",
       "      <td id=\"T_167f6_row24_col1\" class=\"data row24 col1\" >Thursday</td>\n",
       "      <td id=\"T_167f6_row24_col2\" class=\"data row24 col2\" >-26.818700</td>\n",
       "      <td id=\"T_167f6_row24_col3\" class=\"data row24 col3\" >22.252700</td>\n",
       "      <td id=\"T_167f6_row24_col4\" class=\"data row24 col4\" >25.652900</td>\n",
       "      <td id=\"T_167f6_row24_col5\" class=\"data row24 col5\" >28.770000</td>\n",
       "      <td id=\"T_167f6_row24_col6\" class=\"data row24 col6\" >22.280000</td>\n",
       "      <td id=\"T_167f6_row24_col7\" class=\"data row24 col7\" >16.490000</td>\n",
       "      <td id=\"T_167f6_row24_col8\" class=\"data row24 col8\" >67.540000</td>\n",
       "    </tr>\n",
       "    <tr>\n",
       "      <th id=\"T_167f6_level0_row25\" class=\"row_heading level0 row25\" >25</th>\n",
       "      <td id=\"T_167f6_row25_col0\" class=\"data row25 col0\" >3</td>\n",
       "      <td id=\"T_167f6_row25_col1\" class=\"data row25 col1\" >Friday</td>\n",
       "      <td id=\"T_167f6_row25_col2\" class=\"data row25 col2\" >7.339200</td>\n",
       "      <td id=\"T_167f6_row25_col3\" class=\"data row25 col3\" >58.409400</td>\n",
       "      <td id=\"T_167f6_row25_col4\" class=\"data row25 col4\" >-27.789800</td>\n",
       "      <td id=\"T_167f6_row25_col5\" class=\"data row25 col5\" >28.770000</td>\n",
       "      <td id=\"T_167f6_row25_col6\" class=\"data row25 col6\" >22.280000</td>\n",
       "      <td id=\"T_167f6_row25_col7\" class=\"data row25 col7\" >16.490000</td>\n",
       "      <td id=\"T_167f6_row25_col8\" class=\"data row25 col8\" >67.540000</td>\n",
       "    </tr>\n",
       "    <tr>\n",
       "      <th id=\"T_167f6_level0_row26\" class=\"row_heading level0 row26\" >26</th>\n",
       "      <td id=\"T_167f6_row26_col0\" class=\"data row26 col0\" >3</td>\n",
       "      <td id=\"T_167f6_row26_col1\" class=\"data row26 col1\" >Saturday</td>\n",
       "      <td id=\"T_167f6_row26_col2\" class=\"data row26 col2\" >47.077200</td>\n",
       "      <td id=\"T_167f6_row26_col3\" class=\"data row26 col3\" >10.294400</td>\n",
       "      <td id=\"T_167f6_row26_col4\" class=\"data row26 col4\" >17.429300</td>\n",
       "      <td id=\"T_167f6_row26_col5\" class=\"data row26 col5\" >28.770000</td>\n",
       "      <td id=\"T_167f6_row26_col6\" class=\"data row26 col6\" >22.280000</td>\n",
       "      <td id=\"T_167f6_row26_col7\" class=\"data row26 col7\" >16.490000</td>\n",
       "      <td id=\"T_167f6_row26_col8\" class=\"data row26 col8\" >67.540000</td>\n",
       "    </tr>\n",
       "    <tr>\n",
       "      <th id=\"T_167f6_level0_row27\" class=\"row_heading level0 row27\" >27</th>\n",
       "      <td id=\"T_167f6_row27_col0\" class=\"data row27 col0\" >3</td>\n",
       "      <td id=\"T_167f6_row27_col1\" class=\"data row27 col1\" >Sunday</td>\n",
       "      <td id=\"T_167f6_row27_col2\" class=\"data row27 col2\" >52.895900</td>\n",
       "      <td id=\"T_167f6_row27_col3\" class=\"data row27 col3\" >-32.456500</td>\n",
       "      <td id=\"T_167f6_row27_col4\" class=\"data row27 col4\" >6.478700</td>\n",
       "      <td id=\"T_167f6_row27_col5\" class=\"data row27 col5\" >28.770000</td>\n",
       "      <td id=\"T_167f6_row27_col6\" class=\"data row27 col6\" >22.280000</td>\n",
       "      <td id=\"T_167f6_row27_col7\" class=\"data row27 col7\" >16.490000</td>\n",
       "      <td id=\"T_167f6_row27_col8\" class=\"data row27 col8\" >67.540000</td>\n",
       "    </tr>\n",
       "    <tr>\n",
       "      <th id=\"T_167f6_level0_row28\" class=\"row_heading level0 row28\" >28</th>\n",
       "      <td id=\"T_167f6_row28_col0\" class=\"data row28 col0\" >4</td>\n",
       "      <td id=\"T_167f6_row28_col1\" class=\"data row28 col1\" >Monday</td>\n",
       "      <td id=\"T_167f6_row28_col2\" class=\"data row28 col2\" >-13.441000</td>\n",
       "      <td id=\"T_167f6_row28_col3\" class=\"data row28 col3\" >-24.909600</td>\n",
       "      <td id=\"T_167f6_row28_col4\" class=\"data row28 col4\" >-8.356200</td>\n",
       "      <td id=\"T_167f6_row28_col5\" class=\"data row28 col5\" >30.550000</td>\n",
       "      <td id=\"T_167f6_row28_col6\" class=\"data row28 col6\" >23.830000</td>\n",
       "      <td id=\"T_167f6_row28_col7\" class=\"data row28 col7\" >14.850000</td>\n",
       "      <td id=\"T_167f6_row28_col8\" class=\"data row28 col8\" >69.230000</td>\n",
       "    </tr>\n",
       "    <tr>\n",
       "      <th id=\"T_167f6_level0_row29\" class=\"row_heading level0 row29\" >29</th>\n",
       "      <td id=\"T_167f6_row29_col0\" class=\"data row29 col0\" >4</td>\n",
       "      <td id=\"T_167f6_row29_col1\" class=\"data row29 col1\" >Tuesday</td>\n",
       "      <td id=\"T_167f6_row29_col2\" class=\"data row29 col2\" >-29.445500</td>\n",
       "      <td id=\"T_167f6_row29_col3\" class=\"data row29 col3\" >-17.394600</td>\n",
       "      <td id=\"T_167f6_row29_col4\" class=\"data row29 col4\" >20.161700</td>\n",
       "      <td id=\"T_167f6_row29_col5\" class=\"data row29 col5\" >30.550000</td>\n",
       "      <td id=\"T_167f6_row29_col6\" class=\"data row29 col6\" >23.830000</td>\n",
       "      <td id=\"T_167f6_row29_col7\" class=\"data row29 col7\" >14.850000</td>\n",
       "      <td id=\"T_167f6_row29_col8\" class=\"data row29 col8\" >69.230000</td>\n",
       "    </tr>\n",
       "    <tr>\n",
       "      <th id=\"T_167f6_level0_row30\" class=\"row_heading level0 row30\" >30</th>\n",
       "      <td id=\"T_167f6_row30_col0\" class=\"data row30 col0\" >4</td>\n",
       "      <td id=\"T_167f6_row30_col1\" class=\"data row30 col1\" >Wednesday</td>\n",
       "      <td id=\"T_167f6_row30_col2\" class=\"data row30 col2\" >-32.214900</td>\n",
       "      <td id=\"T_167f6_row30_col3\" class=\"data row30 col3\" >-10.237600</td>\n",
       "      <td id=\"T_167f6_row30_col4\" class=\"data row30 col4\" >19.857400</td>\n",
       "      <td id=\"T_167f6_row30_col5\" class=\"data row30 col5\" >30.550000</td>\n",
       "      <td id=\"T_167f6_row30_col6\" class=\"data row30 col6\" >23.830000</td>\n",
       "      <td id=\"T_167f6_row30_col7\" class=\"data row30 col7\" >14.850000</td>\n",
       "      <td id=\"T_167f6_row30_col8\" class=\"data row30 col8\" >69.230000</td>\n",
       "    </tr>\n",
       "    <tr>\n",
       "      <th id=\"T_167f6_level0_row31\" class=\"row_heading level0 row31\" >31</th>\n",
       "      <td id=\"T_167f6_row31_col0\" class=\"data row31 col0\" >4</td>\n",
       "      <td id=\"T_167f6_row31_col1\" class=\"data row31 col1\" >Thursday</td>\n",
       "      <td id=\"T_167f6_row31_col2\" class=\"data row31 col2\" >-28.763100</td>\n",
       "      <td id=\"T_167f6_row31_col3\" class=\"data row31 col3\" >12.726500</td>\n",
       "      <td id=\"T_167f6_row31_col4\" class=\"data row31 col4\" >-8.689800</td>\n",
       "      <td id=\"T_167f6_row31_col5\" class=\"data row31 col5\" >30.550000</td>\n",
       "      <td id=\"T_167f6_row31_col6\" class=\"data row31 col6\" >23.830000</td>\n",
       "      <td id=\"T_167f6_row31_col7\" class=\"data row31 col7\" >14.850000</td>\n",
       "      <td id=\"T_167f6_row31_col8\" class=\"data row31 col8\" >69.230000</td>\n",
       "    </tr>\n",
       "    <tr>\n",
       "      <th id=\"T_167f6_level0_row32\" class=\"row_heading level0 row32\" >32</th>\n",
       "      <td id=\"T_167f6_row32_col0\" class=\"data row32 col0\" >4</td>\n",
       "      <td id=\"T_167f6_row32_col1\" class=\"data row32 col1\" >Friday</td>\n",
       "      <td id=\"T_167f6_row32_col2\" class=\"data row32 col2\" >-3.956400</td>\n",
       "      <td id=\"T_167f6_row32_col3\" class=\"data row32 col3\" >46.732800</td>\n",
       "      <td id=\"T_167f6_row32_col4\" class=\"data row32 col4\" >-39.457000</td>\n",
       "      <td id=\"T_167f6_row32_col5\" class=\"data row32 col5\" >30.550000</td>\n",
       "      <td id=\"T_167f6_row32_col6\" class=\"data row32 col6\" >23.830000</td>\n",
       "      <td id=\"T_167f6_row32_col7\" class=\"data row32 col7\" >14.850000</td>\n",
       "      <td id=\"T_167f6_row32_col8\" class=\"data row32 col8\" >69.230000</td>\n",
       "    </tr>\n",
       "    <tr>\n",
       "      <th id=\"T_167f6_level0_row33\" class=\"row_heading level0 row33\" >33</th>\n",
       "      <td id=\"T_167f6_row33_col0\" class=\"data row33 col0\" >4</td>\n",
       "      <td id=\"T_167f6_row33_col1\" class=\"data row33 col1\" >Saturday</td>\n",
       "      <td id=\"T_167f6_row33_col2\" class=\"data row33 col2\" >50.858300</td>\n",
       "      <td id=\"T_167f6_row33_col3\" class=\"data row33 col3\" >37.976200</td>\n",
       "      <td id=\"T_167f6_row33_col4\" class=\"data row33 col4\" >36.688800</td>\n",
       "      <td id=\"T_167f6_row33_col5\" class=\"data row33 col5\" >30.550000</td>\n",
       "      <td id=\"T_167f6_row33_col6\" class=\"data row33 col6\" >23.830000</td>\n",
       "      <td id=\"T_167f6_row33_col7\" class=\"data row33 col7\" >14.850000</td>\n",
       "      <td id=\"T_167f6_row33_col8\" class=\"data row33 col8\" >69.230000</td>\n",
       "    </tr>\n",
       "    <tr>\n",
       "      <th id=\"T_167f6_level0_row34\" class=\"row_heading level0 row34\" >34</th>\n",
       "      <td id=\"T_167f6_row34_col0\" class=\"data row34 col0\" >4</td>\n",
       "      <td id=\"T_167f6_row34_col1\" class=\"data row34 col1\" >Sunday</td>\n",
       "      <td id=\"T_167f6_row34_col2\" class=\"data row34 col2\" >56.962600</td>\n",
       "      <td id=\"T_167f6_row34_col3\" class=\"data row34 col3\" >-44.893700</td>\n",
       "      <td id=\"T_167f6_row34_col4\" class=\"data row34 col4\" >-20.204900</td>\n",
       "      <td id=\"T_167f6_row34_col5\" class=\"data row34 col5\" >30.550000</td>\n",
       "      <td id=\"T_167f6_row34_col6\" class=\"data row34 col6\" >23.830000</td>\n",
       "      <td id=\"T_167f6_row34_col7\" class=\"data row34 col7\" >14.850000</td>\n",
       "      <td id=\"T_167f6_row34_col8\" class=\"data row34 col8\" >69.230000</td>\n",
       "    </tr>\n",
       "    <tr>\n",
       "      <th id=\"T_167f6_level0_row35\" class=\"row_heading level0 row35\" >35</th>\n",
       "      <td id=\"T_167f6_row35_col0\" class=\"data row35 col0\" >5</td>\n",
       "      <td id=\"T_167f6_row35_col1\" class=\"data row35 col1\" >Monday</td>\n",
       "      <td id=\"T_167f6_row35_col2\" class=\"data row35 col2\" >-15.062600</td>\n",
       "      <td id=\"T_167f6_row35_col3\" class=\"data row35 col3\" >-21.599600</td>\n",
       "      <td id=\"T_167f6_row35_col4\" class=\"data row35 col4\" >-14.102400</td>\n",
       "      <td id=\"T_167f6_row35_col5\" class=\"data row35 col5\" >34.050000</td>\n",
       "      <td id=\"T_167f6_row35_col6\" class=\"data row35 col6\" >22.370000</td>\n",
       "      <td id=\"T_167f6_row35_col7\" class=\"data row35 col7\" >14.980000</td>\n",
       "      <td id=\"T_167f6_row35_col8\" class=\"data row35 col8\" >71.400000</td>\n",
       "    </tr>\n",
       "    <tr>\n",
       "      <th id=\"T_167f6_level0_row36\" class=\"row_heading level0 row36\" >36</th>\n",
       "      <td id=\"T_167f6_row36_col0\" class=\"data row36 col0\" >5</td>\n",
       "      <td id=\"T_167f6_row36_col1\" class=\"data row36 col1\" >Tuesday</td>\n",
       "      <td id=\"T_167f6_row36_col2\" class=\"data row36 col2\" >-30.177600</td>\n",
       "      <td id=\"T_167f6_row36_col3\" class=\"data row36 col3\" >-22.973700</td>\n",
       "      <td id=\"T_167f6_row36_col4\" class=\"data row36 col4\" >22.731100</td>\n",
       "      <td id=\"T_167f6_row36_col5\" class=\"data row36 col5\" >34.050000</td>\n",
       "      <td id=\"T_167f6_row36_col6\" class=\"data row36 col6\" >22.370000</td>\n",
       "      <td id=\"T_167f6_row36_col7\" class=\"data row36 col7\" >14.980000</td>\n",
       "      <td id=\"T_167f6_row36_col8\" class=\"data row36 col8\" >71.400000</td>\n",
       "    </tr>\n",
       "    <tr>\n",
       "      <th id=\"T_167f6_level0_row37\" class=\"row_heading level0 row37\" >37</th>\n",
       "      <td id=\"T_167f6_row37_col0\" class=\"data row37 col0\" >5</td>\n",
       "      <td id=\"T_167f6_row37_col1\" class=\"data row37 col1\" >Wednesday</td>\n",
       "      <td id=\"T_167f6_row37_col2\" class=\"data row37 col2\" >-32.687100</td>\n",
       "      <td id=\"T_167f6_row37_col3\" class=\"data row37 col3\" >-11.965100</td>\n",
       "      <td id=\"T_167f6_row37_col4\" class=\"data row37 col4\" >16.088400</td>\n",
       "      <td id=\"T_167f6_row37_col5\" class=\"data row37 col5\" >34.050000</td>\n",
       "      <td id=\"T_167f6_row37_col6\" class=\"data row37 col6\" >22.370000</td>\n",
       "      <td id=\"T_167f6_row37_col7\" class=\"data row37 col7\" >14.980000</td>\n",
       "      <td id=\"T_167f6_row37_col8\" class=\"data row37 col8\" >71.400000</td>\n",
       "    </tr>\n",
       "    <tr>\n",
       "      <th id=\"T_167f6_level0_row38\" class=\"row_heading level0 row38\" >38</th>\n",
       "      <td id=\"T_167f6_row38_col0\" class=\"data row38 col0\" >5</td>\n",
       "      <td id=\"T_167f6_row38_col1\" class=\"data row38 col1\" >Thursday</td>\n",
       "      <td id=\"T_167f6_row38_col2\" class=\"data row38 col2\" >-28.264200</td>\n",
       "      <td id=\"T_167f6_row38_col3\" class=\"data row38 col3\" >11.600700</td>\n",
       "      <td id=\"T_167f6_row38_col4\" class=\"data row38 col4\" >-4.254100</td>\n",
       "      <td id=\"T_167f6_row38_col5\" class=\"data row38 col5\" >34.050000</td>\n",
       "      <td id=\"T_167f6_row38_col6\" class=\"data row38 col6\" >22.370000</td>\n",
       "      <td id=\"T_167f6_row38_col7\" class=\"data row38 col7\" >14.980000</td>\n",
       "      <td id=\"T_167f6_row38_col8\" class=\"data row38 col8\" >71.400000</td>\n",
       "    </tr>\n",
       "    <tr>\n",
       "      <th id=\"T_167f6_level0_row39\" class=\"row_heading level0 row39\" >39</th>\n",
       "      <td id=\"T_167f6_row39_col0\" class=\"data row39 col0\" >5</td>\n",
       "      <td id=\"T_167f6_row39_col1\" class=\"data row39 col1\" >Friday</td>\n",
       "      <td id=\"T_167f6_row39_col2\" class=\"data row39 col2\" >-9.016800</td>\n",
       "      <td id=\"T_167f6_row39_col3\" class=\"data row39 col3\" >50.149900</td>\n",
       "      <td id=\"T_167f6_row39_col4\" class=\"data row39 col4\" >-35.168300</td>\n",
       "      <td id=\"T_167f6_row39_col5\" class=\"data row39 col5\" >34.050000</td>\n",
       "      <td id=\"T_167f6_row39_col6\" class=\"data row39 col6\" >22.370000</td>\n",
       "      <td id=\"T_167f6_row39_col7\" class=\"data row39 col7\" >14.980000</td>\n",
       "      <td id=\"T_167f6_row39_col8\" class=\"data row39 col8\" >71.400000</td>\n",
       "    </tr>\n",
       "    <tr>\n",
       "      <th id=\"T_167f6_level0_row40\" class=\"row_heading level0 row40\" >40</th>\n",
       "      <td id=\"T_167f6_row40_col0\" class=\"data row40 col0\" >5</td>\n",
       "      <td id=\"T_167f6_row40_col1\" class=\"data row40 col1\" >Saturday</td>\n",
       "      <td id=\"T_167f6_row40_col2\" class=\"data row40 col2\" >53.048100</td>\n",
       "      <td id=\"T_167f6_row40_col3\" class=\"data row40 col3\" >33.546700</td>\n",
       "      <td id=\"T_167f6_row40_col4\" class=\"data row40 col4\" >38.629300</td>\n",
       "      <td id=\"T_167f6_row40_col5\" class=\"data row40 col5\" >34.050000</td>\n",
       "      <td id=\"T_167f6_row40_col6\" class=\"data row40 col6\" >22.370000</td>\n",
       "      <td id=\"T_167f6_row40_col7\" class=\"data row40 col7\" >14.980000</td>\n",
       "      <td id=\"T_167f6_row40_col8\" class=\"data row40 col8\" >71.400000</td>\n",
       "    </tr>\n",
       "    <tr>\n",
       "      <th id=\"T_167f6_level0_row41\" class=\"row_heading level0 row41\" >41</th>\n",
       "      <td id=\"T_167f6_row41_col0\" class=\"data row41 col0\" >5</td>\n",
       "      <td id=\"T_167f6_row41_col1\" class=\"data row41 col1\" >Sunday</td>\n",
       "      <td id=\"T_167f6_row41_col2\" class=\"data row41 col2\" >62.160200</td>\n",
       "      <td id=\"T_167f6_row41_col3\" class=\"data row41 col3\" >-38.758700</td>\n",
       "      <td id=\"T_167f6_row41_col4\" class=\"data row41 col4\" >-23.924000</td>\n",
       "      <td id=\"T_167f6_row41_col5\" class=\"data row41 col5\" >34.050000</td>\n",
       "      <td id=\"T_167f6_row41_col6\" class=\"data row41 col6\" >22.370000</td>\n",
       "      <td id=\"T_167f6_row41_col7\" class=\"data row41 col7\" >14.980000</td>\n",
       "      <td id=\"T_167f6_row41_col8\" class=\"data row41 col8\" >71.400000</td>\n",
       "    </tr>\n",
       "    <tr>\n",
       "      <th id=\"T_167f6_level0_row42\" class=\"row_heading level0 row42\" >42</th>\n",
       "      <td id=\"T_167f6_row42_col0\" class=\"data row42 col0\" >6</td>\n",
       "      <td id=\"T_167f6_row42_col1\" class=\"data row42 col1\" >Monday</td>\n",
       "      <td id=\"T_167f6_row42_col2\" class=\"data row42 col2\" >-19.288300</td>\n",
       "      <td id=\"T_167f6_row42_col3\" class=\"data row42 col3\" >-20.066400</td>\n",
       "      <td id=\"T_167f6_row42_col4\" class=\"data row42 col4\" >-22.011100</td>\n",
       "      <td id=\"T_167f6_row42_col5\" class=\"data row42 col5\" >35.510000</td>\n",
       "      <td id=\"T_167f6_row42_col6\" class=\"data row42 col6\" >22.460000</td>\n",
       "      <td id=\"T_167f6_row42_col7\" class=\"data row42 col7\" >14.570000</td>\n",
       "      <td id=\"T_167f6_row42_col8\" class=\"data row42 col8\" >72.540000</td>\n",
       "    </tr>\n",
       "    <tr>\n",
       "      <th id=\"T_167f6_level0_row43\" class=\"row_heading level0 row43\" >43</th>\n",
       "      <td id=\"T_167f6_row43_col0\" class=\"data row43 col0\" >6</td>\n",
       "      <td id=\"T_167f6_row43_col1\" class=\"data row43 col1\" >Tuesday</td>\n",
       "      <td id=\"T_167f6_row43_col2\" class=\"data row43 col2\" >-32.585600</td>\n",
       "      <td id=\"T_167f6_row43_col3\" class=\"data row43 col3\" >-21.633900</td>\n",
       "      <td id=\"T_167f6_row43_col4\" class=\"data row43 col4\" >21.197000</td>\n",
       "      <td id=\"T_167f6_row43_col5\" class=\"data row43 col5\" >35.510000</td>\n",
       "      <td id=\"T_167f6_row43_col6\" class=\"data row43 col6\" >22.460000</td>\n",
       "      <td id=\"T_167f6_row43_col7\" class=\"data row43 col7\" >14.570000</td>\n",
       "      <td id=\"T_167f6_row43_col8\" class=\"data row43 col8\" >72.540000</td>\n",
       "    </tr>\n",
       "    <tr>\n",
       "      <th id=\"T_167f6_level0_row44\" class=\"row_heading level0 row44\" >44</th>\n",
       "      <td id=\"T_167f6_row44_col0\" class=\"data row44 col0\" >6</td>\n",
       "      <td id=\"T_167f6_row44_col1\" class=\"data row44 col1\" >Wednesday</td>\n",
       "      <td id=\"T_167f6_row44_col2\" class=\"data row44 col2\" >-33.463300</td>\n",
       "      <td id=\"T_167f6_row44_col3\" class=\"data row44 col3\" >-10.424500</td>\n",
       "      <td id=\"T_167f6_row44_col4\" class=\"data row44 col4\" >18.333800</td>\n",
       "      <td id=\"T_167f6_row44_col5\" class=\"data row44 col5\" >35.510000</td>\n",
       "      <td id=\"T_167f6_row44_col6\" class=\"data row44 col6\" >22.460000</td>\n",
       "      <td id=\"T_167f6_row44_col7\" class=\"data row44 col7\" >14.570000</td>\n",
       "      <td id=\"T_167f6_row44_col8\" class=\"data row44 col8\" >72.540000</td>\n",
       "    </tr>\n",
       "    <tr>\n",
       "      <th id=\"T_167f6_level0_row45\" class=\"row_heading level0 row45\" >45</th>\n",
       "      <td id=\"T_167f6_row45_col0\" class=\"data row45 col0\" >6</td>\n",
       "      <td id=\"T_167f6_row45_col1\" class=\"data row45 col1\" >Thursday</td>\n",
       "      <td id=\"T_167f6_row45_col2\" class=\"data row45 col2\" >-27.383000</td>\n",
       "      <td id=\"T_167f6_row45_col3\" class=\"data row45 col3\" >12.968700</td>\n",
       "      <td id=\"T_167f6_row45_col4\" class=\"data row45 col4\" >1.516700</td>\n",
       "      <td id=\"T_167f6_row45_col5\" class=\"data row45 col5\" >35.510000</td>\n",
       "      <td id=\"T_167f6_row45_col6\" class=\"data row45 col6\" >22.460000</td>\n",
       "      <td id=\"T_167f6_row45_col7\" class=\"data row45 col7\" >14.570000</td>\n",
       "      <td id=\"T_167f6_row45_col8\" class=\"data row45 col8\" >72.540000</td>\n",
       "    </tr>\n",
       "    <tr>\n",
       "      <th id=\"T_167f6_level0_row46\" class=\"row_heading level0 row46\" >46</th>\n",
       "      <td id=\"T_167f6_row46_col0\" class=\"data row46 col0\" >6</td>\n",
       "      <td id=\"T_167f6_row46_col1\" class=\"data row46 col1\" >Friday</td>\n",
       "      <td id=\"T_167f6_row46_col2\" class=\"data row46 col2\" >-4.246400</td>\n",
       "      <td id=\"T_167f6_row46_col3\" class=\"data row46 col3\" >50.248100</td>\n",
       "      <td id=\"T_167f6_row46_col4\" class=\"data row46 col4\" >-35.124500</td>\n",
       "      <td id=\"T_167f6_row46_col5\" class=\"data row46 col5\" >35.510000</td>\n",
       "      <td id=\"T_167f6_row46_col6\" class=\"data row46 col6\" >22.460000</td>\n",
       "      <td id=\"T_167f6_row46_col7\" class=\"data row46 col7\" >14.570000</td>\n",
       "      <td id=\"T_167f6_row46_col8\" class=\"data row46 col8\" >72.540000</td>\n",
       "    </tr>\n",
       "    <tr>\n",
       "      <th id=\"T_167f6_level0_row47\" class=\"row_heading level0 row47\" >47</th>\n",
       "      <td id=\"T_167f6_row47_col0\" class=\"data row47 col0\" >6</td>\n",
       "      <td id=\"T_167f6_row47_col1\" class=\"data row47 col1\" >Saturday</td>\n",
       "      <td id=\"T_167f6_row47_col2\" class=\"data row47 col2\" >55.443000</td>\n",
       "      <td id=\"T_167f6_row47_col3\" class=\"data row47 col3\" >31.233300</td>\n",
       "      <td id=\"T_167f6_row47_col4\" class=\"data row47 col4\" >35.811100</td>\n",
       "      <td id=\"T_167f6_row47_col5\" class=\"data row47 col5\" >35.510000</td>\n",
       "      <td id=\"T_167f6_row47_col6\" class=\"data row47 col6\" >22.460000</td>\n",
       "      <td id=\"T_167f6_row47_col7\" class=\"data row47 col7\" >14.570000</td>\n",
       "      <td id=\"T_167f6_row47_col8\" class=\"data row47 col8\" >72.540000</td>\n",
       "    </tr>\n",
       "    <tr>\n",
       "      <th id=\"T_167f6_level0_row48\" class=\"row_heading level0 row48\" >48</th>\n",
       "      <td id=\"T_167f6_row48_col0\" class=\"data row48 col0\" >6</td>\n",
       "      <td id=\"T_167f6_row48_col1\" class=\"data row48 col1\" >Sunday</td>\n",
       "      <td id=\"T_167f6_row48_col2\" class=\"data row48 col2\" >61.523600</td>\n",
       "      <td id=\"T_167f6_row48_col3\" class=\"data row48 col3\" >-42.325400</td>\n",
       "      <td id=\"T_167f6_row48_col4\" class=\"data row48 col4\" >-19.723000</td>\n",
       "      <td id=\"T_167f6_row48_col5\" class=\"data row48 col5\" >35.510000</td>\n",
       "      <td id=\"T_167f6_row48_col6\" class=\"data row48 col6\" >22.460000</td>\n",
       "      <td id=\"T_167f6_row48_col7\" class=\"data row48 col7\" >14.570000</td>\n",
       "      <td id=\"T_167f6_row48_col8\" class=\"data row48 col8\" >72.540000</td>\n",
       "    </tr>\n",
       "    <tr>\n",
       "      <th id=\"T_167f6_level0_row49\" class=\"row_heading level0 row49\" >49</th>\n",
       "      <td id=\"T_167f6_row49_col0\" class=\"data row49 col0\" >7</td>\n",
       "      <td id=\"T_167f6_row49_col1\" class=\"data row49 col1\" >Monday</td>\n",
       "      <td id=\"T_167f6_row49_col2\" class=\"data row49 col2\" >-19.227100</td>\n",
       "      <td id=\"T_167f6_row49_col3\" class=\"data row49 col3\" >-24.883600</td>\n",
       "      <td id=\"T_167f6_row49_col4\" class=\"data row49 col4\" >-43.825500</td>\n",
       "      <td id=\"T_167f6_row49_col5\" class=\"data row49 col5\" >37.500000</td>\n",
       "      <td id=\"T_167f6_row49_col6\" class=\"data row49 col6\" >21.410000</td>\n",
       "      <td id=\"T_167f6_row49_col7\" class=\"data row49 col7\" >14.740000</td>\n",
       "      <td id=\"T_167f6_row49_col8\" class=\"data row49 col8\" >73.650000</td>\n",
       "    </tr>\n",
       "    <tr>\n",
       "      <th id=\"T_167f6_level0_row50\" class=\"row_heading level0 row50\" >50</th>\n",
       "      <td id=\"T_167f6_row50_col0\" class=\"data row50 col0\" >7</td>\n",
       "      <td id=\"T_167f6_row50_col1\" class=\"data row50 col1\" >Tuesday</td>\n",
       "      <td id=\"T_167f6_row50_col2\" class=\"data row50 col2\" >-34.076000</td>\n",
       "      <td id=\"T_167f6_row50_col3\" class=\"data row50 col3\" >-20.368200</td>\n",
       "      <td id=\"T_167f6_row50_col4\" class=\"data row50 col4\" >15.503000</td>\n",
       "      <td id=\"T_167f6_row50_col5\" class=\"data row50 col5\" >37.500000</td>\n",
       "      <td id=\"T_167f6_row50_col6\" class=\"data row50 col6\" >21.410000</td>\n",
       "      <td id=\"T_167f6_row50_col7\" class=\"data row50 col7\" >14.740000</td>\n",
       "      <td id=\"T_167f6_row50_col8\" class=\"data row50 col8\" >73.650000</td>\n",
       "    </tr>\n",
       "    <tr>\n",
       "      <th id=\"T_167f6_level0_row51\" class=\"row_heading level0 row51\" >51</th>\n",
       "      <td id=\"T_167f6_row51_col0\" class=\"data row51 col0\" >7</td>\n",
       "      <td id=\"T_167f6_row51_col1\" class=\"data row51 col1\" >Wednesday</td>\n",
       "      <td id=\"T_167f6_row51_col2\" class=\"data row51 col2\" >-36.397400</td>\n",
       "      <td id=\"T_167f6_row51_col3\" class=\"data row51 col3\" >-8.520400</td>\n",
       "      <td id=\"T_167f6_row51_col4\" class=\"data row51 col4\" >22.427100</td>\n",
       "      <td id=\"T_167f6_row51_col5\" class=\"data row51 col5\" >37.500000</td>\n",
       "      <td id=\"T_167f6_row51_col6\" class=\"data row51 col6\" >21.410000</td>\n",
       "      <td id=\"T_167f6_row51_col7\" class=\"data row51 col7\" >14.740000</td>\n",
       "      <td id=\"T_167f6_row51_col8\" class=\"data row51 col8\" >73.650000</td>\n",
       "    </tr>\n",
       "    <tr>\n",
       "      <th id=\"T_167f6_level0_row52\" class=\"row_heading level0 row52\" >52</th>\n",
       "      <td id=\"T_167f6_row52_col0\" class=\"data row52 col0\" >7</td>\n",
       "      <td id=\"T_167f6_row52_col1\" class=\"data row52 col1\" >Thursday</td>\n",
       "      <td id=\"T_167f6_row52_col2\" class=\"data row52 col2\" >-27.617200</td>\n",
       "      <td id=\"T_167f6_row52_col3\" class=\"data row52 col3\" >16.819600</td>\n",
       "      <td id=\"T_167f6_row52_col4\" class=\"data row52 col4\" >18.543700</td>\n",
       "      <td id=\"T_167f6_row52_col5\" class=\"data row52 col5\" >37.500000</td>\n",
       "      <td id=\"T_167f6_row52_col6\" class=\"data row52 col6\" >21.410000</td>\n",
       "      <td id=\"T_167f6_row52_col7\" class=\"data row52 col7\" >14.740000</td>\n",
       "      <td id=\"T_167f6_row52_col8\" class=\"data row52 col8\" >73.650000</td>\n",
       "    </tr>\n",
       "    <tr>\n",
       "      <th id=\"T_167f6_level0_row53\" class=\"row_heading level0 row53\" >53</th>\n",
       "      <td id=\"T_167f6_row53_col0\" class=\"data row53 col0\" >7</td>\n",
       "      <td id=\"T_167f6_row53_col1\" class=\"data row53 col1\" >Friday</td>\n",
       "      <td id=\"T_167f6_row53_col2\" class=\"data row53 col2\" >-1.756800</td>\n",
       "      <td id=\"T_167f6_row53_col3\" class=\"data row53 col3\" >47.388700</td>\n",
       "      <td id=\"T_167f6_row53_col4\" class=\"data row53 col4\" >-30.131500</td>\n",
       "      <td id=\"T_167f6_row53_col5\" class=\"data row53 col5\" >37.500000</td>\n",
       "      <td id=\"T_167f6_row53_col6\" class=\"data row53 col6\" >21.410000</td>\n",
       "      <td id=\"T_167f6_row53_col7\" class=\"data row53 col7\" >14.740000</td>\n",
       "      <td id=\"T_167f6_row53_col8\" class=\"data row53 col8\" >73.650000</td>\n",
       "    </tr>\n",
       "    <tr>\n",
       "      <th id=\"T_167f6_level0_row54\" class=\"row_heading level0 row54\" >54</th>\n",
       "      <td id=\"T_167f6_row54_col0\" class=\"data row54 col0\" >7</td>\n",
       "      <td id=\"T_167f6_row54_col1\" class=\"data row54 col1\" >Saturday</td>\n",
       "      <td id=\"T_167f6_row54_col2\" class=\"data row54 col2\" >55.058300</td>\n",
       "      <td id=\"T_167f6_row54_col3\" class=\"data row54 col3\" >29.782500</td>\n",
       "      <td id=\"T_167f6_row54_col4\" class=\"data row54 col4\" >17.649200</td>\n",
       "      <td id=\"T_167f6_row54_col5\" class=\"data row54 col5\" >37.500000</td>\n",
       "      <td id=\"T_167f6_row54_col6\" class=\"data row54 col6\" >21.410000</td>\n",
       "      <td id=\"T_167f6_row54_col7\" class=\"data row54 col7\" >14.740000</td>\n",
       "      <td id=\"T_167f6_row54_col8\" class=\"data row54 col8\" >73.650000</td>\n",
       "    </tr>\n",
       "    <tr>\n",
       "      <th id=\"T_167f6_level0_row55\" class=\"row_heading level0 row55\" >55</th>\n",
       "      <td id=\"T_167f6_row55_col0\" class=\"data row55 col0\" >7</td>\n",
       "      <td id=\"T_167f6_row55_col1\" class=\"data row55 col1\" >Sunday</td>\n",
       "      <td id=\"T_167f6_row55_col2\" class=\"data row55 col2\" >64.016200</td>\n",
       "      <td id=\"T_167f6_row55_col3\" class=\"data row55 col3\" >-40.218600</td>\n",
       "      <td id=\"T_167f6_row55_col4\" class=\"data row55 col4\" >-0.165900</td>\n",
       "      <td id=\"T_167f6_row55_col5\" class=\"data row55 col5\" >37.500000</td>\n",
       "      <td id=\"T_167f6_row55_col6\" class=\"data row55 col6\" >21.410000</td>\n",
       "      <td id=\"T_167f6_row55_col7\" class=\"data row55 col7\" >14.740000</td>\n",
       "      <td id=\"T_167f6_row55_col8\" class=\"data row55 col8\" >73.650000</td>\n",
       "    </tr>\n",
       "    <tr>\n",
       "      <th id=\"T_167f6_level0_row56\" class=\"row_heading level0 row56\" >56</th>\n",
       "      <td id=\"T_167f6_row56_col0\" class=\"data row56 col0\" >8</td>\n",
       "      <td id=\"T_167f6_row56_col1\" class=\"data row56 col1\" >Monday</td>\n",
       "      <td id=\"T_167f6_row56_col2\" class=\"data row56 col2\" >-19.086900</td>\n",
       "      <td id=\"T_167f6_row56_col3\" class=\"data row56 col3\" >-27.872100</td>\n",
       "      <td id=\"T_167f6_row56_col4\" class=\"data row56 col4\" >-43.447500</td>\n",
       "      <td id=\"T_167f6_row56_col5\" class=\"data row56 col5\" >40.290000</td>\n",
       "      <td id=\"T_167f6_row56_col6\" class=\"data row56 col6\" >21.230000</td>\n",
       "      <td id=\"T_167f6_row56_col7\" class=\"data row56 col7\" >14.500000</td>\n",
       "      <td id=\"T_167f6_row56_col8\" class=\"data row56 col8\" >76.030000</td>\n",
       "    </tr>\n",
       "    <tr>\n",
       "      <th id=\"T_167f6_level0_row57\" class=\"row_heading level0 row57\" >57</th>\n",
       "      <td id=\"T_167f6_row57_col0\" class=\"data row57 col0\" >8</td>\n",
       "      <td id=\"T_167f6_row57_col1\" class=\"data row57 col1\" >Tuesday</td>\n",
       "      <td id=\"T_167f6_row57_col2\" class=\"data row57 col2\" >-32.610500</td>\n",
       "      <td id=\"T_167f6_row57_col3\" class=\"data row57 col3\" >-22.755600</td>\n",
       "      <td id=\"T_167f6_row57_col4\" class=\"data row57 col4\" >13.042900</td>\n",
       "      <td id=\"T_167f6_row57_col5\" class=\"data row57 col5\" >40.290000</td>\n",
       "      <td id=\"T_167f6_row57_col6\" class=\"data row57 col6\" >21.230000</td>\n",
       "      <td id=\"T_167f6_row57_col7\" class=\"data row57 col7\" >14.500000</td>\n",
       "      <td id=\"T_167f6_row57_col8\" class=\"data row57 col8\" >76.030000</td>\n",
       "    </tr>\n",
       "    <tr>\n",
       "      <th id=\"T_167f6_level0_row58\" class=\"row_heading level0 row58\" >58</th>\n",
       "      <td id=\"T_167f6_row58_col0\" class=\"data row58 col0\" >8</td>\n",
       "      <td id=\"T_167f6_row58_col1\" class=\"data row58 col1\" >Wednesday</td>\n",
       "      <td id=\"T_167f6_row58_col2\" class=\"data row58 col2\" >-35.146000</td>\n",
       "      <td id=\"T_167f6_row58_col3\" class=\"data row58 col3\" >-10.694800</td>\n",
       "      <td id=\"T_167f6_row58_col4\" class=\"data row58 col4\" >23.709000</td>\n",
       "      <td id=\"T_167f6_row58_col5\" class=\"data row58 col5\" >40.290000</td>\n",
       "      <td id=\"T_167f6_row58_col6\" class=\"data row58 col6\" >21.230000</td>\n",
       "      <td id=\"T_167f6_row58_col7\" class=\"data row58 col7\" >14.500000</td>\n",
       "      <td id=\"T_167f6_row58_col8\" class=\"data row58 col8\" >76.030000</td>\n",
       "    </tr>\n",
       "    <tr>\n",
       "      <th id=\"T_167f6_level0_row59\" class=\"row_heading level0 row59\" >59</th>\n",
       "      <td id=\"T_167f6_row59_col0\" class=\"data row59 col0\" >8</td>\n",
       "      <td id=\"T_167f6_row59_col1\" class=\"data row59 col1\" >Thursday</td>\n",
       "      <td id=\"T_167f6_row59_col2\" class=\"data row59 col2\" >-30.213000</td>\n",
       "      <td id=\"T_167f6_row59_col3\" class=\"data row59 col3\" >17.583500</td>\n",
       "      <td id=\"T_167f6_row59_col4\" class=\"data row59 col4\" >21.377900</td>\n",
       "      <td id=\"T_167f6_row59_col5\" class=\"data row59 col5\" >40.290000</td>\n",
       "      <td id=\"T_167f6_row59_col6\" class=\"data row59 col6\" >21.230000</td>\n",
       "      <td id=\"T_167f6_row59_col7\" class=\"data row59 col7\" >14.500000</td>\n",
       "      <td id=\"T_167f6_row59_col8\" class=\"data row59 col8\" >76.030000</td>\n",
       "    </tr>\n",
       "    <tr>\n",
       "      <th id=\"T_167f6_level0_row60\" class=\"row_heading level0 row60\" >60</th>\n",
       "      <td id=\"T_167f6_row60_col0\" class=\"data row60 col0\" >8</td>\n",
       "      <td id=\"T_167f6_row60_col1\" class=\"data row60 col1\" >Friday</td>\n",
       "      <td id=\"T_167f6_row60_col2\" class=\"data row60 col2\" >-7.418100</td>\n",
       "      <td id=\"T_167f6_row60_col3\" class=\"data row60 col3\" >46.150500</td>\n",
       "      <td id=\"T_167f6_row60_col4\" class=\"data row60 col4\" >-30.034400</td>\n",
       "      <td id=\"T_167f6_row60_col5\" class=\"data row60 col5\" >40.290000</td>\n",
       "      <td id=\"T_167f6_row60_col6\" class=\"data row60 col6\" >21.230000</td>\n",
       "      <td id=\"T_167f6_row60_col7\" class=\"data row60 col7\" >14.500000</td>\n",
       "      <td id=\"T_167f6_row60_col8\" class=\"data row60 col8\" >76.030000</td>\n",
       "    </tr>\n",
       "    <tr>\n",
       "      <th id=\"T_167f6_level0_row61\" class=\"row_heading level0 row61\" >61</th>\n",
       "      <td id=\"T_167f6_row61_col0\" class=\"data row61 col0\" >8</td>\n",
       "      <td id=\"T_167f6_row61_col1\" class=\"data row61 col1\" >Saturday</td>\n",
       "      <td id=\"T_167f6_row61_col2\" class=\"data row61 col2\" >52.874600</td>\n",
       "      <td id=\"T_167f6_row61_col3\" class=\"data row61 col3\" >32.239100</td>\n",
       "      <td id=\"T_167f6_row61_col4\" class=\"data row61 col4\" >13.179200</td>\n",
       "      <td id=\"T_167f6_row61_col5\" class=\"data row61 col5\" >40.290000</td>\n",
       "      <td id=\"T_167f6_row61_col6\" class=\"data row61 col6\" >21.230000</td>\n",
       "      <td id=\"T_167f6_row61_col7\" class=\"data row61 col7\" >14.500000</td>\n",
       "      <td id=\"T_167f6_row61_col8\" class=\"data row61 col8\" >76.030000</td>\n",
       "    </tr>\n",
       "    <tr>\n",
       "      <th id=\"T_167f6_level0_row62\" class=\"row_heading level0 row62\" >62</th>\n",
       "      <td id=\"T_167f6_row62_col0\" class=\"data row62 col0\" >8</td>\n",
       "      <td id=\"T_167f6_row62_col1\" class=\"data row62 col1\" >Sunday</td>\n",
       "      <td id=\"T_167f6_row62_col2\" class=\"data row62 col2\" >71.599900</td>\n",
       "      <td id=\"T_167f6_row62_col3\" class=\"data row62 col3\" >-34.650500</td>\n",
       "      <td id=\"T_167f6_row62_col4\" class=\"data row62 col4\" >2.172900</td>\n",
       "      <td id=\"T_167f6_row62_col5\" class=\"data row62 col5\" >40.290000</td>\n",
       "      <td id=\"T_167f6_row62_col6\" class=\"data row62 col6\" >21.230000</td>\n",
       "      <td id=\"T_167f6_row62_col7\" class=\"data row62 col7\" >14.500000</td>\n",
       "      <td id=\"T_167f6_row62_col8\" class=\"data row62 col8\" >76.030000</td>\n",
       "    </tr>\n",
       "    <tr>\n",
       "      <th id=\"T_167f6_level0_row63\" class=\"row_heading level0 row63\" >63</th>\n",
       "      <td id=\"T_167f6_row63_col0\" class=\"data row63 col0\" >9</td>\n",
       "      <td id=\"T_167f6_row63_col1\" class=\"data row63 col1\" >Monday</td>\n",
       "      <td id=\"T_167f6_row63_col2\" class=\"data row63 col2\" >-18.554100</td>\n",
       "      <td id=\"T_167f6_row63_col3\" class=\"data row63 col3\" >-31.129200</td>\n",
       "      <td id=\"T_167f6_row63_col4\" class=\"data row63 col4\" >-35.080900</td>\n",
       "      <td id=\"T_167f6_row63_col5\" class=\"data row63 col5\" >39.220000</td>\n",
       "      <td id=\"T_167f6_row63_col6\" class=\"data row63 col6\" >20.910000</td>\n",
       "      <td id=\"T_167f6_row63_col7\" class=\"data row63 col7\" >15.270000</td>\n",
       "      <td id=\"T_167f6_row63_col8\" class=\"data row63 col8\" >75.400000</td>\n",
       "    </tr>\n",
       "    <tr>\n",
       "      <th id=\"T_167f6_level0_row64\" class=\"row_heading level0 row64\" >64</th>\n",
       "      <td id=\"T_167f6_row64_col0\" class=\"data row64 col0\" >9</td>\n",
       "      <td id=\"T_167f6_row64_col1\" class=\"data row64 col1\" >Tuesday</td>\n",
       "      <td id=\"T_167f6_row64_col2\" class=\"data row64 col2\" >-31.435200</td>\n",
       "      <td id=\"T_167f6_row64_col3\" class=\"data row64 col3\" >-20.594200</td>\n",
       "      <td id=\"T_167f6_row64_col4\" class=\"data row64 col4\" >17.655700</td>\n",
       "      <td id=\"T_167f6_row64_col5\" class=\"data row64 col5\" >39.220000</td>\n",
       "      <td id=\"T_167f6_row64_col6\" class=\"data row64 col6\" >20.910000</td>\n",
       "      <td id=\"T_167f6_row64_col7\" class=\"data row64 col7\" >15.270000</td>\n",
       "      <td id=\"T_167f6_row64_col8\" class=\"data row64 col8\" >75.400000</td>\n",
       "    </tr>\n",
       "    <tr>\n",
       "      <th id=\"T_167f6_level0_row65\" class=\"row_heading level0 row65\" >65</th>\n",
       "      <td id=\"T_167f6_row65_col0\" class=\"data row65 col0\" >9</td>\n",
       "      <td id=\"T_167f6_row65_col1\" class=\"data row65 col1\" >Wednesday</td>\n",
       "      <td id=\"T_167f6_row65_col2\" class=\"data row65 col2\" >-33.941200</td>\n",
       "      <td id=\"T_167f6_row65_col3\" class=\"data row65 col3\" >-7.120100</td>\n",
       "      <td id=\"T_167f6_row65_col4\" class=\"data row65 col4\" >24.820800</td>\n",
       "      <td id=\"T_167f6_row65_col5\" class=\"data row65 col5\" >39.220000</td>\n",
       "      <td id=\"T_167f6_row65_col6\" class=\"data row65 col6\" >20.910000</td>\n",
       "      <td id=\"T_167f6_row65_col7\" class=\"data row65 col7\" >15.270000</td>\n",
       "      <td id=\"T_167f6_row65_col8\" class=\"data row65 col8\" >75.400000</td>\n",
       "    </tr>\n",
       "    <tr>\n",
       "      <th id=\"T_167f6_level0_row66\" class=\"row_heading level0 row66\" >66</th>\n",
       "      <td id=\"T_167f6_row66_col0\" class=\"data row66 col0\" >9</td>\n",
       "      <td id=\"T_167f6_row66_col1\" class=\"data row66 col1\" >Thursday</td>\n",
       "      <td id=\"T_167f6_row66_col2\" class=\"data row66 col2\" >-30.187700</td>\n",
       "      <td id=\"T_167f6_row66_col3\" class=\"data row66 col3\" >16.978600</td>\n",
       "      <td id=\"T_167f6_row66_col4\" class=\"data row66 col4\" >15.488400</td>\n",
       "      <td id=\"T_167f6_row66_col5\" class=\"data row66 col5\" >39.220000</td>\n",
       "      <td id=\"T_167f6_row66_col6\" class=\"data row66 col6\" >20.910000</td>\n",
       "      <td id=\"T_167f6_row66_col7\" class=\"data row66 col7\" >15.270000</td>\n",
       "      <td id=\"T_167f6_row66_col8\" class=\"data row66 col8\" >75.400000</td>\n",
       "    </tr>\n",
       "    <tr>\n",
       "      <th id=\"T_167f6_level0_row67\" class=\"row_heading level0 row67\" >67</th>\n",
       "      <td id=\"T_167f6_row67_col0\" class=\"data row67 col0\" >9</td>\n",
       "      <td id=\"T_167f6_row67_col1\" class=\"data row67 col1\" >Friday</td>\n",
       "      <td id=\"T_167f6_row67_col2\" class=\"data row67 col2\" >-9.233300</td>\n",
       "      <td id=\"T_167f6_row67_col3\" class=\"data row67 col3\" >40.877100</td>\n",
       "      <td id=\"T_167f6_row67_col4\" class=\"data row67 col4\" >-39.817000</td>\n",
       "      <td id=\"T_167f6_row67_col5\" class=\"data row67 col5\" >39.220000</td>\n",
       "      <td id=\"T_167f6_row67_col6\" class=\"data row67 col6\" >20.910000</td>\n",
       "      <td id=\"T_167f6_row67_col7\" class=\"data row67 col7\" >15.270000</td>\n",
       "      <td id=\"T_167f6_row67_col8\" class=\"data row67 col8\" >75.400000</td>\n",
       "    </tr>\n",
       "    <tr>\n",
       "      <th id=\"T_167f6_level0_row68\" class=\"row_heading level0 row68\" >68</th>\n",
       "      <td id=\"T_167f6_row68_col0\" class=\"data row68 col0\" >9</td>\n",
       "      <td id=\"T_167f6_row68_col1\" class=\"data row68 col1\" >Saturday</td>\n",
       "      <td id=\"T_167f6_row68_col2\" class=\"data row68 col2\" >52.821000</td>\n",
       "      <td id=\"T_167f6_row68_col3\" class=\"data row68 col3\" >36.495900</td>\n",
       "      <td id=\"T_167f6_row68_col4\" class=\"data row68 col4\" >19.640400</td>\n",
       "      <td id=\"T_167f6_row68_col5\" class=\"data row68 col5\" >39.220000</td>\n",
       "      <td id=\"T_167f6_row68_col6\" class=\"data row68 col6\" >20.910000</td>\n",
       "      <td id=\"T_167f6_row68_col7\" class=\"data row68 col7\" >15.270000</td>\n",
       "      <td id=\"T_167f6_row68_col8\" class=\"data row68 col8\" >75.400000</td>\n",
       "    </tr>\n",
       "    <tr>\n",
       "      <th id=\"T_167f6_level0_row69\" class=\"row_heading level0 row69\" >69</th>\n",
       "      <td id=\"T_167f6_row69_col0\" class=\"data row69 col0\" >9</td>\n",
       "      <td id=\"T_167f6_row69_col1\" class=\"data row69 col1\" >Sunday</td>\n",
       "      <td id=\"T_167f6_row69_col2\" class=\"data row69 col2\" >70.530500</td>\n",
       "      <td id=\"T_167f6_row69_col3\" class=\"data row69 col3\" >-35.508000</td>\n",
       "      <td id=\"T_167f6_row69_col4\" class=\"data row69 col4\" >-2.707300</td>\n",
       "      <td id=\"T_167f6_row69_col5\" class=\"data row69 col5\" >39.220000</td>\n",
       "      <td id=\"T_167f6_row69_col6\" class=\"data row69 col6\" >20.910000</td>\n",
       "      <td id=\"T_167f6_row69_col7\" class=\"data row69 col7\" >15.270000</td>\n",
       "      <td id=\"T_167f6_row69_col8\" class=\"data row69 col8\" >75.400000</td>\n",
       "    </tr>\n",
       "    <tr>\n",
       "      <th id=\"T_167f6_level0_row70\" class=\"row_heading level0 row70\" >70</th>\n",
       "      <td id=\"T_167f6_row70_col0\" class=\"data row70 col0\" >10</td>\n",
       "      <td id=\"T_167f6_row70_col1\" class=\"data row70 col1\" >Monday</td>\n",
       "      <td id=\"T_167f6_row70_col2\" class=\"data row70 col2\" >-17.646600</td>\n",
       "      <td id=\"T_167f6_row70_col3\" class=\"data row70 col3\" >-27.525000</td>\n",
       "      <td id=\"T_167f6_row70_col4\" class=\"data row70 col4\" >-36.304000</td>\n",
       "      <td id=\"T_167f6_row70_col5\" class=\"data row70 col5\" >39.020000</td>\n",
       "      <td id=\"T_167f6_row70_col6\" class=\"data row70 col6\" >20.710000</td>\n",
       "      <td id=\"T_167f6_row70_col7\" class=\"data row70 col7\" >15.790000</td>\n",
       "      <td id=\"T_167f6_row70_col8\" class=\"data row70 col8\" >75.520000</td>\n",
       "    </tr>\n",
       "    <tr>\n",
       "      <th id=\"T_167f6_level0_row71\" class=\"row_heading level0 row71\" >71</th>\n",
       "      <td id=\"T_167f6_row71_col0\" class=\"data row71 col0\" >10</td>\n",
       "      <td id=\"T_167f6_row71_col1\" class=\"data row71 col1\" >Tuesday</td>\n",
       "      <td id=\"T_167f6_row71_col2\" class=\"data row71 col2\" >-31.038800</td>\n",
       "      <td id=\"T_167f6_row71_col3\" class=\"data row71 col3\" >-21.711800</td>\n",
       "      <td id=\"T_167f6_row71_col4\" class=\"data row71 col4\" >14.638200</td>\n",
       "      <td id=\"T_167f6_row71_col5\" class=\"data row71 col5\" >39.020000</td>\n",
       "      <td id=\"T_167f6_row71_col6\" class=\"data row71 col6\" >20.710000</td>\n",
       "      <td id=\"T_167f6_row71_col7\" class=\"data row71 col7\" >15.790000</td>\n",
       "      <td id=\"T_167f6_row71_col8\" class=\"data row71 col8\" >75.520000</td>\n",
       "    </tr>\n",
       "    <tr>\n",
       "      <th id=\"T_167f6_level0_row72\" class=\"row_heading level0 row72\" >72</th>\n",
       "      <td id=\"T_167f6_row72_col0\" class=\"data row72 col0\" >10</td>\n",
       "      <td id=\"T_167f6_row72_col1\" class=\"data row72 col1\" >Wednesday</td>\n",
       "      <td id=\"T_167f6_row72_col2\" class=\"data row72 col2\" >-33.810200</td>\n",
       "      <td id=\"T_167f6_row72_col3\" class=\"data row72 col3\" >-9.035900</td>\n",
       "      <td id=\"T_167f6_row72_col4\" class=\"data row72 col4\" >25.533100</td>\n",
       "      <td id=\"T_167f6_row72_col5\" class=\"data row72 col5\" >39.020000</td>\n",
       "      <td id=\"T_167f6_row72_col6\" class=\"data row72 col6\" >20.710000</td>\n",
       "      <td id=\"T_167f6_row72_col7\" class=\"data row72 col7\" >15.790000</td>\n",
       "      <td id=\"T_167f6_row72_col8\" class=\"data row72 col8\" >75.520000</td>\n",
       "    </tr>\n",
       "    <tr>\n",
       "      <th id=\"T_167f6_level0_row73\" class=\"row_heading level0 row73\" >73</th>\n",
       "      <td id=\"T_167f6_row73_col0\" class=\"data row73 col0\" >10</td>\n",
       "      <td id=\"T_167f6_row73_col1\" class=\"data row73 col1\" >Thursday</td>\n",
       "      <td id=\"T_167f6_row73_col2\" class=\"data row73 col2\" >-30.661500</td>\n",
       "      <td id=\"T_167f6_row73_col3\" class=\"data row73 col3\" >15.236600</td>\n",
       "      <td id=\"T_167f6_row73_col4\" class=\"data row73 col4\" >18.107200</td>\n",
       "      <td id=\"T_167f6_row73_col5\" class=\"data row73 col5\" >39.020000</td>\n",
       "      <td id=\"T_167f6_row73_col6\" class=\"data row73 col6\" >20.710000</td>\n",
       "      <td id=\"T_167f6_row73_col7\" class=\"data row73 col7\" >15.790000</td>\n",
       "      <td id=\"T_167f6_row73_col8\" class=\"data row73 col8\" >75.520000</td>\n",
       "    </tr>\n",
       "    <tr>\n",
       "      <th id=\"T_167f6_level0_row74\" class=\"row_heading level0 row74\" >74</th>\n",
       "      <td id=\"T_167f6_row74_col0\" class=\"data row74 col0\" >10</td>\n",
       "      <td id=\"T_167f6_row74_col1\" class=\"data row74 col1\" >Friday</td>\n",
       "      <td id=\"T_167f6_row74_col2\" class=\"data row74 col2\" >-9.798900</td>\n",
       "      <td id=\"T_167f6_row74_col3\" class=\"data row74 col3\" >41.570600</td>\n",
       "      <td id=\"T_167f6_row74_col4\" class=\"data row74 col4\" >-39.471100</td>\n",
       "      <td id=\"T_167f6_row74_col5\" class=\"data row74 col5\" >39.020000</td>\n",
       "      <td id=\"T_167f6_row74_col6\" class=\"data row74 col6\" >20.710000</td>\n",
       "      <td id=\"T_167f6_row74_col7\" class=\"data row74 col7\" >15.790000</td>\n",
       "      <td id=\"T_167f6_row74_col8\" class=\"data row74 col8\" >75.520000</td>\n",
       "    </tr>\n",
       "    <tr>\n",
       "      <th id=\"T_167f6_level0_row75\" class=\"row_heading level0 row75\" >75</th>\n",
       "      <td id=\"T_167f6_row75_col0\" class=\"data row75 col0\" >10</td>\n",
       "      <td id=\"T_167f6_row75_col1\" class=\"data row75 col1\" >Saturday</td>\n",
       "      <td id=\"T_167f6_row75_col2\" class=\"data row75 col2\" >52.153900</td>\n",
       "      <td id=\"T_167f6_row75_col3\" class=\"data row75 col3\" >37.235600</td>\n",
       "      <td id=\"T_167f6_row75_col4\" class=\"data row75 col4\" >21.095100</td>\n",
       "      <td id=\"T_167f6_row75_col5\" class=\"data row75 col5\" >39.020000</td>\n",
       "      <td id=\"T_167f6_row75_col6\" class=\"data row75 col6\" >20.710000</td>\n",
       "      <td id=\"T_167f6_row75_col7\" class=\"data row75 col7\" >15.790000</td>\n",
       "      <td id=\"T_167f6_row75_col8\" class=\"data row75 col8\" >75.520000</td>\n",
       "    </tr>\n",
       "    <tr>\n",
       "      <th id=\"T_167f6_level0_row76\" class=\"row_heading level0 row76\" >76</th>\n",
       "      <td id=\"T_167f6_row76_col0\" class=\"data row76 col0\" >10</td>\n",
       "      <td id=\"T_167f6_row76_col1\" class=\"data row76 col1\" >Sunday</td>\n",
       "      <td id=\"T_167f6_row76_col2\" class=\"data row76 col2\" >70.802000</td>\n",
       "      <td id=\"T_167f6_row76_col3\" class=\"data row76 col3\" >-35.770100</td>\n",
       "      <td id=\"T_167f6_row76_col4\" class=\"data row76 col4\" >-3.598500</td>\n",
       "      <td id=\"T_167f6_row76_col5\" class=\"data row76 col5\" >39.020000</td>\n",
       "      <td id=\"T_167f6_row76_col6\" class=\"data row76 col6\" >20.710000</td>\n",
       "      <td id=\"T_167f6_row76_col7\" class=\"data row76 col7\" >15.790000</td>\n",
       "      <td id=\"T_167f6_row76_col8\" class=\"data row76 col8\" >75.520000</td>\n",
       "    </tr>\n",
       "    <tr>\n",
       "      <th id=\"T_167f6_level0_row77\" class=\"row_heading level0 row77\" >77</th>\n",
       "      <td id=\"T_167f6_row77_col0\" class=\"data row77 col0\" >11</td>\n",
       "      <td id=\"T_167f6_row77_col1\" class=\"data row77 col1\" >Monday</td>\n",
       "      <td id=\"T_167f6_row77_col2\" class=\"data row77 col2\" >-17.949100</td>\n",
       "      <td id=\"T_167f6_row77_col3\" class=\"data row77 col3\" >-35.569000</td>\n",
       "      <td id=\"T_167f6_row77_col4\" class=\"data row77 col4\" >-34.038900</td>\n",
       "      <td id=\"T_167f6_row77_col5\" class=\"data row77 col5\" >38.750000</td>\n",
       "      <td id=\"T_167f6_row77_col6\" class=\"data row77 col6\" >20.340000</td>\n",
       "      <td id=\"T_167f6_row77_col7\" class=\"data row77 col7\" >16.410000</td>\n",
       "      <td id=\"T_167f6_row77_col8\" class=\"data row77 col8\" >75.510000</td>\n",
       "    </tr>\n",
       "    <tr>\n",
       "      <th id=\"T_167f6_level0_row78\" class=\"row_heading level0 row78\" >78</th>\n",
       "      <td id=\"T_167f6_row78_col0\" class=\"data row78 col0\" >11</td>\n",
       "      <td id=\"T_167f6_row78_col1\" class=\"data row78 col1\" >Tuesday</td>\n",
       "      <td id=\"T_167f6_row78_col2\" class=\"data row78 col2\" >-30.991500</td>\n",
       "      <td id=\"T_167f6_row78_col3\" class=\"data row78 col3\" >-18.766900</td>\n",
       "      <td id=\"T_167f6_row78_col4\" class=\"data row78 col4\" >18.263800</td>\n",
       "      <td id=\"T_167f6_row78_col5\" class=\"data row78 col5\" >38.750000</td>\n",
       "      <td id=\"T_167f6_row78_col6\" class=\"data row78 col6\" >20.340000</td>\n",
       "      <td id=\"T_167f6_row78_col7\" class=\"data row78 col7\" >16.410000</td>\n",
       "      <td id=\"T_167f6_row78_col8\" class=\"data row78 col8\" >75.510000</td>\n",
       "    </tr>\n",
       "    <tr>\n",
       "      <th id=\"T_167f6_level0_row79\" class=\"row_heading level0 row79\" >79</th>\n",
       "      <td id=\"T_167f6_row79_col0\" class=\"data row79 col0\" >11</td>\n",
       "      <td id=\"T_167f6_row79_col1\" class=\"data row79 col1\" >Wednesday</td>\n",
       "      <td id=\"T_167f6_row79_col2\" class=\"data row79 col2\" >-34.431900</td>\n",
       "      <td id=\"T_167f6_row79_col3\" class=\"data row79 col3\" >-4.717900</td>\n",
       "      <td id=\"T_167f6_row79_col4\" class=\"data row79 col4\" >27.193800</td>\n",
       "      <td id=\"T_167f6_row79_col5\" class=\"data row79 col5\" >38.750000</td>\n",
       "      <td id=\"T_167f6_row79_col6\" class=\"data row79 col6\" >20.340000</td>\n",
       "      <td id=\"T_167f6_row79_col7\" class=\"data row79 col7\" >16.410000</td>\n",
       "      <td id=\"T_167f6_row79_col8\" class=\"data row79 col8\" >75.510000</td>\n",
       "    </tr>\n",
       "    <tr>\n",
       "      <th id=\"T_167f6_level0_row80\" class=\"row_heading level0 row80\" >80</th>\n",
       "      <td id=\"T_167f6_row80_col0\" class=\"data row80 col0\" >11</td>\n",
       "      <td id=\"T_167f6_row80_col1\" class=\"data row80 col1\" >Thursday</td>\n",
       "      <td id=\"T_167f6_row80_col2\" class=\"data row80 col2\" >-30.378500</td>\n",
       "      <td id=\"T_167f6_row80_col3\" class=\"data row80 col3\" >20.258200</td>\n",
       "      <td id=\"T_167f6_row80_col4\" class=\"data row80 col4\" >15.040400</td>\n",
       "      <td id=\"T_167f6_row80_col5\" class=\"data row80 col5\" >38.750000</td>\n",
       "      <td id=\"T_167f6_row80_col6\" class=\"data row80 col6\" >20.340000</td>\n",
       "      <td id=\"T_167f6_row80_col7\" class=\"data row80 col7\" >16.410000</td>\n",
       "      <td id=\"T_167f6_row80_col8\" class=\"data row80 col8\" >75.510000</td>\n",
       "    </tr>\n",
       "    <tr>\n",
       "      <th id=\"T_167f6_level0_row81\" class=\"row_heading level0 row81\" >81</th>\n",
       "      <td id=\"T_167f6_row81_col0\" class=\"data row81 col0\" >11</td>\n",
       "      <td id=\"T_167f6_row81_col1\" class=\"data row81 col1\" >Friday</td>\n",
       "      <td id=\"T_167f6_row81_col2\" class=\"data row81 col2\" >-8.791800</td>\n",
       "      <td id=\"T_167f6_row81_col3\" class=\"data row81 col3\" >36.716800</td>\n",
       "      <td id=\"T_167f6_row81_col4\" class=\"data row81 col4\" >-44.269500</td>\n",
       "      <td id=\"T_167f6_row81_col5\" class=\"data row81 col5\" >38.750000</td>\n",
       "      <td id=\"T_167f6_row81_col6\" class=\"data row81 col6\" >20.340000</td>\n",
       "      <td id=\"T_167f6_row81_col7\" class=\"data row81 col7\" >16.410000</td>\n",
       "      <td id=\"T_167f6_row81_col8\" class=\"data row81 col8\" >75.510000</td>\n",
       "    </tr>\n",
       "    <tr>\n",
       "      <th id=\"T_167f6_level0_row82\" class=\"row_heading level0 row82\" >82</th>\n",
       "      <td id=\"T_167f6_row82_col0\" class=\"data row82 col0\" >11</td>\n",
       "      <td id=\"T_167f6_row82_col1\" class=\"data row82 col1\" >Saturday</td>\n",
       "      <td id=\"T_167f6_row82_col2\" class=\"data row82 col2\" >53.076400</td>\n",
       "      <td id=\"T_167f6_row82_col3\" class=\"data row82 col3\" >35.916500</td>\n",
       "      <td id=\"T_167f6_row82_col4\" class=\"data row82 col4\" >16.970000</td>\n",
       "      <td id=\"T_167f6_row82_col5\" class=\"data row82 col5\" >38.750000</td>\n",
       "      <td id=\"T_167f6_row82_col6\" class=\"data row82 col6\" >20.340000</td>\n",
       "      <td id=\"T_167f6_row82_col7\" class=\"data row82 col7\" >16.410000</td>\n",
       "      <td id=\"T_167f6_row82_col8\" class=\"data row82 col8\" >75.510000</td>\n",
       "    </tr>\n",
       "    <tr>\n",
       "      <th id=\"T_167f6_level0_row83\" class=\"row_heading level0 row83\" >83</th>\n",
       "      <td id=\"T_167f6_row83_col0\" class=\"data row83 col0\" >11</td>\n",
       "      <td id=\"T_167f6_row83_col1\" class=\"data row83 col1\" >Sunday</td>\n",
       "      <td id=\"T_167f6_row83_col2\" class=\"data row83 col2\" >69.466400</td>\n",
       "      <td id=\"T_167f6_row83_col3\" class=\"data row83 col3\" >-33.837700</td>\n",
       "      <td id=\"T_167f6_row83_col4\" class=\"data row83 col4\" >0.840400</td>\n",
       "      <td id=\"T_167f6_row83_col5\" class=\"data row83 col5\" >38.750000</td>\n",
       "      <td id=\"T_167f6_row83_col6\" class=\"data row83 col6\" >20.340000</td>\n",
       "      <td id=\"T_167f6_row83_col7\" class=\"data row83 col7\" >16.410000</td>\n",
       "      <td id=\"T_167f6_row83_col8\" class=\"data row83 col8\" >75.510000</td>\n",
       "    </tr>\n",
       "    <tr>\n",
       "      <th id=\"T_167f6_level0_row84\" class=\"row_heading level0 row84\" >84</th>\n",
       "      <td id=\"T_167f6_row84_col0\" class=\"data row84 col0\" >12</td>\n",
       "      <td id=\"T_167f6_row84_col1\" class=\"data row84 col1\" >Monday</td>\n",
       "      <td id=\"T_167f6_row84_col2\" class=\"data row84 col2\" >-17.817600</td>\n",
       "      <td id=\"T_167f6_row84_col3\" class=\"data row84 col3\" >-44.365100</td>\n",
       "      <td id=\"T_167f6_row84_col4\" class=\"data row84 col4\" >-31.104200</td>\n",
       "      <td id=\"T_167f6_row84_col5\" class=\"data row84 col5\" >37.650000</td>\n",
       "      <td id=\"T_167f6_row84_col6\" class=\"data row84 col6\" >21.240000</td>\n",
       "      <td id=\"T_167f6_row84_col7\" class=\"data row84 col7\" >16.590000</td>\n",
       "      <td id=\"T_167f6_row84_col8\" class=\"data row84 col8\" >75.490000</td>\n",
       "    </tr>\n",
       "    <tr>\n",
       "      <th id=\"T_167f6_level0_row85\" class=\"row_heading level0 row85\" >85</th>\n",
       "      <td id=\"T_167f6_row85_col0\" class=\"data row85 col0\" >12</td>\n",
       "      <td id=\"T_167f6_row85_col1\" class=\"data row85 col1\" >Tuesday</td>\n",
       "      <td id=\"T_167f6_row85_col2\" class=\"data row85 col2\" >-30.109000</td>\n",
       "      <td id=\"T_167f6_row85_col3\" class=\"data row85 col3\" >-17.441000</td>\n",
       "      <td id=\"T_167f6_row85_col4\" class=\"data row85 col4\" >21.589700</td>\n",
       "      <td id=\"T_167f6_row85_col5\" class=\"data row85 col5\" >37.650000</td>\n",
       "      <td id=\"T_167f6_row85_col6\" class=\"data row85 col6\" >21.240000</td>\n",
       "      <td id=\"T_167f6_row85_col7\" class=\"data row85 col7\" >16.590000</td>\n",
       "      <td id=\"T_167f6_row85_col8\" class=\"data row85 col8\" >75.490000</td>\n",
       "    </tr>\n",
       "    <tr>\n",
       "      <th id=\"T_167f6_level0_row86\" class=\"row_heading level0 row86\" >86</th>\n",
       "      <td id=\"T_167f6_row86_col0\" class=\"data row86 col0\" >12</td>\n",
       "      <td id=\"T_167f6_row86_col1\" class=\"data row86 col1\" >Wednesday</td>\n",
       "      <td id=\"T_167f6_row86_col2\" class=\"data row86 col2\" >-32.959800</td>\n",
       "      <td id=\"T_167f6_row86_col3\" class=\"data row86 col3\" >0.860800</td>\n",
       "      <td id=\"T_167f6_row86_col4\" class=\"data row86 col4\" >28.081200</td>\n",
       "      <td id=\"T_167f6_row86_col5\" class=\"data row86 col5\" >37.650000</td>\n",
       "      <td id=\"T_167f6_row86_col6\" class=\"data row86 col6\" >21.240000</td>\n",
       "      <td id=\"T_167f6_row86_col7\" class=\"data row86 col7\" >16.590000</td>\n",
       "      <td id=\"T_167f6_row86_col8\" class=\"data row86 col8\" >75.490000</td>\n",
       "    </tr>\n",
       "    <tr>\n",
       "      <th id=\"T_167f6_level0_row87\" class=\"row_heading level0 row87\" >87</th>\n",
       "      <td id=\"T_167f6_row87_col0\" class=\"data row87 col0\" >12</td>\n",
       "      <td id=\"T_167f6_row87_col1\" class=\"data row87 col1\" >Thursday</td>\n",
       "      <td id=\"T_167f6_row87_col2\" class=\"data row87 col2\" >-30.946600</td>\n",
       "      <td id=\"T_167f6_row87_col3\" class=\"data row87 col3\" >24.161200</td>\n",
       "      <td id=\"T_167f6_row87_col4\" class=\"data row87 col4\" >12.153200</td>\n",
       "      <td id=\"T_167f6_row87_col5\" class=\"data row87 col5\" >37.650000</td>\n",
       "      <td id=\"T_167f6_row87_col6\" class=\"data row87 col6\" >21.240000</td>\n",
       "      <td id=\"T_167f6_row87_col7\" class=\"data row87 col7\" >16.590000</td>\n",
       "      <td id=\"T_167f6_row87_col8\" class=\"data row87 col8\" >75.490000</td>\n",
       "    </tr>\n",
       "    <tr>\n",
       "      <th id=\"T_167f6_level0_row88\" class=\"row_heading level0 row88\" >88</th>\n",
       "      <td id=\"T_167f6_row88_col0\" class=\"data row88 col0\" >12</td>\n",
       "      <td id=\"T_167f6_row88_col1\" class=\"data row88 col1\" >Friday</td>\n",
       "      <td id=\"T_167f6_row88_col2\" class=\"data row88 col2\" >-9.174000</td>\n",
       "      <td id=\"T_167f6_row88_col3\" class=\"data row88 col3\" >32.270100</td>\n",
       "      <td id=\"T_167f6_row88_col4\" class=\"data row88 col4\" >-47.302100</td>\n",
       "      <td id=\"T_167f6_row88_col5\" class=\"data row88 col5\" >37.650000</td>\n",
       "      <td id=\"T_167f6_row88_col6\" class=\"data row88 col6\" >21.240000</td>\n",
       "      <td id=\"T_167f6_row88_col7\" class=\"data row88 col7\" >16.590000</td>\n",
       "      <td id=\"T_167f6_row88_col8\" class=\"data row88 col8\" >75.490000</td>\n",
       "    </tr>\n",
       "    <tr>\n",
       "      <th id=\"T_167f6_level0_row89\" class=\"row_heading level0 row89\" >89</th>\n",
       "      <td id=\"T_167f6_row89_col0\" class=\"data row89 col0\" >12</td>\n",
       "      <td id=\"T_167f6_row89_col1\" class=\"data row89 col1\" >Saturday</td>\n",
       "      <td id=\"T_167f6_row89_col2\" class=\"data row89 col2\" >52.681500</td>\n",
       "      <td id=\"T_167f6_row89_col3\" class=\"data row89 col3\" >35.279600</td>\n",
       "      <td id=\"T_167f6_row89_col4\" class=\"data row89 col4\" >10.832000</td>\n",
       "      <td id=\"T_167f6_row89_col5\" class=\"data row89 col5\" >37.650000</td>\n",
       "      <td id=\"T_167f6_row89_col6\" class=\"data row89 col6\" >21.240000</td>\n",
       "      <td id=\"T_167f6_row89_col7\" class=\"data row89 col7\" >16.590000</td>\n",
       "      <td id=\"T_167f6_row89_col8\" class=\"data row89 col8\" >75.490000</td>\n",
       "    </tr>\n",
       "    <tr>\n",
       "      <th id=\"T_167f6_level0_row90\" class=\"row_heading level0 row90\" >90</th>\n",
       "      <td id=\"T_167f6_row90_col0\" class=\"data row90 col0\" >12</td>\n",
       "      <td id=\"T_167f6_row90_col1\" class=\"data row90 col1\" >Sunday</td>\n",
       "      <td id=\"T_167f6_row90_col2\" class=\"data row90 col2\" >68.325500</td>\n",
       "      <td id=\"T_167f6_row90_col3\" class=\"data row90 col3\" >-30.765600</td>\n",
       "      <td id=\"T_167f6_row90_col4\" class=\"data row90 col4\" >5.750300</td>\n",
       "      <td id=\"T_167f6_row90_col5\" class=\"data row90 col5\" >37.650000</td>\n",
       "      <td id=\"T_167f6_row90_col6\" class=\"data row90 col6\" >21.240000</td>\n",
       "      <td id=\"T_167f6_row90_col7\" class=\"data row90 col7\" >16.590000</td>\n",
       "      <td id=\"T_167f6_row90_col8\" class=\"data row90 col8\" >75.490000</td>\n",
       "    </tr>\n",
       "    <tr>\n",
       "      <th id=\"T_167f6_level0_row91\" class=\"row_heading level0 row91\" >91</th>\n",
       "      <td id=\"T_167f6_row91_col0\" class=\"data row91 col0\" >13</td>\n",
       "      <td id=\"T_167f6_row91_col1\" class=\"data row91 col1\" >Monday</td>\n",
       "      <td id=\"T_167f6_row91_col2\" class=\"data row91 col2\" >-13.462100</td>\n",
       "      <td id=\"T_167f6_row91_col3\" class=\"data row91 col3\" >-43.453800</td>\n",
       "      <td id=\"T_167f6_row91_col4\" class=\"data row91 col4\" >-33.894400</td>\n",
       "      <td id=\"T_167f6_row91_col5\" class=\"data row91 col5\" >38.560000</td>\n",
       "      <td id=\"T_167f6_row91_col6\" class=\"data row91 col6\" >22.320000</td>\n",
       "      <td id=\"T_167f6_row91_col7\" class=\"data row91 col7\" >15.840000</td>\n",
       "      <td id=\"T_167f6_row91_col8\" class=\"data row91 col8\" >76.720000</td>\n",
       "    </tr>\n",
       "    <tr>\n",
       "      <th id=\"T_167f6_level0_row92\" class=\"row_heading level0 row92\" >92</th>\n",
       "      <td id=\"T_167f6_row92_col0\" class=\"data row92 col0\" >13</td>\n",
       "      <td id=\"T_167f6_row92_col1\" class=\"data row92 col1\" >Tuesday</td>\n",
       "      <td id=\"T_167f6_row92_col2\" class=\"data row92 col2\" >-29.156200</td>\n",
       "      <td id=\"T_167f6_row92_col3\" class=\"data row92 col3\" >-16.827300</td>\n",
       "      <td id=\"T_167f6_row92_col4\" class=\"data row92 col4\" >21.437800</td>\n",
       "      <td id=\"T_167f6_row92_col5\" class=\"data row92 col5\" >38.560000</td>\n",
       "      <td id=\"T_167f6_row92_col6\" class=\"data row92 col6\" >22.320000</td>\n",
       "      <td id=\"T_167f6_row92_col7\" class=\"data row92 col7\" >15.840000</td>\n",
       "      <td id=\"T_167f6_row92_col8\" class=\"data row92 col8\" >76.720000</td>\n",
       "    </tr>\n",
       "    <tr>\n",
       "      <th id=\"T_167f6_level0_row93\" class=\"row_heading level0 row93\" >93</th>\n",
       "      <td id=\"T_167f6_row93_col0\" class=\"data row93 col0\" >13</td>\n",
       "      <td id=\"T_167f6_row93_col1\" class=\"data row93 col1\" >Wednesday</td>\n",
       "      <td id=\"T_167f6_row93_col2\" class=\"data row93 col2\" >-31.952500</td>\n",
       "      <td id=\"T_167f6_row93_col3\" class=\"data row93 col3\" >-3.336000</td>\n",
       "      <td id=\"T_167f6_row93_col4\" class=\"data row93 col4\" >27.825800</td>\n",
       "      <td id=\"T_167f6_row93_col5\" class=\"data row93 col5\" >38.560000</td>\n",
       "      <td id=\"T_167f6_row93_col6\" class=\"data row93 col6\" >22.320000</td>\n",
       "      <td id=\"T_167f6_row93_col7\" class=\"data row93 col7\" >15.840000</td>\n",
       "      <td id=\"T_167f6_row93_col8\" class=\"data row93 col8\" >76.720000</td>\n",
       "    </tr>\n",
       "    <tr>\n",
       "      <th id=\"T_167f6_level0_row94\" class=\"row_heading level0 row94\" >94</th>\n",
       "      <td id=\"T_167f6_row94_col0\" class=\"data row94 col0\" >13</td>\n",
       "      <td id=\"T_167f6_row94_col1\" class=\"data row94 col1\" >Thursday</td>\n",
       "      <td id=\"T_167f6_row94_col2\" class=\"data row94 col2\" >-31.718300</td>\n",
       "      <td id=\"T_167f6_row94_col3\" class=\"data row94 col3\" >17.196400</td>\n",
       "      <td id=\"T_167f6_row94_col4\" class=\"data row94 col4\" >13.914200</td>\n",
       "      <td id=\"T_167f6_row94_col5\" class=\"data row94 col5\" >38.560000</td>\n",
       "      <td id=\"T_167f6_row94_col6\" class=\"data row94 col6\" >22.320000</td>\n",
       "      <td id=\"T_167f6_row94_col7\" class=\"data row94 col7\" >15.840000</td>\n",
       "      <td id=\"T_167f6_row94_col8\" class=\"data row94 col8\" >76.720000</td>\n",
       "    </tr>\n",
       "    <tr>\n",
       "      <th id=\"T_167f6_level0_row95\" class=\"row_heading level0 row95\" >95</th>\n",
       "      <td id=\"T_167f6_row95_col0\" class=\"data row95 col0\" >13</td>\n",
       "      <td id=\"T_167f6_row95_col1\" class=\"data row95 col1\" >Friday</td>\n",
       "      <td id=\"T_167f6_row95_col2\" class=\"data row95 col2\" >-13.442500</td>\n",
       "      <td id=\"T_167f6_row95_col3\" class=\"data row95 col3\" >27.612400</td>\n",
       "      <td id=\"T_167f6_row95_col4\" class=\"data row95 col4\" >-43.101500</td>\n",
       "      <td id=\"T_167f6_row95_col5\" class=\"data row95 col5\" >38.560000</td>\n",
       "      <td id=\"T_167f6_row95_col6\" class=\"data row95 col6\" >22.320000</td>\n",
       "      <td id=\"T_167f6_row95_col7\" class=\"data row95 col7\" >15.840000</td>\n",
       "      <td id=\"T_167f6_row95_col8\" class=\"data row95 col8\" >76.720000</td>\n",
       "    </tr>\n",
       "    <tr>\n",
       "      <th id=\"T_167f6_level0_row96\" class=\"row_heading level0 row96\" >96</th>\n",
       "      <td id=\"T_167f6_row96_col0\" class=\"data row96 col0\" >13</td>\n",
       "      <td id=\"T_167f6_row96_col1\" class=\"data row96 col1\" >Saturday</td>\n",
       "      <td id=\"T_167f6_row96_col2\" class=\"data row96 col2\" >41.845200</td>\n",
       "      <td id=\"T_167f6_row96_col3\" class=\"data row96 col3\" >48.014200</td>\n",
       "      <td id=\"T_167f6_row96_col4\" class=\"data row96 col4\" >4.340300</td>\n",
       "      <td id=\"T_167f6_row96_col5\" class=\"data row96 col5\" >38.560000</td>\n",
       "      <td id=\"T_167f6_row96_col6\" class=\"data row96 col6\" >22.320000</td>\n",
       "      <td id=\"T_167f6_row96_col7\" class=\"data row96 col7\" >15.840000</td>\n",
       "      <td id=\"T_167f6_row96_col8\" class=\"data row96 col8\" >76.720000</td>\n",
       "    </tr>\n",
       "    <tr>\n",
       "      <th id=\"T_167f6_level0_row97\" class=\"row_heading level0 row97\" >97</th>\n",
       "      <td id=\"T_167f6_row97_col0\" class=\"data row97 col0\" >13</td>\n",
       "      <td id=\"T_167f6_row97_col1\" class=\"data row97 col1\" >Sunday</td>\n",
       "      <td id=\"T_167f6_row97_col2\" class=\"data row97 col2\" >77.886400</td>\n",
       "      <td id=\"T_167f6_row97_col3\" class=\"data row97 col3\" >-29.205800</td>\n",
       "      <td id=\"T_167f6_row97_col4\" class=\"data row97 col4\" >9.477700</td>\n",
       "      <td id=\"T_167f6_row97_col5\" class=\"data row97 col5\" >38.560000</td>\n",
       "      <td id=\"T_167f6_row97_col6\" class=\"data row97 col6\" >22.320000</td>\n",
       "      <td id=\"T_167f6_row97_col7\" class=\"data row97 col7\" >15.840000</td>\n",
       "      <td id=\"T_167f6_row97_col8\" class=\"data row97 col8\" >76.720000</td>\n",
       "    </tr>\n",
       "    <tr>\n",
       "      <th id=\"T_167f6_level0_row98\" class=\"row_heading level0 row98\" >98</th>\n",
       "      <td id=\"T_167f6_row98_col0\" class=\"data row98 col0\" >14</td>\n",
       "      <td id=\"T_167f6_row98_col1\" class=\"data row98 col1\" >Monday</td>\n",
       "      <td id=\"T_167f6_row98_col2\" class=\"data row98 col2\" >-17.302300</td>\n",
       "      <td id=\"T_167f6_row98_col3\" class=\"data row98 col3\" >-29.130800</td>\n",
       "      <td id=\"T_167f6_row98_col4\" class=\"data row98 col4\" >-42.016700</td>\n",
       "      <td id=\"T_167f6_row98_col5\" class=\"data row98 col5\" >41.490000</td>\n",
       "      <td id=\"T_167f6_row98_col6\" class=\"data row98 col6\" >24.820000</td>\n",
       "      <td id=\"T_167f6_row98_col7\" class=\"data row98 col7\" >14.070000</td>\n",
       "      <td id=\"T_167f6_row98_col8\" class=\"data row98 col8\" >80.390000</td>\n",
       "    </tr>\n",
       "    <tr>\n",
       "      <th id=\"T_167f6_level0_row99\" class=\"row_heading level0 row99\" >99</th>\n",
       "      <td id=\"T_167f6_row99_col0\" class=\"data row99 col0\" >14</td>\n",
       "      <td id=\"T_167f6_row99_col1\" class=\"data row99 col1\" >Tuesday</td>\n",
       "      <td id=\"T_167f6_row99_col2\" class=\"data row99 col2\" >-35.644700</td>\n",
       "      <td id=\"T_167f6_row99_col3\" class=\"data row99 col3\" >-21.214700</td>\n",
       "      <td id=\"T_167f6_row99_col4\" class=\"data row99 col4\" >15.013900</td>\n",
       "      <td id=\"T_167f6_row99_col5\" class=\"data row99 col5\" >41.490000</td>\n",
       "      <td id=\"T_167f6_row99_col6\" class=\"data row99 col6\" >24.820000</td>\n",
       "      <td id=\"T_167f6_row99_col7\" class=\"data row99 col7\" >14.070000</td>\n",
       "      <td id=\"T_167f6_row99_col8\" class=\"data row99 col8\" >80.390000</td>\n",
       "    </tr>\n",
       "    <tr>\n",
       "      <th id=\"T_167f6_level0_row100\" class=\"row_heading level0 row100\" >100</th>\n",
       "      <td id=\"T_167f6_row100_col0\" class=\"data row100 col0\" >14</td>\n",
       "      <td id=\"T_167f6_row100_col1\" class=\"data row100 col1\" >Wednesday</td>\n",
       "      <td id=\"T_167f6_row100_col2\" class=\"data row100 col2\" >-37.544300</td>\n",
       "      <td id=\"T_167f6_row100_col3\" class=\"data row100 col3\" >-7.636800</td>\n",
       "      <td id=\"T_167f6_row100_col4\" class=\"data row100 col4\" >21.838800</td>\n",
       "      <td id=\"T_167f6_row100_col5\" class=\"data row100 col5\" >41.490000</td>\n",
       "      <td id=\"T_167f6_row100_col6\" class=\"data row100 col6\" >24.820000</td>\n",
       "      <td id=\"T_167f6_row100_col7\" class=\"data row100 col7\" >14.070000</td>\n",
       "      <td id=\"T_167f6_row100_col8\" class=\"data row100 col8\" >80.390000</td>\n",
       "    </tr>\n",
       "    <tr>\n",
       "      <th id=\"T_167f6_level0_row101\" class=\"row_heading level0 row101\" >101</th>\n",
       "      <td id=\"T_167f6_row101_col0\" class=\"data row101 col0\" >14</td>\n",
       "      <td id=\"T_167f6_row101_col1\" class=\"data row101 col1\" >Thursday</td>\n",
       "      <td id=\"T_167f6_row101_col2\" class=\"data row101 col2\" >-31.548200</td>\n",
       "      <td id=\"T_167f6_row101_col3\" class=\"data row101 col3\" >17.281700</td>\n",
       "      <td id=\"T_167f6_row101_col4\" class=\"data row101 col4\" >18.079500</td>\n",
       "      <td id=\"T_167f6_row101_col5\" class=\"data row101 col5\" >41.490000</td>\n",
       "      <td id=\"T_167f6_row101_col6\" class=\"data row101 col6\" >24.820000</td>\n",
       "      <td id=\"T_167f6_row101_col7\" class=\"data row101 col7\" >14.070000</td>\n",
       "      <td id=\"T_167f6_row101_col8\" class=\"data row101 col8\" >80.390000</td>\n",
       "    </tr>\n",
       "    <tr>\n",
       "      <th id=\"T_167f6_level0_row102\" class=\"row_heading level0 row102\" >102</th>\n",
       "      <td id=\"T_167f6_row102_col0\" class=\"data row102 col0\" >14</td>\n",
       "      <td id=\"T_167f6_row102_col1\" class=\"data row102 col1\" >Friday</td>\n",
       "      <td id=\"T_167f6_row102_col2\" class=\"data row102 col2\" >-3.282900</td>\n",
       "      <td id=\"T_167f6_row102_col3\" class=\"data row102 col3\" >47.327600</td>\n",
       "      <td id=\"T_167f6_row102_col4\" class=\"data row102 col4\" >-31.467400</td>\n",
       "      <td id=\"T_167f6_row102_col5\" class=\"data row102 col5\" >41.490000</td>\n",
       "      <td id=\"T_167f6_row102_col6\" class=\"data row102 col6\" >24.820000</td>\n",
       "      <td id=\"T_167f6_row102_col7\" class=\"data row102 col7\" >14.070000</td>\n",
       "      <td id=\"T_167f6_row102_col8\" class=\"data row102 col8\" >80.390000</td>\n",
       "    </tr>\n",
       "    <tr>\n",
       "      <th id=\"T_167f6_level0_row103\" class=\"row_heading level0 row103\" >103</th>\n",
       "      <td id=\"T_167f6_row103_col0\" class=\"data row103 col0\" >14</td>\n",
       "      <td id=\"T_167f6_row103_col1\" class=\"data row103 col1\" >Saturday</td>\n",
       "      <td id=\"T_167f6_row103_col2\" class=\"data row103 col2\" >57.272300</td>\n",
       "      <td id=\"T_167f6_row103_col3\" class=\"data row103 col3\" >36.685300</td>\n",
       "      <td id=\"T_167f6_row103_col4\" class=\"data row103 col4\" >15.521400</td>\n",
       "      <td id=\"T_167f6_row103_col5\" class=\"data row103 col5\" >41.490000</td>\n",
       "      <td id=\"T_167f6_row103_col6\" class=\"data row103 col6\" >24.820000</td>\n",
       "      <td id=\"T_167f6_row103_col7\" class=\"data row103 col7\" >14.070000</td>\n",
       "      <td id=\"T_167f6_row103_col8\" class=\"data row103 col8\" >80.390000</td>\n",
       "    </tr>\n",
       "    <tr>\n",
       "      <th id=\"T_167f6_level0_row104\" class=\"row_heading level0 row104\" >104</th>\n",
       "      <td id=\"T_167f6_row104_col0\" class=\"data row104 col0\" >14</td>\n",
       "      <td id=\"T_167f6_row104_col1\" class=\"data row104 col1\" >Sunday</td>\n",
       "      <td id=\"T_167f6_row104_col2\" class=\"data row104 col2\" >68.050100</td>\n",
       "      <td id=\"T_167f6_row104_col3\" class=\"data row104 col3\" >-43.312300</td>\n",
       "      <td id=\"T_167f6_row104_col4\" class=\"data row104 col4\" >3.030600</td>\n",
       "      <td id=\"T_167f6_row104_col5\" class=\"data row104 col5\" >41.490000</td>\n",
       "      <td id=\"T_167f6_row104_col6\" class=\"data row104 col6\" >24.820000</td>\n",
       "      <td id=\"T_167f6_row104_col7\" class=\"data row104 col7\" >14.070000</td>\n",
       "      <td id=\"T_167f6_row104_col8\" class=\"data row104 col8\" >80.390000</td>\n",
       "    </tr>\n",
       "    <tr>\n",
       "      <th id=\"T_167f6_level0_row105\" class=\"row_heading level0 row105\" >105</th>\n",
       "      <td id=\"T_167f6_row105_col0\" class=\"data row105 col0\" >15</td>\n",
       "      <td id=\"T_167f6_row105_col1\" class=\"data row105 col1\" >Monday</td>\n",
       "      <td id=\"T_167f6_row105_col2\" class=\"data row105 col2\" >-17.079300</td>\n",
       "      <td id=\"T_167f6_row105_col3\" class=\"data row105 col3\" >-33.354700</td>\n",
       "      <td id=\"T_167f6_row105_col4\" class=\"data row105 col4\" >-42.022500</td>\n",
       "      <td id=\"T_167f6_row105_col5\" class=\"data row105 col5\" >38.900000</td>\n",
       "      <td id=\"T_167f6_row105_col6\" class=\"data row105 col6\" >24.480000</td>\n",
       "      <td id=\"T_167f6_row105_col7\" class=\"data row105 col7\" >14.610000</td>\n",
       "      <td id=\"T_167f6_row105_col8\" class=\"data row105 col8\" >78.000000</td>\n",
       "    </tr>\n",
       "    <tr>\n",
       "      <th id=\"T_167f6_level0_row106\" class=\"row_heading level0 row106\" >106</th>\n",
       "      <td id=\"T_167f6_row106_col0\" class=\"data row106 col0\" >15</td>\n",
       "      <td id=\"T_167f6_row106_col1\" class=\"data row106 col1\" >Tuesday</td>\n",
       "      <td id=\"T_167f6_row106_col2\" class=\"data row106 col2\" >-35.379000</td>\n",
       "      <td id=\"T_167f6_row106_col3\" class=\"data row106 col3\" >-20.839200</td>\n",
       "      <td id=\"T_167f6_row106_col4\" class=\"data row106 col4\" >19.231300</td>\n",
       "      <td id=\"T_167f6_row106_col5\" class=\"data row106 col5\" >38.900000</td>\n",
       "      <td id=\"T_167f6_row106_col6\" class=\"data row106 col6\" >24.480000</td>\n",
       "      <td id=\"T_167f6_row106_col7\" class=\"data row106 col7\" >14.610000</td>\n",
       "      <td id=\"T_167f6_row106_col8\" class=\"data row106 col8\" >78.000000</td>\n",
       "    </tr>\n",
       "    <tr>\n",
       "      <th id=\"T_167f6_level0_row107\" class=\"row_heading level0 row107\" >107</th>\n",
       "      <td id=\"T_167f6_row107_col0\" class=\"data row107 col0\" >15</td>\n",
       "      <td id=\"T_167f6_row107_col1\" class=\"data row107 col1\" >Wednesday</td>\n",
       "      <td id=\"T_167f6_row107_col2\" class=\"data row107 col2\" >-36.637100</td>\n",
       "      <td id=\"T_167f6_row107_col3\" class=\"data row107 col3\" >-5.095000</td>\n",
       "      <td id=\"T_167f6_row107_col4\" class=\"data row107 col4\" >21.968100</td>\n",
       "      <td id=\"T_167f6_row107_col5\" class=\"data row107 col5\" >38.900000</td>\n",
       "      <td id=\"T_167f6_row107_col6\" class=\"data row107 col6\" >24.480000</td>\n",
       "      <td id=\"T_167f6_row107_col7\" class=\"data row107 col7\" >14.610000</td>\n",
       "      <td id=\"T_167f6_row107_col8\" class=\"data row107 col8\" >78.000000</td>\n",
       "    </tr>\n",
       "    <tr>\n",
       "      <th id=\"T_167f6_level0_row108\" class=\"row_heading level0 row108\" >108</th>\n",
       "      <td id=\"T_167f6_row108_col0\" class=\"data row108 col0\" >15</td>\n",
       "      <td id=\"T_167f6_row108_col1\" class=\"data row108 col1\" >Thursday</td>\n",
       "      <td id=\"T_167f6_row108_col2\" class=\"data row108 col2\" >-29.871400</td>\n",
       "      <td id=\"T_167f6_row108_col3\" class=\"data row108 col3\" >19.976100</td>\n",
       "      <td id=\"T_167f6_row108_col4\" class=\"data row108 col4\" >14.447400</td>\n",
       "      <td id=\"T_167f6_row108_col5\" class=\"data row108 col5\" >38.900000</td>\n",
       "      <td id=\"T_167f6_row108_col6\" class=\"data row108 col6\" >24.480000</td>\n",
       "      <td id=\"T_167f6_row108_col7\" class=\"data row108 col7\" >14.610000</td>\n",
       "      <td id=\"T_167f6_row108_col8\" class=\"data row108 col8\" >78.000000</td>\n",
       "    </tr>\n",
       "    <tr>\n",
       "      <th id=\"T_167f6_level0_row109\" class=\"row_heading level0 row109\" >109</th>\n",
       "      <td id=\"T_167f6_row109_col0\" class=\"data row109 col0\" >15</td>\n",
       "      <td id=\"T_167f6_row109_col1\" class=\"data row109 col1\" >Friday</td>\n",
       "      <td id=\"T_167f6_row109_col2\" class=\"data row109 col2\" >-1.919100</td>\n",
       "      <td id=\"T_167f6_row109_col3\" class=\"data row109 col3\" >45.392700</td>\n",
       "      <td id=\"T_167f6_row109_col4\" class=\"data row109 col4\" >-33.383600</td>\n",
       "      <td id=\"T_167f6_row109_col5\" class=\"data row109 col5\" >38.900000</td>\n",
       "      <td id=\"T_167f6_row109_col6\" class=\"data row109 col6\" >24.480000</td>\n",
       "      <td id=\"T_167f6_row109_col7\" class=\"data row109 col7\" >14.610000</td>\n",
       "      <td id=\"T_167f6_row109_col8\" class=\"data row109 col8\" >78.000000</td>\n",
       "    </tr>\n",
       "    <tr>\n",
       "      <th id=\"T_167f6_level0_row110\" class=\"row_heading level0 row110\" >110</th>\n",
       "      <td id=\"T_167f6_row110_col0\" class=\"data row110 col0\" >15</td>\n",
       "      <td id=\"T_167f6_row110_col1\" class=\"data row110 col1\" >Saturday</td>\n",
       "      <td id=\"T_167f6_row110_col2\" class=\"data row110 col2\" >54.702100</td>\n",
       "      <td id=\"T_167f6_row110_col3\" class=\"data row110 col3\" >35.481800</td>\n",
       "      <td id=\"T_167f6_row110_col4\" class=\"data row110 col4\" >15.044000</td>\n",
       "      <td id=\"T_167f6_row110_col5\" class=\"data row110 col5\" >38.900000</td>\n",
       "      <td id=\"T_167f6_row110_col6\" class=\"data row110 col6\" >24.480000</td>\n",
       "      <td id=\"T_167f6_row110_col7\" class=\"data row110 col7\" >14.610000</td>\n",
       "      <td id=\"T_167f6_row110_col8\" class=\"data row110 col8\" >78.000000</td>\n",
       "    </tr>\n",
       "    <tr>\n",
       "      <th id=\"T_167f6_level0_row111\" class=\"row_heading level0 row111\" >111</th>\n",
       "      <td id=\"T_167f6_row111_col0\" class=\"data row111 col0\" >15</td>\n",
       "      <td id=\"T_167f6_row111_col1\" class=\"data row111 col1\" >Sunday</td>\n",
       "      <td id=\"T_167f6_row111_col2\" class=\"data row111 col2\" >66.183800</td>\n",
       "      <td id=\"T_167f6_row111_col3\" class=\"data row111 col3\" >-41.561700</td>\n",
       "      <td id=\"T_167f6_row111_col4\" class=\"data row111 col4\" >4.715300</td>\n",
       "      <td id=\"T_167f6_row111_col5\" class=\"data row111 col5\" >38.900000</td>\n",
       "      <td id=\"T_167f6_row111_col6\" class=\"data row111 col6\" >24.480000</td>\n",
       "      <td id=\"T_167f6_row111_col7\" class=\"data row111 col7\" >14.610000</td>\n",
       "      <td id=\"T_167f6_row111_col8\" class=\"data row111 col8\" >78.000000</td>\n",
       "    </tr>\n",
       "    <tr>\n",
       "      <th id=\"T_167f6_level0_row112\" class=\"row_heading level0 row112\" >112</th>\n",
       "      <td id=\"T_167f6_row112_col0\" class=\"data row112 col0\" >16</td>\n",
       "      <td id=\"T_167f6_row112_col1\" class=\"data row112 col1\" >Monday</td>\n",
       "      <td id=\"T_167f6_row112_col2\" class=\"data row112 col2\" >-18.909300</td>\n",
       "      <td id=\"T_167f6_row112_col3\" class=\"data row112 col3\" >-44.439000</td>\n",
       "      <td id=\"T_167f6_row112_col4\" class=\"data row112 col4\" >-40.470200</td>\n",
       "      <td id=\"T_167f6_row112_col5\" class=\"data row112 col5\" >34.580000</td>\n",
       "      <td id=\"T_167f6_row112_col6\" class=\"data row112 col6\" >28.140000</td>\n",
       "      <td id=\"T_167f6_row112_col7\" class=\"data row112 col7\" >14.260000</td>\n",
       "      <td id=\"T_167f6_row112_col8\" class=\"data row112 col8\" >76.980000</td>\n",
       "    </tr>\n",
       "    <tr>\n",
       "      <th id=\"T_167f6_level0_row113\" class=\"row_heading level0 row113\" >113</th>\n",
       "      <td id=\"T_167f6_row113_col0\" class=\"data row113 col0\" >16</td>\n",
       "      <td id=\"T_167f6_row113_col1\" class=\"data row113 col1\" >Tuesday</td>\n",
       "      <td id=\"T_167f6_row113_col2\" class=\"data row113 col2\" >-37.080000</td>\n",
       "      <td id=\"T_167f6_row113_col3\" class=\"data row113 col3\" >-22.480200</td>\n",
       "      <td id=\"T_167f6_row113_col4\" class=\"data row113 col4\" >9.981000</td>\n",
       "      <td id=\"T_167f6_row113_col5\" class=\"data row113 col5\" >34.580000</td>\n",
       "      <td id=\"T_167f6_row113_col6\" class=\"data row113 col6\" >28.140000</td>\n",
       "      <td id=\"T_167f6_row113_col7\" class=\"data row113 col7\" >14.260000</td>\n",
       "      <td id=\"T_167f6_row113_col8\" class=\"data row113 col8\" >76.980000</td>\n",
       "    </tr>\n",
       "    <tr>\n",
       "      <th id=\"T_167f6_level0_row114\" class=\"row_heading level0 row114\" >114</th>\n",
       "      <td id=\"T_167f6_row114_col0\" class=\"data row114 col0\" >16</td>\n",
       "      <td id=\"T_167f6_row114_col1\" class=\"data row114 col1\" >Wednesday</td>\n",
       "      <td id=\"T_167f6_row114_col2\" class=\"data row114 col2\" >-35.521900</td>\n",
       "      <td id=\"T_167f6_row114_col3\" class=\"data row114 col3\" >3.970400</td>\n",
       "      <td id=\"T_167f6_row114_col4\" class=\"data row114 col4\" >26.712100</td>\n",
       "      <td id=\"T_167f6_row114_col5\" class=\"data row114 col5\" >34.580000</td>\n",
       "      <td id=\"T_167f6_row114_col6\" class=\"data row114 col6\" >28.140000</td>\n",
       "      <td id=\"T_167f6_row114_col7\" class=\"data row114 col7\" >14.260000</td>\n",
       "      <td id=\"T_167f6_row114_col8\" class=\"data row114 col8\" >76.980000</td>\n",
       "    </tr>\n",
       "    <tr>\n",
       "      <th id=\"T_167f6_level0_row115\" class=\"row_heading level0 row115\" >115</th>\n",
       "      <td id=\"T_167f6_row115_col0\" class=\"data row115 col0\" >16</td>\n",
       "      <td id=\"T_167f6_row115_col1\" class=\"data row115 col1\" >Thursday</td>\n",
       "      <td id=\"T_167f6_row115_col2\" class=\"data row115 col2\" >-25.353500</td>\n",
       "      <td id=\"T_167f6_row115_col3\" class=\"data row115 col3\" >30.377700</td>\n",
       "      <td id=\"T_167f6_row115_col4\" class=\"data row115 col4\" >16.575700</td>\n",
       "      <td id=\"T_167f6_row115_col5\" class=\"data row115 col5\" >34.580000</td>\n",
       "      <td id=\"T_167f6_row115_col6\" class=\"data row115 col6\" >28.140000</td>\n",
       "      <td id=\"T_167f6_row115_col7\" class=\"data row115 col7\" >14.260000</td>\n",
       "      <td id=\"T_167f6_row115_col8\" class=\"data row115 col8\" >76.980000</td>\n",
       "    </tr>\n",
       "    <tr>\n",
       "      <th id=\"T_167f6_level0_row116\" class=\"row_heading level0 row116\" >116</th>\n",
       "      <td id=\"T_167f6_row116_col0\" class=\"data row116 col0\" >16</td>\n",
       "      <td id=\"T_167f6_row116_col1\" class=\"data row116 col1\" >Friday</td>\n",
       "      <td id=\"T_167f6_row116_col2\" class=\"data row116 col2\" >5.041200</td>\n",
       "      <td id=\"T_167f6_row116_col3\" class=\"data row116 col3\" >49.836600</td>\n",
       "      <td id=\"T_167f6_row116_col4\" class=\"data row116 col4\" >-33.041200</td>\n",
       "      <td id=\"T_167f6_row116_col5\" class=\"data row116 col5\" >34.580000</td>\n",
       "      <td id=\"T_167f6_row116_col6\" class=\"data row116 col6\" >28.140000</td>\n",
       "      <td id=\"T_167f6_row116_col7\" class=\"data row116 col7\" >14.260000</td>\n",
       "      <td id=\"T_167f6_row116_col8\" class=\"data row116 col8\" >76.980000</td>\n",
       "    </tr>\n",
       "    <tr>\n",
       "      <th id=\"T_167f6_level0_row117\" class=\"row_heading level0 row117\" >117</th>\n",
       "      <td id=\"T_167f6_row117_col0\" class=\"data row117 col0\" >16</td>\n",
       "      <td id=\"T_167f6_row117_col1\" class=\"data row117 col1\" >Saturday</td>\n",
       "      <td id=\"T_167f6_row117_col2\" class=\"data row117 col2\" >55.147600</td>\n",
       "      <td id=\"T_167f6_row117_col3\" class=\"data row117 col3\" >23.131400</td>\n",
       "      <td id=\"T_167f6_row117_col4\" class=\"data row117 col4\" >4.419000</td>\n",
       "      <td id=\"T_167f6_row117_col5\" class=\"data row117 col5\" >34.580000</td>\n",
       "      <td id=\"T_167f6_row117_col6\" class=\"data row117 col6\" >28.140000</td>\n",
       "      <td id=\"T_167f6_row117_col7\" class=\"data row117 col7\" >14.260000</td>\n",
       "      <td id=\"T_167f6_row117_col8\" class=\"data row117 col8\" >76.980000</td>\n",
       "    </tr>\n",
       "    <tr>\n",
       "      <th id=\"T_167f6_level0_row118\" class=\"row_heading level0 row118\" >118</th>\n",
       "      <td id=\"T_167f6_row118_col0\" class=\"data row118 col0\" >16</td>\n",
       "      <td id=\"T_167f6_row118_col1\" class=\"data row118 col1\" >Sunday</td>\n",
       "      <td id=\"T_167f6_row118_col2\" class=\"data row118 col2\" >56.675900</td>\n",
       "      <td id=\"T_167f6_row118_col3\" class=\"data row118 col3\" >-40.396900</td>\n",
       "      <td id=\"T_167f6_row118_col4\" class=\"data row118 col4\" >15.823600</td>\n",
       "      <td id=\"T_167f6_row118_col5\" class=\"data row118 col5\" >34.580000</td>\n",
       "      <td id=\"T_167f6_row118_col6\" class=\"data row118 col6\" >28.140000</td>\n",
       "      <td id=\"T_167f6_row118_col7\" class=\"data row118 col7\" >14.260000</td>\n",
       "      <td id=\"T_167f6_row118_col8\" class=\"data row118 col8\" >76.980000</td>\n",
       "    </tr>\n",
       "    <tr>\n",
       "      <th id=\"T_167f6_level0_row119\" class=\"row_heading level0 row119\" >119</th>\n",
       "      <td id=\"T_167f6_row119_col0\" class=\"data row119 col0\" >17</td>\n",
       "      <td id=\"T_167f6_row119_col1\" class=\"data row119 col1\" >Monday</td>\n",
       "      <td id=\"T_167f6_row119_col2\" class=\"data row119 col2\" >-14.253900</td>\n",
       "      <td id=\"T_167f6_row119_col3\" class=\"data row119 col3\" >-41.636800</td>\n",
       "      <td id=\"T_167f6_row119_col4\" class=\"data row119 col4\" >-15.291600</td>\n",
       "      <td id=\"T_167f6_row119_col5\" class=\"data row119 col5\" >33.070000</td>\n",
       "      <td id=\"T_167f6_row119_col6\" class=\"data row119 col6\" >25.520000</td>\n",
       "      <td id=\"T_167f6_row119_col7\" class=\"data row119 col7\" >14.470000</td>\n",
       "      <td id=\"T_167f6_row119_col8\" class=\"data row119 col8\" >73.060000</td>\n",
       "    </tr>\n",
       "    <tr>\n",
       "      <th id=\"T_167f6_level0_row120\" class=\"row_heading level0 row120\" >120</th>\n",
       "      <td id=\"T_167f6_row120_col0\" class=\"data row120 col0\" >17</td>\n",
       "      <td id=\"T_167f6_row120_col1\" class=\"data row120 col1\" >Tuesday</td>\n",
       "      <td id=\"T_167f6_row120_col2\" class=\"data row120 col2\" >-34.792000</td>\n",
       "      <td id=\"T_167f6_row120_col3\" class=\"data row120 col3\" >-22.668600</td>\n",
       "      <td id=\"T_167f6_row120_col4\" class=\"data row120 col4\" >24.261500</td>\n",
       "      <td id=\"T_167f6_row120_col5\" class=\"data row120 col5\" >33.070000</td>\n",
       "      <td id=\"T_167f6_row120_col6\" class=\"data row120 col6\" >25.520000</td>\n",
       "      <td id=\"T_167f6_row120_col7\" class=\"data row120 col7\" >14.470000</td>\n",
       "      <td id=\"T_167f6_row120_col8\" class=\"data row120 col8\" >73.060000</td>\n",
       "    </tr>\n",
       "    <tr>\n",
       "      <th id=\"T_167f6_level0_row121\" class=\"row_heading level0 row121\" >121</th>\n",
       "      <td id=\"T_167f6_row121_col0\" class=\"data row121 col0\" >17</td>\n",
       "      <td id=\"T_167f6_row121_col1\" class=\"data row121 col1\" >Wednesday</td>\n",
       "      <td id=\"T_167f6_row121_col2\" class=\"data row121 col2\" >-30.784600</td>\n",
       "      <td id=\"T_167f6_row121_col3\" class=\"data row121 col3\" >-0.899100</td>\n",
       "      <td id=\"T_167f6_row121_col4\" class=\"data row121 col4\" >13.962500</td>\n",
       "      <td id=\"T_167f6_row121_col5\" class=\"data row121 col5\" >33.070000</td>\n",
       "      <td id=\"T_167f6_row121_col6\" class=\"data row121 col6\" >25.520000</td>\n",
       "      <td id=\"T_167f6_row121_col7\" class=\"data row121 col7\" >14.470000</td>\n",
       "      <td id=\"T_167f6_row121_col8\" class=\"data row121 col8\" >73.060000</td>\n",
       "    </tr>\n",
       "    <tr>\n",
       "      <th id=\"T_167f6_level0_row122\" class=\"row_heading level0 row122\" >122</th>\n",
       "      <td id=\"T_167f6_row122_col0\" class=\"data row122 col0\" >17</td>\n",
       "      <td id=\"T_167f6_row122_col1\" class=\"data row122 col1\" >Thursday</td>\n",
       "      <td id=\"T_167f6_row122_col2\" class=\"data row122 col2\" >-28.591900</td>\n",
       "      <td id=\"T_167f6_row122_col3\" class=\"data row122 col3\" >23.178900</td>\n",
       "      <td id=\"T_167f6_row122_col4\" class=\"data row122 col4\" >-3.921900</td>\n",
       "      <td id=\"T_167f6_row122_col5\" class=\"data row122 col5\" >33.070000</td>\n",
       "      <td id=\"T_167f6_row122_col6\" class=\"data row122 col6\" >25.520000</td>\n",
       "      <td id=\"T_167f6_row122_col7\" class=\"data row122 col7\" >14.470000</td>\n",
       "      <td id=\"T_167f6_row122_col8\" class=\"data row122 col8\" >73.060000</td>\n",
       "    </tr>\n",
       "    <tr>\n",
       "      <th id=\"T_167f6_level0_row123\" class=\"row_heading level0 row123\" >123</th>\n",
       "      <td id=\"T_167f6_row123_col0\" class=\"data row123 col0\" >17</td>\n",
       "      <td id=\"T_167f6_row123_col1\" class=\"data row123 col1\" >Friday</td>\n",
       "      <td id=\"T_167f6_row123_col2\" class=\"data row123 col2\" >-2.928900</td>\n",
       "      <td id=\"T_167f6_row123_col3\" class=\"data row123 col3\" >44.308900</td>\n",
       "      <td id=\"T_167f6_row123_col4\" class=\"data row123 col4\" >-40.089400</td>\n",
       "      <td id=\"T_167f6_row123_col5\" class=\"data row123 col5\" >33.070000</td>\n",
       "      <td id=\"T_167f6_row123_col6\" class=\"data row123 col6\" >25.520000</td>\n",
       "      <td id=\"T_167f6_row123_col7\" class=\"data row123 col7\" >14.470000</td>\n",
       "      <td id=\"T_167f6_row123_col8\" class=\"data row123 col8\" >73.060000</td>\n",
       "    </tr>\n",
       "    <tr>\n",
       "      <th id=\"T_167f6_level0_row124\" class=\"row_heading level0 row124\" >124</th>\n",
       "      <td id=\"T_167f6_row124_col0\" class=\"data row124 col0\" >17</td>\n",
       "      <td id=\"T_167f6_row124_col1\" class=\"data row124 col1\" >Saturday</td>\n",
       "      <td id=\"T_167f6_row124_col2\" class=\"data row124 col2\" >48.832500</td>\n",
       "      <td id=\"T_167f6_row124_col3\" class=\"data row124 col3\" >34.676100</td>\n",
       "      <td id=\"T_167f6_row124_col4\" class=\"data row124 col4\" >35.905700</td>\n",
       "      <td id=\"T_167f6_row124_col5\" class=\"data row124 col5\" >33.070000</td>\n",
       "      <td id=\"T_167f6_row124_col6\" class=\"data row124 col6\" >25.520000</td>\n",
       "      <td id=\"T_167f6_row124_col7\" class=\"data row124 col7\" >14.470000</td>\n",
       "      <td id=\"T_167f6_row124_col8\" class=\"data row124 col8\" >73.060000</td>\n",
       "    </tr>\n",
       "    <tr>\n",
       "      <th id=\"T_167f6_level0_row125\" class=\"row_heading level0 row125\" >125</th>\n",
       "      <td id=\"T_167f6_row125_col0\" class=\"data row125 col0\" >17</td>\n",
       "      <td id=\"T_167f6_row125_col1\" class=\"data row125 col1\" >Sunday</td>\n",
       "      <td id=\"T_167f6_row125_col2\" class=\"data row125 col2\" >62.518800</td>\n",
       "      <td id=\"T_167f6_row125_col3\" class=\"data row125 col3\" >-36.959500</td>\n",
       "      <td id=\"T_167f6_row125_col4\" class=\"data row125 col4\" >-14.826800</td>\n",
       "      <td id=\"T_167f6_row125_col5\" class=\"data row125 col5\" >33.070000</td>\n",
       "      <td id=\"T_167f6_row125_col6\" class=\"data row125 col6\" >25.520000</td>\n",
       "      <td id=\"T_167f6_row125_col7\" class=\"data row125 col7\" >14.470000</td>\n",
       "      <td id=\"T_167f6_row125_col8\" class=\"data row125 col8\" >73.060000</td>\n",
       "    </tr>\n",
       "    <tr>\n",
       "      <th id=\"T_167f6_level0_row126\" class=\"row_heading level0 row126\" >126</th>\n",
       "      <td id=\"T_167f6_row126_col0\" class=\"data row126 col0\" >18</td>\n",
       "      <td id=\"T_167f6_row126_col1\" class=\"data row126 col1\" >Monday</td>\n",
       "      <td id=\"T_167f6_row126_col2\" class=\"data row126 col2\" >-13.644300</td>\n",
       "      <td id=\"T_167f6_row126_col3\" class=\"data row126 col3\" >-33.663200</td>\n",
       "      <td id=\"T_167f6_row126_col4\" class=\"data row126 col4\" >-1.822700</td>\n",
       "      <td id=\"T_167f6_row126_col5\" class=\"data row126 col5\" >28.090000</td>\n",
       "      <td id=\"T_167f6_row126_col6\" class=\"data row126 col6\" >22.660000</td>\n",
       "      <td id=\"T_167f6_row126_col7\" class=\"data row126 col7\" >16.980000</td>\n",
       "      <td id=\"T_167f6_row126_col8\" class=\"data row126 col8\" >67.720000</td>\n",
       "    </tr>\n",
       "    <tr>\n",
       "      <th id=\"T_167f6_level0_row127\" class=\"row_heading level0 row127\" >127</th>\n",
       "      <td id=\"T_167f6_row127_col0\" class=\"data row127 col0\" >18</td>\n",
       "      <td id=\"T_167f6_row127_col1\" class=\"data row127 col1\" >Tuesday</td>\n",
       "      <td id=\"T_167f6_row127_col2\" class=\"data row127 col2\" >-27.185200</td>\n",
       "      <td id=\"T_167f6_row127_col3\" class=\"data row127 col3\" >-18.861600</td>\n",
       "      <td id=\"T_167f6_row127_col4\" class=\"data row127 col4\" >25.309500</td>\n",
       "      <td id=\"T_167f6_row127_col5\" class=\"data row127 col5\" >28.090000</td>\n",
       "      <td id=\"T_167f6_row127_col6\" class=\"data row127 col6\" >22.660000</td>\n",
       "      <td id=\"T_167f6_row127_col7\" class=\"data row127 col7\" >16.980000</td>\n",
       "      <td id=\"T_167f6_row127_col8\" class=\"data row127 col8\" >67.720000</td>\n",
       "    </tr>\n",
       "    <tr>\n",
       "      <th id=\"T_167f6_level0_row128\" class=\"row_heading level0 row128\" >128</th>\n",
       "      <td id=\"T_167f6_row128_col0\" class=\"data row128 col0\" >18</td>\n",
       "      <td id=\"T_167f6_row128_col1\" class=\"data row128 col1\" >Wednesday</td>\n",
       "      <td id=\"T_167f6_row128_col2\" class=\"data row128 col2\" >-24.197600</td>\n",
       "      <td id=\"T_167f6_row128_col3\" class=\"data row128 col3\" >-3.858300</td>\n",
       "      <td id=\"T_167f6_row128_col4\" class=\"data row128 col4\" >16.812800</td>\n",
       "      <td id=\"T_167f6_row128_col5\" class=\"data row128 col5\" >28.090000</td>\n",
       "      <td id=\"T_167f6_row128_col6\" class=\"data row128 col6\" >22.660000</td>\n",
       "      <td id=\"T_167f6_row128_col7\" class=\"data row128 col7\" >16.980000</td>\n",
       "      <td id=\"T_167f6_row128_col8\" class=\"data row128 col8\" >67.720000</td>\n",
       "    </tr>\n",
       "    <tr>\n",
       "      <th id=\"T_167f6_level0_row129\" class=\"row_heading level0 row129\" >129</th>\n",
       "      <td id=\"T_167f6_row129_col0\" class=\"data row129 col0\" >18</td>\n",
       "      <td id=\"T_167f6_row129_col1\" class=\"data row129 col1\" >Thursday</td>\n",
       "      <td id=\"T_167f6_row129_col2\" class=\"data row129 col2\" >-29.695100</td>\n",
       "      <td id=\"T_167f6_row129_col3\" class=\"data row129 col3\" >21.926300</td>\n",
       "      <td id=\"T_167f6_row129_col4\" class=\"data row129 col4\" >-1.339900</td>\n",
       "      <td id=\"T_167f6_row129_col5\" class=\"data row129 col5\" >28.090000</td>\n",
       "      <td id=\"T_167f6_row129_col6\" class=\"data row129 col6\" >22.660000</td>\n",
       "      <td id=\"T_167f6_row129_col7\" class=\"data row129 col7\" >16.980000</td>\n",
       "      <td id=\"T_167f6_row129_col8\" class=\"data row129 col8\" >67.720000</td>\n",
       "    </tr>\n",
       "    <tr>\n",
       "      <th id=\"T_167f6_level0_row130\" class=\"row_heading level0 row130\" >130</th>\n",
       "      <td id=\"T_167f6_row130_col0\" class=\"data row130 col0\" >18</td>\n",
       "      <td id=\"T_167f6_row130_col1\" class=\"data row130 col1\" >Friday</td>\n",
       "      <td id=\"T_167f6_row130_col2\" class=\"data row130 col2\" >-10.607200</td>\n",
       "      <td id=\"T_167f6_row130_col3\" class=\"data row130 col3\" >36.206100</td>\n",
       "      <td id=\"T_167f6_row130_col4\" class=\"data row130 col4\" >-48.021100</td>\n",
       "      <td id=\"T_167f6_row130_col5\" class=\"data row130 col5\" >28.090000</td>\n",
       "      <td id=\"T_167f6_row130_col6\" class=\"data row130 col6\" >22.660000</td>\n",
       "      <td id=\"T_167f6_row130_col7\" class=\"data row130 col7\" >16.980000</td>\n",
       "      <td id=\"T_167f6_row130_col8\" class=\"data row130 col8\" >67.720000</td>\n",
       "    </tr>\n",
       "    <tr>\n",
       "      <th id=\"T_167f6_level0_row131\" class=\"row_heading level0 row131\" >131</th>\n",
       "      <td id=\"T_167f6_row131_col0\" class=\"data row131 col0\" >18</td>\n",
       "      <td id=\"T_167f6_row131_col1\" class=\"data row131 col1\" >Saturday</td>\n",
       "      <td id=\"T_167f6_row131_col2\" class=\"data row131 col2\" >53.437900</td>\n",
       "      <td id=\"T_167f6_row131_col3\" class=\"data row131 col3\" >39.119000</td>\n",
       "      <td id=\"T_167f6_row131_col4\" class=\"data row131 col4\" >32.745800</td>\n",
       "      <td id=\"T_167f6_row131_col5\" class=\"data row131 col5\" >28.090000</td>\n",
       "      <td id=\"T_167f6_row131_col6\" class=\"data row131 col6\" >22.660000</td>\n",
       "      <td id=\"T_167f6_row131_col7\" class=\"data row131 col7\" >16.980000</td>\n",
       "      <td id=\"T_167f6_row131_col8\" class=\"data row131 col8\" >67.720000</td>\n",
       "    </tr>\n",
       "    <tr>\n",
       "      <th id=\"T_167f6_level0_row132\" class=\"row_heading level0 row132\" >132</th>\n",
       "      <td id=\"T_167f6_row132_col0\" class=\"data row132 col0\" >18</td>\n",
       "      <td id=\"T_167f6_row132_col1\" class=\"data row132 col1\" >Sunday</td>\n",
       "      <td id=\"T_167f6_row132_col2\" class=\"data row132 col2\" >51.891500</td>\n",
       "      <td id=\"T_167f6_row132_col3\" class=\"data row132 col3\" >-40.868300</td>\n",
       "      <td id=\"T_167f6_row132_col4\" class=\"data row132 col4\" >-23.684400</td>\n",
       "      <td id=\"T_167f6_row132_col5\" class=\"data row132 col5\" >28.090000</td>\n",
       "      <td id=\"T_167f6_row132_col6\" class=\"data row132 col6\" >22.660000</td>\n",
       "      <td id=\"T_167f6_row132_col7\" class=\"data row132 col7\" >16.980000</td>\n",
       "      <td id=\"T_167f6_row132_col8\" class=\"data row132 col8\" >67.720000</td>\n",
       "    </tr>\n",
       "    <tr>\n",
       "      <th id=\"T_167f6_level0_row133\" class=\"row_heading level0 row133\" >133</th>\n",
       "      <td id=\"T_167f6_row133_col0\" class=\"data row133 col0\" >19</td>\n",
       "      <td id=\"T_167f6_row133_col1\" class=\"data row133 col1\" >Monday</td>\n",
       "      <td id=\"T_167f6_row133_col2\" class=\"data row133 col2\" >-7.462100</td>\n",
       "      <td id=\"T_167f6_row133_col3\" class=\"data row133 col3\" >-34.962700</td>\n",
       "      <td id=\"T_167f6_row133_col4\" class=\"data row133 col4\" >-8.237800</td>\n",
       "      <td id=\"T_167f6_row133_col5\" class=\"data row133 col5\" >26.890000</td>\n",
       "      <td id=\"T_167f6_row133_col6\" class=\"data row133 col6\" >22.800000</td>\n",
       "      <td id=\"T_167f6_row133_col7\" class=\"data row133 col7\" >17.520000</td>\n",
       "      <td id=\"T_167f6_row133_col8\" class=\"data row133 col8\" >67.210000</td>\n",
       "    </tr>\n",
       "    <tr>\n",
       "      <th id=\"T_167f6_level0_row134\" class=\"row_heading level0 row134\" >134</th>\n",
       "      <td id=\"T_167f6_row134_col0\" class=\"data row134 col0\" >19</td>\n",
       "      <td id=\"T_167f6_row134_col1\" class=\"data row134 col1\" >Tuesday</td>\n",
       "      <td id=\"T_167f6_row134_col2\" class=\"data row134 col2\" >-24.081700</td>\n",
       "      <td id=\"T_167f6_row134_col3\" class=\"data row134 col3\" >-20.667300</td>\n",
       "      <td id=\"T_167f6_row134_col4\" class=\"data row134 col4\" >22.949500</td>\n",
       "      <td id=\"T_167f6_row134_col5\" class=\"data row134 col5\" >26.890000</td>\n",
       "      <td id=\"T_167f6_row134_col6\" class=\"data row134 col6\" >22.800000</td>\n",
       "      <td id=\"T_167f6_row134_col7\" class=\"data row134 col7\" >17.520000</td>\n",
       "      <td id=\"T_167f6_row134_col8\" class=\"data row134 col8\" >67.210000</td>\n",
       "    </tr>\n",
       "    <tr>\n",
       "      <th id=\"T_167f6_level0_row135\" class=\"row_heading level0 row135\" >135</th>\n",
       "      <td id=\"T_167f6_row135_col0\" class=\"data row135 col0\" >19</td>\n",
       "      <td id=\"T_167f6_row135_col1\" class=\"data row135 col1\" >Wednesday</td>\n",
       "      <td id=\"T_167f6_row135_col2\" class=\"data row135 col2\" >-25.671700</td>\n",
       "      <td id=\"T_167f6_row135_col3\" class=\"data row135 col3\" >-5.986900</td>\n",
       "      <td id=\"T_167f6_row135_col4\" class=\"data row135 col4\" >19.140900</td>\n",
       "      <td id=\"T_167f6_row135_col5\" class=\"data row135 col5\" >26.890000</td>\n",
       "      <td id=\"T_167f6_row135_col6\" class=\"data row135 col6\" >22.800000</td>\n",
       "      <td id=\"T_167f6_row135_col7\" class=\"data row135 col7\" >17.520000</td>\n",
       "      <td id=\"T_167f6_row135_col8\" class=\"data row135 col8\" >67.210000</td>\n",
       "    </tr>\n",
       "    <tr>\n",
       "      <th id=\"T_167f6_level0_row136\" class=\"row_heading level0 row136\" >136</th>\n",
       "      <td id=\"T_167f6_row136_col0\" class=\"data row136 col0\" >19</td>\n",
       "      <td id=\"T_167f6_row136_col1\" class=\"data row136 col1\" >Thursday</td>\n",
       "      <td id=\"T_167f6_row136_col2\" class=\"data row136 col2\" >-29.181900</td>\n",
       "      <td id=\"T_167f6_row136_col3\" class=\"data row136 col3\" >14.188300</td>\n",
       "      <td id=\"T_167f6_row136_col4\" class=\"data row136 col4\" >5.742600</td>\n",
       "      <td id=\"T_167f6_row136_col5\" class=\"data row136 col5\" >26.890000</td>\n",
       "      <td id=\"T_167f6_row136_col6\" class=\"data row136 col6\" >22.800000</td>\n",
       "      <td id=\"T_167f6_row136_col7\" class=\"data row136 col7\" >17.520000</td>\n",
       "      <td id=\"T_167f6_row136_col8\" class=\"data row136 col8\" >67.210000</td>\n",
       "    </tr>\n",
       "    <tr>\n",
       "      <th id=\"T_167f6_level0_row137\" class=\"row_heading level0 row137\" >137</th>\n",
       "      <td id=\"T_167f6_row137_col0\" class=\"data row137 col0\" >19</td>\n",
       "      <td id=\"T_167f6_row137_col1\" class=\"data row137 col1\" >Friday</td>\n",
       "      <td id=\"T_167f6_row137_col2\" class=\"data row137 col2\" >-15.902400</td>\n",
       "      <td id=\"T_167f6_row137_col3\" class=\"data row137 col3\" >36.090600</td>\n",
       "      <td id=\"T_167f6_row137_col4\" class=\"data row137 col4\" >-51.997700</td>\n",
       "      <td id=\"T_167f6_row137_col5\" class=\"data row137 col5\" >26.890000</td>\n",
       "      <td id=\"T_167f6_row137_col6\" class=\"data row137 col6\" >22.800000</td>\n",
       "      <td id=\"T_167f6_row137_col7\" class=\"data row137 col7\" >17.520000</td>\n",
       "      <td id=\"T_167f6_row137_col8\" class=\"data row137 col8\" >67.210000</td>\n",
       "    </tr>\n",
       "    <tr>\n",
       "      <th id=\"T_167f6_level0_row138\" class=\"row_heading level0 row138\" >138</th>\n",
       "      <td id=\"T_167f6_row138_col0\" class=\"data row138 col0\" >19</td>\n",
       "      <td id=\"T_167f6_row138_col1\" class=\"data row138 col1\" >Saturday</td>\n",
       "      <td id=\"T_167f6_row138_col2\" class=\"data row138 col2\" >44.927100</td>\n",
       "      <td id=\"T_167f6_row138_col3\" class=\"data row138 col3\" >46.186300</td>\n",
       "      <td id=\"T_167f6_row138_col4\" class=\"data row138 col4\" >31.199600</td>\n",
       "      <td id=\"T_167f6_row138_col5\" class=\"data row138 col5\" >26.890000</td>\n",
       "      <td id=\"T_167f6_row138_col6\" class=\"data row138 col6\" >22.800000</td>\n",
       "      <td id=\"T_167f6_row138_col7\" class=\"data row138 col7\" >17.520000</td>\n",
       "      <td id=\"T_167f6_row138_col8\" class=\"data row138 col8\" >67.210000</td>\n",
       "    </tr>\n",
       "    <tr>\n",
       "      <th id=\"T_167f6_level0_row139\" class=\"row_heading level0 row139\" >139</th>\n",
       "      <td id=\"T_167f6_row139_col0\" class=\"data row139 col0\" >19</td>\n",
       "      <td id=\"T_167f6_row139_col1\" class=\"data row139 col1\" >Sunday</td>\n",
       "      <td id=\"T_167f6_row139_col2\" class=\"data row139 col2\" >57.372800</td>\n",
       "      <td id=\"T_167f6_row139_col3\" class=\"data row139 col3\" >-34.848300</td>\n",
       "      <td id=\"T_167f6_row139_col4\" class=\"data row139 col4\" >-18.797100</td>\n",
       "      <td id=\"T_167f6_row139_col5\" class=\"data row139 col5\" >26.890000</td>\n",
       "      <td id=\"T_167f6_row139_col6\" class=\"data row139 col6\" >22.800000</td>\n",
       "      <td id=\"T_167f6_row139_col7\" class=\"data row139 col7\" >17.520000</td>\n",
       "      <td id=\"T_167f6_row139_col8\" class=\"data row139 col8\" >67.210000</td>\n",
       "    </tr>\n",
       "    <tr>\n",
       "      <th id=\"T_167f6_level0_row140\" class=\"row_heading level0 row140\" >140</th>\n",
       "      <td id=\"T_167f6_row140_col0\" class=\"data row140 col0\" >20</td>\n",
       "      <td id=\"T_167f6_row140_col1\" class=\"data row140 col1\" >Monday</td>\n",
       "      <td id=\"T_167f6_row140_col2\" class=\"data row140 col2\" >-11.727600</td>\n",
       "      <td id=\"T_167f6_row140_col3\" class=\"data row140 col3\" >-33.453900</td>\n",
       "      <td id=\"T_167f6_row140_col4\" class=\"data row140 col4\" >-9.981800</td>\n",
       "      <td id=\"T_167f6_row140_col5\" class=\"data row140 col5\" >26.890000</td>\n",
       "      <td id=\"T_167f6_row140_col6\" class=\"data row140 col6\" >22.580000</td>\n",
       "      <td id=\"T_167f6_row140_col7\" class=\"data row140 col7\" >17.390000</td>\n",
       "      <td id=\"T_167f6_row140_col8\" class=\"data row140 col8\" >66.860000</td>\n",
       "    </tr>\n",
       "    <tr>\n",
       "      <th id=\"T_167f6_level0_row141\" class=\"row_heading level0 row141\" >141</th>\n",
       "      <td id=\"T_167f6_row141_col0\" class=\"data row141 col0\" >20</td>\n",
       "      <td id=\"T_167f6_row141_col1\" class=\"data row141 col1\" >Tuesday</td>\n",
       "      <td id=\"T_167f6_row141_col2\" class=\"data row141 col2\" >-23.518000</td>\n",
       "      <td id=\"T_167f6_row141_col3\" class=\"data row141 col3\" >-21.014200</td>\n",
       "      <td id=\"T_167f6_row141_col4\" class=\"data row141 col4\" >24.686700</td>\n",
       "      <td id=\"T_167f6_row141_col5\" class=\"data row141 col5\" >26.890000</td>\n",
       "      <td id=\"T_167f6_row141_col6\" class=\"data row141 col6\" >22.580000</td>\n",
       "      <td id=\"T_167f6_row141_col7\" class=\"data row141 col7\" >17.390000</td>\n",
       "      <td id=\"T_167f6_row141_col8\" class=\"data row141 col8\" >66.860000</td>\n",
       "    </tr>\n",
       "    <tr>\n",
       "      <th id=\"T_167f6_level0_row142\" class=\"row_heading level0 row142\" >142</th>\n",
       "      <td id=\"T_167f6_row142_col0\" class=\"data row142 col0\" >20</td>\n",
       "      <td id=\"T_167f6_row142_col1\" class=\"data row142 col1\" >Wednesday</td>\n",
       "      <td id=\"T_167f6_row142_col2\" class=\"data row142 col2\" >-24.376900</td>\n",
       "      <td id=\"T_167f6_row142_col3\" class=\"data row142 col3\" >-5.120700</td>\n",
       "      <td id=\"T_167f6_row142_col4\" class=\"data row142 col4\" >18.575900</td>\n",
       "      <td id=\"T_167f6_row142_col5\" class=\"data row142 col5\" >26.890000</td>\n",
       "      <td id=\"T_167f6_row142_col6\" class=\"data row142 col6\" >22.580000</td>\n",
       "      <td id=\"T_167f6_row142_col7\" class=\"data row142 col7\" >17.390000</td>\n",
       "      <td id=\"T_167f6_row142_col8\" class=\"data row142 col8\" >66.860000</td>\n",
       "    </tr>\n",
       "    <tr>\n",
       "      <th id=\"T_167f6_level0_row143\" class=\"row_heading level0 row143\" >143</th>\n",
       "      <td id=\"T_167f6_row143_col0\" class=\"data row143 col0\" >20</td>\n",
       "      <td id=\"T_167f6_row143_col1\" class=\"data row143 col1\" >Thursday</td>\n",
       "      <td id=\"T_167f6_row143_col2\" class=\"data row143 col2\" >-28.555500</td>\n",
       "      <td id=\"T_167f6_row143_col3\" class=\"data row143 col3\" >15.151700</td>\n",
       "      <td id=\"T_167f6_row143_col4\" class=\"data row143 col4\" >6.248800</td>\n",
       "      <td id=\"T_167f6_row143_col5\" class=\"data row143 col5\" >26.890000</td>\n",
       "      <td id=\"T_167f6_row143_col6\" class=\"data row143 col6\" >22.580000</td>\n",
       "      <td id=\"T_167f6_row143_col7\" class=\"data row143 col7\" >17.390000</td>\n",
       "      <td id=\"T_167f6_row143_col8\" class=\"data row143 col8\" >66.860000</td>\n",
       "    </tr>\n",
       "    <tr>\n",
       "      <th id=\"T_167f6_level0_row144\" class=\"row_heading level0 row144\" >144</th>\n",
       "      <td id=\"T_167f6_row144_col0\" class=\"data row144 col0\" >20</td>\n",
       "      <td id=\"T_167f6_row144_col1\" class=\"data row144 col1\" >Friday</td>\n",
       "      <td id=\"T_167f6_row144_col2\" class=\"data row144 col2\" >-15.132600</td>\n",
       "      <td id=\"T_167f6_row144_col3\" class=\"data row144 col3\" >37.473400</td>\n",
       "      <td id=\"T_167f6_row144_col4\" class=\"data row144 col4\" >-50.474100</td>\n",
       "      <td id=\"T_167f6_row144_col5\" class=\"data row144 col5\" >26.890000</td>\n",
       "      <td id=\"T_167f6_row144_col6\" class=\"data row144 col6\" >22.580000</td>\n",
       "      <td id=\"T_167f6_row144_col7\" class=\"data row144 col7\" >17.390000</td>\n",
       "      <td id=\"T_167f6_row144_col8\" class=\"data row144 col8\" >66.860000</td>\n",
       "    </tr>\n",
       "    <tr>\n",
       "      <th id=\"T_167f6_level0_row145\" class=\"row_heading level0 row145\" >145</th>\n",
       "      <td id=\"T_167f6_row145_col0\" class=\"data row145 col0\" >20</td>\n",
       "      <td id=\"T_167f6_row145_col1\" class=\"data row145 col1\" >Saturday</td>\n",
       "      <td id=\"T_167f6_row145_col2\" class=\"data row145 col2\" >47.035200</td>\n",
       "      <td id=\"T_167f6_row145_col3\" class=\"data row145 col3\" >43.670400</td>\n",
       "      <td id=\"T_167f6_row145_col4\" class=\"data row145 col4\" >30.835300</td>\n",
       "      <td id=\"T_167f6_row145_col5\" class=\"data row145 col5\" >26.890000</td>\n",
       "      <td id=\"T_167f6_row145_col6\" class=\"data row145 col6\" >22.580000</td>\n",
       "      <td id=\"T_167f6_row145_col7\" class=\"data row145 col7\" >17.390000</td>\n",
       "      <td id=\"T_167f6_row145_col8\" class=\"data row145 col8\" >66.860000</td>\n",
       "    </tr>\n",
       "    <tr>\n",
       "      <th id=\"T_167f6_level0_row146\" class=\"row_heading level0 row146\" >146</th>\n",
       "      <td id=\"T_167f6_row146_col0\" class=\"data row146 col0\" >20</td>\n",
       "      <td id=\"T_167f6_row146_col1\" class=\"data row146 col1\" >Sunday</td>\n",
       "      <td id=\"T_167f6_row146_col2\" class=\"data row146 col2\" >56.275400</td>\n",
       "      <td id=\"T_167f6_row146_col3\" class=\"data row146 col3\" >-36.706700</td>\n",
       "      <td id=\"T_167f6_row146_col4\" class=\"data row146 col4\" >-19.890900</td>\n",
       "      <td id=\"T_167f6_row146_col5\" class=\"data row146 col5\" >26.890000</td>\n",
       "      <td id=\"T_167f6_row146_col6\" class=\"data row146 col6\" >22.580000</td>\n",
       "      <td id=\"T_167f6_row146_col7\" class=\"data row146 col7\" >17.390000</td>\n",
       "      <td id=\"T_167f6_row146_col8\" class=\"data row146 col8\" >66.860000</td>\n",
       "    </tr>\n",
       "    <tr>\n",
       "      <th id=\"T_167f6_level0_row147\" class=\"row_heading level0 row147\" >147</th>\n",
       "      <td id=\"T_167f6_row147_col0\" class=\"data row147 col0\" >21</td>\n",
       "      <td id=\"T_167f6_row147_col1\" class=\"data row147 col1\" >Monday</td>\n",
       "      <td id=\"T_167f6_row147_col2\" class=\"data row147 col2\" >-12.143400</td>\n",
       "      <td id=\"T_167f6_row147_col3\" class=\"data row147 col3\" >-33.669400</td>\n",
       "      <td id=\"T_167f6_row147_col4\" class=\"data row147 col4\" >-12.035200</td>\n",
       "      <td id=\"T_167f6_row147_col5\" class=\"data row147 col5\" >27.120000</td>\n",
       "      <td id=\"T_167f6_row147_col6\" class=\"data row147 col6\" >21.840000</td>\n",
       "      <td id=\"T_167f6_row147_col7\" class=\"data row147 col7\" >18.000000</td>\n",
       "      <td id=\"T_167f6_row147_col8\" class=\"data row147 col8\" >66.960000</td>\n",
       "    </tr>\n",
       "    <tr>\n",
       "      <th id=\"T_167f6_level0_row148\" class=\"row_heading level0 row148\" >148</th>\n",
       "      <td id=\"T_167f6_row148_col0\" class=\"data row148 col0\" >21</td>\n",
       "      <td id=\"T_167f6_row148_col1\" class=\"data row148 col1\" >Tuesday</td>\n",
       "      <td id=\"T_167f6_row148_col2\" class=\"data row148 col2\" >-23.421500</td>\n",
       "      <td id=\"T_167f6_row148_col3\" class=\"data row148 col3\" >-19.628400</td>\n",
       "      <td id=\"T_167f6_row148_col4\" class=\"data row148 col4\" >24.795900</td>\n",
       "      <td id=\"T_167f6_row148_col5\" class=\"data row148 col5\" >27.120000</td>\n",
       "      <td id=\"T_167f6_row148_col6\" class=\"data row148 col6\" >21.840000</td>\n",
       "      <td id=\"T_167f6_row148_col7\" class=\"data row148 col7\" >18.000000</td>\n",
       "      <td id=\"T_167f6_row148_col8\" class=\"data row148 col8\" >66.960000</td>\n",
       "    </tr>\n",
       "    <tr>\n",
       "      <th id=\"T_167f6_level0_row149\" class=\"row_heading level0 row149\" >149</th>\n",
       "      <td id=\"T_167f6_row149_col0\" class=\"data row149 col0\" >21</td>\n",
       "      <td id=\"T_167f6_row149_col1\" class=\"data row149 col1\" >Wednesday</td>\n",
       "      <td id=\"T_167f6_row149_col2\" class=\"data row149 col2\" >-24.172600</td>\n",
       "      <td id=\"T_167f6_row149_col3\" class=\"data row149 col3\" >-3.588100</td>\n",
       "      <td id=\"T_167f6_row149_col4\" class=\"data row149 col4\" >19.846400</td>\n",
       "      <td id=\"T_167f6_row149_col5\" class=\"data row149 col5\" >27.120000</td>\n",
       "      <td id=\"T_167f6_row149_col6\" class=\"data row149 col6\" >21.840000</td>\n",
       "      <td id=\"T_167f6_row149_col7\" class=\"data row149 col7\" >18.000000</td>\n",
       "      <td id=\"T_167f6_row149_col8\" class=\"data row149 col8\" >66.960000</td>\n",
       "    </tr>\n",
       "    <tr>\n",
       "      <th id=\"T_167f6_level0_row150\" class=\"row_heading level0 row150\" >150</th>\n",
       "      <td id=\"T_167f6_row150_col0\" class=\"data row150 col0\" >21</td>\n",
       "      <td id=\"T_167f6_row150_col1\" class=\"data row150 col1\" >Thursday</td>\n",
       "      <td id=\"T_167f6_row150_col2\" class=\"data row150 col2\" >-28.917300</td>\n",
       "      <td id=\"T_167f6_row150_col3\" class=\"data row150 col3\" >13.904300</td>\n",
       "      <td id=\"T_167f6_row150_col4\" class=\"data row150 col4\" >8.680000</td>\n",
       "      <td id=\"T_167f6_row150_col5\" class=\"data row150 col5\" >27.120000</td>\n",
       "      <td id=\"T_167f6_row150_col6\" class=\"data row150 col6\" >21.840000</td>\n",
       "      <td id=\"T_167f6_row150_col7\" class=\"data row150 col7\" >18.000000</td>\n",
       "      <td id=\"T_167f6_row150_col8\" class=\"data row150 col8\" >66.960000</td>\n",
       "    </tr>\n",
       "    <tr>\n",
       "      <th id=\"T_167f6_level0_row151\" class=\"row_heading level0 row151\" >151</th>\n",
       "      <td id=\"T_167f6_row151_col0\" class=\"data row151 col0\" >21</td>\n",
       "      <td id=\"T_167f6_row151_col1\" class=\"data row151 col1\" >Friday</td>\n",
       "      <td id=\"T_167f6_row151_col2\" class=\"data row151 col2\" >-15.320300</td>\n",
       "      <td id=\"T_167f6_row151_col3\" class=\"data row151 col3\" >37.691000</td>\n",
       "      <td id=\"T_167f6_row151_col4\" class=\"data row151 col4\" >-51.542700</td>\n",
       "      <td id=\"T_167f6_row151_col5\" class=\"data row151 col5\" >27.120000</td>\n",
       "      <td id=\"T_167f6_row151_col6\" class=\"data row151 col6\" >21.840000</td>\n",
       "      <td id=\"T_167f6_row151_col7\" class=\"data row151 col7\" >18.000000</td>\n",
       "      <td id=\"T_167f6_row151_col8\" class=\"data row151 col8\" >66.960000</td>\n",
       "    </tr>\n",
       "    <tr>\n",
       "      <th id=\"T_167f6_level0_row152\" class=\"row_heading level0 row152\" >152</th>\n",
       "      <td id=\"T_167f6_row152_col0\" class=\"data row152 col0\" >21</td>\n",
       "      <td id=\"T_167f6_row152_col1\" class=\"data row152 col1\" >Saturday</td>\n",
       "      <td id=\"T_167f6_row152_col2\" class=\"data row152 col2\" >48.803100</td>\n",
       "      <td id=\"T_167f6_row152_col3\" class=\"data row152 col3\" >42.032900</td>\n",
       "      <td id=\"T_167f6_row152_col4\" class=\"data row152 col4\" >29.851000</td>\n",
       "      <td id=\"T_167f6_row152_col5\" class=\"data row152 col5\" >27.120000</td>\n",
       "      <td id=\"T_167f6_row152_col6\" class=\"data row152 col6\" >21.840000</td>\n",
       "      <td id=\"T_167f6_row152_col7\" class=\"data row152 col7\" >18.000000</td>\n",
       "      <td id=\"T_167f6_row152_col8\" class=\"data row152 col8\" >66.960000</td>\n",
       "    </tr>\n",
       "    <tr>\n",
       "      <th id=\"T_167f6_level0_row153\" class=\"row_heading level0 row153\" >153</th>\n",
       "      <td id=\"T_167f6_row153_col0\" class=\"data row153 col0\" >21</td>\n",
       "      <td id=\"T_167f6_row153_col1\" class=\"data row153 col1\" >Sunday</td>\n",
       "      <td id=\"T_167f6_row153_col2\" class=\"data row153 col2\" >55.171900</td>\n",
       "      <td id=\"T_167f6_row153_col3\" class=\"data row153 col3\" >-36.742400</td>\n",
       "      <td id=\"T_167f6_row153_col4\" class=\"data row153 col4\" >-19.595500</td>\n",
       "      <td id=\"T_167f6_row153_col5\" class=\"data row153 col5\" >27.120000</td>\n",
       "      <td id=\"T_167f6_row153_col6\" class=\"data row153 col6\" >21.840000</td>\n",
       "      <td id=\"T_167f6_row153_col7\" class=\"data row153 col7\" >18.000000</td>\n",
       "      <td id=\"T_167f6_row153_col8\" class=\"data row153 col8\" >66.960000</td>\n",
       "    </tr>\n",
       "    <tr>\n",
       "      <th id=\"T_167f6_level0_row154\" class=\"row_heading level0 row154\" >154</th>\n",
       "      <td id=\"T_167f6_row154_col0\" class=\"data row154 col0\" >22</td>\n",
       "      <td id=\"T_167f6_row154_col1\" class=\"data row154 col1\" >Monday</td>\n",
       "      <td id=\"T_167f6_row154_col2\" class=\"data row154 col2\" >-4.807800</td>\n",
       "      <td id=\"T_167f6_row154_col3\" class=\"data row154 col3\" >-38.751700</td>\n",
       "      <td id=\"T_167f6_row154_col4\" class=\"data row154 col4\" >-11.028600</td>\n",
       "      <td id=\"T_167f6_row154_col5\" class=\"data row154 col5\" >26.580000</td>\n",
       "      <td id=\"T_167f6_row154_col6\" class=\"data row154 col6\" >22.060000</td>\n",
       "      <td id=\"T_167f6_row154_col7\" class=\"data row154 col7\" >18.320000</td>\n",
       "      <td id=\"T_167f6_row154_col8\" class=\"data row154 col8\" >66.960000</td>\n",
       "    </tr>\n",
       "    <tr>\n",
       "      <th id=\"T_167f6_level0_row155\" class=\"row_heading level0 row155\" >155</th>\n",
       "      <td id=\"T_167f6_row155_col0\" class=\"data row155 col0\" >22</td>\n",
       "      <td id=\"T_167f6_row155_col1\" class=\"data row155 col1\" >Tuesday</td>\n",
       "      <td id=\"T_167f6_row155_col2\" class=\"data row155 col2\" >-19.771200</td>\n",
       "      <td id=\"T_167f6_row155_col3\" class=\"data row155 col3\" >-23.082700</td>\n",
       "      <td id=\"T_167f6_row155_col4\" class=\"data row155 col4\" >24.291500</td>\n",
       "      <td id=\"T_167f6_row155_col5\" class=\"data row155 col5\" >26.580000</td>\n",
       "      <td id=\"T_167f6_row155_col6\" class=\"data row155 col6\" >22.060000</td>\n",
       "      <td id=\"T_167f6_row155_col7\" class=\"data row155 col7\" >18.320000</td>\n",
       "      <td id=\"T_167f6_row155_col8\" class=\"data row155 col8\" >66.960000</td>\n",
       "    </tr>\n",
       "    <tr>\n",
       "      <th id=\"T_167f6_level0_row156\" class=\"row_heading level0 row156\" >156</th>\n",
       "      <td id=\"T_167f6_row156_col0\" class=\"data row156 col0\" >22</td>\n",
       "      <td id=\"T_167f6_row156_col1\" class=\"data row156 col1\" >Wednesday</td>\n",
       "      <td id=\"T_167f6_row156_col2\" class=\"data row156 col2\" >-22.514700</td>\n",
       "      <td id=\"T_167f6_row156_col3\" class=\"data row156 col3\" >-5.916700</td>\n",
       "      <td id=\"T_167f6_row156_col4\" class=\"data row156 col4\" >18.651800</td>\n",
       "      <td id=\"T_167f6_row156_col5\" class=\"data row156 col5\" >26.580000</td>\n",
       "      <td id=\"T_167f6_row156_col6\" class=\"data row156 col6\" >22.060000</td>\n",
       "      <td id=\"T_167f6_row156_col7\" class=\"data row156 col7\" >18.320000</td>\n",
       "      <td id=\"T_167f6_row156_col8\" class=\"data row156 col8\" >66.960000</td>\n",
       "    </tr>\n",
       "    <tr>\n",
       "      <th id=\"T_167f6_level0_row157\" class=\"row_heading level0 row157\" >157</th>\n",
       "      <td id=\"T_167f6_row157_col0\" class=\"data row157 col0\" >22</td>\n",
       "      <td id=\"T_167f6_row157_col1\" class=\"data row157 col1\" >Thursday</td>\n",
       "      <td id=\"T_167f6_row157_col2\" class=\"data row157 col2\" >-30.413500</td>\n",
       "      <td id=\"T_167f6_row157_col3\" class=\"data row157 col3\" >10.310900</td>\n",
       "      <td id=\"T_167f6_row157_col4\" class=\"data row157 col4\" >10.192400</td>\n",
       "      <td id=\"T_167f6_row157_col5\" class=\"data row157 col5\" >26.580000</td>\n",
       "      <td id=\"T_167f6_row157_col6\" class=\"data row157 col6\" >22.060000</td>\n",
       "      <td id=\"T_167f6_row157_col7\" class=\"data row157 col7\" >18.320000</td>\n",
       "      <td id=\"T_167f6_row157_col8\" class=\"data row157 col8\" >66.960000</td>\n",
       "    </tr>\n",
       "    <tr>\n",
       "      <th id=\"T_167f6_level0_row158\" class=\"row_heading level0 row158\" >158</th>\n",
       "      <td id=\"T_167f6_row158_col0\" class=\"data row158 col0\" >22</td>\n",
       "      <td id=\"T_167f6_row158_col1\" class=\"data row158 col1\" >Friday</td>\n",
       "      <td id=\"T_167f6_row158_col2\" class=\"data row158 col2\" >-23.363800</td>\n",
       "      <td id=\"T_167f6_row158_col3\" class=\"data row158 col3\" >37.393600</td>\n",
       "      <td id=\"T_167f6_row158_col4\" class=\"data row158 col4\" >-50.660800</td>\n",
       "      <td id=\"T_167f6_row158_col5\" class=\"data row158 col5\" >26.580000</td>\n",
       "      <td id=\"T_167f6_row158_col6\" class=\"data row158 col6\" >22.060000</td>\n",
       "      <td id=\"T_167f6_row158_col7\" class=\"data row158 col7\" >18.320000</td>\n",
       "      <td id=\"T_167f6_row158_col8\" class=\"data row158 col8\" >66.960000</td>\n",
       "    </tr>\n",
       "    <tr>\n",
       "      <th id=\"T_167f6_level0_row159\" class=\"row_heading level0 row159\" >159</th>\n",
       "      <td id=\"T_167f6_row159_col0\" class=\"data row159 col0\" >22</td>\n",
       "      <td id=\"T_167f6_row159_col1\" class=\"data row159 col1\" >Saturday</td>\n",
       "      <td id=\"T_167f6_row159_col2\" class=\"data row159 col2\" >42.038700</td>\n",
       "      <td id=\"T_167f6_row159_col3\" class=\"data row159 col3\" >45.733700</td>\n",
       "      <td id=\"T_167f6_row159_col4\" class=\"data row159 col4\" >31.541300</td>\n",
       "      <td id=\"T_167f6_row159_col5\" class=\"data row159 col5\" >26.580000</td>\n",
       "      <td id=\"T_167f6_row159_col6\" class=\"data row159 col6\" >22.060000</td>\n",
       "      <td id=\"T_167f6_row159_col7\" class=\"data row159 col7\" >18.320000</td>\n",
       "      <td id=\"T_167f6_row159_col8\" class=\"data row159 col8\" >66.960000</td>\n",
       "    </tr>\n",
       "    <tr>\n",
       "      <th id=\"T_167f6_level0_row160\" class=\"row_heading level0 row160\" >160</th>\n",
       "      <td id=\"T_167f6_row160_col0\" class=\"data row160 col0\" >22</td>\n",
       "      <td id=\"T_167f6_row160_col1\" class=\"data row160 col1\" >Sunday</td>\n",
       "      <td id=\"T_167f6_row160_col2\" class=\"data row160 col2\" >58.832300</td>\n",
       "      <td id=\"T_167f6_row160_col3\" class=\"data row160 col3\" >-25.687200</td>\n",
       "      <td id=\"T_167f6_row160_col4\" class=\"data row160 col4\" >-22.987500</td>\n",
       "      <td id=\"T_167f6_row160_col5\" class=\"data row160 col5\" >26.580000</td>\n",
       "      <td id=\"T_167f6_row160_col6\" class=\"data row160 col6\" >22.060000</td>\n",
       "      <td id=\"T_167f6_row160_col7\" class=\"data row160 col7\" >18.320000</td>\n",
       "      <td id=\"T_167f6_row160_col8\" class=\"data row160 col8\" >66.960000</td>\n",
       "    </tr>\n",
       "    <tr>\n",
       "      <th id=\"T_167f6_level0_row161\" class=\"row_heading level0 row161\" >161</th>\n",
       "      <td id=\"T_167f6_row161_col0\" class=\"data row161 col0\" >23</td>\n",
       "      <td id=\"T_167f6_row161_col1\" class=\"data row161 col1\" >Monday</td>\n",
       "      <td id=\"T_167f6_row161_col2\" class=\"data row161 col2\" >-7.995100</td>\n",
       "      <td id=\"T_167f6_row161_col3\" class=\"data row161 col3\" >-38.277200</td>\n",
       "      <td id=\"T_167f6_row161_col4\" class=\"data row161 col4\" >-12.748200</td>\n",
       "      <td id=\"T_167f6_row161_col5\" class=\"data row161 col5\" >26.550000</td>\n",
       "      <td id=\"T_167f6_row161_col6\" class=\"data row161 col6\" >21.980000</td>\n",
       "      <td id=\"T_167f6_row161_col7\" class=\"data row161 col7\" >18.440000</td>\n",
       "      <td id=\"T_167f6_row161_col8\" class=\"data row161 col8\" >66.970000</td>\n",
       "    </tr>\n",
       "    <tr>\n",
       "      <th id=\"T_167f6_level0_row162\" class=\"row_heading level0 row162\" >162</th>\n",
       "      <td id=\"T_167f6_row162_col0\" class=\"data row162 col0\" >23</td>\n",
       "      <td id=\"T_167f6_row162_col1\" class=\"data row162 col1\" >Tuesday</td>\n",
       "      <td id=\"T_167f6_row162_col2\" class=\"data row162 col2\" >-19.506700</td>\n",
       "      <td id=\"T_167f6_row162_col3\" class=\"data row162 col3\" >-24.750100</td>\n",
       "      <td id=\"T_167f6_row162_col4\" class=\"data row162 col4\" >23.278100</td>\n",
       "      <td id=\"T_167f6_row162_col5\" class=\"data row162 col5\" >26.550000</td>\n",
       "      <td id=\"T_167f6_row162_col6\" class=\"data row162 col6\" >21.980000</td>\n",
       "      <td id=\"T_167f6_row162_col7\" class=\"data row162 col7\" >18.440000</td>\n",
       "      <td id=\"T_167f6_row162_col8\" class=\"data row162 col8\" >66.970000</td>\n",
       "    </tr>\n",
       "    <tr>\n",
       "      <th id=\"T_167f6_level0_row163\" class=\"row_heading level0 row163\" >163</th>\n",
       "      <td id=\"T_167f6_row163_col0\" class=\"data row163 col0\" >23</td>\n",
       "      <td id=\"T_167f6_row163_col1\" class=\"data row163 col1\" >Wednesday</td>\n",
       "      <td id=\"T_167f6_row163_col2\" class=\"data row163 col2\" >-20.044700</td>\n",
       "      <td id=\"T_167f6_row163_col3\" class=\"data row163 col3\" >-6.424100</td>\n",
       "      <td id=\"T_167f6_row163_col4\" class=\"data row163 col4\" >18.059000</td>\n",
       "      <td id=\"T_167f6_row163_col5\" class=\"data row163 col5\" >26.550000</td>\n",
       "      <td id=\"T_167f6_row163_col6\" class=\"data row163 col6\" >21.980000</td>\n",
       "      <td id=\"T_167f6_row163_col7\" class=\"data row163 col7\" >18.440000</td>\n",
       "      <td id=\"T_167f6_row163_col8\" class=\"data row163 col8\" >66.970000</td>\n",
       "    </tr>\n",
       "    <tr>\n",
       "      <th id=\"T_167f6_level0_row164\" class=\"row_heading level0 row164\" >164</th>\n",
       "      <td id=\"T_167f6_row164_col0\" class=\"data row164 col0\" >23</td>\n",
       "      <td id=\"T_167f6_row164_col1\" class=\"data row164 col1\" >Thursday</td>\n",
       "      <td id=\"T_167f6_row164_col2\" class=\"data row164 col2\" >-28.652200</td>\n",
       "      <td id=\"T_167f6_row164_col3\" class=\"data row164 col3\" >10.446800</td>\n",
       "      <td id=\"T_167f6_row164_col4\" class=\"data row164 col4\" >13.503100</td>\n",
       "      <td id=\"T_167f6_row164_col5\" class=\"data row164 col5\" >26.550000</td>\n",
       "      <td id=\"T_167f6_row164_col6\" class=\"data row164 col6\" >21.980000</td>\n",
       "      <td id=\"T_167f6_row164_col7\" class=\"data row164 col7\" >18.440000</td>\n",
       "      <td id=\"T_167f6_row164_col8\" class=\"data row164 col8\" >66.970000</td>\n",
       "    </tr>\n",
       "    <tr>\n",
       "      <th id=\"T_167f6_level0_row165\" class=\"row_heading level0 row165\" >165</th>\n",
       "      <td id=\"T_167f6_row165_col0\" class=\"data row165 col0\" >23</td>\n",
       "      <td id=\"T_167f6_row165_col1\" class=\"data row165 col1\" >Friday</td>\n",
       "      <td id=\"T_167f6_row165_col2\" class=\"data row165 col2\" >-25.860300</td>\n",
       "      <td id=\"T_167f6_row165_col3\" class=\"data row165 col3\" >42.193600</td>\n",
       "      <td id=\"T_167f6_row165_col4\" class=\"data row165 col4\" >-46.911700</td>\n",
       "      <td id=\"T_167f6_row165_col5\" class=\"data row165 col5\" >26.550000</td>\n",
       "      <td id=\"T_167f6_row165_col6\" class=\"data row165 col6\" >21.980000</td>\n",
       "      <td id=\"T_167f6_row165_col7\" class=\"data row165 col7\" >18.440000</td>\n",
       "      <td id=\"T_167f6_row165_col8\" class=\"data row165 col8\" >66.970000</td>\n",
       "    </tr>\n",
       "    <tr>\n",
       "      <th id=\"T_167f6_level0_row166\" class=\"row_heading level0 row166\" >166</th>\n",
       "      <td id=\"T_167f6_row166_col0\" class=\"data row166 col0\" >23</td>\n",
       "      <td id=\"T_167f6_row166_col1\" class=\"data row166 col1\" >Saturday</td>\n",
       "      <td id=\"T_167f6_row166_col2\" class=\"data row166 col2\" >45.161900</td>\n",
       "      <td id=\"T_167f6_row166_col3\" class=\"data row166 col3\" >41.211600</td>\n",
       "      <td id=\"T_167f6_row166_col4\" class=\"data row166 col4\" >32.922200</td>\n",
       "      <td id=\"T_167f6_row166_col5\" class=\"data row166 col5\" >26.550000</td>\n",
       "      <td id=\"T_167f6_row166_col6\" class=\"data row166 col6\" >21.980000</td>\n",
       "      <td id=\"T_167f6_row166_col7\" class=\"data row166 col7\" >18.440000</td>\n",
       "      <td id=\"T_167f6_row166_col8\" class=\"data row166 col8\" >66.970000</td>\n",
       "    </tr>\n",
       "    <tr>\n",
       "      <th id=\"T_167f6_level0_row167\" class=\"row_heading level0 row167\" >167</th>\n",
       "      <td id=\"T_167f6_row167_col0\" class=\"data row167 col0\" >23</td>\n",
       "      <td id=\"T_167f6_row167_col1\" class=\"data row167 col1\" >Sunday</td>\n",
       "      <td id=\"T_167f6_row167_col2\" class=\"data row167 col2\" >56.897000</td>\n",
       "      <td id=\"T_167f6_row167_col3\" class=\"data row167 col3\" >-24.400600</td>\n",
       "      <td id=\"T_167f6_row167_col4\" class=\"data row167 col4\" >-28.102400</td>\n",
       "      <td id=\"T_167f6_row167_col5\" class=\"data row167 col5\" >26.550000</td>\n",
       "      <td id=\"T_167f6_row167_col6\" class=\"data row167 col6\" >21.980000</td>\n",
       "      <td id=\"T_167f6_row167_col7\" class=\"data row167 col7\" >18.440000</td>\n",
       "      <td id=\"T_167f6_row167_col8\" class=\"data row167 col8\" >66.970000</td>\n",
       "    </tr>\n",
       "    <tr>\n",
       "      <th id=\"T_167f6_level0_row168\" class=\"row_heading level0 row168\" >168</th>\n",
       "      <td id=\"T_167f6_row168_col0\" class=\"data row168 col0\" >24</td>\n",
       "      <td id=\"T_167f6_row168_col1\" class=\"data row168 col1\" >Monday</td>\n",
       "      <td id=\"T_167f6_row168_col2\" class=\"data row168 col2\" >-3.181700</td>\n",
       "      <td id=\"T_167f6_row168_col3\" class=\"data row168 col3\" >-36.543000</td>\n",
       "      <td id=\"T_167f6_row168_col4\" class=\"data row168 col4\" >-14.660200</td>\n",
       "      <td id=\"T_167f6_row168_col5\" class=\"data row168 col5\" >26.720000</td>\n",
       "      <td id=\"T_167f6_row168_col6\" class=\"data row168 col6\" >21.600000</td>\n",
       "      <td id=\"T_167f6_row168_col7\" class=\"data row168 col7\" >18.680000</td>\n",
       "      <td id=\"T_167f6_row168_col8\" class=\"data row168 col8\" >67.000000</td>\n",
       "    </tr>\n",
       "    <tr>\n",
       "      <th id=\"T_167f6_level0_row169\" class=\"row_heading level0 row169\" >169</th>\n",
       "      <td id=\"T_167f6_row169_col0\" class=\"data row169 col0\" >24</td>\n",
       "      <td id=\"T_167f6_row169_col1\" class=\"data row169 col1\" >Tuesday</td>\n",
       "      <td id=\"T_167f6_row169_col2\" class=\"data row169 col2\" >-16.429400</td>\n",
       "      <td id=\"T_167f6_row169_col3\" class=\"data row169 col3\" >-27.467700</td>\n",
       "      <td id=\"T_167f6_row169_col4\" class=\"data row169 col4\" >19.833500</td>\n",
       "      <td id=\"T_167f6_row169_col5\" class=\"data row169 col5\" >26.720000</td>\n",
       "      <td id=\"T_167f6_row169_col6\" class=\"data row169 col6\" >21.600000</td>\n",
       "      <td id=\"T_167f6_row169_col7\" class=\"data row169 col7\" >18.680000</td>\n",
       "      <td id=\"T_167f6_row169_col8\" class=\"data row169 col8\" >67.000000</td>\n",
       "    </tr>\n",
       "    <tr>\n",
       "      <th id=\"T_167f6_level0_row170\" class=\"row_heading level0 row170\" >170</th>\n",
       "      <td id=\"T_167f6_row170_col0\" class=\"data row170 col0\" >24</td>\n",
       "      <td id=\"T_167f6_row170_col1\" class=\"data row170 col1\" >Wednesday</td>\n",
       "      <td id=\"T_167f6_row170_col2\" class=\"data row170 col2\" >-18.884100</td>\n",
       "      <td id=\"T_167f6_row170_col3\" class=\"data row170 col3\" >-9.978300</td>\n",
       "      <td id=\"T_167f6_row170_col4\" class=\"data row170 col4\" >17.052300</td>\n",
       "      <td id=\"T_167f6_row170_col5\" class=\"data row170 col5\" >26.720000</td>\n",
       "      <td id=\"T_167f6_row170_col6\" class=\"data row170 col6\" >21.600000</td>\n",
       "      <td id=\"T_167f6_row170_col7\" class=\"data row170 col7\" >18.680000</td>\n",
       "      <td id=\"T_167f6_row170_col8\" class=\"data row170 col8\" >67.000000</td>\n",
       "    </tr>\n",
       "    <tr>\n",
       "      <th id=\"T_167f6_level0_row171\" class=\"row_heading level0 row171\" >171</th>\n",
       "      <td id=\"T_167f6_row171_col0\" class=\"data row171 col0\" >24</td>\n",
       "      <td id=\"T_167f6_row171_col1\" class=\"data row171 col1\" >Thursday</td>\n",
       "      <td id=\"T_167f6_row171_col2\" class=\"data row171 col2\" >-30.185900</td>\n",
       "      <td id=\"T_167f6_row171_col3\" class=\"data row171 col3\" >5.882800</td>\n",
       "      <td id=\"T_167f6_row171_col4\" class=\"data row171 col4\" >17.761700</td>\n",
       "      <td id=\"T_167f6_row171_col5\" class=\"data row171 col5\" >26.720000</td>\n",
       "      <td id=\"T_167f6_row171_col6\" class=\"data row171 col6\" >21.600000</td>\n",
       "      <td id=\"T_167f6_row171_col7\" class=\"data row171 col7\" >18.680000</td>\n",
       "      <td id=\"T_167f6_row171_col8\" class=\"data row171 col8\" >67.000000</td>\n",
       "    </tr>\n",
       "    <tr>\n",
       "      <th id=\"T_167f6_level0_row172\" class=\"row_heading level0 row172\" >172</th>\n",
       "      <td id=\"T_167f6_row172_col0\" class=\"data row172 col0\" >24</td>\n",
       "      <td id=\"T_167f6_row172_col1\" class=\"data row172 col1\" >Friday</td>\n",
       "      <td id=\"T_167f6_row172_col2\" class=\"data row172 col2\" >-31.367600</td>\n",
       "      <td id=\"T_167f6_row172_col3\" class=\"data row172 col3\" >43.135600</td>\n",
       "      <td id=\"T_167f6_row172_col4\" class=\"data row172 col4\" >-44.879100</td>\n",
       "      <td id=\"T_167f6_row172_col5\" class=\"data row172 col5\" >26.720000</td>\n",
       "      <td id=\"T_167f6_row172_col6\" class=\"data row172 col6\" >21.600000</td>\n",
       "      <td id=\"T_167f6_row172_col7\" class=\"data row172 col7\" >18.680000</td>\n",
       "      <td id=\"T_167f6_row172_col8\" class=\"data row172 col8\" >67.000000</td>\n",
       "    </tr>\n",
       "    <tr>\n",
       "      <th id=\"T_167f6_level0_row173\" class=\"row_heading level0 row173\" >173</th>\n",
       "      <td id=\"T_167f6_row173_col0\" class=\"data row173 col0\" >24</td>\n",
       "      <td id=\"T_167f6_row173_col1\" class=\"data row173 col1\" >Saturday</td>\n",
       "      <td id=\"T_167f6_row173_col2\" class=\"data row173 col2\" >42.107300</td>\n",
       "      <td id=\"T_167f6_row173_col3\" class=\"data row173 col3\" >42.450600</td>\n",
       "      <td id=\"T_167f6_row173_col4\" class=\"data row173 col4\" >34.975700</td>\n",
       "      <td id=\"T_167f6_row173_col5\" class=\"data row173 col5\" >26.720000</td>\n",
       "      <td id=\"T_167f6_row173_col6\" class=\"data row173 col6\" >21.600000</td>\n",
       "      <td id=\"T_167f6_row173_col7\" class=\"data row173 col7\" >18.680000</td>\n",
       "      <td id=\"T_167f6_row173_col8\" class=\"data row173 col8\" >67.000000</td>\n",
       "    </tr>\n",
       "    <tr>\n",
       "      <th id=\"T_167f6_level0_row174\" class=\"row_heading level0 row174\" >174</th>\n",
       "      <td id=\"T_167f6_row174_col0\" class=\"data row174 col0\" >24</td>\n",
       "      <td id=\"T_167f6_row174_col1\" class=\"data row174 col1\" >Sunday</td>\n",
       "      <td id=\"T_167f6_row174_col2\" class=\"data row174 col2\" >57.941500</td>\n",
       "      <td id=\"T_167f6_row174_col3\" class=\"data row174 col3\" >-17.480000</td>\n",
       "      <td id=\"T_167f6_row174_col4\" class=\"data row174 col4\" >-30.083900</td>\n",
       "      <td id=\"T_167f6_row174_col5\" class=\"data row174 col5\" >26.720000</td>\n",
       "      <td id=\"T_167f6_row174_col6\" class=\"data row174 col6\" >21.600000</td>\n",
       "      <td id=\"T_167f6_row174_col7\" class=\"data row174 col7\" >18.680000</td>\n",
       "      <td id=\"T_167f6_row174_col8\" class=\"data row174 col8\" >67.000000</td>\n",
       "    </tr>\n",
       "    <tr>\n",
       "      <th id=\"T_167f6_level0_row175\" class=\"row_heading level0 row175\" >175</th>\n",
       "      <td id=\"T_167f6_row175_col0\" class=\"data row175 col0\" >25</td>\n",
       "      <td id=\"T_167f6_row175_col1\" class=\"data row175 col1\" >Monday</td>\n",
       "      <td id=\"T_167f6_row175_col2\" class=\"data row175 col2\" >-4.378700</td>\n",
       "      <td id=\"T_167f6_row175_col3\" class=\"data row175 col3\" >-35.343100</td>\n",
       "      <td id=\"T_167f6_row175_col4\" class=\"data row175 col4\" >-16.751900</td>\n",
       "      <td id=\"T_167f6_row175_col5\" class=\"data row175 col5\" >27.230000</td>\n",
       "      <td id=\"T_167f6_row175_col6\" class=\"data row175 col6\" >21.870000</td>\n",
       "      <td id=\"T_167f6_row175_col7\" class=\"data row175 col7\" >18.880000</td>\n",
       "      <td id=\"T_167f6_row175_col8\" class=\"data row175 col8\" >67.980000</td>\n",
       "    </tr>\n",
       "    <tr>\n",
       "      <th id=\"T_167f6_level0_row176\" class=\"row_heading level0 row176\" >176</th>\n",
       "      <td id=\"T_167f6_row176_col0\" class=\"data row176 col0\" >25</td>\n",
       "      <td id=\"T_167f6_row176_col1\" class=\"data row176 col1\" >Tuesday</td>\n",
       "      <td id=\"T_167f6_row176_col2\" class=\"data row176 col2\" >-20.051000</td>\n",
       "      <td id=\"T_167f6_row176_col3\" class=\"data row176 col3\" >-26.071600</td>\n",
       "      <td id=\"T_167f6_row176_col4\" class=\"data row176 col4\" >19.428100</td>\n",
       "      <td id=\"T_167f6_row176_col5\" class=\"data row176 col5\" >27.230000</td>\n",
       "      <td id=\"T_167f6_row176_col6\" class=\"data row176 col6\" >21.870000</td>\n",
       "      <td id=\"T_167f6_row176_col7\" class=\"data row176 col7\" >18.880000</td>\n",
       "      <td id=\"T_167f6_row176_col8\" class=\"data row176 col8\" >67.980000</td>\n",
       "    </tr>\n",
       "    <tr>\n",
       "      <th id=\"T_167f6_level0_row177\" class=\"row_heading level0 row177\" >177</th>\n",
       "      <td id=\"T_167f6_row177_col0\" class=\"data row177 col0\" >25</td>\n",
       "      <td id=\"T_167f6_row177_col1\" class=\"data row177 col1\" >Wednesday</td>\n",
       "      <td id=\"T_167f6_row177_col2\" class=\"data row177 col2\" >-20.128200</td>\n",
       "      <td id=\"T_167f6_row177_col3\" class=\"data row177 col3\" >-10.535900</td>\n",
       "      <td id=\"T_167f6_row177_col4\" class=\"data row177 col4\" >18.428400</td>\n",
       "      <td id=\"T_167f6_row177_col5\" class=\"data row177 col5\" >27.230000</td>\n",
       "      <td id=\"T_167f6_row177_col6\" class=\"data row177 col6\" >21.870000</td>\n",
       "      <td id=\"T_167f6_row177_col7\" class=\"data row177 col7\" >18.880000</td>\n",
       "      <td id=\"T_167f6_row177_col8\" class=\"data row177 col8\" >67.980000</td>\n",
       "    </tr>\n",
       "    <tr>\n",
       "      <th id=\"T_167f6_level0_row178\" class=\"row_heading level0 row178\" >178</th>\n",
       "      <td id=\"T_167f6_row178_col0\" class=\"data row178 col0\" >25</td>\n",
       "      <td id=\"T_167f6_row178_col1\" class=\"data row178 col1\" >Thursday</td>\n",
       "      <td id=\"T_167f6_row178_col2\" class=\"data row178 col2\" >-28.418500</td>\n",
       "      <td id=\"T_167f6_row178_col3\" class=\"data row178 col3\" >6.074900</td>\n",
       "      <td id=\"T_167f6_row178_col4\" class=\"data row178 col4\" >17.678900</td>\n",
       "      <td id=\"T_167f6_row178_col5\" class=\"data row178 col5\" >27.230000</td>\n",
       "      <td id=\"T_167f6_row178_col6\" class=\"data row178 col6\" >21.870000</td>\n",
       "      <td id=\"T_167f6_row178_col7\" class=\"data row178 col7\" >18.880000</td>\n",
       "      <td id=\"T_167f6_row178_col8\" class=\"data row178 col8\" >67.980000</td>\n",
       "    </tr>\n",
       "    <tr>\n",
       "      <th id=\"T_167f6_level0_row179\" class=\"row_heading level0 row179\" >179</th>\n",
       "      <td id=\"T_167f6_row179_col0\" class=\"data row179 col0\" >25</td>\n",
       "      <td id=\"T_167f6_row179_col1\" class=\"data row179 col1\" >Friday</td>\n",
       "      <td id=\"T_167f6_row179_col2\" class=\"data row179 col2\" >-29.554000</td>\n",
       "      <td id=\"T_167f6_row179_col3\" class=\"data row179 col3\" >47.224600</td>\n",
       "      <td id=\"T_167f6_row179_col4\" class=\"data row179 col4\" >-43.151400</td>\n",
       "      <td id=\"T_167f6_row179_col5\" class=\"data row179 col5\" >27.230000</td>\n",
       "      <td id=\"T_167f6_row179_col6\" class=\"data row179 col6\" >21.870000</td>\n",
       "      <td id=\"T_167f6_row179_col7\" class=\"data row179 col7\" >18.880000</td>\n",
       "      <td id=\"T_167f6_row179_col8\" class=\"data row179 col8\" >67.980000</td>\n",
       "    </tr>\n",
       "    <tr>\n",
       "      <th id=\"T_167f6_level0_row180\" class=\"row_heading level0 row180\" >180</th>\n",
       "      <td id=\"T_167f6_row180_col0\" class=\"data row180 col0\" >25</td>\n",
       "      <td id=\"T_167f6_row180_col1\" class=\"data row180 col1\" >Saturday</td>\n",
       "      <td id=\"T_167f6_row180_col2\" class=\"data row180 col2\" >46.628700</td>\n",
       "      <td id=\"T_167f6_row180_col3\" class=\"data row180 col3\" >39.243700</td>\n",
       "      <td id=\"T_167f6_row180_col4\" class=\"data row180 col4\" >35.579900</td>\n",
       "      <td id=\"T_167f6_row180_col5\" class=\"data row180 col5\" >27.230000</td>\n",
       "      <td id=\"T_167f6_row180_col6\" class=\"data row180 col6\" >21.870000</td>\n",
       "      <td id=\"T_167f6_row180_col7\" class=\"data row180 col7\" >18.880000</td>\n",
       "      <td id=\"T_167f6_row180_col8\" class=\"data row180 col8\" >67.980000</td>\n",
       "    </tr>\n",
       "    <tr>\n",
       "      <th id=\"T_167f6_level0_row181\" class=\"row_heading level0 row181\" >181</th>\n",
       "      <td id=\"T_167f6_row181_col0\" class=\"data row181 col0\" >25</td>\n",
       "      <td id=\"T_167f6_row181_col1\" class=\"data row181 col1\" >Sunday</td>\n",
       "      <td id=\"T_167f6_row181_col2\" class=\"data row181 col2\" >55.901700</td>\n",
       "      <td id=\"T_167f6_row181_col3\" class=\"data row181 col3\" >-20.592600</td>\n",
       "      <td id=\"T_167f6_row181_col4\" class=\"data row181 col4\" >-31.212000</td>\n",
       "      <td id=\"T_167f6_row181_col5\" class=\"data row181 col5\" >27.230000</td>\n",
       "      <td id=\"T_167f6_row181_col6\" class=\"data row181 col6\" >21.870000</td>\n",
       "      <td id=\"T_167f6_row181_col7\" class=\"data row181 col7\" >18.880000</td>\n",
       "      <td id=\"T_167f6_row181_col8\" class=\"data row181 col8\" >67.980000</td>\n",
       "    </tr>\n",
       "    <tr>\n",
       "      <th id=\"T_167f6_level0_row182\" class=\"row_heading level0 row182\" >182</th>\n",
       "      <td id=\"T_167f6_row182_col0\" class=\"data row182 col0\" >26</td>\n",
       "      <td id=\"T_167f6_row182_col1\" class=\"data row182 col1\" >Monday</td>\n",
       "      <td id=\"T_167f6_row182_col2\" class=\"data row182 col2\" >-0.605300</td>\n",
       "      <td id=\"T_167f6_row182_col3\" class=\"data row182 col3\" >-36.962300</td>\n",
       "      <td id=\"T_167f6_row182_col4\" class=\"data row182 col4\" >-12.257700</td>\n",
       "      <td id=\"T_167f6_row182_col5\" class=\"data row182 col5\" >25.800000</td>\n",
       "      <td id=\"T_167f6_row182_col6\" class=\"data row182 col6\" >20.580000</td>\n",
       "      <td id=\"T_167f6_row182_col7\" class=\"data row182 col7\" >18.510000</td>\n",
       "      <td id=\"T_167f6_row182_col8\" class=\"data row182 col8\" >64.880000</td>\n",
       "    </tr>\n",
       "    <tr>\n",
       "      <th id=\"T_167f6_level0_row183\" class=\"row_heading level0 row183\" >183</th>\n",
       "      <td id=\"T_167f6_row183_col0\" class=\"data row183 col0\" >26</td>\n",
       "      <td id=\"T_167f6_row183_col1\" class=\"data row183 col1\" >Tuesday</td>\n",
       "      <td id=\"T_167f6_row183_col2\" class=\"data row183 col2\" >-15.319900</td>\n",
       "      <td id=\"T_167f6_row183_col3\" class=\"data row183 col3\" >-28.132900</td>\n",
       "      <td id=\"T_167f6_row183_col4\" class=\"data row183 col4\" >6.079500</td>\n",
       "      <td id=\"T_167f6_row183_col5\" class=\"data row183 col5\" >25.800000</td>\n",
       "      <td id=\"T_167f6_row183_col6\" class=\"data row183 col6\" >20.580000</td>\n",
       "      <td id=\"T_167f6_row183_col7\" class=\"data row183 col7\" >18.510000</td>\n",
       "      <td id=\"T_167f6_row183_col8\" class=\"data row183 col8\" >64.880000</td>\n",
       "    </tr>\n",
       "    <tr>\n",
       "      <th id=\"T_167f6_level0_row184\" class=\"row_heading level0 row184\" >184</th>\n",
       "      <td id=\"T_167f6_row184_col0\" class=\"data row184 col0\" >26</td>\n",
       "      <td id=\"T_167f6_row184_col1\" class=\"data row184 col1\" >Wednesday</td>\n",
       "      <td id=\"T_167f6_row184_col2\" class=\"data row184 col2\" >-18.856400</td>\n",
       "      <td id=\"T_167f6_row184_col3\" class=\"data row184 col3\" >-10.475000</td>\n",
       "      <td id=\"T_167f6_row184_col4\" class=\"data row184 col4\" >9.768600</td>\n",
       "      <td id=\"T_167f6_row184_col5\" class=\"data row184 col5\" >25.800000</td>\n",
       "      <td id=\"T_167f6_row184_col6\" class=\"data row184 col6\" >20.580000</td>\n",
       "      <td id=\"T_167f6_row184_col7\" class=\"data row184 col7\" >18.510000</td>\n",
       "      <td id=\"T_167f6_row184_col8\" class=\"data row184 col8\" >64.880000</td>\n",
       "    </tr>\n",
       "    <tr>\n",
       "      <th id=\"T_167f6_level0_row185\" class=\"row_heading level0 row185\" >185</th>\n",
       "      <td id=\"T_167f6_row185_col0\" class=\"data row185 col0\" >26</td>\n",
       "      <td id=\"T_167f6_row185_col1\" class=\"data row185 col1\" >Thursday</td>\n",
       "      <td id=\"T_167f6_row185_col2\" class=\"data row185 col2\" >-38.265700</td>\n",
       "      <td id=\"T_167f6_row185_col3\" class=\"data row185 col3\" >17.353200</td>\n",
       "      <td id=\"T_167f6_row185_col4\" class=\"data row185 col4\" >38.997000</td>\n",
       "      <td id=\"T_167f6_row185_col5\" class=\"data row185 col5\" >25.800000</td>\n",
       "      <td id=\"T_167f6_row185_col6\" class=\"data row185 col6\" >20.580000</td>\n",
       "      <td id=\"T_167f6_row185_col7\" class=\"data row185 col7\" >18.510000</td>\n",
       "      <td id=\"T_167f6_row185_col8\" class=\"data row185 col8\" >64.880000</td>\n",
       "    </tr>\n",
       "    <tr>\n",
       "      <th id=\"T_167f6_level0_row186\" class=\"row_heading level0 row186\" >186</th>\n",
       "      <td id=\"T_167f6_row186_col0\" class=\"data row186 col0\" >26</td>\n",
       "      <td id=\"T_167f6_row186_col1\" class=\"data row186 col1\" >Friday</td>\n",
       "      <td id=\"T_167f6_row186_col2\" class=\"data row186 col2\" >-23.815200</td>\n",
       "      <td id=\"T_167f6_row186_col3\" class=\"data row186 col3\" >33.342600</td>\n",
       "      <td id=\"T_167f6_row186_col4\" class=\"data row186 col4\" >-55.330400</td>\n",
       "      <td id=\"T_167f6_row186_col5\" class=\"data row186 col5\" >25.800000</td>\n",
       "      <td id=\"T_167f6_row186_col6\" class=\"data row186 col6\" >20.580000</td>\n",
       "      <td id=\"T_167f6_row186_col7\" class=\"data row186 col7\" >18.510000</td>\n",
       "      <td id=\"T_167f6_row186_col8\" class=\"data row186 col8\" >64.880000</td>\n",
       "    </tr>\n",
       "    <tr>\n",
       "      <th id=\"T_167f6_level0_row187\" class=\"row_heading level0 row187\" >187</th>\n",
       "      <td id=\"T_167f6_row187_col0\" class=\"data row187 col0\" >26</td>\n",
       "      <td id=\"T_167f6_row187_col1\" class=\"data row187 col1\" >Saturday</td>\n",
       "      <td id=\"T_167f6_row187_col2\" class=\"data row187 col2\" >42.000400</td>\n",
       "      <td id=\"T_167f6_row187_col3\" class=\"data row187 col3\" >43.343200</td>\n",
       "      <td id=\"T_167f6_row187_col4\" class=\"data row187 col4\" >19.798200</td>\n",
       "      <td id=\"T_167f6_row187_col5\" class=\"data row187 col5\" >25.800000</td>\n",
       "      <td id=\"T_167f6_row187_col6\" class=\"data row187 col6\" >20.580000</td>\n",
       "      <td id=\"T_167f6_row187_col7\" class=\"data row187 col7\" >18.510000</td>\n",
       "      <td id=\"T_167f6_row187_col8\" class=\"data row187 col8\" >64.880000</td>\n",
       "    </tr>\n",
       "    <tr>\n",
       "      <th id=\"T_167f6_level0_row188\" class=\"row_heading level0 row188\" >188</th>\n",
       "      <td id=\"T_167f6_row188_col0\" class=\"data row188 col0\" >26</td>\n",
       "      <td id=\"T_167f6_row188_col1\" class=\"data row188 col1\" >Sunday</td>\n",
       "      <td id=\"T_167f6_row188_col2\" class=\"data row188 col2\" >54.862100</td>\n",
       "      <td id=\"T_167f6_row188_col3\" class=\"data row188 col3\" >-18.468700</td>\n",
       "      <td id=\"T_167f6_row188_col4\" class=\"data row188 col4\" >-7.055300</td>\n",
       "      <td id=\"T_167f6_row188_col5\" class=\"data row188 col5\" >25.800000</td>\n",
       "      <td id=\"T_167f6_row188_col6\" class=\"data row188 col6\" >20.580000</td>\n",
       "      <td id=\"T_167f6_row188_col7\" class=\"data row188 col7\" >18.510000</td>\n",
       "      <td id=\"T_167f6_row188_col8\" class=\"data row188 col8\" >64.880000</td>\n",
       "    </tr>\n",
       "    <tr>\n",
       "      <th id=\"T_167f6_level0_row189\" class=\"row_heading level0 row189\" >189</th>\n",
       "      <td id=\"T_167f6_row189_col0\" class=\"data row189 col0\" >27</td>\n",
       "      <td id=\"T_167f6_row189_col1\" class=\"data row189 col1\" >Monday</td>\n",
       "      <td id=\"T_167f6_row189_col2\" class=\"data row189 col2\" >-0.697700</td>\n",
       "      <td id=\"T_167f6_row189_col3\" class=\"data row189 col3\" >-38.275400</td>\n",
       "      <td id=\"T_167f6_row189_col4\" class=\"data row189 col4\" >-13.525300</td>\n",
       "      <td id=\"T_167f6_row189_col5\" class=\"data row189 col5\" >24.900000</td>\n",
       "      <td id=\"T_167f6_row189_col6\" class=\"data row189 col6\" >19.780000</td>\n",
       "      <td id=\"T_167f6_row189_col7\" class=\"data row189 col7\" >17.800000</td>\n",
       "      <td id=\"T_167f6_row189_col8\" class=\"data row189 col8\" >62.470000</td>\n",
       "    </tr>\n",
       "    <tr>\n",
       "      <th id=\"T_167f6_level0_row190\" class=\"row_heading level0 row190\" >190</th>\n",
       "      <td id=\"T_167f6_row190_col0\" class=\"data row190 col0\" >27</td>\n",
       "      <td id=\"T_167f6_row190_col1\" class=\"data row190 col1\" >Tuesday</td>\n",
       "      <td id=\"T_167f6_row190_col2\" class=\"data row190 col2\" >-16.965100</td>\n",
       "      <td id=\"T_167f6_row190_col3\" class=\"data row190 col3\" >-26.024300</td>\n",
       "      <td id=\"T_167f6_row190_col4\" class=\"data row190 col4\" >8.015000</td>\n",
       "      <td id=\"T_167f6_row190_col5\" class=\"data row190 col5\" >24.900000</td>\n",
       "      <td id=\"T_167f6_row190_col6\" class=\"data row190 col6\" >19.780000</td>\n",
       "      <td id=\"T_167f6_row190_col7\" class=\"data row190 col7\" >17.800000</td>\n",
       "      <td id=\"T_167f6_row190_col8\" class=\"data row190 col8\" >62.470000</td>\n",
       "    </tr>\n",
       "    <tr>\n",
       "      <th id=\"T_167f6_level0_row191\" class=\"row_heading level0 row191\" >191</th>\n",
       "      <td id=\"T_167f6_row191_col0\" class=\"data row191 col0\" >27</td>\n",
       "      <td id=\"T_167f6_row191_col1\" class=\"data row191 col1\" >Wednesday</td>\n",
       "      <td id=\"T_167f6_row191_col2\" class=\"data row191 col2\" >-22.373800</td>\n",
       "      <td id=\"T_167f6_row191_col3\" class=\"data row191 col3\" >-12.860300</td>\n",
       "      <td id=\"T_167f6_row191_col4\" class=\"data row191 col4\" >14.878400</td>\n",
       "      <td id=\"T_167f6_row191_col5\" class=\"data row191 col5\" >24.900000</td>\n",
       "      <td id=\"T_167f6_row191_col6\" class=\"data row191 col6\" >19.780000</td>\n",
       "      <td id=\"T_167f6_row191_col7\" class=\"data row191 col7\" >17.800000</td>\n",
       "      <td id=\"T_167f6_row191_col8\" class=\"data row191 col8\" >62.470000</td>\n",
       "    </tr>\n",
       "    <tr>\n",
       "      <th id=\"T_167f6_level0_row192\" class=\"row_heading level0 row192\" >192</th>\n",
       "      <td id=\"T_167f6_row192_col0\" class=\"data row192 col0\" >27</td>\n",
       "      <td id=\"T_167f6_row192_col1\" class=\"data row192 col1\" >Thursday</td>\n",
       "      <td id=\"T_167f6_row192_col2\" class=\"data row192 col2\" >-35.885700</td>\n",
       "      <td id=\"T_167f6_row192_col3\" class=\"data row192 col3\" >23.438400</td>\n",
       "      <td id=\"T_167f6_row192_col4\" class=\"data row192 col4\" >32.531100</td>\n",
       "      <td id=\"T_167f6_row192_col5\" class=\"data row192 col5\" >24.900000</td>\n",
       "      <td id=\"T_167f6_row192_col6\" class=\"data row192 col6\" >19.780000</td>\n",
       "      <td id=\"T_167f6_row192_col7\" class=\"data row192 col7\" >17.800000</td>\n",
       "      <td id=\"T_167f6_row192_col8\" class=\"data row192 col8\" >62.470000</td>\n",
       "    </tr>\n",
       "    <tr>\n",
       "      <th id=\"T_167f6_level0_row193\" class=\"row_heading level0 row193\" >193</th>\n",
       "      <td id=\"T_167f6_row193_col0\" class=\"data row193 col0\" >27</td>\n",
       "      <td id=\"T_167f6_row193_col1\" class=\"data row193 col1\" >Friday</td>\n",
       "      <td id=\"T_167f6_row193_col2\" class=\"data row193 col2\" >-19.932700</td>\n",
       "      <td id=\"T_167f6_row193_col3\" class=\"data row193 col3\" >31.781500</td>\n",
       "      <td id=\"T_167f6_row193_col4\" class=\"data row193 col4\" >-55.896800</td>\n",
       "      <td id=\"T_167f6_row193_col5\" class=\"data row193 col5\" >24.900000</td>\n",
       "      <td id=\"T_167f6_row193_col6\" class=\"data row193 col6\" >19.780000</td>\n",
       "      <td id=\"T_167f6_row193_col7\" class=\"data row193 col7\" >17.800000</td>\n",
       "      <td id=\"T_167f6_row193_col8\" class=\"data row193 col8\" >62.470000</td>\n",
       "    </tr>\n",
       "    <tr>\n",
       "      <th id=\"T_167f6_level0_row194\" class=\"row_heading level0 row194\" >194</th>\n",
       "      <td id=\"T_167f6_row194_col0\" class=\"data row194 col0\" >27</td>\n",
       "      <td id=\"T_167f6_row194_col1\" class=\"data row194 col1\" >Saturday</td>\n",
       "      <td id=\"T_167f6_row194_col2\" class=\"data row194 col2\" >41.972800</td>\n",
       "      <td id=\"T_167f6_row194_col3\" class=\"data row194 col3\" >38.921400</td>\n",
       "      <td id=\"T_167f6_row194_col4\" class=\"data row194 col4\" >20.284300</td>\n",
       "      <td id=\"T_167f6_row194_col5\" class=\"data row194 col5\" >24.900000</td>\n",
       "      <td id=\"T_167f6_row194_col6\" class=\"data row194 col6\" >19.780000</td>\n",
       "      <td id=\"T_167f6_row194_col7\" class=\"data row194 col7\" >17.800000</td>\n",
       "      <td id=\"T_167f6_row194_col8\" class=\"data row194 col8\" >62.470000</td>\n",
       "    </tr>\n",
       "    <tr>\n",
       "      <th id=\"T_167f6_level0_row195\" class=\"row_heading level0 row195\" >195</th>\n",
       "      <td id=\"T_167f6_row195_col0\" class=\"data row195 col0\" >27</td>\n",
       "      <td id=\"T_167f6_row195_col1\" class=\"data row195 col1\" >Sunday</td>\n",
       "      <td id=\"T_167f6_row195_col2\" class=\"data row195 col2\" >53.882200</td>\n",
       "      <td id=\"T_167f6_row195_col3\" class=\"data row195 col3\" >-16.981300</td>\n",
       "      <td id=\"T_167f6_row195_col4\" class=\"data row195 col4\" >-6.286600</td>\n",
       "      <td id=\"T_167f6_row195_col5\" class=\"data row195 col5\" >24.900000</td>\n",
       "      <td id=\"T_167f6_row195_col6\" class=\"data row195 col6\" >19.780000</td>\n",
       "      <td id=\"T_167f6_row195_col7\" class=\"data row195 col7\" >17.800000</td>\n",
       "      <td id=\"T_167f6_row195_col8\" class=\"data row195 col8\" >62.470000</td>\n",
       "    </tr>\n",
       "    <tr>\n",
       "      <th id=\"T_167f6_level0_row196\" class=\"row_heading level0 row196\" >196</th>\n",
       "      <td id=\"T_167f6_row196_col0\" class=\"data row196 col0\" >28</td>\n",
       "      <td id=\"T_167f6_row196_col1\" class=\"data row196 col1\" >Monday</td>\n",
       "      <td id=\"T_167f6_row196_col2\" class=\"data row196 col2\" >-43.606300</td>\n",
       "      <td id=\"T_167f6_row196_col3\" class=\"data row196 col3\" >-16.141800</td>\n",
       "      <td id=\"T_167f6_row196_col4\" class=\"data row196 col4\" >-14.053900</td>\n",
       "      <td id=\"T_167f6_row196_col5\" class=\"data row196 col5\" >27.880000</td>\n",
       "      <td id=\"T_167f6_row196_col6\" class=\"data row196 col6\" >22.080000</td>\n",
       "      <td id=\"T_167f6_row196_col7\" class=\"data row196 col7\" >16.160000</td>\n",
       "      <td id=\"T_167f6_row196_col8\" class=\"data row196 col8\" >66.110000</td>\n",
       "    </tr>\n",
       "    <tr>\n",
       "      <th id=\"T_167f6_level0_row197\" class=\"row_heading level0 row197\" >197</th>\n",
       "      <td id=\"T_167f6_row197_col0\" class=\"data row197 col0\" >28</td>\n",
       "      <td id=\"T_167f6_row197_col1\" class=\"data row197 col1\" >Tuesday</td>\n",
       "      <td id=\"T_167f6_row197_col2\" class=\"data row197 col2\" >-47.432600</td>\n",
       "      <td id=\"T_167f6_row197_col3\" class=\"data row197 col3\" >1.608000</td>\n",
       "      <td id=\"T_167f6_row197_col4\" class=\"data row197 col4\" >5.825100</td>\n",
       "      <td id=\"T_167f6_row197_col5\" class=\"data row197 col5\" >27.880000</td>\n",
       "      <td id=\"T_167f6_row197_col6\" class=\"data row197 col6\" >22.080000</td>\n",
       "      <td id=\"T_167f6_row197_col7\" class=\"data row197 col7\" >16.160000</td>\n",
       "      <td id=\"T_167f6_row197_col8\" class=\"data row197 col8\" >66.110000</td>\n",
       "    </tr>\n",
       "    <tr>\n",
       "      <th id=\"T_167f6_level0_row198\" class=\"row_heading level0 row198\" >198</th>\n",
       "      <td id=\"T_167f6_row198_col0\" class=\"data row198 col0\" >28</td>\n",
       "      <td id=\"T_167f6_row198_col1\" class=\"data row198 col1\" >Wednesday</td>\n",
       "      <td id=\"T_167f6_row198_col2\" class=\"data row198 col2\" >-18.356600</td>\n",
       "      <td id=\"T_167f6_row198_col3\" class=\"data row198 col3\" >14.580800</td>\n",
       "      <td id=\"T_167f6_row198_col4\" class=\"data row198 col4\" >11.877000</td>\n",
       "      <td id=\"T_167f6_row198_col5\" class=\"data row198 col5\" >27.880000</td>\n",
       "      <td id=\"T_167f6_row198_col6\" class=\"data row198 col6\" >22.080000</td>\n",
       "      <td id=\"T_167f6_row198_col7\" class=\"data row198 col7\" >16.160000</td>\n",
       "      <td id=\"T_167f6_row198_col8\" class=\"data row198 col8\" >66.110000</td>\n",
       "    </tr>\n",
       "    <tr>\n",
       "      <th id=\"T_167f6_level0_row199\" class=\"row_heading level0 row199\" >199</th>\n",
       "      <td id=\"T_167f6_row199_col0\" class=\"data row199 col0\" >28</td>\n",
       "      <td id=\"T_167f6_row199_col1\" class=\"data row199 col1\" >Thursday</td>\n",
       "      <td id=\"T_167f6_row199_col2\" class=\"data row199 col2\" >18.045800</td>\n",
       "      <td id=\"T_167f6_row199_col3\" class=\"data row199 col3\" >42.560200</td>\n",
       "      <td id=\"T_167f6_row199_col4\" class=\"data row199 col4\" >35.105400</td>\n",
       "      <td id=\"T_167f6_row199_col5\" class=\"data row199 col5\" >27.880000</td>\n",
       "      <td id=\"T_167f6_row199_col6\" class=\"data row199 col6\" >22.080000</td>\n",
       "      <td id=\"T_167f6_row199_col7\" class=\"data row199 col7\" >16.160000</td>\n",
       "      <td id=\"T_167f6_row199_col8\" class=\"data row199 col8\" >66.110000</td>\n",
       "    </tr>\n",
       "    <tr>\n",
       "      <th id=\"T_167f6_level0_row200\" class=\"row_heading level0 row200\" >200</th>\n",
       "      <td id=\"T_167f6_row200_col0\" class=\"data row200 col0\" >28</td>\n",
       "      <td id=\"T_167f6_row200_col1\" class=\"data row200 col1\" >Friday</td>\n",
       "      <td id=\"T_167f6_row200_col2\" class=\"data row200 col2\" >27.494100</td>\n",
       "      <td id=\"T_167f6_row200_col3\" class=\"data row200 col3\" >31.115300</td>\n",
       "      <td id=\"T_167f6_row200_col4\" class=\"data row200 col4\" >-52.594200</td>\n",
       "      <td id=\"T_167f6_row200_col5\" class=\"data row200 col5\" >27.880000</td>\n",
       "      <td id=\"T_167f6_row200_col6\" class=\"data row200 col6\" >22.080000</td>\n",
       "      <td id=\"T_167f6_row200_col7\" class=\"data row200 col7\" >16.160000</td>\n",
       "      <td id=\"T_167f6_row200_col8\" class=\"data row200 col8\" >66.110000</td>\n",
       "    </tr>\n",
       "    <tr>\n",
       "      <th id=\"T_167f6_level0_row201\" class=\"row_heading level0 row201\" >201</th>\n",
       "      <td id=\"T_167f6_row201_col0\" class=\"data row201 col0\" >28</td>\n",
       "      <td id=\"T_167f6_row201_col1\" class=\"data row201 col1\" >Saturday</td>\n",
       "      <td id=\"T_167f6_row201_col2\" class=\"data row201 col2\" >45.783300</td>\n",
       "      <td id=\"T_167f6_row201_col3\" class=\"data row201 col3\" >-23.497600</td>\n",
       "      <td id=\"T_167f6_row201_col4\" class=\"data row201 col4\" >16.018300</td>\n",
       "      <td id=\"T_167f6_row201_col5\" class=\"data row201 col5\" >27.880000</td>\n",
       "      <td id=\"T_167f6_row201_col6\" class=\"data row201 col6\" >22.080000</td>\n",
       "      <td id=\"T_167f6_row201_col7\" class=\"data row201 col7\" >16.160000</td>\n",
       "      <td id=\"T_167f6_row201_col8\" class=\"data row201 col8\" >66.110000</td>\n",
       "    </tr>\n",
       "    <tr>\n",
       "      <th id=\"T_167f6_level0_row202\" class=\"row_heading level0 row202\" >202</th>\n",
       "      <td id=\"T_167f6_row202_col0\" class=\"data row202 col0\" >28</td>\n",
       "      <td id=\"T_167f6_row202_col1\" class=\"data row202 col1\" >Sunday</td>\n",
       "      <td id=\"T_167f6_row202_col2\" class=\"data row202 col2\" >18.072300</td>\n",
       "      <td id=\"T_167f6_row202_col3\" class=\"data row202 col3\" >-50.224900</td>\n",
       "      <td id=\"T_167f6_row202_col4\" class=\"data row202 col4\" >-2.177800</td>\n",
       "      <td id=\"T_167f6_row202_col5\" class=\"data row202 col5\" >27.880000</td>\n",
       "      <td id=\"T_167f6_row202_col6\" class=\"data row202 col6\" >22.080000</td>\n",
       "      <td id=\"T_167f6_row202_col7\" class=\"data row202 col7\" >16.160000</td>\n",
       "      <td id=\"T_167f6_row202_col8\" class=\"data row202 col8\" >66.110000</td>\n",
       "    </tr>\n",
       "    <tr>\n",
       "      <th id=\"T_167f6_level0_row203\" class=\"row_heading level0 row203\" >203</th>\n",
       "      <td id=\"T_167f6_row203_col0\" class=\"data row203 col0\" >29</td>\n",
       "      <td id=\"T_167f6_row203_col1\" class=\"data row203 col1\" >Monday</td>\n",
       "      <td id=\"T_167f6_row203_col2\" class=\"data row203 col2\" >0.931100</td>\n",
       "      <td id=\"T_167f6_row203_col3\" class=\"data row203 col3\" >-48.103500</td>\n",
       "      <td id=\"T_167f6_row203_col4\" class=\"data row203 col4\" >-22.507700</td>\n",
       "      <td id=\"T_167f6_row203_col5\" class=\"data row203 col5\" >29.790000</td>\n",
       "      <td id=\"T_167f6_row203_col6\" class=\"data row203 col6\" >27.710000</td>\n",
       "      <td id=\"T_167f6_row203_col7\" class=\"data row203 col7\" >14.060000</td>\n",
       "      <td id=\"T_167f6_row203_col8\" class=\"data row203 col8\" >71.560000</td>\n",
       "    </tr>\n",
       "    <tr>\n",
       "      <th id=\"T_167f6_level0_row204\" class=\"row_heading level0 row204\" >204</th>\n",
       "      <td id=\"T_167f6_row204_col0\" class=\"data row204 col0\" >29</td>\n",
       "      <td id=\"T_167f6_row204_col1\" class=\"data row204 col1\" >Tuesday</td>\n",
       "      <td id=\"T_167f6_row204_col2\" class=\"data row204 col2\" >-35.112300</td>\n",
       "      <td id=\"T_167f6_row204_col3\" class=\"data row204 col3\" >-31.695800</td>\n",
       "      <td id=\"T_167f6_row204_col4\" class=\"data row204 col4\" >-0.800900</td>\n",
       "      <td id=\"T_167f6_row204_col5\" class=\"data row204 col5\" >29.790000</td>\n",
       "      <td id=\"T_167f6_row204_col6\" class=\"data row204 col6\" >27.710000</td>\n",
       "      <td id=\"T_167f6_row204_col7\" class=\"data row204 col7\" >14.060000</td>\n",
       "      <td id=\"T_167f6_row204_col8\" class=\"data row204 col8\" >71.560000</td>\n",
       "    </tr>\n",
       "    <tr>\n",
       "      <th id=\"T_167f6_level0_row205\" class=\"row_heading level0 row205\" >205</th>\n",
       "      <td id=\"T_167f6_row205_col0\" class=\"data row205 col0\" >29</td>\n",
       "      <td id=\"T_167f6_row205_col1\" class=\"data row205 col1\" >Wednesday</td>\n",
       "      <td id=\"T_167f6_row205_col2\" class=\"data row205 col2\" >-42.559900</td>\n",
       "      <td id=\"T_167f6_row205_col3\" class=\"data row205 col3\" >1.215100</td>\n",
       "      <td id=\"T_167f6_row205_col4\" class=\"data row205 col4\" >13.339900</td>\n",
       "      <td id=\"T_167f6_row205_col5\" class=\"data row205 col5\" >29.790000</td>\n",
       "      <td id=\"T_167f6_row205_col6\" class=\"data row205 col6\" >27.710000</td>\n",
       "      <td id=\"T_167f6_row205_col7\" class=\"data row205 col7\" >14.060000</td>\n",
       "      <td id=\"T_167f6_row205_col8\" class=\"data row205 col8\" >71.560000</td>\n",
       "    </tr>\n",
       "    <tr>\n",
       "      <th id=\"T_167f6_level0_row206\" class=\"row_heading level0 row206\" >206</th>\n",
       "      <td id=\"T_167f6_row206_col0\" class=\"data row206 col0\" >29</td>\n",
       "      <td id=\"T_167f6_row206_col1\" class=\"data row206 col1\" >Thursday</td>\n",
       "      <td id=\"T_167f6_row206_col2\" class=\"data row206 col2\" >-27.768600</td>\n",
       "      <td id=\"T_167f6_row206_col3\" class=\"data row206 col3\" >36.999600</td>\n",
       "      <td id=\"T_167f6_row206_col4\" class=\"data row206 col4\" >23.104400</td>\n",
       "      <td id=\"T_167f6_row206_col5\" class=\"data row206 col5\" >29.790000</td>\n",
       "      <td id=\"T_167f6_row206_col6\" class=\"data row206 col6\" >27.710000</td>\n",
       "      <td id=\"T_167f6_row206_col7\" class=\"data row206 col7\" >14.060000</td>\n",
       "      <td id=\"T_167f6_row206_col8\" class=\"data row206 col8\" >71.560000</td>\n",
       "    </tr>\n",
       "    <tr>\n",
       "      <th id=\"T_167f6_level0_row207\" class=\"row_heading level0 row207\" >207</th>\n",
       "      <td id=\"T_167f6_row207_col0\" class=\"data row207 col0\" >29</td>\n",
       "      <td id=\"T_167f6_row207_col1\" class=\"data row207 col1\" >Friday</td>\n",
       "      <td id=\"T_167f6_row207_col2\" class=\"data row207 col2\" >8.160300</td>\n",
       "      <td id=\"T_167f6_row207_col3\" class=\"data row207 col3\" >46.496300</td>\n",
       "      <td id=\"T_167f6_row207_col4\" class=\"data row207 col4\" >-46.691600</td>\n",
       "      <td id=\"T_167f6_row207_col5\" class=\"data row207 col5\" >29.790000</td>\n",
       "      <td id=\"T_167f6_row207_col6\" class=\"data row207 col6\" >27.710000</td>\n",
       "      <td id=\"T_167f6_row207_col7\" class=\"data row207 col7\" >14.060000</td>\n",
       "      <td id=\"T_167f6_row207_col8\" class=\"data row207 col8\" >71.560000</td>\n",
       "    </tr>\n",
       "    <tr>\n",
       "      <th id=\"T_167f6_level0_row208\" class=\"row_heading level0 row208\" >208</th>\n",
       "      <td id=\"T_167f6_row208_col0\" class=\"data row208 col0\" >29</td>\n",
       "      <td id=\"T_167f6_row208_col1\" class=\"data row208 col1\" >Saturday</td>\n",
       "      <td id=\"T_167f6_row208_col2\" class=\"data row208 col2\" >45.343000</td>\n",
       "      <td id=\"T_167f6_row208_col3\" class=\"data row208 col3\" >20.815100</td>\n",
       "      <td id=\"T_167f6_row208_col4\" class=\"data row208 col4\" >22.670400</td>\n",
       "      <td id=\"T_167f6_row208_col5\" class=\"data row208 col5\" >29.790000</td>\n",
       "      <td id=\"T_167f6_row208_col6\" class=\"data row208 col6\" >27.710000</td>\n",
       "      <td id=\"T_167f6_row208_col7\" class=\"data row208 col7\" >14.060000</td>\n",
       "      <td id=\"T_167f6_row208_col8\" class=\"data row208 col8\" >71.560000</td>\n",
       "    </tr>\n",
       "    <tr>\n",
       "      <th id=\"T_167f6_level0_row209\" class=\"row_heading level0 row209\" >209</th>\n",
       "      <td id=\"T_167f6_row209_col0\" class=\"data row209 col0\" >29</td>\n",
       "      <td id=\"T_167f6_row209_col1\" class=\"data row209 col1\" >Sunday</td>\n",
       "      <td id=\"T_167f6_row209_col2\" class=\"data row209 col2\" >51.006300</td>\n",
       "      <td id=\"T_167f6_row209_col3\" class=\"data row209 col3\" >-25.726800</td>\n",
       "      <td id=\"T_167f6_row209_col4\" class=\"data row209 col4\" >10.885500</td>\n",
       "      <td id=\"T_167f6_row209_col5\" class=\"data row209 col5\" >29.790000</td>\n",
       "      <td id=\"T_167f6_row209_col6\" class=\"data row209 col6\" >27.710000</td>\n",
       "      <td id=\"T_167f6_row209_col7\" class=\"data row209 col7\" >14.060000</td>\n",
       "      <td id=\"T_167f6_row209_col8\" class=\"data row209 col8\" >71.560000</td>\n",
       "    </tr>\n",
       "    <tr>\n",
       "      <th id=\"T_167f6_level0_row210\" class=\"row_heading level0 row210\" >210</th>\n",
       "      <td id=\"T_167f6_row210_col0\" class=\"data row210 col0\" >30</td>\n",
       "      <td id=\"T_167f6_row210_col1\" class=\"data row210 col1\" >Monday</td>\n",
       "      <td id=\"T_167f6_row210_col2\" class=\"data row210 col2\" >4.702100</td>\n",
       "      <td id=\"T_167f6_row210_col3\" class=\"data row210 col3\" >-47.088900</td>\n",
       "      <td id=\"T_167f6_row210_col4\" class=\"data row210 col4\" >-22.045400</td>\n",
       "      <td id=\"T_167f6_row210_col5\" class=\"data row210 col5\" >28.910000</td>\n",
       "      <td id=\"T_167f6_row210_col6\" class=\"data row210 col6\" >26.330000</td>\n",
       "      <td id=\"T_167f6_row210_col7\" class=\"data row210 col7\" >14.500000</td>\n",
       "      <td id=\"T_167f6_row210_col8\" class=\"data row210 col8\" >69.730000</td>\n",
       "    </tr>\n",
       "    <tr>\n",
       "      <th id=\"T_167f6_level0_row211\" class=\"row_heading level0 row211\" >211</th>\n",
       "      <td id=\"T_167f6_row211_col0\" class=\"data row211 col0\" >30</td>\n",
       "      <td id=\"T_167f6_row211_col1\" class=\"data row211 col1\" >Tuesday</td>\n",
       "      <td id=\"T_167f6_row211_col2\" class=\"data row211 col2\" >-28.801500</td>\n",
       "      <td id=\"T_167f6_row211_col3\" class=\"data row211 col3\" >-33.375800</td>\n",
       "      <td id=\"T_167f6_row211_col4\" class=\"data row211 col4\" >0.082300</td>\n",
       "      <td id=\"T_167f6_row211_col5\" class=\"data row211 col5\" >28.910000</td>\n",
       "      <td id=\"T_167f6_row211_col6\" class=\"data row211 col6\" >26.330000</td>\n",
       "      <td id=\"T_167f6_row211_col7\" class=\"data row211 col7\" >14.500000</td>\n",
       "      <td id=\"T_167f6_row211_col8\" class=\"data row211 col8\" >69.730000</td>\n",
       "    </tr>\n",
       "    <tr>\n",
       "      <th id=\"T_167f6_level0_row212\" class=\"row_heading level0 row212\" >212</th>\n",
       "      <td id=\"T_167f6_row212_col0\" class=\"data row212 col0\" >30</td>\n",
       "      <td id=\"T_167f6_row212_col1\" class=\"data row212 col1\" >Wednesday</td>\n",
       "      <td id=\"T_167f6_row212_col2\" class=\"data row212 col2\" >-39.204700</td>\n",
       "      <td id=\"T_167f6_row212_col3\" class=\"data row212 col3\" >-5.392500</td>\n",
       "      <td id=\"T_167f6_row212_col4\" class=\"data row212 col4\" >13.397000</td>\n",
       "      <td id=\"T_167f6_row212_col5\" class=\"data row212 col5\" >28.910000</td>\n",
       "      <td id=\"T_167f6_row212_col6\" class=\"data row212 col6\" >26.330000</td>\n",
       "      <td id=\"T_167f6_row212_col7\" class=\"data row212 col7\" >14.500000</td>\n",
       "      <td id=\"T_167f6_row212_col8\" class=\"data row212 col8\" >69.730000</td>\n",
       "    </tr>\n",
       "    <tr>\n",
       "      <th id=\"T_167f6_level0_row213\" class=\"row_heading level0 row213\" >213</th>\n",
       "      <td id=\"T_167f6_row213_col0\" class=\"data row213 col0\" >30</td>\n",
       "      <td id=\"T_167f6_row213_col1\" class=\"data row213 col1\" >Thursday</td>\n",
       "      <td id=\"T_167f6_row213_col2\" class=\"data row213 col2\" >-33.322500</td>\n",
       "      <td id=\"T_167f6_row213_col3\" class=\"data row213 col3\" >31.867200</td>\n",
       "      <td id=\"T_167f6_row213_col4\" class=\"data row213 col4\" >25.157300</td>\n",
       "      <td id=\"T_167f6_row213_col5\" class=\"data row213 col5\" >28.910000</td>\n",
       "      <td id=\"T_167f6_row213_col6\" class=\"data row213 col6\" >26.330000</td>\n",
       "      <td id=\"T_167f6_row213_col7\" class=\"data row213 col7\" >14.500000</td>\n",
       "      <td id=\"T_167f6_row213_col8\" class=\"data row213 col8\" >69.730000</td>\n",
       "    </tr>\n",
       "    <tr>\n",
       "      <th id=\"T_167f6_level0_row214\" class=\"row_heading level0 row214\" >214</th>\n",
       "      <td id=\"T_167f6_row214_col0\" class=\"data row214 col0\" >30</td>\n",
       "      <td id=\"T_167f6_row214_col1\" class=\"data row214 col1\" >Friday</td>\n",
       "      <td id=\"T_167f6_row214_col2\" class=\"data row214 col2\" >-0.367800</td>\n",
       "      <td id=\"T_167f6_row214_col3\" class=\"data row214 col3\" >45.058600</td>\n",
       "      <td id=\"T_167f6_row214_col4\" class=\"data row214 col4\" >-48.002100</td>\n",
       "      <td id=\"T_167f6_row214_col5\" class=\"data row214 col5\" >28.910000</td>\n",
       "      <td id=\"T_167f6_row214_col6\" class=\"data row214 col6\" >26.330000</td>\n",
       "      <td id=\"T_167f6_row214_col7\" class=\"data row214 col7\" >14.500000</td>\n",
       "      <td id=\"T_167f6_row214_col8\" class=\"data row214 col8\" >69.730000</td>\n",
       "    </tr>\n",
       "    <tr>\n",
       "      <th id=\"T_167f6_level0_row215\" class=\"row_heading level0 row215\" >215</th>\n",
       "      <td id=\"T_167f6_row215_col0\" class=\"data row215 col0\" >30</td>\n",
       "      <td id=\"T_167f6_row215_col1\" class=\"data row215 col1\" >Saturday</td>\n",
       "      <td id=\"T_167f6_row215_col2\" class=\"data row215 col2\" >41.987000</td>\n",
       "      <td id=\"T_167f6_row215_col3\" class=\"data row215 col3\" >27.963800</td>\n",
       "      <td id=\"T_167f6_row215_col4\" class=\"data row215 col4\" >21.191800</td>\n",
       "      <td id=\"T_167f6_row215_col5\" class=\"data row215 col5\" >28.910000</td>\n",
       "      <td id=\"T_167f6_row215_col6\" class=\"data row215 col6\" >26.330000</td>\n",
       "      <td id=\"T_167f6_row215_col7\" class=\"data row215 col7\" >14.500000</td>\n",
       "      <td id=\"T_167f6_row215_col8\" class=\"data row215 col8\" >69.730000</td>\n",
       "    </tr>\n",
       "    <tr>\n",
       "      <th id=\"T_167f6_level0_row216\" class=\"row_heading level0 row216\" >216</th>\n",
       "      <td id=\"T_167f6_row216_col0\" class=\"data row216 col0\" >30</td>\n",
       "      <td id=\"T_167f6_row216_col1\" class=\"data row216 col1\" >Sunday</td>\n",
       "      <td id=\"T_167f6_row216_col2\" class=\"data row216 col2\" >55.007400</td>\n",
       "      <td id=\"T_167f6_row216_col3\" class=\"data row216 col3\" >-19.032300</td>\n",
       "      <td id=\"T_167f6_row216_col4\" class=\"data row216 col4\" >10.219100</td>\n",
       "      <td id=\"T_167f6_row216_col5\" class=\"data row216 col5\" >28.910000</td>\n",
       "      <td id=\"T_167f6_row216_col6\" class=\"data row216 col6\" >26.330000</td>\n",
       "      <td id=\"T_167f6_row216_col7\" class=\"data row216 col7\" >14.500000</td>\n",
       "      <td id=\"T_167f6_row216_col8\" class=\"data row216 col8\" >69.730000</td>\n",
       "    </tr>\n",
       "    <tr>\n",
       "      <th id=\"T_167f6_level0_row217\" class=\"row_heading level0 row217\" >217</th>\n",
       "      <td id=\"T_167f6_row217_col0\" class=\"data row217 col0\" >31</td>\n",
       "      <td id=\"T_167f6_row217_col1\" class=\"data row217 col1\" >Monday</td>\n",
       "      <td id=\"T_167f6_row217_col2\" class=\"data row217 col2\" >0.943200</td>\n",
       "      <td id=\"T_167f6_row217_col3\" class=\"data row217 col3\" >-46.805800</td>\n",
       "      <td id=\"T_167f6_row217_col4\" class=\"data row217 col4\" >-22.698000</td>\n",
       "      <td id=\"T_167f6_row217_col5\" class=\"data row217 col5\" >29.070000</td>\n",
       "      <td id=\"T_167f6_row217_col6\" class=\"data row217 col6\" >26.230000</td>\n",
       "      <td id=\"T_167f6_row217_col7\" class=\"data row217 col7\" >14.830000</td>\n",
       "      <td id=\"T_167f6_row217_col8\" class=\"data row217 col8\" >70.130000</td>\n",
       "    </tr>\n",
       "    <tr>\n",
       "      <th id=\"T_167f6_level0_row218\" class=\"row_heading level0 row218\" >218</th>\n",
       "      <td id=\"T_167f6_row218_col0\" class=\"data row218 col0\" >31</td>\n",
       "      <td id=\"T_167f6_row218_col1\" class=\"data row218 col1\" >Tuesday</td>\n",
       "      <td id=\"T_167f6_row218_col2\" class=\"data row218 col2\" >-30.653200</td>\n",
       "      <td id=\"T_167f6_row218_col3\" class=\"data row218 col3\" >-31.154900</td>\n",
       "      <td id=\"T_167f6_row218_col4\" class=\"data row218 col4\" >0.342900</td>\n",
       "      <td id=\"T_167f6_row218_col5\" class=\"data row218 col5\" >29.070000</td>\n",
       "      <td id=\"T_167f6_row218_col6\" class=\"data row218 col6\" >26.230000</td>\n",
       "      <td id=\"T_167f6_row218_col7\" class=\"data row218 col7\" >14.830000</td>\n",
       "      <td id=\"T_167f6_row218_col8\" class=\"data row218 col8\" >70.130000</td>\n",
       "    </tr>\n",
       "    <tr>\n",
       "      <th id=\"T_167f6_level0_row219\" class=\"row_heading level0 row219\" >219</th>\n",
       "      <td id=\"T_167f6_row219_col0\" class=\"data row219 col0\" >31</td>\n",
       "      <td id=\"T_167f6_row219_col1\" class=\"data row219 col1\" >Wednesday</td>\n",
       "      <td id=\"T_167f6_row219_col2\" class=\"data row219 col2\" >-38.736700</td>\n",
       "      <td id=\"T_167f6_row219_col3\" class=\"data row219 col3\" >-3.872300</td>\n",
       "      <td id=\"T_167f6_row219_col4\" class=\"data row219 col4\" >14.560100</td>\n",
       "      <td id=\"T_167f6_row219_col5\" class=\"data row219 col5\" >29.070000</td>\n",
       "      <td id=\"T_167f6_row219_col6\" class=\"data row219 col6\" >26.230000</td>\n",
       "      <td id=\"T_167f6_row219_col7\" class=\"data row219 col7\" >14.830000</td>\n",
       "      <td id=\"T_167f6_row219_col8\" class=\"data row219 col8\" >70.130000</td>\n",
       "    </tr>\n",
       "    <tr>\n",
       "      <th id=\"T_167f6_level0_row220\" class=\"row_heading level0 row220\" >220</th>\n",
       "      <td id=\"T_167f6_row220_col0\" class=\"data row220 col0\" >31</td>\n",
       "      <td id=\"T_167f6_row220_col1\" class=\"data row220 col1\" >Thursday</td>\n",
       "      <td id=\"T_167f6_row220_col2\" class=\"data row220 col2\" >-30.774700</td>\n",
       "      <td id=\"T_167f6_row220_col3\" class=\"data row220 col3\" >30.959700</td>\n",
       "      <td id=\"T_167f6_row220_col4\" class=\"data row220 col4\" >24.833400</td>\n",
       "      <td id=\"T_167f6_row220_col5\" class=\"data row220 col5\" >29.070000</td>\n",
       "      <td id=\"T_167f6_row220_col6\" class=\"data row220 col6\" >26.230000</td>\n",
       "      <td id=\"T_167f6_row220_col7\" class=\"data row220 col7\" >14.830000</td>\n",
       "      <td id=\"T_167f6_row220_col8\" class=\"data row220 col8\" >70.130000</td>\n",
       "    </tr>\n",
       "    <tr>\n",
       "      <th id=\"T_167f6_level0_row221\" class=\"row_heading level0 row221\" >221</th>\n",
       "      <td id=\"T_167f6_row221_col0\" class=\"data row221 col0\" >31</td>\n",
       "      <td id=\"T_167f6_row221_col1\" class=\"data row221 col1\" >Friday</td>\n",
       "      <td id=\"T_167f6_row221_col2\" class=\"data row221 col2\" >0.659800</td>\n",
       "      <td id=\"T_167f6_row221_col3\" class=\"data row221 col3\" >47.184800</td>\n",
       "      <td id=\"T_167f6_row221_col4\" class=\"data row221 col4\" >-47.713700</td>\n",
       "      <td id=\"T_167f6_row221_col5\" class=\"data row221 col5\" >29.070000</td>\n",
       "      <td id=\"T_167f6_row221_col6\" class=\"data row221 col6\" >26.230000</td>\n",
       "      <td id=\"T_167f6_row221_col7\" class=\"data row221 col7\" >14.830000</td>\n",
       "      <td id=\"T_167f6_row221_col8\" class=\"data row221 col8\" >70.130000</td>\n",
       "    </tr>\n",
       "    <tr>\n",
       "      <th id=\"T_167f6_level0_row222\" class=\"row_heading level0 row222\" >222</th>\n",
       "      <td id=\"T_167f6_row222_col0\" class=\"data row222 col0\" >31</td>\n",
       "      <td id=\"T_167f6_row222_col1\" class=\"data row222 col1\" >Saturday</td>\n",
       "      <td id=\"T_167f6_row222_col2\" class=\"data row222 col2\" >42.591900</td>\n",
       "      <td id=\"T_167f6_row222_col3\" class=\"data row222 col3\" >25.837900</td>\n",
       "      <td id=\"T_167f6_row222_col4\" class=\"data row222 col4\" >24.311300</td>\n",
       "      <td id=\"T_167f6_row222_col5\" class=\"data row222 col5\" >29.070000</td>\n",
       "      <td id=\"T_167f6_row222_col6\" class=\"data row222 col6\" >26.230000</td>\n",
       "      <td id=\"T_167f6_row222_col7\" class=\"data row222 col7\" >14.830000</td>\n",
       "      <td id=\"T_167f6_row222_col8\" class=\"data row222 col8\" >70.130000</td>\n",
       "    </tr>\n",
       "    <tr>\n",
       "      <th id=\"T_167f6_level0_row223\" class=\"row_heading level0 row223\" >223</th>\n",
       "      <td id=\"T_167f6_row223_col0\" class=\"data row223 col0\" >31</td>\n",
       "      <td id=\"T_167f6_row223_col1\" class=\"data row223 col1\" >Sunday</td>\n",
       "      <td id=\"T_167f6_row223_col2\" class=\"data row223 col2\" >55.969800</td>\n",
       "      <td id=\"T_167f6_row223_col3\" class=\"data row223 col3\" >-22.149400</td>\n",
       "      <td id=\"T_167f6_row223_col4\" class=\"data row223 col4\" >6.364000</td>\n",
       "      <td id=\"T_167f6_row223_col5\" class=\"data row223 col5\" >29.070000</td>\n",
       "      <td id=\"T_167f6_row223_col6\" class=\"data row223 col6\" >26.230000</td>\n",
       "      <td id=\"T_167f6_row223_col7\" class=\"data row223 col7\" >14.830000</td>\n",
       "      <td id=\"T_167f6_row223_col8\" class=\"data row223 col8\" >70.130000</td>\n",
       "    </tr>\n",
       "  </tbody>\n",
       "</table>\n"
      ],
      "text/plain": [
       "<pandas.io.formats.style.Styler at 0x4201c4ad0>"
      ]
     },
     "metadata": {},
     "output_type": "display_data"
    }
   ],
   "source": [
    "\n",
    "\n",
    "def get_pca_values_df_aligned(model, tokenizer):\n",
    "    # Define the entries to analyze (can be days, months, etc)\n",
    "    # entries = [\"00:00\", \"01:00\", \"02:00\", \"03:00\", \"04:00\", \"05:00\", \"06:00\", \"07:00\", \"08:00\", \"09:00\", \"10:00\", \"11:00\", \"12:00\", \"13:00\", \"14:00\", \"15:00\", \"16:00\", \"17:00\", \"18:00\", \"19:00\", \"20:00\", \"21:00\", \"22:00\", \"23:00\"]\n",
    "    # entries = [\"January\", \"February\", \"March\", \"April\", \"May\", \"June\", \"July\", \"August\", \"September\", \"October\", \"November\", \"December\"]\n",
    "    entries = [\"Monday\", \"Tuesday\", \"Wednesday\", \"Thursday\", \"Friday\", \"Saturday\", \"Sunday\"]\n",
    "\n",
    "    num_layers = len(model.layers)\n",
    "    pca_values = []\n",
    "    \n",
    "    # Store last layer projections as reference\n",
    "    reference_proj = None\n",
    "    \n",
    "    # First pass to get reference from last layer\n",
    "    all_hidden_states = []\n",
    "    for entry in entries:\n",
    "        prompt = f\"The day is {entry}\"\n",
    "        tokens = mx.array(tokenizer._tokenizer(prompt, return_tensors=\"np\")['input_ids'])\n",
    "        entry_idx = -1  # Take last token\n",
    "        \n",
    "        layer_output = model.get_layer_output(num_layers-1, tokens)\n",
    "        all_hidden_states.append(layer_output[0, entry_idx].tolist())\n",
    "    \n",
    "    hidden_states = np.array(all_hidden_states)\n",
    "    hidden_states = (hidden_states - np.mean(hidden_states, axis=0)) / (np.std(hidden_states, axis=0) + 1e-8)\n",
    "    \n",
    "    pca = PCA(n_components=3, svd_solver='full')\n",
    "    reference_proj = pca.fit_transform(hidden_states)\n",
    "    \n",
    "    # Now process all layers\n",
    "    for layer_num in range(num_layers):\n",
    "        all_hidden_states = []\n",
    "        \n",
    "        # Get hidden states for each entry\n",
    "        for entry in entries:\n",
    "            prompt = f\"The day is {entry}\"\n",
    "            tokens = mx.array(tokenizer._tokenizer(prompt, return_tensors=\"np\")['input_ids'])\n",
    "            entry_idx = -1  # Take last token\n",
    "            \n",
    "            layer_output = model.get_layer_output(layer_num, tokens)\n",
    "            all_hidden_states.append(layer_output[0, entry_idx].tolist())\n",
    "        \n",
    "        # Convert to numpy array and normalize\n",
    "        hidden_states = np.array(all_hidden_states)\n",
    "        hidden_states = (hidden_states - np.mean(hidden_states, axis=0)) / (np.std(hidden_states, axis=0) + 1e-8)\n",
    "        \n",
    "        # Perform PCA\n",
    "        pca = PCA(n_components=3, svd_solver='full')\n",
    "        projected = pca.fit_transform(hidden_states)\n",
    "        \n",
    "        # Get explained variance information\n",
    "        explained_variance = pca.explained_variance_ratio_\n",
    "        cumulative_variance = np.cumsum(explained_variance)\n",
    "        \n",
    "        # Align with reference projection from last layer\n",
    "        if layer_num != num_layers-1:  # Skip alignment for the last layer\n",
    "            for i in range(3):\n",
    "                corr = np.corrcoef(reference_proj[:, i], projected[:, i])[0, 1]\n",
    "                if corr < 0:\n",
    "                    projected[:, i] *= -1\n",
    "        \n",
    "        # Store values in DataFrame format\n",
    "        for i, entry in enumerate(entries):\n",
    "            pca_values.append({\n",
    "                'Layer': layer_num,\n",
    "                'Entry': entry,\n",
    "                'PCA1': round(projected[i, 0], 4),\n",
    "                'PCA2': round(projected[i, 1], 4),\n",
    "                'PCA3': round(projected[i, 2], 4),\n",
    "                'PCA1_var': round(explained_variance[0] * 100, 2),\n",
    "                'PCA2_var': round(explained_variance[1] * 100, 2),\n",
    "                'PCA3_var': round(explained_variance[2] * 100, 2),\n",
    "                'Cumulative_var': round(cumulative_variance[2] * 100, 2)\n",
    "            })\n",
    "    \n",
    "    return pd.DataFrame(pca_values)\n",
    "\n",
    "# Usage\n",
    "df_aligned = get_pca_values_df_aligned(model, tokenizer)\n",
    "print(\"\\nFull DataFrame:\")\n",
    "display(df_aligned.style.set_table_styles([{'selector': '', 'props': [('max-height', '400px'), ('overflow-y', 'scroll'), ('display', 'block')]}]))"
   ]
  },
  {
   "cell_type": "code",
   "execution_count": 11,
   "metadata": {},
   "outputs": [
    {
     "data": {
      "application/vnd.plotly.v1+json": {
       "config": {
        "plotlyServerURL": "https://plot.ly"
       },
       "data": [
        {
         "legendgroup": "Monday",
         "marker": {
          "color": "hsl(0.0,70%,50%)",
          "opacity": 0.47965,
          "size": 5
         },
         "mode": "markers",
         "name": "Monday",
         "showlegend": true,
         "type": "scatter3d",
         "x": [
          -5.9391
         ],
         "y": [
          -29.339
         ],
         "z": [
          -42.1587
         ]
        },
        {
         "legendgroup": "Tuesday",
         "marker": {
          "color": "hsl(51.42857142857143,70%,50%)",
          "opacity": 0.47965,
          "size": 5
         },
         "mode": "markers",
         "name": "Tuesday",
         "showlegend": true,
         "type": "scatter3d",
         "x": [
          -24.1455
         ],
         "y": [
          -20.0585
         ],
         "z": [
          15.0121
         ]
        },
        {
         "legendgroup": "Wednesday",
         "marker": {
          "color": "hsl(102.85714285714286,70%,50%)",
          "opacity": 0.47965,
          "size": 5
         },
         "mode": "markers",
         "name": "Wednesday",
         "showlegend": true,
         "type": "scatter3d",
         "x": [
          -25.2684
         ],
         "y": [
          -16.6185
         ],
         "z": [
          21.9364
         ]
        },
        {
         "legendgroup": "Thursday",
         "marker": {
          "color": "hsl(154.28571428571428,70%,50%)",
          "opacity": 0.47965,
          "size": 5
         },
         "mode": "markers",
         "name": "Thursday",
         "showlegend": true,
         "type": "scatter3d",
         "x": [
          -28.7213
         ],
         "y": [
          8.3444
         ],
         "z": [
          9.2712
         ]
        },
        {
         "legendgroup": "Friday",
         "marker": {
          "color": "hsl(205.71428571428572,70%,50%)",
          "opacity": 0.47965,
          "size": 5
         },
         "mode": "markers",
         "name": "Friday",
         "showlegend": true,
         "type": "scatter3d",
         "x": [
          -8.351
         ],
         "y": [
          57.5687
         ],
         "z": [
          -28.5657
         ]
        },
        {
         "legendgroup": "Saturday",
         "marker": {
          "color": "hsl(257.14285714285717,70%,50%)",
          "opacity": 0.47965,
          "size": 5
         },
         "mode": "markers",
         "name": "Saturday",
         "showlegend": true,
         "type": "scatter3d",
         "x": [
          37.2715
         ],
         "y": [
          20.3413
         ],
         "z": [
          36.7632
         ]
        },
        {
         "legendgroup": "Sunday",
         "marker": {
          "color": "hsl(308.57142857142856,70%,50%)",
          "opacity": 0.47965,
          "size": 5
         },
         "mode": "markers",
         "name": "Sunday",
         "showlegend": true,
         "type": "scatter3d",
         "x": [
          55.1537
         ],
         "y": [
          -20.2384
         ],
         "z": [
          -12.2586
         ]
        },
        {
         "legendgroup": "Monday",
         "marker": {
          "color": "hsl(0.0,70%,50%)",
          "opacity": 0.46270999999999995,
          "size": 5
         },
         "mode": "markers",
         "name": "Monday",
         "showlegend": false,
         "type": "scatter3d",
         "x": [
          -13.975
         ],
         "y": [
          -28.3967
         ],
         "z": [
          -28.5221
         ]
        },
        {
         "legendgroup": "Tuesday",
         "marker": {
          "color": "hsl(51.42857142857143,70%,50%)",
          "opacity": 0.46270999999999995,
          "size": 5
         },
         "mode": "markers",
         "name": "Tuesday",
         "showlegend": false,
         "type": "scatter3d",
         "x": [
          -32.9256
         ],
         "y": [
          -14.0982
         ],
         "z": [
          24.8471
         ]
        },
        {
         "legendgroup": "Wednesday",
         "marker": {
          "color": "hsl(102.85714285714286,70%,50%)",
          "opacity": 0.46270999999999995,
          "size": 5
         },
         "mode": "markers",
         "name": "Wednesday",
         "showlegend": false,
         "type": "scatter3d",
         "x": [
          -26.2712
         ],
         "y": [
          -5.1338
         ],
         "z": [
          21.6052
         ]
        },
        {
         "legendgroup": "Thursday",
         "marker": {
          "color": "hsl(154.28571428571428,70%,50%)",
          "opacity": 0.46270999999999995,
          "size": 5
         },
         "mode": "markers",
         "name": "Thursday",
         "showlegend": false,
         "type": "scatter3d",
         "x": [
          -25.1376
         ],
         "y": [
          13.6851
         ],
         "z": [
          2.2265
         ]
        },
        {
         "legendgroup": "Friday",
         "marker": {
          "color": "hsl(205.71428571428572,70%,50%)",
          "opacity": 0.46270999999999995,
          "size": 5
         },
         "mode": "markers",
         "name": "Friday",
         "showlegend": false,
         "type": "scatter3d",
         "x": [
          -1.5246
         ],
         "y": [
          41.0048
         ],
         "z": [
          -42.3086
         ]
        },
        {
         "legendgroup": "Saturday",
         "marker": {
          "color": "hsl(257.14285714285717,70%,50%)",
          "opacity": 0.46270999999999995,
          "size": 5
         },
         "mode": "markers",
         "name": "Saturday",
         "showlegend": false,
         "type": "scatter3d",
         "x": [
          46.6757
         ],
         "y": [
          33.0137
         ],
         "z": [
          30.6943
         ]
        },
        {
         "legendgroup": "Sunday",
         "marker": {
          "color": "hsl(308.57142857142856,70%,50%)",
          "opacity": 0.46270999999999995,
          "size": 5
         },
         "mode": "markers",
         "name": "Sunday",
         "showlegend": false,
         "type": "scatter3d",
         "x": [
          53.1583
         ],
         "y": [
          -40.0749
         ],
         "z": [
          -8.5425
         ]
        },
        {
         "legendgroup": "Monday",
         "marker": {
          "color": "hsl(0.0,70%,50%)",
          "opacity": 0.4322600000000001,
          "size": 5
         },
         "mode": "markers",
         "name": "Monday",
         "showlegend": false,
         "type": "scatter3d",
         "x": [
          -10.5008
         ],
         "y": [
          -23.0115
         ],
         "z": [
          -44.5155
         ]
        },
        {
         "legendgroup": "Tuesday",
         "marker": {
          "color": "hsl(51.42857142857143,70%,50%)",
          "opacity": 0.4322600000000001,
          "size": 5
         },
         "mode": "markers",
         "name": "Tuesday",
         "showlegend": false,
         "type": "scatter3d",
         "x": [
          -29.4715
         ],
         "y": [
          -24.9614
         ],
         "z": [
          5.3875
         ]
        },
        {
         "legendgroup": "Wednesday",
         "marker": {
          "color": "hsl(102.85714285714286,70%,50%)",
          "opacity": 0.4322600000000001,
          "size": 5
         },
         "mode": "markers",
         "name": "Wednesday",
         "showlegend": false,
         "type": "scatter3d",
         "x": [
          -30.2616
         ],
         "y": [
          -18.7994
         ],
         "z": [
          29.001
         ]
        },
        {
         "legendgroup": "Thursday",
         "marker": {
          "color": "hsl(154.28571428571428,70%,50%)",
          "opacity": 0.4322600000000001,
          "size": 5
         },
         "mode": "markers",
         "name": "Thursday",
         "showlegend": false,
         "type": "scatter3d",
         "x": [
          -23.5011
         ],
         "y": [
          11.785
         ],
         "z": [
          7.5047
         ]
        },
        {
         "legendgroup": "Friday",
         "marker": {
          "color": "hsl(205.71428571428572,70%,50%)",
          "opacity": 0.4322600000000001,
          "size": 5
         },
         "mode": "markers",
         "name": "Friday",
         "showlegend": false,
         "type": "scatter3d",
         "x": [
          -5.8748
         ],
         "y": [
          63.2979
         ],
         "z": [
          -21.5094
         ]
        },
        {
         "legendgroup": "Saturday",
         "marker": {
          "color": "hsl(257.14285714285717,70%,50%)",
          "opacity": 0.4322600000000001,
          "size": 5
         },
         "mode": "markers",
         "name": "Saturday",
         "showlegend": false,
         "type": "scatter3d",
         "x": [
          38.1009
         ],
         "y": [
          16.498
         ],
         "z": [
          36.9686
         ]
        },
        {
         "legendgroup": "Sunday",
         "marker": {
          "color": "hsl(308.57142857142856,70%,50%)",
          "opacity": 0.4322600000000001,
          "size": 5
         },
         "mode": "markers",
         "name": "Sunday",
         "showlegend": false,
         "type": "scatter3d",
         "x": [
          61.509
         ],
         "y": [
          -24.8086
         ],
         "z": [
          -12.8369
         ]
        },
        {
         "legendgroup": "Monday",
         "marker": {
          "color": "hsl(0.0,70%,50%)",
          "opacity": 0.42721999999999993,
          "size": 5
         },
         "mode": "markers",
         "name": "Monday",
         "showlegend": false,
         "type": "scatter3d",
         "x": [
          -12.6336
         ],
         "y": [
          -27.7989
         ],
         "z": [
          -48.0984
         ]
        },
        {
         "legendgroup": "Tuesday",
         "marker": {
          "color": "hsl(51.42857142857143,70%,50%)",
          "opacity": 0.42721999999999993,
          "size": 5
         },
         "mode": "markers",
         "name": "Tuesday",
         "showlegend": false,
         "type": "scatter3d",
         "x": [
          -34.5246
         ],
         "y": [
          -21.579
         ],
         "z": [
          1.1024
         ]
        },
        {
         "legendgroup": "Wednesday",
         "marker": {
          "color": "hsl(102.85714285714286,70%,50%)",
          "opacity": 0.42721999999999993,
          "size": 5
         },
         "mode": "markers",
         "name": "Wednesday",
         "showlegend": false,
         "type": "scatter3d",
         "x": [
          -33.3354
         ],
         "y": [
          -9.1221
         ],
         "z": [
          25.2249
         ]
        },
        {
         "legendgroup": "Thursday",
         "marker": {
          "color": "hsl(154.28571428571428,70%,50%)",
          "opacity": 0.42721999999999993,
          "size": 5
         },
         "mode": "markers",
         "name": "Thursday",
         "showlegend": false,
         "type": "scatter3d",
         "x": [
          -26.8187
         ],
         "y": [
          22.2527
         ],
         "z": [
          25.6529
         ]
        },
        {
         "legendgroup": "Friday",
         "marker": {
          "color": "hsl(205.71428571428572,70%,50%)",
          "opacity": 0.42721999999999993,
          "size": 5
         },
         "mode": "markers",
         "name": "Friday",
         "showlegend": false,
         "type": "scatter3d",
         "x": [
          7.3392
         ],
         "y": [
          58.4094
         ],
         "z": [
          -27.7898
         ]
        },
        {
         "legendgroup": "Saturday",
         "marker": {
          "color": "hsl(257.14285714285717,70%,50%)",
          "opacity": 0.42721999999999993,
          "size": 5
         },
         "mode": "markers",
         "name": "Saturday",
         "showlegend": false,
         "type": "scatter3d",
         "x": [
          47.0772
         ],
         "y": [
          10.2944
         ],
         "z": [
          17.4293
         ]
        },
        {
         "legendgroup": "Sunday",
         "marker": {
          "color": "hsl(308.57142857142856,70%,50%)",
          "opacity": 0.42721999999999993,
          "size": 5
         },
         "mode": "markers",
         "name": "Sunday",
         "showlegend": false,
         "type": "scatter3d",
         "x": [
          52.8959
         ],
         "y": [
          -32.4565
         ],
         "z": [
          6.4787
         ]
        },
        {
         "legendgroup": "Monday",
         "marker": {
          "color": "hsl(0.0,70%,50%)",
          "opacity": 0.41539,
          "size": 5
         },
         "mode": "markers",
         "name": "Monday",
         "showlegend": false,
         "type": "scatter3d",
         "x": [
          -13.441
         ],
         "y": [
          -24.9096
         ],
         "z": [
          -8.3562
         ]
        },
        {
         "legendgroup": "Tuesday",
         "marker": {
          "color": "hsl(51.42857142857143,70%,50%)",
          "opacity": 0.41539,
          "size": 5
         },
         "mode": "markers",
         "name": "Tuesday",
         "showlegend": false,
         "type": "scatter3d",
         "x": [
          -29.4455
         ],
         "y": [
          -17.3946
         ],
         "z": [
          20.1617
         ]
        },
        {
         "legendgroup": "Wednesday",
         "marker": {
          "color": "hsl(102.85714285714286,70%,50%)",
          "opacity": 0.41539,
          "size": 5
         },
         "mode": "markers",
         "name": "Wednesday",
         "showlegend": false,
         "type": "scatter3d",
         "x": [
          -32.2149
         ],
         "y": [
          -10.2376
         ],
         "z": [
          19.8574
         ]
        },
        {
         "legendgroup": "Thursday",
         "marker": {
          "color": "hsl(154.28571428571428,70%,50%)",
          "opacity": 0.41539,
          "size": 5
         },
         "mode": "markers",
         "name": "Thursday",
         "showlegend": false,
         "type": "scatter3d",
         "x": [
          -28.7631
         ],
         "y": [
          12.7265
         ],
         "z": [
          -8.6898
         ]
        },
        {
         "legendgroup": "Friday",
         "marker": {
          "color": "hsl(205.71428571428572,70%,50%)",
          "opacity": 0.41539,
          "size": 5
         },
         "mode": "markers",
         "name": "Friday",
         "showlegend": false,
         "type": "scatter3d",
         "x": [
          -3.9564
         ],
         "y": [
          46.7328
         ],
         "z": [
          -39.457
         ]
        },
        {
         "legendgroup": "Saturday",
         "marker": {
          "color": "hsl(257.14285714285717,70%,50%)",
          "opacity": 0.41539,
          "size": 5
         },
         "mode": "markers",
         "name": "Saturday",
         "showlegend": false,
         "type": "scatter3d",
         "x": [
          50.8583
         ],
         "y": [
          37.9762
         ],
         "z": [
          36.6888
         ]
        },
        {
         "legendgroup": "Sunday",
         "marker": {
          "color": "hsl(308.57142857142856,70%,50%)",
          "opacity": 0.41539,
          "size": 5
         },
         "mode": "markers",
         "name": "Sunday",
         "showlegend": false,
         "type": "scatter3d",
         "x": [
          56.9626
         ],
         "y": [
          -44.8937
         ],
         "z": [
          -20.2049
         ]
        },
        {
         "legendgroup": "Monday",
         "marker": {
          "color": "hsl(0.0,70%,50%)",
          "opacity": 0.40019999999999994,
          "size": 5
         },
         "mode": "markers",
         "name": "Monday",
         "showlegend": false,
         "type": "scatter3d",
         "x": [
          -15.0626
         ],
         "y": [
          -21.5996
         ],
         "z": [
          -14.1024
         ]
        },
        {
         "legendgroup": "Tuesday",
         "marker": {
          "color": "hsl(51.42857142857143,70%,50%)",
          "opacity": 0.40019999999999994,
          "size": 5
         },
         "mode": "markers",
         "name": "Tuesday",
         "showlegend": false,
         "type": "scatter3d",
         "x": [
          -30.1776
         ],
         "y": [
          -22.9737
         ],
         "z": [
          22.7311
         ]
        },
        {
         "legendgroup": "Wednesday",
         "marker": {
          "color": "hsl(102.85714285714286,70%,50%)",
          "opacity": 0.40019999999999994,
          "size": 5
         },
         "mode": "markers",
         "name": "Wednesday",
         "showlegend": false,
         "type": "scatter3d",
         "x": [
          -32.6871
         ],
         "y": [
          -11.9651
         ],
         "z": [
          16.0884
         ]
        },
        {
         "legendgroup": "Thursday",
         "marker": {
          "color": "hsl(154.28571428571428,70%,50%)",
          "opacity": 0.40019999999999994,
          "size": 5
         },
         "mode": "markers",
         "name": "Thursday",
         "showlegend": false,
         "type": "scatter3d",
         "x": [
          -28.2642
         ],
         "y": [
          11.6007
         ],
         "z": [
          -4.2541
         ]
        },
        {
         "legendgroup": "Friday",
         "marker": {
          "color": "hsl(205.71428571428572,70%,50%)",
          "opacity": 0.40019999999999994,
          "size": 5
         },
         "mode": "markers",
         "name": "Friday",
         "showlegend": false,
         "type": "scatter3d",
         "x": [
          -9.0168
         ],
         "y": [
          50.1499
         ],
         "z": [
          -35.1683
         ]
        },
        {
         "legendgroup": "Saturday",
         "marker": {
          "color": "hsl(257.14285714285717,70%,50%)",
          "opacity": 0.40019999999999994,
          "size": 5
         },
         "mode": "markers",
         "name": "Saturday",
         "showlegend": false,
         "type": "scatter3d",
         "x": [
          53.0481
         ],
         "y": [
          33.5467
         ],
         "z": [
          38.6293
         ]
        },
        {
         "legendgroup": "Sunday",
         "marker": {
          "color": "hsl(308.57142857142856,70%,50%)",
          "opacity": 0.40019999999999994,
          "size": 5
         },
         "mode": "markers",
         "name": "Sunday",
         "showlegend": false,
         "type": "scatter3d",
         "x": [
          62.1602
         ],
         "y": [
          -38.7587
         ],
         "z": [
          -23.924
         ]
        },
        {
         "legendgroup": "Monday",
         "marker": {
          "color": "hsl(0.0,70%,50%)",
          "opacity": 0.39221999999999996,
          "size": 5
         },
         "mode": "markers",
         "name": "Monday",
         "showlegend": false,
         "type": "scatter3d",
         "x": [
          -19.2883
         ],
         "y": [
          -20.0664
         ],
         "z": [
          -22.0111
         ]
        },
        {
         "legendgroup": "Tuesday",
         "marker": {
          "color": "hsl(51.42857142857143,70%,50%)",
          "opacity": 0.39221999999999996,
          "size": 5
         },
         "mode": "markers",
         "name": "Tuesday",
         "showlegend": false,
         "type": "scatter3d",
         "x": [
          -32.5856
         ],
         "y": [
          -21.6339
         ],
         "z": [
          21.197
         ]
        },
        {
         "legendgroup": "Wednesday",
         "marker": {
          "color": "hsl(102.85714285714286,70%,50%)",
          "opacity": 0.39221999999999996,
          "size": 5
         },
         "mode": "markers",
         "name": "Wednesday",
         "showlegend": false,
         "type": "scatter3d",
         "x": [
          -33.4633
         ],
         "y": [
          -10.4245
         ],
         "z": [
          18.3338
         ]
        },
        {
         "legendgroup": "Thursday",
         "marker": {
          "color": "hsl(154.28571428571428,70%,50%)",
          "opacity": 0.39221999999999996,
          "size": 5
         },
         "mode": "markers",
         "name": "Thursday",
         "showlegend": false,
         "type": "scatter3d",
         "x": [
          -27.383
         ],
         "y": [
          12.9687
         ],
         "z": [
          1.5167
         ]
        },
        {
         "legendgroup": "Friday",
         "marker": {
          "color": "hsl(205.71428571428572,70%,50%)",
          "opacity": 0.39221999999999996,
          "size": 5
         },
         "mode": "markers",
         "name": "Friday",
         "showlegend": false,
         "type": "scatter3d",
         "x": [
          -4.2464
         ],
         "y": [
          50.2481
         ],
         "z": [
          -35.1245
         ]
        },
        {
         "legendgroup": "Saturday",
         "marker": {
          "color": "hsl(257.14285714285717,70%,50%)",
          "opacity": 0.39221999999999996,
          "size": 5
         },
         "mode": "markers",
         "name": "Saturday",
         "showlegend": false,
         "type": "scatter3d",
         "x": [
          55.443
         ],
         "y": [
          31.2333
         ],
         "z": [
          35.8111
         ]
        },
        {
         "legendgroup": "Sunday",
         "marker": {
          "color": "hsl(308.57142857142856,70%,50%)",
          "opacity": 0.39221999999999996,
          "size": 5
         },
         "mode": "markers",
         "name": "Sunday",
         "showlegend": false,
         "type": "scatter3d",
         "x": [
          61.5236
         ],
         "y": [
          -42.3254
         ],
         "z": [
          -19.723
         ]
        },
        {
         "legendgroup": "Monday",
         "marker": {
          "color": "hsl(0.0,70%,50%)",
          "opacity": 0.38444999999999996,
          "size": 5
         },
         "mode": "markers",
         "name": "Monday",
         "showlegend": false,
         "type": "scatter3d",
         "x": [
          -19.2271
         ],
         "y": [
          -24.8836
         ],
         "z": [
          -43.8255
         ]
        },
        {
         "legendgroup": "Tuesday",
         "marker": {
          "color": "hsl(51.42857142857143,70%,50%)",
          "opacity": 0.38444999999999996,
          "size": 5
         },
         "mode": "markers",
         "name": "Tuesday",
         "showlegend": false,
         "type": "scatter3d",
         "x": [
          -34.076
         ],
         "y": [
          -20.3682
         ],
         "z": [
          15.503
         ]
        },
        {
         "legendgroup": "Wednesday",
         "marker": {
          "color": "hsl(102.85714285714286,70%,50%)",
          "opacity": 0.38444999999999996,
          "size": 5
         },
         "mode": "markers",
         "name": "Wednesday",
         "showlegend": false,
         "type": "scatter3d",
         "x": [
          -36.3974
         ],
         "y": [
          -8.5204
         ],
         "z": [
          22.4271
         ]
        },
        {
         "legendgroup": "Thursday",
         "marker": {
          "color": "hsl(154.28571428571428,70%,50%)",
          "opacity": 0.38444999999999996,
          "size": 5
         },
         "mode": "markers",
         "name": "Thursday",
         "showlegend": false,
         "type": "scatter3d",
         "x": [
          -27.6172
         ],
         "y": [
          16.8196
         ],
         "z": [
          18.5437
         ]
        },
        {
         "legendgroup": "Friday",
         "marker": {
          "color": "hsl(205.71428571428572,70%,50%)",
          "opacity": 0.38444999999999996,
          "size": 5
         },
         "mode": "markers",
         "name": "Friday",
         "showlegend": false,
         "type": "scatter3d",
         "x": [
          -1.7568
         ],
         "y": [
          47.3887
         ],
         "z": [
          -30.1315
         ]
        },
        {
         "legendgroup": "Saturday",
         "marker": {
          "color": "hsl(257.14285714285717,70%,50%)",
          "opacity": 0.38444999999999996,
          "size": 5
         },
         "mode": "markers",
         "name": "Saturday",
         "showlegend": false,
         "type": "scatter3d",
         "x": [
          55.0583
         ],
         "y": [
          29.7825
         ],
         "z": [
          17.6492
         ]
        },
        {
         "legendgroup": "Sunday",
         "marker": {
          "color": "hsl(308.57142857142856,70%,50%)",
          "opacity": 0.38444999999999996,
          "size": 5
         },
         "mode": "markers",
         "name": "Sunday",
         "showlegend": false,
         "type": "scatter3d",
         "x": [
          64.0162
         ],
         "y": [
          -40.2186
         ],
         "z": [
          -0.1659
         ]
        },
        {
         "legendgroup": "Monday",
         "marker": {
          "color": "hsl(0.0,70%,50%)",
          "opacity": 0.36779,
          "size": 5
         },
         "mode": "markers",
         "name": "Monday",
         "showlegend": false,
         "type": "scatter3d",
         "x": [
          -19.0869
         ],
         "y": [
          -27.8721
         ],
         "z": [
          -43.4475
         ]
        },
        {
         "legendgroup": "Tuesday",
         "marker": {
          "color": "hsl(51.42857142857143,70%,50%)",
          "opacity": 0.36779,
          "size": 5
         },
         "mode": "markers",
         "name": "Tuesday",
         "showlegend": false,
         "type": "scatter3d",
         "x": [
          -32.6105
         ],
         "y": [
          -22.7556
         ],
         "z": [
          13.0429
         ]
        },
        {
         "legendgroup": "Wednesday",
         "marker": {
          "color": "hsl(102.85714285714286,70%,50%)",
          "opacity": 0.36779,
          "size": 5
         },
         "mode": "markers",
         "name": "Wednesday",
         "showlegend": false,
         "type": "scatter3d",
         "x": [
          -35.146
         ],
         "y": [
          -10.6948
         ],
         "z": [
          23.709
         ]
        },
        {
         "legendgroup": "Thursday",
         "marker": {
          "color": "hsl(154.28571428571428,70%,50%)",
          "opacity": 0.36779,
          "size": 5
         },
         "mode": "markers",
         "name": "Thursday",
         "showlegend": false,
         "type": "scatter3d",
         "x": [
          -30.213
         ],
         "y": [
          17.5835
         ],
         "z": [
          21.3779
         ]
        },
        {
         "legendgroup": "Friday",
         "marker": {
          "color": "hsl(205.71428571428572,70%,50%)",
          "opacity": 0.36779,
          "size": 5
         },
         "mode": "markers",
         "name": "Friday",
         "showlegend": false,
         "type": "scatter3d",
         "x": [
          -7.4181
         ],
         "y": [
          46.1505
         ],
         "z": [
          -30.0344
         ]
        },
        {
         "legendgroup": "Saturday",
         "marker": {
          "color": "hsl(257.14285714285717,70%,50%)",
          "opacity": 0.36779,
          "size": 5
         },
         "mode": "markers",
         "name": "Saturday",
         "showlegend": false,
         "type": "scatter3d",
         "x": [
          52.8746
         ],
         "y": [
          32.2391
         ],
         "z": [
          13.1792
         ]
        },
        {
         "legendgroup": "Sunday",
         "marker": {
          "color": "hsl(308.57142857142856,70%,50%)",
          "opacity": 0.36779,
          "size": 5
         },
         "mode": "markers",
         "name": "Sunday",
         "showlegend": false,
         "type": "scatter3d",
         "x": [
          71.5999
         ],
         "y": [
          -34.6505
         ],
         "z": [
          2.1729
         ]
        },
        {
         "legendgroup": "Monday",
         "marker": {
          "color": "hsl(0.0,70%,50%)",
          "opacity": 0.3722,
          "size": 5
         },
         "mode": "markers",
         "name": "Monday",
         "showlegend": false,
         "type": "scatter3d",
         "x": [
          -18.5541
         ],
         "y": [
          -31.1292
         ],
         "z": [
          -35.0809
         ]
        },
        {
         "legendgroup": "Tuesday",
         "marker": {
          "color": "hsl(51.42857142857143,70%,50%)",
          "opacity": 0.3722,
          "size": 5
         },
         "mode": "markers",
         "name": "Tuesday",
         "showlegend": false,
         "type": "scatter3d",
         "x": [
          -31.4352
         ],
         "y": [
          -20.5942
         ],
         "z": [
          17.6557
         ]
        },
        {
         "legendgroup": "Wednesday",
         "marker": {
          "color": "hsl(102.85714285714286,70%,50%)",
          "opacity": 0.3722,
          "size": 5
         },
         "mode": "markers",
         "name": "Wednesday",
         "showlegend": false,
         "type": "scatter3d",
         "x": [
          -33.9412
         ],
         "y": [
          -7.1201
         ],
         "z": [
          24.8208
         ]
        },
        {
         "legendgroup": "Thursday",
         "marker": {
          "color": "hsl(154.28571428571428,70%,50%)",
          "opacity": 0.3722,
          "size": 5
         },
         "mode": "markers",
         "name": "Thursday",
         "showlegend": false,
         "type": "scatter3d",
         "x": [
          -30.1877
         ],
         "y": [
          16.9786
         ],
         "z": [
          15.4884
         ]
        },
        {
         "legendgroup": "Friday",
         "marker": {
          "color": "hsl(205.71428571428572,70%,50%)",
          "opacity": 0.3722,
          "size": 5
         },
         "mode": "markers",
         "name": "Friday",
         "showlegend": false,
         "type": "scatter3d",
         "x": [
          -9.2333
         ],
         "y": [
          40.8771
         ],
         "z": [
          -39.817
         ]
        },
        {
         "legendgroup": "Saturday",
         "marker": {
          "color": "hsl(257.14285714285717,70%,50%)",
          "opacity": 0.3722,
          "size": 5
         },
         "mode": "markers",
         "name": "Saturday",
         "showlegend": false,
         "type": "scatter3d",
         "x": [
          52.821
         ],
         "y": [
          36.4959
         ],
         "z": [
          19.6404
         ]
        },
        {
         "legendgroup": "Sunday",
         "marker": {
          "color": "hsl(308.57142857142856,70%,50%)",
          "opacity": 0.3722,
          "size": 5
         },
         "mode": "markers",
         "name": "Sunday",
         "showlegend": false,
         "type": "scatter3d",
         "x": [
          70.5305
         ],
         "y": [
          -35.508
         ],
         "z": [
          -2.7073
         ]
        },
        {
         "legendgroup": "Monday",
         "marker": {
          "color": "hsl(0.0,70%,50%)",
          "opacity": 0.37136,
          "size": 5
         },
         "mode": "markers",
         "name": "Monday",
         "showlegend": false,
         "type": "scatter3d",
         "x": [
          -17.6466
         ],
         "y": [
          -27.525
         ],
         "z": [
          -36.304
         ]
        },
        {
         "legendgroup": "Tuesday",
         "marker": {
          "color": "hsl(51.42857142857143,70%,50%)",
          "opacity": 0.37136,
          "size": 5
         },
         "mode": "markers",
         "name": "Tuesday",
         "showlegend": false,
         "type": "scatter3d",
         "x": [
          -31.0388
         ],
         "y": [
          -21.7118
         ],
         "z": [
          14.6382
         ]
        },
        {
         "legendgroup": "Wednesday",
         "marker": {
          "color": "hsl(102.85714285714286,70%,50%)",
          "opacity": 0.37136,
          "size": 5
         },
         "mode": "markers",
         "name": "Wednesday",
         "showlegend": false,
         "type": "scatter3d",
         "x": [
          -33.8102
         ],
         "y": [
          -9.0359
         ],
         "z": [
          25.5331
         ]
        },
        {
         "legendgroup": "Thursday",
         "marker": {
          "color": "hsl(154.28571428571428,70%,50%)",
          "opacity": 0.37136,
          "size": 5
         },
         "mode": "markers",
         "name": "Thursday",
         "showlegend": false,
         "type": "scatter3d",
         "x": [
          -30.6615
         ],
         "y": [
          15.2366
         ],
         "z": [
          18.1072
         ]
        },
        {
         "legendgroup": "Friday",
         "marker": {
          "color": "hsl(205.71428571428572,70%,50%)",
          "opacity": 0.37136,
          "size": 5
         },
         "mode": "markers",
         "name": "Friday",
         "showlegend": false,
         "type": "scatter3d",
         "x": [
          -9.7989
         ],
         "y": [
          41.5706
         ],
         "z": [
          -39.4711
         ]
        },
        {
         "legendgroup": "Saturday",
         "marker": {
          "color": "hsl(257.14285714285717,70%,50%)",
          "opacity": 0.37136,
          "size": 5
         },
         "mode": "markers",
         "name": "Saturday",
         "showlegend": false,
         "type": "scatter3d",
         "x": [
          52.1539
         ],
         "y": [
          37.2356
         ],
         "z": [
          21.0951
         ]
        },
        {
         "legendgroup": "Sunday",
         "marker": {
          "color": "hsl(308.57142857142856,70%,50%)",
          "opacity": 0.37136,
          "size": 5
         },
         "mode": "markers",
         "name": "Sunday",
         "showlegend": false,
         "type": "scatter3d",
         "x": [
          70.802
         ],
         "y": [
          -35.7701
         ],
         "z": [
          -3.5985
         ]
        },
        {
         "legendgroup": "Monday",
         "marker": {
          "color": "hsl(0.0,70%,50%)",
          "opacity": 0.3714299999999999,
          "size": 5
         },
         "mode": "markers",
         "name": "Monday",
         "showlegend": false,
         "type": "scatter3d",
         "x": [
          -17.9491
         ],
         "y": [
          -35.569
         ],
         "z": [
          -34.0389
         ]
        },
        {
         "legendgroup": "Tuesday",
         "marker": {
          "color": "hsl(51.42857142857143,70%,50%)",
          "opacity": 0.3714299999999999,
          "size": 5
         },
         "mode": "markers",
         "name": "Tuesday",
         "showlegend": false,
         "type": "scatter3d",
         "x": [
          -30.9915
         ],
         "y": [
          -18.7669
         ],
         "z": [
          18.2638
         ]
        },
        {
         "legendgroup": "Wednesday",
         "marker": {
          "color": "hsl(102.85714285714286,70%,50%)",
          "opacity": 0.3714299999999999,
          "size": 5
         },
         "mode": "markers",
         "name": "Wednesday",
         "showlegend": false,
         "type": "scatter3d",
         "x": [
          -34.4319
         ],
         "y": [
          -4.7179
         ],
         "z": [
          27.1938
         ]
        },
        {
         "legendgroup": "Thursday",
         "marker": {
          "color": "hsl(154.28571428571428,70%,50%)",
          "opacity": 0.3714299999999999,
          "size": 5
         },
         "mode": "markers",
         "name": "Thursday",
         "showlegend": false,
         "type": "scatter3d",
         "x": [
          -30.3785
         ],
         "y": [
          20.2582
         ],
         "z": [
          15.0404
         ]
        },
        {
         "legendgroup": "Friday",
         "marker": {
          "color": "hsl(205.71428571428572,70%,50%)",
          "opacity": 0.3714299999999999,
          "size": 5
         },
         "mode": "markers",
         "name": "Friday",
         "showlegend": false,
         "type": "scatter3d",
         "x": [
          -8.7918
         ],
         "y": [
          36.7168
         ],
         "z": [
          -44.2695
         ]
        },
        {
         "legendgroup": "Saturday",
         "marker": {
          "color": "hsl(257.14285714285717,70%,50%)",
          "opacity": 0.3714299999999999,
          "size": 5
         },
         "mode": "markers",
         "name": "Saturday",
         "showlegend": false,
         "type": "scatter3d",
         "x": [
          53.0764
         ],
         "y": [
          35.9165
         ],
         "z": [
          16.97
         ]
        },
        {
         "legendgroup": "Sunday",
         "marker": {
          "color": "hsl(308.57142857142856,70%,50%)",
          "opacity": 0.3714299999999999,
          "size": 5
         },
         "mode": "markers",
         "name": "Sunday",
         "showlegend": false,
         "type": "scatter3d",
         "x": [
          69.4664
         ],
         "y": [
          -33.8377
         ],
         "z": [
          0.8404
         ]
        },
        {
         "legendgroup": "Monday",
         "marker": {
          "color": "hsl(0.0,70%,50%)",
          "opacity": 0.37157000000000007,
          "size": 5
         },
         "mode": "markers",
         "name": "Monday",
         "showlegend": false,
         "type": "scatter3d",
         "x": [
          -17.8176
         ],
         "y": [
          -44.3651
         ],
         "z": [
          -31.1042
         ]
        },
        {
         "legendgroup": "Tuesday",
         "marker": {
          "color": "hsl(51.42857142857143,70%,50%)",
          "opacity": 0.37157000000000007,
          "size": 5
         },
         "mode": "markers",
         "name": "Tuesday",
         "showlegend": false,
         "type": "scatter3d",
         "x": [
          -30.109
         ],
         "y": [
          -17.441
         ],
         "z": [
          21.5897
         ]
        },
        {
         "legendgroup": "Wednesday",
         "marker": {
          "color": "hsl(102.85714285714286,70%,50%)",
          "opacity": 0.37157000000000007,
          "size": 5
         },
         "mode": "markers",
         "name": "Wednesday",
         "showlegend": false,
         "type": "scatter3d",
         "x": [
          -32.9598
         ],
         "y": [
          0.8608
         ],
         "z": [
          28.0812
         ]
        },
        {
         "legendgroup": "Thursday",
         "marker": {
          "color": "hsl(154.28571428571428,70%,50%)",
          "opacity": 0.37157000000000007,
          "size": 5
         },
         "mode": "markers",
         "name": "Thursday",
         "showlegend": false,
         "type": "scatter3d",
         "x": [
          -30.9466
         ],
         "y": [
          24.1612
         ],
         "z": [
          12.1532
         ]
        },
        {
         "legendgroup": "Friday",
         "marker": {
          "color": "hsl(205.71428571428572,70%,50%)",
          "opacity": 0.37157000000000007,
          "size": 5
         },
         "mode": "markers",
         "name": "Friday",
         "showlegend": false,
         "type": "scatter3d",
         "x": [
          -9.174
         ],
         "y": [
          32.2701
         ],
         "z": [
          -47.3021
         ]
        },
        {
         "legendgroup": "Saturday",
         "marker": {
          "color": "hsl(257.14285714285717,70%,50%)",
          "opacity": 0.37157000000000007,
          "size": 5
         },
         "mode": "markers",
         "name": "Saturday",
         "showlegend": false,
         "type": "scatter3d",
         "x": [
          52.6815
         ],
         "y": [
          35.2796
         ],
         "z": [
          10.832
         ]
        },
        {
         "legendgroup": "Sunday",
         "marker": {
          "color": "hsl(308.57142857142856,70%,50%)",
          "opacity": 0.37157000000000007,
          "size": 5
         },
         "mode": "markers",
         "name": "Sunday",
         "showlegend": false,
         "type": "scatter3d",
         "x": [
          68.3255
         ],
         "y": [
          -30.7656
         ],
         "z": [
          5.7503
         ]
        },
        {
         "legendgroup": "Monday",
         "marker": {
          "color": "hsl(0.0,70%,50%)",
          "opacity": 0.36296,
          "size": 5
         },
         "mode": "markers",
         "name": "Monday",
         "showlegend": false,
         "type": "scatter3d",
         "x": [
          -13.4621
         ],
         "y": [
          -43.4538
         ],
         "z": [
          -33.8944
         ]
        },
        {
         "legendgroup": "Tuesday",
         "marker": {
          "color": "hsl(51.42857142857143,70%,50%)",
          "opacity": 0.36296,
          "size": 5
         },
         "mode": "markers",
         "name": "Tuesday",
         "showlegend": false,
         "type": "scatter3d",
         "x": [
          -29.1562
         ],
         "y": [
          -16.8273
         ],
         "z": [
          21.4378
         ]
        },
        {
         "legendgroup": "Wednesday",
         "marker": {
          "color": "hsl(102.85714285714286,70%,50%)",
          "opacity": 0.36296,
          "size": 5
         },
         "mode": "markers",
         "name": "Wednesday",
         "showlegend": false,
         "type": "scatter3d",
         "x": [
          -31.9525
         ],
         "y": [
          -3.336
         ],
         "z": [
          27.8258
         ]
        },
        {
         "legendgroup": "Thursday",
         "marker": {
          "color": "hsl(154.28571428571428,70%,50%)",
          "opacity": 0.36296,
          "size": 5
         },
         "mode": "markers",
         "name": "Thursday",
         "showlegend": false,
         "type": "scatter3d",
         "x": [
          -31.7183
         ],
         "y": [
          17.1964
         ],
         "z": [
          13.9142
         ]
        },
        {
         "legendgroup": "Friday",
         "marker": {
          "color": "hsl(205.71428571428572,70%,50%)",
          "opacity": 0.36296,
          "size": 5
         },
         "mode": "markers",
         "name": "Friday",
         "showlegend": false,
         "type": "scatter3d",
         "x": [
          -13.4425
         ],
         "y": [
          27.6124
         ],
         "z": [
          -43.1015
         ]
        },
        {
         "legendgroup": "Saturday",
         "marker": {
          "color": "hsl(257.14285714285717,70%,50%)",
          "opacity": 0.36296,
          "size": 5
         },
         "mode": "markers",
         "name": "Saturday",
         "showlegend": false,
         "type": "scatter3d",
         "x": [
          41.8452
         ],
         "y": [
          48.0142
         ],
         "z": [
          4.3403
         ]
        },
        {
         "legendgroup": "Sunday",
         "marker": {
          "color": "hsl(308.57142857142856,70%,50%)",
          "opacity": 0.36296,
          "size": 5
         },
         "mode": "markers",
         "name": "Sunday",
         "showlegend": false,
         "type": "scatter3d",
         "x": [
          77.8864
         ],
         "y": [
          -29.2058
         ],
         "z": [
          9.4777
         ]
        },
        {
         "legendgroup": "Monday",
         "marker": {
          "color": "hsl(0.0,70%,50%)",
          "opacity": 0.33726999999999996,
          "size": 5
         },
         "mode": "markers",
         "name": "Monday",
         "showlegend": false,
         "type": "scatter3d",
         "x": [
          -17.3023
         ],
         "y": [
          -29.1308
         ],
         "z": [
          -42.0167
         ]
        },
        {
         "legendgroup": "Tuesday",
         "marker": {
          "color": "hsl(51.42857142857143,70%,50%)",
          "opacity": 0.33726999999999996,
          "size": 5
         },
         "mode": "markers",
         "name": "Tuesday",
         "showlegend": false,
         "type": "scatter3d",
         "x": [
          -35.6447
         ],
         "y": [
          -21.2147
         ],
         "z": [
          15.0139
         ]
        },
        {
         "legendgroup": "Wednesday",
         "marker": {
          "color": "hsl(102.85714285714286,70%,50%)",
          "opacity": 0.33726999999999996,
          "size": 5
         },
         "mode": "markers",
         "name": "Wednesday",
         "showlegend": false,
         "type": "scatter3d",
         "x": [
          -37.5443
         ],
         "y": [
          -7.6368
         ],
         "z": [
          21.8388
         ]
        },
        {
         "legendgroup": "Thursday",
         "marker": {
          "color": "hsl(154.28571428571428,70%,50%)",
          "opacity": 0.33726999999999996,
          "size": 5
         },
         "mode": "markers",
         "name": "Thursday",
         "showlegend": false,
         "type": "scatter3d",
         "x": [
          -31.5482
         ],
         "y": [
          17.2817
         ],
         "z": [
          18.0795
         ]
        },
        {
         "legendgroup": "Friday",
         "marker": {
          "color": "hsl(205.71428571428572,70%,50%)",
          "opacity": 0.33726999999999996,
          "size": 5
         },
         "mode": "markers",
         "name": "Friday",
         "showlegend": false,
         "type": "scatter3d",
         "x": [
          -3.2829
         ],
         "y": [
          47.3276
         ],
         "z": [
          -31.4674
         ]
        },
        {
         "legendgroup": "Saturday",
         "marker": {
          "color": "hsl(257.14285714285717,70%,50%)",
          "opacity": 0.33726999999999996,
          "size": 5
         },
         "mode": "markers",
         "name": "Saturday",
         "showlegend": false,
         "type": "scatter3d",
         "x": [
          57.2723
         ],
         "y": [
          36.6853
         ],
         "z": [
          15.5214
         ]
        },
        {
         "legendgroup": "Sunday",
         "marker": {
          "color": "hsl(308.57142857142856,70%,50%)",
          "opacity": 0.33726999999999996,
          "size": 5
         },
         "mode": "markers",
         "name": "Sunday",
         "showlegend": false,
         "type": "scatter3d",
         "x": [
          68.0501
         ],
         "y": [
          -43.3123
         ],
         "z": [
          3.0306
         ]
        },
        {
         "legendgroup": "Monday",
         "marker": {
          "color": "hsl(0.0,70%,50%)",
          "opacity": 0.354,
          "size": 5
         },
         "mode": "markers",
         "name": "Monday",
         "showlegend": false,
         "type": "scatter3d",
         "x": [
          -17.0793
         ],
         "y": [
          -33.3547
         ],
         "z": [
          -42.0225
         ]
        },
        {
         "legendgroup": "Tuesday",
         "marker": {
          "color": "hsl(51.42857142857143,70%,50%)",
          "opacity": 0.354,
          "size": 5
         },
         "mode": "markers",
         "name": "Tuesday",
         "showlegend": false,
         "type": "scatter3d",
         "x": [
          -35.379
         ],
         "y": [
          -20.8392
         ],
         "z": [
          19.2313
         ]
        },
        {
         "legendgroup": "Wednesday",
         "marker": {
          "color": "hsl(102.85714285714286,70%,50%)",
          "opacity": 0.354,
          "size": 5
         },
         "mode": "markers",
         "name": "Wednesday",
         "showlegend": false,
         "type": "scatter3d",
         "x": [
          -36.6371
         ],
         "y": [
          -5.095
         ],
         "z": [
          21.9681
         ]
        },
        {
         "legendgroup": "Thursday",
         "marker": {
          "color": "hsl(154.28571428571428,70%,50%)",
          "opacity": 0.354,
          "size": 5
         },
         "mode": "markers",
         "name": "Thursday",
         "showlegend": false,
         "type": "scatter3d",
         "x": [
          -29.8714
         ],
         "y": [
          19.9761
         ],
         "z": [
          14.4474
         ]
        },
        {
         "legendgroup": "Friday",
         "marker": {
          "color": "hsl(205.71428571428572,70%,50%)",
          "opacity": 0.354,
          "size": 5
         },
         "mode": "markers",
         "name": "Friday",
         "showlegend": false,
         "type": "scatter3d",
         "x": [
          -1.9191
         ],
         "y": [
          45.3927
         ],
         "z": [
          -33.3836
         ]
        },
        {
         "legendgroup": "Saturday",
         "marker": {
          "color": "hsl(257.14285714285717,70%,50%)",
          "opacity": 0.354,
          "size": 5
         },
         "mode": "markers",
         "name": "Saturday",
         "showlegend": false,
         "type": "scatter3d",
         "x": [
          54.7021
         ],
         "y": [
          35.4818
         ],
         "z": [
          15.044
         ]
        },
        {
         "legendgroup": "Sunday",
         "marker": {
          "color": "hsl(308.57142857142856,70%,50%)",
          "opacity": 0.354,
          "size": 5
         },
         "mode": "markers",
         "name": "Sunday",
         "showlegend": false,
         "type": "scatter3d",
         "x": [
          66.1838
         ],
         "y": [
          -41.5617
         ],
         "z": [
          4.7153
         ]
        },
        {
         "legendgroup": "Monday",
         "marker": {
          "color": "hsl(0.0,70%,50%)",
          "opacity": 0.36113999999999996,
          "size": 5
         },
         "mode": "markers",
         "name": "Monday",
         "showlegend": false,
         "type": "scatter3d",
         "x": [
          -18.9093
         ],
         "y": [
          -44.439
         ],
         "z": [
          -40.4702
         ]
        },
        {
         "legendgroup": "Tuesday",
         "marker": {
          "color": "hsl(51.42857142857143,70%,50%)",
          "opacity": 0.36113999999999996,
          "size": 5
         },
         "mode": "markers",
         "name": "Tuesday",
         "showlegend": false,
         "type": "scatter3d",
         "x": [
          -37.08
         ],
         "y": [
          -22.4802
         ],
         "z": [
          9.981
         ]
        },
        {
         "legendgroup": "Wednesday",
         "marker": {
          "color": "hsl(102.85714285714286,70%,50%)",
          "opacity": 0.36113999999999996,
          "size": 5
         },
         "mode": "markers",
         "name": "Wednesday",
         "showlegend": false,
         "type": "scatter3d",
         "x": [
          -35.5219
         ],
         "y": [
          3.9704
         ],
         "z": [
          26.7121
         ]
        },
        {
         "legendgroup": "Thursday",
         "marker": {
          "color": "hsl(154.28571428571428,70%,50%)",
          "opacity": 0.36113999999999996,
          "size": 5
         },
         "mode": "markers",
         "name": "Thursday",
         "showlegend": false,
         "type": "scatter3d",
         "x": [
          -25.3535
         ],
         "y": [
          30.3777
         ],
         "z": [
          16.5757
         ]
        },
        {
         "legendgroup": "Friday",
         "marker": {
          "color": "hsl(205.71428571428572,70%,50%)",
          "opacity": 0.36113999999999996,
          "size": 5
         },
         "mode": "markers",
         "name": "Friday",
         "showlegend": false,
         "type": "scatter3d",
         "x": [
          5.0412
         ],
         "y": [
          49.8366
         ],
         "z": [
          -33.0412
         ]
        },
        {
         "legendgroup": "Saturday",
         "marker": {
          "color": "hsl(257.14285714285717,70%,50%)",
          "opacity": 0.36113999999999996,
          "size": 5
         },
         "mode": "markers",
         "name": "Saturday",
         "showlegend": false,
         "type": "scatter3d",
         "x": [
          55.1476
         ],
         "y": [
          23.1314
         ],
         "z": [
          4.419
         ]
        },
        {
         "legendgroup": "Sunday",
         "marker": {
          "color": "hsl(308.57142857142856,70%,50%)",
          "opacity": 0.36113999999999996,
          "size": 5
         },
         "mode": "markers",
         "name": "Sunday",
         "showlegend": false,
         "type": "scatter3d",
         "x": [
          56.6759
         ],
         "y": [
          -40.3969
         ],
         "z": [
          15.8236
         ]
        },
        {
         "legendgroup": "Monday",
         "marker": {
          "color": "hsl(0.0,70%,50%)",
          "opacity": 0.38858,
          "size": 5
         },
         "mode": "markers",
         "name": "Monday",
         "showlegend": false,
         "type": "scatter3d",
         "x": [
          -14.2539
         ],
         "y": [
          -41.6368
         ],
         "z": [
          -15.2916
         ]
        },
        {
         "legendgroup": "Tuesday",
         "marker": {
          "color": "hsl(51.42857142857143,70%,50%)",
          "opacity": 0.38858,
          "size": 5
         },
         "mode": "markers",
         "name": "Tuesday",
         "showlegend": false,
         "type": "scatter3d",
         "x": [
          -34.792
         ],
         "y": [
          -22.6686
         ],
         "z": [
          24.2615
         ]
        },
        {
         "legendgroup": "Wednesday",
         "marker": {
          "color": "hsl(102.85714285714286,70%,50%)",
          "opacity": 0.38858,
          "size": 5
         },
         "mode": "markers",
         "name": "Wednesday",
         "showlegend": false,
         "type": "scatter3d",
         "x": [
          -30.7846
         ],
         "y": [
          -0.8991
         ],
         "z": [
          13.9625
         ]
        },
        {
         "legendgroup": "Thursday",
         "marker": {
          "color": "hsl(154.28571428571428,70%,50%)",
          "opacity": 0.38858,
          "size": 5
         },
         "mode": "markers",
         "name": "Thursday",
         "showlegend": false,
         "type": "scatter3d",
         "x": [
          -28.5919
         ],
         "y": [
          23.1789
         ],
         "z": [
          -3.9219
         ]
        },
        {
         "legendgroup": "Friday",
         "marker": {
          "color": "hsl(205.71428571428572,70%,50%)",
          "opacity": 0.38858,
          "size": 5
         },
         "mode": "markers",
         "name": "Friday",
         "showlegend": false,
         "type": "scatter3d",
         "x": [
          -2.9289
         ],
         "y": [
          44.3089
         ],
         "z": [
          -40.0894
         ]
        },
        {
         "legendgroup": "Saturday",
         "marker": {
          "color": "hsl(257.14285714285717,70%,50%)",
          "opacity": 0.38858,
          "size": 5
         },
         "mode": "markers",
         "name": "Saturday",
         "showlegend": false,
         "type": "scatter3d",
         "x": [
          48.8325
         ],
         "y": [
          34.6761
         ],
         "z": [
          35.9057
         ]
        },
        {
         "legendgroup": "Sunday",
         "marker": {
          "color": "hsl(308.57142857142856,70%,50%)",
          "opacity": 0.38858,
          "size": 5
         },
         "mode": "markers",
         "name": "Sunday",
         "showlegend": false,
         "type": "scatter3d",
         "x": [
          62.5188
         ],
         "y": [
          -36.9595
         ],
         "z": [
          -14.8268
         ]
        },
        {
         "legendgroup": "Monday",
         "marker": {
          "color": "hsl(0.0,70%,50%)",
          "opacity": 0.42596,
          "size": 5
         },
         "mode": "markers",
         "name": "Monday",
         "showlegend": false,
         "type": "scatter3d",
         "x": [
          -13.6443
         ],
         "y": [
          -33.6632
         ],
         "z": [
          -1.8227
         ]
        },
        {
         "legendgroup": "Tuesday",
         "marker": {
          "color": "hsl(51.42857142857143,70%,50%)",
          "opacity": 0.42596,
          "size": 5
         },
         "mode": "markers",
         "name": "Tuesday",
         "showlegend": false,
         "type": "scatter3d",
         "x": [
          -27.1852
         ],
         "y": [
          -18.8616
         ],
         "z": [
          25.3095
         ]
        },
        {
         "legendgroup": "Wednesday",
         "marker": {
          "color": "hsl(102.85714285714286,70%,50%)",
          "opacity": 0.42596,
          "size": 5
         },
         "mode": "markers",
         "name": "Wednesday",
         "showlegend": false,
         "type": "scatter3d",
         "x": [
          -24.1976
         ],
         "y": [
          -3.8583
         ],
         "z": [
          16.8128
         ]
        },
        {
         "legendgroup": "Thursday",
         "marker": {
          "color": "hsl(154.28571428571428,70%,50%)",
          "opacity": 0.42596,
          "size": 5
         },
         "mode": "markers",
         "name": "Thursday",
         "showlegend": false,
         "type": "scatter3d",
         "x": [
          -29.6951
         ],
         "y": [
          21.9263
         ],
         "z": [
          -1.3399
         ]
        },
        {
         "legendgroup": "Friday",
         "marker": {
          "color": "hsl(205.71428571428572,70%,50%)",
          "opacity": 0.42596,
          "size": 5
         },
         "mode": "markers",
         "name": "Friday",
         "showlegend": false,
         "type": "scatter3d",
         "x": [
          -10.6072
         ],
         "y": [
          36.2061
         ],
         "z": [
          -48.0211
         ]
        },
        {
         "legendgroup": "Saturday",
         "marker": {
          "color": "hsl(257.14285714285717,70%,50%)",
          "opacity": 0.42596,
          "size": 5
         },
         "mode": "markers",
         "name": "Saturday",
         "showlegend": false,
         "type": "scatter3d",
         "x": [
          53.4379
         ],
         "y": [
          39.119
         ],
         "z": [
          32.7458
         ]
        },
        {
         "legendgroup": "Sunday",
         "marker": {
          "color": "hsl(308.57142857142856,70%,50%)",
          "opacity": 0.42596,
          "size": 5
         },
         "mode": "markers",
         "name": "Sunday",
         "showlegend": false,
         "type": "scatter3d",
         "x": [
          51.8915
         ],
         "y": [
          -40.8683
         ],
         "z": [
          -23.6844
         ]
        },
        {
         "legendgroup": "Monday",
         "marker": {
          "color": "hsl(0.0,70%,50%)",
          "opacity": 0.4295300000000001,
          "size": 5
         },
         "mode": "markers",
         "name": "Monday",
         "showlegend": false,
         "type": "scatter3d",
         "x": [
          -7.4621
         ],
         "y": [
          -34.9627
         ],
         "z": [
          -8.2378
         ]
        },
        {
         "legendgroup": "Tuesday",
         "marker": {
          "color": "hsl(51.42857142857143,70%,50%)",
          "opacity": 0.4295300000000001,
          "size": 5
         },
         "mode": "markers",
         "name": "Tuesday",
         "showlegend": false,
         "type": "scatter3d",
         "x": [
          -24.0817
         ],
         "y": [
          -20.6673
         ],
         "z": [
          22.9495
         ]
        },
        {
         "legendgroup": "Wednesday",
         "marker": {
          "color": "hsl(102.85714285714286,70%,50%)",
          "opacity": 0.4295300000000001,
          "size": 5
         },
         "mode": "markers",
         "name": "Wednesday",
         "showlegend": false,
         "type": "scatter3d",
         "x": [
          -25.6717
         ],
         "y": [
          -5.9869
         ],
         "z": [
          19.1409
         ]
        },
        {
         "legendgroup": "Thursday",
         "marker": {
          "color": "hsl(154.28571428571428,70%,50%)",
          "opacity": 0.4295300000000001,
          "size": 5
         },
         "mode": "markers",
         "name": "Thursday",
         "showlegend": false,
         "type": "scatter3d",
         "x": [
          -29.1819
         ],
         "y": [
          14.1883
         ],
         "z": [
          5.7426
         ]
        },
        {
         "legendgroup": "Friday",
         "marker": {
          "color": "hsl(205.71428571428572,70%,50%)",
          "opacity": 0.4295300000000001,
          "size": 5
         },
         "mode": "markers",
         "name": "Friday",
         "showlegend": false,
         "type": "scatter3d",
         "x": [
          -15.9024
         ],
         "y": [
          36.0906
         ],
         "z": [
          -51.9977
         ]
        },
        {
         "legendgroup": "Saturday",
         "marker": {
          "color": "hsl(257.14285714285717,70%,50%)",
          "opacity": 0.4295300000000001,
          "size": 5
         },
         "mode": "markers",
         "name": "Saturday",
         "showlegend": false,
         "type": "scatter3d",
         "x": [
          44.9271
         ],
         "y": [
          46.1863
         ],
         "z": [
          31.1996
         ]
        },
        {
         "legendgroup": "Sunday",
         "marker": {
          "color": "hsl(308.57142857142856,70%,50%)",
          "opacity": 0.4295300000000001,
          "size": 5
         },
         "mode": "markers",
         "name": "Sunday",
         "showlegend": false,
         "type": "scatter3d",
         "x": [
          57.3728
         ],
         "y": [
          -34.8483
         ],
         "z": [
          -18.7971
         ]
        },
        {
         "legendgroup": "Monday",
         "marker": {
          "color": "hsl(0.0,70%,50%)",
          "opacity": 0.43198000000000003,
          "size": 5
         },
         "mode": "markers",
         "name": "Monday",
         "showlegend": false,
         "type": "scatter3d",
         "x": [
          -11.7276
         ],
         "y": [
          -33.4539
         ],
         "z": [
          -9.9818
         ]
        },
        {
         "legendgroup": "Tuesday",
         "marker": {
          "color": "hsl(51.42857142857143,70%,50%)",
          "opacity": 0.43198000000000003,
          "size": 5
         },
         "mode": "markers",
         "name": "Tuesday",
         "showlegend": false,
         "type": "scatter3d",
         "x": [
          -23.518
         ],
         "y": [
          -21.0142
         ],
         "z": [
          24.6867
         ]
        },
        {
         "legendgroup": "Wednesday",
         "marker": {
          "color": "hsl(102.85714285714286,70%,50%)",
          "opacity": 0.43198000000000003,
          "size": 5
         },
         "mode": "markers",
         "name": "Wednesday",
         "showlegend": false,
         "type": "scatter3d",
         "x": [
          -24.3769
         ],
         "y": [
          -5.1207
         ],
         "z": [
          18.5759
         ]
        },
        {
         "legendgroup": "Thursday",
         "marker": {
          "color": "hsl(154.28571428571428,70%,50%)",
          "opacity": 0.43198000000000003,
          "size": 5
         },
         "mode": "markers",
         "name": "Thursday",
         "showlegend": false,
         "type": "scatter3d",
         "x": [
          -28.5555
         ],
         "y": [
          15.1517
         ],
         "z": [
          6.2488
         ]
        },
        {
         "legendgroup": "Friday",
         "marker": {
          "color": "hsl(205.71428571428572,70%,50%)",
          "opacity": 0.43198000000000003,
          "size": 5
         },
         "mode": "markers",
         "name": "Friday",
         "showlegend": false,
         "type": "scatter3d",
         "x": [
          -15.1326
         ],
         "y": [
          37.4734
         ],
         "z": [
          -50.4741
         ]
        },
        {
         "legendgroup": "Saturday",
         "marker": {
          "color": "hsl(257.14285714285717,70%,50%)",
          "opacity": 0.43198000000000003,
          "size": 5
         },
         "mode": "markers",
         "name": "Saturday",
         "showlegend": false,
         "type": "scatter3d",
         "x": [
          47.0352
         ],
         "y": [
          43.6704
         ],
         "z": [
          30.8353
         ]
        },
        {
         "legendgroup": "Sunday",
         "marker": {
          "color": "hsl(308.57142857142856,70%,50%)",
          "opacity": 0.43198000000000003,
          "size": 5
         },
         "mode": "markers",
         "name": "Sunday",
         "showlegend": false,
         "type": "scatter3d",
         "x": [
          56.2754
         ],
         "y": [
          -36.7067
         ],
         "z": [
          -19.8909
         ]
        },
        {
         "legendgroup": "Monday",
         "marker": {
          "color": "hsl(0.0,70%,50%)",
          "opacity": 0.43128,
          "size": 5
         },
         "mode": "markers",
         "name": "Monday",
         "showlegend": false,
         "type": "scatter3d",
         "x": [
          -12.1434
         ],
         "y": [
          -33.6694
         ],
         "z": [
          -12.0352
         ]
        },
        {
         "legendgroup": "Tuesday",
         "marker": {
          "color": "hsl(51.42857142857143,70%,50%)",
          "opacity": 0.43128,
          "size": 5
         },
         "mode": "markers",
         "name": "Tuesday",
         "showlegend": false,
         "type": "scatter3d",
         "x": [
          -23.4215
         ],
         "y": [
          -19.6284
         ],
         "z": [
          24.7959
         ]
        },
        {
         "legendgroup": "Wednesday",
         "marker": {
          "color": "hsl(102.85714285714286,70%,50%)",
          "opacity": 0.43128,
          "size": 5
         },
         "mode": "markers",
         "name": "Wednesday",
         "showlegend": false,
         "type": "scatter3d",
         "x": [
          -24.1726
         ],
         "y": [
          -3.5881
         ],
         "z": [
          19.8464
         ]
        },
        {
         "legendgroup": "Thursday",
         "marker": {
          "color": "hsl(154.28571428571428,70%,50%)",
          "opacity": 0.43128,
          "size": 5
         },
         "mode": "markers",
         "name": "Thursday",
         "showlegend": false,
         "type": "scatter3d",
         "x": [
          -28.9173
         ],
         "y": [
          13.9043
         ],
         "z": [
          8.68
         ]
        },
        {
         "legendgroup": "Friday",
         "marker": {
          "color": "hsl(205.71428571428572,70%,50%)",
          "opacity": 0.43128,
          "size": 5
         },
         "mode": "markers",
         "name": "Friday",
         "showlegend": false,
         "type": "scatter3d",
         "x": [
          -15.3203
         ],
         "y": [
          37.691
         ],
         "z": [
          -51.5427
         ]
        },
        {
         "legendgroup": "Saturday",
         "marker": {
          "color": "hsl(257.14285714285717,70%,50%)",
          "opacity": 0.43128,
          "size": 5
         },
         "mode": "markers",
         "name": "Saturday",
         "showlegend": false,
         "type": "scatter3d",
         "x": [
          48.8031
         ],
         "y": [
          42.0329
         ],
         "z": [
          29.851
         ]
        },
        {
         "legendgroup": "Sunday",
         "marker": {
          "color": "hsl(308.57142857142856,70%,50%)",
          "opacity": 0.43128,
          "size": 5
         },
         "mode": "markers",
         "name": "Sunday",
         "showlegend": false,
         "type": "scatter3d",
         "x": [
          55.1719
         ],
         "y": [
          -36.7424
         ],
         "z": [
          -19.5955
         ]
        },
        {
         "legendgroup": "Monday",
         "marker": {
          "color": "hsl(0.0,70%,50%)",
          "opacity": 0.43128,
          "size": 5
         },
         "mode": "markers",
         "name": "Monday",
         "showlegend": false,
         "type": "scatter3d",
         "x": [
          -4.8078
         ],
         "y": [
          -38.7517
         ],
         "z": [
          -11.0286
         ]
        },
        {
         "legendgroup": "Tuesday",
         "marker": {
          "color": "hsl(51.42857142857143,70%,50%)",
          "opacity": 0.43128,
          "size": 5
         },
         "mode": "markers",
         "name": "Tuesday",
         "showlegend": false,
         "type": "scatter3d",
         "x": [
          -19.7712
         ],
         "y": [
          -23.0827
         ],
         "z": [
          24.2915
         ]
        },
        {
         "legendgroup": "Wednesday",
         "marker": {
          "color": "hsl(102.85714285714286,70%,50%)",
          "opacity": 0.43128,
          "size": 5
         },
         "mode": "markers",
         "name": "Wednesday",
         "showlegend": false,
         "type": "scatter3d",
         "x": [
          -22.5147
         ],
         "y": [
          -5.9167
         ],
         "z": [
          18.6518
         ]
        },
        {
         "legendgroup": "Thursday",
         "marker": {
          "color": "hsl(154.28571428571428,70%,50%)",
          "opacity": 0.43128,
          "size": 5
         },
         "mode": "markers",
         "name": "Thursday",
         "showlegend": false,
         "type": "scatter3d",
         "x": [
          -30.4135
         ],
         "y": [
          10.3109
         ],
         "z": [
          10.1924
         ]
        },
        {
         "legendgroup": "Friday",
         "marker": {
          "color": "hsl(205.71428571428572,70%,50%)",
          "opacity": 0.43128,
          "size": 5
         },
         "mode": "markers",
         "name": "Friday",
         "showlegend": false,
         "type": "scatter3d",
         "x": [
          -23.3638
         ],
         "y": [
          37.3936
         ],
         "z": [
          -50.6608
         ]
        },
        {
         "legendgroup": "Saturday",
         "marker": {
          "color": "hsl(257.14285714285717,70%,50%)",
          "opacity": 0.43128,
          "size": 5
         },
         "mode": "markers",
         "name": "Saturday",
         "showlegend": false,
         "type": "scatter3d",
         "x": [
          42.0387
         ],
         "y": [
          45.7337
         ],
         "z": [
          31.5413
         ]
        },
        {
         "legendgroup": "Sunday",
         "marker": {
          "color": "hsl(308.57142857142856,70%,50%)",
          "opacity": 0.43128,
          "size": 5
         },
         "mode": "markers",
         "name": "Sunday",
         "showlegend": false,
         "type": "scatter3d",
         "x": [
          58.8323
         ],
         "y": [
          -25.6872
         ],
         "z": [
          -22.9875
         ]
        },
        {
         "legendgroup": "Monday",
         "marker": {
          "color": "hsl(0.0,70%,50%)",
          "opacity": 0.43121,
          "size": 5
         },
         "mode": "markers",
         "name": "Monday",
         "showlegend": false,
         "type": "scatter3d",
         "x": [
          -7.9951
         ],
         "y": [
          -38.2772
         ],
         "z": [
          -12.7482
         ]
        },
        {
         "legendgroup": "Tuesday",
         "marker": {
          "color": "hsl(51.42857142857143,70%,50%)",
          "opacity": 0.43121,
          "size": 5
         },
         "mode": "markers",
         "name": "Tuesday",
         "showlegend": false,
         "type": "scatter3d",
         "x": [
          -19.5067
         ],
         "y": [
          -24.7501
         ],
         "z": [
          23.2781
         ]
        },
        {
         "legendgroup": "Wednesday",
         "marker": {
          "color": "hsl(102.85714285714286,70%,50%)",
          "opacity": 0.43121,
          "size": 5
         },
         "mode": "markers",
         "name": "Wednesday",
         "showlegend": false,
         "type": "scatter3d",
         "x": [
          -20.0447
         ],
         "y": [
          -6.4241
         ],
         "z": [
          18.059
         ]
        },
        {
         "legendgroup": "Thursday",
         "marker": {
          "color": "hsl(154.28571428571428,70%,50%)",
          "opacity": 0.43121,
          "size": 5
         },
         "mode": "markers",
         "name": "Thursday",
         "showlegend": false,
         "type": "scatter3d",
         "x": [
          -28.6522
         ],
         "y": [
          10.4468
         ],
         "z": [
          13.5031
         ]
        },
        {
         "legendgroup": "Friday",
         "marker": {
          "color": "hsl(205.71428571428572,70%,50%)",
          "opacity": 0.43121,
          "size": 5
         },
         "mode": "markers",
         "name": "Friday",
         "showlegend": false,
         "type": "scatter3d",
         "x": [
          -25.8603
         ],
         "y": [
          42.1936
         ],
         "z": [
          -46.9117
         ]
        },
        {
         "legendgroup": "Saturday",
         "marker": {
          "color": "hsl(257.14285714285717,70%,50%)",
          "opacity": 0.43121,
          "size": 5
         },
         "mode": "markers",
         "name": "Saturday",
         "showlegend": false,
         "type": "scatter3d",
         "x": [
          45.1619
         ],
         "y": [
          41.2116
         ],
         "z": [
          32.9222
         ]
        },
        {
         "legendgroup": "Sunday",
         "marker": {
          "color": "hsl(308.57142857142856,70%,50%)",
          "opacity": 0.43121,
          "size": 5
         },
         "mode": "markers",
         "name": "Sunday",
         "showlegend": false,
         "type": "scatter3d",
         "x": [
          56.897
         ],
         "y": [
          -24.4006
         ],
         "z": [
          -28.1024
         ]
        },
        {
         "legendgroup": "Monday",
         "marker": {
          "color": "hsl(0.0,70%,50%)",
          "opacity": 0.43099999999999994,
          "size": 5
         },
         "mode": "markers",
         "name": "Monday",
         "showlegend": false,
         "type": "scatter3d",
         "x": [
          -3.1817
         ],
         "y": [
          -36.543
         ],
         "z": [
          -14.6602
         ]
        },
        {
         "legendgroup": "Tuesday",
         "marker": {
          "color": "hsl(51.42857142857143,70%,50%)",
          "opacity": 0.43099999999999994,
          "size": 5
         },
         "mode": "markers",
         "name": "Tuesday",
         "showlegend": false,
         "type": "scatter3d",
         "x": [
          -16.4294
         ],
         "y": [
          -27.4677
         ],
         "z": [
          19.8335
         ]
        },
        {
         "legendgroup": "Wednesday",
         "marker": {
          "color": "hsl(102.85714285714286,70%,50%)",
          "opacity": 0.43099999999999994,
          "size": 5
         },
         "mode": "markers",
         "name": "Wednesday",
         "showlegend": false,
         "type": "scatter3d",
         "x": [
          -18.8841
         ],
         "y": [
          -9.9783
         ],
         "z": [
          17.0523
         ]
        },
        {
         "legendgroup": "Thursday",
         "marker": {
          "color": "hsl(154.28571428571428,70%,50%)",
          "opacity": 0.43099999999999994,
          "size": 5
         },
         "mode": "markers",
         "name": "Thursday",
         "showlegend": false,
         "type": "scatter3d",
         "x": [
          -30.1859
         ],
         "y": [
          5.8828
         ],
         "z": [
          17.7617
         ]
        },
        {
         "legendgroup": "Friday",
         "marker": {
          "color": "hsl(205.71428571428572,70%,50%)",
          "opacity": 0.43099999999999994,
          "size": 5
         },
         "mode": "markers",
         "name": "Friday",
         "showlegend": false,
         "type": "scatter3d",
         "x": [
          -31.3676
         ],
         "y": [
          43.1356
         ],
         "z": [
          -44.8791
         ]
        },
        {
         "legendgroup": "Saturday",
         "marker": {
          "color": "hsl(257.14285714285717,70%,50%)",
          "opacity": 0.43099999999999994,
          "size": 5
         },
         "mode": "markers",
         "name": "Saturday",
         "showlegend": false,
         "type": "scatter3d",
         "x": [
          42.1073
         ],
         "y": [
          42.4506
         ],
         "z": [
          34.9757
         ]
        },
        {
         "legendgroup": "Sunday",
         "marker": {
          "color": "hsl(308.57142857142856,70%,50%)",
          "opacity": 0.43099999999999994,
          "size": 5
         },
         "mode": "markers",
         "name": "Sunday",
         "showlegend": false,
         "type": "scatter3d",
         "x": [
          57.9415
         ],
         "y": [
          -17.48
         ],
         "z": [
          -30.0839
         ]
        },
        {
         "legendgroup": "Monday",
         "marker": {
          "color": "hsl(0.0,70%,50%)",
          "opacity": 0.42413999999999996,
          "size": 5
         },
         "mode": "markers",
         "name": "Monday",
         "showlegend": false,
         "type": "scatter3d",
         "x": [
          -4.3787
         ],
         "y": [
          -35.3431
         ],
         "z": [
          -16.7519
         ]
        },
        {
         "legendgroup": "Tuesday",
         "marker": {
          "color": "hsl(51.42857142857143,70%,50%)",
          "opacity": 0.42413999999999996,
          "size": 5
         },
         "mode": "markers",
         "name": "Tuesday",
         "showlegend": false,
         "type": "scatter3d",
         "x": [
          -20.051
         ],
         "y": [
          -26.0716
         ],
         "z": [
          19.4281
         ]
        },
        {
         "legendgroup": "Wednesday",
         "marker": {
          "color": "hsl(102.85714285714286,70%,50%)",
          "opacity": 0.42413999999999996,
          "size": 5
         },
         "mode": "markers",
         "name": "Wednesday",
         "showlegend": false,
         "type": "scatter3d",
         "x": [
          -20.1282
         ],
         "y": [
          -10.5359
         ],
         "z": [
          18.4284
         ]
        },
        {
         "legendgroup": "Thursday",
         "marker": {
          "color": "hsl(154.28571428571428,70%,50%)",
          "opacity": 0.42413999999999996,
          "size": 5
         },
         "mode": "markers",
         "name": "Thursday",
         "showlegend": false,
         "type": "scatter3d",
         "x": [
          -28.4185
         ],
         "y": [
          6.0749
         ],
         "z": [
          17.6789
         ]
        },
        {
         "legendgroup": "Friday",
         "marker": {
          "color": "hsl(205.71428571428572,70%,50%)",
          "opacity": 0.42413999999999996,
          "size": 5
         },
         "mode": "markers",
         "name": "Friday",
         "showlegend": false,
         "type": "scatter3d",
         "x": [
          -29.554
         ],
         "y": [
          47.2246
         ],
         "z": [
          -43.1514
         ]
        },
        {
         "legendgroup": "Saturday",
         "marker": {
          "color": "hsl(257.14285714285717,70%,50%)",
          "opacity": 0.42413999999999996,
          "size": 5
         },
         "mode": "markers",
         "name": "Saturday",
         "showlegend": false,
         "type": "scatter3d",
         "x": [
          46.6287
         ],
         "y": [
          39.2437
         ],
         "z": [
          35.5799
         ]
        },
        {
         "legendgroup": "Sunday",
         "marker": {
          "color": "hsl(308.57142857142856,70%,50%)",
          "opacity": 0.42413999999999996,
          "size": 5
         },
         "mode": "markers",
         "name": "Sunday",
         "showlegend": false,
         "type": "scatter3d",
         "x": [
          55.9017
         ],
         "y": [
          -20.5926
         ],
         "z": [
          -31.212
         ]
        },
        {
         "legendgroup": "Monday",
         "marker": {
          "color": "hsl(0.0,70%,50%)",
          "opacity": 0.44584,
          "size": 5
         },
         "mode": "markers",
         "name": "Monday",
         "showlegend": false,
         "type": "scatter3d",
         "x": [
          -0.6053
         ],
         "y": [
          -36.9623
         ],
         "z": [
          -12.2577
         ]
        },
        {
         "legendgroup": "Tuesday",
         "marker": {
          "color": "hsl(51.42857142857143,70%,50%)",
          "opacity": 0.44584,
          "size": 5
         },
         "mode": "markers",
         "name": "Tuesday",
         "showlegend": false,
         "type": "scatter3d",
         "x": [
          -15.3199
         ],
         "y": [
          -28.1329
         ],
         "z": [
          6.0795
         ]
        },
        {
         "legendgroup": "Wednesday",
         "marker": {
          "color": "hsl(102.85714285714286,70%,50%)",
          "opacity": 0.44584,
          "size": 5
         },
         "mode": "markers",
         "name": "Wednesday",
         "showlegend": false,
         "type": "scatter3d",
         "x": [
          -18.8564
         ],
         "y": [
          -10.475
         ],
         "z": [
          9.7686
         ]
        },
        {
         "legendgroup": "Thursday",
         "marker": {
          "color": "hsl(154.28571428571428,70%,50%)",
          "opacity": 0.44584,
          "size": 5
         },
         "mode": "markers",
         "name": "Thursday",
         "showlegend": false,
         "type": "scatter3d",
         "x": [
          -38.2657
         ],
         "y": [
          17.3532
         ],
         "z": [
          38.997
         ]
        },
        {
         "legendgroup": "Friday",
         "marker": {
          "color": "hsl(205.71428571428572,70%,50%)",
          "opacity": 0.44584,
          "size": 5
         },
         "mode": "markers",
         "name": "Friday",
         "showlegend": false,
         "type": "scatter3d",
         "x": [
          -23.8152
         ],
         "y": [
          33.3426
         ],
         "z": [
          -55.3304
         ]
        },
        {
         "legendgroup": "Saturday",
         "marker": {
          "color": "hsl(257.14285714285717,70%,50%)",
          "opacity": 0.44584,
          "size": 5
         },
         "mode": "markers",
         "name": "Saturday",
         "showlegend": false,
         "type": "scatter3d",
         "x": [
          42.0004
         ],
         "y": [
          43.3432
         ],
         "z": [
          19.7982
         ]
        },
        {
         "legendgroup": "Sunday",
         "marker": {
          "color": "hsl(308.57142857142856,70%,50%)",
          "opacity": 0.44584,
          "size": 5
         },
         "mode": "markers",
         "name": "Sunday",
         "showlegend": false,
         "type": "scatter3d",
         "x": [
          54.8621
         ],
         "y": [
          -18.4687
         ],
         "z": [
          -7.0553
         ]
        },
        {
         "legendgroup": "Monday",
         "marker": {
          "color": "hsl(0.0,70%,50%)",
          "opacity": 0.46270999999999995,
          "size": 5
         },
         "mode": "markers",
         "name": "Monday",
         "showlegend": false,
         "type": "scatter3d",
         "x": [
          -0.6977
         ],
         "y": [
          -38.2754
         ],
         "z": [
          -13.5253
         ]
        },
        {
         "legendgroup": "Tuesday",
         "marker": {
          "color": "hsl(51.42857142857143,70%,50%)",
          "opacity": 0.46270999999999995,
          "size": 5
         },
         "mode": "markers",
         "name": "Tuesday",
         "showlegend": false,
         "type": "scatter3d",
         "x": [
          -16.9651
         ],
         "y": [
          -26.0243
         ],
         "z": [
          8.015
         ]
        },
        {
         "legendgroup": "Wednesday",
         "marker": {
          "color": "hsl(102.85714285714286,70%,50%)",
          "opacity": 0.46270999999999995,
          "size": 5
         },
         "mode": "markers",
         "name": "Wednesday",
         "showlegend": false,
         "type": "scatter3d",
         "x": [
          -22.3738
         ],
         "y": [
          -12.8603
         ],
         "z": [
          14.8784
         ]
        },
        {
         "legendgroup": "Thursday",
         "marker": {
          "color": "hsl(154.28571428571428,70%,50%)",
          "opacity": 0.46270999999999995,
          "size": 5
         },
         "mode": "markers",
         "name": "Thursday",
         "showlegend": false,
         "type": "scatter3d",
         "x": [
          -35.8857
         ],
         "y": [
          23.4384
         ],
         "z": [
          32.5311
         ]
        },
        {
         "legendgroup": "Friday",
         "marker": {
          "color": "hsl(205.71428571428572,70%,50%)",
          "opacity": 0.46270999999999995,
          "size": 5
         },
         "mode": "markers",
         "name": "Friday",
         "showlegend": false,
         "type": "scatter3d",
         "x": [
          -19.9327
         ],
         "y": [
          31.7815
         ],
         "z": [
          -55.8968
         ]
        },
        {
         "legendgroup": "Saturday",
         "marker": {
          "color": "hsl(257.14285714285717,70%,50%)",
          "opacity": 0.46270999999999995,
          "size": 5
         },
         "mode": "markers",
         "name": "Saturday",
         "showlegend": false,
         "type": "scatter3d",
         "x": [
          41.9728
         ],
         "y": [
          38.9214
         ],
         "z": [
          20.2843
         ]
        },
        {
         "legendgroup": "Sunday",
         "marker": {
          "color": "hsl(308.57142857142856,70%,50%)",
          "opacity": 0.46270999999999995,
          "size": 5
         },
         "mode": "markers",
         "name": "Sunday",
         "showlegend": false,
         "type": "scatter3d",
         "x": [
          53.8822
         ],
         "y": [
          -16.9813
         ],
         "z": [
          -6.2866
         ]
        },
        {
         "legendgroup": "Monday",
         "marker": {
          "color": "hsl(0.0,70%,50%)",
          "opacity": 0.43723,
          "size": 5
         },
         "mode": "markers",
         "name": "Monday",
         "showlegend": false,
         "type": "scatter3d",
         "x": [
          -43.6063
         ],
         "y": [
          -16.1418
         ],
         "z": [
          -14.0539
         ]
        },
        {
         "legendgroup": "Tuesday",
         "marker": {
          "color": "hsl(51.42857142857143,70%,50%)",
          "opacity": 0.43723,
          "size": 5
         },
         "mode": "markers",
         "name": "Tuesday",
         "showlegend": false,
         "type": "scatter3d",
         "x": [
          -47.4326
         ],
         "y": [
          1.608
         ],
         "z": [
          5.8251
         ]
        },
        {
         "legendgroup": "Wednesday",
         "marker": {
          "color": "hsl(102.85714285714286,70%,50%)",
          "opacity": 0.43723,
          "size": 5
         },
         "mode": "markers",
         "name": "Wednesday",
         "showlegend": false,
         "type": "scatter3d",
         "x": [
          -18.3566
         ],
         "y": [
          14.5808
         ],
         "z": [
          11.877
         ]
        },
        {
         "legendgroup": "Thursday",
         "marker": {
          "color": "hsl(154.28571428571428,70%,50%)",
          "opacity": 0.43723,
          "size": 5
         },
         "mode": "markers",
         "name": "Thursday",
         "showlegend": false,
         "type": "scatter3d",
         "x": [
          18.0458
         ],
         "y": [
          42.5602
         ],
         "z": [
          35.1054
         ]
        },
        {
         "legendgroup": "Friday",
         "marker": {
          "color": "hsl(205.71428571428572,70%,50%)",
          "opacity": 0.43723,
          "size": 5
         },
         "mode": "markers",
         "name": "Friday",
         "showlegend": false,
         "type": "scatter3d",
         "x": [
          27.4941
         ],
         "y": [
          31.1153
         ],
         "z": [
          -52.5942
         ]
        },
        {
         "legendgroup": "Saturday",
         "marker": {
          "color": "hsl(257.14285714285717,70%,50%)",
          "opacity": 0.43723,
          "size": 5
         },
         "mode": "markers",
         "name": "Saturday",
         "showlegend": false,
         "type": "scatter3d",
         "x": [
          45.7833
         ],
         "y": [
          -23.4976
         ],
         "z": [
          16.0183
         ]
        },
        {
         "legendgroup": "Sunday",
         "marker": {
          "color": "hsl(308.57142857142856,70%,50%)",
          "opacity": 0.43723,
          "size": 5
         },
         "mode": "markers",
         "name": "Sunday",
         "showlegend": false,
         "type": "scatter3d",
         "x": [
          18.0723
         ],
         "y": [
          -50.2249
         ],
         "z": [
          -2.1778
         ]
        },
        {
         "legendgroup": "Monday",
         "marker": {
          "color": "hsl(0.0,70%,50%)",
          "opacity": 0.39908,
          "size": 5
         },
         "mode": "markers",
         "name": "Monday",
         "showlegend": false,
         "type": "scatter3d",
         "x": [
          0.9311
         ],
         "y": [
          -48.1035
         ],
         "z": [
          -22.5077
         ]
        },
        {
         "legendgroup": "Tuesday",
         "marker": {
          "color": "hsl(51.42857142857143,70%,50%)",
          "opacity": 0.39908,
          "size": 5
         },
         "mode": "markers",
         "name": "Tuesday",
         "showlegend": false,
         "type": "scatter3d",
         "x": [
          -35.1123
         ],
         "y": [
          -31.6958
         ],
         "z": [
          -0.8009
         ]
        },
        {
         "legendgroup": "Wednesday",
         "marker": {
          "color": "hsl(102.85714285714286,70%,50%)",
          "opacity": 0.39908,
          "size": 5
         },
         "mode": "markers",
         "name": "Wednesday",
         "showlegend": false,
         "type": "scatter3d",
         "x": [
          -42.5599
         ],
         "y": [
          1.2151
         ],
         "z": [
          13.3399
         ]
        },
        {
         "legendgroup": "Thursday",
         "marker": {
          "color": "hsl(154.28571428571428,70%,50%)",
          "opacity": 0.39908,
          "size": 5
         },
         "mode": "markers",
         "name": "Thursday",
         "showlegend": false,
         "type": "scatter3d",
         "x": [
          -27.7686
         ],
         "y": [
          36.9996
         ],
         "z": [
          23.1044
         ]
        },
        {
         "legendgroup": "Friday",
         "marker": {
          "color": "hsl(205.71428571428572,70%,50%)",
          "opacity": 0.39908,
          "size": 5
         },
         "mode": "markers",
         "name": "Friday",
         "showlegend": false,
         "type": "scatter3d",
         "x": [
          8.1603
         ],
         "y": [
          46.4963
         ],
         "z": [
          -46.6916
         ]
        },
        {
         "legendgroup": "Saturday",
         "marker": {
          "color": "hsl(257.14285714285717,70%,50%)",
          "opacity": 0.39908,
          "size": 5
         },
         "mode": "markers",
         "name": "Saturday",
         "showlegend": false,
         "type": "scatter3d",
         "x": [
          45.343
         ],
         "y": [
          20.8151
         ],
         "z": [
          22.6704
         ]
        },
        {
         "legendgroup": "Sunday",
         "marker": {
          "color": "hsl(308.57142857142856,70%,50%)",
          "opacity": 0.39908,
          "size": 5
         },
         "mode": "markers",
         "name": "Sunday",
         "showlegend": false,
         "type": "scatter3d",
         "x": [
          51.0063
         ],
         "y": [
          -25.7268
         ],
         "z": [
          10.8855
         ]
        },
        {
         "legendgroup": "Monday",
         "marker": {
          "color": "hsl(0.0,70%,50%)",
          "opacity": 0.41189,
          "size": 5
         },
         "mode": "markers",
         "name": "Monday",
         "showlegend": false,
         "type": "scatter3d",
         "x": [
          4.7021
         ],
         "y": [
          -47.0889
         ],
         "z": [
          -22.0454
         ]
        },
        {
         "legendgroup": "Tuesday",
         "marker": {
          "color": "hsl(51.42857142857143,70%,50%)",
          "opacity": 0.41189,
          "size": 5
         },
         "mode": "markers",
         "name": "Tuesday",
         "showlegend": false,
         "type": "scatter3d",
         "x": [
          -28.8015
         ],
         "y": [
          -33.3758
         ],
         "z": [
          0.0823
         ]
        },
        {
         "legendgroup": "Wednesday",
         "marker": {
          "color": "hsl(102.85714285714286,70%,50%)",
          "opacity": 0.41189,
          "size": 5
         },
         "mode": "markers",
         "name": "Wednesday",
         "showlegend": false,
         "type": "scatter3d",
         "x": [
          -39.2047
         ],
         "y": [
          -5.3925
         ],
         "z": [
          13.397
         ]
        },
        {
         "legendgroup": "Thursday",
         "marker": {
          "color": "hsl(154.28571428571428,70%,50%)",
          "opacity": 0.41189,
          "size": 5
         },
         "mode": "markers",
         "name": "Thursday",
         "showlegend": false,
         "type": "scatter3d",
         "x": [
          -33.3225
         ],
         "y": [
          31.8672
         ],
         "z": [
          25.1573
         ]
        },
        {
         "legendgroup": "Friday",
         "marker": {
          "color": "hsl(205.71428571428572,70%,50%)",
          "opacity": 0.41189,
          "size": 5
         },
         "mode": "markers",
         "name": "Friday",
         "showlegend": false,
         "type": "scatter3d",
         "x": [
          -0.3678
         ],
         "y": [
          45.0586
         ],
         "z": [
          -48.0021
         ]
        },
        {
         "legendgroup": "Saturday",
         "marker": {
          "color": "hsl(257.14285714285717,70%,50%)",
          "opacity": 0.41189,
          "size": 5
         },
         "mode": "markers",
         "name": "Saturday",
         "showlegend": false,
         "type": "scatter3d",
         "x": [
          41.987
         ],
         "y": [
          27.9638
         ],
         "z": [
          21.1918
         ]
        },
        {
         "legendgroup": "Sunday",
         "marker": {
          "color": "hsl(308.57142857142856,70%,50%)",
          "opacity": 0.41189,
          "size": 5
         },
         "mode": "markers",
         "name": "Sunday",
         "showlegend": false,
         "type": "scatter3d",
         "x": [
          55.0074
         ],
         "y": [
          -19.0323
         ],
         "z": [
          10.2191
         ]
        },
        {
         "legendgroup": "Monday",
         "marker": {
          "color": "hsl(0.0,70%,50%)",
          "opacity": 0.40909000000000006,
          "size": 5
         },
         "mode": "markers",
         "name": "Monday",
         "showlegend": false,
         "type": "scatter3d",
         "x": [
          0.9432
         ],
         "y": [
          -46.8058
         ],
         "z": [
          -22.698
         ]
        },
        {
         "legendgroup": "Tuesday",
         "marker": {
          "color": "hsl(51.42857142857143,70%,50%)",
          "opacity": 0.40909000000000006,
          "size": 5
         },
         "mode": "markers",
         "name": "Tuesday",
         "showlegend": false,
         "type": "scatter3d",
         "x": [
          -30.6532
         ],
         "y": [
          -31.1549
         ],
         "z": [
          0.3429
         ]
        },
        {
         "legendgroup": "Wednesday",
         "marker": {
          "color": "hsl(102.85714285714286,70%,50%)",
          "opacity": 0.40909000000000006,
          "size": 5
         },
         "mode": "markers",
         "name": "Wednesday",
         "showlegend": false,
         "type": "scatter3d",
         "x": [
          -38.7367
         ],
         "y": [
          -3.8723
         ],
         "z": [
          14.5601
         ]
        },
        {
         "legendgroup": "Thursday",
         "marker": {
          "color": "hsl(154.28571428571428,70%,50%)",
          "opacity": 0.40909000000000006,
          "size": 5
         },
         "mode": "markers",
         "name": "Thursday",
         "showlegend": false,
         "type": "scatter3d",
         "x": [
          -30.7747
         ],
         "y": [
          30.9597
         ],
         "z": [
          24.8334
         ]
        },
        {
         "legendgroup": "Friday",
         "marker": {
          "color": "hsl(205.71428571428572,70%,50%)",
          "opacity": 0.40909000000000006,
          "size": 5
         },
         "mode": "markers",
         "name": "Friday",
         "showlegend": false,
         "type": "scatter3d",
         "x": [
          0.6598
         ],
         "y": [
          47.1848
         ],
         "z": [
          -47.7137
         ]
        },
        {
         "legendgroup": "Saturday",
         "marker": {
          "color": "hsl(257.14285714285717,70%,50%)",
          "opacity": 0.40909000000000006,
          "size": 5
         },
         "mode": "markers",
         "name": "Saturday",
         "showlegend": false,
         "type": "scatter3d",
         "x": [
          42.5919
         ],
         "y": [
          25.8379
         ],
         "z": [
          24.3113
         ]
        },
        {
         "legendgroup": "Sunday",
         "marker": {
          "color": "hsl(308.57142857142856,70%,50%)",
          "opacity": 0.40909000000000006,
          "size": 5
         },
         "mode": "markers",
         "name": "Sunday",
         "showlegend": false,
         "type": "scatter3d",
         "x": [
          55.9698
         ],
         "y": [
          -22.1494
         ],
         "z": [
          6.364
         ]
        }
       ],
       "layout": {
        "height": 800,
        "scene": {
         "aspectmode": "cube",
         "camera": {
          "center": {
           "x": 0,
           "y": 0,
           "z": 0
          },
          "eye": {
           "x": 1.5,
           "y": 1.5,
           "z": 1.5
          },
          "up": {
           "x": 0,
           "y": 0,
           "z": 1
          }
         },
         "xaxis": {
          "title": {
           "text": "PCA1"
          }
         },
         "yaxis": {
          "title": {
           "text": "PCA2"
          }
         },
         "zaxis": {
          "title": {
           "text": "PCA3"
          }
         }
        },
        "showlegend": true,
        "template": {
         "data": {
          "bar": [
           {
            "error_x": {
             "color": "#2a3f5f"
            },
            "error_y": {
             "color": "#2a3f5f"
            },
            "marker": {
             "line": {
              "color": "#E5ECF6",
              "width": 0.5
             },
             "pattern": {
              "fillmode": "overlay",
              "size": 10,
              "solidity": 0.2
             }
            },
            "type": "bar"
           }
          ],
          "barpolar": [
           {
            "marker": {
             "line": {
              "color": "#E5ECF6",
              "width": 0.5
             },
             "pattern": {
              "fillmode": "overlay",
              "size": 10,
              "solidity": 0.2
             }
            },
            "type": "barpolar"
           }
          ],
          "carpet": [
           {
            "aaxis": {
             "endlinecolor": "#2a3f5f",
             "gridcolor": "white",
             "linecolor": "white",
             "minorgridcolor": "white",
             "startlinecolor": "#2a3f5f"
            },
            "baxis": {
             "endlinecolor": "#2a3f5f",
             "gridcolor": "white",
             "linecolor": "white",
             "minorgridcolor": "white",
             "startlinecolor": "#2a3f5f"
            },
            "type": "carpet"
           }
          ],
          "choropleth": [
           {
            "colorbar": {
             "outlinewidth": 0,
             "ticks": ""
            },
            "type": "choropleth"
           }
          ],
          "contour": [
           {
            "colorbar": {
             "outlinewidth": 0,
             "ticks": ""
            },
            "colorscale": [
             [
              0,
              "#0d0887"
             ],
             [
              0.1111111111111111,
              "#46039f"
             ],
             [
              0.2222222222222222,
              "#7201a8"
             ],
             [
              0.3333333333333333,
              "#9c179e"
             ],
             [
              0.4444444444444444,
              "#bd3786"
             ],
             [
              0.5555555555555556,
              "#d8576b"
             ],
             [
              0.6666666666666666,
              "#ed7953"
             ],
             [
              0.7777777777777778,
              "#fb9f3a"
             ],
             [
              0.8888888888888888,
              "#fdca26"
             ],
             [
              1,
              "#f0f921"
             ]
            ],
            "type": "contour"
           }
          ],
          "contourcarpet": [
           {
            "colorbar": {
             "outlinewidth": 0,
             "ticks": ""
            },
            "type": "contourcarpet"
           }
          ],
          "heatmap": [
           {
            "colorbar": {
             "outlinewidth": 0,
             "ticks": ""
            },
            "colorscale": [
             [
              0,
              "#0d0887"
             ],
             [
              0.1111111111111111,
              "#46039f"
             ],
             [
              0.2222222222222222,
              "#7201a8"
             ],
             [
              0.3333333333333333,
              "#9c179e"
             ],
             [
              0.4444444444444444,
              "#bd3786"
             ],
             [
              0.5555555555555556,
              "#d8576b"
             ],
             [
              0.6666666666666666,
              "#ed7953"
             ],
             [
              0.7777777777777778,
              "#fb9f3a"
             ],
             [
              0.8888888888888888,
              "#fdca26"
             ],
             [
              1,
              "#f0f921"
             ]
            ],
            "type": "heatmap"
           }
          ],
          "heatmapgl": [
           {
            "colorbar": {
             "outlinewidth": 0,
             "ticks": ""
            },
            "colorscale": [
             [
              0,
              "#0d0887"
             ],
             [
              0.1111111111111111,
              "#46039f"
             ],
             [
              0.2222222222222222,
              "#7201a8"
             ],
             [
              0.3333333333333333,
              "#9c179e"
             ],
             [
              0.4444444444444444,
              "#bd3786"
             ],
             [
              0.5555555555555556,
              "#d8576b"
             ],
             [
              0.6666666666666666,
              "#ed7953"
             ],
             [
              0.7777777777777778,
              "#fb9f3a"
             ],
             [
              0.8888888888888888,
              "#fdca26"
             ],
             [
              1,
              "#f0f921"
             ]
            ],
            "type": "heatmapgl"
           }
          ],
          "histogram": [
           {
            "marker": {
             "pattern": {
              "fillmode": "overlay",
              "size": 10,
              "solidity": 0.2
             }
            },
            "type": "histogram"
           }
          ],
          "histogram2d": [
           {
            "colorbar": {
             "outlinewidth": 0,
             "ticks": ""
            },
            "colorscale": [
             [
              0,
              "#0d0887"
             ],
             [
              0.1111111111111111,
              "#46039f"
             ],
             [
              0.2222222222222222,
              "#7201a8"
             ],
             [
              0.3333333333333333,
              "#9c179e"
             ],
             [
              0.4444444444444444,
              "#bd3786"
             ],
             [
              0.5555555555555556,
              "#d8576b"
             ],
             [
              0.6666666666666666,
              "#ed7953"
             ],
             [
              0.7777777777777778,
              "#fb9f3a"
             ],
             [
              0.8888888888888888,
              "#fdca26"
             ],
             [
              1,
              "#f0f921"
             ]
            ],
            "type": "histogram2d"
           }
          ],
          "histogram2dcontour": [
           {
            "colorbar": {
             "outlinewidth": 0,
             "ticks": ""
            },
            "colorscale": [
             [
              0,
              "#0d0887"
             ],
             [
              0.1111111111111111,
              "#46039f"
             ],
             [
              0.2222222222222222,
              "#7201a8"
             ],
             [
              0.3333333333333333,
              "#9c179e"
             ],
             [
              0.4444444444444444,
              "#bd3786"
             ],
             [
              0.5555555555555556,
              "#d8576b"
             ],
             [
              0.6666666666666666,
              "#ed7953"
             ],
             [
              0.7777777777777778,
              "#fb9f3a"
             ],
             [
              0.8888888888888888,
              "#fdca26"
             ],
             [
              1,
              "#f0f921"
             ]
            ],
            "type": "histogram2dcontour"
           }
          ],
          "mesh3d": [
           {
            "colorbar": {
             "outlinewidth": 0,
             "ticks": ""
            },
            "type": "mesh3d"
           }
          ],
          "parcoords": [
           {
            "line": {
             "colorbar": {
              "outlinewidth": 0,
              "ticks": ""
             }
            },
            "type": "parcoords"
           }
          ],
          "pie": [
           {
            "automargin": true,
            "type": "pie"
           }
          ],
          "scatter": [
           {
            "fillpattern": {
             "fillmode": "overlay",
             "size": 10,
             "solidity": 0.2
            },
            "type": "scatter"
           }
          ],
          "scatter3d": [
           {
            "line": {
             "colorbar": {
              "outlinewidth": 0,
              "ticks": ""
             }
            },
            "marker": {
             "colorbar": {
              "outlinewidth": 0,
              "ticks": ""
             }
            },
            "type": "scatter3d"
           }
          ],
          "scattercarpet": [
           {
            "marker": {
             "colorbar": {
              "outlinewidth": 0,
              "ticks": ""
             }
            },
            "type": "scattercarpet"
           }
          ],
          "scattergeo": [
           {
            "marker": {
             "colorbar": {
              "outlinewidth": 0,
              "ticks": ""
             }
            },
            "type": "scattergeo"
           }
          ],
          "scattergl": [
           {
            "marker": {
             "colorbar": {
              "outlinewidth": 0,
              "ticks": ""
             }
            },
            "type": "scattergl"
           }
          ],
          "scattermapbox": [
           {
            "marker": {
             "colorbar": {
              "outlinewidth": 0,
              "ticks": ""
             }
            },
            "type": "scattermapbox"
           }
          ],
          "scatterpolar": [
           {
            "marker": {
             "colorbar": {
              "outlinewidth": 0,
              "ticks": ""
             }
            },
            "type": "scatterpolar"
           }
          ],
          "scatterpolargl": [
           {
            "marker": {
             "colorbar": {
              "outlinewidth": 0,
              "ticks": ""
             }
            },
            "type": "scatterpolargl"
           }
          ],
          "scatterternary": [
           {
            "marker": {
             "colorbar": {
              "outlinewidth": 0,
              "ticks": ""
             }
            },
            "type": "scatterternary"
           }
          ],
          "surface": [
           {
            "colorbar": {
             "outlinewidth": 0,
             "ticks": ""
            },
            "colorscale": [
             [
              0,
              "#0d0887"
             ],
             [
              0.1111111111111111,
              "#46039f"
             ],
             [
              0.2222222222222222,
              "#7201a8"
             ],
             [
              0.3333333333333333,
              "#9c179e"
             ],
             [
              0.4444444444444444,
              "#bd3786"
             ],
             [
              0.5555555555555556,
              "#d8576b"
             ],
             [
              0.6666666666666666,
              "#ed7953"
             ],
             [
              0.7777777777777778,
              "#fb9f3a"
             ],
             [
              0.8888888888888888,
              "#fdca26"
             ],
             [
              1,
              "#f0f921"
             ]
            ],
            "type": "surface"
           }
          ],
          "table": [
           {
            "cells": {
             "fill": {
              "color": "#EBF0F8"
             },
             "line": {
              "color": "white"
             }
            },
            "header": {
             "fill": {
              "color": "#C8D4E3"
             },
             "line": {
              "color": "white"
             }
            },
            "type": "table"
           }
          ]
         },
         "layout": {
          "annotationdefaults": {
           "arrowcolor": "#2a3f5f",
           "arrowhead": 0,
           "arrowwidth": 1
          },
          "autotypenumbers": "strict",
          "coloraxis": {
           "colorbar": {
            "outlinewidth": 0,
            "ticks": ""
           }
          },
          "colorscale": {
           "diverging": [
            [
             0,
             "#8e0152"
            ],
            [
             0.1,
             "#c51b7d"
            ],
            [
             0.2,
             "#de77ae"
            ],
            [
             0.3,
             "#f1b6da"
            ],
            [
             0.4,
             "#fde0ef"
            ],
            [
             0.5,
             "#f7f7f7"
            ],
            [
             0.6,
             "#e6f5d0"
            ],
            [
             0.7,
             "#b8e186"
            ],
            [
             0.8,
             "#7fbc41"
            ],
            [
             0.9,
             "#4d9221"
            ],
            [
             1,
             "#276419"
            ]
           ],
           "sequential": [
            [
             0,
             "#0d0887"
            ],
            [
             0.1111111111111111,
             "#46039f"
            ],
            [
             0.2222222222222222,
             "#7201a8"
            ],
            [
             0.3333333333333333,
             "#9c179e"
            ],
            [
             0.4444444444444444,
             "#bd3786"
            ],
            [
             0.5555555555555556,
             "#d8576b"
            ],
            [
             0.6666666666666666,
             "#ed7953"
            ],
            [
             0.7777777777777778,
             "#fb9f3a"
            ],
            [
             0.8888888888888888,
             "#fdca26"
            ],
            [
             1,
             "#f0f921"
            ]
           ],
           "sequentialminus": [
            [
             0,
             "#0d0887"
            ],
            [
             0.1111111111111111,
             "#46039f"
            ],
            [
             0.2222222222222222,
             "#7201a8"
            ],
            [
             0.3333333333333333,
             "#9c179e"
            ],
            [
             0.4444444444444444,
             "#bd3786"
            ],
            [
             0.5555555555555556,
             "#d8576b"
            ],
            [
             0.6666666666666666,
             "#ed7953"
            ],
            [
             0.7777777777777778,
             "#fb9f3a"
            ],
            [
             0.8888888888888888,
             "#fdca26"
            ],
            [
             1,
             "#f0f921"
            ]
           ]
          },
          "colorway": [
           "#636efa",
           "#EF553B",
           "#00cc96",
           "#ab63fa",
           "#FFA15A",
           "#19d3f3",
           "#FF6692",
           "#B6E880",
           "#FF97FF",
           "#FECB52"
          ],
          "font": {
           "color": "#2a3f5f"
          },
          "geo": {
           "bgcolor": "white",
           "lakecolor": "white",
           "landcolor": "#E5ECF6",
           "showlakes": true,
           "showland": true,
           "subunitcolor": "white"
          },
          "hoverlabel": {
           "align": "left"
          },
          "hovermode": "closest",
          "mapbox": {
           "style": "light"
          },
          "paper_bgcolor": "white",
          "plot_bgcolor": "#E5ECF6",
          "polar": {
           "angularaxis": {
            "gridcolor": "white",
            "linecolor": "white",
            "ticks": ""
           },
           "bgcolor": "#E5ECF6",
           "radialaxis": {
            "gridcolor": "white",
            "linecolor": "white",
            "ticks": ""
           }
          },
          "scene": {
           "xaxis": {
            "backgroundcolor": "#E5ECF6",
            "gridcolor": "white",
            "gridwidth": 2,
            "linecolor": "white",
            "showbackground": true,
            "ticks": "",
            "zerolinecolor": "white"
           },
           "yaxis": {
            "backgroundcolor": "#E5ECF6",
            "gridcolor": "white",
            "gridwidth": 2,
            "linecolor": "white",
            "showbackground": true,
            "ticks": "",
            "zerolinecolor": "white"
           },
           "zaxis": {
            "backgroundcolor": "#E5ECF6",
            "gridcolor": "white",
            "gridwidth": 2,
            "linecolor": "white",
            "showbackground": true,
            "ticks": "",
            "zerolinecolor": "white"
           }
          },
          "shapedefaults": {
           "line": {
            "color": "#2a3f5f"
           }
          },
          "ternary": {
           "aaxis": {
            "gridcolor": "white",
            "linecolor": "white",
            "ticks": ""
           },
           "baxis": {
            "gridcolor": "white",
            "linecolor": "white",
            "ticks": ""
           },
           "bgcolor": "#E5ECF6",
           "caxis": {
            "gridcolor": "white",
            "linecolor": "white",
            "ticks": ""
           }
          },
          "title": {
           "x": 0.05
          },
          "xaxis": {
           "automargin": true,
           "gridcolor": "white",
           "linecolor": "white",
           "ticks": "",
           "title": {
            "standoff": 15
           },
           "zerolinecolor": "white",
           "zerolinewidth": 2
          },
          "yaxis": {
           "automargin": true,
           "gridcolor": "white",
           "linecolor": "white",
           "ticks": "",
           "title": {
            "standoff": 15
           },
           "zerolinecolor": "white",
           "zerolinewidth": 2
          }
         }
        },
        "title": {
         "text": "3D PCA Projection of Day Representations Across All Layers"
        },
        "width": 800
       }
      }
     },
     "metadata": {},
     "output_type": "display_data"
    }
   ],
   "source": [
    "def plot_pca_from_df(df):\n",
    "    num_layers = df['Layer'].nunique()\n",
    "    entries = df['Entry'].unique()\n",
    "    \n",
    "    # Generate colors dynamically based on number of entries\n",
    "    n_colors = len(entries)\n",
    "    colors = [f'hsl({h},70%,50%)' for h in np.linspace(0, 360, n_colors, endpoint=False)]\n",
    "    \n",
    "    # Create single plot\n",
    "    fig = go.Figure()\n",
    "    \n",
    "    # Plot each layer\n",
    "    for layer_num in range(num_layers):\n",
    "        layer_data = df[df['Layer'] == layer_num]\n",
    "        \n",
    "        for entry, color in zip(entries, colors):\n",
    "            entry_data = layer_data[layer_data['Entry'] == entry]\n",
    "            # Scale opacity based on cumulative variance (0.2-0.9 range)\n",
    "            opacity = 0.2 + (0.7 * (1 - entry_data['Cumulative_var'].iloc[0]/100))\n",
    "            fig.add_trace(\n",
    "                go.Scatter3d(\n",
    "                    x=[entry_data['PCA1'].iloc[0]],\n",
    "                    y=[entry_data['PCA2'].iloc[0]],\n",
    "                    z=[entry_data['PCA3'].iloc[0]],\n",
    "                    mode='markers',\n",
    "                    marker=dict(color=color, size=5, opacity=opacity),\n",
    "                    name=entry,  # Use entry as the name for legend grouping\n",
    "                    legendgroup=entry,  # Group by entry for filtering\n",
    "                    showlegend=(layer_num == 0)  # Only show in legend for first layer\n",
    "                )\n",
    "            )\n",
    "\n",
    "    # Update layout\n",
    "    fig.update_layout(\n",
    "        height=800,\n",
    "        width=800,\n",
    "        title_text=\"3D PCA Projection of Day Representations Across All Layers\",\n",
    "        scene=dict(\n",
    "            xaxis_title=\"PCA1\",\n",
    "            yaxis_title=\"PCA2\", \n",
    "            zaxis_title=\"PCA3\",\n",
    "            aspectmode='cube',\n",
    "            camera=dict(\n",
    "                up=dict(x=0, y=0, z=1),\n",
    "                center=dict(x=0, y=0, z=0),\n",
    "                eye=dict(x=1.5, y=1.5, z=1.5)\n",
    "            )\n",
    "        ),\n",
    "        showlegend=True,\n",
    "    )\n",
    "    \n",
    "    fig.show()\n",
    "\n",
    "# Use the function\n",
    "plot_pca_from_df(df_aligned)\n"
   ]
  },
  {
   "cell_type": "code",
   "execution_count": 7,
   "metadata": {},
   "outputs": [
    {
     "data": {
      "application/vnd.plotly.v1+json": {
       "config": {
        "plotlyServerURL": "https://plot.ly"
       },
       "data": [
        {
         "marker": {
          "color": "hsl(0.0,70%,50%)",
          "opacity": 0.7,
          "size": 5
         },
         "mode": "markers",
         "name": "Monday - Layer 0",
         "showlegend": true,
         "type": "scatter3d",
         "x": [
          -5.9391
         ],
         "y": [
          -29.339
         ],
         "z": [
          -42.1587
         ]
        },
        {
         "marker": {
          "color": "hsl(51.42857142857143,70%,50%)",
          "opacity": 0.7,
          "size": 5
         },
         "mode": "markers",
         "name": "Tuesday - Layer 0",
         "showlegend": true,
         "type": "scatter3d",
         "x": [
          -24.1455
         ],
         "y": [
          -20.0585
         ],
         "z": [
          15.0121
         ]
        },
        {
         "marker": {
          "color": "hsl(102.85714285714286,70%,50%)",
          "opacity": 0.7,
          "size": 5
         },
         "mode": "markers",
         "name": "Wednesday - Layer 0",
         "showlegend": true,
         "type": "scatter3d",
         "x": [
          -25.2684
         ],
         "y": [
          -16.6185
         ],
         "z": [
          21.9364
         ]
        },
        {
         "marker": {
          "color": "hsl(154.28571428571428,70%,50%)",
          "opacity": 0.7,
          "size": 5
         },
         "mode": "markers",
         "name": "Thursday - Layer 0",
         "showlegend": true,
         "type": "scatter3d",
         "x": [
          -28.7213
         ],
         "y": [
          8.3444
         ],
         "z": [
          9.2712
         ]
        },
        {
         "marker": {
          "color": "hsl(205.71428571428572,70%,50%)",
          "opacity": 0.7,
          "size": 5
         },
         "mode": "markers",
         "name": "Friday - Layer 0",
         "showlegend": true,
         "type": "scatter3d",
         "x": [
          -8.351
         ],
         "y": [
          57.5687
         ],
         "z": [
          -28.5657
         ]
        },
        {
         "marker": {
          "color": "hsl(257.14285714285717,70%,50%)",
          "opacity": 0.7,
          "size": 5
         },
         "mode": "markers",
         "name": "Saturday - Layer 0",
         "showlegend": true,
         "type": "scatter3d",
         "x": [
          37.2715
         ],
         "y": [
          20.3413
         ],
         "z": [
          36.7632
         ]
        },
        {
         "marker": {
          "color": "hsl(308.57142857142856,70%,50%)",
          "opacity": 0.7,
          "size": 5
         },
         "mode": "markers",
         "name": "Sunday - Layer 0",
         "showlegend": true,
         "type": "scatter3d",
         "x": [
          55.1537
         ],
         "y": [
          -20.2384
         ],
         "z": [
          -12.2586
         ]
        }
       ],
       "frames": [
        {
         "data": [
          {
           "marker": {
            "color": "hsl(0.0,70%,50%)",
            "opacity": 0.7,
            "size": 5
           },
           "mode": "markers",
           "name": "Monday - Layer 0",
           "showlegend": true,
           "type": "scatter3d",
           "x": [
            -5.9391
           ],
           "y": [
            -29.339
           ],
           "z": [
            -42.1587
           ]
          },
          {
           "marker": {
            "color": "hsl(51.42857142857143,70%,50%)",
            "opacity": 0.7,
            "size": 5
           },
           "mode": "markers",
           "name": "Tuesday - Layer 0",
           "showlegend": true,
           "type": "scatter3d",
           "x": [
            -24.1455
           ],
           "y": [
            -20.0585
           ],
           "z": [
            15.0121
           ]
          },
          {
           "marker": {
            "color": "hsl(102.85714285714286,70%,50%)",
            "opacity": 0.7,
            "size": 5
           },
           "mode": "markers",
           "name": "Wednesday - Layer 0",
           "showlegend": true,
           "type": "scatter3d",
           "x": [
            -25.2684
           ],
           "y": [
            -16.6185
           ],
           "z": [
            21.9364
           ]
          },
          {
           "marker": {
            "color": "hsl(154.28571428571428,70%,50%)",
            "opacity": 0.7,
            "size": 5
           },
           "mode": "markers",
           "name": "Thursday - Layer 0",
           "showlegend": true,
           "type": "scatter3d",
           "x": [
            -28.7213
           ],
           "y": [
            8.3444
           ],
           "z": [
            9.2712
           ]
          },
          {
           "marker": {
            "color": "hsl(205.71428571428572,70%,50%)",
            "opacity": 0.7,
            "size": 5
           },
           "mode": "markers",
           "name": "Friday - Layer 0",
           "showlegend": true,
           "type": "scatter3d",
           "x": [
            -8.351
           ],
           "y": [
            57.5687
           ],
           "z": [
            -28.5657
           ]
          },
          {
           "marker": {
            "color": "hsl(257.14285714285717,70%,50%)",
            "opacity": 0.7,
            "size": 5
           },
           "mode": "markers",
           "name": "Saturday - Layer 0",
           "showlegend": true,
           "type": "scatter3d",
           "x": [
            37.2715
           ],
           "y": [
            20.3413
           ],
           "z": [
            36.7632
           ]
          },
          {
           "marker": {
            "color": "hsl(308.57142857142856,70%,50%)",
            "opacity": 0.7,
            "size": 5
           },
           "mode": "markers",
           "name": "Sunday - Layer 0",
           "showlegend": true,
           "type": "scatter3d",
           "x": [
            55.1537
           ],
           "y": [
            -20.2384
           ],
           "z": [
            -12.2586
           ]
          }
         ],
         "name": "0"
        },
        {
         "data": [
          {
           "marker": {
            "color": "hsl(0.0,70%,50%)",
            "opacity": 0.7,
            "size": 5
           },
           "mode": "markers",
           "name": "Monday - Layer 1",
           "showlegend": true,
           "type": "scatter3d",
           "x": [
            -13.975
           ],
           "y": [
            -28.3967
           ],
           "z": [
            -28.5221
           ]
          },
          {
           "marker": {
            "color": "hsl(51.42857142857143,70%,50%)",
            "opacity": 0.7,
            "size": 5
           },
           "mode": "markers",
           "name": "Tuesday - Layer 1",
           "showlegend": true,
           "type": "scatter3d",
           "x": [
            -32.9256
           ],
           "y": [
            -14.0982
           ],
           "z": [
            24.8471
           ]
          },
          {
           "marker": {
            "color": "hsl(102.85714285714286,70%,50%)",
            "opacity": 0.7,
            "size": 5
           },
           "mode": "markers",
           "name": "Wednesday - Layer 1",
           "showlegend": true,
           "type": "scatter3d",
           "x": [
            -26.2712
           ],
           "y": [
            -5.1338
           ],
           "z": [
            21.6052
           ]
          },
          {
           "marker": {
            "color": "hsl(154.28571428571428,70%,50%)",
            "opacity": 0.7,
            "size": 5
           },
           "mode": "markers",
           "name": "Thursday - Layer 1",
           "showlegend": true,
           "type": "scatter3d",
           "x": [
            -25.1376
           ],
           "y": [
            13.6851
           ],
           "z": [
            2.2265
           ]
          },
          {
           "marker": {
            "color": "hsl(205.71428571428572,70%,50%)",
            "opacity": 0.7,
            "size": 5
           },
           "mode": "markers",
           "name": "Friday - Layer 1",
           "showlegend": true,
           "type": "scatter3d",
           "x": [
            -1.5246
           ],
           "y": [
            41.0048
           ],
           "z": [
            -42.3086
           ]
          },
          {
           "marker": {
            "color": "hsl(257.14285714285717,70%,50%)",
            "opacity": 0.7,
            "size": 5
           },
           "mode": "markers",
           "name": "Saturday - Layer 1",
           "showlegend": true,
           "type": "scatter3d",
           "x": [
            46.6757
           ],
           "y": [
            33.0137
           ],
           "z": [
            30.6943
           ]
          },
          {
           "marker": {
            "color": "hsl(308.57142857142856,70%,50%)",
            "opacity": 0.7,
            "size": 5
           },
           "mode": "markers",
           "name": "Sunday - Layer 1",
           "showlegend": true,
           "type": "scatter3d",
           "x": [
            53.1583
           ],
           "y": [
            -40.0749
           ],
           "z": [
            -8.5425
           ]
          }
         ],
         "name": "1"
        },
        {
         "data": [
          {
           "marker": {
            "color": "hsl(0.0,70%,50%)",
            "opacity": 0.7,
            "size": 5
           },
           "mode": "markers",
           "name": "Monday - Layer 2",
           "showlegend": true,
           "type": "scatter3d",
           "x": [
            -10.5008
           ],
           "y": [
            -23.0115
           ],
           "z": [
            -44.5155
           ]
          },
          {
           "marker": {
            "color": "hsl(51.42857142857143,70%,50%)",
            "opacity": 0.7,
            "size": 5
           },
           "mode": "markers",
           "name": "Tuesday - Layer 2",
           "showlegend": true,
           "type": "scatter3d",
           "x": [
            -29.4715
           ],
           "y": [
            -24.9614
           ],
           "z": [
            5.3875
           ]
          },
          {
           "marker": {
            "color": "hsl(102.85714285714286,70%,50%)",
            "opacity": 0.7,
            "size": 5
           },
           "mode": "markers",
           "name": "Wednesday - Layer 2",
           "showlegend": true,
           "type": "scatter3d",
           "x": [
            -30.2616
           ],
           "y": [
            -18.7994
           ],
           "z": [
            29.001
           ]
          },
          {
           "marker": {
            "color": "hsl(154.28571428571428,70%,50%)",
            "opacity": 0.7,
            "size": 5
           },
           "mode": "markers",
           "name": "Thursday - Layer 2",
           "showlegend": true,
           "type": "scatter3d",
           "x": [
            -23.5011
           ],
           "y": [
            11.785
           ],
           "z": [
            7.5047
           ]
          },
          {
           "marker": {
            "color": "hsl(205.71428571428572,70%,50%)",
            "opacity": 0.7,
            "size": 5
           },
           "mode": "markers",
           "name": "Friday - Layer 2",
           "showlegend": true,
           "type": "scatter3d",
           "x": [
            -5.8748
           ],
           "y": [
            63.2979
           ],
           "z": [
            -21.5094
           ]
          },
          {
           "marker": {
            "color": "hsl(257.14285714285717,70%,50%)",
            "opacity": 0.7,
            "size": 5
           },
           "mode": "markers",
           "name": "Saturday - Layer 2",
           "showlegend": true,
           "type": "scatter3d",
           "x": [
            38.1009
           ],
           "y": [
            16.498
           ],
           "z": [
            36.9686
           ]
          },
          {
           "marker": {
            "color": "hsl(308.57142857142856,70%,50%)",
            "opacity": 0.7,
            "size": 5
           },
           "mode": "markers",
           "name": "Sunday - Layer 2",
           "showlegend": true,
           "type": "scatter3d",
           "x": [
            61.509
           ],
           "y": [
            -24.8086
           ],
           "z": [
            -12.8369
           ]
          }
         ],
         "name": "2"
        },
        {
         "data": [
          {
           "marker": {
            "color": "hsl(0.0,70%,50%)",
            "opacity": 0.7,
            "size": 5
           },
           "mode": "markers",
           "name": "Monday - Layer 3",
           "showlegend": true,
           "type": "scatter3d",
           "x": [
            -12.6336
           ],
           "y": [
            -27.7989
           ],
           "z": [
            -48.0984
           ]
          },
          {
           "marker": {
            "color": "hsl(51.42857142857143,70%,50%)",
            "opacity": 0.7,
            "size": 5
           },
           "mode": "markers",
           "name": "Tuesday - Layer 3",
           "showlegend": true,
           "type": "scatter3d",
           "x": [
            -34.5246
           ],
           "y": [
            -21.579
           ],
           "z": [
            1.1024
           ]
          },
          {
           "marker": {
            "color": "hsl(102.85714285714286,70%,50%)",
            "opacity": 0.7,
            "size": 5
           },
           "mode": "markers",
           "name": "Wednesday - Layer 3",
           "showlegend": true,
           "type": "scatter3d",
           "x": [
            -33.3354
           ],
           "y": [
            -9.1221
           ],
           "z": [
            25.2249
           ]
          },
          {
           "marker": {
            "color": "hsl(154.28571428571428,70%,50%)",
            "opacity": 0.7,
            "size": 5
           },
           "mode": "markers",
           "name": "Thursday - Layer 3",
           "showlegend": true,
           "type": "scatter3d",
           "x": [
            -26.8187
           ],
           "y": [
            22.2527
           ],
           "z": [
            25.6529
           ]
          },
          {
           "marker": {
            "color": "hsl(205.71428571428572,70%,50%)",
            "opacity": 0.7,
            "size": 5
           },
           "mode": "markers",
           "name": "Friday - Layer 3",
           "showlegend": true,
           "type": "scatter3d",
           "x": [
            7.3392
           ],
           "y": [
            58.4094
           ],
           "z": [
            -27.7898
           ]
          },
          {
           "marker": {
            "color": "hsl(257.14285714285717,70%,50%)",
            "opacity": 0.7,
            "size": 5
           },
           "mode": "markers",
           "name": "Saturday - Layer 3",
           "showlegend": true,
           "type": "scatter3d",
           "x": [
            47.0772
           ],
           "y": [
            10.2944
           ],
           "z": [
            17.4293
           ]
          },
          {
           "marker": {
            "color": "hsl(308.57142857142856,70%,50%)",
            "opacity": 0.7,
            "size": 5
           },
           "mode": "markers",
           "name": "Sunday - Layer 3",
           "showlegend": true,
           "type": "scatter3d",
           "x": [
            52.8959
           ],
           "y": [
            -32.4565
           ],
           "z": [
            6.4787
           ]
          }
         ],
         "name": "3"
        },
        {
         "data": [
          {
           "marker": {
            "color": "hsl(0.0,70%,50%)",
            "opacity": 0.7,
            "size": 5
           },
           "mode": "markers",
           "name": "Monday - Layer 4",
           "showlegend": true,
           "type": "scatter3d",
           "x": [
            -13.441
           ],
           "y": [
            -24.9096
           ],
           "z": [
            -8.3562
           ]
          },
          {
           "marker": {
            "color": "hsl(51.42857142857143,70%,50%)",
            "opacity": 0.7,
            "size": 5
           },
           "mode": "markers",
           "name": "Tuesday - Layer 4",
           "showlegend": true,
           "type": "scatter3d",
           "x": [
            -29.4455
           ],
           "y": [
            -17.3946
           ],
           "z": [
            20.1617
           ]
          },
          {
           "marker": {
            "color": "hsl(102.85714285714286,70%,50%)",
            "opacity": 0.7,
            "size": 5
           },
           "mode": "markers",
           "name": "Wednesday - Layer 4",
           "showlegend": true,
           "type": "scatter3d",
           "x": [
            -32.2149
           ],
           "y": [
            -10.2376
           ],
           "z": [
            19.8574
           ]
          },
          {
           "marker": {
            "color": "hsl(154.28571428571428,70%,50%)",
            "opacity": 0.7,
            "size": 5
           },
           "mode": "markers",
           "name": "Thursday - Layer 4",
           "showlegend": true,
           "type": "scatter3d",
           "x": [
            -28.7631
           ],
           "y": [
            12.7265
           ],
           "z": [
            -8.6898
           ]
          },
          {
           "marker": {
            "color": "hsl(205.71428571428572,70%,50%)",
            "opacity": 0.7,
            "size": 5
           },
           "mode": "markers",
           "name": "Friday - Layer 4",
           "showlegend": true,
           "type": "scatter3d",
           "x": [
            -3.9564
           ],
           "y": [
            46.7328
           ],
           "z": [
            -39.457
           ]
          },
          {
           "marker": {
            "color": "hsl(257.14285714285717,70%,50%)",
            "opacity": 0.7,
            "size": 5
           },
           "mode": "markers",
           "name": "Saturday - Layer 4",
           "showlegend": true,
           "type": "scatter3d",
           "x": [
            50.8583
           ],
           "y": [
            37.9762
           ],
           "z": [
            36.6888
           ]
          },
          {
           "marker": {
            "color": "hsl(308.57142857142856,70%,50%)",
            "opacity": 0.7,
            "size": 5
           },
           "mode": "markers",
           "name": "Sunday - Layer 4",
           "showlegend": true,
           "type": "scatter3d",
           "x": [
            56.9626
           ],
           "y": [
            -44.8937
           ],
           "z": [
            -20.2049
           ]
          }
         ],
         "name": "4"
        },
        {
         "data": [
          {
           "marker": {
            "color": "hsl(0.0,70%,50%)",
            "opacity": 0.7,
            "size": 5
           },
           "mode": "markers",
           "name": "Monday - Layer 5",
           "showlegend": true,
           "type": "scatter3d",
           "x": [
            -15.0626
           ],
           "y": [
            -21.5996
           ],
           "z": [
            -14.1024
           ]
          },
          {
           "marker": {
            "color": "hsl(51.42857142857143,70%,50%)",
            "opacity": 0.7,
            "size": 5
           },
           "mode": "markers",
           "name": "Tuesday - Layer 5",
           "showlegend": true,
           "type": "scatter3d",
           "x": [
            -30.1776
           ],
           "y": [
            -22.9737
           ],
           "z": [
            22.7311
           ]
          },
          {
           "marker": {
            "color": "hsl(102.85714285714286,70%,50%)",
            "opacity": 0.7,
            "size": 5
           },
           "mode": "markers",
           "name": "Wednesday - Layer 5",
           "showlegend": true,
           "type": "scatter3d",
           "x": [
            -32.6871
           ],
           "y": [
            -11.9651
           ],
           "z": [
            16.0884
           ]
          },
          {
           "marker": {
            "color": "hsl(154.28571428571428,70%,50%)",
            "opacity": 0.7,
            "size": 5
           },
           "mode": "markers",
           "name": "Thursday - Layer 5",
           "showlegend": true,
           "type": "scatter3d",
           "x": [
            -28.2642
           ],
           "y": [
            11.6007
           ],
           "z": [
            -4.2541
           ]
          },
          {
           "marker": {
            "color": "hsl(205.71428571428572,70%,50%)",
            "opacity": 0.7,
            "size": 5
           },
           "mode": "markers",
           "name": "Friday - Layer 5",
           "showlegend": true,
           "type": "scatter3d",
           "x": [
            -9.0168
           ],
           "y": [
            50.1499
           ],
           "z": [
            -35.1683
           ]
          },
          {
           "marker": {
            "color": "hsl(257.14285714285717,70%,50%)",
            "opacity": 0.7,
            "size": 5
           },
           "mode": "markers",
           "name": "Saturday - Layer 5",
           "showlegend": true,
           "type": "scatter3d",
           "x": [
            53.0481
           ],
           "y": [
            33.5467
           ],
           "z": [
            38.6293
           ]
          },
          {
           "marker": {
            "color": "hsl(308.57142857142856,70%,50%)",
            "opacity": 0.7,
            "size": 5
           },
           "mode": "markers",
           "name": "Sunday - Layer 5",
           "showlegend": true,
           "type": "scatter3d",
           "x": [
            62.1602
           ],
           "y": [
            -38.7587
           ],
           "z": [
            -23.924
           ]
          }
         ],
         "name": "5"
        },
        {
         "data": [
          {
           "marker": {
            "color": "hsl(0.0,70%,50%)",
            "opacity": 0.7,
            "size": 5
           },
           "mode": "markers",
           "name": "Monday - Layer 6",
           "showlegend": true,
           "type": "scatter3d",
           "x": [
            -19.2883
           ],
           "y": [
            -20.0664
           ],
           "z": [
            -22.0111
           ]
          },
          {
           "marker": {
            "color": "hsl(51.42857142857143,70%,50%)",
            "opacity": 0.7,
            "size": 5
           },
           "mode": "markers",
           "name": "Tuesday - Layer 6",
           "showlegend": true,
           "type": "scatter3d",
           "x": [
            -32.5856
           ],
           "y": [
            -21.6339
           ],
           "z": [
            21.197
           ]
          },
          {
           "marker": {
            "color": "hsl(102.85714285714286,70%,50%)",
            "opacity": 0.7,
            "size": 5
           },
           "mode": "markers",
           "name": "Wednesday - Layer 6",
           "showlegend": true,
           "type": "scatter3d",
           "x": [
            -33.4633
           ],
           "y": [
            -10.4245
           ],
           "z": [
            18.3338
           ]
          },
          {
           "marker": {
            "color": "hsl(154.28571428571428,70%,50%)",
            "opacity": 0.7,
            "size": 5
           },
           "mode": "markers",
           "name": "Thursday - Layer 6",
           "showlegend": true,
           "type": "scatter3d",
           "x": [
            -27.383
           ],
           "y": [
            12.9687
           ],
           "z": [
            1.5167
           ]
          },
          {
           "marker": {
            "color": "hsl(205.71428571428572,70%,50%)",
            "opacity": 0.7,
            "size": 5
           },
           "mode": "markers",
           "name": "Friday - Layer 6",
           "showlegend": true,
           "type": "scatter3d",
           "x": [
            -4.2464
           ],
           "y": [
            50.2481
           ],
           "z": [
            -35.1245
           ]
          },
          {
           "marker": {
            "color": "hsl(257.14285714285717,70%,50%)",
            "opacity": 0.7,
            "size": 5
           },
           "mode": "markers",
           "name": "Saturday - Layer 6",
           "showlegend": true,
           "type": "scatter3d",
           "x": [
            55.443
           ],
           "y": [
            31.2333
           ],
           "z": [
            35.8111
           ]
          },
          {
           "marker": {
            "color": "hsl(308.57142857142856,70%,50%)",
            "opacity": 0.7,
            "size": 5
           },
           "mode": "markers",
           "name": "Sunday - Layer 6",
           "showlegend": true,
           "type": "scatter3d",
           "x": [
            61.5236
           ],
           "y": [
            -42.3254
           ],
           "z": [
            -19.723
           ]
          }
         ],
         "name": "6"
        },
        {
         "data": [
          {
           "marker": {
            "color": "hsl(0.0,70%,50%)",
            "opacity": 0.7,
            "size": 5
           },
           "mode": "markers",
           "name": "Monday - Layer 7",
           "showlegend": true,
           "type": "scatter3d",
           "x": [
            -19.2271
           ],
           "y": [
            -24.8836
           ],
           "z": [
            -43.8255
           ]
          },
          {
           "marker": {
            "color": "hsl(51.42857142857143,70%,50%)",
            "opacity": 0.7,
            "size": 5
           },
           "mode": "markers",
           "name": "Tuesday - Layer 7",
           "showlegend": true,
           "type": "scatter3d",
           "x": [
            -34.076
           ],
           "y": [
            -20.3682
           ],
           "z": [
            15.503
           ]
          },
          {
           "marker": {
            "color": "hsl(102.85714285714286,70%,50%)",
            "opacity": 0.7,
            "size": 5
           },
           "mode": "markers",
           "name": "Wednesday - Layer 7",
           "showlegend": true,
           "type": "scatter3d",
           "x": [
            -36.3974
           ],
           "y": [
            -8.5204
           ],
           "z": [
            22.4271
           ]
          },
          {
           "marker": {
            "color": "hsl(154.28571428571428,70%,50%)",
            "opacity": 0.7,
            "size": 5
           },
           "mode": "markers",
           "name": "Thursday - Layer 7",
           "showlegend": true,
           "type": "scatter3d",
           "x": [
            -27.6172
           ],
           "y": [
            16.8196
           ],
           "z": [
            18.5437
           ]
          },
          {
           "marker": {
            "color": "hsl(205.71428571428572,70%,50%)",
            "opacity": 0.7,
            "size": 5
           },
           "mode": "markers",
           "name": "Friday - Layer 7",
           "showlegend": true,
           "type": "scatter3d",
           "x": [
            -1.7568
           ],
           "y": [
            47.3887
           ],
           "z": [
            -30.1315
           ]
          },
          {
           "marker": {
            "color": "hsl(257.14285714285717,70%,50%)",
            "opacity": 0.7,
            "size": 5
           },
           "mode": "markers",
           "name": "Saturday - Layer 7",
           "showlegend": true,
           "type": "scatter3d",
           "x": [
            55.0583
           ],
           "y": [
            29.7825
           ],
           "z": [
            17.6492
           ]
          },
          {
           "marker": {
            "color": "hsl(308.57142857142856,70%,50%)",
            "opacity": 0.7,
            "size": 5
           },
           "mode": "markers",
           "name": "Sunday - Layer 7",
           "showlegend": true,
           "type": "scatter3d",
           "x": [
            64.0162
           ],
           "y": [
            -40.2186
           ],
           "z": [
            -0.1659
           ]
          }
         ],
         "name": "7"
        },
        {
         "data": [
          {
           "marker": {
            "color": "hsl(0.0,70%,50%)",
            "opacity": 0.7,
            "size": 5
           },
           "mode": "markers",
           "name": "Monday - Layer 8",
           "showlegend": true,
           "type": "scatter3d",
           "x": [
            -19.0869
           ],
           "y": [
            -27.8721
           ],
           "z": [
            -43.4475
           ]
          },
          {
           "marker": {
            "color": "hsl(51.42857142857143,70%,50%)",
            "opacity": 0.7,
            "size": 5
           },
           "mode": "markers",
           "name": "Tuesday - Layer 8",
           "showlegend": true,
           "type": "scatter3d",
           "x": [
            -32.6105
           ],
           "y": [
            -22.7556
           ],
           "z": [
            13.0429
           ]
          },
          {
           "marker": {
            "color": "hsl(102.85714285714286,70%,50%)",
            "opacity": 0.7,
            "size": 5
           },
           "mode": "markers",
           "name": "Wednesday - Layer 8",
           "showlegend": true,
           "type": "scatter3d",
           "x": [
            -35.146
           ],
           "y": [
            -10.6948
           ],
           "z": [
            23.709
           ]
          },
          {
           "marker": {
            "color": "hsl(154.28571428571428,70%,50%)",
            "opacity": 0.7,
            "size": 5
           },
           "mode": "markers",
           "name": "Thursday - Layer 8",
           "showlegend": true,
           "type": "scatter3d",
           "x": [
            -30.213
           ],
           "y": [
            17.5835
           ],
           "z": [
            21.3779
           ]
          },
          {
           "marker": {
            "color": "hsl(205.71428571428572,70%,50%)",
            "opacity": 0.7,
            "size": 5
           },
           "mode": "markers",
           "name": "Friday - Layer 8",
           "showlegend": true,
           "type": "scatter3d",
           "x": [
            -7.4181
           ],
           "y": [
            46.1505
           ],
           "z": [
            -30.0344
           ]
          },
          {
           "marker": {
            "color": "hsl(257.14285714285717,70%,50%)",
            "opacity": 0.7,
            "size": 5
           },
           "mode": "markers",
           "name": "Saturday - Layer 8",
           "showlegend": true,
           "type": "scatter3d",
           "x": [
            52.8746
           ],
           "y": [
            32.2391
           ],
           "z": [
            13.1792
           ]
          },
          {
           "marker": {
            "color": "hsl(308.57142857142856,70%,50%)",
            "opacity": 0.7,
            "size": 5
           },
           "mode": "markers",
           "name": "Sunday - Layer 8",
           "showlegend": true,
           "type": "scatter3d",
           "x": [
            71.5999
           ],
           "y": [
            -34.6505
           ],
           "z": [
            2.1729
           ]
          }
         ],
         "name": "8"
        },
        {
         "data": [
          {
           "marker": {
            "color": "hsl(0.0,70%,50%)",
            "opacity": 0.7,
            "size": 5
           },
           "mode": "markers",
           "name": "Monday - Layer 9",
           "showlegend": true,
           "type": "scatter3d",
           "x": [
            -18.5541
           ],
           "y": [
            -31.1292
           ],
           "z": [
            -35.0809
           ]
          },
          {
           "marker": {
            "color": "hsl(51.42857142857143,70%,50%)",
            "opacity": 0.7,
            "size": 5
           },
           "mode": "markers",
           "name": "Tuesday - Layer 9",
           "showlegend": true,
           "type": "scatter3d",
           "x": [
            -31.4352
           ],
           "y": [
            -20.5942
           ],
           "z": [
            17.6557
           ]
          },
          {
           "marker": {
            "color": "hsl(102.85714285714286,70%,50%)",
            "opacity": 0.7,
            "size": 5
           },
           "mode": "markers",
           "name": "Wednesday - Layer 9",
           "showlegend": true,
           "type": "scatter3d",
           "x": [
            -33.9412
           ],
           "y": [
            -7.1201
           ],
           "z": [
            24.8208
           ]
          },
          {
           "marker": {
            "color": "hsl(154.28571428571428,70%,50%)",
            "opacity": 0.7,
            "size": 5
           },
           "mode": "markers",
           "name": "Thursday - Layer 9",
           "showlegend": true,
           "type": "scatter3d",
           "x": [
            -30.1877
           ],
           "y": [
            16.9786
           ],
           "z": [
            15.4884
           ]
          },
          {
           "marker": {
            "color": "hsl(205.71428571428572,70%,50%)",
            "opacity": 0.7,
            "size": 5
           },
           "mode": "markers",
           "name": "Friday - Layer 9",
           "showlegend": true,
           "type": "scatter3d",
           "x": [
            -9.2333
           ],
           "y": [
            40.8771
           ],
           "z": [
            -39.817
           ]
          },
          {
           "marker": {
            "color": "hsl(257.14285714285717,70%,50%)",
            "opacity": 0.7,
            "size": 5
           },
           "mode": "markers",
           "name": "Saturday - Layer 9",
           "showlegend": true,
           "type": "scatter3d",
           "x": [
            52.821
           ],
           "y": [
            36.4959
           ],
           "z": [
            19.6404
           ]
          },
          {
           "marker": {
            "color": "hsl(308.57142857142856,70%,50%)",
            "opacity": 0.7,
            "size": 5
           },
           "mode": "markers",
           "name": "Sunday - Layer 9",
           "showlegend": true,
           "type": "scatter3d",
           "x": [
            70.5305
           ],
           "y": [
            -35.508
           ],
           "z": [
            -2.7073
           ]
          }
         ],
         "name": "9"
        },
        {
         "data": [
          {
           "marker": {
            "color": "hsl(0.0,70%,50%)",
            "opacity": 0.7,
            "size": 5
           },
           "mode": "markers",
           "name": "Monday - Layer 10",
           "showlegend": true,
           "type": "scatter3d",
           "x": [
            -17.6466
           ],
           "y": [
            -27.525
           ],
           "z": [
            -36.304
           ]
          },
          {
           "marker": {
            "color": "hsl(51.42857142857143,70%,50%)",
            "opacity": 0.7,
            "size": 5
           },
           "mode": "markers",
           "name": "Tuesday - Layer 10",
           "showlegend": true,
           "type": "scatter3d",
           "x": [
            -31.0388
           ],
           "y": [
            -21.7118
           ],
           "z": [
            14.6382
           ]
          },
          {
           "marker": {
            "color": "hsl(102.85714285714286,70%,50%)",
            "opacity": 0.7,
            "size": 5
           },
           "mode": "markers",
           "name": "Wednesday - Layer 10",
           "showlegend": true,
           "type": "scatter3d",
           "x": [
            -33.8102
           ],
           "y": [
            -9.0359
           ],
           "z": [
            25.5331
           ]
          },
          {
           "marker": {
            "color": "hsl(154.28571428571428,70%,50%)",
            "opacity": 0.7,
            "size": 5
           },
           "mode": "markers",
           "name": "Thursday - Layer 10",
           "showlegend": true,
           "type": "scatter3d",
           "x": [
            -30.6615
           ],
           "y": [
            15.2366
           ],
           "z": [
            18.1072
           ]
          },
          {
           "marker": {
            "color": "hsl(205.71428571428572,70%,50%)",
            "opacity": 0.7,
            "size": 5
           },
           "mode": "markers",
           "name": "Friday - Layer 10",
           "showlegend": true,
           "type": "scatter3d",
           "x": [
            -9.7989
           ],
           "y": [
            41.5706
           ],
           "z": [
            -39.4711
           ]
          },
          {
           "marker": {
            "color": "hsl(257.14285714285717,70%,50%)",
            "opacity": 0.7,
            "size": 5
           },
           "mode": "markers",
           "name": "Saturday - Layer 10",
           "showlegend": true,
           "type": "scatter3d",
           "x": [
            52.1539
           ],
           "y": [
            37.2356
           ],
           "z": [
            21.0951
           ]
          },
          {
           "marker": {
            "color": "hsl(308.57142857142856,70%,50%)",
            "opacity": 0.7,
            "size": 5
           },
           "mode": "markers",
           "name": "Sunday - Layer 10",
           "showlegend": true,
           "type": "scatter3d",
           "x": [
            70.802
           ],
           "y": [
            -35.7701
           ],
           "z": [
            -3.5985
           ]
          }
         ],
         "name": "10"
        },
        {
         "data": [
          {
           "marker": {
            "color": "hsl(0.0,70%,50%)",
            "opacity": 0.7,
            "size": 5
           },
           "mode": "markers",
           "name": "Monday - Layer 11",
           "showlegend": true,
           "type": "scatter3d",
           "x": [
            -17.9491
           ],
           "y": [
            -35.569
           ],
           "z": [
            -34.0389
           ]
          },
          {
           "marker": {
            "color": "hsl(51.42857142857143,70%,50%)",
            "opacity": 0.7,
            "size": 5
           },
           "mode": "markers",
           "name": "Tuesday - Layer 11",
           "showlegend": true,
           "type": "scatter3d",
           "x": [
            -30.9915
           ],
           "y": [
            -18.7669
           ],
           "z": [
            18.2638
           ]
          },
          {
           "marker": {
            "color": "hsl(102.85714285714286,70%,50%)",
            "opacity": 0.7,
            "size": 5
           },
           "mode": "markers",
           "name": "Wednesday - Layer 11",
           "showlegend": true,
           "type": "scatter3d",
           "x": [
            -34.4319
           ],
           "y": [
            -4.7179
           ],
           "z": [
            27.1938
           ]
          },
          {
           "marker": {
            "color": "hsl(154.28571428571428,70%,50%)",
            "opacity": 0.7,
            "size": 5
           },
           "mode": "markers",
           "name": "Thursday - Layer 11",
           "showlegend": true,
           "type": "scatter3d",
           "x": [
            -30.3785
           ],
           "y": [
            20.2582
           ],
           "z": [
            15.0404
           ]
          },
          {
           "marker": {
            "color": "hsl(205.71428571428572,70%,50%)",
            "opacity": 0.7,
            "size": 5
           },
           "mode": "markers",
           "name": "Friday - Layer 11",
           "showlegend": true,
           "type": "scatter3d",
           "x": [
            -8.7918
           ],
           "y": [
            36.7168
           ],
           "z": [
            -44.2695
           ]
          },
          {
           "marker": {
            "color": "hsl(257.14285714285717,70%,50%)",
            "opacity": 0.7,
            "size": 5
           },
           "mode": "markers",
           "name": "Saturday - Layer 11",
           "showlegend": true,
           "type": "scatter3d",
           "x": [
            53.0764
           ],
           "y": [
            35.9165
           ],
           "z": [
            16.97
           ]
          },
          {
           "marker": {
            "color": "hsl(308.57142857142856,70%,50%)",
            "opacity": 0.7,
            "size": 5
           },
           "mode": "markers",
           "name": "Sunday - Layer 11",
           "showlegend": true,
           "type": "scatter3d",
           "x": [
            69.4664
           ],
           "y": [
            -33.8377
           ],
           "z": [
            0.8404
           ]
          }
         ],
         "name": "11"
        },
        {
         "data": [
          {
           "marker": {
            "color": "hsl(0.0,70%,50%)",
            "opacity": 0.7,
            "size": 5
           },
           "mode": "markers",
           "name": "Monday - Layer 12",
           "showlegend": true,
           "type": "scatter3d",
           "x": [
            -17.8176
           ],
           "y": [
            -44.3651
           ],
           "z": [
            -31.1042
           ]
          },
          {
           "marker": {
            "color": "hsl(51.42857142857143,70%,50%)",
            "opacity": 0.7,
            "size": 5
           },
           "mode": "markers",
           "name": "Tuesday - Layer 12",
           "showlegend": true,
           "type": "scatter3d",
           "x": [
            -30.109
           ],
           "y": [
            -17.441
           ],
           "z": [
            21.5897
           ]
          },
          {
           "marker": {
            "color": "hsl(102.85714285714286,70%,50%)",
            "opacity": 0.7,
            "size": 5
           },
           "mode": "markers",
           "name": "Wednesday - Layer 12",
           "showlegend": true,
           "type": "scatter3d",
           "x": [
            -32.9598
           ],
           "y": [
            0.8608
           ],
           "z": [
            28.0812
           ]
          },
          {
           "marker": {
            "color": "hsl(154.28571428571428,70%,50%)",
            "opacity": 0.7,
            "size": 5
           },
           "mode": "markers",
           "name": "Thursday - Layer 12",
           "showlegend": true,
           "type": "scatter3d",
           "x": [
            -30.9466
           ],
           "y": [
            24.1612
           ],
           "z": [
            12.1532
           ]
          },
          {
           "marker": {
            "color": "hsl(205.71428571428572,70%,50%)",
            "opacity": 0.7,
            "size": 5
           },
           "mode": "markers",
           "name": "Friday - Layer 12",
           "showlegend": true,
           "type": "scatter3d",
           "x": [
            -9.174
           ],
           "y": [
            32.2701
           ],
           "z": [
            -47.3021
           ]
          },
          {
           "marker": {
            "color": "hsl(257.14285714285717,70%,50%)",
            "opacity": 0.7,
            "size": 5
           },
           "mode": "markers",
           "name": "Saturday - Layer 12",
           "showlegend": true,
           "type": "scatter3d",
           "x": [
            52.6815
           ],
           "y": [
            35.2796
           ],
           "z": [
            10.832
           ]
          },
          {
           "marker": {
            "color": "hsl(308.57142857142856,70%,50%)",
            "opacity": 0.7,
            "size": 5
           },
           "mode": "markers",
           "name": "Sunday - Layer 12",
           "showlegend": true,
           "type": "scatter3d",
           "x": [
            68.3255
           ],
           "y": [
            -30.7656
           ],
           "z": [
            5.7503
           ]
          }
         ],
         "name": "12"
        },
        {
         "data": [
          {
           "marker": {
            "color": "hsl(0.0,70%,50%)",
            "opacity": 0.7,
            "size": 5
           },
           "mode": "markers",
           "name": "Monday - Layer 13",
           "showlegend": true,
           "type": "scatter3d",
           "x": [
            -13.4621
           ],
           "y": [
            -43.4538
           ],
           "z": [
            -33.8944
           ]
          },
          {
           "marker": {
            "color": "hsl(51.42857142857143,70%,50%)",
            "opacity": 0.7,
            "size": 5
           },
           "mode": "markers",
           "name": "Tuesday - Layer 13",
           "showlegend": true,
           "type": "scatter3d",
           "x": [
            -29.1562
           ],
           "y": [
            -16.8273
           ],
           "z": [
            21.4378
           ]
          },
          {
           "marker": {
            "color": "hsl(102.85714285714286,70%,50%)",
            "opacity": 0.7,
            "size": 5
           },
           "mode": "markers",
           "name": "Wednesday - Layer 13",
           "showlegend": true,
           "type": "scatter3d",
           "x": [
            -31.9525
           ],
           "y": [
            -3.336
           ],
           "z": [
            27.8258
           ]
          },
          {
           "marker": {
            "color": "hsl(154.28571428571428,70%,50%)",
            "opacity": 0.7,
            "size": 5
           },
           "mode": "markers",
           "name": "Thursday - Layer 13",
           "showlegend": true,
           "type": "scatter3d",
           "x": [
            -31.7183
           ],
           "y": [
            17.1964
           ],
           "z": [
            13.9142
           ]
          },
          {
           "marker": {
            "color": "hsl(205.71428571428572,70%,50%)",
            "opacity": 0.7,
            "size": 5
           },
           "mode": "markers",
           "name": "Friday - Layer 13",
           "showlegend": true,
           "type": "scatter3d",
           "x": [
            -13.4425
           ],
           "y": [
            27.6124
           ],
           "z": [
            -43.1015
           ]
          },
          {
           "marker": {
            "color": "hsl(257.14285714285717,70%,50%)",
            "opacity": 0.7,
            "size": 5
           },
           "mode": "markers",
           "name": "Saturday - Layer 13",
           "showlegend": true,
           "type": "scatter3d",
           "x": [
            41.8452
           ],
           "y": [
            48.0142
           ],
           "z": [
            4.3403
           ]
          },
          {
           "marker": {
            "color": "hsl(308.57142857142856,70%,50%)",
            "opacity": 0.7,
            "size": 5
           },
           "mode": "markers",
           "name": "Sunday - Layer 13",
           "showlegend": true,
           "type": "scatter3d",
           "x": [
            77.8864
           ],
           "y": [
            -29.2058
           ],
           "z": [
            9.4777
           ]
          }
         ],
         "name": "13"
        },
        {
         "data": [
          {
           "marker": {
            "color": "hsl(0.0,70%,50%)",
            "opacity": 0.7,
            "size": 5
           },
           "mode": "markers",
           "name": "Monday - Layer 14",
           "showlegend": true,
           "type": "scatter3d",
           "x": [
            -17.3023
           ],
           "y": [
            -29.1308
           ],
           "z": [
            -42.0167
           ]
          },
          {
           "marker": {
            "color": "hsl(51.42857142857143,70%,50%)",
            "opacity": 0.7,
            "size": 5
           },
           "mode": "markers",
           "name": "Tuesday - Layer 14",
           "showlegend": true,
           "type": "scatter3d",
           "x": [
            -35.6447
           ],
           "y": [
            -21.2147
           ],
           "z": [
            15.0139
           ]
          },
          {
           "marker": {
            "color": "hsl(102.85714285714286,70%,50%)",
            "opacity": 0.7,
            "size": 5
           },
           "mode": "markers",
           "name": "Wednesday - Layer 14",
           "showlegend": true,
           "type": "scatter3d",
           "x": [
            -37.5443
           ],
           "y": [
            -7.6368
           ],
           "z": [
            21.8388
           ]
          },
          {
           "marker": {
            "color": "hsl(154.28571428571428,70%,50%)",
            "opacity": 0.7,
            "size": 5
           },
           "mode": "markers",
           "name": "Thursday - Layer 14",
           "showlegend": true,
           "type": "scatter3d",
           "x": [
            -31.5482
           ],
           "y": [
            17.2817
           ],
           "z": [
            18.0795
           ]
          },
          {
           "marker": {
            "color": "hsl(205.71428571428572,70%,50%)",
            "opacity": 0.7,
            "size": 5
           },
           "mode": "markers",
           "name": "Friday - Layer 14",
           "showlegend": true,
           "type": "scatter3d",
           "x": [
            -3.2829
           ],
           "y": [
            47.3276
           ],
           "z": [
            -31.4674
           ]
          },
          {
           "marker": {
            "color": "hsl(257.14285714285717,70%,50%)",
            "opacity": 0.7,
            "size": 5
           },
           "mode": "markers",
           "name": "Saturday - Layer 14",
           "showlegend": true,
           "type": "scatter3d",
           "x": [
            57.2723
           ],
           "y": [
            36.6853
           ],
           "z": [
            15.5214
           ]
          },
          {
           "marker": {
            "color": "hsl(308.57142857142856,70%,50%)",
            "opacity": 0.7,
            "size": 5
           },
           "mode": "markers",
           "name": "Sunday - Layer 14",
           "showlegend": true,
           "type": "scatter3d",
           "x": [
            68.0501
           ],
           "y": [
            -43.3123
           ],
           "z": [
            3.0306
           ]
          }
         ],
         "name": "14"
        },
        {
         "data": [
          {
           "marker": {
            "color": "hsl(0.0,70%,50%)",
            "opacity": 0.7,
            "size": 5
           },
           "mode": "markers",
           "name": "Monday - Layer 15",
           "showlegend": true,
           "type": "scatter3d",
           "x": [
            -17.0793
           ],
           "y": [
            -33.3547
           ],
           "z": [
            -42.0225
           ]
          },
          {
           "marker": {
            "color": "hsl(51.42857142857143,70%,50%)",
            "opacity": 0.7,
            "size": 5
           },
           "mode": "markers",
           "name": "Tuesday - Layer 15",
           "showlegend": true,
           "type": "scatter3d",
           "x": [
            -35.379
           ],
           "y": [
            -20.8392
           ],
           "z": [
            19.2313
           ]
          },
          {
           "marker": {
            "color": "hsl(102.85714285714286,70%,50%)",
            "opacity": 0.7,
            "size": 5
           },
           "mode": "markers",
           "name": "Wednesday - Layer 15",
           "showlegend": true,
           "type": "scatter3d",
           "x": [
            -36.6371
           ],
           "y": [
            -5.095
           ],
           "z": [
            21.9681
           ]
          },
          {
           "marker": {
            "color": "hsl(154.28571428571428,70%,50%)",
            "opacity": 0.7,
            "size": 5
           },
           "mode": "markers",
           "name": "Thursday - Layer 15",
           "showlegend": true,
           "type": "scatter3d",
           "x": [
            -29.8714
           ],
           "y": [
            19.9761
           ],
           "z": [
            14.4474
           ]
          },
          {
           "marker": {
            "color": "hsl(205.71428571428572,70%,50%)",
            "opacity": 0.7,
            "size": 5
           },
           "mode": "markers",
           "name": "Friday - Layer 15",
           "showlegend": true,
           "type": "scatter3d",
           "x": [
            -1.9191
           ],
           "y": [
            45.3927
           ],
           "z": [
            -33.3836
           ]
          },
          {
           "marker": {
            "color": "hsl(257.14285714285717,70%,50%)",
            "opacity": 0.7,
            "size": 5
           },
           "mode": "markers",
           "name": "Saturday - Layer 15",
           "showlegend": true,
           "type": "scatter3d",
           "x": [
            54.7021
           ],
           "y": [
            35.4818
           ],
           "z": [
            15.044
           ]
          },
          {
           "marker": {
            "color": "hsl(308.57142857142856,70%,50%)",
            "opacity": 0.7,
            "size": 5
           },
           "mode": "markers",
           "name": "Sunday - Layer 15",
           "showlegend": true,
           "type": "scatter3d",
           "x": [
            66.1838
           ],
           "y": [
            -41.5617
           ],
           "z": [
            4.7153
           ]
          }
         ],
         "name": "15"
        },
        {
         "data": [
          {
           "marker": {
            "color": "hsl(0.0,70%,50%)",
            "opacity": 0.7,
            "size": 5
           },
           "mode": "markers",
           "name": "Monday - Layer 16",
           "showlegend": true,
           "type": "scatter3d",
           "x": [
            -18.9093
           ],
           "y": [
            -44.439
           ],
           "z": [
            -40.4702
           ]
          },
          {
           "marker": {
            "color": "hsl(51.42857142857143,70%,50%)",
            "opacity": 0.7,
            "size": 5
           },
           "mode": "markers",
           "name": "Tuesday - Layer 16",
           "showlegend": true,
           "type": "scatter3d",
           "x": [
            -37.08
           ],
           "y": [
            -22.4802
           ],
           "z": [
            9.981
           ]
          },
          {
           "marker": {
            "color": "hsl(102.85714285714286,70%,50%)",
            "opacity": 0.7,
            "size": 5
           },
           "mode": "markers",
           "name": "Wednesday - Layer 16",
           "showlegend": true,
           "type": "scatter3d",
           "x": [
            -35.5219
           ],
           "y": [
            3.9704
           ],
           "z": [
            26.7121
           ]
          },
          {
           "marker": {
            "color": "hsl(154.28571428571428,70%,50%)",
            "opacity": 0.7,
            "size": 5
           },
           "mode": "markers",
           "name": "Thursday - Layer 16",
           "showlegend": true,
           "type": "scatter3d",
           "x": [
            -25.3535
           ],
           "y": [
            30.3777
           ],
           "z": [
            16.5757
           ]
          },
          {
           "marker": {
            "color": "hsl(205.71428571428572,70%,50%)",
            "opacity": 0.7,
            "size": 5
           },
           "mode": "markers",
           "name": "Friday - Layer 16",
           "showlegend": true,
           "type": "scatter3d",
           "x": [
            5.0412
           ],
           "y": [
            49.8366
           ],
           "z": [
            -33.0412
           ]
          },
          {
           "marker": {
            "color": "hsl(257.14285714285717,70%,50%)",
            "opacity": 0.7,
            "size": 5
           },
           "mode": "markers",
           "name": "Saturday - Layer 16",
           "showlegend": true,
           "type": "scatter3d",
           "x": [
            55.1476
           ],
           "y": [
            23.1314
           ],
           "z": [
            4.419
           ]
          },
          {
           "marker": {
            "color": "hsl(308.57142857142856,70%,50%)",
            "opacity": 0.7,
            "size": 5
           },
           "mode": "markers",
           "name": "Sunday - Layer 16",
           "showlegend": true,
           "type": "scatter3d",
           "x": [
            56.6759
           ],
           "y": [
            -40.3969
           ],
           "z": [
            15.8236
           ]
          }
         ],
         "name": "16"
        },
        {
         "data": [
          {
           "marker": {
            "color": "hsl(0.0,70%,50%)",
            "opacity": 0.7,
            "size": 5
           },
           "mode": "markers",
           "name": "Monday - Layer 17",
           "showlegend": true,
           "type": "scatter3d",
           "x": [
            -14.2539
           ],
           "y": [
            -41.6368
           ],
           "z": [
            -15.2916
           ]
          },
          {
           "marker": {
            "color": "hsl(51.42857142857143,70%,50%)",
            "opacity": 0.7,
            "size": 5
           },
           "mode": "markers",
           "name": "Tuesday - Layer 17",
           "showlegend": true,
           "type": "scatter3d",
           "x": [
            -34.792
           ],
           "y": [
            -22.6686
           ],
           "z": [
            24.2615
           ]
          },
          {
           "marker": {
            "color": "hsl(102.85714285714286,70%,50%)",
            "opacity": 0.7,
            "size": 5
           },
           "mode": "markers",
           "name": "Wednesday - Layer 17",
           "showlegend": true,
           "type": "scatter3d",
           "x": [
            -30.7846
           ],
           "y": [
            -0.8991
           ],
           "z": [
            13.9625
           ]
          },
          {
           "marker": {
            "color": "hsl(154.28571428571428,70%,50%)",
            "opacity": 0.7,
            "size": 5
           },
           "mode": "markers",
           "name": "Thursday - Layer 17",
           "showlegend": true,
           "type": "scatter3d",
           "x": [
            -28.5919
           ],
           "y": [
            23.1789
           ],
           "z": [
            -3.9219
           ]
          },
          {
           "marker": {
            "color": "hsl(205.71428571428572,70%,50%)",
            "opacity": 0.7,
            "size": 5
           },
           "mode": "markers",
           "name": "Friday - Layer 17",
           "showlegend": true,
           "type": "scatter3d",
           "x": [
            -2.9289
           ],
           "y": [
            44.3089
           ],
           "z": [
            -40.0894
           ]
          },
          {
           "marker": {
            "color": "hsl(257.14285714285717,70%,50%)",
            "opacity": 0.7,
            "size": 5
           },
           "mode": "markers",
           "name": "Saturday - Layer 17",
           "showlegend": true,
           "type": "scatter3d",
           "x": [
            48.8325
           ],
           "y": [
            34.6761
           ],
           "z": [
            35.9057
           ]
          },
          {
           "marker": {
            "color": "hsl(308.57142857142856,70%,50%)",
            "opacity": 0.7,
            "size": 5
           },
           "mode": "markers",
           "name": "Sunday - Layer 17",
           "showlegend": true,
           "type": "scatter3d",
           "x": [
            62.5188
           ],
           "y": [
            -36.9595
           ],
           "z": [
            -14.8268
           ]
          }
         ],
         "name": "17"
        },
        {
         "data": [
          {
           "marker": {
            "color": "hsl(0.0,70%,50%)",
            "opacity": 0.7,
            "size": 5
           },
           "mode": "markers",
           "name": "Monday - Layer 18",
           "showlegend": true,
           "type": "scatter3d",
           "x": [
            -13.6443
           ],
           "y": [
            -33.6632
           ],
           "z": [
            -1.8227
           ]
          },
          {
           "marker": {
            "color": "hsl(51.42857142857143,70%,50%)",
            "opacity": 0.7,
            "size": 5
           },
           "mode": "markers",
           "name": "Tuesday - Layer 18",
           "showlegend": true,
           "type": "scatter3d",
           "x": [
            -27.1852
           ],
           "y": [
            -18.8616
           ],
           "z": [
            25.3095
           ]
          },
          {
           "marker": {
            "color": "hsl(102.85714285714286,70%,50%)",
            "opacity": 0.7,
            "size": 5
           },
           "mode": "markers",
           "name": "Wednesday - Layer 18",
           "showlegend": true,
           "type": "scatter3d",
           "x": [
            -24.1976
           ],
           "y": [
            -3.8583
           ],
           "z": [
            16.8128
           ]
          },
          {
           "marker": {
            "color": "hsl(154.28571428571428,70%,50%)",
            "opacity": 0.7,
            "size": 5
           },
           "mode": "markers",
           "name": "Thursday - Layer 18",
           "showlegend": true,
           "type": "scatter3d",
           "x": [
            -29.6951
           ],
           "y": [
            21.9263
           ],
           "z": [
            -1.3399
           ]
          },
          {
           "marker": {
            "color": "hsl(205.71428571428572,70%,50%)",
            "opacity": 0.7,
            "size": 5
           },
           "mode": "markers",
           "name": "Friday - Layer 18",
           "showlegend": true,
           "type": "scatter3d",
           "x": [
            -10.6072
           ],
           "y": [
            36.2061
           ],
           "z": [
            -48.0211
           ]
          },
          {
           "marker": {
            "color": "hsl(257.14285714285717,70%,50%)",
            "opacity": 0.7,
            "size": 5
           },
           "mode": "markers",
           "name": "Saturday - Layer 18",
           "showlegend": true,
           "type": "scatter3d",
           "x": [
            53.4379
           ],
           "y": [
            39.119
           ],
           "z": [
            32.7458
           ]
          },
          {
           "marker": {
            "color": "hsl(308.57142857142856,70%,50%)",
            "opacity": 0.7,
            "size": 5
           },
           "mode": "markers",
           "name": "Sunday - Layer 18",
           "showlegend": true,
           "type": "scatter3d",
           "x": [
            51.8915
           ],
           "y": [
            -40.8683
           ],
           "z": [
            -23.6844
           ]
          }
         ],
         "name": "18"
        },
        {
         "data": [
          {
           "marker": {
            "color": "hsl(0.0,70%,50%)",
            "opacity": 0.7,
            "size": 5
           },
           "mode": "markers",
           "name": "Monday - Layer 19",
           "showlegend": true,
           "type": "scatter3d",
           "x": [
            -7.4621
           ],
           "y": [
            -34.9627
           ],
           "z": [
            -8.2378
           ]
          },
          {
           "marker": {
            "color": "hsl(51.42857142857143,70%,50%)",
            "opacity": 0.7,
            "size": 5
           },
           "mode": "markers",
           "name": "Tuesday - Layer 19",
           "showlegend": true,
           "type": "scatter3d",
           "x": [
            -24.0817
           ],
           "y": [
            -20.6673
           ],
           "z": [
            22.9495
           ]
          },
          {
           "marker": {
            "color": "hsl(102.85714285714286,70%,50%)",
            "opacity": 0.7,
            "size": 5
           },
           "mode": "markers",
           "name": "Wednesday - Layer 19",
           "showlegend": true,
           "type": "scatter3d",
           "x": [
            -25.6717
           ],
           "y": [
            -5.9869
           ],
           "z": [
            19.1409
           ]
          },
          {
           "marker": {
            "color": "hsl(154.28571428571428,70%,50%)",
            "opacity": 0.7,
            "size": 5
           },
           "mode": "markers",
           "name": "Thursday - Layer 19",
           "showlegend": true,
           "type": "scatter3d",
           "x": [
            -29.1819
           ],
           "y": [
            14.1883
           ],
           "z": [
            5.7426
           ]
          },
          {
           "marker": {
            "color": "hsl(205.71428571428572,70%,50%)",
            "opacity": 0.7,
            "size": 5
           },
           "mode": "markers",
           "name": "Friday - Layer 19",
           "showlegend": true,
           "type": "scatter3d",
           "x": [
            -15.9024
           ],
           "y": [
            36.0906
           ],
           "z": [
            -51.9977
           ]
          },
          {
           "marker": {
            "color": "hsl(257.14285714285717,70%,50%)",
            "opacity": 0.7,
            "size": 5
           },
           "mode": "markers",
           "name": "Saturday - Layer 19",
           "showlegend": true,
           "type": "scatter3d",
           "x": [
            44.9271
           ],
           "y": [
            46.1863
           ],
           "z": [
            31.1996
           ]
          },
          {
           "marker": {
            "color": "hsl(308.57142857142856,70%,50%)",
            "opacity": 0.7,
            "size": 5
           },
           "mode": "markers",
           "name": "Sunday - Layer 19",
           "showlegend": true,
           "type": "scatter3d",
           "x": [
            57.3728
           ],
           "y": [
            -34.8483
           ],
           "z": [
            -18.7971
           ]
          }
         ],
         "name": "19"
        },
        {
         "data": [
          {
           "marker": {
            "color": "hsl(0.0,70%,50%)",
            "opacity": 0.7,
            "size": 5
           },
           "mode": "markers",
           "name": "Monday - Layer 20",
           "showlegend": true,
           "type": "scatter3d",
           "x": [
            -11.7276
           ],
           "y": [
            -33.4539
           ],
           "z": [
            -9.9818
           ]
          },
          {
           "marker": {
            "color": "hsl(51.42857142857143,70%,50%)",
            "opacity": 0.7,
            "size": 5
           },
           "mode": "markers",
           "name": "Tuesday - Layer 20",
           "showlegend": true,
           "type": "scatter3d",
           "x": [
            -23.518
           ],
           "y": [
            -21.0142
           ],
           "z": [
            24.6867
           ]
          },
          {
           "marker": {
            "color": "hsl(102.85714285714286,70%,50%)",
            "opacity": 0.7,
            "size": 5
           },
           "mode": "markers",
           "name": "Wednesday - Layer 20",
           "showlegend": true,
           "type": "scatter3d",
           "x": [
            -24.3769
           ],
           "y": [
            -5.1207
           ],
           "z": [
            18.5759
           ]
          },
          {
           "marker": {
            "color": "hsl(154.28571428571428,70%,50%)",
            "opacity": 0.7,
            "size": 5
           },
           "mode": "markers",
           "name": "Thursday - Layer 20",
           "showlegend": true,
           "type": "scatter3d",
           "x": [
            -28.5555
           ],
           "y": [
            15.1517
           ],
           "z": [
            6.2488
           ]
          },
          {
           "marker": {
            "color": "hsl(205.71428571428572,70%,50%)",
            "opacity": 0.7,
            "size": 5
           },
           "mode": "markers",
           "name": "Friday - Layer 20",
           "showlegend": true,
           "type": "scatter3d",
           "x": [
            -15.1326
           ],
           "y": [
            37.4734
           ],
           "z": [
            -50.4741
           ]
          },
          {
           "marker": {
            "color": "hsl(257.14285714285717,70%,50%)",
            "opacity": 0.7,
            "size": 5
           },
           "mode": "markers",
           "name": "Saturday - Layer 20",
           "showlegend": true,
           "type": "scatter3d",
           "x": [
            47.0352
           ],
           "y": [
            43.6704
           ],
           "z": [
            30.8353
           ]
          },
          {
           "marker": {
            "color": "hsl(308.57142857142856,70%,50%)",
            "opacity": 0.7,
            "size": 5
           },
           "mode": "markers",
           "name": "Sunday - Layer 20",
           "showlegend": true,
           "type": "scatter3d",
           "x": [
            56.2754
           ],
           "y": [
            -36.7067
           ],
           "z": [
            -19.8909
           ]
          }
         ],
         "name": "20"
        },
        {
         "data": [
          {
           "marker": {
            "color": "hsl(0.0,70%,50%)",
            "opacity": 0.7,
            "size": 5
           },
           "mode": "markers",
           "name": "Monday - Layer 21",
           "showlegend": true,
           "type": "scatter3d",
           "x": [
            -12.1434
           ],
           "y": [
            -33.6694
           ],
           "z": [
            -12.0352
           ]
          },
          {
           "marker": {
            "color": "hsl(51.42857142857143,70%,50%)",
            "opacity": 0.7,
            "size": 5
           },
           "mode": "markers",
           "name": "Tuesday - Layer 21",
           "showlegend": true,
           "type": "scatter3d",
           "x": [
            -23.4215
           ],
           "y": [
            -19.6284
           ],
           "z": [
            24.7959
           ]
          },
          {
           "marker": {
            "color": "hsl(102.85714285714286,70%,50%)",
            "opacity": 0.7,
            "size": 5
           },
           "mode": "markers",
           "name": "Wednesday - Layer 21",
           "showlegend": true,
           "type": "scatter3d",
           "x": [
            -24.1726
           ],
           "y": [
            -3.5881
           ],
           "z": [
            19.8464
           ]
          },
          {
           "marker": {
            "color": "hsl(154.28571428571428,70%,50%)",
            "opacity": 0.7,
            "size": 5
           },
           "mode": "markers",
           "name": "Thursday - Layer 21",
           "showlegend": true,
           "type": "scatter3d",
           "x": [
            -28.9173
           ],
           "y": [
            13.9043
           ],
           "z": [
            8.68
           ]
          },
          {
           "marker": {
            "color": "hsl(205.71428571428572,70%,50%)",
            "opacity": 0.7,
            "size": 5
           },
           "mode": "markers",
           "name": "Friday - Layer 21",
           "showlegend": true,
           "type": "scatter3d",
           "x": [
            -15.3203
           ],
           "y": [
            37.691
           ],
           "z": [
            -51.5427
           ]
          },
          {
           "marker": {
            "color": "hsl(257.14285714285717,70%,50%)",
            "opacity": 0.7,
            "size": 5
           },
           "mode": "markers",
           "name": "Saturday - Layer 21",
           "showlegend": true,
           "type": "scatter3d",
           "x": [
            48.8031
           ],
           "y": [
            42.0329
           ],
           "z": [
            29.851
           ]
          },
          {
           "marker": {
            "color": "hsl(308.57142857142856,70%,50%)",
            "opacity": 0.7,
            "size": 5
           },
           "mode": "markers",
           "name": "Sunday - Layer 21",
           "showlegend": true,
           "type": "scatter3d",
           "x": [
            55.1719
           ],
           "y": [
            -36.7424
           ],
           "z": [
            -19.5955
           ]
          }
         ],
         "name": "21"
        },
        {
         "data": [
          {
           "marker": {
            "color": "hsl(0.0,70%,50%)",
            "opacity": 0.7,
            "size": 5
           },
           "mode": "markers",
           "name": "Monday - Layer 22",
           "showlegend": true,
           "type": "scatter3d",
           "x": [
            -4.8078
           ],
           "y": [
            -38.7517
           ],
           "z": [
            -11.0286
           ]
          },
          {
           "marker": {
            "color": "hsl(51.42857142857143,70%,50%)",
            "opacity": 0.7,
            "size": 5
           },
           "mode": "markers",
           "name": "Tuesday - Layer 22",
           "showlegend": true,
           "type": "scatter3d",
           "x": [
            -19.7712
           ],
           "y": [
            -23.0827
           ],
           "z": [
            24.2915
           ]
          },
          {
           "marker": {
            "color": "hsl(102.85714285714286,70%,50%)",
            "opacity": 0.7,
            "size": 5
           },
           "mode": "markers",
           "name": "Wednesday - Layer 22",
           "showlegend": true,
           "type": "scatter3d",
           "x": [
            -22.5147
           ],
           "y": [
            -5.9167
           ],
           "z": [
            18.6518
           ]
          },
          {
           "marker": {
            "color": "hsl(154.28571428571428,70%,50%)",
            "opacity": 0.7,
            "size": 5
           },
           "mode": "markers",
           "name": "Thursday - Layer 22",
           "showlegend": true,
           "type": "scatter3d",
           "x": [
            -30.4135
           ],
           "y": [
            10.3109
           ],
           "z": [
            10.1924
           ]
          },
          {
           "marker": {
            "color": "hsl(205.71428571428572,70%,50%)",
            "opacity": 0.7,
            "size": 5
           },
           "mode": "markers",
           "name": "Friday - Layer 22",
           "showlegend": true,
           "type": "scatter3d",
           "x": [
            -23.3638
           ],
           "y": [
            37.3936
           ],
           "z": [
            -50.6608
           ]
          },
          {
           "marker": {
            "color": "hsl(257.14285714285717,70%,50%)",
            "opacity": 0.7,
            "size": 5
           },
           "mode": "markers",
           "name": "Saturday - Layer 22",
           "showlegend": true,
           "type": "scatter3d",
           "x": [
            42.0387
           ],
           "y": [
            45.7337
           ],
           "z": [
            31.5413
           ]
          },
          {
           "marker": {
            "color": "hsl(308.57142857142856,70%,50%)",
            "opacity": 0.7,
            "size": 5
           },
           "mode": "markers",
           "name": "Sunday - Layer 22",
           "showlegend": true,
           "type": "scatter3d",
           "x": [
            58.8323
           ],
           "y": [
            -25.6872
           ],
           "z": [
            -22.9875
           ]
          }
         ],
         "name": "22"
        },
        {
         "data": [
          {
           "marker": {
            "color": "hsl(0.0,70%,50%)",
            "opacity": 0.7,
            "size": 5
           },
           "mode": "markers",
           "name": "Monday - Layer 23",
           "showlegend": true,
           "type": "scatter3d",
           "x": [
            -7.9951
           ],
           "y": [
            -38.2772
           ],
           "z": [
            -12.7482
           ]
          },
          {
           "marker": {
            "color": "hsl(51.42857142857143,70%,50%)",
            "opacity": 0.7,
            "size": 5
           },
           "mode": "markers",
           "name": "Tuesday - Layer 23",
           "showlegend": true,
           "type": "scatter3d",
           "x": [
            -19.5067
           ],
           "y": [
            -24.7501
           ],
           "z": [
            23.2781
           ]
          },
          {
           "marker": {
            "color": "hsl(102.85714285714286,70%,50%)",
            "opacity": 0.7,
            "size": 5
           },
           "mode": "markers",
           "name": "Wednesday - Layer 23",
           "showlegend": true,
           "type": "scatter3d",
           "x": [
            -20.0447
           ],
           "y": [
            -6.4241
           ],
           "z": [
            18.059
           ]
          },
          {
           "marker": {
            "color": "hsl(154.28571428571428,70%,50%)",
            "opacity": 0.7,
            "size": 5
           },
           "mode": "markers",
           "name": "Thursday - Layer 23",
           "showlegend": true,
           "type": "scatter3d",
           "x": [
            -28.6522
           ],
           "y": [
            10.4468
           ],
           "z": [
            13.5031
           ]
          },
          {
           "marker": {
            "color": "hsl(205.71428571428572,70%,50%)",
            "opacity": 0.7,
            "size": 5
           },
           "mode": "markers",
           "name": "Friday - Layer 23",
           "showlegend": true,
           "type": "scatter3d",
           "x": [
            -25.8603
           ],
           "y": [
            42.1936
           ],
           "z": [
            -46.9117
           ]
          },
          {
           "marker": {
            "color": "hsl(257.14285714285717,70%,50%)",
            "opacity": 0.7,
            "size": 5
           },
           "mode": "markers",
           "name": "Saturday - Layer 23",
           "showlegend": true,
           "type": "scatter3d",
           "x": [
            45.1619
           ],
           "y": [
            41.2116
           ],
           "z": [
            32.9222
           ]
          },
          {
           "marker": {
            "color": "hsl(308.57142857142856,70%,50%)",
            "opacity": 0.7,
            "size": 5
           },
           "mode": "markers",
           "name": "Sunday - Layer 23",
           "showlegend": true,
           "type": "scatter3d",
           "x": [
            56.897
           ],
           "y": [
            -24.4006
           ],
           "z": [
            -28.1024
           ]
          }
         ],
         "name": "23"
        },
        {
         "data": [
          {
           "marker": {
            "color": "hsl(0.0,70%,50%)",
            "opacity": 0.7,
            "size": 5
           },
           "mode": "markers",
           "name": "Monday - Layer 24",
           "showlegend": true,
           "type": "scatter3d",
           "x": [
            -3.1817
           ],
           "y": [
            -36.543
           ],
           "z": [
            -14.6602
           ]
          },
          {
           "marker": {
            "color": "hsl(51.42857142857143,70%,50%)",
            "opacity": 0.7,
            "size": 5
           },
           "mode": "markers",
           "name": "Tuesday - Layer 24",
           "showlegend": true,
           "type": "scatter3d",
           "x": [
            -16.4294
           ],
           "y": [
            -27.4677
           ],
           "z": [
            19.8335
           ]
          },
          {
           "marker": {
            "color": "hsl(102.85714285714286,70%,50%)",
            "opacity": 0.7,
            "size": 5
           },
           "mode": "markers",
           "name": "Wednesday - Layer 24",
           "showlegend": true,
           "type": "scatter3d",
           "x": [
            -18.8841
           ],
           "y": [
            -9.9783
           ],
           "z": [
            17.0523
           ]
          },
          {
           "marker": {
            "color": "hsl(154.28571428571428,70%,50%)",
            "opacity": 0.7,
            "size": 5
           },
           "mode": "markers",
           "name": "Thursday - Layer 24",
           "showlegend": true,
           "type": "scatter3d",
           "x": [
            -30.1859
           ],
           "y": [
            5.8828
           ],
           "z": [
            17.7617
           ]
          },
          {
           "marker": {
            "color": "hsl(205.71428571428572,70%,50%)",
            "opacity": 0.7,
            "size": 5
           },
           "mode": "markers",
           "name": "Friday - Layer 24",
           "showlegend": true,
           "type": "scatter3d",
           "x": [
            -31.3676
           ],
           "y": [
            43.1356
           ],
           "z": [
            -44.8791
           ]
          },
          {
           "marker": {
            "color": "hsl(257.14285714285717,70%,50%)",
            "opacity": 0.7,
            "size": 5
           },
           "mode": "markers",
           "name": "Saturday - Layer 24",
           "showlegend": true,
           "type": "scatter3d",
           "x": [
            42.1073
           ],
           "y": [
            42.4506
           ],
           "z": [
            34.9757
           ]
          },
          {
           "marker": {
            "color": "hsl(308.57142857142856,70%,50%)",
            "opacity": 0.7,
            "size": 5
           },
           "mode": "markers",
           "name": "Sunday - Layer 24",
           "showlegend": true,
           "type": "scatter3d",
           "x": [
            57.9415
           ],
           "y": [
            -17.48
           ],
           "z": [
            -30.0839
           ]
          }
         ],
         "name": "24"
        },
        {
         "data": [
          {
           "marker": {
            "color": "hsl(0.0,70%,50%)",
            "opacity": 0.7,
            "size": 5
           },
           "mode": "markers",
           "name": "Monday - Layer 25",
           "showlegend": true,
           "type": "scatter3d",
           "x": [
            -4.3787
           ],
           "y": [
            -35.3431
           ],
           "z": [
            -16.7519
           ]
          },
          {
           "marker": {
            "color": "hsl(51.42857142857143,70%,50%)",
            "opacity": 0.7,
            "size": 5
           },
           "mode": "markers",
           "name": "Tuesday - Layer 25",
           "showlegend": true,
           "type": "scatter3d",
           "x": [
            -20.051
           ],
           "y": [
            -26.0716
           ],
           "z": [
            19.4281
           ]
          },
          {
           "marker": {
            "color": "hsl(102.85714285714286,70%,50%)",
            "opacity": 0.7,
            "size": 5
           },
           "mode": "markers",
           "name": "Wednesday - Layer 25",
           "showlegend": true,
           "type": "scatter3d",
           "x": [
            -20.1282
           ],
           "y": [
            -10.5359
           ],
           "z": [
            18.4284
           ]
          },
          {
           "marker": {
            "color": "hsl(154.28571428571428,70%,50%)",
            "opacity": 0.7,
            "size": 5
           },
           "mode": "markers",
           "name": "Thursday - Layer 25",
           "showlegend": true,
           "type": "scatter3d",
           "x": [
            -28.4185
           ],
           "y": [
            6.0749
           ],
           "z": [
            17.6789
           ]
          },
          {
           "marker": {
            "color": "hsl(205.71428571428572,70%,50%)",
            "opacity": 0.7,
            "size": 5
           },
           "mode": "markers",
           "name": "Friday - Layer 25",
           "showlegend": true,
           "type": "scatter3d",
           "x": [
            -29.554
           ],
           "y": [
            47.2246
           ],
           "z": [
            -43.1514
           ]
          },
          {
           "marker": {
            "color": "hsl(257.14285714285717,70%,50%)",
            "opacity": 0.7,
            "size": 5
           },
           "mode": "markers",
           "name": "Saturday - Layer 25",
           "showlegend": true,
           "type": "scatter3d",
           "x": [
            46.6287
           ],
           "y": [
            39.2437
           ],
           "z": [
            35.5799
           ]
          },
          {
           "marker": {
            "color": "hsl(308.57142857142856,70%,50%)",
            "opacity": 0.7,
            "size": 5
           },
           "mode": "markers",
           "name": "Sunday - Layer 25",
           "showlegend": true,
           "type": "scatter3d",
           "x": [
            55.9017
           ],
           "y": [
            -20.5926
           ],
           "z": [
            -31.212
           ]
          }
         ],
         "name": "25"
        },
        {
         "data": [
          {
           "marker": {
            "color": "hsl(0.0,70%,50%)",
            "opacity": 0.7,
            "size": 5
           },
           "mode": "markers",
           "name": "Monday - Layer 26",
           "showlegend": true,
           "type": "scatter3d",
           "x": [
            -0.6053
           ],
           "y": [
            -36.9623
           ],
           "z": [
            -12.2577
           ]
          },
          {
           "marker": {
            "color": "hsl(51.42857142857143,70%,50%)",
            "opacity": 0.7,
            "size": 5
           },
           "mode": "markers",
           "name": "Tuesday - Layer 26",
           "showlegend": true,
           "type": "scatter3d",
           "x": [
            -15.3199
           ],
           "y": [
            -28.1329
           ],
           "z": [
            6.0795
           ]
          },
          {
           "marker": {
            "color": "hsl(102.85714285714286,70%,50%)",
            "opacity": 0.7,
            "size": 5
           },
           "mode": "markers",
           "name": "Wednesday - Layer 26",
           "showlegend": true,
           "type": "scatter3d",
           "x": [
            -18.8564
           ],
           "y": [
            -10.475
           ],
           "z": [
            9.7686
           ]
          },
          {
           "marker": {
            "color": "hsl(154.28571428571428,70%,50%)",
            "opacity": 0.7,
            "size": 5
           },
           "mode": "markers",
           "name": "Thursday - Layer 26",
           "showlegend": true,
           "type": "scatter3d",
           "x": [
            -38.2657
           ],
           "y": [
            17.3532
           ],
           "z": [
            38.997
           ]
          },
          {
           "marker": {
            "color": "hsl(205.71428571428572,70%,50%)",
            "opacity": 0.7,
            "size": 5
           },
           "mode": "markers",
           "name": "Friday - Layer 26",
           "showlegend": true,
           "type": "scatter3d",
           "x": [
            -23.8152
           ],
           "y": [
            33.3426
           ],
           "z": [
            -55.3304
           ]
          },
          {
           "marker": {
            "color": "hsl(257.14285714285717,70%,50%)",
            "opacity": 0.7,
            "size": 5
           },
           "mode": "markers",
           "name": "Saturday - Layer 26",
           "showlegend": true,
           "type": "scatter3d",
           "x": [
            42.0004
           ],
           "y": [
            43.3432
           ],
           "z": [
            19.7982
           ]
          },
          {
           "marker": {
            "color": "hsl(308.57142857142856,70%,50%)",
            "opacity": 0.7,
            "size": 5
           },
           "mode": "markers",
           "name": "Sunday - Layer 26",
           "showlegend": true,
           "type": "scatter3d",
           "x": [
            54.8621
           ],
           "y": [
            -18.4687
           ],
           "z": [
            -7.0553
           ]
          }
         ],
         "name": "26"
        },
        {
         "data": [
          {
           "marker": {
            "color": "hsl(0.0,70%,50%)",
            "opacity": 0.7,
            "size": 5
           },
           "mode": "markers",
           "name": "Monday - Layer 27",
           "showlegend": true,
           "type": "scatter3d",
           "x": [
            -0.6977
           ],
           "y": [
            -38.2754
           ],
           "z": [
            -13.5253
           ]
          },
          {
           "marker": {
            "color": "hsl(51.42857142857143,70%,50%)",
            "opacity": 0.7,
            "size": 5
           },
           "mode": "markers",
           "name": "Tuesday - Layer 27",
           "showlegend": true,
           "type": "scatter3d",
           "x": [
            -16.9651
           ],
           "y": [
            -26.0243
           ],
           "z": [
            8.015
           ]
          },
          {
           "marker": {
            "color": "hsl(102.85714285714286,70%,50%)",
            "opacity": 0.7,
            "size": 5
           },
           "mode": "markers",
           "name": "Wednesday - Layer 27",
           "showlegend": true,
           "type": "scatter3d",
           "x": [
            -22.3738
           ],
           "y": [
            -12.8603
           ],
           "z": [
            14.8784
           ]
          },
          {
           "marker": {
            "color": "hsl(154.28571428571428,70%,50%)",
            "opacity": 0.7,
            "size": 5
           },
           "mode": "markers",
           "name": "Thursday - Layer 27",
           "showlegend": true,
           "type": "scatter3d",
           "x": [
            -35.8857
           ],
           "y": [
            23.4384
           ],
           "z": [
            32.5311
           ]
          },
          {
           "marker": {
            "color": "hsl(205.71428571428572,70%,50%)",
            "opacity": 0.7,
            "size": 5
           },
           "mode": "markers",
           "name": "Friday - Layer 27",
           "showlegend": true,
           "type": "scatter3d",
           "x": [
            -19.9327
           ],
           "y": [
            31.7815
           ],
           "z": [
            -55.8968
           ]
          },
          {
           "marker": {
            "color": "hsl(257.14285714285717,70%,50%)",
            "opacity": 0.7,
            "size": 5
           },
           "mode": "markers",
           "name": "Saturday - Layer 27",
           "showlegend": true,
           "type": "scatter3d",
           "x": [
            41.9728
           ],
           "y": [
            38.9214
           ],
           "z": [
            20.2843
           ]
          },
          {
           "marker": {
            "color": "hsl(308.57142857142856,70%,50%)",
            "opacity": 0.7,
            "size": 5
           },
           "mode": "markers",
           "name": "Sunday - Layer 27",
           "showlegend": true,
           "type": "scatter3d",
           "x": [
            53.8822
           ],
           "y": [
            -16.9813
           ],
           "z": [
            -6.2866
           ]
          }
         ],
         "name": "27"
        },
        {
         "data": [
          {
           "marker": {
            "color": "hsl(0.0,70%,50%)",
            "opacity": 0.7,
            "size": 5
           },
           "mode": "markers",
           "name": "Monday - Layer 28",
           "showlegend": true,
           "type": "scatter3d",
           "x": [
            -43.6063
           ],
           "y": [
            -16.1418
           ],
           "z": [
            -14.0539
           ]
          },
          {
           "marker": {
            "color": "hsl(51.42857142857143,70%,50%)",
            "opacity": 0.7,
            "size": 5
           },
           "mode": "markers",
           "name": "Tuesday - Layer 28",
           "showlegend": true,
           "type": "scatter3d",
           "x": [
            -47.4326
           ],
           "y": [
            1.608
           ],
           "z": [
            5.8251
           ]
          },
          {
           "marker": {
            "color": "hsl(102.85714285714286,70%,50%)",
            "opacity": 0.7,
            "size": 5
           },
           "mode": "markers",
           "name": "Wednesday - Layer 28",
           "showlegend": true,
           "type": "scatter3d",
           "x": [
            -18.3566
           ],
           "y": [
            14.5808
           ],
           "z": [
            11.877
           ]
          },
          {
           "marker": {
            "color": "hsl(154.28571428571428,70%,50%)",
            "opacity": 0.7,
            "size": 5
           },
           "mode": "markers",
           "name": "Thursday - Layer 28",
           "showlegend": true,
           "type": "scatter3d",
           "x": [
            18.0458
           ],
           "y": [
            42.5602
           ],
           "z": [
            35.1054
           ]
          },
          {
           "marker": {
            "color": "hsl(205.71428571428572,70%,50%)",
            "opacity": 0.7,
            "size": 5
           },
           "mode": "markers",
           "name": "Friday - Layer 28",
           "showlegend": true,
           "type": "scatter3d",
           "x": [
            27.4941
           ],
           "y": [
            31.1153
           ],
           "z": [
            -52.5942
           ]
          },
          {
           "marker": {
            "color": "hsl(257.14285714285717,70%,50%)",
            "opacity": 0.7,
            "size": 5
           },
           "mode": "markers",
           "name": "Saturday - Layer 28",
           "showlegend": true,
           "type": "scatter3d",
           "x": [
            45.7833
           ],
           "y": [
            -23.4976
           ],
           "z": [
            16.0183
           ]
          },
          {
           "marker": {
            "color": "hsl(308.57142857142856,70%,50%)",
            "opacity": 0.7,
            "size": 5
           },
           "mode": "markers",
           "name": "Sunday - Layer 28",
           "showlegend": true,
           "type": "scatter3d",
           "x": [
            18.0723
           ],
           "y": [
            -50.2249
           ],
           "z": [
            -2.1778
           ]
          }
         ],
         "name": "28"
        },
        {
         "data": [
          {
           "marker": {
            "color": "hsl(0.0,70%,50%)",
            "opacity": 0.7,
            "size": 5
           },
           "mode": "markers",
           "name": "Monday - Layer 29",
           "showlegend": true,
           "type": "scatter3d",
           "x": [
            0.9311
           ],
           "y": [
            -48.1035
           ],
           "z": [
            -22.5077
           ]
          },
          {
           "marker": {
            "color": "hsl(51.42857142857143,70%,50%)",
            "opacity": 0.7,
            "size": 5
           },
           "mode": "markers",
           "name": "Tuesday - Layer 29",
           "showlegend": true,
           "type": "scatter3d",
           "x": [
            -35.1123
           ],
           "y": [
            -31.6958
           ],
           "z": [
            -0.8009
           ]
          },
          {
           "marker": {
            "color": "hsl(102.85714285714286,70%,50%)",
            "opacity": 0.7,
            "size": 5
           },
           "mode": "markers",
           "name": "Wednesday - Layer 29",
           "showlegend": true,
           "type": "scatter3d",
           "x": [
            -42.5599
           ],
           "y": [
            1.2151
           ],
           "z": [
            13.3399
           ]
          },
          {
           "marker": {
            "color": "hsl(154.28571428571428,70%,50%)",
            "opacity": 0.7,
            "size": 5
           },
           "mode": "markers",
           "name": "Thursday - Layer 29",
           "showlegend": true,
           "type": "scatter3d",
           "x": [
            -27.7686
           ],
           "y": [
            36.9996
           ],
           "z": [
            23.1044
           ]
          },
          {
           "marker": {
            "color": "hsl(205.71428571428572,70%,50%)",
            "opacity": 0.7,
            "size": 5
           },
           "mode": "markers",
           "name": "Friday - Layer 29",
           "showlegend": true,
           "type": "scatter3d",
           "x": [
            8.1603
           ],
           "y": [
            46.4963
           ],
           "z": [
            -46.6916
           ]
          },
          {
           "marker": {
            "color": "hsl(257.14285714285717,70%,50%)",
            "opacity": 0.7,
            "size": 5
           },
           "mode": "markers",
           "name": "Saturday - Layer 29",
           "showlegend": true,
           "type": "scatter3d",
           "x": [
            45.343
           ],
           "y": [
            20.8151
           ],
           "z": [
            22.6704
           ]
          },
          {
           "marker": {
            "color": "hsl(308.57142857142856,70%,50%)",
            "opacity": 0.7,
            "size": 5
           },
           "mode": "markers",
           "name": "Sunday - Layer 29",
           "showlegend": true,
           "type": "scatter3d",
           "x": [
            51.0063
           ],
           "y": [
            -25.7268
           ],
           "z": [
            10.8855
           ]
          }
         ],
         "name": "29"
        },
        {
         "data": [
          {
           "marker": {
            "color": "hsl(0.0,70%,50%)",
            "opacity": 0.7,
            "size": 5
           },
           "mode": "markers",
           "name": "Monday - Layer 30",
           "showlegend": true,
           "type": "scatter3d",
           "x": [
            4.7021
           ],
           "y": [
            -47.0889
           ],
           "z": [
            -22.0454
           ]
          },
          {
           "marker": {
            "color": "hsl(51.42857142857143,70%,50%)",
            "opacity": 0.7,
            "size": 5
           },
           "mode": "markers",
           "name": "Tuesday - Layer 30",
           "showlegend": true,
           "type": "scatter3d",
           "x": [
            -28.8015
           ],
           "y": [
            -33.3758
           ],
           "z": [
            0.0823
           ]
          },
          {
           "marker": {
            "color": "hsl(102.85714285714286,70%,50%)",
            "opacity": 0.7,
            "size": 5
           },
           "mode": "markers",
           "name": "Wednesday - Layer 30",
           "showlegend": true,
           "type": "scatter3d",
           "x": [
            -39.2047
           ],
           "y": [
            -5.3925
           ],
           "z": [
            13.397
           ]
          },
          {
           "marker": {
            "color": "hsl(154.28571428571428,70%,50%)",
            "opacity": 0.7,
            "size": 5
           },
           "mode": "markers",
           "name": "Thursday - Layer 30",
           "showlegend": true,
           "type": "scatter3d",
           "x": [
            -33.3225
           ],
           "y": [
            31.8672
           ],
           "z": [
            25.1573
           ]
          },
          {
           "marker": {
            "color": "hsl(205.71428571428572,70%,50%)",
            "opacity": 0.7,
            "size": 5
           },
           "mode": "markers",
           "name": "Friday - Layer 30",
           "showlegend": true,
           "type": "scatter3d",
           "x": [
            -0.3678
           ],
           "y": [
            45.0586
           ],
           "z": [
            -48.0021
           ]
          },
          {
           "marker": {
            "color": "hsl(257.14285714285717,70%,50%)",
            "opacity": 0.7,
            "size": 5
           },
           "mode": "markers",
           "name": "Saturday - Layer 30",
           "showlegend": true,
           "type": "scatter3d",
           "x": [
            41.987
           ],
           "y": [
            27.9638
           ],
           "z": [
            21.1918
           ]
          },
          {
           "marker": {
            "color": "hsl(308.57142857142856,70%,50%)",
            "opacity": 0.7,
            "size": 5
           },
           "mode": "markers",
           "name": "Sunday - Layer 30",
           "showlegend": true,
           "type": "scatter3d",
           "x": [
            55.0074
           ],
           "y": [
            -19.0323
           ],
           "z": [
            10.2191
           ]
          }
         ],
         "name": "30"
        },
        {
         "data": [
          {
           "marker": {
            "color": "hsl(0.0,70%,50%)",
            "opacity": 0.7,
            "size": 5
           },
           "mode": "markers",
           "name": "Monday - Layer 31",
           "showlegend": true,
           "type": "scatter3d",
           "x": [
            0.9432
           ],
           "y": [
            -46.8058
           ],
           "z": [
            -22.698
           ]
          },
          {
           "marker": {
            "color": "hsl(51.42857142857143,70%,50%)",
            "opacity": 0.7,
            "size": 5
           },
           "mode": "markers",
           "name": "Tuesday - Layer 31",
           "showlegend": true,
           "type": "scatter3d",
           "x": [
            -30.6532
           ],
           "y": [
            -31.1549
           ],
           "z": [
            0.3429
           ]
          },
          {
           "marker": {
            "color": "hsl(102.85714285714286,70%,50%)",
            "opacity": 0.7,
            "size": 5
           },
           "mode": "markers",
           "name": "Wednesday - Layer 31",
           "showlegend": true,
           "type": "scatter3d",
           "x": [
            -38.7367
           ],
           "y": [
            -3.8723
           ],
           "z": [
            14.5601
           ]
          },
          {
           "marker": {
            "color": "hsl(154.28571428571428,70%,50%)",
            "opacity": 0.7,
            "size": 5
           },
           "mode": "markers",
           "name": "Thursday - Layer 31",
           "showlegend": true,
           "type": "scatter3d",
           "x": [
            -30.7747
           ],
           "y": [
            30.9597
           ],
           "z": [
            24.8334
           ]
          },
          {
           "marker": {
            "color": "hsl(205.71428571428572,70%,50%)",
            "opacity": 0.7,
            "size": 5
           },
           "mode": "markers",
           "name": "Friday - Layer 31",
           "showlegend": true,
           "type": "scatter3d",
           "x": [
            0.6598
           ],
           "y": [
            47.1848
           ],
           "z": [
            -47.7137
           ]
          },
          {
           "marker": {
            "color": "hsl(257.14285714285717,70%,50%)",
            "opacity": 0.7,
            "size": 5
           },
           "mode": "markers",
           "name": "Saturday - Layer 31",
           "showlegend": true,
           "type": "scatter3d",
           "x": [
            42.5919
           ],
           "y": [
            25.8379
           ],
           "z": [
            24.3113
           ]
          },
          {
           "marker": {
            "color": "hsl(308.57142857142856,70%,50%)",
            "opacity": 0.7,
            "size": 5
           },
           "mode": "markers",
           "name": "Sunday - Layer 31",
           "showlegend": true,
           "type": "scatter3d",
           "x": [
            55.9698
           ],
           "y": [
            -22.1494
           ],
           "z": [
            6.364
           ]
          }
         ],
         "name": "31"
        }
       ],
       "layout": {
        "height": 800,
        "scene": {
         "aspectmode": "cube",
         "camera": {
          "center": {
           "x": 0,
           "y": 0,
           "z": 0
          },
          "eye": {
           "x": 1.5,
           "y": 1.5,
           "z": 1.5
          },
          "up": {
           "x": 0,
           "y": 0,
           "z": 1
          }
         },
         "xaxis": {
          "range": [
           -47.4326,
           77.8864
          ],
          "title": {
           "text": "PCA1"
          }
         },
         "yaxis": {
          "range": [
           -50.2249,
           63.2979
          ],
          "title": {
           "text": "PCA2"
          }
         },
         "zaxis": {
          "range": [
           -55.8968,
           38.997
          ],
          "title": {
           "text": "PCA3"
          }
         }
        },
        "showlegend": true,
        "sliders": [
         {
          "currentvalue": {
           "prefix": "Layer: "
          },
          "steps": [
           {
            "args": [
             [
              "0"
             ],
             {
              "frame": {
               "duration": 0,
               "redraw": true
              },
              "mode": "immediate",
              "transition": {
               "duration": 0
              }
             }
            ],
            "label": "0",
            "method": "animate"
           },
           {
            "args": [
             [
              "1"
             ],
             {
              "frame": {
               "duration": 0,
               "redraw": true
              },
              "mode": "immediate",
              "transition": {
               "duration": 0
              }
             }
            ],
            "label": "1",
            "method": "animate"
           },
           {
            "args": [
             [
              "2"
             ],
             {
              "frame": {
               "duration": 0,
               "redraw": true
              },
              "mode": "immediate",
              "transition": {
               "duration": 0
              }
             }
            ],
            "label": "2",
            "method": "animate"
           },
           {
            "args": [
             [
              "3"
             ],
             {
              "frame": {
               "duration": 0,
               "redraw": true
              },
              "mode": "immediate",
              "transition": {
               "duration": 0
              }
             }
            ],
            "label": "3",
            "method": "animate"
           },
           {
            "args": [
             [
              "4"
             ],
             {
              "frame": {
               "duration": 0,
               "redraw": true
              },
              "mode": "immediate",
              "transition": {
               "duration": 0
              }
             }
            ],
            "label": "4",
            "method": "animate"
           },
           {
            "args": [
             [
              "5"
             ],
             {
              "frame": {
               "duration": 0,
               "redraw": true
              },
              "mode": "immediate",
              "transition": {
               "duration": 0
              }
             }
            ],
            "label": "5",
            "method": "animate"
           },
           {
            "args": [
             [
              "6"
             ],
             {
              "frame": {
               "duration": 0,
               "redraw": true
              },
              "mode": "immediate",
              "transition": {
               "duration": 0
              }
             }
            ],
            "label": "6",
            "method": "animate"
           },
           {
            "args": [
             [
              "7"
             ],
             {
              "frame": {
               "duration": 0,
               "redraw": true
              },
              "mode": "immediate",
              "transition": {
               "duration": 0
              }
             }
            ],
            "label": "7",
            "method": "animate"
           },
           {
            "args": [
             [
              "8"
             ],
             {
              "frame": {
               "duration": 0,
               "redraw": true
              },
              "mode": "immediate",
              "transition": {
               "duration": 0
              }
             }
            ],
            "label": "8",
            "method": "animate"
           },
           {
            "args": [
             [
              "9"
             ],
             {
              "frame": {
               "duration": 0,
               "redraw": true
              },
              "mode": "immediate",
              "transition": {
               "duration": 0
              }
             }
            ],
            "label": "9",
            "method": "animate"
           },
           {
            "args": [
             [
              "10"
             ],
             {
              "frame": {
               "duration": 0,
               "redraw": true
              },
              "mode": "immediate",
              "transition": {
               "duration": 0
              }
             }
            ],
            "label": "10",
            "method": "animate"
           },
           {
            "args": [
             [
              "11"
             ],
             {
              "frame": {
               "duration": 0,
               "redraw": true
              },
              "mode": "immediate",
              "transition": {
               "duration": 0
              }
             }
            ],
            "label": "11",
            "method": "animate"
           },
           {
            "args": [
             [
              "12"
             ],
             {
              "frame": {
               "duration": 0,
               "redraw": true
              },
              "mode": "immediate",
              "transition": {
               "duration": 0
              }
             }
            ],
            "label": "12",
            "method": "animate"
           },
           {
            "args": [
             [
              "13"
             ],
             {
              "frame": {
               "duration": 0,
               "redraw": true
              },
              "mode": "immediate",
              "transition": {
               "duration": 0
              }
             }
            ],
            "label": "13",
            "method": "animate"
           },
           {
            "args": [
             [
              "14"
             ],
             {
              "frame": {
               "duration": 0,
               "redraw": true
              },
              "mode": "immediate",
              "transition": {
               "duration": 0
              }
             }
            ],
            "label": "14",
            "method": "animate"
           },
           {
            "args": [
             [
              "15"
             ],
             {
              "frame": {
               "duration": 0,
               "redraw": true
              },
              "mode": "immediate",
              "transition": {
               "duration": 0
              }
             }
            ],
            "label": "15",
            "method": "animate"
           },
           {
            "args": [
             [
              "16"
             ],
             {
              "frame": {
               "duration": 0,
               "redraw": true
              },
              "mode": "immediate",
              "transition": {
               "duration": 0
              }
             }
            ],
            "label": "16",
            "method": "animate"
           },
           {
            "args": [
             [
              "17"
             ],
             {
              "frame": {
               "duration": 0,
               "redraw": true
              },
              "mode": "immediate",
              "transition": {
               "duration": 0
              }
             }
            ],
            "label": "17",
            "method": "animate"
           },
           {
            "args": [
             [
              "18"
             ],
             {
              "frame": {
               "duration": 0,
               "redraw": true
              },
              "mode": "immediate",
              "transition": {
               "duration": 0
              }
             }
            ],
            "label": "18",
            "method": "animate"
           },
           {
            "args": [
             [
              "19"
             ],
             {
              "frame": {
               "duration": 0,
               "redraw": true
              },
              "mode": "immediate",
              "transition": {
               "duration": 0
              }
             }
            ],
            "label": "19",
            "method": "animate"
           },
           {
            "args": [
             [
              "20"
             ],
             {
              "frame": {
               "duration": 0,
               "redraw": true
              },
              "mode": "immediate",
              "transition": {
               "duration": 0
              }
             }
            ],
            "label": "20",
            "method": "animate"
           },
           {
            "args": [
             [
              "21"
             ],
             {
              "frame": {
               "duration": 0,
               "redraw": true
              },
              "mode": "immediate",
              "transition": {
               "duration": 0
              }
             }
            ],
            "label": "21",
            "method": "animate"
           },
           {
            "args": [
             [
              "22"
             ],
             {
              "frame": {
               "duration": 0,
               "redraw": true
              },
              "mode": "immediate",
              "transition": {
               "duration": 0
              }
             }
            ],
            "label": "22",
            "method": "animate"
           },
           {
            "args": [
             [
              "23"
             ],
             {
              "frame": {
               "duration": 0,
               "redraw": true
              },
              "mode": "immediate",
              "transition": {
               "duration": 0
              }
             }
            ],
            "label": "23",
            "method": "animate"
           },
           {
            "args": [
             [
              "24"
             ],
             {
              "frame": {
               "duration": 0,
               "redraw": true
              },
              "mode": "immediate",
              "transition": {
               "duration": 0
              }
             }
            ],
            "label": "24",
            "method": "animate"
           },
           {
            "args": [
             [
              "25"
             ],
             {
              "frame": {
               "duration": 0,
               "redraw": true
              },
              "mode": "immediate",
              "transition": {
               "duration": 0
              }
             }
            ],
            "label": "25",
            "method": "animate"
           },
           {
            "args": [
             [
              "26"
             ],
             {
              "frame": {
               "duration": 0,
               "redraw": true
              },
              "mode": "immediate",
              "transition": {
               "duration": 0
              }
             }
            ],
            "label": "26",
            "method": "animate"
           },
           {
            "args": [
             [
              "27"
             ],
             {
              "frame": {
               "duration": 0,
               "redraw": true
              },
              "mode": "immediate",
              "transition": {
               "duration": 0
              }
             }
            ],
            "label": "27",
            "method": "animate"
           },
           {
            "args": [
             [
              "28"
             ],
             {
              "frame": {
               "duration": 0,
               "redraw": true
              },
              "mode": "immediate",
              "transition": {
               "duration": 0
              }
             }
            ],
            "label": "28",
            "method": "animate"
           },
           {
            "args": [
             [
              "29"
             ],
             {
              "frame": {
               "duration": 0,
               "redraw": true
              },
              "mode": "immediate",
              "transition": {
               "duration": 0
              }
             }
            ],
            "label": "29",
            "method": "animate"
           },
           {
            "args": [
             [
              "30"
             ],
             {
              "frame": {
               "duration": 0,
               "redraw": true
              },
              "mode": "immediate",
              "transition": {
               "duration": 0
              }
             }
            ],
            "label": "30",
            "method": "animate"
           },
           {
            "args": [
             [
              "31"
             ],
             {
              "frame": {
               "duration": 0,
               "redraw": true
              },
              "mode": "immediate",
              "transition": {
               "duration": 0
              }
             }
            ],
            "label": "31",
            "method": "animate"
           }
          ]
         }
        ],
        "template": {
         "data": {
          "bar": [
           {
            "error_x": {
             "color": "#2a3f5f"
            },
            "error_y": {
             "color": "#2a3f5f"
            },
            "marker": {
             "line": {
              "color": "#E5ECF6",
              "width": 0.5
             },
             "pattern": {
              "fillmode": "overlay",
              "size": 10,
              "solidity": 0.2
             }
            },
            "type": "bar"
           }
          ],
          "barpolar": [
           {
            "marker": {
             "line": {
              "color": "#E5ECF6",
              "width": 0.5
             },
             "pattern": {
              "fillmode": "overlay",
              "size": 10,
              "solidity": 0.2
             }
            },
            "type": "barpolar"
           }
          ],
          "carpet": [
           {
            "aaxis": {
             "endlinecolor": "#2a3f5f",
             "gridcolor": "white",
             "linecolor": "white",
             "minorgridcolor": "white",
             "startlinecolor": "#2a3f5f"
            },
            "baxis": {
             "endlinecolor": "#2a3f5f",
             "gridcolor": "white",
             "linecolor": "white",
             "minorgridcolor": "white",
             "startlinecolor": "#2a3f5f"
            },
            "type": "carpet"
           }
          ],
          "choropleth": [
           {
            "colorbar": {
             "outlinewidth": 0,
             "ticks": ""
            },
            "type": "choropleth"
           }
          ],
          "contour": [
           {
            "colorbar": {
             "outlinewidth": 0,
             "ticks": ""
            },
            "colorscale": [
             [
              0,
              "#0d0887"
             ],
             [
              0.1111111111111111,
              "#46039f"
             ],
             [
              0.2222222222222222,
              "#7201a8"
             ],
             [
              0.3333333333333333,
              "#9c179e"
             ],
             [
              0.4444444444444444,
              "#bd3786"
             ],
             [
              0.5555555555555556,
              "#d8576b"
             ],
             [
              0.6666666666666666,
              "#ed7953"
             ],
             [
              0.7777777777777778,
              "#fb9f3a"
             ],
             [
              0.8888888888888888,
              "#fdca26"
             ],
             [
              1,
              "#f0f921"
             ]
            ],
            "type": "contour"
           }
          ],
          "contourcarpet": [
           {
            "colorbar": {
             "outlinewidth": 0,
             "ticks": ""
            },
            "type": "contourcarpet"
           }
          ],
          "heatmap": [
           {
            "colorbar": {
             "outlinewidth": 0,
             "ticks": ""
            },
            "colorscale": [
             [
              0,
              "#0d0887"
             ],
             [
              0.1111111111111111,
              "#46039f"
             ],
             [
              0.2222222222222222,
              "#7201a8"
             ],
             [
              0.3333333333333333,
              "#9c179e"
             ],
             [
              0.4444444444444444,
              "#bd3786"
             ],
             [
              0.5555555555555556,
              "#d8576b"
             ],
             [
              0.6666666666666666,
              "#ed7953"
             ],
             [
              0.7777777777777778,
              "#fb9f3a"
             ],
             [
              0.8888888888888888,
              "#fdca26"
             ],
             [
              1,
              "#f0f921"
             ]
            ],
            "type": "heatmap"
           }
          ],
          "heatmapgl": [
           {
            "colorbar": {
             "outlinewidth": 0,
             "ticks": ""
            },
            "colorscale": [
             [
              0,
              "#0d0887"
             ],
             [
              0.1111111111111111,
              "#46039f"
             ],
             [
              0.2222222222222222,
              "#7201a8"
             ],
             [
              0.3333333333333333,
              "#9c179e"
             ],
             [
              0.4444444444444444,
              "#bd3786"
             ],
             [
              0.5555555555555556,
              "#d8576b"
             ],
             [
              0.6666666666666666,
              "#ed7953"
             ],
             [
              0.7777777777777778,
              "#fb9f3a"
             ],
             [
              0.8888888888888888,
              "#fdca26"
             ],
             [
              1,
              "#f0f921"
             ]
            ],
            "type": "heatmapgl"
           }
          ],
          "histogram": [
           {
            "marker": {
             "pattern": {
              "fillmode": "overlay",
              "size": 10,
              "solidity": 0.2
             }
            },
            "type": "histogram"
           }
          ],
          "histogram2d": [
           {
            "colorbar": {
             "outlinewidth": 0,
             "ticks": ""
            },
            "colorscale": [
             [
              0,
              "#0d0887"
             ],
             [
              0.1111111111111111,
              "#46039f"
             ],
             [
              0.2222222222222222,
              "#7201a8"
             ],
             [
              0.3333333333333333,
              "#9c179e"
             ],
             [
              0.4444444444444444,
              "#bd3786"
             ],
             [
              0.5555555555555556,
              "#d8576b"
             ],
             [
              0.6666666666666666,
              "#ed7953"
             ],
             [
              0.7777777777777778,
              "#fb9f3a"
             ],
             [
              0.8888888888888888,
              "#fdca26"
             ],
             [
              1,
              "#f0f921"
             ]
            ],
            "type": "histogram2d"
           }
          ],
          "histogram2dcontour": [
           {
            "colorbar": {
             "outlinewidth": 0,
             "ticks": ""
            },
            "colorscale": [
             [
              0,
              "#0d0887"
             ],
             [
              0.1111111111111111,
              "#46039f"
             ],
             [
              0.2222222222222222,
              "#7201a8"
             ],
             [
              0.3333333333333333,
              "#9c179e"
             ],
             [
              0.4444444444444444,
              "#bd3786"
             ],
             [
              0.5555555555555556,
              "#d8576b"
             ],
             [
              0.6666666666666666,
              "#ed7953"
             ],
             [
              0.7777777777777778,
              "#fb9f3a"
             ],
             [
              0.8888888888888888,
              "#fdca26"
             ],
             [
              1,
              "#f0f921"
             ]
            ],
            "type": "histogram2dcontour"
           }
          ],
          "mesh3d": [
           {
            "colorbar": {
             "outlinewidth": 0,
             "ticks": ""
            },
            "type": "mesh3d"
           }
          ],
          "parcoords": [
           {
            "line": {
             "colorbar": {
              "outlinewidth": 0,
              "ticks": ""
             }
            },
            "type": "parcoords"
           }
          ],
          "pie": [
           {
            "automargin": true,
            "type": "pie"
           }
          ],
          "scatter": [
           {
            "fillpattern": {
             "fillmode": "overlay",
             "size": 10,
             "solidity": 0.2
            },
            "type": "scatter"
           }
          ],
          "scatter3d": [
           {
            "line": {
             "colorbar": {
              "outlinewidth": 0,
              "ticks": ""
             }
            },
            "marker": {
             "colorbar": {
              "outlinewidth": 0,
              "ticks": ""
             }
            },
            "type": "scatter3d"
           }
          ],
          "scattercarpet": [
           {
            "marker": {
             "colorbar": {
              "outlinewidth": 0,
              "ticks": ""
             }
            },
            "type": "scattercarpet"
           }
          ],
          "scattergeo": [
           {
            "marker": {
             "colorbar": {
              "outlinewidth": 0,
              "ticks": ""
             }
            },
            "type": "scattergeo"
           }
          ],
          "scattergl": [
           {
            "marker": {
             "colorbar": {
              "outlinewidth": 0,
              "ticks": ""
             }
            },
            "type": "scattergl"
           }
          ],
          "scattermapbox": [
           {
            "marker": {
             "colorbar": {
              "outlinewidth": 0,
              "ticks": ""
             }
            },
            "type": "scattermapbox"
           }
          ],
          "scatterpolar": [
           {
            "marker": {
             "colorbar": {
              "outlinewidth": 0,
              "ticks": ""
             }
            },
            "type": "scatterpolar"
           }
          ],
          "scatterpolargl": [
           {
            "marker": {
             "colorbar": {
              "outlinewidth": 0,
              "ticks": ""
             }
            },
            "type": "scatterpolargl"
           }
          ],
          "scatterternary": [
           {
            "marker": {
             "colorbar": {
              "outlinewidth": 0,
              "ticks": ""
             }
            },
            "type": "scatterternary"
           }
          ],
          "surface": [
           {
            "colorbar": {
             "outlinewidth": 0,
             "ticks": ""
            },
            "colorscale": [
             [
              0,
              "#0d0887"
             ],
             [
              0.1111111111111111,
              "#46039f"
             ],
             [
              0.2222222222222222,
              "#7201a8"
             ],
             [
              0.3333333333333333,
              "#9c179e"
             ],
             [
              0.4444444444444444,
              "#bd3786"
             ],
             [
              0.5555555555555556,
              "#d8576b"
             ],
             [
              0.6666666666666666,
              "#ed7953"
             ],
             [
              0.7777777777777778,
              "#fb9f3a"
             ],
             [
              0.8888888888888888,
              "#fdca26"
             ],
             [
              1,
              "#f0f921"
             ]
            ],
            "type": "surface"
           }
          ],
          "table": [
           {
            "cells": {
             "fill": {
              "color": "#EBF0F8"
             },
             "line": {
              "color": "white"
             }
            },
            "header": {
             "fill": {
              "color": "#C8D4E3"
             },
             "line": {
              "color": "white"
             }
            },
            "type": "table"
           }
          ]
         },
         "layout": {
          "annotationdefaults": {
           "arrowcolor": "#2a3f5f",
           "arrowhead": 0,
           "arrowwidth": 1
          },
          "autotypenumbers": "strict",
          "coloraxis": {
           "colorbar": {
            "outlinewidth": 0,
            "ticks": ""
           }
          },
          "colorscale": {
           "diverging": [
            [
             0,
             "#8e0152"
            ],
            [
             0.1,
             "#c51b7d"
            ],
            [
             0.2,
             "#de77ae"
            ],
            [
             0.3,
             "#f1b6da"
            ],
            [
             0.4,
             "#fde0ef"
            ],
            [
             0.5,
             "#f7f7f7"
            ],
            [
             0.6,
             "#e6f5d0"
            ],
            [
             0.7,
             "#b8e186"
            ],
            [
             0.8,
             "#7fbc41"
            ],
            [
             0.9,
             "#4d9221"
            ],
            [
             1,
             "#276419"
            ]
           ],
           "sequential": [
            [
             0,
             "#0d0887"
            ],
            [
             0.1111111111111111,
             "#46039f"
            ],
            [
             0.2222222222222222,
             "#7201a8"
            ],
            [
             0.3333333333333333,
             "#9c179e"
            ],
            [
             0.4444444444444444,
             "#bd3786"
            ],
            [
             0.5555555555555556,
             "#d8576b"
            ],
            [
             0.6666666666666666,
             "#ed7953"
            ],
            [
             0.7777777777777778,
             "#fb9f3a"
            ],
            [
             0.8888888888888888,
             "#fdca26"
            ],
            [
             1,
             "#f0f921"
            ]
           ],
           "sequentialminus": [
            [
             0,
             "#0d0887"
            ],
            [
             0.1111111111111111,
             "#46039f"
            ],
            [
             0.2222222222222222,
             "#7201a8"
            ],
            [
             0.3333333333333333,
             "#9c179e"
            ],
            [
             0.4444444444444444,
             "#bd3786"
            ],
            [
             0.5555555555555556,
             "#d8576b"
            ],
            [
             0.6666666666666666,
             "#ed7953"
            ],
            [
             0.7777777777777778,
             "#fb9f3a"
            ],
            [
             0.8888888888888888,
             "#fdca26"
            ],
            [
             1,
             "#f0f921"
            ]
           ]
          },
          "colorway": [
           "#636efa",
           "#EF553B",
           "#00cc96",
           "#ab63fa",
           "#FFA15A",
           "#19d3f3",
           "#FF6692",
           "#B6E880",
           "#FF97FF",
           "#FECB52"
          ],
          "font": {
           "color": "#2a3f5f"
          },
          "geo": {
           "bgcolor": "white",
           "lakecolor": "white",
           "landcolor": "#E5ECF6",
           "showlakes": true,
           "showland": true,
           "subunitcolor": "white"
          },
          "hoverlabel": {
           "align": "left"
          },
          "hovermode": "closest",
          "mapbox": {
           "style": "light"
          },
          "paper_bgcolor": "white",
          "plot_bgcolor": "#E5ECF6",
          "polar": {
           "angularaxis": {
            "gridcolor": "white",
            "linecolor": "white",
            "ticks": ""
           },
           "bgcolor": "#E5ECF6",
           "radialaxis": {
            "gridcolor": "white",
            "linecolor": "white",
            "ticks": ""
           }
          },
          "scene": {
           "xaxis": {
            "backgroundcolor": "#E5ECF6",
            "gridcolor": "white",
            "gridwidth": 2,
            "linecolor": "white",
            "showbackground": true,
            "ticks": "",
            "zerolinecolor": "white"
           },
           "yaxis": {
            "backgroundcolor": "#E5ECF6",
            "gridcolor": "white",
            "gridwidth": 2,
            "linecolor": "white",
            "showbackground": true,
            "ticks": "",
            "zerolinecolor": "white"
           },
           "zaxis": {
            "backgroundcolor": "#E5ECF6",
            "gridcolor": "white",
            "gridwidth": 2,
            "linecolor": "white",
            "showbackground": true,
            "ticks": "",
            "zerolinecolor": "white"
           }
          },
          "shapedefaults": {
           "line": {
            "color": "#2a3f5f"
           }
          },
          "ternary": {
           "aaxis": {
            "gridcolor": "white",
            "linecolor": "white",
            "ticks": ""
           },
           "baxis": {
            "gridcolor": "white",
            "linecolor": "white",
            "ticks": ""
           },
           "bgcolor": "#E5ECF6",
           "caxis": {
            "gridcolor": "white",
            "linecolor": "white",
            "ticks": ""
           }
          },
          "title": {
           "x": 0.05
          },
          "xaxis": {
           "automargin": true,
           "gridcolor": "white",
           "linecolor": "white",
           "ticks": "",
           "title": {
            "standoff": 15
           },
           "zerolinecolor": "white",
           "zerolinewidth": 2
          },
          "yaxis": {
           "automargin": true,
           "gridcolor": "white",
           "linecolor": "white",
           "ticks": "",
           "title": {
            "standoff": 15
           },
           "zerolinecolor": "white",
           "zerolinewidth": 2
          }
         }
        },
        "title": {
         "text": "3D PCA Projection of Day Representations Across All Layers"
        },
        "updatemenus": [
         {
          "buttons": [
           {
            "args": [
             null,
             {
              "frame": {
               "duration": 500,
               "redraw": true
              },
              "fromcurrent": true
             }
            ],
            "label": "Play",
            "method": "animate"
           }
          ],
          "showactive": false,
          "type": "buttons"
         }
        ],
        "width": 800
       }
      }
     },
     "metadata": {},
     "output_type": "display_data"
    }
   ],
   "source": [
    "def plot_pca_from_df(df):\n",
    "    num_layers = df['Layer'].nunique()\n",
    "    entries = df['Entry'].unique()\n",
    "    \n",
    "    # Generate colors dynamically based on number of entries\n",
    "    n_colors = len(entries)\n",
    "    colors = [f'hsl({h},70%,50%)' for h in np.linspace(0, 360, n_colors, endpoint=False)]\n",
    "    \n",
    "    # Create figure with slider\n",
    "    fig = go.Figure()\n",
    "    \n",
    "    # Calculate axis ranges across all layers\n",
    "    x_min, x_max = df['PCA1'].min(), df['PCA1'].max()\n",
    "    y_min, y_max = df['PCA2'].min(), df['PCA2'].max() \n",
    "    z_min, z_max = df['PCA3'].min(), df['PCA3'].max()\n",
    "    \n",
    "    # Create frames for each layer\n",
    "    frames = []\n",
    "    for layer_num in range(num_layers):\n",
    "        frame_traces = []\n",
    "        layer_data = df[df['Layer'] == layer_num]\n",
    "        \n",
    "        for entry, color in zip(entries, colors):\n",
    "            entry_data = layer_data[layer_data['Entry'] == entry]\n",
    "            frame_traces.append(\n",
    "                go.Scatter3d(\n",
    "                    x=[entry_data['PCA1'].iloc[0]],\n",
    "                    y=[entry_data['PCA2'].iloc[0]],\n",
    "                    z=[entry_data['PCA3'].iloc[0]],\n",
    "                    mode='markers',\n",
    "                    marker=dict(color=color, size=5, opacity=0.7),\n",
    "                    name=f\"{entry} - Layer {layer_num}\",\n",
    "                    showlegend=True\n",
    "                )\n",
    "            )\n",
    "        frames.append(go.Frame(data=frame_traces, name=str(layer_num)))\n",
    "    \n",
    "    # Add frames to figure\n",
    "    fig.frames = frames\n",
    "    \n",
    "    # Add first frame's traces to the figure\n",
    "    for trace in frames[0].data:\n",
    "        fig.add_trace(trace)\n",
    "\n",
    "    # Update layout\n",
    "    fig.update_layout(\n",
    "        height=800,\n",
    "        width=800,\n",
    "        title_text=\"3D PCA Projection of Day Representations Across All Layers\",\n",
    "        scene=dict(\n",
    "            xaxis=dict(range=[x_min, x_max], title=\"PCA1\"),\n",
    "            yaxis=dict(range=[y_min, y_max], title=\"PCA2\"),\n",
    "            zaxis=dict(range=[z_min, z_max], title=\"PCA3\"),\n",
    "            aspectmode='cube',\n",
    "            camera=dict(\n",
    "                up=dict(x=0, y=0, z=1),\n",
    "                center=dict(x=0, y=0, z=0),\n",
    "                eye=dict(x=1.5, y=1.5, z=1.5)\n",
    "            )\n",
    "        ),\n",
    "        showlegend=True,\n",
    "        updatemenus=[{\n",
    "            'type': 'buttons',\n",
    "            'showactive': False,\n",
    "            'buttons': [{\n",
    "                'label': 'Play',\n",
    "                'method': 'animate',\n",
    "                'args': [None, {'frame': {'duration': 500, 'redraw': True}, 'fromcurrent': True}]\n",
    "            }]\n",
    "        }],\n",
    "        sliders=[{\n",
    "            'currentvalue': {'prefix': 'Layer: '},\n",
    "            'steps': [\n",
    "                {\n",
    "                    'method': 'animate',\n",
    "                    'label': str(k),\n",
    "                    'args': [[str(k)], {\n",
    "                        'frame': {'duration': 0, 'redraw': True},\n",
    "                        'mode': 'immediate',\n",
    "                        'transition': {'duration': 0}\n",
    "                    }]\n",
    "                }\n",
    "                for k in range(num_layers)\n",
    "            ]\n",
    "        }]\n",
    "    )\n",
    "    \n",
    "    fig.show()\n",
    "\n",
    "# Use the function\n",
    "plot_pca_from_df(df_aligned)\n"
   ]
  }
 ],
 "metadata": {
  "kernelspec": {
   "display_name": "Python 3",
   "language": "python",
   "name": "python3"
  },
  "language_info": {
   "codemirror_mode": {
    "name": "ipython",
    "version": 3
   },
   "file_extension": ".py",
   "mimetype": "text/x-python",
   "name": "python",
   "nbconvert_exporter": "python",
   "pygments_lexer": "ipython3",
   "version": "3.13.0"
  }
 },
 "nbformat": 4,
 "nbformat_minor": 2
}
